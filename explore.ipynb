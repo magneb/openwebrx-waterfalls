{
 "cells": [
  {
   "cell_type": "markdown",
   "metadata": {},
   "source": [
    "# Exploring Open Web RX waterfall data\n",
    "An exercise in data aquisition and signals processing.\n",
    "\n",
    "## Metadata collection\n",
    "\n",
    "First off we will select a site and get some metadata to assess if we can use it."
   ]
  },
  {
   "cell_type": "code",
   "execution_count": null,
   "metadata": {},
   "outputs": [],
   "source": [
    "# Lets explore some open web rx data.\n",
    "# we could visit and scrape https://www.receiverbook.de/?type=openwebrx for links... \n",
    "# but lets leave that for later and go straight to a single source. \n",
    "\n",
    "import json\n",
    "import httpx\n",
    "\n",
    "# \"randomly\" chosen openwebrx site\n",
    "site = \"https://2.websdr.jestok.com\"\n",
    "\n",
    "# Let's fetch the features of the site first\n",
    "result = httpx.get(site + \"/api/features\")\n",
    "result.raise_for_status()\n",
    "features = result.json()"
   ]
  },
  {
   "cell_type": "code",
   "execution_count": 2,
   "metadata": {},
   "outputs": [
    {
     "data": {
      "text/plain": [
       "{'core': {'available': True,\n",
       "  'requirements': {'csdr': {'available': True,\n",
       "    'enabled': True,\n",
       "    'description': 'OpenWebRX uses the demodulator and pipeline tools provided by the\\n[CSDR](https://github.com/jketterl/csdr) project. In addition, the\\n[PyCSDR](https://github.com/jketterl/pycsdr) must be installed to\\nprovide CSDR Python bindings. The `python3-csdr` package, found in\\nthe OpenWebRX repositories, should be all you need. Do not forget\\nto restart OpenWebRX after installing this package.'}}},\n",
       " 'rtl_sdr': {'available': True,\n",
       "  'requirements': {'rtl_connector': {'available': True,\n",
       "    'enabled': True,\n",
       "    'description': 'The [OWRX Connector](https://github.com/jketterl/owrx_connector)\\nprovides direct interfacing between RTL-SDR hardware and OpenWebRX.\\nYou can install the `owrx-connector` package from the OpenWebRX\\nrepositories.'}}},\n",
       " 'rtl_sdr_soapy': {'available': False,\n",
       "  'requirements': {'soapy_connector': {'available': True,\n",
       "    'enabled': True,\n",
       "    'description': 'The [OWRX Connector](https://github.com/jketterl/owrx_connector)\\nprovides direct interfacing between Soapy SDR API and OpenWebRX.\\nYou can install the `owrx-connector` package from the OpenWebRX\\nrepositories.'},\n",
       "   'soapy_rtl_sdr': {'available': False,\n",
       "    'enabled': False,\n",
       "    'description': 'The [SoapySDR module for RTL-SDR](https://github.com/pothosware/SoapyRTLSDR/wiki)\\ndevices can be used as an alternative to the rtl_connector. It\\nprovides additional support for the direct sampling mode. The\\n`soapysdr-module-rtlsdr` package is available in most Linux\\ndistributions.'}}},\n",
       " 'rtl_tcp': {'available': True,\n",
       "  'requirements': {'rtl_tcp_connector': {'available': True,\n",
       "    'enabled': True,\n",
       "    'description': 'The [OWRX Connector](https://github.com/jketterl/owrx_connector)\\nprovides direct interfacing between networked RTL-SDR hardware and\\nOpenWebRX. You can install the `owrx-connector` package from the\\nOpenWebRX repositories.'}}},\n",
       " 'sdrplay': {'available': True,\n",
       "  'requirements': {'soapy_connector': {'available': True,\n",
       "    'enabled': True,\n",
       "    'description': 'The [OWRX Connector](https://github.com/jketterl/owrx_connector)\\nprovides direct interfacing between Soapy SDR API and OpenWebRX.\\nYou can install the `owrx-connector` package from the OpenWebRX\\nrepositories.'},\n",
       "   'soapy_sdrplay': {'available': True,\n",
       "    'enabled': True,\n",
       "    'description': 'The [SoapySDR module for SDRPlay](https://github.com/SDRplay/SoapySDRPlay)\\ndevices is required for interfacing with SDRPlay devices (RSP1*, RSP2*,\\nRSPdx, RSPduo, etc). You can install the `soapysdr-module-sdrplay3`\\npackage from the OpenWebRX+ repositories. You will also need to\\nmanually install the latest\\n[SDRPlay APIv3 library](https://www.sdrplay.com/api/)\\nfrom the manufacturer.'}}},\n",
       " 'mirics': {'available': False,\n",
       "  'requirements': {'soapy_connector': {'available': True,\n",
       "    'enabled': True,\n",
       "    'description': 'The [OWRX Connector](https://github.com/jketterl/owrx_connector)\\nprovides direct interfacing between Soapy SDR API and OpenWebRX.\\nYou can install the `owrx-connector` package from the OpenWebRX\\nrepositories.'},\n",
       "   'soapy_mirics': {'available': False,\n",
       "    'enabled': False,\n",
       "    'description': 'The [SoapySDR module for Mirics](https://github.com/ericek111/SoapyMiri)\\ndevices is required for interfacing with Mirics-based hardware\\n(MSi001 + MSi2500). You will also need to install the\\n[libmirisdr-5](https://github.com/ericek111/libmirisdr-5)\\nlibrary.'}}},\n",
       " 'hackrf': {'available': False,\n",
       "  'requirements': {'soapy_connector': {'available': True,\n",
       "    'enabled': True,\n",
       "    'description': 'The [OWRX Connector](https://github.com/jketterl/owrx_connector)\\nprovides direct interfacing between Soapy SDR API and OpenWebRX.\\nYou can install the `owrx-connector` package from the OpenWebRX\\nrepositories.'},\n",
       "   'soapy_hackrf': {'available': False,\n",
       "    'enabled': False,\n",
       "    'description': 'The [SoapyHackRF](https://github.com/pothosware/SoapyHackRF/wiki)\\nmodule allows HackRF to be used with SoapySDR. The\\n`soapysdr-module-hackrf` package is available in most\\nLinux distributions.'}}},\n",
       " 'perseussdr': {'available': False,\n",
       "  'requirements': {'perseustest': {'available': False,\n",
       "    'enabled': False,\n",
       "    'description': 'To use the Microtelecom Perseus HF receiver,\\n[download](https://github.com/Microtelecom/libperseus-sdr/releases/download/v0.8.2/libperseus_sdr-0.8.2.tar.gz),\\ncompile and install the `libperseus-sdr` library and tools:\\n```\\n sudo apt install libusb-1.0-0-dev\\n tar -zxvf libperseus_sdr-0.8.2.tar.gz\\n cd libperseus_sdr-0.8.2/\\n ./configure\\n make\\n sudo make install\\n sudo ldconfig\\n perseustest\\n```'},\n",
       "   'nmux': {'available': True,\n",
       "    'enabled': True,\n",
       "    'description': 'Nmux is a tool provided by the\\n[CSDR](https://github.com/jketterl/csdr) project and used for\\nthe internal multiplexing of IQ data streams. You can install\\nthe `nmux` package from the OpenWebRX repositories.'}}},\n",
       " 'airspy': {'available': False,\n",
       "  'requirements': {'soapy_connector': {'available': True,\n",
       "    'enabled': True,\n",
       "    'description': 'The [OWRX Connector](https://github.com/jketterl/owrx_connector)\\nprovides direct interfacing between Soapy SDR API and OpenWebRX.\\nYou can install the `owrx-connector` package from the OpenWebRX\\nrepositories.'},\n",
       "   'soapy_airspy': {'available': False,\n",
       "    'enabled': False,\n",
       "    'description': 'The [SoapySDR module for Airspy](https://github.com/pothosware/SoapyAirspy/wiki)\\ndevices is required for interfacing with Airspy devices (Airspy\\nR2, Airspy Mini, etc). The `soapysdr-module-airspy` package is\\navailable in most Linux distributions.'}}},\n",
       " 'airspyhf': {'available': False,\n",
       "  'requirements': {'soapy_connector': {'available': True,\n",
       "    'enabled': True,\n",
       "    'description': 'The [OWRX Connector](https://github.com/jketterl/owrx_connector)\\nprovides direct interfacing between Soapy SDR API and OpenWebRX.\\nYou can install the `owrx-connector` package from the OpenWebRX\\nrepositories.'},\n",
       "   'soapy_airspyhf': {'available': False,\n",
       "    'enabled': False,\n",
       "    'description': 'The [SoapySDR module for AirspyHF](https://github.com/pothosware/SoapyAirspyHF/wiki)\\ndevices is required for interfacing with Airspy HF devices\\n(Airspy HF+, Airspy HF Discovery, etc).'}}},\n",
       " 'afedri': {'available': False,\n",
       "  'requirements': {'soapy_connector': {'available': True,\n",
       "    'enabled': True,\n",
       "    'description': 'The [OWRX Connector](https://github.com/jketterl/owrx_connector)\\nprovides direct interfacing between Soapy SDR API and OpenWebRX.\\nYou can install the `owrx-connector` package from the OpenWebRX\\nrepositories.'},\n",
       "   'soapy_afedri': {'available': False,\n",
       "    'enabled': False,\n",
       "    'description': 'The [SoapyAfedri](https://github.com/alexander-sholohov/SoapyAfedri)\\nmodule allows using Afedri SDR-Net devices with SoapySDR.'}}},\n",
       " 'lime_sdr': {'available': False,\n",
       "  'requirements': {'soapy_connector': {'available': True,\n",
       "    'enabled': True,\n",
       "    'description': 'The [OWRX Connector](https://github.com/jketterl/owrx_connector)\\nprovides direct interfacing between Soapy SDR API and OpenWebRX.\\nYou can install the `owrx-connector` package from the OpenWebRX\\nrepositories.'},\n",
       "   'soapy_lime_sdr': {'available': False,\n",
       "    'enabled': False,\n",
       "    'description': 'The [Lime Suite](https://github.com/myriadrf/LimeSuite)\\ninstalls, among other things, a SoapySDR driver for the\\nLimeSDR device series.'}}},\n",
       " 'fifi_sdr': {'available': False,\n",
       "  'requirements': {'alsa': {'available': False,\n",
       "    'enabled': False,\n",
       "    'description': 'Some SDR receivers identify themselves as sound cards. OpenWebRX relies\\non the ALSA library to access such receivers. It can be obtained by\\ninstalling the `alsa-utils` package in most Linux distributions.'},\n",
       "   'rockprog': {'available': False,\n",
       "    'enabled': False,\n",
       "    'description': 'The `rockprog` executable is required to interface with FiFiSDR\\ndevices. You can download and install it from\\n[here](https://o28.sischa.net/fifisdr/trac/wiki/De%3Arockprog).'},\n",
       "   'nmux': {'available': True,\n",
       "    'enabled': True,\n",
       "    'description': 'Nmux is a tool provided by the\\n[CSDR](https://github.com/jketterl/csdr) project and used for\\nthe internal multiplexing of IQ data streams. You can install\\nthe `nmux` package from the OpenWebRX repositories.'}}},\n",
       " 'pluto_sdr': {'available': False,\n",
       "  'requirements': {'soapy_connector': {'available': True,\n",
       "    'enabled': True,\n",
       "    'description': 'The [OWRX Connector](https://github.com/jketterl/owrx_connector)\\nprovides direct interfacing between Soapy SDR API and OpenWebRX.\\nYou can install the `owrx-connector` package from the OpenWebRX\\nrepositories.'},\n",
       "   'soapy_pluto_sdr': {'available': False,\n",
       "    'enabled': False,\n",
       "    'description': 'The [SoapySDR module for PlutoSDR](https://github.com/pothosware/SoapyPlutoSDR)\\ndevices is required for interfacing with PlutoSDR devices.'}}},\n",
       " 'soapy_remote': {'available': False,\n",
       "  'requirements': {'soapy_connector': {'available': True,\n",
       "    'enabled': True,\n",
       "    'description': 'The [OWRX Connector](https://github.com/jketterl/owrx_connector)\\nprovides direct interfacing between Soapy SDR API and OpenWebRX.\\nYou can install the `owrx-connector` package from the OpenWebRX\\nrepositories.'},\n",
       "   'soapy_remote': {'available': False,\n",
       "    'enabled': False,\n",
       "    'description': 'The [SoapyRemote](https://github.com/pothosware/SoapyRemote/wiki)\\nallows the usage of remote SDR devices using the SoapySDRServer.'}}},\n",
       " 'uhd': {'available': False,\n",
       "  'requirements': {'soapy_connector': {'available': True,\n",
       "    'enabled': True,\n",
       "    'description': 'The [OWRX Connector](https://github.com/jketterl/owrx_connector)\\nprovides direct interfacing between Soapy SDR API and OpenWebRX.\\nYou can install the `owrx-connector` package from the OpenWebRX\\nrepositories.'},\n",
       "   'soapy_uhd': {'available': False,\n",
       "    'enabled': False,\n",
       "    'description': 'The [SoapyUHD](https://github.com/pothosware/SoapyUHD/wiki)\\nmodule allows using UHD / USRP devices with SoapySDR. The\\n`soapysdr-module-uhd` package is available in most Linux\\ndistributions.'}}},\n",
       " 'radioberry': {'available': False,\n",
       "  'requirements': {'soapy_connector': {'available': True,\n",
       "    'enabled': True,\n",
       "    'description': 'The [OWRX Connector](https://github.com/jketterl/owrx_connector)\\nprovides direct interfacing between Soapy SDR API and OpenWebRX.\\nYou can install the `owrx-connector` package from the OpenWebRX\\nrepositories.'},\n",
       "   'soapy_radioberry': {'available': False,\n",
       "    'enabled': False,\n",
       "    'description': 'The Radioberry is an SDR extension board for the Raspberry Pi.\\nMore information, along with a SoapySDR module, is available\\nat the\\n[Radioberry GitHub page](https://github.com/pa3gsb/Radioberry-2.x).'}}},\n",
       " 'fcdpp': {'available': False,\n",
       "  'requirements': {'soapy_connector': {'available': True,\n",
       "    'enabled': True,\n",
       "    'description': 'The [OWRX Connector](https://github.com/jketterl/owrx_connector)\\nprovides direct interfacing between Soapy SDR API and OpenWebRX.\\nYou can install the `owrx-connector` package from the OpenWebRX\\nrepositories.'},\n",
       "   'soapy_fcdpp': {'available': False,\n",
       "    'enabled': False,\n",
       "    'description': 'The [SoapyFCDPP](https://github.com/pothosware/SoapyFCDPP)\\nmodule allows to use Funcube Dongle Pro+ with SoapySDR.'}}},\n",
       " 'bladerf': {'available': False,\n",
       "  'requirements': {'soapy_connector': {'available': True,\n",
       "    'enabled': True,\n",
       "    'description': 'The [OWRX Connector](https://github.com/jketterl/owrx_connector)\\nprovides direct interfacing between Soapy SDR API and OpenWebRX.\\nYou can install the `owrx-connector` package from the OpenWebRX\\nrepositories.'},\n",
       "   'soapy_bladerf': {'available': False,\n",
       "    'enabled': False,\n",
       "    'description': 'The [SoapyBladeRF](https://github.com/pothosware/SoapyBladeRF)\\nmodule allows to use BladeRF devices with SoapySDR. The\\n`soapysdr-module-bladerf` package is available in most\\nLinux distributions.'}}},\n",
       " 'sddc': {'available': False,\n",
       "  'requirements': {'sddc_connector': {'available': False,\n",
       "    'enabled': False,\n",
       "    'description': 'The [SDDC Connector](https://github.com/jketterl/sddc_connector)\\nallows connectivity with SDR devices powered by the `libsddc`\\nlibrary, such as RX666, RX888, HF103, etc.'}}},\n",
       " 'sddc_soapy': {'available': False,\n",
       "  'requirements': {'soapy_connector': {'available': True,\n",
       "    'enabled': True,\n",
       "    'description': 'The [OWRX Connector](https://github.com/jketterl/owrx_connector)\\nprovides direct interfacing between Soapy SDR API and OpenWebRX.\\nYou can install the `owrx-connector` package from the OpenWebRX\\nrepositories.'},\n",
       "   'soapy_sddc': {'available': False,\n",
       "    'enabled': False,\n",
       "    'description': 'The [SoapySDR module for SDDC](https://github.com/ik1xpv/ExtIO_sddc)\\ndevices can be used as an alternative to the `sddc_connector`, enabling\\nconnectivity with SDR devices such as the RX666, RX888, HF103, etc.\\nUnlike the `sddc_connector`, the SoapySDR module relies solely on the CPU\\nand does not require an NVIDIA GPU.\\nYou will need to compile SoapySDDC from source. Detailed installation\\ninstructions are available on the [OpenWebRX Wiki](https://github.com/jketterl/openwebrx/wiki/SDDC-device-notes).'}}},\n",
       " 'hpsdr': {'available': True,\n",
       "  'requirements': {'hpsdr_connector': {'available': True,\n",
       "    'enabled': True,\n",
       "    'description': 'The [HPSDR Connector](https://github.com/jancona/hpsdrconnector)\\nis required to interface OpenWebRX with Hermes Lite 2, Red Pitaya,\\nand similar networked SDR devices. You can install the\\n`hpsdrconnector` package from the OpenWebRX repositories.'}}},\n",
       " 'runds': {'available': True,\n",
       "  'requirements': {'runds_connector': {'available': True,\n",
       "    'enabled': True,\n",
       "    'description': 'The [RunDS Connector](https://github.com/jketterl/runds_connector)\\nallows using R&S radios via EB200 or Ammos.'}}},\n",
       " 'digital_voice_digiham': {'available': False,\n",
       "  'requirements': {'digiham': {'available': True,\n",
       "    'enabled': True,\n",
       "    'description': 'OpenWebRX uses the [DigiHAM](https://github.com/jketterl/digiham)\\nlibrary for the digital voice modes. In addition, the\\n[PyDigiHAM](https://github.com/jketterl/pydigiham) must\\nbe installed to provide DigiHAM Python bindings. The\\n`python3-digiham` package, found in the OpenWebRX\\nrepositories, should be all you need. Do not forget to\\nrestart OpenWebRX after installing this package.'},\n",
       "   'codecserver_ambe': {'available': False,\n",
       "    'enabled': False,\n",
       "    'description': 'The [CodecServer](https://github.com/jketterl/codecserver) is used to decode\\naudio data from digital voice modes using the AMBE codec. This feature checks\\nfor both the `codecserver` executable and the configured AMBE codec. The\\n`codecserver` package can be found in the OpenWebRX repositories.'}}},\n",
       " 'digital_voice_freedv': {'available': False,\n",
       "  'requirements': {'freedv_rx': {'available': False,\n",
       "    'enabled': False,\n",
       "    'description': \"The `freedv_rx` executable is required to demodulate FreeDV digital\\ntransmissions. It comes as part of the `codec2` library build, but is\\nnot installed by default or contained inside the `codec2` packages.\\n\\nTo obtain it, you will have to compile 'codec2' from the sources and\\nthen manually install `freedv_rx`. The detailed installation\\ninstructions are available from the\\n[OpenWebRX Wiki](https://github.com/jketterl/openwebrx/wiki/FreeDV-demodulator-notes).\"}}},\n",
       " 'digital_voice_m17': {'available': True,\n",
       "  'requirements': {'m17_demod': {'available': True,\n",
       "    'enabled': True,\n",
       "    'description': 'OpenWebRX uses the [M17 Demodulator](https://github.com/mobilinkd/m17-cxx-demod)\\nto demodulate M17 digital voice signals. You can install the\\n`m17-demod` package from the OpenWebRX repositories.'}}},\n",
       " 'wsjt-x': {'available': True,\n",
       "  'requirements': {'wsjtx': {'available': True,\n",
       "    'enabled': True,\n",
       "    'description': 'OpenWebRX uses the [WSJT-X](https://wsjt.sourceforge.io/) software\\nsuite to decode FT8 and other digital modes. The `wsjtx` package is\\navailable in most Linux distributions.'}}},\n",
       " 'wsjt-x-2-3': {'available': True,\n",
       "  'requirements': {'wsjtx_2_3': {'available': True,\n",
       "    'enabled': True,\n",
       "    'description': 'Newer digital modes (e.g. FST4, FST4) require\\n[WSJT-X](https://wsjt.sourceforge.io/) version 2.3 or higher.\\nUse the latest `wsjtx` package available in your Linux distribution.'}}},\n",
       " 'wsjt-x-2-4': {'available': False,\n",
       "  'requirements': {'wsjtx_2_4': {'available': False,\n",
       "    'enabled': False,\n",
       "    'description': 'The Q65 digital mode requires\\n[WSJT-X](https://wsjt.sourceforge.io/) version 2.4 or higher.\\nUse the latest `wsjtx` package available in your Linux distribution.'}}},\n",
       " 'msk144': {'available': False,\n",
       "  'requirements': {'msk144decoder': {'available': False,\n",
       "    'enabled': False,\n",
       "    'description': 'OpenWebRX uses the\\n[MSK144 Decoder](https://github.com/alexander-sholohov/msk144decoder)\\nto decode the MSK144 digital mode. You can install the\\n`msk144decoder` package from the OpenWebRX repositories.'}}},\n",
       " 'packet': {'available': True,\n",
       "  'requirements': {'direwolf': {'available': True,\n",
       "    'enabled': True,\n",
       "    'description': 'OpenWebRX uses the [Direwolf](https://github.com/wb2osz/direwolf)\\nsoftware modem to decode Packet Radio and report data back to APRS-IS.\\nThe same software is also used to decode maritime AIS transmissions.\\nThe `direwolf` package is available in most Linux distributions.'}}},\n",
       " 'pocsag': {'available': True,\n",
       "  'requirements': {'digiham': {'available': True,\n",
       "    'enabled': True,\n",
       "    'description': 'OpenWebRX uses the [DigiHAM](https://github.com/jketterl/digiham)\\nlibrary for the digital voice modes. In addition, the\\n[PyDigiHAM](https://github.com/jketterl/pydigiham) must\\nbe installed to provide DigiHAM Python bindings. The\\n`python3-digiham` package, found in the OpenWebRX\\nrepositories, should be all you need. Do not forget to\\nrestart OpenWebRX after installing this package.'}}},\n",
       " 'js8call': {'available': True,\n",
       "  'requirements': {'js8': {'available': True,\n",
       "    'enabled': True,\n",
       "    'description': 'OpenWebRX uses the [JS8Call](http://js8call.com/) software\\nto decode JS8 communications. The `js8call` package is\\navailable in most Linux distributions.\\n\\nPlease note that the `js8` command line decoder is not added\\nto the $PATH variable by some JS8Call package builds. You may\\nhave to make a link to it from the `/usr/bin` folder or add\\nits location to the $PATH variable.'},\n",
       "   'js8py': {'available': True,\n",
       "    'enabled': True,\n",
       "    'description': 'OpenWebRX uses the [JS8Py](https://github.com/jketterl/js8py)\\nlibrary to decode binary JS8 messages into readable text. You\\ncan install the `python3-js8py` package from the OpenWebRX\\nrepositories. Do not forget to restart OpenWebRX after\\ninstalling this package.'}}},\n",
       " 'drm': {'available': True,\n",
       "  'requirements': {'dream': {'available': True,\n",
       "    'enabled': True,\n",
       "    'description': 'OpenWebRX uses the [Dream](https://sourceforge.net/projects/drm/)\\nsoftware to decode DRM broadcasts. The default version of Dream,\\nsupplied in most Linux distributions, will not work with OpenWebRX,\\nso you will have to compile Dream from the sources. The detailed\\ninstallation instructions are available from the\\n[OpenWebRX Wiki](https://github.com/jketterl/openwebrx/wiki/DRM-demodulator-notes).'}}},\n",
       " 'adsb': {'available': True,\n",
       "  'requirements': {'dump1090': {'available': True,\n",
       "    'enabled': True,\n",
       "    'description': 'OpenWebRX supports decoding Mode-S and ADS-B airplane communications by using the\\n[Dump1090](https://github.com/flightaware/dump1090) decoder. You can install the\\n`dump1090-fa-minimal` package from the OpenWebRX repositories.\\n\\nWhile there exist many Dump1090 forks, any version that supports `--ifile` and\\n`--iformat` arguments will work. We recommend using the\\n[Dump1090 by FlightAware](https://github.com/flightaware/dump1090).\\nIf you are using a different fork, please make sure that the `dump1090` command\\n(without suffixes) runs the desired version. You can use symbolic links or the\\n[Debian alternatives system](https://wiki.debian.org/DebianAlternatives) to\\nachieve this.'}}},\n",
       " 'ism': {'available': True,\n",
       "  'requirements': {'rtl_433': {'available': True,\n",
       "    'enabled': True,\n",
       "    'description': 'OpenWebRX supports decoding ISM signals from various sensors\\nby using the [RTL-433](https://github.com/merbanan/rtl_433)\\ndecoder suite. The `rtl-433` package is available in most Linux\\ndistributions.'}}},\n",
       " 'hfdl': {'available': True,\n",
       "  'requirements': {'dumphfdl': {'available': True,\n",
       "    'enabled': True,\n",
       "    'description': 'OpenWebRX supports decoding HFDL airplane communications by using the\\n[DumpHFDL](https://github.com/szpajder/dumphfdl) decoder. You can\\ninstall the `dumphfdl` package from the OpenWebRX repositories.'}}},\n",
       " 'vdl2': {'available': True,\n",
       "  'requirements': {'dumpvdl2': {'available': True,\n",
       "    'enabled': True,\n",
       "    'description': 'OpenWebRX supports decoding VDL Mode 2 airplane communications by using the\\n[DumpVDL2](https://github.com/szpajder/dumpvdl2) decoder. You can\\ninstall the `dumpvdl2` package from the OpenWebRX repositories.'}}},\n",
       " 'acars': {'available': True,\n",
       "  'requirements': {'acarsdec': {'available': True,\n",
       "    'enabled': True,\n",
       "    'description': 'OpenWebRX supports decoding ACARS airplane communications by using the\\n[AcarsDec](https://github.com/TLeconte/acarsdec) decoder. You can\\ninstall the `acarsdec` package from the OpenWebRX repositories.'}}},\n",
       " 'page': {'available': True,\n",
       "  'requirements': {'multimon': {'available': True,\n",
       "    'enabled': True,\n",
       "    'description': 'OpenWebRX supports decoding FLEX, POCSAG, and several other digital modes\\nby using the [MultiMon-NG](https://github.com/EliasOenal/multimon-ng)\\ndecoder suite. The `multimon-ng` package is available in most Linux\\ndistributions.'}}},\n",
       " 'selcall': {'available': True,\n",
       "  'requirements': {'multimon': {'available': True,\n",
       "    'enabled': True,\n",
       "    'description': 'OpenWebRX supports decoding FLEX, POCSAG, and several other digital modes\\nby using the [MultiMon-NG](https://github.com/EliasOenal/multimon-ng)\\ndecoder suite. The `multimon-ng` package is available in most Linux\\ndistributions.'}}},\n",
       " 'eas': {'available': True,\n",
       "  'requirements': {'multimon': {'available': True,\n",
       "    'enabled': True,\n",
       "    'description': 'OpenWebRX supports decoding FLEX, POCSAG, and several other digital modes\\nby using the [MultiMon-NG](https://github.com/EliasOenal/multimon-ng)\\ndecoder suite. The `multimon-ng` package is available in most Linux\\ndistributions.'}}},\n",
       " 'wxsat': {'available': False,\n",
       "  'requirements': {'satdump': {'available': False,\n",
       "    'enabled': False,\n",
       "    'description': 'OpenWebRX uses [SatDump](https://github.com/SatDump/SatDump) software\\nsuite to receive weather satellite transmissions. The `satdump`\\npackages are available from its\\n[homepage](https://github.com/SatDump/SatDump).'}}},\n",
       " 'png': {'available': True,\n",
       "  'requirements': {'imagemagick': {'available': True,\n",
       "    'enabled': True,\n",
       "    'description': 'OpenWebRX converts received images to the PNG format with the\\n[ImageMagick](https://www.imagemagick.org/) tool. The\\n`imagemagick` package is available in most Linux distributions.'}}},\n",
       " 'rds': {'available': True,\n",
       "  'requirements': {'redsea': {'available': True,\n",
       "    'enabled': True,\n",
       "    'description': 'OpenWebRX uses the [RedSea](https://github.com/windytan/redsea)\\ndecoder to obtain the RDS information from WFM broadcasts. You can\\ninstall the `redsea` package from the OpenWebRX repositories.'}}},\n",
       " 'dab': {'available': False,\n",
       "  'requirements': {'csdreti': {'available': False,\n",
       "    'enabled': False,\n",
       "    'description': 'To decode DAB broadcast signals, OpenWebRX needs the ETI decoder from the\\n[`csdr-eti`](https://github.com/jketterl/csdr-eti) project, together with\\nthe associated Python bindings from [`pycsdr-eti`](https://github.com/jketterl/pycsdr-eti).\\nThe `python3-csdr-eti` package, found in the OpenWebRX repositories,\\nshould be all you need. Do not forget to restart OpenWebRX after\\ninstalling this package.'},\n",
       "   'dablin': {'available': True,\n",
       "    'enabled': True,\n",
       "    'description': 'OpenWebRX uses the [Dablin](https://github.com/Opendigitalradio/dablin)\\nsoftware to decode DAB broadcast signals. The `dablin` package is\\navailable in most Linux distributions.'}}},\n",
       " 'mqtt': {'available': True,\n",
       "  'requirements': {'paho_mqtt': {'available': True,\n",
       "    'enabled': True,\n",
       "    'description': 'OpenWebRX uses the [paho-mqtt](https://pypi.org/project/paho-mqtt/)\\nlibrary to send decoded signal data to an MQTT broker for further\\nprocessing by third-party applications. The `python3-paho-mqtt`\\npackage is available in most Linux distributions. Do not forget\\nto restart OpenWebRX after installing this package.'}}},\n",
       " 'hdradio': {'available': True,\n",
       "  'requirements': {'nrsc5': {'available': True,\n",
       "    'enabled': True,\n",
       "    'description': 'OpenWebRX uses the [Nrsc5](https://github.com/theori-io/nrsc5) tool\\nto decode HDRadio broadcasts. You can install the `nrsc5` package\\nfrom the OpenWebRX+ repositories.'}}},\n",
       " 'rigcontrol': {'available': True,\n",
       "  'requirements': {'hamlib': {'available': True,\n",
       "    'enabled': True,\n",
       "    'description': 'OpenWebRX uses the [Hamlib](https://github.com/Hamlib/Hamlib) `rigctl`\\ntool to synchronize frequency and modulation with external transceivers.\\nThe `hamlib` package is available in most Linux distributions.'}}},\n",
       " 'cwskimmer': {'available': True,\n",
       "  'requirements': {'csdr_cwskimmer': {'available': True,\n",
       "    'enabled': True,\n",
       "    'description': 'OpenWebRX uses the [CSDR CWSkimmer](https://github.com/luarvique/csdr-cwskimmer)\\nto decode multiple CW signals at once. You can install the\\n`csdr-cwskimmer` package from the OpenWebRX+ repositories.'}}},\n",
       " 'mp3': {'available': True,\n",
       "  'requirements': {'lame': {'available': True,\n",
       "    'enabled': True,\n",
       "    'description': 'OpenWebRX uses the [LAME](https://lame.sourceforge.io/) tool\\nto compress recorded audio into MP3 format. The `lame` package\\nis available in most Linux distributions.'}}}}"
      ]
     },
     "execution_count": 2,
     "metadata": {},
     "output_type": "execute_result"
    }
   ],
   "source": [
    "features"
   ]
  },
  {
   "cell_type": "code",
   "execution_count": null,
   "metadata": {},
   "outputs": [
    {
     "data": {
      "text/plain": [
       "{'openwebrx': {'users': 2},\n",
       " 'pskreporter': {'duplicates': {'count': 132460}, 'spots': {'count': 1238620}},\n",
       " 'wsprnet': {'spots': {'count': 0}},\n",
       " 'decoding': {'queue': {'length': 0,\n",
       "   'in': {'count': 178553},\n",
       "   'out': {'count': 178553},\n",
       "   'overflow': {'count': 0},\n",
       "   'error': {'count': 2}}},\n",
       " 'wsjt': {'decodes': {'17m': {'FT8': {'count': 400422}},\n",
       "   '20m': {'FT8': {'count': 1027444}, 'FT4': {'count': 881}},\n",
       "   '40m': {'FT8': {'count': 761553}, 'FT4': {'count': 2}},\n",
       "   '30m': {'FT8': {'count': 205491}},\n",
       "   'unknown': {'FT8': {'count': 14}}}}}"
      ]
     },
     "execution_count": 3,
     "metadata": {},
     "output_type": "execute_result"
    }
   ],
   "source": [
    "# Now lets get some metrics from the openwebrx device to see how its doing.\n",
    "result = httpx.get(site + \"/metrics.json\")\n",
    "result.raise_for_status()\n",
    "metrics = result.json()\n",
    "metrics\n",
    "# Note that if the user count is high, we might want to consider a different site."
   ]
  },
  {
   "cell_type": "code",
   "execution_count": null,
   "metadata": {},
   "outputs": [
    {
     "data": {
      "text/plain": [
       "{'name': 'SR4DON OLSZTYN/POLAND 17m-160m',\n",
       " 'admin': 'sdr@jestok.com',\n",
       " 'gps': {'lat': 53.7832485938901, 'lon': 20.4547299031047},\n",
       " 'asl': 134,\n",
       " 'location': 'Olsztyn, Poland'}"
      ]
     },
     "execution_count": 4,
     "metadata": {},
     "output_type": "execute_result"
    }
   ],
   "source": [
    "# Lets get some metadata to see where the receiver is located. (asl = above sea level)\n",
    "result = httpx.get(site + \"/status.json\")\n",
    "result.raise_for_status()\n",
    "status = result.json()\n",
    "status[\"receiver\"]"
   ]
  },
  {
   "cell_type": "markdown",
   "metadata": {},
   "source": [
    "Okay, the status json should look something line this:\n",
    "```\n",
    "{'name': 'SR4DON OLSZTYN/POLAND 17m-160m',\n",
    " 'admin': 'sdr@jestok.com',\n",
    " 'gps': {'lat': 53.7832485938901, 'lon': 20.4547299031047},\n",
    " 'asl': 134,\n",
    " 'location': 'Olsztyn, Poland'}\n",
    "```\n",
    "So it looks like this particular receiver is located in Poland so lets move on with that.\n",
    "\n",
    "## Waterfall data\n",
    "\n",
    "Lets have a look at what the web viewer is getting when opening up the site. \n",
    "When you visit an openwebrx page you are greeted by this wonderfull (near) real-time waterfall.\n",
    "So lets have a look at that datastream, shall we "
   ]
  },
  {
   "cell_type": "code",
   "execution_count": null,
   "metadata": {},
   "outputs": [
    {
     "name": "stdout",
     "output_type": "stream",
     "text": [
      "20\n"
     ]
    }
   ],
   "source": [
    "# Get 20 items from the websocket stream\n",
    "from websockets.asyncio.client import connect\n",
    "\n",
    "messages = []\n",
    "async with connect(\"wss://2.websdr.jestok.com/ws/\") as ws:\n",
    "    await ws.send(\"SERVER DE CLIENT client=lib/FrequencyDisplay.js type=receiver\")\n",
    "    for _ in range(20):\n",
    "        msg = await ws.recv()\n",
    "        messages.append(msg)\n",
    "\n",
    "print(len(messages))"
   ]
  },
  {
   "cell_type": "code",
   "execution_count": 11,
   "metadata": {
    "scrolled": true
   },
   "outputs": [
    {
     "data": {
      "text/plain": [
       "['CLIENT DE SERVER server=openwebrx version=v1.2.85',\n",
       " '{\"type\": \"receiver_details\", \"value\": {\"usage_policy_url\": \"policy\", \"receiver_location\": \"Olsztyn, Poland\", \"receiver_name\": \"SR4DON OLSZTYN/POLAND 17m-160m\", \"keep_files\": 20, \"receiver_asl\": 134, \"photo_desc\": \"<script async src=\\\\\"https://www.googletagmanager.com/gtag/js?id=G-XQYYP2HWLQ\\\\\"></script>\\\\r\\\\n<script>\\\\r\\\\n  window.dataLayer = window.dataLayer || [];\\\\r\\\\n  function gtag(){dataLayer.push(arguments);}\\\\r\\\\n  gtag(\\'js\\', new Date());\\\\r\\\\n  gtag(\\'config\\', \\'G-XQYYP2HWLQ\\');\\\\r\\\\n</script>\\\\r\\\\n<p>\\\\r\\\\n\\\\r\\\\n<a href=\\\\\"https://1.websdr.jestok.com\\\\\"><img src=\\\\\"https://dabuttonfactory.com/button.png?t=PRZE%C5%81%C4%84CZ+NA+SDR+1&f=Open+Sans-Bold&ts=22&tc=fff&hp=45&vp=20&c=11&bgt=unicolored&bgc=00f&bs=1&bc=569\\\\\" alt=\\\\\"PRZE\\\\u0141\\\\u0104CZ NA SDR 1\\\\\" width=\\\\\"303\\\\\" height=\\\\\"64\\\\\" /></a>\\\\u00a0\\\\r\\\\n\\\\r\\\\n<a href=\\\\\"https://3.websdr.jestok.com\\\\\"><img src=\\\\\"https://dabuttonfactory.com/button.png?t=PRZE%C5%81%C4%84CZ+NA+SDR+3&f=Open+Sans-Bold&ts=22&tc=fff&hp=45&vp=20&c=11&bgt=unicolored&bgc=00f&bs=1&bc=569\\\\\" alt=\\\\\"PRZE\\\\u0141\\\\u0104CZ NA SDR 3\\\\\" width=\\\\\"303\\\\\" height=\\\\\"64\\\\\" /></a>\\\\u00a0\\\\r\\\\n\\\\r\\\\n\\\\r\\\\n<a href=\\\\\"https://sp4.jestok.com/websdr\\\\\" target=\\\\\"_blank\\\\\" rel=\\\\\"noopener\\\\\"><img src=\\\\\"https://dabuttonfactory.com/button.png?t=SZCZEG%C3%93%C5%81Y+TECHNICZNE&f=Open+Sans-Bold&ts=22&tc=fff&hp=45&vp=20&c=11&bgt=unicolored&bgc=00f&bs=1&bc=569\\\\\" alt=\\\\\"SZCZEG\\\\u00d3\\\\u0141Y\\\\\" width=\\\\\"359\\\\\" height=\\\\\"64\\\\\" /></a>\\\\u00a0 \\\\r\\\\n\\\\r\\\\n<a href=\\\\\"https://www.paypal.com/donate?hosted_button_id=D2PWZLC6RHSNG&source=url\\\\\" target=\\\\\"_blank\\\\\" rel=\\\\\"noopener\\\\\"><img src=\\\\\"https://dabuttonfactory.com/button.png?t=WESPRZYJ+NAS!&f=Open+Sans-Bold&ts=22&tc=fff&hp=45&vp=20&c=11&bgt=unicolored&bgc=00f&bs=1&bc=569\\\\\" alt=\\\\\"WESPRZYJ NAS\\\\\" width=\\\\\"257\\\\\" height=\\\\\"64\\\\\" /></a>\\\\r\\\\n\\\\r\\\\n\\\\r\\\\n\\\\r\\\\n\\\\r\\\\n<br>\\\\r\\\\n<a href=\\\\\"https://info.flagcounter.com/8khO\\\\\"><img src=\\\\\"https://s04.flagcounter.com/count2/8khO/bg_FFFFFF/txt_000000/border_CCCCCC/columns_3/maxflags_12/viewers_0/labels_0/pageviews_1/flags_0/percent_0/\\\\\" alt=\\\\\"Flag Counter\\\\\" border=\\\\\"0\\\\\"></a>\\\\r\\\\n</p>\\\\r\\\\n\", \"photo_title\": \"ZO PZK w Olsztynie / Zespol Szkol Elektronicznych i Telekomunikacyjnych w Olsztynie\", \"receiver_gps\": {\"lat\": 53.7832485938901, \"lon\": 20.4547299031047}, \"session_timeout\": 5400, \"locator\": \"KO03fs\"}}',\n",
       " '{\"type\": \"config\", \"value\": {\"allow_audio_recording\": true, \"waterfall_scheme\": \"TeejeezWaterfall\", \"tuning_precision\": 2, \"fft_size\": 16384, \"audio_compression\": \"adpcm\", \"waterfall_auto_levels\": {\"min\": 3.0, \"max\": 10.0}, \"allow_chat\": true, \"vessel_url\": \"https://www.vesselfinder.com/vessels/details/{}\", \"callsign_url\": \"https://www.qrzcq.com/call/{}\", \"max_clients\": 12, \"flight_url\": \"https://flightaware.com/live/flight/{}\", \"modes_url\": \"https://www.planespotters.net/hex/{}\", \"allow_center_freq_changes\": false, \"fft_compression\": \"adpcm\", \"receiver_gps\": {\"lat\": 53.7832485938901, \"lon\": 20.4547299031047}, \"waterfall_auto_min_range\": 50, \"waterfall_colors\": [0, 255, 65535, 65280, 16776960, 16711680, 16711935, 16777215]}}',\n",
       " '{\"type\": \"clients\", \"value\": 3}',\n",
       " '{\"type\": \"config\", \"value\": {\"waterfall_levels\": {\"min\": -88.0, \"max\": -38.0}, \"squelch_auto_margin\": 10, \"waterfall_auto_level_default_mode\": true}}',\n",
       " '{\"type\": \"secondary_config\", \"value\": {\"secondary_fft_size\": 1024}}',\n",
       " '{\"type\": \"config\", \"value\": {\"sdr_id\": \"rtl_sdr_a\", \"waterfall_levels\": {\"min\": -72.0, \"max\": -7.0}, \"center_freq\": 14600000, \"start_freq\": 14074000, \"profile_id\": \"20m_a\", \"tuning_step\": 50, \"samp_rate\": 9000000, \"start_mod\": \"usb\", \"start_offset_freq\": -526000}}',\n",
       " '{\"type\": \"dial_frequencies\", \"value\": [{\"frequency\": 10141000, \"mode\": \"bpsk31\"}, {\"frequency\": 10136000, \"mode\": \"ft8\"}, {\"frequency\": 10138700, \"mode\": \"wspr\"}, {\"frequency\": 10138000, \"mode\": \"jt65\"}, {\"frequency\": 10140000, \"mode\": \"jt9\"}, {\"frequency\": 10140000, \"mode\": \"ft4\"}, {\"frequency\": 10130000, \"mode\": \"js8\"}, {\"frequency\": 10132000, \"mode\": \"sstv\"}, {\"frequency\": 14070000, \"mode\": \"bpsk31\"}, {\"frequency\": 14074000, \"mode\": \"ft8\"}, {\"frequency\": 14095600, \"mode\": \"wspr\"}, {\"frequency\": 14076000, \"mode\": \"jt65\"}, {\"frequency\": 14078000, \"mode\": \"jt9\"}, {\"frequency\": 14080000, \"mode\": \"ft4\"}, {\"frequency\": 14078000, \"mode\": \"js8\"}, {\"frequency\": 14230000, \"mode\": \"sstv\"}, {\"frequency\": 18098000, \"mode\": \"bpsk31\"}, {\"frequency\": 18100000, \"mode\": \"ft8\"}, {\"frequency\": 18104600, \"mode\": \"wspr\"}, {\"frequency\": 18102000, \"mode\": \"jt65\"}, {\"frequency\": 18104000, \"mode\": \"jt9\"}, {\"frequency\": 18104000, \"mode\": \"ft4\"}, {\"frequency\": 18104000, \"mode\": \"js8\"}]}',\n",
       " '{\"type\": \"bookmarks\", \"value\": [{\"name\": \"Kuwait DRM\", \"frequency\": 15110000, \"modulation\": \"drm\", \"underlying\": \"\", \"description\": \"\", \"scannable\": false}, {\"name\": \"VOLMET SHANNON 1947km\", \"frequency\": 13264000, \"modulation\": \"usb\", \"underlying\": \"\", \"description\": \"\", \"scannable\": true}, {\"name\": \"VOLMET RAF St Eval 1771km\", \"frequency\": 11253000, \"modulation\": \"usb\", \"underlying\": \"\", \"description\": \"\", \"scannable\": true}, {\"name\": \"Pirates Russia\", \"frequency\": 10460000, \"modulation\": \"usb\", \"underlying\": \"\", \"description\": \"\", \"scannable\": true}, {\"name\": \"CHINA RADIO INTERNATIONAL Kashi-Saibagh 4400km\", \"frequency\": 17560000, \"modulation\": \"am\", \"underlying\": \"\", \"description\": \"\", \"scannable\": true}, {\"name\": \"CHINA RADIO INTERNATIONAL Kashi-Saibagh 4400km\", \"frequency\": 17650000, \"modulation\": \"am\", \"underlying\": \"\", \"description\": \"\", \"scannable\": true}, {\"name\": \"VOICE OF AMERICA\", \"frequency\": 17530000, \"modulation\": \"am\", \"underlying\": \"\", \"description\": \"\", \"scannable\": true}, {\"name\": \"RADIO FARDA Lampertheim 942km\", \"frequency\": 17830000, \"modulation\": \"am\", \"underlying\": \"\", \"description\": \"\", \"scannable\": true}, {\"name\": \"OTH Radar Container 29\\\\u04116 \\\\u00ab\\\\u041a\\\\u043e\\\\u043d\\\\u0442\\\\u0435\\\\u0439\\\\u043d\\\\u0435\\\\u0440\\\\u00bb\", \"frequency\": 17460000, \"modulation\": \"am\", \"underlying\": \"\", \"description\": \"\", \"scannable\": true}, {\"name\": \"OTH Radar Container 29\\\\u04116 \\\\u00ab\\\\u041a\\\\u043e\\\\u043d\\\\u0442\\\\u0435\\\\u0439\\\\u043d\\\\u0435\\\\u0440\\\\u00bb\", \"frequency\": 18345000, \"modulation\": \"am\", \"underlying\": \"\", \"description\": \"\", \"scannable\": true}, {\"name\": \"SOH Xi Wang Zhi Sheng TWN Miaoli 8470km\", \"frequency\": 16160000, \"modulation\": \"am\", \"underlying\": \"\", \"description\": \"\", \"scannable\": true}, {\"name\": \"SOH Xi Wang Zhi Sheng TWN Miaoli 8470km\", \"frequency\": 15970000, \"modulation\": \"am\", \"underlying\": \"\", \"description\": \"\", \"scannable\": true}, {\"name\": \"R.ROMANIA INT. Galbeni-Bacau 902km\", \"frequency\": 11950000, \"modulation\": \"am\", \"underlying\": \"\", \"description\": \"\", \"scannable\": true}, {\"name\": \"RADIO FARDA Lampertheim 942km\", \"frequency\": 12005000, \"modulation\": \"am\", \"underlying\": \"\", \"description\": \"\", \"scannable\": true}, {\"name\": \"CHINA RADIO INTERNATIONAL Kashi-Saibagh 4400km\", \"frequency\": 17560000, \"modulation\": \"am\", \"underlying\": \"\", \"description\": \"\", \"scannable\": true}, {\"name\": \"Radio Farda Lampertheim 942km\", \"frequency\": 13600000, \"modulation\": \"am\", \"underlying\": \"\", \"description\": \"\", \"scannable\": true}, {\"name\": \"RADIO FARDA Lampertheim 942km\", \"frequency\": 15690000, \"modulation\": \"am\", \"underlying\": \"\", \"description\": \"\", \"scannable\": true}, {\"name\": \"Time - PLC\", \"frequency\": 11440000, \"modulation\": \"usb\", \"underlying\": \"\", \"description\": \"\", \"scannable\": true}, {\"name\": \"Time - CHU\", \"frequency\": 14670000, \"modulation\": \"usb\", \"underlying\": \"\", \"description\": \"\", \"scannable\": true}, {\"name\": \"Time - RWM\", \"frequency\": 14996000, \"modulation\": \"usb\", \"underlying\": \"\", \"description\": \"\", \"scannable\": true}, {\"name\": \"Time - WWV, WWVH, BPM\", \"frequency\": 15000000, \"modulation\": \"usb\", \"underlying\": \"\", \"description\": \"\", \"scannable\": true}, {\"name\": \"Time - EBC\", \"frequency\": 15006000, \"modulation\": \"usb\", \"underlying\": \"\", \"description\": \"\", \"scannable\": true}, {\"name\": \"DDH9\", \"frequency\": 11039000, \"modulation\": \"rtty450\", \"underlying\": \"\", \"description\": \"\", \"scannable\": false}, {\"name\": \"DDH8\", \"frequency\": 14467300, \"modulation\": \"rtty450\", \"underlying\": \"\", \"description\": \"\", \"scannable\": false}, {\"name\": \"DDK9\", \"frequency\": 10100800, \"modulation\": \"rtty450\", \"underlying\": \"\", \"description\": \"\", \"scannable\": false}, {\"name\": \"GS-1 - San Francisco\", \"frequency\": 11327000, \"modulation\": \"hfdl\", \"underlying\": \"\", \"description\": \"\", \"scannable\": false}, {\"name\": \"GS-1 - San Francisco\", \"frequency\": 13276000, \"modulation\": \"hfdl\", \"underlying\": \"\", \"description\": \"\", \"scannable\": false}, {\"name\": \"GS-1 - San Francisco\", \"frequency\": 17919000, \"modulation\": \"hfdl\", \"underlying\": \"\", \"description\": \"\", \"scannable\": false}, {\"name\": \"GS-2 - Molokai\", \"frequency\": 11312000, \"modulation\": \"hfdl\", \"underlying\": \"\", \"description\": \"\", \"scannable\": false}, {\"name\": \"GS-2 - Molokai\", \"frequency\": 11348000, \"modulation\": \"hfdl\", \"underlying\": \"\", \"description\": \"\", \"scannable\": false}, {\"name\": \"GS-2 - Molokai\", \"frequency\": 13276000, \"modulation\": \"hfdl\", \"underlying\": \"\", \"description\": \"\", \"scannable\": false}, {\"name\": \"GS-2 - Molokai\", \"frequency\": 13312000, \"modulation\": \"hfdl\", \"underlying\": \"\", \"description\": \"\", \"scannable\": false}, {\"name\": \"GS-2 - Molokai\", \"frequency\": 13324000, \"modulation\": \"hfdl\", \"underlying\": \"\", \"description\": \"\", \"scannable\": false}, {\"name\": \"GS-2 - Molokai\", \"frequency\": 17919000, \"modulation\": \"hfdl\", \"underlying\": \"\", \"description\": \"\", \"scannable\": false}, {\"name\": \"GS-3 - Reykjavik\", \"frequency\": 11184000, \"modulation\": \"hfdl\", \"underlying\": \"\", \"description\": \"\", \"scannable\": false}, {\"name\": \"GS-3 - Reykjavik\", \"frequency\": 15025000, \"modulation\": \"hfdl\", \"underlying\": \"\", \"description\": \"\", \"scannable\": false}, {\"name\": \"GS-3 - Reykjavik\", \"frequency\": 17985000, \"modulation\": \"hfdl\", \"underlying\": \"\", \"description\": \"\", \"scannable\": false}, {\"name\": \"GS-4 - Riverhead\", \"frequency\": 11387000, \"modulation\": \"hfdl\", \"underlying\": \"\", \"description\": \"\", \"scannable\": false}, {\"name\": \"GS-4 - Riverhead\", \"frequency\": 13276000, \"modulation\": \"hfdl\", \"underlying\": \"\", \"description\": \"\", \"scannable\": false}, {\"name\": \"GS-4 - Riverhead\", \"frequency\": 17919000, \"modulation\": \"hfdl\", \"underlying\": \"\", \"description\": \"\", \"scannable\": false}, {\"name\": \"GS-5 - Auckland\", \"frequency\": 13351000, \"modulation\": \"hfdl\", \"underlying\": \"\", \"description\": \"\", \"scannable\": false}, {\"name\": \"GS-5 - Auckland\", \"frequency\": 17916000, \"modulation\": \"hfdl\", \"underlying\": \"\", \"description\": \"\", \"scannable\": false}, {\"name\": \"GS-6 - Hat Yai\", \"frequency\": 13270000, \"modulation\": \"hfdl\", \"underlying\": \"\", \"description\": \"\", \"scannable\": false}, {\"name\": \"GS-6 - Hat Yai\", \"frequency\": 17928000, \"modulation\": \"hfdl\", \"underlying\": \"\", \"description\": \"\", \"scannable\": false}, {\"name\": \"GS-7 - Shannon\", \"frequency\": 11384000, \"modulation\": \"hfdl\", \"underlying\": \"\", \"description\": \"\", \"scannable\": false}, {\"name\": \"GS-8 - Johannesburg\", \"frequency\": 11321000, \"modulation\": \"hfdl\", \"underlying\": \"\", \"description\": \"\", \"scannable\": false}, {\"name\": \"GS-8 - Johannesburg\", \"frequency\": 13321000, \"modulation\": \"hfdl\", \"underlying\": \"\", \"description\": \"\", \"scannable\": false}, {\"name\": \"GS-8 - Johannesburg\", \"frequency\": 17922000, \"modulation\": \"hfdl\", \"underlying\": \"\", \"description\": \"\", \"scannable\": false}, {\"name\": \"GS-9 - Barrow\", \"frequency\": 11354000, \"modulation\": \"hfdl\", \"underlying\": \"\", \"description\": \"\", \"scannable\": false}, {\"name\": \"GS-9 - Barrow\", \"frequency\": 17919000, \"modulation\": \"hfdl\", \"underlying\": \"\", \"description\": \"\", \"scannable\": false}, {\"name\": \"GS-9 - Barrow\", \"frequency\": 17934000, \"modulation\": \"hfdl\", \"underlying\": \"\", \"description\": \"\", \"scannable\": false}, {\"name\": \"GS-10 - Muan\", \"frequency\": 13342000, \"modulation\": \"hfdl\", \"underlying\": \"\", \"description\": \"\", \"scannable\": false}, {\"name\": \"GS-10 - Muan\", \"frequency\": 17958000, \"modulation\": \"hfdl\", \"underlying\": \"\", \"description\": \"\", \"scannable\": false}, {\"name\": \"GS-11 - Albrook\", \"frequency\": 13264000, \"modulation\": \"hfdl\", \"underlying\": \"\", \"description\": \"\", \"scannable\": false}, {\"name\": \"GS-11 - Albrook\", \"frequency\": 17901000, \"modulation\": \"hfdl\", \"underlying\": \"\", \"description\": \"\", \"scannable\": false}, {\"name\": \"GS-13 - Santa Cruz\", \"frequency\": 11318000, \"modulation\": \"hfdl\", \"underlying\": \"\", \"description\": \"\", \"scannable\": false}, {\"name\": \"GS-13 - Santa Cruz\", \"frequency\": 13315000, \"modulation\": \"hfdl\", \"underlying\": \"\", \"description\": \"\", \"scannable\": false}, {\"name\": \"GS-13 - Santa Cruz\", \"frequency\": 17916000, \"modulation\": \"hfdl\", \"underlying\": \"\", \"description\": \"\", \"scannable\": false}, {\"name\": \"GS-14 - Krasnoyarsk\", \"frequency\": 13321000, \"modulation\": \"hfdl\", \"underlying\": \"\", \"description\": \"\", \"scannable\": false}, {\"name\": \"GS-14 - Krasnoyarsk\", \"frequency\": 17912000, \"modulation\": \"hfdl\", \"underlying\": \"\", \"description\": \"\", \"scannable\": false}, {\"name\": \"GS-15 - Al Muharraq\", \"frequency\": 13354000, \"modulation\": \"hfdl\", \"underlying\": \"\", \"description\": \"\", \"scannable\": false}, {\"name\": \"GS-15 - Al Muharraq\", \"frequency\": 17967000, \"modulation\": \"hfdl\", \"underlying\": \"\", \"description\": \"\", \"scannable\": false}, {\"name\": \"GS-16 - Agana\", \"frequency\": 11306000, \"modulation\": \"hfdl\", \"underlying\": \"\", \"description\": \"\", \"scannable\": false}, {\"name\": \"GS-16 - Agana\", \"frequency\": 13312000, \"modulation\": \"hfdl\", \"underlying\": \"\", \"description\": \"\", \"scannable\": false}, {\"name\": \"GS-16 - Agana\", \"frequency\": 17919000, \"modulation\": \"hfdl\", \"underlying\": \"\", \"description\": \"\", \"scannable\": false}, {\"name\": \"GS-17 - Gran Cararias\", \"frequency\": 11348000, \"modulation\": \"hfdl\", \"underlying\": \"\", \"description\": \"\", \"scannable\": false}, {\"name\": \"GS-17 - Gran Cararias\", \"frequency\": 13303000, \"modulation\": \"hfdl\", \"underlying\": \"\", \"description\": \"\", \"scannable\": false}, {\"name\": \"GS-17 - Gran Cararias\", \"frequency\": 17928000, \"modulation\": \"hfdl\", \"underlying\": \"\", \"description\": \"\", \"scannable\": false}, {\"name\": \"JMH4 - Tokyo\", \"frequency\": 13987000, \"modulation\": \"fax\", \"underlying\": \"\", \"description\": \"\", \"scannable\": false}, {\"name\": \"HLL2 - Seoul\", \"frequency\": 13568500, \"modulation\": \"fax\", \"underlying\": \"\", \"description\": \"\", \"scannable\": false}, {\"name\": \"JJC - Kyodo News\", \"frequency\": 12744000, \"modulation\": \"fax\", \"underlying\": \"\", \"description\": \"\", \"scannable\": false}, {\"name\": \"JJC - Kyodo News\", \"frequency\": 16969500, \"modulation\": \"fax\", \"underlying\": \"\", \"description\": \"\", \"scannable\": false}, {\"name\": \"JJC - Kyodo News\", \"frequency\": 17068100, \"modulation\": \"fax\", \"underlying\": \"\", \"description\": \"\", \"scannable\": false}, {\"name\": \"9VF - Kyodo News\", \"frequency\": 16033500, \"modulation\": \"fax\", \"underlying\": \"\", \"description\": \"\", \"scannable\": false}, {\"name\": \"9VF - Kyodo News\", \"frequency\": 17428500, \"modulation\": \"fax\", \"underlying\": \"\", \"description\": \"\", \"scannable\": false}, {\"name\": \"XSQ - Guangzhou\", \"frequency\": 12627750, \"modulation\": \"fax\", \"underlying\": \"\", \"description\": \"\", \"scannable\": false}, {\"name\": \"XSQ - Guangzhou\", \"frequency\": 16824750, \"modulation\": \"fax\", \"underlying\": \"\", \"description\": \"\", \"scannable\": false}, {\"name\": \"CBV - Valparaiso Playa Ancha\", \"frequency\": 17144900, \"modulation\": \"fax\", \"underlying\": \"\", \"description\": \"\", \"scannable\": false}, {\"name\": \"CFH - Halifax\", \"frequency\": 10534500, \"modulation\": \"fax\", \"underlying\": \"\", \"description\": \"\", \"scannable\": false}, {\"name\": \"CFH - Halifax\", \"frequency\": 13508500, \"modulation\": \"fax\", \"underlying\": \"\", \"description\": \"\", \"scannable\": false}, {\"name\": \"NOJ - Kodiak\", \"frequency\": 12411000, \"modulation\": \"fax\", \"underlying\": \"\", \"description\": \"\", \"scannable\": false}, {\"name\": \"NMC - Point Reyes\", \"frequency\": 12784500, \"modulation\": \"fax\", \"underlying\": \"\", \"description\": \"\", \"scannable\": false}, {\"name\": \"NMC - Point Reyes\", \"frequency\": 17149700, \"modulation\": \"fax\", \"underlying\": \"\", \"description\": \"\", \"scannable\": false}, {\"name\": \"NMG - New Orleans\", \"frequency\": 12788400, \"modulation\": \"fax\", \"underlying\": \"\", \"description\": \"\", \"scannable\": false}, {\"name\": \"NMG - New Orleans\", \"frequency\": 17144900, \"modulation\": \"fax\", \"underlying\": \"\", \"description\": \"\", \"scannable\": false}, {\"name\": \"NMF - Boston\", \"frequency\": 12748500, \"modulation\": \"fax\", \"underlying\": \"\", \"description\": \"\", \"scannable\": false}, {\"name\": \"VMC - Charleville\", \"frequency\": 11028500, \"modulation\": \"fax\", \"underlying\": \"\", \"description\": \"\", \"scannable\": false}, {\"name\": \"VMC - Charleville\", \"frequency\": 13918500, \"modulation\": \"fax\", \"underlying\": \"\", \"description\": \"\", \"scannable\": false}, {\"name\": \"VMW - Wiluna\", \"frequency\": 10553500, \"modulation\": \"fax\", \"underlying\": \"\", \"description\": \"\", \"scannable\": false}, {\"name\": \"VMW - Wiluna\", \"frequency\": 15613500, \"modulation\": \"fax\", \"underlying\": \"\", \"description\": \"\", \"scannable\": false}, {\"name\": \"VMW - Wiluna\", \"frequency\": 18058500, \"modulation\": \"fax\", \"underlying\": \"\", \"description\": \"\", \"scannable\": false}, {\"name\": \"ZKLF - Wellington\", \"frequency\": 13549000, \"modulation\": \"fax\", \"underlying\": \"\", \"description\": \"\", \"scannable\": false}, {\"name\": \"ZKLF - Wellington\", \"frequency\": 16338600, \"modulation\": \"fax\", \"underlying\": \"\", \"description\": \"\", \"scannable\": false}, {\"name\": \"KVM70 - Honolulu\", \"frequency\": 11088500, \"modulation\": \"fax\", \"underlying\": \"\", \"description\": \"\", \"scannable\": false}, {\"name\": \"KVM70 - Honolulu\", \"frequency\": 16133500, \"modulation\": \"fax\", \"underlying\": \"\", \"description\": \"\", \"scannable\": false}, {\"name\": \"RBW48 - Murmansk\", \"frequency\": 10128500, \"modulation\": \"fax\", \"underlying\": \"\", \"description\": \"\", \"scannable\": false}, {\"name\": \"DDK6 - Hamburg\", \"frequency\": 13881000, \"modulation\": \"fax\", \"underlying\": \"\", \"description\": \"\", \"scannable\": false}, {\"name\": \"GYA - Nothwood\", \"frequency\": 11085000, \"modulation\": \"fax\", \"underlying\": \"\", \"description\": \"\", \"scannable\": false}, {\"name\": \"Time - PLC\", \"frequency\": 11440000, \"modulation\": \"usb\", \"underlying\": \"\", \"description\": \"\", \"scannable\": true}, {\"name\": \"Time - CHU\", \"frequency\": 14670000, \"modulation\": \"usb\", \"underlying\": \"\", \"description\": \"\", \"scannable\": true}, {\"name\": \"Time - RWM\", \"frequency\": 14996000, \"modulation\": \"usb\", \"underlying\": \"\", \"description\": \"\", \"scannable\": true}, {\"name\": \"Time - WWV, WWVH, BPM\", \"frequency\": 15000000, \"modulation\": \"usb\", \"underlying\": \"\", \"description\": \"\", \"scannable\": true}, {\"name\": \"Time - EBC\", \"frequency\": 15006000, \"modulation\": \"usb\", \"underlying\": \"\", \"description\": \"\", \"scannable\": true}, {\"name\": \"JMH4 - Tokyo\", \"frequency\": 13986600, \"modulation\": \"fax\", \"underlying\": \"\", \"description\": \"\", \"scannable\": false}, {\"name\": \"HLL2 - Seoul\", \"frequency\": 13568100, \"modulation\": \"fax\", \"underlying\": \"\", \"description\": \"\", \"scannable\": false}, {\"name\": \"JJC - Kyodo News\", \"frequency\": 12743600, \"modulation\": \"fax\", \"underlying\": \"\", \"description\": \"\", \"scannable\": false}, {\"name\": \"JJC - Kyodo News\", \"frequency\": 16969100, \"modulation\": \"fax\", \"underlying\": \"\", \"description\": \"\", \"scannable\": false}, {\"name\": \"JJC - Kyodo News\", \"frequency\": 17067699, \"modulation\": \"fax\", \"underlying\": \"\", \"description\": \"\", \"scannable\": false}, {\"name\": \"9VF - Kyodo News\", \"frequency\": 16033100, \"modulation\": \"fax\", \"underlying\": \"\", \"description\": \"\", \"scannable\": false}, {\"name\": \"9VF - Kyodo News\", \"frequency\": 17428100, \"modulation\": \"fax\", \"underlying\": \"\", \"description\": \"\", \"scannable\": false}, {\"name\": \"XSQ - Guangzhou\", \"frequency\": 12627350, \"modulation\": \"fax\", \"underlying\": \"\", \"description\": \"\", \"scannable\": false}, {\"name\": \"XSQ - Guangzhou\", \"frequency\": 16824350, \"modulation\": \"fax\", \"underlying\": \"\", \"description\": \"\", \"scannable\": false}, {\"name\": \"CBV - Valparaiso Playa Ancha\", \"frequency\": 17144500, \"modulation\": \"fax\", \"underlying\": \"\", \"description\": \"\", \"scannable\": false}, {\"name\": \"CFH - Halifax\", \"frequency\": 10534100, \"modulation\": \"fax\", \"underlying\": \"\", \"description\": \"\", \"scannable\": false}, {\"name\": \"CFH - Halifax\", \"frequency\": 13508100, \"modulation\": \"fax\", \"underlying\": \"\", \"description\": \"\", \"scannable\": false}, {\"name\": \"NOJ - Kodiak\", \"frequency\": 12410600, \"modulation\": \"fax\", \"underlying\": \"\", \"description\": \"\", \"scannable\": false}, {\"name\": \"NMC - Point Reyes\", \"frequency\": 12784100, \"modulation\": \"fax\", \"underlying\": \"\", \"description\": \"\", \"scannable\": false}, {\"name\": \"NMC - Point Reyes\", \"frequency\": 17149300, \"modulation\": \"fax\", \"underlying\": \"\", \"description\": \"\", \"scannable\": false}, {\"name\": \"NMG - New Orleans\", \"frequency\": 12788000, \"modulation\": \"fax\", \"underlying\": \"\", \"description\": \"\", \"scannable\": false}, {\"name\": \"NMG - New Orleans\", \"frequency\": 17144500, \"modulation\": \"fax\", \"underlying\": \"\", \"description\": \"\", \"scannable\": false}, {\"name\": \"NMF - Boston\", \"frequency\": 12748100, \"modulation\": \"fax\", \"underlying\": \"\", \"description\": \"\", \"scannable\": false}, {\"name\": \"VMC - Charleville\", \"frequency\": 11028100, \"modulation\": \"fax\", \"underlying\": \"\", \"description\": \"\", \"scannable\": false}, {\"name\": \"VMC - Charleville\", \"frequency\": 13918100, \"modulation\": \"fax\", \"underlying\": \"\", \"description\": \"\", \"scannable\": false}, {\"name\": \"VMW - Wiluna\", \"frequency\": 10553100, \"modulation\": \"fax\", \"underlying\": \"\", \"description\": \"\", \"scannable\": false}, {\"name\": \"VMW - Wiluna\", \"frequency\": 15613100, \"modulation\": \"fax\", \"underlying\": \"\", \"description\": \"\", \"scannable\": false}, {\"name\": \"VMW - Wiluna\", \"frequency\": 18058100, \"modulation\": \"fax\", \"underlying\": \"\", \"description\": \"\", \"scannable\": false}, {\"name\": \"ZKLF - Wellington\", \"frequency\": 13548600, \"modulation\": \"fax\", \"underlying\": \"\", \"description\": \"\", \"scannable\": false}, {\"name\": \"ZKLF - Wellington\", \"frequency\": 16338200, \"modulation\": \"fax\", \"underlying\": \"\", \"description\": \"\", \"scannable\": false}, {\"name\": \"KVM70 - Honolulu\", \"frequency\": 11088100, \"modulation\": \"fax\", \"underlying\": \"\", \"description\": \"\", \"scannable\": false}, {\"name\": \"KVM70 - Honolulu\", \"frequency\": 16133100, \"modulation\": \"fax\", \"underlying\": \"\", \"description\": \"\", \"scannable\": false}, {\"name\": \"RBW48 - Murmansk\", \"frequency\": 10128100, \"modulation\": \"fax\", \"underlying\": \"\", \"description\": \"\", \"scannable\": false}, {\"name\": \"DDK6 - Hamburg\", \"frequency\": 13880600, \"modulation\": \"fax\", \"underlying\": \"\", \"description\": \"\", \"scannable\": false}, {\"name\": \"GYA - Northwood\", \"frequency\": 11084600, \"modulation\": \"fax\", \"underlying\": \"\", \"description\": \"\", \"scannable\": false}, {\"name\": \"DDH9\", \"frequency\": 11038000, \"modulation\": \"rtty450\", \"underlying\": \"\", \"description\": \"\", \"scannable\": false}, {\"name\": \"DDH8\", \"frequency\": 14466300, \"modulation\": \"rtty450\", \"underlying\": \"\", \"description\": \"\", \"scannable\": false}, {\"name\": \"MSI\", \"frequency\": 12578000, \"modulation\": \"sitorb\", \"underlying\": \"\", \"description\": \"\", \"scannable\": false}, {\"name\": \"MSI\", \"frequency\": 16805500, \"modulation\": \"sitorb\", \"underlying\": \"\", \"description\": \"\", \"scannable\": false}, {\"name\": \"DSC\", \"frequency\": 12576000, \"modulation\": \"dsc\", \"underlying\": \"\", \"description\": \"\", \"scannable\": false}, {\"name\": \"DSC\", \"frequency\": 16803500, \"modulation\": \"dsc\", \"underlying\": \"\", \"description\": \"\", \"scannable\": false}, {\"name\": \"HFGCS - USAF\", \"frequency\": 11175000, \"modulation\": \"usb\", \"underlying\": \"\", \"description\": \"\", \"scannable\": true}, {\"name\": \"HFGCS - USAF\", \"frequency\": 15016000, \"modulation\": \"usb\", \"underlying\": \"\", \"description\": \"\", \"scannable\": true}, {\"name\": \"MARS - USAF\", \"frequency\": 13927000, \"modulation\": \"usb\", \"underlying\": \"\", \"description\": \"\", \"scannable\": true}, {\"name\": \"MARS - USN\", \"frequency\": 14441000, \"modulation\": \"usb\", \"underlying\": \"\", \"description\": \"\", \"scannable\": true}, {\"name\": \"CAF - Canada\", \"frequency\": 11232000, \"modulation\": \"usb\", \"underlying\": \"\", \"description\": \"\", \"scannable\": true}, {\"name\": \"GS-1 - San Francisco\", \"frequency\": 11327000, \"modulation\": \"hfdl\", \"underlying\": \"\", \"description\": \"\", \"scannable\": false}, {\"name\": \"GS-1 - San Francisco\", \"frequency\": 13276000, \"modulation\": \"hfdl\", \"underlying\": \"\", \"description\": \"\", \"scannable\": false}, {\"name\": \"GS-1 - San Francisco\", \"frequency\": 17919000, \"modulation\": \"hfdl\", \"underlying\": \"\", \"description\": \"\", \"scannable\": false}, {\"name\": \"GS-2 - Molokai\", \"frequency\": 11312000, \"modulation\": \"hfdl\", \"underlying\": \"\", \"description\": \"\", \"scannable\": false}, {\"name\": \"GS-2 - Molokai\", \"frequency\": 11348000, \"modulation\": \"hfdl\", \"underlying\": \"\", \"description\": \"\", \"scannable\": false}, {\"name\": \"GS-2 - Molokai\", \"frequency\": 13276000, \"modulation\": \"hfdl\", \"underlying\": \"\", \"description\": \"\", \"scannable\": false}, {\"name\": \"GS-2 - Molokai\", \"frequency\": 13312000, \"modulation\": \"hfdl\", \"underlying\": \"\", \"description\": \"\", \"scannable\": false}, {\"name\": \"GS-2 - Molokai\", \"frequency\": 13324000, \"modulation\": \"hfdl\", \"underlying\": \"\", \"description\": \"\", \"scannable\": false}, {\"name\": \"GS-2 - Molokai\", \"frequency\": 17919000, \"modulation\": \"hfdl\", \"underlying\": \"\", \"description\": \"\", \"scannable\": false}, {\"name\": \"GS-3 - Reykjavik\", \"frequency\": 11184000, \"modulation\": \"hfdl\", \"underlying\": \"\", \"description\": \"\", \"scannable\": false}, {\"name\": \"GS-3 - Reykjavik\", \"frequency\": 15025000, \"modulation\": \"hfdl\", \"underlying\": \"\", \"description\": \"\", \"scannable\": false}, {\"name\": \"GS-3 - Reykjavik\", \"frequency\": 17985000, \"modulation\": \"hfdl\", \"underlying\": \"\", \"description\": \"\", \"scannable\": false}, {\"name\": \"GS-4 - Riverhead\", \"frequency\": 11387000, \"modulation\": \"hfdl\", \"underlying\": \"\", \"description\": \"\", \"scannable\": false}, {\"name\": \"GS-4 - Riverhead\", \"frequency\": 13276000, \"modulation\": \"hfdl\", \"underlying\": \"\", \"description\": \"\", \"scannable\": false}, {\"name\": \"GS-4 - Riverhead\", \"frequency\": 17919000, \"modulation\": \"hfdl\", \"underlying\": \"\", \"description\": \"\", \"scannable\": false}, {\"name\": \"GS-5 - Auckland\", \"frequency\": 13351000, \"modulation\": \"hfdl\", \"underlying\": \"\", \"description\": \"\", \"scannable\": false}, {\"name\": \"GS-5 - Auckland\", \"frequency\": 17916000, \"modulation\": \"hfdl\", \"underlying\": \"\", \"description\": \"\", \"scannable\": false}, {\"name\": \"GS-6 - Hat Yai\", \"frequency\": 13270000, \"modulation\": \"hfdl\", \"underlying\": \"\", \"description\": \"\", \"scannable\": false}, {\"name\": \"GS-6 - Hat Yai\", \"frequency\": 17928000, \"modulation\": \"hfdl\", \"underlying\": \"\", \"description\": \"\", \"scannable\": false}, {\"name\": \"GS-7 - Shannon\", \"frequency\": 11384000, \"modulation\": \"hfdl\", \"underlying\": \"\", \"description\": \"\", \"scannable\": false}, {\"name\": \"GS-8 - Johannesburg\", \"frequency\": 11321000, \"modulation\": \"hfdl\", \"underlying\": \"\", \"description\": \"\", \"scannable\": false}, {\"name\": \"GS-8 - Johannesburg\", \"frequency\": 13321000, \"modulation\": \"hfdl\", \"underlying\": \"\", \"description\": \"\", \"scannable\": false}, {\"name\": \"GS-8 - Johannesburg\", \"frequency\": 17922000, \"modulation\": \"hfdl\", \"underlying\": \"\", \"description\": \"\", \"scannable\": false}, {\"name\": \"GS-9 - Barrow\", \"frequency\": 11354000, \"modulation\": \"hfdl\", \"underlying\": \"\", \"description\": \"\", \"scannable\": false}, {\"name\": \"GS-9 - Barrow\", \"frequency\": 17919000, \"modulation\": \"hfdl\", \"underlying\": \"\", \"description\": \"\", \"scannable\": false}, {\"name\": \"GS-9 - Barrow\", \"frequency\": 17934000, \"modulation\": \"hfdl\", \"underlying\": \"\", \"description\": \"\", \"scannable\": false}, {\"name\": \"GS-10 - Muan\", \"frequency\": 13342000, \"modulation\": \"hfdl\", \"underlying\": \"\", \"description\": \"\", \"scannable\": false}, {\"name\": \"GS-10 - Muan\", \"frequency\": 17958000, \"modulation\": \"hfdl\", \"underlying\": \"\", \"description\": \"\", \"scannable\": false}, {\"name\": \"GS-11 - Albrook\", \"frequency\": 13264000, \"modulation\": \"hfdl\", \"underlying\": \"\", \"description\": \"\", \"scannable\": false}, {\"name\": \"GS-11 - Albrook\", \"frequency\": 17901000, \"modulation\": \"hfdl\", \"underlying\": \"\", \"description\": \"\", \"scannable\": false}, {\"name\": \"GS-13 - Santa Cruz\", \"frequency\": 11318000, \"modulation\": \"hfdl\", \"underlying\": \"\", \"description\": \"\", \"scannable\": false}, {\"name\": \"GS-13 - Santa Cruz\", \"frequency\": 13315000, \"modulation\": \"hfdl\", \"underlying\": \"\", \"description\": \"\", \"scannable\": false}, {\"name\": \"GS-13 - Santa Cruz\", \"frequency\": 17916000, \"modulation\": \"hfdl\", \"underlying\": \"\", \"description\": \"\", \"scannable\": false}, {\"name\": \"GS-14 - Krasnoyarsk\", \"frequency\": 13321000, \"modulation\": \"hfdl\", \"underlying\": \"\", \"description\": \"\", \"scannable\": false}, {\"name\": \"GS-14 - Krasnoyarsk\", \"frequency\": 17912000, \"modulation\": \"hfdl\", \"underlying\": \"\", \"description\": \"\", \"scannable\": false}, {\"name\": \"GS-15 - Al Muharraq\", \"frequency\": 13354000, \"modulation\": \"hfdl\", \"underlying\": \"\", \"description\": \"\", \"scannable\": false}, {\"name\": \"GS-15 - Al Muharraq\", \"frequency\": 17967000, \"modulation\": \"hfdl\", \"underlying\": \"\", \"description\": \"\", \"scannable\": false}, {\"name\": \"GS-16 - Agana\", \"frequency\": 11306000, \"modulation\": \"hfdl\", \"underlying\": \"\", \"description\": \"\", \"scannable\": false}, {\"name\": \"GS-16 - Agana\", \"frequency\": 13312000, \"modulation\": \"hfdl\", \"underlying\": \"\", \"description\": \"\", \"scannable\": false}, {\"name\": \"GS-16 - Agana\", \"frequency\": 17919000, \"modulation\": \"hfdl\", \"underlying\": \"\", \"description\": \"\", \"scannable\": false}, {\"name\": \"GS-17 - Gran Canarias\", \"frequency\": 11348000, \"modulation\": \"hfdl\", \"underlying\": \"\", \"description\": \"\", \"scannable\": false}, {\"name\": \"GS-17 - Gran Canarias\", \"frequency\": 13303000, \"modulation\": \"hfdl\", \"underlying\": \"\", \"description\": \"\", \"scannable\": false}, {\"name\": \"GS-17 - Gran Canarias\", \"frequency\": 17928000, \"modulation\": \"hfdl\", \"underlying\": \"\", \"description\": \"\", \"scannable\": false}]}',\n",
       " '{\"type\": \"bands\", \"value\": [{\"name\": \"30m\", \"low_bound\": 10099000, \"high_bound\": 10150000, \"tags\": [\"hamradio\"]}, {\"name\": \"20m\", \"low_bound\": 14000000, \"high_bound\": 14350000, \"tags\": [\"hamradio\"]}, {\"name\": \"17m\", \"low_bound\": 18068000, \"high_bound\": 18168000, \"tags\": [\"hamradio\"]}, {\"name\": \"25m Broadcast\", \"low_bound\": 11600000, \"high_bound\": 12100000, \"tags\": [\"broadcast\"]}, {\"name\": \"22m Broadcast\", \"low_bound\": 13570000, \"high_bound\": 13870000, \"tags\": [\"broadcast\"]}, {\"name\": \"19m Broadcast\", \"low_bound\": 15100000, \"high_bound\": 15830000, \"tags\": [\"broadcast\"]}, {\"name\": \"16m Broadcast\", \"low_bound\": 17480000, \"high_bound\": 17900000, \"tags\": [\"broadcast\"]}, {\"name\": \"15m Broadcast\", \"low_bound\": 18900000, \"high_bound\": 19020000, \"tags\": [\"broadcast\"]}]}',\n",
       " '{\"type\": \"features\", \"value\": {\"core\": true, \"rtl_sdr\": true, \"rtl_sdr_soapy\": false, \"rtl_tcp\": true, \"sdrplay\": true, \"mirics\": false, \"hackrf\": false, \"perseussdr\": false, \"airspy\": false, \"airspyhf\": false, \"afedri\": false, \"lime_sdr\": false, \"fifi_sdr\": false, \"pluto_sdr\": false, \"soapy_remote\": false, \"uhd\": false, \"radioberry\": false, \"fcdpp\": false, \"bladerf\": false, \"sddc\": false, \"sddc_soapy\": false, \"hpsdr\": true, \"runds\": true, \"digital_voice_digiham\": false, \"digital_voice_freedv\": false, \"digital_voice_m17\": true, \"wsjt-x\": true, \"wsjt-x-2-3\": true, \"wsjt-x-2-4\": false, \"msk144\": false, \"packet\": true, \"pocsag\": true, \"js8call\": true, \"drm\": true, \"adsb\": true, \"ism\": true, \"hfdl\": true, \"vdl2\": true, \"acars\": true, \"page\": true, \"selcall\": true, \"eas\": true, \"wxsat\": false, \"png\": true, \"rds\": true, \"dab\": false, \"mqtt\": true, \"hdradio\": true, \"rigcontrol\": true, \"cwskimmer\": true, \"mp3\": true}}',\n",
       " '{\"type\": \"modes\", \"value\": [{\"modulation\": \"nfm\", \"name\": \"FM\", \"type\": \"analog\", \"requirements\": [], \"squelch\": true, \"bandpass\": {\"low_cut\": -4000, \"high_cut\": 4000}}, {\"modulation\": \"wfm\", \"name\": \"WFM\", \"type\": \"analog\", \"requirements\": [], \"squelch\": true, \"bandpass\": {\"low_cut\": -75000, \"high_cut\": 75000}}, {\"modulation\": \"am\", \"name\": \"AM\", \"type\": \"analog\", \"requirements\": [], \"squelch\": true, \"bandpass\": {\"low_cut\": -4000, \"high_cut\": 4000}}, {\"modulation\": \"lsb\", \"name\": \"LSB\", \"type\": \"analog\", \"requirements\": [], \"squelch\": true, \"bandpass\": {\"low_cut\": -2750, \"high_cut\": -150}}, {\"modulation\": \"usb\", \"name\": \"USB\", \"type\": \"analog\", \"requirements\": [], \"squelch\": true, \"bandpass\": {\"low_cut\": 150, \"high_cut\": 2750}}, {\"modulation\": \"cw\", \"name\": \"CW\", \"type\": \"analog\", \"requirements\": [], \"squelch\": true, \"bandpass\": {\"low_cut\": 700, \"high_cut\": 900}}, {\"modulation\": \"sam\", \"name\": \"SAM\", \"type\": \"analog\", \"requirements\": [], \"squelch\": true, \"bandpass\": {\"low_cut\": -4000, \"high_cut\": 4000}}, {\"modulation\": \"usbd\", \"name\": \"DATA\", \"type\": \"analog\", \"requirements\": [], \"squelch\": true, \"bandpass\": {\"low_cut\": 0, \"high_cut\": 24000}}, {\"modulation\": \"m17\", \"name\": \"M17\", \"type\": \"analog\", \"requirements\": [\"digital_voice_m17\"], \"squelch\": false, \"bandpass\": {\"low_cut\": -6250, \"high_cut\": 6250}}, {\"modulation\": \"drm\", \"name\": \"DRM\", \"type\": \"analog\", \"requirements\": [\"drm\"], \"squelch\": false, \"bandpass\": {\"low_cut\": -5000, \"high_cut\": 5000}}, {\"modulation\": \"hdr\", \"name\": \"HDR\", \"type\": \"analog\", \"requirements\": [\"hdradio\"], \"squelch\": false, \"bandpass\": {\"low_cut\": -200000, \"high_cut\": 200000}}, {\"modulation\": \"bpsk31\", \"name\": \"BPSK31\", \"type\": \"digimode\", \"requirements\": [], \"squelch\": true, \"underlying\": [\"usb\"], \"secondaryFft\": true}, {\"modulation\": \"bpsk63\", \"name\": \"BPSK63\", \"type\": \"digimode\", \"requirements\": [], \"squelch\": true, \"underlying\": [\"usb\"], \"secondaryFft\": true}, {\"modulation\": \"rtty170\", \"name\": \"RTTY-170 (45)\", \"type\": \"digimode\", \"requirements\": [], \"squelch\": true, \"underlying\": [\"usb\", \"lsb\"], \"secondaryFft\": true}, {\"modulation\": \"rtty450\", \"name\": \"RTTY-450 (50N)\", \"type\": \"digimode\", \"requirements\": [], \"squelch\": true, \"underlying\": [\"usb\", \"lsb\"], \"secondaryFft\": true}, {\"modulation\": \"rtty85\", \"name\": \"RTTY-85 (50N)\", \"type\": \"digimode\", \"requirements\": [], \"squelch\": true, \"underlying\": [\"usb\", \"lsb\"], \"secondaryFft\": true}, {\"modulation\": \"sitorb\", \"name\": \"SITOR-B\", \"type\": \"digimode\", \"requirements\": [], \"squelch\": true, \"underlying\": [\"usb\"], \"secondaryFft\": true}, {\"modulation\": \"navtex\", \"name\": \"NAVTEX\", \"type\": \"digimode\", \"requirements\": [], \"squelch\": true, \"underlying\": [\"usb\"], \"secondaryFft\": true}, {\"modulation\": \"dsc\", \"name\": \"DSC\", \"type\": \"digimode\", \"requirements\": [], \"squelch\": true, \"underlying\": [\"usb\"], \"secondaryFft\": true}, {\"modulation\": \"ft8\", \"name\": \"FT8\", \"type\": \"digimode\", \"requirements\": [\"wsjt-x\"], \"squelch\": true, \"bandpass\": {\"low_cut\": 0, \"high_cut\": 3000}, \"underlying\": [\"usb\"], \"secondaryFft\": true}, {\"modulation\": \"ft4\", \"name\": \"FT4\", \"type\": \"digimode\", \"requirements\": [\"wsjt-x\"], \"squelch\": true, \"bandpass\": {\"low_cut\": 0, \"high_cut\": 3000}, \"underlying\": [\"usb\"], \"secondaryFft\": true}, {\"modulation\": \"jt65\", \"name\": \"JT65\", \"type\": \"digimode\", \"requirements\": [\"wsjt-x\"], \"squelch\": true, \"bandpass\": {\"low_cut\": 0, \"high_cut\": 3000}, \"underlying\": [\"usb\"], \"secondaryFft\": true}, {\"modulation\": \"jt9\", \"name\": \"JT9\", \"type\": \"digimode\", \"requirements\": [\"wsjt-x\"], \"squelch\": true, \"bandpass\": {\"low_cut\": 0, \"high_cut\": 3000}, \"underlying\": [\"usb\"], \"secondaryFft\": true}, {\"modulation\": \"wspr\", \"name\": \"WSPR\", \"type\": \"digimode\", \"requirements\": [\"wsjt-x\"], \"squelch\": true, \"bandpass\": {\"low_cut\": 1350, \"high_cut\": 1650}, \"underlying\": [\"usb\"], \"secondaryFft\": true}, {\"modulation\": \"fst4\", \"name\": \"FST4\", \"type\": \"digimode\", \"requirements\": [\"wsjt-x-2-3\"], \"squelch\": true, \"bandpass\": {\"low_cut\": 0, \"high_cut\": 3000}, \"underlying\": [\"usb\"], \"secondaryFft\": true}, {\"modulation\": \"fst4w\", \"name\": \"FST4W\", \"type\": \"digimode\", \"requirements\": [\"wsjt-x-2-3\"], \"squelch\": true, \"bandpass\": {\"low_cut\": 1350, \"high_cut\": 1650}, \"underlying\": [\"usb\"], \"secondaryFft\": true}, {\"modulation\": \"js8\", \"name\": \"JS8Call\", \"type\": \"digimode\", \"requirements\": [\"js8call\"], \"squelch\": true, \"bandpass\": {\"low_cut\": 0, \"high_cut\": 3000}, \"underlying\": [\"usb\"], \"secondaryFft\": true}, {\"modulation\": \"packet\", \"name\": \"Packet\", \"type\": \"digimode\", \"requirements\": [\"packet\"], \"squelch\": false, \"bandpass\": {\"low_cut\": -6250, \"high_cut\": 6250}, \"underlying\": [\"empty\"], \"secondaryFft\": true}, {\"modulation\": \"ais\", \"name\": \"AIS\", \"type\": \"digimode\", \"requirements\": [\"packet\"], \"squelch\": false, \"bandpass\": {\"low_cut\": -6250, \"high_cut\": 6250}, \"underlying\": [\"empty\"], \"secondaryFft\": true}, {\"modulation\": \"page\", \"name\": \"Page\", \"type\": \"digimode\", \"requirements\": [\"page\"], \"squelch\": false, \"bandpass\": {\"low_cut\": -6000, \"high_cut\": 6000}, \"underlying\": [\"empty\"], \"secondaryFft\": true}, {\"modulation\": \"cwdecoder\", \"name\": \"CW Decoder\", \"type\": \"digimode\", \"requirements\": [], \"squelch\": true, \"underlying\": [\"usb\", \"lsb\"], \"secondaryFft\": true}, {\"modulation\": \"cwskimmer\", \"name\": \"CW Skimmer\", \"type\": \"digimode\", \"requirements\": [\"cwskimmer\"], \"squelch\": false, \"bandpass\": {\"low_cut\": 0, \"high_cut\": 24000}, \"underlying\": [\"empty\"], \"secondaryFft\": true}, {\"modulation\": \"sstv\", \"name\": \"SSTV\", \"type\": \"digimode\", \"requirements\": [], \"squelch\": true, \"underlying\": [\"usb\", \"lsb\", \"nfm\"], \"secondaryFft\": true}, {\"modulation\": \"fax\", \"name\": \"Fax\", \"type\": \"digimode\", \"requirements\": [], \"squelch\": true, \"underlying\": [\"usb\"], \"secondaryFft\": true}, {\"modulation\": \"selcall\", \"name\": \"SelCall\", \"type\": \"digimode\", \"requirements\": [\"selcall\"], \"squelch\": true, \"underlying\": [\"nfm\"], \"secondaryFft\": true}, {\"modulation\": \"zvei\", \"name\": \"Zvei\", \"type\": \"digimode\", \"requirements\": [\"selcall\"], \"squelch\": true, \"underlying\": [\"nfm\"], \"secondaryFft\": true}, {\"modulation\": \"eas\", \"name\": \"EAS\", \"type\": \"digimode\", \"requirements\": [\"eas\"], \"squelch\": true, \"underlying\": [\"nfm\"], \"secondaryFft\": true}, {\"modulation\": \"ism\", \"name\": \"ISM\", \"type\": \"digimode\", \"requirements\": [\"ism\"], \"squelch\": false, \"bandpass\": {\"low_cut\": -125000, \"high_cut\": 125000}, \"underlying\": [\"empty\"], \"secondaryFft\": true}, {\"modulation\": \"hfdl\", \"name\": \"HFDL\", \"type\": \"digimode\", \"requirements\": [\"hfdl\"], \"squelch\": false, \"bandpass\": {\"low_cut\": 0, \"high_cut\": 3000}, \"underlying\": [\"empty\"], \"secondaryFft\": true}, {\"modulation\": \"vdl2\", \"name\": \"VDL2\", \"type\": \"digimode\", \"requirements\": [\"vdl2\"], \"squelch\": false, \"bandpass\": {\"low_cut\": -12500, \"high_cut\": 12500}, \"underlying\": [\"empty\"], \"secondaryFft\": true}, {\"modulation\": \"acars\", \"name\": \"ACARS\", \"type\": \"digimode\", \"requirements\": [\"acars\"], \"squelch\": false, \"bandpass\": {\"low_cut\": -6250, \"high_cut\": 6250}, \"underlying\": [\"am\"], \"secondaryFft\": true}, {\"modulation\": \"adsb\", \"name\": \"ADSB\", \"type\": \"digimode\", \"requirements\": [\"adsb\"], \"squelch\": false, \"ifRate\": 2400000, \"underlying\": [\"empty\"], \"secondaryFft\": false}]}',\n",
       " '{\"type\": \"profiles\", \"value\": [{\"id\": \"rtl_sdr_a|20m_a\", \"name\": \"RX1 17m-30m\"}, {\"id\": \"rtl_sdr_b|40m_a\", \"name\": \"RX2 40m\"}, {\"id\": \"rtl_sdr_c|35m_b\", \"name\": \"RX3 31m\"}, {\"id\": \"rtl_sdr_c|4acac88f-409c-4956-8d35-9ae8ba95f4a5\", \"name\": \"RX3 40m reserve\"}, {\"id\": \"rtl_sdr_3|80m_a\", \"name\": \"RX4 60m-80m-160m\"}, {\"id\": \"rtl_sdr_d|OIRT_low\", \"name\": \"RX5 OIRT_low H\"}, {\"id\": \"rtl_sdr_e|OIRT_low\", \"name\": \"RX6 OIRT_high H\"}, {\"id\": \"rtl_sdr_e|7cd50155-dcf1-4804-919d-14053d2ac837\", \"name\": \"RX6 OIRT H\"}, {\"id\": \"rtl_sdr_e|beec6b02-182b-4dbb-aea3-f514bbf561e7\", \"name\": \"RX6 OIRT_hihigh H\"}, {\"id\": \"rtl_sdr_e|40f11fe0-36e9-4762-90f5-c2450c0ee33f\", \"name\": \"RX6 83 MHz\"}, {\"id\": \"rtl_sdr_e|ffca398b-3a3a-4062-83df-40869ac96d28\", \"name\": \"RX6 60 MHz\"}, {\"id\": \"3750819e-6a45-4246-a5b6-3e51218f3dc2|b62466d3-7e3e-42f2-8fad-8f4ccb775409\", \"name\": \"RX7 AirBand 118-120.4 MHz\"}, {\"id\": \"3750819e-6a45-4246-a5b6-3e51218f3dc2|c8d908bb-4939-475a-86a1-714fdd965e84\", \"name\": \"RX7 AirBand 120.4-122.8 MHz\"}, {\"id\": \"3750819e-6a45-4246-a5b6-3e51218f3dc2|fcbbf183-e13a-4a3b-a6e9-6112bfd2dd3e\", \"name\": \"RX7 AirBand 122.8-125.2 MHz\"}, {\"id\": \"3750819e-6a45-4246-a5b6-3e51218f3dc2|cb689b5c-f94b-487b-a053-7fcf9f23d8d5\", \"name\": \"RX7 AirBand 125.1-127.5 MHz\"}, {\"id\": \"3750819e-6a45-4246-a5b6-3e51218f3dc2|cab73ed2-2ebb-4901-a8e7-5b3e837c4b4d\", \"name\": \"RX7 Radiolatarnie AIR 115.6-118 MHz\"}, {\"id\": \"3750819e-6a45-4246-a5b6-3e51218f3dc2|4b823189-c265-4df2-9ab8-373c949498a5\", \"name\": \"RX7 Radiolatarnie AIR 113.2-115.6 MHz\"}, {\"id\": \"4556dd6b-7dbd-41dc-a4fe-454b3ede2bee|20ddbff8-11d5-437b-abf1-c34063418b14\", \"name\": \"RX8 AirBand 132.1 - 134.5 MHz\"}, {\"id\": \"4556dd6b-7dbd-41dc-a4fe-454b3ede2bee|b521c9bc-e45e-4e79-ba61-71ccc12930f7\", \"name\": \"RX8 AirBand 129.8-132.2 MHz\"}, {\"id\": \"4556dd6b-7dbd-41dc-a4fe-454b3ede2bee|065e6eac-e030-414d-ab5a-e944f1113ede\", \"name\": \"RX8 AirBand 127.4-129.8 MHz\"}, {\"id\": \"4556dd6b-7dbd-41dc-a4fe-454b3ede2bee|9543e03e-88c7-4a1c-95eb-be9ac5f1791d\", \"name\": \"RX8 AirBand 134.5-136.9 MHz\"}]}',\n",
       " b'\\x01\\xff\\xff\\xff\\xff\\x0e\\x08\\x08\\x08\\x08\\x88\\x00\\x08\\x08\\x08\\x08\\x88\\x00\\x08\\x08\\x08\\x08\\t\\x81\\x91\\x08\\x89\\x01\\x90\\x80s\\xd0\\x90\\x94\\x00(\\xf4\\x80\\x901\"\\x9f\\x90\\x88\\x10\\xa9\\x02\\xa1\\x04\\xac\\x87:\\xb0\\x89\\x12\\x81:y7\\x9f\\x08\\x00\\x80\\x99\\x02\\x90\\tjC\\xa2\\xc9\\x9a\\x08\\x08\\x80\\xe2\\x03\\xa0\\xa1\\x9a\\x86:\\x13\\x8d\\x92Y\\x88\\xf3\\t\\x000\\x1d\\x91\\x00\\n\\x8c\\x009\\xb7\\xc3~7\\t\\xd9\\x89\\x80\\x00\\x08\\x88\\x19(\\x99\\x81\\t(\\x80\\n\\x08\\xd4\\xa0\\x05\\x81\\xb8\\x8cR\\xa0\\xb2Y\\x08=\\xb9\\xa2\\x85J\\xb9\\x02\\x00?\\x00\\x81h\\x8a1\\x9f\\x93\\x89)\\x12\\xa8\\n?\\x89\\xb0x\\x18\\xc9H\\xa2\\x98\\xc3\\x91\\x0b!Y\\xe1\\x13\\x89\\x19\\xa8L \\x0c9:\\rh\\x98\\x89\\xa5\\x81\\x88\\x90X\\xd1\\x98\\x00\\xc4\\x01\\xd0\\x02\\xc1y\\x98\\x00\\x19\\x80\\x88:\\x0b<=9\\x81\\x8d$\\x8c\\x88\\xa4\\x92\\x82H\\x8f\\x10\\x89\"\\x0b\\x92/\\x91\\xa2X\\xb8\\xa4\\xd2*\\x02\\xd9\\x81\\x02!\\x0b,\\x07\\x1e\\xb0\\x93\\x02\\xd1 \\x90\\x00\\xb2\\r\\xa2\\x15\\x19\\xba\\x04\\xbbq\\x99\\x01\\xa8\\xc6\\xa3\\x80\\x91!\\xdb\\x04\\xa8\\x01\\x19C\\xb9q\\xb8 L\\x0b:\\xd2\\x10\\xea\\x03\\x11\\x00Kpw\\x0e\\x88\\x81\\x08\\x19\\x08\\x00\\n\\x11\\t\\x98\\x92\\x91h\\x1c\\x92\\xb1\\x08C\\xa9\\n\\xf30\\xd0H\\xb2+\\x81\\xc2\\x18\\x86\\x88\\xb1\\xb2\\x11\\xc2\\x94\\x0bS)\\xd7\\x10\\x88:\\xa1\\xc97\\x0c\\x98)\\t\\x12\\xd9@\\x1a\\xd10\\x18\\x08\\x18\\xe90\\x00\\xb9\\x87\\x08\\x81\\xa1\\x91;\\xb3xI\\xb8/\\x00\\x90\\x01\\x11\\x87+\\xb9\\x11\\xa0\\x8e\\x03C\\x1c\\x8a\\x16\\x87\\r\\x18\\x98\\x00\\x18\\x98\\x80\\x12\\x1c[\\x01\\xc8 \\n\\xb4\\x90H\\xc103\\x9e\\x10\\x8a$:;\\xc8\\x97\\x92\\x8b\\x88\\x94\\xb3\\xb1\\x90tw\\x13\\x8e\\xa9\\x00\\x80\\x81\\x80\\x91\\x88\\x1a\\x01*\\xa0>\\x11\\xd1\\x10\\x0c\"\\x18\\xb2\\n\\x90>\\x82\\xf2\\x01\\x82\\n]\\x80 \\x9b\\xa3y\\xb2)\\xba\\x80*\\x94\\x07\\n\\x94+\\x93\\xf2!\\xa8@\\x8c\\x10p\\x9a \\xc1\\xa9\\xa2\\x849\\x03(w\\x0e\\x08\\x88\\x10\\xa1\\x88\\x92L\\x89\\x80X\\x88\\xa2\\x88\\xb8X\\x18\\x02\\x1e\\x92(\\r\\x02=\\x99\\xa31\\xd1\\x81*\\xb1Y\\xf3I\\xb0\\xc28\\x01\\x89 k\\xc183s\\xb7\\xa8\\x9b\\x11\\x81\\x81\\xb0+\\xc3y\\xa0\\xa2(1\\xaa\\n0\\'\\x0e*\\xb8\\xb1\\x15\\t)\\xd9C*\\x1f\\x08\\x91\\xa1\\x94)\\xca\\x05\\x01\\x9d1\\x91\\xb8\\xb0(u\\x99\\x91B\\xa7\\x0c\\x81\\x1a\\x92\\x19\\x08\\x11\\x0f\\t@\\xa9\\x02\\xb8\\x10\\x87\\x18\\x8aw\\xaa\\x80\\x00\\x89\\x80\\xb3\\x89\\x930;\\xba\\xab\\x87\\x1ap\\t\\x91\\x16\\x9b\\x10M\\xb1\\xa0\\xa2\\xa1\\xa197\\x1dHg\\x8e\\x00\\x08\\x88\\x00\\x11\\x98\\x8a\\x19\\x91\\x18\\xa8\\x83\\xd9\\x13\\xb4\\xa0FA\\xd8\\xa3\\x0c\\x8ac\\xb5\\x9b\\x10\\x80\\x98(\\x90\\x99\\x03\\r\\x88S \\x8a\\x80\\xe9\\xa0\\x029\\x19\\x8f\\xa5\\x00\\x08\\xa2\\x00=\\x08\\xe3\\x84\\x8a\\x03\\x99\\x94\\xb8\\x00\\x85\\xd8\\xa2\\t \\xc0\\x87\\x08\\xb1\\x02;\\x0f\"\\xba9\\xe0\\x04*+@\\xa9\\xc0\\x85)\\x80\\x88(\\x81\\xc0\\xf3\\x80\\x13\\xf1\\x1b\\x18w\\xf2\\x08\\x11\\x8b\\x91\\x00\\x90\\x81E\\x8d \\t\\x88\\x9a\\x10\\x19\\x08\\x89\\x8a\\xbas0\\xba\\x82\\xe3\\xa94\\x81\\xa8\\x1f\\x83\\x08\\x9a\\xa5\\x1a\\x18\\xb4\\xa9\\x84\\xb3\\x11\\xda4\\xbaq\\x98\\x18\\xb2J\\x9a\\xb1\\xf3\\x91X\\xb0\\x03\\x92 x\\x17$\\xea&\\x15I\\x81\\x898\\xe0\\x181\\x98\\x9b;\\x02\\x9e\\xf9\\x8c\\x90\\x08\\x98\\x08\\x08\\x88\\x80\\x00*\\x12\\xae\\x03\\x08\\x80\\x8b\\x92{\\xc2\\x90\\x11\\xa80\\xf02\\xcc1\\x89:\\t\\xb2r\\x91\\xd8\\x18#2\\xbc{\\xc0\\x98\\x92\\x88\\x18\\xa9H)R\\xe0\\x08\\x01\\x1e\\x80w\\x96\\x02\\xfb\\x80\\x80\\x08\\x80\\x08\\x80\\x88\\x00\\x08X\\xb1\\x08\\x8a\\x01\\x909\\x17z\\xd0\\x08\\t\\x80\\x80\\x88\\x81\\x00\\x89\\xb11\\xa93.\\t\\x00\\xa8\\xb1z(5\\xaf\\x01(\\x1c\\x80\\x17\\x8d\\x00\\x89\\x82\\xa1w\\xc8\\x08\\x88\\x00\\x18\\t\\t\\x91\"w\\x07\\xbb\\t\\x08\\x80\\x08\\x08\\x80\\x19\\x80h\\xc2\\t\\x08\\x00\\x08\\x8a\\x00\\x90A\\x80\\xb4\\x9a\\xab \\x92R\\x9b\\xf91\\x90\\x8b#\\x08y\\xf1\\x10\\x08\\t\\xe3\\x80\\x80\\x01\\x18\\xb1\\xd4\\xa1 \\x00\\xf8\\x03-\\x80\\x89\\x01K\\x80z\\xa08\\t\\xe0\\xa1\\xb2\\x98\\x15H\\x89\\xd8\\xd2\"\\x901\\xb8\\x81\\xa1\\x8b\"y=\\xf0\\x11\\n\\xc1\\x02)\\x0bb\\xb2\\x8a\\x9ch\\xd0\"\\x86\\x8b\\x89\\x82\\x90\\xc2\\x92Ax\\xa7\\x8b\\x08\\x81\\n\\x10\\x08\\t\\x90\\xb0;\\xa5\\x85\\xb9\\xa50\\x1b)p\\'\\x8c\\x99\\xa1\\x90\\x00 \\x1b\\xa8\\x82\\x00\\xd3\\n0\\t o\\xa9*\\x00\\t)\\x84\\xbb%\\x89~\\xc7\\x00h\\xb2\"\\x8d\\x9a\\x00\\x88\\x00\\x00\\x884\\xad\\x81\\x88\\x81\\xa0\\x90\\x01\\x82\\xc0\"\\r\\xe1\\x94\\xb1\\x80\\xa2\\xa49\\x81\\xc0\\x08\\x19\\xd4\\x81\\x04\\xf1\\x01\\x19\\t\\xaa\\x93R\\xa3\\x0e\\xa3Z\\x0b\\x04\\x1a\\xb8\\x97\\x91\\x8dC-\\t\\x80)\\x81\\xba\\xa2I\\x00\\x1b\\x17\\x18\\n\\xfa\\x002\\xfa\\x11K\\x82\\xb8,\\t\\x83\\x12\\x1c\\xc8w\\x8a\\x8a\\x10*\\xa8 \\x10\\x01\\xbc\\xb5\\x91\\xb2\\x92\\x96\\x1a\\xc3\\x11\\xa1Y\\t\\xe1\\x01\\x1a\\x88@\\xf3\\x12\\xa7\\x89\\x88\\xa19\\x80)\\xc0\\xb5\\xa2y\\x1a\\x19)\\xd5\\x11K\\x98 \\x1d(\\x19\\x92P\\x8a\\xb6\\x96\\t\\xc1\\x95\\x10`\\x192#!7\\x00\\x17\\x10 \\xf8\\x90\\x18\\x01(\\x8a\\xc8\\x81\\x1b\\xae\\xca\\xba\\x8d!\\xb0\\x8e\\x98\\x80\\x08\\t\\x90\\xa2(\\x8b\\x000\\xc2\\x1c\\xa9\\x91\\xa7\\x18\\x8c\\x00\\xa4\\xb2J\\xf3\\x88\\x93\\x99$w\\xba\\x08\\x17\\x8c\\x88\\x80\\x80\\x81\\xa0\\x92\\x08\\x89\\xb4\\x92\\x19\\xa0\\xa1\\x95 \\x9aR\\x18\\x8b=\\r80\\x1b\\x9c\\xa0\\x06@\\xba\\xd11\\x88\\'\\x80+{w\\xc0\\t\\x98\\x00\\t\\x00\\x89\\x00\\x80\\x90\\x90\\xa2\\x82y\\xa7\\n\\x91\\x00\\x90\\x08\\xc3!x\\x14%\\xc8g\\xc0\\x1a\\x80\\x98\\x89\\t\\x08\\x08\\x88\\x80\\x08\\xa1\\x11\\x1aZ\\x98\\x10\\xba\\x81)\\x01J\\xd4\\x1a\\x90\\x80\\x88I\\xc3K\\x92\\xd8z\\x90\\x99\\x11I\\x1a\\x991k\\x90w\\xf2\\x88\\x80p\\x84\\x8e\\x00\\x18\\x80\\x031\\x01\\xbc\\xba\\t\\xc8\\x10\\'9\\xc0G\\xc9\\x90\\t\\x89\\x88\\x80\\x08\\x88\\x10\\t`\\x03\\xa88\\x86\\xcbQ3\\xd9\\x99)\\x92\\n \\xe8\\x9d\\x80\\x00\\x80r(\\x07\\x8c\\x98\\x81\\x8a(!\\xb9\\n\\x17\\x9b\\x18\\xa8x\\x96\\x1a\\x91\\x08&\\xba\\x99\\x82 \\xd0\\r\\x88\\x08\\x80\\x80\\x91\\x081\\'\\x1f\\x890F\\xc8\\x9a\\x08\\x80\\x80\\x88\\x08\\x08\\x90\\x80\\x80\\x82\\x88\\xa0\\x00\\x00\\x11\\x9a\\xc0\\x12Yww\\xb9\\x90\\t\\x88\\x00\\x80\\x88\\x00\\x80\\x98\\x10\\x91\\x08\\xa3\\x19\\x10\\x18\\xad\\x92\\x92\\xf3\\x820\\xf3*\\x18w\\x07\\x8e\\x80\\x80\\x80\\x80\\x18\\x89\\x00\\x88\\x81\\x08\\t\\x11\\x90\\x88\\x892\\xa0\\xa2\\x11tw\\xa7\\x89\\x8aB\\x95\\x8d\\x18\\x98A\\xb9\\x08\\x88\\x80\\x00\\x08\\x18\\x08\\x98\\x88\\x08 \\x12\\xdb@\\x8a\\x93\\xd3\\xa9)\\xa19\\x07\\xc6*\\x808\\xf3\\x08\\x89\\t\\x01\\x028\\xd9y\\x97\\x8a\\x19\\x88\\x80\\x80\\xd2;\\x93\\x11\\x9b\\xa3\\xd9@r\\xb7\\x89\\x081w(\\x82\\x8a\\x03\\x99\\x93\\x88\\x14\\xd0\\x0bA\\x02\\xda\\n\\x81\\x17\\xa8\\xfa\\x9d\\x80\\x80\\x808\\x98\\x88\\x08\\x08\\x18\\x08\\xb8\\x83(\\x80\\xccu\\x87\\x8a\\x81@\\x87\\x8c\\x08\\x88R\\xe0\\t\\x08\\x80\\x08\\x08%\\xca\\x80\\x80\\x08\\x08\\x80\\x91\\x80\\x90\\xa8\\x02\\x19\\x98$rw\\xb8\\x9a\\x00\\x88\\x08\\x00 \\x98G\\xa0-\\xa1x\\x07\\x9c\\x10\\x89\\x80\\x80\\x89\\x80\\t\\x00\\x90\\x80\\x08\\x10\\x89\\x1a\\xa02\\x1a\\x88\\x1c#\\xdc\\x86\\nq\\x17\\x8e\\x08\\x88\\x81\\x18\\x90\\x80\\x891\\xc1\\x98\\x81\\x88 \\x18\\xa3\\xc0Q\\x1cH\\xc1\\x1e\\x01\\x90\\t\\xc12\\x8a\\x94+\\x9a\\x86xg\\x9b\\x88s\\xa5\\x8c\\x00\\x11\\x13\\xeb\\x89\\x08\\x88\\x00\\x00\\x08\\x98\\x10\\t(Ft\\x93\\x9f\\x90\\x08\\x80\\x88\\x00\\x80\\x18x\\xb3\\r\\x80\\x80\\x88\\x81\\x88\\x00\\x88\\x81\\x08\\x19\\x00\\x98@\\x9b<w\\x8c\\x80\\x08\\x88\\x00\\x91\\x90\\x18\\xa8#\\xb0\\x1a<y\\x8a!\\x8e\\x00!\\x0b\\x02\\xe2\\x00\\x1a\\x11:<+\\x1f9\\x92\\xca`\\x9ah\\x9a\\x84\\x19\\x90\\x11\\tr\\x17\\xc4x\\x97\\x1b\\xa8\\x80\\x89\\x80\\x91\\x80\\x80\\x08\\x92\\t\\xa1\\xa9\\x97 \\x99(*\\x80t\\xb9\\x02\\x81\\xbb\\t\\x02\\x04\\x1f:\\x8a9\\x00\\xc19\\xc1\\x01v\\xb7\\x0br\\x82\\x18\\xf9\\ts\\x80\\x00\\xbc\\x88\\x80\\x80\\x00\\x80\\xa0\\x02\\n\\x88\\x10\\x97\\n\\x80\\t\\x91(y\\x8a\\x19\\x10\\x88\\xb11\\xb9c\\xca\\x82\\x1e\\x10\\x819\\x1b\\xcb\\x03x\\r\\x081\\x88\\t\\xba\\x81a\\rw\\xa8\\x91\\x8a\\x00\\xa0\\xa1\\x83\\x89J\\x01k#7Q\\x1b\\t0\\x08\\xb4x\\xa9\\x94\\x0b\\xda\\x99\\xaa)\\x91\\x9a\\x01\\x84\\x99\\x19\\x98\\x00\\x9d\\x11\\x10\\xbf\\x07\\xab \\xb12\\x08\\xd0\\x81\\x08y\\xa0\\x1a!\\x98\\x881\\xd5\\x88\\x9a\\x17\\x98\\t\\x86\\x8b\\x98\\xc4\\x02\\x81\\xc4\\x08(xw\\x07\\x90\\xcb\\x80\\x08\\x08\\x88\\x80\\x802\\x9c\\x80\\t\\x81\\x88\\x91:\\x809\\x18\\x95\\xa0)\\xea\\xa4\\xa1,\\x04\\xab\\x85\\x98\\x819\\x98\\x02\\xd8$\\xdbq\\xd0 \\x88GX\\xd9\\x89\\x00\\x88\\x80\\x00\\t\\x98\\x01\\x02\\x89\\x91*\\x109\\xf3!\\xc9\\x83\\xb9\\x1a\\x13\\xa7k\\xb1\\x0cI\\xa9\\x003\\x90\\xd8\\x01\\x0c\\x86 \\xe0\\x08\\xa02\\xba\\x819Jx\\xe7\\x00\\x88\\x91\\x10\\x91\\x9a\\x08\\x93 9\\x0b\\xa1ww\\x06\\x98\\x9d\\x80\\x80\\x08\\x80\\x92\\x89\\x80\\x08\\x88\\x08\\x81\\x80\\x08\\x00\\x1a\\x94\\xc9\\x81\\xb8\\x04\\x18\\xc9\\x07*\\x90[\\xb8\\x11\\x1a\\x01\\x8a\\x12\\x89\\x97\\x1e\\xb4\\x00\\x99\\x85\\xaa\\x14\\x10r\\xd7\\x1a\\x80\\x08\\x80\\x10\\x8a\\x00\\x08\\x91\\x18l\\x91\\xa0\\x93\\xbai:\\xb3\\x1c\\x01K\\xabA\\x91\\xc0y)\\xbb1J\\x88\\xaa\\x05\\x19\\x98\\xd4K*\\x85\\xc8\\xa3\\x00\\xa01\\xb9x\\x1c\\x89\\x90\\x04=\\x97\\x8a)w\\x9b\\x80\\x90\\x08\\x81\\x80\\x80\\x88\\x00\\n\\x808\\x1e\\x8ap\\xa1\\t\\x82>\\x90)\\r\\x840\\xb8\\x89\\x19\\xb7k\\t\\x98\\x01\\xa1\\x99\\xa1\"R\\xb8\\t9\\xd2z\\x8a\\n\\x85\\x0c\\x84\\x89*\\xa2\\t\\x96\\xab\\x82R\\x93\\n@\\x8f29\\x90\\x0f\\t\\x84\\x1b\\x89\\x8b\\n\\x11y\\xc10\\xc8\\n\\x95\\x1a0\\x82\\x1b\\x92q*\\n\\x1a\\x9c6\\x96\\xab\\x00\\x91\\x1d\\x99\\xa4\\x95\\xa1w\\xa7\\x8b\\x00\\x88\\x80\\x80\\x80\\x00\\x88\\x98\\x10\\x90:\\x02\\x0e\"\\xb9\\xa8D\\xa1\\xc8=\\x10\\xb1\\xe00\\x88\\x88\\x01\\x8cCK\\x98\\x80\\r\\x04\\x0e\\x10)w\\xd7\\x80\\x80\\x08\\x88\\x00\\x08\\t\\x81\\x08\\x91\\x91(\\x02\\xdb8\\x8a\\x91\\x00\\xc2\\x91\\x83\\x8c\\x19\\x12\\xbb\\x87\\tv\\x87\\xab\\x98\\x01\\x18\\xa2\\x15\\xc8,\\x00\\x1a9\\xf2\\x00\\x81\\x91\\x19\\t\\x02\\x84\\x9f \\xa8H\\x197\\x80\\x9e\\x90\\x80\\x08\\x888\\x18\\xc1 \\x1c\"{\\x99w7\\x99\\xdb\\x00\\x08\\x08\\x10\\x08w\\x92\\x8e\\x08\\x08\\x88\\x10\\x98\\t\\x80\\x08\\x90\\x08\\x80\\x08\\x08)\\x08\\t\\x99\\x109+\\x9c\\x97\\xa2\\t\\xa00\\x04\\x0c\\xc0\\t\\x14\\x1d\\xa8\\xb2\\x86\\xb8\\x18\\x80\\x83\\xa3\\xeb\\xb6P;\\x0b\\x81\\xb8r\\xa6)\\x08\\x07\\xba\\x98\\x80\\x889\\x1bzW\\x8d\\x88\\x00\\x80\\x08\\x80\\x00\\x08\\x99\\x81\\xa9\\xa6\\x00\\x00\\xc2(\\x11\\x9a\\x81\\x12\\xb1\\xad\\xb4\"\\xf8H\\x08\\x007\\r\\x0b\\x90\\xa1A\\x0b\\xc2\\x80\\x1a (\\x07\\xba\\x90\\x92\\x95=\\xd3\\n\\x10\\x11\\x82\\xc2=\\ns\\xd6\\x88\\x08q\\'(\\xb0\\x9f\\x88\\x80\\x00\\x88q\\x98\\x08\\x98\\x89\\x80\\x80\\x00\\x98\\x80\\x02\\t\\t\\x00\\x89\\x05\\x99\\x89\\xa8q\\x01\\x9a\\x98\\x00\\x93A\\x18\\xfa)\\x91\\xba\\xc10\\x18\\x06\\xb9\\x90\\x97>\\x82\\x80\\x90a\\x91\\x8f\\x01\\x10\\x9c\\x18\\x02\\x8a\\x80i\\xc8\\x139\\xe4\\x88)\\xa1\\xa1 \\xd2\\x99i\\xb4\\x98\\xb8\\x14w\\x85\\xb8\\x8b\\x88\\x10\\x98\\xa8\\x10\\x88I\\x10,)\\x86\\x1c\\x88*8\\xb0\\xaa%/\\x81\\x8a\\x918\\x82\\x0e\\x02\\xa1*\\x89/\\x82\\x08r\\x07\\x9c\\x08\\x98\\x01\\x99\\x92!\\xd2\\x01\\xd8\\x12\\x89\\x0b\\x19\\x84\\x0cG\\xba\\x00\\x18\\x08#\\x9d\\x90\\x0c\\x00\\x97\\x88;\\xc1\\x03>\\x00\\xa8\\x01\\x98\\x93\\xf0A\\xc0\\x90\\x02\\x19\\xe1\\xa4(\\x9a@\\x88\\xa98\\x8aqB\\x1a\\x9fX\\x82\\x9a\\x08\\t\\x19\\x9a3\\x10\\xf8\\x80\\xc8\\x05:\\xc2\\x08\\x0c\\x80\\x80\\x87\\n\\xa0\\x803\\xc0\\n\\xd1\\x13<\\x92A\\xf89\\x19\\xb6\\xa0-\\x00\\x82\\x19+W\\xab\\n\\x830\\x0b\\x17\\x0f\\x91\\n\\x11\\x99\\x00\\x00\\xa9\\x06(\\x8a\\x8a\\xc2\\xd2\\x92Y\\x88\\x91\\x87\\x88\\x81\\xc8\\xa1\\x81k\\xb8R\\xb3\\x1c:;\\x8b\\xa1x\\x97\\x89\\t\\x888\\x19\\xe9\\x84(\\xaa\\x81\\xb3\\x02\\xc3iL\\xc7\\x88\\x00\\x08\\x90\\xa1\\x01\\x059 \\x16\\x87\\x03\\x1aN\\x18\\x91\\xa2\\x90\\x0c3\\x18\\x9c\\xbb\\xab\\xaf\\x98\\x07\\x9b\\x89\\t\\x82\\x89\\x829+\\xd3\\x18\\x99\\x08\\x87\\x99\\\\\\x00\\x08\\t\\x80\\xe2\\xa09!\\x98\\x88\\xc0\\t\\x024\\xe5J\\xb0\\x17\\x8b\\x80\\x89D\\xc9\\x98!\\t\\xc81\\t\\x98\\x10\\x0b\\x00\\x91\\xf1\\x02zK\\xa8\\x19\\x91\\x05yw\\xa1\\xba\\x88\\x80\\x80\\x88\\x80\\x90\\x00(\\x98\\n\\x94\\xd9A\\x88;$\\x17\\x9d\\x88\\xa1\\x90\"\\x80\\x88\\x0f\\x11A\\xf2\\x80\\x02\\x0c\\x80\\x181\\x14\\xf9\\x8a\\x10+\\n\\x03;\\n\\n\\x19\\x81\\xa9\\x12q\\xf1\\x82\\xa3\\x88\\xba\\xe4\\x95s\\x99\\x999\\xb1\\xc3I;\\xc9\\xa4(\\x10p\\x07\\xe0\\x88\\x90\\x88\\x02\\x08\\x88\\x918\\x9a\\x184w\\xd0\\x98\\x80\\x80\\x08\\x81\\x890\\xa1\\n\\xc98\\x04a\\xb1\\x0c\\x01\\xa9\\t)c\\x8a)\\xe9\\x11\\x9a\\x87\\x17\\x0e\\x88\\x80\\x80\\x91\\x90\\x02\\x081w\\xf2\\t\\x80\\x80\\x80\\x90\\x80 \\t)w\\x17\\x88\\xb8\\x8d\\x80 \\x17\\x88\\xac\\x08\\x80\\x08\\x08\\x08\\x88\\x80\\x00\\x90\\x80\\x80\\x80\\x81*\\x80\\x19\\xb0Hj(\\x8b\\xa0\\x89\\x04\\x13\\xd7\\x99@\\x99\\x88A\\x1d\\x88\\xa0\\x02\\x88p\\xb5\\xb8\\x01\\xa1\\x82\\x99\\x18\\x04\\xa2\\xf4X*\\x19\\xc1\\x10w\\xb0\\x89\\x12\\x11;\\x15\\xbaC\\x85\\xba=\\x13\\xca*\\xb9\\xad\\x80B\\xd8\\x80\\x80 H\\x85\\x9a\\x140\\xc1,\\x80\\x11\\xb9H\\xb1\\x04\\x8c\\x14\\xbbH\\x83\\x8a4hG\\x8f\\x80\\t\\x80\\x98\\x08\\x08\\x08\\xb8\\x88\\x90\\x83\\xbc\\x08\\xf3\\x08\\x90\\x99\\x91\\x18r\\xb2\\xa9\\xb0c\\xc1r\\'A\\xfa\\x89\\x80\\x80\\x88\\x80\\x00\\x00 \\xb9\\x90\\x90\\x01\\x18\\xa8\\x83/w\\xd7\\x08\\x08\\x80\\x08\\x88\\x80\\x00\\x08\\x90\\x91\\x80\\x00\\x08\\x12\\xca\\x13w\\xc6)\\xb0\\x88\\x80\\x08\\x08\\xa1\\x10\\x19\\t\\xb5\\x08\\x80\\x81\\x8b\\xa4\\xb2\\x11;\\xc2\\x01\\x94\\x90M\\x11<)\\xe4q\\t!AW(Y\\x85\\x9d\\x80\\x80\\xba\\x80\\x88\\x90\\x80\\x90\\x10\\x88\\t\\x80\\x00\\x98)\\x1a\\xaa\\x02\\x1bw\\xa9\\x88\\xaa\\x02%\\x1d\\x89\\x80\\x99\"\\x1bx\\x1b8{\\xa9\\x19\\x80zw\\x9c\\x00\\x80\\x88\\x00\\x08\\t\\x81\\x80\\x10\\xa2\\xb8&\\xb9\\x908\\x18w7\\xa9\\x01s\\xa5\\x9c\\x88\\x10\\x08\\xca\\x08\\x88\\x80\\x80\\x80\\x80Y\\xc2\\x88\\x00\\t\\x11\\xb8\\x9a\\x13\\t\\x01-\\x89]\\xa1\\xc2\\x10\\t\\xa11\\xba#\\xbf5\\x8d0\\x9a\\x12*\\x957y\\x87$\\x9c\\xb0\\x99\\x08\\x91\\x88\\xa3yG\\xd9\\x88\\x00\\x88\\x90\\x88\\x80\\x00\\x19\\x00\\x99\\x00\\x00D\\xbb\\t\\x90\\x80\\x10\\xa0 \\x1b`\\xb0\\x958w\\xbb\\x91\\x10\\x89\\x18,\\x019`\\xd4\\x89\\x10\\x98\\x80\\x10\\x89\\x03\\x0c\\x18(L9{g\\x12\\x08y\\x84\\x8d\\x18\\x98\\xa9\\x99\\x80\\x18\\t\\x80\\x00\\x18\\x10p\\xd6\\x08\\x80\\x00\\x00\\x08\\x11(rW\\x98\\x18\\x01\\x17\\xc9\\x98\\x08!\\xd1\\x8e\\x80\\x08\\x88\\x80\\x80\\x88\\x91\\x18\\x88\\xb1\\x88\\x80\\x93\\x80\\x04\\xcb\\x91\\x88\\xe2\\x03\\x10Qr\\x17\\x03\\xa1\\x90\\x93\\x13\\xc0\\xa5\\x00\\xc1\\x91Y\\xa92*\\x8f\\x94\\x81\\xcb\\xe0\\x0c\\x9a\\x90\\t*\\x88\\x10\\t\\x16\\xa9\\xaa\\x81\\x89X\\x8aJ\\x89\\x80\\x10\\x11\\nw\\x10G\\x00\\x08\\x80\\x19\\x90\\x91\\x1d\\x88\\x94J\\x08\\x80A\\x9c@\\x18\\xab\\xe9\\xbf\\x89\\x80\\t\\x00\\x9a!\\'\\x8d\\x88\\x81\\x08\\x81+\\x91\\x1a\\xaa\\x94\\xa0\\x10\\xf2\\x92X\\xa9\\x02q\\xb7\\x0b\\x81\\x98\\x82\\x00\\xa0\\xa0qg\\x9c\\x88\\x80\\x00\\x91\\x01\\x01\"\\x9f\\x88\\x00\\x80q\\xf3\\x88\\x90\\x00\\x00\\x08\\x91\\x08\\x90\\x81\\xa7\\t\\x81q\\xc5\\n\\x08\\x80\\x80\\x04\\r\\x08\\x00\\x18\\x1a\\n\\x19\\x808\\x99\\x89\\x93*\\xca:x\\x88\\x18\\x0b0\\x01\\x8a\\xbf\\x06 \\xa5\\x8c*0\\xa1\\x1e\\x1a\\x10!ww\\xb2\\x8d\\x08\\x08\\x12\\x90\\xc9`\\xb0\\t\\x88\\x80\\x805C\\xfa\\n\\x08\\x08\\x81\\t\\x10\\n\\x90\\t\\x10\\xb88\\xa7\\x08\\xa81\\x0c\\xa3\\x90+2\\xca\\x993\\\\\\x19Z\\xa1z\\x9b\\x90\\x00\\x81\\xa0G\\xba\\xc089\\x8a\\x82v\\x07\\x14\\xf9\\x89\\x08\\x08\\x00\\x88\\x80\\x00p\\xa3\\x8d\\x88\\x00\\x80\\x88\\x08\\x18\\x80\\n\\x81\\x08\\x82;\\xb9n\\x909\\x00\\x81\\x1c(\\x9e\"\\xa3\\x88\\xaavw\\xb2\\xaa\\xa0\\x08\\x88\\x00\\x90\\x10\\x89\\x81\\x88\\x91;qw\\xaa\\x88\\x80\\x80\\x88\\x00\\x88\\x80\\x90\\xb11w\\xe4\\x88\\x80\\x08\\x08\\x08\\x80\\x19\\xb1\\x92\\x80\\x98\\n\\xa4\\x80Dw\\x07\\x9c\\x14\\xca\\x80\\x80\\x08\\x08\\x80\\x88\\x00\\x80(\\x99\\x90\\x00\\x08\\x92J\\xb0\\x92\\x13\\n?!\\xba2\\xec\\x85\\xa9 s\\x9b\\x91\\x08\\x83\\x18yg\\x8d\\x88\\x80\\x00\\x08\\t\\x80\\x88\\x10\\x08\\x8a3\\xda\\x18\\x11\\xb8\\x0cH\\x91Q\\r\\x99d\\x0b\\t\\t\\x0b\\x83\"-\\x1a\\x18(\\xe0 \\x01\\x9a=\\x0b\\x97\\x92\\xb10\\xbcS\\xe9\\x91 \\x19J/\\xa0(\\x00t\\xb7\\x89\\t\\x18\\x98\\x01\\x80\\xa1\\x80\\x01\\x90\\xa2+\\xf1\\x15\\x89\\x1a\\x81;\\xbc\\x824\\xbb\\x1a\\x81\\xc79\\xa5;\\x88\\xb8b)\\x88\\x9aL\\xb3\\xc2;\\x9f\\xb44\\xd8\\x08\\x94\\t\\xa0\\x10\\x12P\\x99\\x8d\\xc03*w\\xaa\\x08G\\xbb\\x88\\x00\\x88\\x80\\x10\\n\\x19\\x18\\xc9\\x04\\x18\\xa1\\x0c\\x05\\xaa\\x82\\xbc\\x06\\x82\\x1a\\x00\\x18\\x9d\\x14\\xd1\\x08\\x83\\x99\\x98\\x03,0\\x95\\x8c\\x1a(\\x0e\\xd2\\x80\\x04*-\\xa1\\x83=\\t:\\x9a\\xa7\\x10z\\xa6\\n\\x08\\xa0\\x08\\xb4\\x11\\x8a\\x91\\xc3\\x0c\\x12\\xa2\\xf3\\x85\\x8a8\\x1b\\x90\\x18\\x90^\\x928\\xd2\\x89\\xa0x\\xa8\\x99!\\xa99\\x05\\x8a \\x1d\\xa2w\\x8c\\x80\\x80\\x88\\x10\\t)\\xd1\\x10\\x00\\x00,\\x08\\xb1(\\x18w\\xe0\\x08\\x08\\x00\\x998\\x80\\x08\\xa9\\x14\\x91\\xa1\\xf1\\x107t\\'\\x80\\xe9\\x8b\\x80\\x01\\x88\\x08\\x88\\x08\\x80\\x80\\x08\\x08\\x91\\n\\x03\\x1b\\r5\\xa9K\\x90\\x0c \\xa2)\\x9a#\\xbd\\x8a\\x87\"\\x81\\xba\\r\\x81\\x07)G\\x8f\\x00\\x08\\t\\x01\\x19\\x80H:\\t8\\x92&8C2Wd\\x91\\xac\\x98\\x99\\x89\\x98\\x19\\t\\xc9)\\x11\\xbb8\\x98\\x08\\xa5\\x12\\xfa\\x19\\xa2\\x82\\tp\\xd8\\xb0\\x82\\x02\\x84\\r\\xa0\\xa9A\\th\\x9c(Q\\x88\\xa9\\x92\\xa8\\xa1\\x06\\xa8\\x00\\x08\\xf0P\\x1a\\n\\xb4\\n\\x01(\\x81\\x0b\\x96iw\\xac\\x81\\x00\\x08\\x80\\x10\\x8b\\x84\\x99\\x81\\xa0\\x11\\xb0\\x81*\\xa7\\t*!\\xe10\\xc80\\xa0\\x8b\\x1cN9\\xb3>\\xc0e\\x0b\\x17\\x8d\\x08\\x90\\x08\\x01\\x01\\x8b\\x88\\x11\\x89\\x1b\\xb2@\\xc1\\x13\\xd00ix\\'A\\xa0\\xc8\\x8f\\x08\\x08\\x80\\x00\\x89\\x00\\x90\\t\\x00\\xa30\\x8b\\x00\\x1e\\x90(\\xa0\\x97w\\xba\\x00\\x88\\x80\\x18)\\x80\\xb0\\x8a3\\x98{\\xa7\\n\\x80\\x80);\\x08\\x99\\x87\\x99\\x00\\x1d\\xa21\\xaa\\x01=\\x08)\\x80ZH\\xbb \\x0fP\\x9b\\x02\\x8a\\x92\\x0b\\'\\tw\\xb8\\xa8\\x80\\x08\\x88\\x81\\x92Y\\x0b\\x95\\x9a \\xc0:\\t\\x049\\x83n\\xb0\\x1aw\\xab\\x18\\x88\\x10\\t\\t\\x00\\x88!\\x1b\\xc12\\xf1)\\x80\\x18K)\\xc0L\\xc1\\x10\\xa1\\x1a\\x18f\\xb8\\x99\\x08\\xb3!\\x9bz\\xd8\\x10\\x08\\xa3\\x18\\x90\\x90<\\x87\\xa8\\x1b\\x84\\n\\x11=\\x98\\x94\\xcc!)\\x01q\\x87\\x0f\\x00\\t\\x88\\x82\\x08\\x89$\\t\\x99\\xca\\x97\\x18\\x88\\x88:\\x809k\\xc91\\xd9\\x12\\n\"\\xabB\\x99\\xbc\\x12;\\x87\\x88\\x8a%\\xa8|\\x98\\n\\x81\\x10\\x025\\x93\\xd0#\\xa8\\x01\\xd8\\x19\\xe1\\x80\\xb7\\x92z\\xf8\\x80\\x00\\x08\\x08\\x98\\x10\\x99\\x81\\x00\\x89Y\\x14\\x8d\\x08\\xa0B\\xa8\\x0c\\x82Z\\x88\\x19=\\xb2\\x82M\\xa1\\n\\xa0\\x878,\\xaa\"\\xa9\\x10\\x0f\\x13\\x98(\\xf1\\x10J\\x80\\x92\\x1d8w\\xa7\\x8b\\x80\\x19\\x90 \\x07\\x8c\\x08\\x88\\x80\\x81\\x89\\x80 \\xa8\\x11\\x99\\xc5\\x01\\x89Q\\t;\\xc90]\\x91\\x89\\x08#\\x1d%\\xa9J\\x98)\\xb1C\\x1e\\x89\\x04\\x88\\xb8\\x91\\x89\\xcc\\x86\\x82\\x94\\xa8|\\xa0C\\xa4\\xbb\\x11 \\xa4\\xe8\\x89Y\\xa2\\xbb\\x03\\x19\\xc0\\x06\\x9b\\x00\\x89\"\\xb1\\x1c\\xcb\\x12\\x08Y\\x98\\x92\\x82\\x8f\\x02\\x81K\\xb9,1\\x1cq8\\xcb\\xa8\\x88s\\xa9\\x90<\\x91\\xa3\\xc1\\x03\\xb3\\xd9\\x03\\xd1\\x19\\x10\\x03\\x19\\xf1\\x1a\\x13-D\\x07\\x9b$w\\xd9\\x08\\x08\\x90\\x08\\x80\\x18\\x19\\x00\\xa9\\x82\\x80\\x90\\x19\\x91\\x91Bw\\xc7\\x89\\x00\\x80\\x08\\x00\\x91\\x89p\\xa0\\x00\\xaa\\x08\\x10\\xa8\\x00\\x02\\x8b\\x19\\xc8\\x15\\x0c\\xb8\\x05\\x80\\x18\\xc0\\x08\\x00\\xe0\\x15\\x0b\\xa2\\x1909\\x1a\\xf3\\x91\\x8e\\x95\\x00\\xa2\\x01v\\xb8\\x99\\x00\\x98\\x00\\x18)\\x9a\\x19V\\x84B\\x90w\\xf3\\x88\\x88\\x88\\x00\\x08\\n\\x10\\x90\\x89\\x93\\x00\\x88\\xb2\\x95\\x81\\x03{\\x89\\x93p\\x00w\\xb4\\x81)p\\x93\\x8d\\x88\\x90\\x9a\\x08\\x99\\x80\\x88\\x88\\x08\\x19\\x19\\x98\\xb1\\x10\\x98K+\\x08\\x1c\\xc3\\x17\\x89\\xb8\\x91\\xb2\\x92\\xbc\\xa5j\\x19*\\xa9\\x94\\xb1\\x86\\t\\x919\\xea8H\\xd8 \\xab\\x94\\xa9$T\\xaa\\x1aZ\\xa9Z\\xa0\\x12\\x1a\\xd2$\\x0e\\x80\\x88\\x91\\xa8 \\x10\\x98\\xf30;\\x9b\\x94\\x01\\xc8\\x85\\xa8t\\xb9)\\x1b\\x00\\xa3\\xa0\\xa0#w\\xd7\\x08\\x80\\x08\\x00\\x99\\x00\\x00\\x8a\\xb3\\x11\\xf1:!\\x89\\x0bX\\x02-\\x8c\\x00\\xa2\\x10\\x99\\xd5\\x82(\\x1c\\x02u\\xe1\\x80\\x80\\x89\\x18\\x02\\xa12\\x82\\xf0u\\x06\\x89\\x82p\\x94\\x9c\\x80)\\x90\\xac\\x00\\x80(\\xa9\\x89\\t \\xc89\\x90\\x91*\\x88m\\x98\\x08\\x90\\x03\\xc8\"\\xb9\\x18\\x04\\x1b\\x8f\\x83(\\xb9\\x17\\x0c\\x98\\x12\\x91y7\\x9f\\x00\\x88\\x91\\x08\\x90\\x10\\x91\\x88\\x91Y\\x98\\x88\\xa3\\xa8\\nx\\x91\\x18\\x0c;\"\\xf1 \\n\\xb11\\x07,\\x1a\\x80@\\n\\x81\\n\\x8f\\xc2\\x83;\\x89\\x83\\x1cM\\xb28\\x19\\xb5z\\x99@\\xd2Z\\x18*r\\x97\\t\\x93y\\x17\\xbb\\x00\\x1a\\x11\\xfa\\x80\\x80\\x80\\x18\\x80\\x80qP\\x91\\xb0\\x11I\\'\\xda\\x08\\t\\x81\\xc8\\x0b\\x88\\x80\\x00\\x88\\x80\\x88\\x18*\\x88\\x90!\\x08\\xa9\\x910y\\xb91\\x1e\\x9a0\\xd94\\xa9[\\x01w\\xba\\x08\\x18A\\x15\\xb2XG\\xcb\\x80\\x80\\x99\\x8a\\x80\\x80\\x80\\x08\\x82\\x8a\\xa2:\\x08\\x98!P\\x0c\\x08l\\x98\\xa2Ug\\xb8\\x007\\xe0\\x89\\x10\\x98\\x89\\x08\\xb1\\x08\\x08\\x18\\x91\\x89\\x90\\x80\\x18\\x90\\x10H\\x91|\\x07\\x8e\\x80\\x00\\x88\\x00\\x08\\x18\\x1a\\x91\\x00\\x99\\x12\\x8a\\xa0\\x91\\x04|\\xa0\\x80\\x89\\x11\\x80\\xd0\\x94(\\xe0}\\x87\\x0b\\t\\x18\\x89\\x18\\x88\\x01\\x98\\x95\\x89\\x90\\x92\\xe3 *\\xa9\\x82\\x92\\xe8@\\x98\\x19\\xb1\\xa4H0sw\\xa5\\x8d\\x08\\x08\\x08\\x08\\x90\\x91\\x00\\x99\\x029\\x99\\x81-\\x80\\x02p\\xa8\\x99\\xb2\\x01\\x99\\x81\\xa4\\xb47\\x0c\\x08\\xa5\\x8c\\x91 \\x89)\\x95\\x08\\xc9=\\x92)8-\\t\\tI8\\xb9\\xf8@\\xa8\\x13\\xad\\x12\\x87\\xb9( \\x90\\xd0K\\x809|\\xa8\\x1a\\x93\\x93\\x18\\xc4\\t(\\xc3\\xb0\\x9a\\x84\\x8a\\x87\\x1b \\x89q\\x07\\x0f\\x88\\x08\\x82\\tx7\\xad\\x81\\x80\\t\\x88\\x80\\x80\\x80\\x08\\x80\\x80\\x81\\x90\\xa1;\\x81M\\x84p\\xc0\\x99\\x00\\x88H\\x90\\x98\\x89\\xa5\\x81\\x18\\xb4\\xb81\\x88\\xf9\\x19\\x00\\xc1\\x83(Z\\x18\\x9a\\xac\\x13TM\\n\\x10N\\x90\\x98\\x88(\\x89Q\\xda\\x92\\x80\\xa3 \\x8cI\\x80\\xc4\\x88\\x98\\xd1\\x94P\\n\\x80\\xf2 *w\\x9b\\x80\\x08\\x08\\x98 \\x90\\x088\\xc6\\x90\\x99\\x93\\x19@\\x89\\xe8\\x80P\\x8a\\x10\\xd2\\x10\\x82\\xa0M\\x01\\x98\\x9a\\x84\\x0e\\x01\\xa8s\\xd5\\x18\\x88\\x18\\x8a\\x00\\x00\\x18\\xa9#\\x8c\\x81\\xa9)\\xb58\\x83\\xf0\\xa1\\x1cq\\'\\x8e\\x80\\x18\\x88\\x98\\x10\\x19\\x81:\\x08\\x08\\x84\\x0c\\r\\x93c)\\xa9)\\xc9\\x80\\xcaI\\x11\\x89\\x00u\\xd7\\x80\\x88\\x18\\x00\\x08\\x19\\x919\\x8b\\x90\\xa2\\xc1P\\x0c\\x18\\x008\\xb2\\xf1\\xb8\\x95\\x82\\x93\\xc9\\xa3\\xacw\\xe4\\x00\\x88\\x88\\x81\\t\\x10\\xa8\\x90\\x13\\x98\\x19\\xa5r\\xb6\\xc0\\x000\\xca\\x10\\t\\x81\\xa8\\x90\\x03\\x80\\x9aw\\xaa\\xa2\\x10\\x1a\\x99\\x01\\xa2\\x19\\x83\\x9c3=)\\x0fZ\\x89\\x19 <\\xba{\\xa1\\xa11*\\xd0XW\\x8e\\x00\\x08\\x90\\x08\\x00\\x10\\x19\\x81\\xb1\\r\\x08\\xb0\\x03\\xaaR\\xa9Y\\xa2-;\\xf4\\x08\\x81\\x01\\x18\\x88\\xb7\\xa0I\\x01\\xb0\\t=\\xc3\\x1a\\x04\\x99\\xb5Z\\x021\\x9e\\x98\\x80 \\x1a\\xba\\'\\x99\\xa9$\\x8e\\x93x\\xe5\\x08\\x08\\x18\\x90\\x10\\x89\\x91\\x18\\x98\\x80\\x01\\xb1\\x82{\\x917\\xf3\\n\\x98\\x10\\xa1\\x91\\x01\\xb9\\x81\\x98x\\xa0\\n\\x93\\xa8\\x17\\x90\\xa0\\xf9)A\\x91\\x0b\\x00\\x10\\xfa\\x01\\x900\\xa9B\\x88\\xc1\\x03\\x02\\x82\\x1fzw\\xba\\x00\\x80\\x90\\x19\\x81\\x98\\x80\\xa9\\x81\\x91\\x8a\\x13\\xb3p\\xd19.\\x8a\\xd3\\x04\\t\\n\\x02\\x08\\x98\\x82\\x91v\\xe5\\x18\\x89\\x88\\x92*(\\xba\\x13!\\x1e\\x08\\x80;\\n\\n\\x80y\\xc3\\x1b\\x08\\xcd\\x16 \\x80q\\x17\\x8f\\x80\\x08\\x80\\x88\\x81\\t\\x81\\x88\\xa8\\x02\\x84+)\\xe1) \\xc0H\\xa08\\xfa\\x00[(\\x89\\x01\\x1c\\x98\\x83\\x84\\x02\\x9f\\x188\\xba\\x15j\\xa0\\x80\\x99\\t\\x81\\x99\\x01\\xa7\\x92(\\x00\\x11_\\x9b#\\x98V\\x8e\\x08\\x18\\x88\\t\\x08\\xa0\\x95(\\xa9\\x93\\x98B\\xcd\\x91)p\\xa1\\x1b\\x91h\\xb2\\x1d\\x98\"\\x90\\x01\\x1b\\xf1\\xa4\\x98X\\t)\\x08k\\xc9\\x949\\x9a\\x10\\x98H\\x96\\xbb!\\x19c\\xab*\\x85\\xc0()z7\\x9f\\x00\\x08\\x80\\x88\\x81\\x80\\x18\\x98\\x19\\x90$\\x99\\x98>\\x02\\xc9(\\x8c\\x84\\x19\\x90\\x88Y\\x0f\\x83*\\x80\\x00C\\xaa\\x1d\\r\\x01\\xa4\\x83\\xbap\\x19\\x8d\\x92\\x112u\\xb0\\xab\\x12\\x0c\\xa8\\x88\\x01\\xc4\\x80\\xb0w\\xe4\\x88\\x00\\x08\\x08\\x08\\x80\\x80\\xa08\\x18\\t\\xc0\\x18A\\xf9\\x00\\x10\\xa0#\\xb0\\x11\\x9f\\x04\\xa0\\x10\\xd9!J\\x898 \\xcc\\x18A\\xd0L\\x10\\x88\\x0b\\x93%\\x1f\\x97\\x8a\\x08\\x18\\t\\x91\\x9a\\x01\\x00)\\tpw\\x9c\\x80\\x80\\x88\\x11\\x88\\x80\\x98*\\x83\\x81+H\\xea\\x02\\xa0\\xa9\\x97\\xc1\\x12\\x01\\x90\\x01?\\xb0:\\x02\\xd50\\x9b\\x88\\x86\\x08\\x81\\x0b\\x93\\x8f\\x10\\x11\\xbd1\\x00\\xa9\\x938\\xa2\\xaf\\x87\\x88\\x18+D7\\xa0o\\xc0\\t\\x08\\x00\\xa0\\x01\\x08\\x08\\x89\\x08\\x90\\x01\\x19\\x00K\\x99\\xf3D\\x15\\x99\\xab\\x1c\\x80\\x90\\x8a\\x11\\x80y\\xa3\\x98\\x10\\xe8\\x10)\\x08\\x93\\x98\\xcc\\xa7\\x01\\x9a \\xb4\\x908Z\\xd2\\x1c\\x95:\\x19\\xd1\\x82\\x81\\x8bw\\x9a\\x90\\x10 \\xf0\\x08\\x18\\x90(\\xa9X\\x89\\xd4\\x08\\x18\\xa1\\x03\\n\\xa1\\x89\\x16*\\xcaA\\x81\\x8c\\x08\\'\\x0e\\x00\\x0b\\x02\\x8a\\x81 \\xdb\\x94\\x90\\x80=\\x82\\x1e\\xa1\\xa3\\x12\\x19\\x19\\xa7\\x0bz\\x88\\x88\\x00\\x99u\\xa7\\x1b\\x89\\x00\\x88\\x92\\x18\\x89\\t!;\\x9c\\x15\\xc0\\x83\\x00\\x1d\\x88\\xa4 \\x80\\x8e\\xa2K\"\\xd8\\xa1y\\xb5\\t\\x89\\x10\\x08\\x99<\\x85\\x1d\\x81\\x01i\\xf0\\x00\\x00\\x80\\n!\\xc8(\\x90;\\x9a\\xb5\\x01\\x190w\\xca\\x18\\x80\\x19\\x81\\x98{\\x01\\xaa\\x00\\x02\\x8a\\x92\\x92\\xa2?\\xa0\\x00{\\x98*\\xa7\\x98\\x1b\\x13\\x99)w\\x0b\\x99\"\\xab\\x94\\t\\x1a\\x1b\\x14\\x1e\\x18\\x8a2\\xb4\\xa0K\\x91\\x82)q\\x0e\\t\\xd8 \\x88Kp\\x17\\x8e\\x08\\x00\\x08\\t\\xa1\\x80\\x819\\xa8\\x01\\xa2\\x00\\x1e\\x94\\x1c(\\nx\\xb7\\x89\\x10\\x08\\x19\\x80\\x19\\xc98\\xb10\\x99\\xc82\\x91H\\xb9\\x97\\x1a\\x19\\x13\\xc7\\xa9\\xa1\\x13\\xab\\x11\\x923\\x98\\xf4\\xa3{\\x80\\x0cw\\xd5\\x08\\x88\\x80\\x80\\x08\\x00\\x90\\t\\x98\",\\x01\\x9a\\t<\\xc2#\\xea\\x11(\\x9d\\x10\\xc3\\x82|\\x88\\x19\\xa0)\\xb8\\x02p\\xd2\\x81\\xc93G\\x0f\\x88\\x80\\x80\\x80\\x80\\x10\\x1a\\x10\\x8a\\x91{2\\x01\\xaa\\x8c:w\\x9c\\x00\\x88\\x88\\x18\\x18\\xa1\\x18\\x19\\x19\\xb3\\x0bX\\x02\\x0b\\x08\\xd8\\x999\\xf1\\x10\\x04\\xba\\x07\\x80\\x11 \\x02\\xb8\\x0f\\xb91\\xd89\\xd0\\x08@\\x1d\\n 9\\xa1?\\x18\\xbc\\x88&\\x10\\x92\\r\\x80\\x19+Bs\\xb7\\x0c\\x18\\x80\\t\\x81h\\xc8\\x90 \\xaa\\x80\\x88\\x12\\xa1x\\xc8\\x00\\xb2B\\xd0\\x10:*\\xb8L\\x8aB\\xe01\\xa88\\xbbHp\\xb7\\n\\x08\\x00\\xc0)!\\x1a\\xa1\\xb11\\xb8$\\x8f\\xa51 \\x86\\xad\\x911\\r\\x80\\x0c\\x81\\x18\\x94\\x88\\t\\x08\\t\\xd8\"\\x9b\\x04\\x0c\\x85\\xb6\\x19\\x00\\xa1\\x9c\\x85\\n\\x94\\x00\\x91\\x19\\xa2\\x08\\xa2\\xf8=Zi\\x17;\"\\xfa\\x0b\\x10\\t\\x88\\x90\\x99#*\\x9d(\\x11\\xc8\\x99#A\\xa8{W\\r\\x89\\x08\\x08(\\x88\\x89\\x889\\x83J\\x9b\\xc2R\\xd0\\x19(\\n \\x0b\\x96z\"\\xfb)\\x91\\x08\\xb81\\xa0\\xaaQ\\xa2*t\\x16\\xc9\\x89\\t\\x88\\x13\\x99\\x19\\x08\\xbbH\\x08:\\xd3[\\x90\\x10\\xc92w\\xf4\\x08\\x08\\x08\\x08\\x90\\x80(\\t+\\x12\\xa9\\x91\\xab!\\x97\\x91\\xab\\xc4\\x12(\\x98[\\xc8\\xb4R\\xda!\\x19\\x80\\x819\\x9d\\xc5\\x81\"\\x10\\xad(\\xcb\\x04\\x18\\xcaB\\x01\\x89\\n;jM\\xb7\\t\\x80\\x8a\\x02\\x07\\x8a\\x98\\x80\\x88#\\x8aH\\x00\\xa1\\xf8,\\xa2\\x80\\x11\\x0b\\x84\\xb4\\xb4\\xb8\\x13\\xda\\xa5J\\xc2\\x18\\xc2\\xa0s\\xb8 \\x80\\x82/\\x00\\x8a\\x80\\x94-\\xa8\\x04\\x89\\x08:\\xea\\x82\\x08\\x18\\x86\\x99\\x84\\x99\\x01\\x0bK|\\xe2\\x02\\x90\\xb93\\xc9\\x18\\x18\\x98\\x94\\xc8@\\x89\\x03\\x1a\\t\\xb9\\xc7y\\x918\\x8b\\x81\\x12\\xc1\\xe9\\x02y\\x9a(\\xb4\\x10\\xd9\\x04\\x80\\n\\x98\\x90\\x990\\xbc5\\x1a\\x89\\xe8R\\xa0\\x98\\x13;\\xf8-\\x01\"\\x0bw\\xaa\\t\\x08\\x991\\x89\\x82\\x10\\xba.\\x01\\xd12\\n\\xb1\\x81\\x81\\xbb\\x90\\x17\\x18\\xdb$k\\n\\x18\\xa9\\',\\xb9\\xa2\\x18\\t:\\x0e\\x91\\xa0c\\xea\\x84\\xb0(c\\xa8\\xa8\\x009\\xb8I\\t8\\x82\"\\x1dxW\\x0f\\x08\\x80\\x88\\x90\\x18\\x88\\x00y\\xa4\\x80\\xaa\\x10*\\t\\x10\\xaa0\\x89\\x90\\x9c\\x19M\\xc2\\x11\\xd3x\\xc4\\x98\\x82 \\x89\\xea\\x11\\x11\\x00,\\xa1\\x81\\x9d\\x12\\x02\\x1b0\\xf8\\xaa\\x14\\x88/\\x08\\x01\\x98\\t\\x88w\\xd8\\x10\\xa4\\x89\\x80\\x88\\x00\\x1a\\x80\\x88\\x1a\\xa0\\x86`\\xc8\\x10\\x00\\x91\\xaa \\x03\\x0f\\xa38\\xaa\\x9e\\x80\\x07\\xa8I\\xa2(\\xb8>\\x90#\\xac\\xb2\\x92`\\xc2\\x0b\\x95\\x19<\\xb1\\xa0\\xd3\\x02\\xa14\\xbc\\x91#\\x7f\\x97\\x0b\\x88\\x00\\x00\\x88\\t\\xa1\\x01\\xc8\\x94(\\x19\\n\\x0cA\\xc2\\x02\\x9c*\\x02\\x8e\\x84!\\xcc\"\\x90\\x08\\x00\\xa9\\x16\\x98\\x18\\xc9\\xa7\\x80\\x1a\\x19H\\x18\\x88\\xa0\\x9a3\\r\\xe3\\x91[\\xb0y\\x90\\x08I\\xb1.w\\xd1\\x08\\x88\\x08\\x80\\x08\\x80\\xa0!\\x8b\\x18\\x90\\x82\\x9a#\\x9fG\\xcb\\x01\\x18\\x08\\t\\xb1\\x00p\\xb3\\xa8r\\xb9\\x19\\xa8\\x12\\x0b\\xb3\\x00\\xeb#\\xd3\\x08[\\xb18\\x08\\x1b\\x01\\xa2k9w\\x00\\xb9\\x89w\\'\\x8f\\x08\\x00\\x08\\x88\\t\\x91P\\x94\\x9c\\x08\\x08\\x90\\x08\\x00\\x90\\x81\\t)\\x90\\x10\\xa9\\x84\\xa8\\x84\\x8b7\\x8d\\x18\\xa2\\x81\\xaa\\x18\\xd8\\x12\\x88\\x82*;\\xa6h\\xb8\\xc2 \\n\\x13\\xc9,$\\xa9X\\xb9S\\x9c\\x81\\x82w\\xa7\\x9a\\x10\\x89\\x00\\x82\\x98\\x99\\x01\\x8a0\\xb4\\x19\\x91\\xf82\\xc00yw\\xaa\\x88\\x80\\x91\\x88\\x08\\x808\\xc1\\x90\"\\x90\\x13(\\x86qaw\\xd0\\t\\x88\\x80\\x08\\x88\\x80\\x08\\x80\\x08\\x08\\x88\\x00\\x98\\x80\\x80\\xa0\\'\\x8c\\x98\\x18\\x900\\x0c)\\xd8I\\x91\\x80(\\xa2?\\x80\\x02\\x0c\\x12*x,\\t\\xba$\\'\\x8b\\xa8sG\\xb9\\x107\\xe8\\x89 \\xb8\\x89\\x88\\x00\\x88\\x91\\x88\\x10\\xa0\\x18\\n\\xa2\\x008\\x88\\x98DHpw\\xe4\\x88\\x80\\x88\\x08\\x80\\x80\\x88\\x90\\x01\\x88\\x80\\x18\\xa2\\x98\\x18\\t\\x01\\xa0+y\\xa1h\\x1b\\x99\\xa2X(\\xb2\\xac\\x90@3\\xab\\r*\\x08\\x0e!z\\x8a\\x1b@\\xc8\\x11\\xb1,R\\xb19\\n\\x0f\\x11r\\xf5\\x18\\x88\\x80\\x80\\x80\\x90\\x00\\x80\\t\\xc0S\\x98;\\xa9 \\xe9\\x93\\xa3\\xb3(\\xa9\\'\\x0e\\x08\\x93\\x90\\x99\\x957\\x8e\\x88\\x80\\x00\\x80\\xa0\\xa1 \\xd9\\x83\\x04\\x0f\\x83\\x9a9\\x82\\x1b\\x1c\\xb7\\x08\\x11\\x89\\xa0\\x08\\x15\"|g\\x0e\\x88\\x08\\x00\\x88\\x80\\x88\\x91\\x01\\x19\\x88\\x92\\x1c\\t\\x82\\x90)#w\\xd3\\n\\x88\\x18\\x80\\x10\\xaa{\\xb4\\x0b\\x90\\x12\\x8a)\\x87\\x00\\x98\\x0c\\x84\\xca\\x04\\x982\\x1e\\x81\\x98\\xa9\\x18\\xb1\\x01\\xa3\\xd4\\x08\\xa1\\x81\\'w\\xd7\\x08\\x88\\x80\\x80\\x08\\x00\\x88\\x88\\x82*\\x88)\\x08\\x91#\\x8f)\\x82\\nI\\xa2\\xc9q\\xd0\\x81\\xa8\\x13!\\xb9\\x90\\x81j\\xf2*(\\x1a\\x83,\\x88\\x00)\\xf8k\\n1\\x9c \\xb0\\x83X,\\x19\\x00w\\x9c\\x18\\x98\\x10\\x89\\x81\\x19\\x98\\xb3\"\\xe3\\xa1A>\\x92\\x1c\\xa2\\xa1,\\x00I\\xf0(\\x88H\\x1a\\x89\\x83\\xa3\\xf9\\xb1\\x82p\\x89\\x01\\xa8w\\x17\\xdb\\x80\\x08\\x80\\x00\\x08\\x90\\x80\\x18\\x11\\xab\\x12\\x8b1\\xa1\\x8bq\\x07\\r\\x08$\\x8e\\x18\\x88\\x80\\x00\\x98\\x19\\x8a\\x10 \\x03*\\xce\\x11\\x02\\x08\\x11\\x1d\\xf8\\x88@H\\x0b\\x11\\x91\\xda\\n\\x13\\x11{\\xb0\\x89\\xa1\\xa3{\\xa8\\xb4\\x11\\xf8\\x18\\x91 \\x1a1\\x97\\x0b\\x01\\x1c\\x1d\\x03\\x00w\\xd0\\x90\\x88\\x18\\x90\\x11\\x19\\xa8\\x93\\x9a\\x04\\x9b\\x95\\x88j\\xc5\\x10\\xa9\\x80!\\xca\"\\x8a(\\xb4\\x91\\xd8C\\x0f\\x91\\x14\\xe8\\x82\\x00,\\x98\\x88\\xa3\\x82\\xc20\\x1f\\x01\\x8a\\x93\\x1c\\x82K\\xcb\\x85)\\x10\\x0bxp\\x07\\r\\x88\\x88\\x00\\x00\\x10\\x8a\\x89\\x93,H\\x98\\t\\x9a\\x99#\\xaab\\x1b\\xa4\\x1d\\x11[\\x91)\\x0c(\\xb0\\x99 \\x97\\x8d\\x11\\x08\\xa1\\x18\\x89\\x83\\xf1I\\xd9\\x14\\x1d\\x80\\x90!\\x9a\\xa59\\x01\\xca\\x81\\xb1\\x13w\\xa7\\x8a\\x89(\\xb0\\x01\\x89\\xd2 \\xa0y\\xa0\\x19\\t \\x8a\\xd3\\x14\\xb0\\t\\x82\\x8d\\x96\\x89\\x96\\x99\\x00\\x92\\x99\\x88\\x13\\x8a\\x07\\x1e\\xd0\\x10\\x11)\\x01\\xac\\x84\\x08\\xa9q\\t\\xf1\\x00\\x91\\x81\\x80\\xa9\\x89#jp\\'\\x9d\\x08\\x88\\t\\x81\\x90\\x81\\x08\\xb7\\x88\\t!\\x81\\xab`\\xb0\\x88(\\x92\\xa8\\xa8\\xc1\\xb3\\x14j\\x13\\xcb9\\xd9\\xc3\\x87\\t\\t\\x08\\x8a\\x820\\xa0\\x04\\x9f\\x04\\xb8H\\xc8\\xa2H\\x0b\\xd2\\x81\"\\xc0\\x08\\xf3\\x88r\\xb7\\t\\x08\\x88\\x88\\x94\\n\\x80w\\xe1\\x80\\x08\\x90\\x00\\x88\\x00(\\xc0\\x00\\x80\\x19\\x89\\x18\\x90\\xd11\\x90\\x8az\\x8a(\\x90j\\x90\\t\\x01\\x9b\\x81=\\xb2\\x1a\\x83\\xb8O\\xa3(\\n\\x1f\\x08\\x10\\x90\\xa9\\xa3+yw\\xd1\\x08\\x8a\\x81\\x91r\\x97)\\xca\\x08\\x00\\x90\\x08\\x80\\x10\\t\\n\\x19\\x08\\x14\\x8c(\\xb8\\x0c\\x87\\x98\\x1b\\x01\\x18\\xd0\"\\x9a\\t\\xa1\\x83\\x13\\xf78\\xc0\\x00*\\xb2\\x0c\\xa5(\\x8a\\x00x\\xa9\\xa2(\\xc1\\x8f\\x82a\\xa6\\x9a\\x01\\x98\\x89\\x81\\x81\\xa2>\\x88\\x12\\x0e8\\x1b\\x00\\x90\\xa1\\x1c\\x91\\x0fP\\xa0\\xb8\\x10H\\x90\\xab\\x87\\x80\\xd9#\\x8b\\x01\\x80+\\x00\\xd3L\\x89B\\x89>\\xa9\\x90\\x98\\xa7\\xa3\\x88\\xd9P\\x99\\t\\x84\\xa0:\\x93+\\xf0(\\t+\\x14\\r\\x93\\x0f;\\x82\\x89\\x12\\x7f\\xa9\\x01\\xb1\\x08\\xa3\\x1d\\xc9\\x12\\xa2\\x11\\xe0\\x80 \\x18\\xa9\\x92\\x99x\\x08\\xab\\x14\\x9f\\x93\\x0bX\\x01*\\t\\x1f:+\\x91\\x19\\x9a\\x15\\xf3\\x1a\\x18)\\x080\\xf1\\x08\\n<:\\x00 (?\\x9d\\x08 \\xae\\x01\\x80=\\x92\\x80\\xfa\\x05\\x0b\\x02\\xa9\\x84\\x88\\xd1\\xb6\\x1a\\x01\\x19/\\x00\\x89\\x10,\\t\\xb5\\xa1\\x19J\\xb9!\\xe9\\xc0\\x82\\x03\\xa0\\x89\\x11\\xf0\\x12<\\x05\\x8d\\x80\\x80\\xc8\\x94!\\x0f\\xa1\\x00\\xa3S\\x8e\\x80\\x89 \\x98\\x80\\x18\\xcc@\\xa2\\x88 \\x8c\\x03\\x18\\xc9Z\\x00\\xc9R\\x8bpw\\x8d\\x90\\x80\\x18\\x88\\x80\\x01\\x80\\t\\x10\\x98\\xa8H\\x10\\x9c\\xa1\\x07\\x9a\\x01\\x19\\x80\\x18\\xa9\\x19\"\\xd2\\xb4\\x89i/\\xc0\\x11\\xa9\"\\xba y\\x80\\x01\\xb9M\\x00*\\x1e\\x19\\x93\\xacS\\x98I\\xe9\"\\x19\\x98\\x9a\\xa4\\x818\\x11\\xda\\xa1\\x81/\\x95\\x88\\xb8\\x19>\\x92\\xd0\\x05\\x9a\\x10 \\t\\x89\\xe9\\x13\\x05\\n,\\xa1\\xdb\\x013\\x90\\x9a\\x04\\xf9\\x88\\x12\\xd2\\xa2p\\x08\\x8b\\x88\\xd4\\x92\\x03\\x8a\\x11\\xac\\x11\\x86:\\x9d\\x03\\x00\\x8b\\x1cC\\xbap\\x18\\x1a\\x19[\\x8a\\xf29\\x92K\\x91;\\xa9\\xa3J\\x1aZ\\x99\\x10\\xd2r\\x0c\\xb1:\\x88<\\x15\\t\\xb8X\\x99:x\\xc8(\\xc1);\\x02\\n\\xd1\\x11\\xb87\\x0f\\x80\\x01\\xb1\\x01\\x9c\\x94\\x92:\\r\\xc2\\x03\\x88\\xa0@\\xc2\\xa0!\\xe8\\x94\\x93\\x00\\xf8\\x11\\t\\x82\\xb8\\x01&\\xbb\\x02\\xc0\\\\\\x00\\xe9\\x03\\x99\\xa6\\x88\\xa02\\x00\\xc2\\xd11\\x8d0\\xd1\\t\\x02(\\xf9\\x02\\x91\\x80\\x82\\x1cy\\x89\\x88\\x11\\xab\\x00\\xb2\\x1fz\\x08\\x1c\\x02\\x80\\x1a\\x81:\\x9bz\\xb1+q\\x00\\x1e\\x00)\\x9a0I\\xba\\xa1s\\xc0)\\x89\\x01\\xb8Q\\xb8]\\x80\\xd8\\x11\\x02\\xa9i\\xa0*\\x18\\x88\\xc59\\xa0\\x19\\x85\\x01\\xd9 \\xac@\\x02\\xba\\x05\\x8b\\xa3M\\x91\\xb00\\xf0\\xa3\\x18\\xb7\\x10\\x99\\x94\\x08\\x00\\xca\"\\x88\\xf0\\t\\x12\\xa4\\xa4\\xc0H\\xb9\\x04\\xc0',\n",
       " b'\\x01\\xff\\xff\\xff\\xff\\x0e\\x08\\x08\\x08\\x08\\x88\\x00\\x08\\x08\\x88\\x00\\x08\\x88\\x00\\xa1\\x00\\x80\\x08\\x91\\x19\\x80\\x08\\x81\\x88\\rt\\xe9\\x01\\x18\\x80\\x1a\\x11\\xa9\\x03z0\\x9f\\x00\\x88\\x80\\x08\\x80\\x02\\x88\\xb8,@\\xbaX\\x1d9\\tr\\x07\\x8d\\x18\\x88\\x81\\x99\\x11;\\xa2\\x9aW\\xa1\\xa8\\n\\xa8\\x11\\t\\x99\\x80\\x1by\\xc5\\x10\\x1a\\x00\\x82\\xd9A\\x1b\\x82\\x82\\x0f:\\xa0\\x088:\\xac!\\xa0\\x97\\txw\\x94\\xc8\\x8a\\x08\\x80\\x90\\x00\\x00\\x89\\x08\\x82\\x1a\\xc4)\\xa2H\\xc9\\xb3\\xa2p\\x98\\xa2\\x81\\xb0\\xa6\\x890\\x00\\xe0\\xa1\\x91\\x10)+1\\xc7\\x89\\x12u\\xb9\\x92\\xba\\x18\\xd3\\x12\\xa2\\x1e\\x11\\xf8(\\x00\\x9a8\\x92\\x01\\xa0?\\x1a\\x81\\xe1\\x92H\\x88\\xd8\\x12+)\\xc1\\x0088\\x9dR\\x9a\\x94\\xa9\\x80\\xf0\\x81\\x11:\\x93\\xae\"L\\x88\\xa86\\x8a,\\x90\\x95\\x1e\\x01\\x08\\t\\xf1 \\x81\\x80=\\xa8!\\xc1!\\x19\\xf8\\xa1 \\x8a\\xa5,\\x08[\\x89)\\xb4\\x82\\x89\\x08\\x92\\x90sM\\x19\\x1aK\\x19=\\xb0h\\x9a\\x88\\x93Y\\xa3\\x9a\\x1bx\\x81\\x9dH\\x10:\\x1c\\x92\\t\\xb9z\\x82\\xb8)[\\x13\\xc2*\\x9d*\\xc2P\\xa0\\x80\\x01\\x18\\xc2[\\x05\\x1d\\xb1\\x90\\x80\\x96\\xa0\\x11\\x8a\\x82pw\\x9d\\x81\\x00\\x08\\x80\\x91\\x80(\\xab\\x00\\x02\\x82\\x8c\\x86\\x88\\x89\\x05\\xa0\\x08\\xa0\\x88\\x07\\xf1!\\x98*\\x81\\x80\\xb2*\\x00\\x15\\xb0\\x12/\\x00\\x98\\xabl1\\xb7\\xa8\\x10*\\xb3\\tw\\x8b\\x80\\x08\\x91\\xb1\\x10\"\\x1d\\xca\\x04!9\\xbaM\\x91\\x99A\\xa4\\xa8\\x98y\\t\\xb1\\x10#\\t\\xaa\\xd9c\\xa0\\x949\\x07\\x8c\\xb1\\x01\\x11\\x81\\xc03;\\xcdq\\x97\\x9a\\x81)*\\x08\\x00\\x88>\\x00\\x89\\x00-\\x01i\\nY\\x10\\xc8\\t#\\x9f\\x00\\x83\\x08)\\x18*\\xd3\\x88R\\xa9\\xb1\\x03\\x8btxw\\x08\\x80\\x9e\\x80\\x00\\x08\\x81\\x98\\x80\\x08\\x91\\x188\\x8d\\x12\\x1b(\\n\\xc1\\x13\\xc5\\x19\\xb3\\x0b\\x87\\n\\x889\\x80\\x08\\x87\\x89\\x18\\xb5\\t\\x02\\r\\xb4(\\x88\\x12\\xe1Y\\x98\\x91#\\x0c\\x90\\xb2\\x03Y\\xb0\\x97\\x92\\xbb3\\xb8\\x07\\x19\\x81?\\x90W\\x8d\\x80\\t\\x01\\x88\\x80\\xa8\\x06\\xa8\\x91\\x01\\x98\\x10\\x93J\\x89@\\x1b\\x9a\\xf3\\x81<\\x98Q\\xba\\x94q\\x99\\x08)\\x10\\x9a@=\\xa3\\x0b\\xa7\\x10\\x81\\xd8\\x92\\x10\\x997q\\xc7\\x90\\x89\\x81\\x80\\x90\\xa1(H\\x0b\\xb1\\x12\\x10\\x1a8\\x0cj\\x18:\\x8a\\xfc\\x84\\xa0\\x83\\x8a\\x02\\x91(\\x00\\xb9O\\xb1\\x02\\x13\\xdc3\\x19,\\xa9z1\\xac\\x91Z\\x88\\x18q\\x87\\x8c\\x80\\x88\\x800\\xc8\\x01\\x01\\x8b\\x18h\\xc8)\\x84\\x19\\x1b$w\\x9c\\x08\\x90\\x18\\x00\\x08\\x80+\\x82J\\xa0-\\x18\\x08!\\xcc8\\x12\\x99+\\x94\\x8e\"\\xdc\"\\x08\\xb1\\'\\x9ax7\\x8f\\x08\\x00\\x88\\x80\\x01\\x88\\x89\\x99\\x11\\x88\\xb1\\x8c\"\\xa1#\\x12`G\\xb0\\xd3\\x9a\\x1aq\\xa7\\x0b\\x80\\x08\\x08\\x00\\x19\\xa89\\xc0:41\\xd9\\x82\\xca*\\xab\\x83#\\x80\\xd2\\xa9S\\xca\\x84\\t;\\xf2{\\x90\\x82\\x88\\x18\\x19\\x90\\x91ZZ\\xda\\x18y\\x89(\\x0b@\\xb0\\n\\x13\\x8c\\x08\"\\xf1\\x02\\xb1p\\t\\xd88\\x93\\x0b\\x90\\x98l\\xa4\\x99!\\xc0[\\x93\\x1c*\\xc0\\x90w\\x9a\\x98\\x01\\x00\\x92R\\x0b!\\x8a\\xb1\\x9f\\x08\\x91\\x8b%\\x9a!+\\x11\\xca\\xca\\x94\\x80\\x07\\x18\\x8a\\x19\\x1a*\\x90\\xa5\\\\\\x99(\\x08\\xa2\\xb3\\xa8YJ\\nP\\xf2J\\x90\\x1aQ\\x1b\\xa0\\x00\\x99\\xd3k\\x02\\nx\\x15\\x15\\xacs$8\\x83\\x8a9\\xf90\"\\xb9\\xa8\\x1f\\x81\\n\\xfb\\n\\x98\\x0b\\x98\\x08\\x98\\x81\\x89\\x80\\x01\\x87\\x9b\\x19\\x01\\xb1*\"\\x02\\xbc\\x8d\"\\x8a\\x88\\xa3 \\x82\\xf8]\\x18\\x19K\\x13/\\xb8\\x80\\x868\\xc2\\x1d\\xa1\\x82\\x99\\x18\\xa0\\x01\\x89\\x08\\x19\\x97(\\xbb\\xf3)w\\'\\x03\\xed\\x08\\x08\\x90\\x00\\x80\\x80)\\x88\\x800\\xf3\\x88\\x19\\x80\\x82\\x19$^\\xc0\\t\\xa0\\x10\\x00\\x08\\x90 \\xb0\\t\\xb3\\x88\\x03\\x8a\\xa9q\\xaa\\x07\\x1d\\xa3\\x06\\x0e\\x91\\t\\x81\\x00\\x07\\x9c\\x80\\x92\\x08\\x08w\\xd8\\x08\\x08\\x00\\x88\\x18\\x08(Hg\\x04\\xbc\\x89\\x80\\x80\\x08\\x08\\x08\\x19\\x98b\\xc2\\x89\\x08\\x11;\\xba\\x18\\x88\\x10\\x07\\x81\\x9b\\x88\\x00\\x08)\\x1f\\x8a\\x02\\x91K\\x11\\x0f\\x92\\xb1\\x18\\x90\"\\xe4;\\xa1\\x92\\x94[(;\\x0ci\\xa8\\x08\\xa0X\\x0e\\x88\\x13\\xa0-(\\xb0\\xd0!i\\xd8(\\xa0Q\\xc8\\x01\\xe8\\x12\\t\\x82\\t\\x19\\x81\\x91s\\xbb\\xc1\\x12\\xa4=\\x19\\xf2(\\x02\\x93\\xab\\x1c\"\\xca+&\\x17\\x0e\\n\\x81\\x90\\x80\\xa2\\x12z\\x97\\x8b\\x88\\x11\\x1b\\x88\\x8a\\x11\\x01\\x98\\x88$\\x95\\x1b\\x1b\\xcb\\xc1Rs\\x87\\x1c\\x98\\t\\x18\\t\\x08\\x89-\\x02\\t*\\x93\\x1f\\x81\\x18)\\xc6\\x89\\x13\\xdb0\\x18\\x89p\\x89q\\xf4\\x80u\\xb0\\n\\x88\\x88\\x00\\x88\\x00\\x08\\x88\\x12\\x8b\\xa8\\x10 \\x90\\xc88\\x93\\xb3\\x89-\\x91\\x1a \\xfb\\x15\\xa2\\x88\\x91\\xaa\\xb8\\x96*\\x83l\\x80\\x88\\x0c\\xc3@\\xb8\\xa5\\x91\\x03\\xe8*\\x98\\x14\\xa1 \\xea2\\xe1#\\xab\\x8ba\\x1a\\x00\\x9c\\x94\\xa8\\x12\\x15\\x1a\\x89\\t`\\x0f\\xb0\\x13L \\x90\\xd1\\xa0\\x11/\\x08\\t\\x02w\\x9c\\x00\\x08\\x80\\t\\x90\\x03\\x08\\xb0\\x98\\x01\\x8b0\\x12\\x11\\xfa4\\x8e\\xa3\\xa0\\x13\\xd98\\x89\\x00\\xd30\\'\\xac\\x02\\x1b \\xd8\\x11\\x00\\xc0\\x89z\\n\\xa5A\\x1c\\x89\\xa5 \\x98\\xc3\\x90\\x94\\x93y\\xa0\\x95\\xa3)\\n\\xa4Bp\\x89G\\x812\\x13!7\\x11\\x10\\xf9\\x89!\\x19\\x00\\x00\\xfb\\x1a\\x01\\xac\\xfa\\x99\\x9c\"\\xb1\\xac\\x90)\\x89\\xa1(\\x1c\\t\\x02;\\xe0\\x01\\x08\\xb8\\xb4\\xc1!\\t\\xc0\\x12\\x8c\\x00\\x81\\xb0\\x18\\xc7xW\\xab\\x19\\x87\\x8b\\x80\\x88\\x00\\x88\\x81\\x88\\x91\\x90)\\x93\\x90\\xca!\\xe3\\x01\\xa3\\x1a\\x03\\xc8\\xa0\\xb5\\xa1X\\x05\\x8c\\xb1{\\x90\\x18\\x19\\x8bCw\\x98\\x899w\\xe0\\x80\\x90\\x00\\x98\\x80\\x80\\x81\\x80\\x80\\x08\\x90\\x80`\\xb5\\t\\x88\\x08\\t\\x92\\x91\\x01rAS\\xa2w\\xd3\\x0b\\x08\\x90\\x99\\x08\\x08\\x98\\x80\\x00\\x18\\xb0(\\x10j\\xd1\\x00\\x88\\x80\\x10\\x98\\x98\\x80\\x9a\\x08\\x07\\xab\\x86\\xa8\\x918\\xd1\\x93\\xc3\\xb2\\x08S\\x0e\\t\\x80\\x85\\x89w\\xf2\\x08\\x90p\\x94\\x8d\\x00\\x00\\x88\\x132\\x01\\xca\\xbd\\x00\\x988\\x06 \\x8bw\\xc8\\x88\\x80\\x98\\x08\\x88\\x80\\x80\\x80\\x88Q\\x01\\x900\\x04\\xcb9g\\xc8\\x88\\x00\\x80\\x08)\\xb9\\x8e\\x08\\x80\\x00Px\\x85\\x9c\\x80\\x91\\n\\x180\\xa9\\x1b7\\xdb\\x00\\x90p\\x81\\x8c\\x81\\x80\\'\\xd9\\x08\\x80\\x10\\x90\\x8b\\x80\\x08\\x80\\t\\x00\\x00 \\'\\x8f\\x08\\x18W\\xb8\\x0b\\x08\\x08\\x90\\x80\\x80\\x88\\x80\\x08\\x80\\x880\\xb0\\x10\\x91\\x88\\x10\\x9a|\\x18vg\\xba\\x90\\x88\\x80\\x80\\x80\\t\\x00\\x19\\x98\\x11\\x90\\x00,\\x98\\x03\\xf0\\x03\\x05H\\x84\\x89-\\xd2\\x08\\x0bw\\xc4\\x8a\\x00\\x08\\x18\\xa18\\xc9!\\xab\\x08\\x00\\x88(\\x80\\x89\\x01\\xb8\\x87\\x82\\x9auW\\xc8\\x8a\\x80P\\x93\\x8e\\x08\\x081\\xc9\\x88\\x00\\x08\\t\\x10\\x80\\x18\\x89\\x08\\x92\\x9a\\x82\\xb0+\\x959\\x89\\x9a\\x8a\\xf2c\\xa4\\xb4\\x0c\\x08X\\xd3\\x90\\x19\\xa2\\x08\\x19@\\x99xW\\x0f\\x88\\x80\\x00\\x90\\x00\\x19\\x91\\x90\\t\\x18\\x00\\x90x\\xb6\\x89\\x00`7(\\x02\\xba$\\xc9\\x02\\x89\\x14\\xa0\\x0e\\x10\\x11\\xb9-\\xb0\\x14\\xa0\\xfc\\x8e\\x80\\x80\\x08 \\xa8\\x80\\x80\\x88\\x19\\x80\\x01\\t\\n\\x90)v\\x07+\\x91\\x11\\x17\\x0e\\x88\\x88q\\xb8\\x8a\\x80\\x00\\x88\\x18\\'\\xca\\x00\\x88\\x88\\x08\\x01\\x98\\x98\\x10\\x00\\xa0\\x0bP w2\\xc9\\xac\\x08\\x08\\x80\\x00\\x1a\\x03w\\x99*\\x98p\\x17\\x9d\\x00\\x88\\x00\\x90\\x89\\x00\\x19\\x88\\x80\\x80\\x08\\x98\\x08\\x11<\\xa91\\x199\\x90L\\r8q\\'\\x8f\\x08\\x08\\x08\\x88\\x91\\x10\\t\\x08\\x88\\x82,0\\xaa\\x89\\x92\\xa2x!H\\x9c\\xaa(\\xb92\\xa4*\\xf2\\xa0\\xa1\\x15\\x8e\\x86\\x86\\xa8yp\\xa5\\x8b\\t!\\x17\\xba\\xa9\\x80\\x00\\x08\\x80\\x10\\x99\\x80\\x82\\x01sW\\x94\\x8d\\x8a\\x08\\x80\\x08\\x88\\x81\\x80D\\xc4\\x0c\\x08\\x80\\x08\\x08\\x08\\x08\\x88\\x00\\x98\\x08\\x10\\xa2\\x1b\\x05\\x0bw\\xab\\x81\\x90(\\x89\\x10\\x8a\\xb3;:A\\xc9\\x84\\x88\\xa9G\\x8e\\x11\\x88\\x88\\x0b1\\x8bx\\xa0<\\x08K\\x1a\\x92\\x9c\\x969\\xb0\\x81p\\xa1\\x8a\\x12-\\x88Zy\\xa7p\\xa6\\x1c\\xa0\\x00\\x98\\x00\\x80\\x08\\x80\\t\\x00\\x00\\x90\\x88\\x90\\x11\\x90\\xc0\\x13\\x10u:\\xba\\x90=\\x88\\x81\\t\\x9d 0\\x08\\xa9\\xa2\\xc2\\xc3\\x10w\\xa7\\x8bq\\x92(\\xe9\\tU\\x80\\x80\\xbc\\x88\\x80\\x80\\x80\\x08\\x80\\x18\\xa8\\x08 \\x87\\x9b\\x00\\x02\\x1b\\xc3`\\xaa\\x08\\x11:\\x90\\x82\\xe9\\x11\\xa9\\x91\\x1bYz\\x90\\t8\\xa8r\\xf0\\x00\\x08)\\x80\\xb0\\x00\\x80`w\\xb9\\xb2\\x98\\x00\\x90\\x81\\x1a\\x920\\xa5@\\x92WA\\x89\\x019\\x89\\xb1@\\xba\\xa7,\\xf8\\x19\\xaa\\x80\\x03\\x0c\\x00\\x91\\x90\\x19\\n\\xb1+\\xa1\\x93\\xa0K \\x0f\\x98\\x14K\\xce\"\\x82\\xa0\\x01\\x80\"\\x99\\xbd!\\xa7\\t\\xa0c\\n<\\x89\\x9b\\xa7@\\xab\\x93\\x05+\\xa2rw\\x17\\x98\\xcb\\x08\\x88\\x80\\x80\\x08\\x08B\\xab\\x08\\x80\\x91)\\x88\\x19\\x90\\xa2)\\x87\\x08\\x08\\x93\\x8d\\x99\\x82\\x08\\xb6\\t \\x93\\x81\\xa2\\xaf3\\x8d:z\\xb1Y\\x90w@\\xd9\\x89\\x08\\x88\\x00\\x90\\x00\\x90\\x08\\x82;\\x08I\\x91\\x8d2\\x8d\\xb1\\x13<\\x18\\x90\\x90\\x16\\n\\x1e\\xb9\\x14\\xaa\\x04+\\xaay\\x90\\x19\\xa5\\xa9H9\\x18\\x99\\x05\\x1f\\x08r\\xf2\\x08\\x00\\x88\\x00\\x91\\x89\\x91\\xb8\\x85\\x08\\x91Avw\\x00\\x98\\x9e\\x80\\x80\\x00\\x88\\x81\\x88\\x80\\x80\\x08\\x88\\x00\\x90\\x08\\x19\\x11\\xf2\\x91(\\x99\\x82\\t\\x82\\x1f(\\x99\"(\\x8e\\x00\\x91<\\t\\x00\\x15\\xc9\\xb3\\x97\\x88\\x98\\x11\\x91{t\\xf3\\t\\x08\\x98\\x81\\x80\\x81\\x19\\x01\\xab\\x83\\xb0r\\x08\\x99\\x00\\x11\\x82\\xcc \\x11\\xcb\\xd3M\\xa9\\x84\\x80H\\x99\\x84\\n\\xb28\\x0c\\x18`\\xbb\\x11(\\xd68\\xbb!\\x1e\\x10\\x81M\\x90\\x18\\xa1\\x98{\\x97\\x9a1w\\x8c\\x88\\x80\\x08\\x80\\x08\\x18\\x00\\x98)\\x18\\x1b\\x90\\x003\\xcc\\xb9\\x03!\\x0c\\x07++2\\xf8\\xb0\\x83\\x95\\x01\\xd1\\xa1L\\x01\\x90\\x8a\\xa1\\x02H\\x81\\xbf\\x82h\\xb9A\\x91\\x0e\\x01\\x89\\x10\\x01+\\xd4\\x80\\x83H\\xf3\\x00\\x08\\xc9P\\x89C\\xa8\\x8b\\x04\\x1f\\xa1\\x00\\xaa@\\xa1\\x180\\x18\\x1f\\x0b\\x93\\x03\\xf8\\x00\\x81\\xabq\\xab!\\x18R\\x87\\x0c\\x89\\xa1\\x01\\x19\\x88Y\\x80w\\x97\\r\\x80\\x08\\x88\\x08\\x00\\x10\\x98\\x99\\x02\\xa2\\x00\\x12\\xbd\\x93\\x89\\x91\\x05\\xc0\\x92*\\x90\\xd1\\xa1 \\xa10\\x02\\xdaq\\x83\\x80\\x0f(\\xb9\\x12L\\x91w\\xd7\\x80\\x08\\x88\\x80\\x80\\x00\\x08\\x91\\t\\t!\\x91\\x91\\x9a\\x99\\x01=\\x88A\\xc9\\x83\\n\\xe19\\xe38\\x96p\\xa7\\x9a\\x18\\x19\\t0\\x02\\xd9\\x99\\x02\\x18\\x8c\\x97\\x1a\\x11\\x91\\x8c\\x02\\x08\\xb4\\x8a;\\x800\\x84g\\x80\\r\\xa0\\x89\\x800\\x9c\\x01\\x10\\x11\\xbb1Z\\x83ww\\x91\\xca\\x88\\x80\\x00\\x00\\x11t\\x87\\x8d\\x08\\x88\\x80\\x10\\x98\\x08\\x88\\x00\\x88\\x08\\x88\\x00\\x88\\x88\\x91!\\xa8\\x92+\\xb2\\n\\x96\\x81\\x19\\x08\\xf80\\x91\\x9c\\x17\\x9aQ\\x8c\\x08\\t\\x08\\x91\\xa02\\xc93\\xe1)\\x19\\x12\\x1f\\x80p\\x92\\n0\\'\\xae\\t\\x80\\x18\\x88\\x80qG\\x8f\\x80\\x80\\x08\\x00\\x08\\x80\\x90\\x08\\x18\\xb0\\x01(\\x0b*\\x91\\x19\\xc5\\x01\\x8a\\x11\\xa1o\\x91\\x89)z\\xd2\\x83\\x90\\xa0\\x91\\xb9 \\x009\\xd09Z\\x90\\x0e\\xa1\\x02\\xaa{\\xa03\\x9b=H\\x10\\x81\\xb8\\xf0}\\xb5\\t\\x80p\\'(\\xb0\\x9f\\x08\\x88\\x08\\x00`\\x98\\x08\\xa8\\n\\x01\\x88\\x08\\x88\\x92\\x08\\xa1\\x82\\x8c\\xb2\\x17\\xa9\\x99\\x94\\x08Q\\x9b\\x10\\x83\\x8a\\x82\\x9a)\\xa3\\x8bb\\x1b\\x91\\xfb\\x95\\n\\x1a&\\x8d\\x90\\x05\\x89\\x05\\x88\\x9a(\\x08\\x08\\xf0\\xb8h\\x08\\x18\\x89HQ\\xd9\\xa1*\\x8a\\x03\\xc0X\\x88+#\\xf0\\x00hw\\x80\\xb0\\x8c\\x88\\x00\\x90\\x80\\x01\\x98 \\xa8\\x93@\\x91\\xab\\xcb\\x95\\x80\\x18\\xa3\\xb8x\\t\\x18J(\\x93\\xcf\\x88\\x06\\x88\\x88\\x83\\x90\\xaaq\\x07\\x9c\\x81\\x98\\x00\\x80\\x91*\\xb0\\x08\\x87\\x91\\x9b4\\x1c\\x02\\x8c\\x07\\xaa\\x01\\x90\\x18\\x85\\xab9M\\t\\x80\\xc0B\\xa0\\xa9B\\xb9\\x180\\x81\\x9f\\x84(\\xc8\\x92;\\x80\\xac\"\\xb07E\\xad\\x1aY\\x8aYB\\xaa\\x88X\\xb8\\n\\xb8\\x01#\\xc8i\\t\\t)\\xa1\\x1a\\xbbx\\xb8`\\x88(\\xd3\\x99C\\xa8\\t\\x84\\x8f!\\xa0\\xaa\\x07\\t\\x02\\x99\\xa2\\x96\\x8d\\xa2\\x02\\xd2\\x99\\x15\\x16\\x9c\\xa0\\x02\\x19\\x11\\x07\\x0f\\x08\\x80\\x80\\x08\\x80\\x19\\x90\\x949\\xab\\x18\\x00[\\xc8\\x9bU!\\xd0\\x8a\\x08\\x89\\x80\\x17\\x8b\\x01\\x19\\xb7\\x80\\x88\\xa1\\x18-F\\xc8\\x08\\x98\\x11\\x1b\\x01\\x9bH+8\\x0f\\x92\\x18\\x99\\x04~\\xc4\\x89\\x08\\x88\\x13\\x9a($pJ\\x92\\x86\\x04\\x80\\x1a\\x11\\xa9\\xb1\\xb4\\x80\\x05\\x19\\x9d\\xa9\\x9c\\x9e\\x08\\x07\\r\\t\\x08\\t\\x80\\x81\\x890\\x00\\xaa\\x11/\\xb3\\x00:\\x10)\\xdd\\x94\\x19\\x92\\x92\\xa8\\x8a`\\x198\\x9a\\x9bX\\x11\\xf3F\\x8d\\x08\\x082\\xa9\\x0b+*\\xb2\\xa50\\xca\\x19\\x17\\x98\\x0c\\xa0\\xb4\\xa0\\x03\\x15\\x08\\x0b1ww\\xa3\\xa9\\xba\\x89\\x80\\x00\\x08\\x88\\x80\\x18\\x00\\x89)\\xd9\\x02\\x10\\x8br\\x96\\x8a\\xaa\\x02\\x1a\\x82\\x82\\x9b\\xb7(2\\xa7\\x8b\\x07\\x1d*\\x80A\\x91\\xac\\x1a\\x81\\n(\\x13\\xd8:\\xc3{\\x1a\\xb8\\x14\\x90\\x1a\\x11\\x0e\\tj\\x18\\x19\\x16\\xca\\x80\\x88\\x803\\x8f\\x08\\x92\\x19*Hy\\x07\\xca\\x80\\x80\\x90\\x00\\x08\\x90\\x92\\x83\\x9a\\x00\\xb0w\\xc7\\x80\\x80\\x88\\x08\\x08\\x88(\\x98)\\x1a\\x08\\x99q\\x85\\x99\\x00\\xbb(\\x9b\\x06\\x19\\x81+\\xc3\\xc1Rg\\x8d\\x08\\x88\\x08\\x00\\x19\\xa0\\x023w\\xf3\\x89\\x08\\x08\\x80\\x80\\x10\\x90\\x00\\x19w\\'\\x88\\xb9\\x8d\\x80\\x11\\x17\\x88\\x9d\\x80\\x08\\x08\\x88\\x00\\x88\\x00\\x08\\x18\\x98\\x18\\x88\\x009\\x8b\\xa1\\x93\\xb9D;\\xbbQ*\\x96k\\xe2\\x80\\x08\\x00\\x89H\\xa8\\x00\\x88\\xd2\\x02q\\x80\\xca\\x88\\t3\\xca\\x13j\\xa1\\x8a\\x18\\xd1@\\xc11v\\xf3\\x89\\x18\\x08\\x90\\x11\\x10\\x02\\x00k\\x00@\\x93X\\x12\\xd9\\x10\\x90\\x00\\xa8b\\x92\\x8e\\x12\\xa9\\xac(\\xb9L\\xa3\\xabR\\xdb\\x89\\x88\\xba\\x90+\\xb1Y\\xa9\\x02tg\\x9c\\x88\\x80\\x80\\x19\\x18\\x00\\x1a\\xa0)\\x00\\x87\\x8c\\x11\\x99\\x81\\x99\\x01\\n0E\\xc1\\xab\\x02p\\xb1xGH\\xf9\\x89\\x81\\x08\\x88\\x80\\x18\\x00\\x81\\xa8\\x90\\x08\\x08)\\xb6\\x01Jw\\xe6\\x08\\x08\\x80\\x08\\x08\\x08\\x08\\x88\\x80\\x00\\x80\\x89!\\x92\\x1b(w\\xd6\\x18\\xa0\\x88\\x00\\x08\\t\\x80\\x80\\x80\\x81\\x92\\x99\\x11\\x19\\xd80\\x99 (\\xa0yI,\\x8a\\x83\\x95\\xd22(B0u7\\xb1|\\x86\\xab\\x00\\x80\\x9a\\x08\\x88\\x88\\x08\\x88\\x18\\n\\x80\\xa1\\x08\\x89\\x83\\xab\\x13\\x1a\\x1aw\\xba\\xa0\\t1\\x94\\x9b\\xd3@\\xa0\\x98\\xa4\\x18=\\x19T\\xaa\\x19\\x00{w\\xab\\x00\\xa0\\x80\\x81\\x88\\x80(\\x90\\x19\\x82\\x0f\\x06\\x8a\\x88\\x80\\x13w\\x13\\xa9\\x11t\\xa5\\x8d\\x88\\x00\\x88\\xa9\\x08\\x88\\x18\\x88\\x88\\x91!\\xb4\\x1b\\x89\\x12\\x02\\xaa\\xa0\\x1f\\x82*\\xba%\\x8b\\xc4(J\\x99@\\x8b\\x00\\xf2\\x00!\\x89\\x1c\\x13\\xf1y\\xa0d\\x10\\x13W\\xda\\x88\\x98\\x10\\x91\\x8a\\x90 w\\xe0\\x08\\x08\\x00\\x90\\t\\x80\\x08\\x80\\x80\\x00\\t\\x884\\xcb\\xa1\\x00\\x00\\x89\\x81\\x80\\x11\\x88\\x1d2Kw\\xab\\x90\\x00\\x08\\x90\\x91\\x89%9\\xd7\\x08\\x80\\x98\\x81\\x02\\x999\\xb3\\xa0\\x13zHzw\\x92\\x9c`\\x82\\x9d\\x10\\x02\\xb8\\x8b\\x10\\x98\\t\\x88\\x00\\x08\\x10p\\xe4\\x08\\x80\\x00\\x08\\x00\\x81\\x10qG\\x80\\xa8!\\'\\xe9\\x88\\x01\\x08\\xb8\\x8d\\x08\\x88\\x08\\x08\\x08\\x88\\t\\x80\\x18\\x98\\xa9\\x82\\x00X\\x91\\x0c\\x89\\x10\\x9br8+w\\x15\\x02\\x93\\x88\\xb2\\x13\\xb1\\xb4\\x10\\xd2\\xb8b\\x9c \\x18\\x0f\\x93\\x91\\xa9\\xfa\\x8e\\xa8\\x80\\x08\\x88\\x90\\x11\\x10!\\xad\\x98\\x80\\x90\\x80:\\n\\xc1\\x04\\x19\\xb9&t97\\x12\\x19\\x91)\\xc9\\xa3,\\t\\xa1z!\\xd0 \\x0c\\x911\\x0e\\xc0\\xaf\\x89\\x80\\x88\\x80\\x00(\\x06\\x8d\\x08\\x80\\x18\\x98\\x80\\xa8A\\x89\\x91\\x18\\xa0\\x03\\xf2\\x10\\x1a\\x92q\\xc7\\x88\\x88\\x81\\x00\\x90\\x00\\xbaqw\\x9b\\x88\\x90\\x10\\t\\x01\\x12@\\x8f\\t\\x88\\x01r\\xf4\\x08\\x80\\x88\\x00\\x90\\x00\\x19\\x19\\x80\\x97\\n\\x90r\\xb2\\x0c\\x80\\x18\\xa0\\x00\\x88\\x88\\x928\\x9a\\x00\\xb8\\x14\\xab\\xd0\\x04\\xc9\\x93z\\x92\\x80\\x89\\x08\\x19\\x15v\\xd9\\x18\\x08\\x91\\x80\\xa9\\x12\\xb8\\x00\\xe0a\\x90\\x93w5\\xd8\\x9b\\x88\\x00#\\x90\\xd9h\\xc0\\x08\\x88\\x00\\x08Bb\\xf9\\x08\\x88\\x80\\x81\\x88\\x01\\x89\\x88\\x18\\x80\\x91\\x18\\xb10\\x0c\\x02\\n\\x99X\\x81\\x08\\xac\\x07\\xb9\\xa2\\xa5(\\x10J\\x8b-\\xc0\\x15\\x99\\x1a\\x80\\xa3\\x18\\x1a0\\x94pw\\'\\xd9\\n\\x88\\x00\\x88\\x80\\x80\\x00x\\xa3\\x8c\\x08\\x90\\x08\\x80\\x80)\\x988\\xa9\\x11\\x95\\xd8(\\x90[\\x00*\\xb2\\xe3\\xa1\\t\\xa0s\\xa0\\x12bw\\x97\\t\\xb8\\n\\x80\\x08\\x08\\x08\\x80\\x1a\\x90)\\x10:w\\xc9\\x18\\x88\\x00\\n\\x01\\x88\\x00\\t9\\x98w\\xd6\\x88\\x08\\x08\\x80\\x00\\x08\\x90\\x92\\x89)\\x02\\xa8\\xa5):w\\x07\\x9d\\x00\\x88\\x80\\x08\\x08\\x80\\x08\\x90\\x10\\x88\\x08+\\x82\\x91\\xc1\\x00\\x85\\x8e\\x02*\\xa1+\\x07\\x0b\\x00\\xb1\\x0f\\xe21\\x12\\x1c\\x89\\x08\\xb2\\xa2yw\\x8c\\x08\\t\\x00\\t\\x10\\x88\\x88\\x80\\x90\\x81:\\x93\\x0bH\\xd3\\x1a\\x81\\xac@2\\xbaE\\x0f\\x80\\x81\\x08\\x93\\x0f\\x11\\x18\\x1c\\x80\\x00, \\xe8\\x808\\xe0)\\x10I\\xa1\\x80Z\\xa8\\x18\\x0c\\xa4\\x11\\xc8\\x190r\\x17\\xab\\x9a\\x88\"\\xc0\\x88k\\x93\\t\\x8c`\\x9b\\xa0#\\xb2\\xa2\\xbcs\\xa9\\x94\\x89\\x01\\x08\\xc3K\\xa4\\x10\\x8b\\x12\\xa3\\xf3>\\t\\xc2\\x03\\x93\\xab\\x08?\\x98)\\x00\\xb2\\xf3\\x11\\x04\\x9c\\x81S\\xc0\\xa9\\x82\\x1c0w\\xba\\x10G\\xac\\x00\\x88\\t\\x81\\x00\\x88\\x08\\x89\\x93\\x10\\xb9\\x12\\xa1\\x02\\xc0I*\\xf2\\x08\\xc3\"\\xfb8\\x18\\x90;,\\x8ac\\x99\\x99\\x06\\n\\xb3M\\x02\\x1d\\xa2\\x00\\x90\\x8a \\x1f\\xa0\\x86\\xd0\\x82\\x88\\x98\\xc1r\\xb7\\x88\\x18\\t\\x81\\x8a\\x12\\xca\"\\x82\\x1c\\x02.\\x00\\xa8\\xb0r\\x89\\x18\\xd9\\x14\\x982\\xb9\\x9c\"\\x8a\\x13\\xbcz\\xa0\\xa10\\xda\\x82\\x000\\x90w\\x8d\\x80\\x81\\x80\\x19\\x80\\x9aQ\\x9a\\x10\\x9c\\x07;\\x99\\x18\\x92s\\xf5\\x08\\x08\\x08\\x08\\x80\\x88\\x00J\\x08\\x90H\\n\\x80yw\\x17\\x88\\xc8\\x8b\\x00\\x08\\x08\\x89\\x18\\x08\\xa0\\x81\\x08*\\x12\\x99\\xda\\x85(\\x08\\xc0\\x93\\x88.\\x80\\x92\\x08\\xa5-\\x00\\x00\\xd29\\x99\\x9b\\x85\\x13-x\\x97\\x0b\\x08\\x88\\x00\\x08\\x01\\tC\\n\\xa2\\x85 BJDCDG\\xa1\\xbb\\x9b\\x89\\xa9\\x89\\x88\\t\\x9b\\x98\\x12\\xc8\\xe1\\x08\\x01\\x8a\\x84\\x1f\\xa0X\\x08\\x10I\\xf0\\n!\\x88\\xa5\\x99\\xa1\\x98\\x02\\x01\\xb2\\x1e\\x91\\xa5\\n\\x888\\x98O\\x00\\x0b\\x02\\xda\\x14\\xb3:\\x9b\\x81\\xf3\\x08\\x88\\x80\\x07\\xaa\\xa0w\\xb9\\x00\\xa9P\\x08\\x909\\x8a\\x01;\\xba\\x03-\\xe0\\x86)\\x8a\\x82\\x19\\x80\\t}\\xa1\\x80\\t)\\x1b\\xc8\\xd31\\x8av\\xaa7\\x8d\\x88\\x00\\x90\\xa1\\x10\\x08\\x8a\\x11\\x88(\\x0b\\xb0\\x05I\\x91\\x8f\\x02qG@\\x90\\xb8\\xaf\\x00\\x08\\x08\\x91\\x08\\x19\\xa0\\x08\\x01\\x18\\x91\\x91\\x80\\xd2\\xb2\\x808-w\\xd8\\x00\\x88\\x19\\x88\\x18\\x92\\x18\\r\\x19\\x88r\\xa7\\x89\\x88\\x98\\x00\\x01\\t\\x19\\xc2\\xb1\\x15\\xa9J\\xa1\\x0c\\x93\\x93@\\xa00\\xc0)\\xc9\\x07-\\x89\\xb8#\\x80\\x81\\xb7\\x10Xw\\xab\\x18\\x89\\x00\\x98\\x18\\x82\\x91+\\xa6\\x1b\\x80:\\x1a\\x94]\\x01\\x99\\xb9\\x13\\x1aw\\xd9\\x80\\x80\\x91\\x90\\x11\\x80\\xb0\\t3\\x10\\xe9h\\xb9\\x18\\x83\\x9aX*\\x1c\\nC\\xaf \\x02R\\xba\\x90\\x1c\\xb1\\xa41\\x9c\\x15\\x0b\\xb1#\\x98\\x89^\\x89\\x90\\x080\\xc1\\x02\\x89\\x1d\\r\\x15\\x8a\\xf2\\x01\\x11(G\\x9d\\x88 \\x8a\\x90\\x88\\x81z\\xa8\\x00\\x91+4\\x8f\\x19\\x81<\\x901\\x19\\x8c\\x92\\xc4\\x10\\x1c\\x1a\\xa4(\\xf81\\xa9\\x08:\\x91\\xa2\\xf38\\x16\\rA\\xb0\\xb3)\\x14\\x81\\x02\\xbb[\\xa9\\x97\\x80(\\xc8\\x03\\x7f\\xa9\\x1a\\x80\\x80)\\x01\\xd8\\x92\\x91\\xb9\\x19p\\x98\\x109\\xb0\\x88<\\x0cQ\\xa0\\x1b\\x06\\xa9\\x94\\x88\\x8c\\x83\\x18 \\r\\xc2\\x11\\xe4J\\x08\\n\\x98\\x93)\\x02G\\x99\\xae\\x04\\xb82*u\\x97\\x8c\\x80\\x08\\x80\\x00\\x07\\x8b\\x80\\x89\\x81\\x19\\x08\\x88\\x82\\x899\\x87:\\x8b\\x95b\\x1b\\xf2\\x01\\xb8\\x08\\t:\\x08\\xb8L\\x83\\x18\\x8c\\x90@!Y\\x9f\\x93\\x08;\\xa8\\xa2!\\xaa\\x0b\\x97\\x01(\\x91\\xda\\x02/\\x82/\\x80\\x11\\xb0\\x88f\\xf1\\x00\\xa0(\\xa8\\x11\\x88\\xb0\\x13\\x9bI\\x8b\\x94\\x95-\\xa4\\x11K\\xb3r\\xc1)\\xac\"\\x1a\\xd3\\x990s\\xe8\\t\\x08\\x00\\t\\x81\\x1a\\x80\\x85\\x0c\\x10\\xc1\\x18\\x882\\x1c\\n\\xb8\\x16\\x8b\\x02\\xa10W\\'\\xc0\\x01g\\xca\\x18\\x80\\x8a\\x88\\x00\\x08\\t\\x88\\x01\\x90\\x81\\xa1\\x08y\\xa1pw\\xb0\\x8b\\x80\\x00\\x08\\x88\\x08\\x19p\\xc1\\x80\\x89\\x80\\x90\\x80\\x80\\xa2\\x91\\t\\x91\\x00\\xd3 :\\xd3\\x10\\xad\\x85)\\x99\\x83(J\\x89\\x1d\\x80\\xc4\\x81\\t\\x12\\xbf\\x87\\x08\\x01t\\xb9\\x89\\x80\\x08\\x19\\x11\\x19\\xc8\\x91\\x13Cw+F\\xd0\\x99\\x10\\xa9\\x08\\x00\\x98(\\x19\\x8a\\xa2\\xa5 \\t\\x08\\x92\\x94Y\\xc1\\x04\" w\\x07\\x10\\xa9q\\x86\\x8c\\x08\\x80\\x99\\t\\x89\\x88\\x08\\x88\\x08\\x88\\x18\\x88\\x88\\x00\\xc1\\x91\\xa4\\x12\\xa8)\\x9b\\x10\\x0f\\x10\\x08\\x98\\xf1\\x11I\\x9b\\x01\\x01\\n+\\x9cM\\x06\\x1e\\x88\\x81\\x18\\t\\x98\\x08\\\\\\x88:r\\xf2\\x18\\x80\\xa1\\x80\\x880*\\xf8\\x14+\\xa9\\x19\\xa5\\x80\\xc0Z\\x1a\\x01\\x9c\\x000\\xb8\\x12\\xb0x\\x88p\\x9b\\x93\\x80\\xba2\"-\\tw\\xe5\\x08\\x08\\x90\\x00\\t\\x80\\x08\\x18\\x90)\\x8a\\x00\\xca2\\x13\\x8a}\\x18\\x0b\\x00\\x91\\xb8\\x859\\x9bj0\\xfaq\\xd2\\x18\\x88\\x80 \\x89\\x82\\x0bG\\xe0p\\x85\\n\\x02r\\x94\\x8d\\x88\\x19\\x91\\x8c\\x01\\x99!\\xb9\\x88\\x08!\\x9a\\x88\\x19\"\\xc8\\xa1!\\xba\\x10y,\\x19\\x01\\xf1\\x92\\x80\\n!\\x1cp\\x89\\x19\\x18\\x9b\\x93\\x83rg\\x8d\\x08\\x88\\x80\\x80\\x19\\x08\\x81\\x08*\\xb01\\x91\\xccH\\xc2`\\n)\\x08\\x00\\x0f\\xa1\\x98\\x03\\x19p\\xb4\\x0b\\x89\\x12\\x18\\x11\\xb9\\x19\\x9e\\x14\\x01\\x0c\\xbd#\\xa4J\\xb2\\x93\\xb2\\xc8$\\x18?\\x86\\x1a\\x1aJx\\x97\\x19\\xa2qG\\xac\\x80\\x88\\x02\\x9b\\x08\\x08\\x08\\x80\\x93\\x92qq\\xb3\\xa8\\x81AG\\xda\\x08\\x89\\x02\\xca\\x88\\x80\\x80\\x08\\x08\\x08\\x90\\x08\\x90\\x18\\n\\x801\\x0e\\xa2\\xa0\\x11#\\xad\\x02\\xa8\\x18\\x19\\x1c\\xc2C-w\\xb9\\x19H7\\x82\\xae(7\\xfa\\x00\\x01\\xa0\\x99\\x08\\x08\\x08\\x80\\x18\\x88\\x08\\x18\\n\\x18\\x19\\x10\\x1aw\\xf1\\x00\\x08\\x18!\"\\x18w\\xe2\\t\\x88\\x08\\x89\\x19\\x91\\t\\x98\\x00\\x90\\x80\\x18\\x81,\\xa0\\x10\\xd9\\x84p\\xa7\\x0b\\x80\\x00\\x90\\x89\\x11\\x998\\x1a\\x00\\x08\\xe0H\\t\\x80\\xb4:\\xb9Ij\\xd1\\x01\\x982\\r\\x19r\\x87\\r\\x90\\x00\\x88\\x80\\x08\\x81:\\xc1\\x00\\x89\\x83\\xb9\\x14\\xa93\\xdbC\\x1a=\\x91\\x9b\\x8apG\\x92k`\\xa5\\x8e\\x00\\x08\\xa1\\t\\x08\\x80\\x08\\x80\\x88\\x10\\t\\x88\\x01\\xa8)r\\xb2\\x8d0\\xa8\\x98<\\x892\\'\\x9d \\xd4\\x08\\x800\\x89\\xb9\\n!,\\x80\\x0c\\x11\\\\\\x80\\xa1[\\nL9\\x10\\xc8(\\xa9\\x96\\xd23\\x9c\\xc21\\x18\\xb8x\\t\\x8az\\xc2)\\x08\\xc8\"((\\x8a\\xa1\\xfb\\x18\\t1\\xf0\\x1b\\x80\\x04p\\xa7\\x8b\\x81\\x08\\x19\\x98qw\\x8b\\x08\\x89\\x88\\x18\\x89\\x81\\x18\\x08\\xa0\\x90 \\x999j\\x01\\xa9 r\\xd5\\x88\\x99\\x92(\\x00\\x99]\\t\\x88\\x18\\x90\\x82\\x88z\\x1b\\x11\\x0c\\x00\\x8a8\\xd4\\x85\\x91\\x1b$\\x18\\xbf1;\\xab\\x85\\x08\\x89\\x1a\\x18\\x0e0\\x95\\x00\\xe9\\x8a\\x07\\x98\\x92\\x00\\x88\\x90J\\x88\\xf0@\\xd8\\x82\\xa0Q7\\x8e\\x08\\x89\\x01\\x90\\x18\\x18\\x88\\x1a\\x93\\x0e\\x81;\\x01\\xc8\\x00\\xf3\\x00!\\r\\x81\\x91\\x90\\n\\x81\\x07\\t\\xf1\\x10\\x93\\xa8\\x01\\xa0p\\xe4\\x08\\x80\\x19\\x80\\x18\\x80-\\xa2\\x10\\x0b\\x97+\\xb0\\x00\\x98[z\\x91\\x89r\\x87\\r\\x08\\x98\\x11\\x98\\x90\\x81\\xa8\\x03\\x03\\x1b\\xf3\\x19\\x10\\x81C\\xfb\\x00\\xb2)\\x989\\n\\xa12\\xdbw\\xe4\\x88\\x80\\x80\\x10\\x89\\x00\\x98(\\x89\\x90*19H\\xfb\\x82\\xc30\\x89O8\\x8a\\x98\\x90k\\xa8w\\xd0\\x80\\x88\\x00\\x89\\x02\\x80\\x19\\x80\\x89\\x1c\\x02\\x10W\\xb2\\xd8\\x881\\xca\\x80\\x88\\x18\\x98\\x11.\\x01\\x90w\\x8c\\x91\\x88\\x81\\x00\\x90\\x1b\\x82\\x93\\x0b4\\x0c\\x8b\\xb41\\xc9\\t\\x82\\x13*\\x0f\\x01\\x9c\\x97)\\xb9a\\x17\\x8d\\x08\\x08\\x18\\x8aB\\x89\\x1b\\x08\\xb2\\x1a8\\x85\\x98\\xe9\\x10 \\t\\xb1\\x8da\\x19\\x1b1\\xc0\\x893\\xf2\\xa9\\x88@ \\xbbi\\x93\\x87\\n<\\x00,\\x85\\x91\\xba!\\xac\\x03\\x9e\\x93z\\xb1\\x81\\t9\\xc1q\\xd7\\x08\\x08\\x18\\x08\\t\\t\\x00\\x80\\xc1\\x11\\x10\\n8*\\xcdW\\xc1\\x99\\x10\\t\\x90\\x81\\xa1 \\x18\\xd1B\\x8b\\xe1\\x10@\\x80M\\x90\\x08\\x8a0\\x8c\\x81#\\x8b4\\x9f\\x98\\x91\\x14J\\xf1\\x91\\x80\\x89a\\x82\\x19w\\xca\\x08\\x88\\x81\\x88\\x11\\x9a \\xa0\\x90\\x10\\x94\\xa8< \\xbbh\\xb8\\xa2\\x01\\x83\\xaa\\x95\\xb3\\x07\\x9c\\x80\\x93|\\xa7\\x88:\\n\\x88\\x11;\\xa8\\xb3}\\x08\\x98\\xa0\\x92\\x98$\\x8c\\x02H\\xcb!\\n\\xf2X\\tt\\x97\\x8c\\x00\\x88\\x80\\x80\\x88 \\x99\\x00\\x91\\x800\\xb0\\x80\\xcc$\\xc0@\\xb8\\x1a\\x83\\x00\\xd5\\x1a\\x82\\xc4*\\x88\\x00\\x9b\\x13\\xb7\\x18I/\\x88\\x81I\\xa1:\\xaby\\xb2\\x02\\x08\\xf8\\x10\\x08\\x91\\xe0\\x13\\t\\xb18r\\xcc \\x91*+\\xb2{\\x19 \\xf0\\x10\\x8aI\\xb2\\x80\\x9aQ\\xd9 \\xa2\\x94\\x18\\x89\\x19\\x08\\xa5C\\xe8\\x18\\x19*\\xc2\\n\\xc4\\x88b\\x8a\\x02\\xca9\\x01\\xd8P\\x90<\\xb0\\x16\\x9bK\\xb2\\xd0\\x05\\x9a x\\x07\\x8d\\x80\\x00\\x98\\x01\\t\\x00\\x99\\x91\\x80\\xa2\\x02\\x01\\xf9\\x12Y\\xb8\\x988\\xc4\\xb8\\x80\"j\\x1a\\xcaa;\\xa1\\x90\\x11\\xc0H\\x94K\\x91\\r \\xc4\\xa9\\x114\\x19t\\xf2\\t\\x08\\x80\\x18\\xbb\\x04@\\xbbAr\\xf3\\n\\x00\\t\\x08\\x90\\x81\\x98(\\x1a(\\x18\\xa7\\xb1!-\\x91\\x8c\\x04\\x89\\x18\\x88\\x90\\x91\\xa0\\'\\xb9;\\x98M\\x83-\\x82\\xf3\\x08\\x193\\r\\xb2\\xb8X\\x91A\\xb7\\x8c(\\x92(\\r\\x19\\x88P\\x80\\taw\\x8d\\x08\\x08\\x80\\x08\\x00\\x08\\x10\\x99\\x1a\\xa1\\xa1\\x02\\x81\\x9a\\xa8\\x02\\xe6(\\x81I\\xf2 [\\xa1\\x08*\\xb4\\x8c(\\xa2\\x18\\t\\x87\\xab\\x908\\x04\\x1b\\xb1-j\\xa0+\\x81I\\x8d8\\x01\\x02/q\\x86\\xa8{\\xd2\\t\\x08\\x00\\x19\\x88\\x80\\x00\\x88\\x01\\x8b\\x83\\x8f\"\\n\\x89\\x11q#\\x8d\\xa0\\x9a\\n\\xb2\\x04\\xc8\\x02\"\\xa1\\xf2\\x89\\x81\\x11\\x8c\\xb2j\\x91\\t\\xc38y\\x9b\\x18\\xa6+\\x90\\x86\\xa8\\n\\x82\\x98p\\n\\x00Aw\\x8c\\x88\\x88\\x11\\x91\\x98\\t\\t\\x11\\xda\\x91\\x96\\xa1\\x88\\x028+\\xc3\\xb8\\xb4\\x0b\\x05\\xa3\\xa0\\x87\\x1b\\xc5\\x93\\x99\\t\"\\xb8\\x83\\xf1+\\x859\\xc2\\x8a\\x99H\\xf3\\x01\\x18\\xa9{\\xb1 \\x08\\x90\\x93\\xca\\x95\\xa8u\\xa7\\xa9\\x10\\t\\x88\\x80)\\xa1(\\xa8\\x94\\x1a\\xb1\\x08@\\xb1;\\xd6(\\n\\x94\\xab\\x17\\x899\\x1dHp\\xe8\\x01\\x88\\xa1\\x00)\\x90\\x91\\xc0\\x90\\x11y\\xe2\\x81\\n\\x11\\x90\\x1c\\x91\\x91\\x91KK9\\xe0\\x90!t\\xc9(\\x88\\x08\\x10\\x01\\x83\\r\\xe8\\x11\\x90\\xf1(\\x00\\x8bC\\x99\\x91Y\\x8b\\x85\\x9a\\x01*\\x11-\\xb9w\\xaa\\x01\\x88\\x01\\x99\\n(\\xf4 \\x0b!\\xb8\\xb2%\\x81\\x0e\\x89\\x01\\x90\\x02\\x9b\\x82kK\\xa0\\x9b|w\\x8c\\x80\\x88\\x00\\x08\\x08\\x81\\x19\\x11\\xb9H\\x12\\xac\\x8a\\x96\\n\\x84\\r`\\xc2\\x89\\x18\\x81\\x00\\x8a9\\x98\\xd3 \\xb3\\x0e\\x081\\xd39+X\\x98J*\\xb8Z\\xb29\\x91,\\x9f\\x10\\x83(\\xca\\xa2~\\x90w\\xc0\\x88\\x80\\x88\\x08\\x80\\x80\\x00\\x88\\xa0\\x81\\x00\\x00)\\xca\\x8a3X\\xe3J\\t\\xaa\\x17\\x1a\\n\\x189\\xb1\\xbb\\'\\x00\\x1e\\x82\\x91\\xa8\\x81yw\\x8d\\x08\\x80\\x80\\x08\\x00\\x80\\x99\\x01\\x18\\x91)q\"\\xe1\\x99(W\\x9d\\x80\\x81\\x90\\x08\\x00\\x89\\t8\\x18\\xd0\\x91\\x92(\\x9c4\\x0c(\\xb8(\\x10\\x8a\\x8d\\x12\\x14=r\\xb3+\\x9f\\x12\\x89\\xa1x\\xb0\\x18\\xb0\\x91\\xa8C\\xa8\\xba8\\x16[\\x92\\xb8\\x81+H\\x0f\\x80j\\x88p\\xa7\\x8a\\x08\\x80\\x90\\x01\\x80\\x91\\xaa5\\xac\\n0\\x80<:\\xb1\\x89\\x05\\x9b\\xc2I\\x10\\xb2\\x05\\xc1*\"\\x1b\\xdd\\x88\\x03\\xa4\\x90r\\xa7\\n\\t\\x19 \\x9a\\x08\\xb2^\\x81\\xa8\\x81\\xb1\\x91%\\xa2t\\xb1\\xcd\\x11\\x12\\xbb\\x83\\x08\\x1f(\\x81\\x90\\t\\xa3\\xc0\\x10I\\x08>\\x9a1Z\\xa1\\xd1\\x93\\x83\\x9f\\x10\\x99#\\x83/\\x88\\x1c9\\x88\\x01\\x0f0w:\"\\xfb\\n\\x08\\x08\\x00\\x8a\\x82\\x80\\x80\\xa8\\x89$\\xb2\\x98)\\xa8Pyw\\x8c\\x88\\x00\\x19\\x88\\x00\\x98\\xa1\\x991\\t\\x81C\\x9b\\x16-\\x8b0\\x11\\x8a\\x1ci&\\xea\\x88\\x82\\x1b\\xa1\\x81\\x1a\\x19\\x01A\\x9bw\\x84\\xc0\\n\\x88\\x08\\x90\\x91 \\x99)\\x1d\\x19\\xb2\\x9a\\x86\\n\\xa0s\\xabw\\xe1\\x08\\x80\\x08\\x18\\x89\\x80\\x11\\x89\\x00Y\\xa9\\x90\\t\\x02\\x85\\x9d1\\xa1\\x99\\x13\\x04\\xdc\\xa1\\x81\\x81A\\x12\\x9d\\xb3\\xb0\\x19\\xd1\\x12\\x87\\x02\\xad\\xb1\\x05K\\xa8\\x10\\x8e\\x12\\xa3\\x8c\\x03\\x99Ch\\xd5\\x18\\x89\\x90\\xa8\\'\\r\\x18\\x8a \\x99\\x03\\x80\\x80\\x99\\xc0\\xb2\\xa3\\xa6\\x82\\xab)\\x87\\xc0\\x83,\\x90!\\xac\\x88x\\x90!,\\xca\\x14\\x88\\x80\\x19:]\\xc2\\x01\\xa2\\x0e\\x82=\\xa2\\x19\\x9a8\\xd1\\x10(\\x12\\xe5,\\x80\\x01\\nI\\x01\\\\\\x98\\x19\\x02L\\x99\\x08J\\xda\\x02\\xb12\\r \\x91\\xc49\\x11\\xc9\\xb9\\x85\\x10\\xc2\\x05\\x0f\\x19!\\x1a\\x82\\xf2\\x19\\x08\\xa3\\xb1\\x11\\x90\\xac\\xb7\\x8b\\x06\\x18\\x9b\\x85\\x81\\x1a\\xa9\\xba\\x06\\xa1\\x81<R\\x0chW\\x9d\\x80\\x08\\x18\\x80\\x98\\x01\\x18\\x8a\\xb2!\\x8cC\\x91\\x8c)\\xe0H\\x18\\xa8\\x05\\x89\\xa0\\x19\\x18\\xd3[\\x07\\x9a\\x08\\x8a)\\x88\\x19\\x93*\\x19\\xb6\\x11\\xf9y\\x89x\\xc1\\x98\\x10\\x80\\x18\\x81\\xaa\"\\t\\x108t\\x07\\x8d\\x1a\\x00\\x98\\x80\\n \\xc9s\\x93\\x88\\x8b\\t\\x90\\xa1\\x01\\xa8\\x086\\xbc+\\xc4(\\x80\\xf3\\x98r\\xc5\\t\\x01)\\x98\\xb0\\x91\\x11\\x84\\x90j\\n\\xb1\\x1a!q\\x0b\\x88\\x1a\\xa8;\\x88\\xc6;\\x9a@\\x81w\\xa99\\xc5\\x99\\x80\\x01\\x98\\x81\\xb1\\x80\\x85;\\xb4\\x00\\x10\\xe8;\\x83\\n\\x0f\\x11\\x19\\x02\\x8c\\x02\\xc2\\x1f\\x04\\x9b\\x00\\x80\\x12\\n\\x89\\xf9\\x14<\\t\\xf20\\x90\\x8a\\x00\\x84\\x1a#\\xec\\x92\\xa3\\n\\x85\\x8a9\\x81x\\'\\x0f\\t\\x00\\x00\\n\\t\\x88\\x12\\x19\\xb1\\x18\\xb0;\\xb7\\x10\\x02\\xf0*;+;Z\\x8c\\xa6){\\x98(\\x8a\\x08\\xb3\\x91j\\x19\\x8a\\xd1\\x87\\x19\\x88\\x81\\x88\\xa1\\n\\xa0\\xe1x\\x88!\\t:\\xe80\\xa1Zw\\xe2\\x88\\x08\\x00\\t\\x80\\x00\\x98\\x89\\x80\\xa1(1\\xb1\\xa8\\x8bw\\x98\\x99\\x80\\x88\\x08\\x93\\x94{\\xb3\\x99p\\x0c\\xa8\\x82\\xa0\\x19@\\xab\\x15\\x89\\x02\\xda\\x10)L\\x98\\xb3!\\x80\\xf5\\x11Wj\\xb1\\x18u\\xa3\\x8f\\x00\\x80\\x99\\x80\\x08\\x08x\\x93\\x8e\\x08\\x80\\x80\\x18\\x88\\x00\\x08\\x08\\x98\\x01\\x18\\x80\\x88\\x89\\x08\\x89\\x07\\n8\\xc6\\x19\\t\\x89\\x91\\xa1\\x92A[\\xaa\\xa1S\\xc1)8\\x8b\\x89\\x82\\x98\\xa3\\xf8\\x03s\\x8bA\\xf1\\x19w\\xb4\\x8b\\t\\x08\\x18\\x82\\x81\\xba\\x809\\xa0\\x89\\x17\\x8a\\x08)\\xa0 5w\\xe1\\x98\\x00\\x91\\x98\\x18\\x18!\\xa0PQ\\x94\\x99w\\x14\\x88\\x1b7\\xe9\\x89\\x11\\x80\\xca\\x19\\x80\\x98\\t\\x08\\t\\x80\\t\\x81\\x80\\x98:D\\xac\\x00\\x08\\x18\\t\\x0b\\x94\\x988\\x8c\\x96\\x1a=\\x81\\xa0\\x02\\x8b[q\\x02\\x8cJ\\xb0\\xa3G!\\xb9\\x0c&\\x14\\x88w\\xd1\\t\\x88\\x98\\x89\\x80\\x18\\x08\\x80\\x90\\x19\\x89\\xa1\\x02\\x08\\x93\\x80\\x8a\\xb1D\\x90ww\\xd0\\x88\\x80\\x88\\x80\\x80\\x88\\x80\\x81\\x80\\x88\\x18\\x88\\x94\\x89\\x88\\x00\\x11\\xc1\\x009\\x12\\x8e\\xd80\\x13\\xab1\\xb5\\nY\\x8a\\x89\\x13\\xa8i\\xaeA\\x88\\xa00:\\x1f\\x80\\xa8\\x19\\xd3\\x95\\x10\\x80\\nH\\xbat\\xc7\\x08\\x98\\x80\\x10\\x88\\x90\\x90(8\\xd0\\x81 \\xd1\\x01\\xd4\\xb8\\x17+\\x98\\t\\x10\\xa3\\xe0\\x10\\xab\\x87\\x01\\x98\\x16\\x8c\\x80\\x98((\\x1b\\x00\\t\\x8aD\\xe9\\xa3\\x90\\x19\\x9a \\x05\\x88\\x07\\xba\\x1bT\\x08\\xac\\x84\\tx7\\x8f\\x08\\x88\\x80\\x00\\x98\\x10\\x99\"\\x98\\t\\x08\\x04\\x0e8\\x02\\x8f\\x01\\x17\\x98\\x9a)\\x98\\x889\\x88|\\xb5\\x0b\\x82\\xa0\\x11\\xa1\\x89\\x02@\\xd8\\xa10\\x89\\x91Ny\\xa8\\xa1\\x18H\\xaa\\x19\\xa1\\x1ch\\xb2 0w\\xd7\\x88\\x08\\x00\\x08\\x98\\x01\\x98\\x88\\x11*\\x91*\\x0b\\xb6\\x1a\\x10N\\x90\\x1a\\x02\\x18\\x89\\x9a\\xd2\\x95\\x81K\\x98\\xb8\\x06\\xc3\\x08\\xc1\\x92)\\x9aP\\x80\\x9b\\x07\\x08\\x98\\xd10!\\x0f\\x19\\x18\\x10\\x1a\\t\\xa8&w\\xab\\x88\\x81\\x98\\x02\\x9a\\x12\\x0b\\x02\\x82\\x06\\r)\\x92\\x04\\xac\\x8c\\x87\\x08\\xa9\\x91y\\x90\\xa8\\x18\\x10\\x18\\xc1!\\x9c{\\x93\\x88,)\\xa5w!\\xdc\\x08\\x08\\x80\\x08\\x80\\x88\\x80\\x01*\\xc2\\x00\\xa0\\x00)\\x91p\\x87\\x0c\\x91s\\x9c\\x08\\x80\\x08\\x00\\x88\\x81\\t\\x08\\x18\\x80\\x00\\r$\\x1cK\\x88\\xa2\\xa8\\x04\\x9c\\x92\\xa1Q\\xb0\\x07\\xab\"\\xa2\\x8aj\\x81\\n\\x1f{\\xa0\\x11\\x9b\\x11\\x08\\x81\\xb8\\\\;\\xa8\\x93q\\xa0\\x1a=\\x0bw\\xc0\\x08\\x80\\x98\\x01+\\x91\\x98\\x00\\x00\\xa1\\x8a\\x12\\xcaY\\'\\x8a\\x0c\\x18\\xc2*\\xb2\\x01\\x89C\\r\\x96[\\xd0\\x00\\x00\\x00\\x90\\x912\\x1f\\x99\\x82\\x08#\\xcb\\xaa\\x18r\\xe3\\x982\\x99\\x8a\\x80x\\xc2\\x01\\x01qw\\x8c\\x08\\t\\x00\\x08\\x01\\xb9\\x18(\\x1a8\\xf2\\t\\xa0*\\x82\\n\\x02\\xca\\x85\\n\\x91\\x89\\x1d\\x86\\xba\\x06\\x90\\x10\\xaa\\x12 \\xbcd\\n\\xb0\\x100\\x0f\\x10\\x0b(\\xc9\\xc20\\x98\\xa7\\x18\\x11\\xa0\\x96\\x98\\xe2\\x83w\\xd1\\t\\x88\\x18\\x90\\x18\\xa0\\x10\\x1b)\\x01\\xd8\\x00Y\\t\\x00\\xa0\\xc18\\x98\\x86*\\xa1\\x91\\r\\xa1\\x18#;\\x8fP\\x1b\\xb2/\\x08\\xa0\\x81*z\\xa8\\x11(\\xe2\\x81\\x9a\\x00\\x11\\xfbQ\\x80\\t\\x1bx\\x98r\\'\\x9e\\x80\\x08\\x08\\x80\\x98\\x03\\x19\\x97\\x0b\\x08\\x88\\x80\\x98\\x08!\\x10\\xf1 \\t\\n\\x88X\\xa4\\x1e\\x10\\x99H\\xb80\\xa7\\x8a\\x81\\x90\\x88\\x92\\xd3A\\x8d\\xb2\\x80\\x881\\x92\\xb0\\xf5\\x88)I\\x89\\xa3-`\\x9bx\\xa7\\t\\x88\\x08\\x08\\xa3\\t\\x9aw\\xf4\\x08\\x80\\x80\\x08\\x08\\x08\\x80\\x90(\\xa8!\\xa9\\x01\\x88\\x98\\x89\\x83\\x17\\x1c\\xa9y\\xa9\\x11;\\xa4\\n\\x08\\x90\\x93\\xc1{\\x98\\x91Z\\x80=\\xa0\\x80;\\x86\\x8d\\x18\\x00\\xd81w\\xc9\\x80\\x80\\x00\\tq\\xa5)\\xca\\x80\\x00\\x88\\x08\\x91\\x19\\xa1\\xa3\\x19\\x9bh\\xc0\\x00\\x89\\x94\\x91\\x08z\\xa0\\x08\\x88\\x01\\x8c1\\xa9\\x8b\\'\\x98\\x1c\\x89\\x10\\xb1<\\x04\\x9b\\xa2q\\x9b\\x90\\xa3\\xd8\\x07\\xac\\x13*\\x18\\x87\\xba\\x90\\xb3\\x92\\xf81\\xa3\\xa8\\x83\\x0c\\x0f\\x92\\x11Z\\xc8\\x18y\\x8a\\x89\\x12\\x1a\\xa0P\\xd0\\x02\\x8b\\xb8\\x05\\x19\\x98\\xa1\\x1e0\\x9d\\x13\\xb3\\x1b\\xf9\\xb8R\\xb0#\\x88\\x9c\\xb3\\'\\xb9\\x8b!\\x01\\xbd@\\x08\\x10\\xb1\\x97\\t\\xcb0:\\x0f\\x80\\x02\\x8aH\\xaa\\xb0#p\\xc8+\\xe3\\x02\\x01\\x1f\\x19\\x91\\xa9%\\xd8\\x18\\x12\\x9b*;\\r0\\xeb\\x12R\\xb9\\x12\\x1f\\x98*\\xa0)1\\xf8\\x90\\x94\\xc8\\x11\\xe10\\x98\\x81\\n)\\xb0\\xc2\\x13/\\x9bO\\x91\\x818\\xfb\\x12\\x8a(\\t\\x01\\t\\x9d\\x93\\x00\\x93\\x00\\x88\\xff\\x83\\x88\\xa8\\x87\\x08\\t\\n9X\\xab\\x11\\x99\\xa8\\x83\\xaf2]\\x00\\x00\\xca\\x81\\x1a\\x82\\xb2\\x19\\xba\\x84\\xbe$\\xe1\\xb2\\x00\\x91\\x90\\xe8\\x02\\x80\\x88B\\x89\\r7\\x8f\\x18\\x88\\r!\\xc8\\x10\\x88\\x95\\x1b\\xa4\\t(\\x91\\x1b;\\xda\\x12\\x19\\xf4\\xc3r\\x17\\x0f\\x88\\x80\\x00\\t\\x00\\x08\\x08\\x98\\x08\\x82\\x99!\\x88\\x99J\\xcaI\\x1a\\x93\\xc0P\\xa2\\x98\\xb1\\xb7\\t\\xa1l\\x80\\x91\\x80\\x929\\xfb\\x00\\x89z)\\xc0\\x00;\\x19\\x12[\\x01\\x1d\\x80\\x0e\\x92\\x1a1\\xa8<-\\tk\\xc38\\x08\\x9b\\x94<\\xb8*0<\\xa3\\xa7\\x198\\x0f\\xb3K\\n\\x82\\x8a\\xa5\\t9\\x86\\x8a;\\x1d\\x95*\\x18\\x8b\\x03\\x9dQ\\t\\x00\\x8a\\xa9A\\xd9\\'\\x1a\\x88\\xb9Z\\x11\\xa0?\\x00\\x9d#\\x9a!\\x18\\n\\x98\\xf2h\\n\\x98J\\x982\\xc89\\xd2\\x900\\x8c\\x869I\\xaa\\xab\\'\\x88\\xd1\\x80\\x93\\x81\\xb9\\x85\\xb0<k\\xa0@\\x8b\\x12[\\xe8*\\x01+\\x92\\x08\\x04\\x99\\xf0\\x84\\x80*\\nx\\xd0\\x01\\xd2\\x00\\xa2\\x81\\x08\\xc5\\x01\\x98\\x00\\x18\\x9eQ\\x88*\\x92\\xc8\\x89q\\xa0\\x10\\x0e\\x92I\\x91\\x990\\xac\\x03\\xa8\\xa4L\\x10\\xa1\"\\xbb>\\x84\\x98\\x10\\x9c@\\x9a\\x18\\x00J\\xb6\\xc1B\\xac0\\x82;\\xc9X\\xb0\\xb4\\xc3\\xd30:\\xba\\xb4\\xbbW\\x98\\x98\\x01\\xa1\\xb4\\x19\\x91\\xb0\\x08\\x07:\\xdc\\x01(\\x92\\x08\\xd3\\x08\\x11\\xa1\\x98\\x07\\xd9\\x00\\x8c\\x87\\x80\\xc2\\x92\\x81\\xba\\x83\\x11\\xb9\\xb7\\x81P\\xcc\\x03K\\xd1\\x13\\x9a8),\\xb1h+\\xc4\\x91\\x88\\xb1\\xa1!!\\x8d\\xb4B\\x8f\\x02\\x99\\x02\\x9bR\\xf2\\x91\\x91\\x80\\x90\\x82\\x00\\x91\\xb2\\xb3\\'\\x8f',\n",
       " b'\\x01\\xff\\xff\\xff\\xff\\x0e\\x08\\x08\\x08\\x08\\x08\\x88\\x00\\x08\\x08\\x88\\x00\\x08\\x88\\x00\\x80\\x08\\x88\\x18\\x90\\xa1\\x83\\t\\xb0\\x84r\\xda\\x01\\xb2\\xa2\\x93\\x9ba\\x1cq \\x8e\\x90\\x80\\x18\\x80\\x89\\x00 \\x00\\xc9\\x88\\x04\\x19\\x0f\\x02\\x19y\\x07\\x8e\\x00\\x08\\x00\\x88\\x80\\x89\\x90\"s\\xb2\\xb0\\xaa\\x88\\x08\\x00<\\x92\\xba\\xb5\\x80\\xa7\\n\\x10\\x91*\\xc4\\x15\\xaa\\x90@/\\x10\\t(\\xc0\\x18\"\\x9a\\x1f\\xa1xw\\x92\\xba\\n\\x98\\x80\\x00\\x88\\x00\\x80\\x10\\x81-\\x00\\xb9I\\t\\x81\\x89\\xaa\\x08%\\x1f\\x98\\x03\\x00<)\\x96\\x9b\\x02\\xbe\\x84\\xa2\\x94\\xe4\\x82\\xa0\\x115\\xda2\\x9d\\x18\\x90\\x19\\n\\xb8\\x07\\xa0[\\x90\\x88\\x10\\x8d\\x12\\x80\\xa0H\\xaca\\x08\\x19\\x98\\xa1k\\x18\\xaa;\\x96\\xa2J\\xe3\\x00\\x00\\x99\\xa2\\t\"/\\x80\\xb4\\x80B\\x8d0\\x9d@\\xc09\\xa0\\xd4\\xa4\\x08\\x18\\x8a\\xb4\\x02\\xa9\\xa4\\xb2\\x11x\\x98\\x88 \\xbb.\\x82\\t\\xb7*\"\\x9cP\\x88\\x84,\\xf1\\x80\\x10)\\x89\\x10\\x19\\xaa\\x02\\xc7\\x03/\\x82\\x89\\x18\\xa8\\x08\\xa2\\xa4\\xc8\\x11\\x90\\xb4\\xf81\\xd2\\x019:\\xe2\\x82\\xb9\\xa2q\\x19\\xa8 \\tJ\\x93\\x19\\xcbJ\\x98\\x12/M\\xa8H+\\x1a\\x00H\\x1a\\x91H\\x94\\x9d{p\\x17\\x0f\\x08\\x88\\x80\\x00\\x08\\x91\\t\\x18\\x01\\xa8\\t\\x10\\xa4\\x99\\x93\\xe2\\xa2\\x13\\x8c\\xa3\\x10Z\\x85\\x0b\\x80\\x089:\\x00;G\\xf1\\x91\\x90r\\xab\\x81\\x81A\\xa1\\xd8 \\x89\\xa0\\x85Z\\x8b\\x10\\x90\\x11\\x11.\\x88\\x89L9\\xa3\\x96\\x19\\xb8\\xb2J\\xa3_\\x81\\xa2J\\xa0\\xc9\\x84: *)\\x1e{\\x98J\\xa6\\x1a\\x92\\x99\\x82!\\xd0J \\xa1l\\x97\\x8b\\x08\\x01\\x98\\x10\\x9a\\x12\\x19\\xf2\\x00\\x03\\x8b\\x92i\\x80\\x80 \\x88\\xd8\\xd3\\x93\\x81\\x04\\xfb\\x01 \\x02\\x80\\xabc\\xb0\\xb0\\x15\\x98\\xc0pw\\x19\\x86\\x9d\\x80\\x00\\x08\\x00\\x89\\t\\x10\\x88\\x18H\\xa9\\x1a\\x12\\x98\\xb0\\x13i\\xc90\\xa9:@\\xd8\\x83\\x1cK\\x01\\nR\\x1d\\x91\\x80\\xb1l\\x91\\x10\\x8f\\x04\\x98\\t1\\x1b\\x19\\x02\\n\\x9b\\x04\\xa9{$\\xeb\\x80\\x18\\x93 (\\x0cP\\x81w\\x8c\\x88\\t\\x81\\x19\\x81\\x983\\x9d8\\x01;\\x80\\x89K\\x9a\\xf3)\\x86\\x00\\x88\\n1Z\\xe0[\\n\\x83\\x91z\\xb8\\x80\\x01\\x82+\\xf0\\x11\\xb8\\x06\\x88\\x92 \\x10_r\\xe2\\x89\\x08\\x80\\x00\\x80\\n\\x01\\t\\xa12\\xf9\\x11\\x88!\\x0c\\x00\\x00\\x1b\\x96\\x19\\x8a\\xa5\\x8d\\x84\\x88\\x93\\x08#\\xc9\\x90\\xe3\\x10\\x08\\x93\\x91\\x8a?\\x19\\x88\\x98\\x86\\t\\x95\\xa9\\x07 \\x07\\x0f\\x88)\\x80\\x88\\x81\\x80A\\x8a\\x8b\\x12\\x08\\x1cIh\\xc2\\x08w\\x9b\\x08\\x08\\x90\\x18\\xb10\\xc9\\x12\\x90\\xe3\\x08\\x01)\\x89\\x01\\x00\\x15\\x8f\\x88C\\xa9\\t\\xa2\\x0e(\\x11\\x06\\xcbbG\\x8f\\x80\\x00\\x80\\x80\\x01\\x99\\x98\\x00\\x00\\x10\\xb8\\x88\\xb1A\\x03\\x0f%p\\xb0\\x80\\x9b*r\\xb6\\x8b\\x80\\x80\\x80\\x18\\x08\\x88\\x80\\x10\\xbac1\\x8c\\xa1\\x08\\xbc(\\x030\\x0f\\x91)0\\xd4\\x81\\xa9\\x1d\\x82!\\n#\\x0f\\x86\\x98\\x99\\x93\\x18\\xb9\\x91\\xb3\\xdaz#\\xc8\\x91 \\x1a\\xa0kj\\xa9\\xa0\\'\\x99;\\xb9\\xa8\\x141\\xe89\\xab\\x851\\xd8\\xc2\\x13\\x89\\xe2)w\\xf2\\x08\\x11\\x9a\\x80\\x08\\x88\\x81\\x82\\xa0\"\\x05\\xbb\\x8a\\x08\\x92\\x0b\\x94\\x81\\x1e\\x82R\\xd0\\x8a\\x81\\x11\\xc8\\xa0x\\x91)\\n\\xc2\\xa8A\\xd1!\\xb0)\\x97<)\\x9b\\xb3\\x01\\x00{\\xc1\\x10\\n!@\\x8f\\x08 \\x81\\x0e\\x93r\\x04%\\xacs\\x15 \\x92+9\\xfa\"\\x12\\xa8\\xb9\\x1e\\x02\\xb9\\xec\\x08\\x99\\x9a\\x88\\x80\\x99\\x81\\x08\\x80[ \\xb9\\n0\\xa81\\xbaD\\xf2\\xa9\\x04\\x00\\xaa\\xa5i\\x88\\xb9\\x01\\x12\\xf1\\x01\\x00(\\xc3\\x9a2c\\x98\\x8e\\x90\\x91\\x99H\\x0c\\x12;\\x1d\\xa3 \\xc9+\\x04(wW\\x02\\xcd\\x88\\x80\\x80\\x18\\x88\\x80\\x18\\x00\\x89h\\xf2\\x00\\x88\\x80\\x00\\x19\\x13m\\xc0\\t\\x00\\t\\x90\\x11\\x88\\x18\\n\\xa2\\x18\\xa8\\x11\\x98\\x8b7\\x1f\\x00\\x81\\n\\x16\\xaa\\xb1 \\xa5\\x80\\x07\\xba\\x18\\x8b\\x82\\x90w\\xf4\\x08\\x80\\x08\\x08\\x90\\x00\\x00Pw\\x02\\xad\\t\\x08\\x88\\x80\\x00\\x80\\x08\\x88@\\xd3\\n\\x00\\x02\\x08\\xaa\\x80;\"#\\x9d\\xaa\\xc2\"\\xabH\\x9f\\x02H\\xa9\\x12\\t\\x1c\\x04\\x98\\xa1)\\xc1\\x91)\\xcf\\x84(\\n3\\xda\\x80\\x92 N\\x89Y\\xc0\\x19\\xa3\\x19\\r\"Z\\x892\\xaf\\x03\\x88\\x18O\\xa0\\t\\x02\\xc8\\x90\\x00\\x12\\xb3\\xad\\x03-\\x04\\xa81\\x9b\\x01\\x8dJ!\\x9c6\\x0b\\xc88\\r\\x13\\rW\\x8c\\x88\\x80\\x90\\x00\\x82\\x83z\\xa7\\x8a\\x80\\xb0\\x10\\x91\\x08:\\t\\x1b\\x00#O\\x82\\x9b\\xb1\\xc3\\x02{G\\x8c\\x89\\x91\\x88(\\x88\\xa0 \\x909k\\xb0\\x19\\x0cH0\\xa3\\x0c\\xfb\\x08\\x86\\x88\\x01\\x08\\xcat\\xd6\\x80u\\xb0\\x8a\\x08\\x88\\x00\\x88\\x00\\x08\\x88!\\n\\x8a\\x18\\x83\\x0e \\x89\\xa2\\xa1:\\x88\\xb8\\xe3\\x113]\\xb8\\x08\\xd38\\x88\\x12\\rZ\\xca\\x04\\xa8!*\\xa9|\\x90\\x00\\n \\xaa8\\x00<$\\xc8\\x98\\xb0g\\xa9\\x18\\xc3\\x10\\xc8\\x1a*\\x83\\x85\\x00\\xd8\"\\xd1\\x1a\\x89\\x99\\x15\\x85\\x80\\x13\\xae\\xab\\x85\\x11\\x0e\\x002W\\x9d\\x08\\xa0\\x82\\x88\\t\\x029L\\x08\\xa0\\x08\\x00\\x18=\\n\\xa2\\xa2\\x18/\\x981\\x1cP\\x1c\\xc2q\\xa4\\t\\x8c(\\xc0\\x11\\xc1\\x819)I\\x89\\xa8\\xa4\\x99\\x05\\xc9\\x17)=\\x8a1\\x9b#\\xc3\\x96\\x81*\\xa1qJp\\t\\'\\x00\"3\\x117\\x01\\x18\\xf8\\x98\"\\x00\\x18\\t\\xfa)\\x92\\xbd\\xda\\xb8\\x9d\"\\xa1\\x8e\\x90\\x08\\x08\\x08\\x98\\x80\\x00\\x08\\x89I,\\t\\xb0\\x14\\xd9\\xb20\\x1e\\xb2\\x10\\x8a\\x81\\x81\\t\\x95\\x04w\\xd9\\x18\\x07\\x9b\\x00\\x98\\x80\\x91\\x18\\x08*\\x19*\\xc2K\\x18\\x1a\\xb2\\x01\\xa8\\x07\\xb1\\xd3\\x80\\x01\\xb5;3\\x9f\\x800\\xa9\\x0e\\x18A\\xa0W\\xb0\\x81;w\\xf2\\x88\\x80\\x08\\x88\\x00\\x88\\x00\\x08\\x88\\x98\\x84\\x19X\\xb5\\x0b\\x80\\x90!\\x1a\\x1aJP\\x12T\\x19w\\xb6\\x8b\\x00\\x88\\x99\\x80\\x80\\x08\\x88\\x90\\x01\\x98(*x\\xc1\\x81\\t\\xb8\\x18\\x84\\x98\\n\\xa2\\x82\\xc1\\x10,\\x94+J\\xab 3\\x8cX\\xf0\\x91!\\t\\x1cIw\\xe4\\x88\\x80x\\x96\\x8b\\x08\\x08\\x00\\x132\\x14\\xca\\x9e\\x80\\x98@\\x04(\\x0bg\\xc9\\x88\\x80\\xa8\\x80\\x08\\x88\\x00\\x88\\x80p\\x10\\x80(\\xa2\\xaazT\\xd8\\x98\\x10\\x00\\x19\\x18\\xd8\\x9c\\x00\\x80\\x08\\x10t\\x05\\xac\\x88\\x82\\x8b\\x10P\\xb9\\x18\\x17\\xba\\x08\\x88\\x18\\x91B\\x83\\xa9w\\xc8\\x08\\x80\\xa9\\x80\\x18\\x98\\x80\\x00\\x91\\x80\\x80A\\'\\x8f\\x08\\x08G\\xc0\\x0b\\x80\\x00\\x08\\t\\x19\\x08\\x98\\x81\\x00\\x88\\x80\\x91\\x80\\x01K\\x08:\\xb8\\x90ww\\xe1\\x90\\x08\\x08\\x08\\x08\\x08\\x88\\x00\\x80\\x80\\x98\\x03\\x99\\x00\\x19\\x82<7\\x97S\\xc9\\x18\\xd0\\x18\\x1aw\\xb8\\n\\x00\\x08(\\x91\\x01\\xca \\xac\\x81\\x08\\x80\\x88\\x18\\x18\\t\\x10\\x8b@\\x81rw\\xc7\\x89\\x008\\x94\\x8d\\x80\\x080\\xb8\\t\\x80\\x80\\x80\\x00\\x81\\x89\\xa1\\x90\\x01\\xb4\\xbaI\\x8a8\\xa5(\\n\\x98y:\\xb7\\x95\\n\\xa0I\\xb3\\x9b\\x80\\x80\\xc3P\\x83\\xd1xG\\x8f\\x80\\x80\\x80\\x08\\x80\\x08\\x80\\x00\\x19\\x98\\x18\\x01x\\xc5\\t\\x88x\\x17\\x08\\x03\\xa9\\x02\\xb8\\x82\\x98\\x14\\xa1\\x8d \\x12\\xd9.\\x80\\x14\\x98\\xfb\\x9e\\x80\\x00\\x88 \\xa8\\x90\\x00\\x00\\x89\\x80\\x00\\x19\\x10\\xa1\\x1dv\\x84\\xaa\\x80R\\x07\\xbb\\x08(a\\xf0\\t\\x80\\x08\\x81\\t\\x16\\xaa\\x88\\x08\\x80\\x08\\x88\\x01\\x98\\x00\\x89\\x99\\x13\\x90pgD\\xe9\\xa8\\x80\\x80\\x80\\x00\\x10\\x08%\\xb8i\\xb8x\\x87\\xab\\x12\\xb9\\x00\\x80\\x98\\x81\\x89\\x90\\x00\\t\\x01\\xa8\\x10\\xb0\\x01\\x803\\xac\\x12\\xa8\\xaa7)sw\\x8d\\x80\\x88\\x08\\x00\\x80\\x00\\x08\\x19\\xb0\\x98(\\x05\\xc9\\x00\\t0\\x90\\x91C\\xd5\\x1c\\x00\\x99\\xa8@\\x12\\x80\\xa9\\x18\\xe7)\\x12@\\xc2\\\\w\\xc3\\x9a\\x082\\x16\\xbb\\xaa\\x08\\x88\\x00\\x18\\x00\\x99\\x18\\x98\\x13{w\\x93\\x8c\\x8b\\x88\\x00\\x88\\x08\\x00\\x01p\\xb6\\x0b\\x88\\x08\\x80\\x01\\t\\x81\\x88)\\x08\\x88\\x19\\x94+\\xa3\\x1fg\\x9c\\x00\\x88\\x80)\\x18\\x88\\xb1\\x0b#+\\xb08\\x08\\x8d\\x06\\x8a\\x85\\xb0<\\x004\\x8d\\x1a\\x1aZ\\x89\\xa4\\xabQ\\x1b\\xd1!\\x8a0\\xc1\\x95\\x90\\x1c!\\x12`\\x1a\\xa1wW\\x8f\\x80\\x80\\x80\\x18\\x88\\x08\\x08\\x08\\x81\\t\\x08\\x88\\x18\\x88\\xa2\\x18\\x11\\x88~\\xa3\\xa3\\xe9\\x91\\x11\\x98\\xa3\\t\\n\\xac4\\x8b\\x90(H:w\\xa7\\x9br\\x929\\xea\\tU\\x80\\x80\\xbc\\x08\\x88\\x00\\x88\\x80\\x08\\x00\\x88\\x19\\x81\\x97\\x8a\\x00\\x19(\\nq\\x9a\\x98\\x01\\x13\\x08\\x8b\\x02\\x8f\\x80\\xb2j\\xb8C\\t\\n\\xd2*I\\xe0\\x80(\\x8a\\x00l\\x980Pw\\xb9\\xb2\\t\\x88\\x00\\x88\\x18\\x00\\xc1\\x12HB\\x07Q\\xa8\\x14K\\n\\x90@\\xaa\\x85+\\xf9\\x89\\x9a\\x90\\x93\\x9b\\x03\\x01\\r\\x1a\\x80\\x81\\xb8\\xa8\\xa2\\x15\\x19\\x8d\\x92\\x18\\xb3\\x8a\\xe5X\\xb8Q\\x99\\x01\\x08[\\xa8,\\xa3)\\x81X\\xa8\\xa4\\x98\\x1c(\\x1a\\xbf\\xc4#\\x11\\x91yw\\'\\x90\\xbd\\x80\\x80\\x08\\x80\\x08\\x88$\\xab\\x08\\x08\\xa0\\x81\\x19\\x18\\x91\\x89\\x10\\x95*Y\\x91\\xf2\\x10\\x89(\\x98J\\x98\\xd0\\x08\\xc4\\x82\\x11\\x1cIq\\xe8\\x81\\x90GY\\xd8\\x89\\x00\\x19\\x08\\x80\\x98\\x10\\x80\\x88\\x98\"\\xba\\x13\".\\xb3\\xc9\\xd390\\xf2\\x1aB\\xc9\\x88\\x93\\x19\\x99\\x19\\x86\\xa9I\\t\\x12a\\x8a\\xd1\\x81\\x1c)B\\xc8<p\\xd4\\x88\\x18\\x80\\x98\\x93+\\x12\\xaa\\x03\\t\\xa0xrw\\x07\\xa0\\x8d\\x88\\x80\\x80\\x00\\x91\\t\\x88\\x00\\x90\\x00\\x90\\x90\\x01\\x99\\xa5\\xb2\\x809\\x01\\xb8\\x92\\xbb7\\x9a\\xb1\\x97(\\x98\\xb8IP\\x19\\x8bH\\x891)(\\x1f\\xba`\\nw\\xf3\\x88\\x90\\x81\\x88\\x10\\x89\\x00\\x88\\x80\\x11\\t\\xc3!\\xd0(\\xb8\\x13\\xf1\\xa9\\x13\\x0b\\xe9%\\xaa#H;\\x8b\\x96\\x1d\\x91*\\t<\\xba\\x15\\xa8S\\xa4\\xab\\x80\\x92J\\xa0\\xa6\\x88\\x90y\\x99\\x00)\\x87\\x9ahg\\x9c\\x08\\x88\\x01\\x88\\x08\\x98\\x11\\x80\\xc8!\\x90\\x90\\x1bx\\x1b\\x18\\x91\\x91\\x0e\"\\xa8\\x18B\\xaa\\xec\"\\x97\\x1c\\x82\\x98\\x91\\x08\\x08\\xb2\\x83\\xa9 K\\xf1*h\\xaa\\x14\\x8a=\\x80\\x80\\x81\\xa0K\\xc3\\x08N\\x11\\xc5\\x08\\x898\\x188\\x02/\\x18\\xf2\\x88\\x80\\x08\\x1a\\xf2\\x19\\xa1\\x11\\x01\\x18=\\xc9\\x05\\t\\xd0\\x94\\x929\\xf8\\x00\\x02i\\xb5\\x8a\\x08\\t\\x81:\\xd8\\x13 w\\xa7\\x0c\\x08\\x08\\x08\\x80\\x88\\x90\\x81\\x08\\x90\\x93\\x19\\x11\\xca \\x94\\x8a\\t\\xa6\\x90\\x9ab\\xb88\\xd1(\\xb9%\\x1e\\x00\\x8a\\x02\\x00\\xbaQ\\x8a\\x96Iw\\xf3\\x08\\t\\x08\\x88\\x80\\x80\\x80\\x92\\x90\\x08\\x01\\x18\\x83\\xf9\\x08\\x90 \\x89\\x13\\x89\\xc4L\\x91\\xc2\\xa9h\\x98u\\xa4\\x8c\\x90\\x80\\x10\\x18\\x04\\xf8\\x18\\x98\\x91\\x80\\xa3J\\x18\\xb2\\xb9\\x81\\x95\\xb3\\t\\x93\\xf1\\xa2\\x10w\\x08\\x9b\\x90\\x90\\x88\\x82\\x10\\t\\xb8\\x84\\xc1\\x95!\\x88ww\\x98\\xb9\\x00\\x08\\x80\\x00\\xa0w\\x92\\x8e\\x80\\x80\\x08\\x18\\x98\\x88\\x00\\x19\\x88\\x88\\x08\\x90\\x91\\x80\\x08\\x08(\\xa8\\x99\\x80\\xb5\\xa6\\xb0\\x04\\x98\\xa9\\x13\\x10\\xb8\\x19\\xd4\\x87\\x99\\xaa\\x02\\x90m\\xb1\\x10\\x80\\x1b\\x95\\x08\\xa8\\x86\\x8a+A\\x15,\\x18\\x07\\xac\\xa0\\x108\\r\\x88r\\x17\\x0f\\x88\\x00\\x88\\x80\\x80\\x00\\x88\\x98\\x11\\t\\x08\\x918\\x88\\x88\\xa9|\\x81+\\x89\\xa1s+\\xe1 \\x19\\xc42\\xda\\x18\\x91\\x12\\xc8\\x80\\x19)\\x1e\\x88\\x10\\xb0)\\x883\\x95\\x9c\\xb0y\\x0c\\x93\\x93\\t\\xdb\\xe0w\\xd1\\x88\\x10H78\\xc1\\x9f\\x08\\x08\\x08\\x08P\\x98\\x00\\xa9\\x89\\x00\\x00\\x89\\x18\\x91\\x00\\x0b\\x90\\x90\\x14\\t\\xd8\\x01\\xe00\\x13\\xa91\\xc1\\x19\\x99\\xbc\\xb7\\x01h\\x89\\n\\x93=\\xa1\\xb8\\x05\\x12\\x0f\\x81\\xaa\\x80\\'\\x91,*\\xb0\\x9a\\xa2\\x00J\\xf0\\x10\\x06\\x08*\\xa0\\x1c<\\x19\\tD\\xca\\x11\\x8c\\x02\\xb1\\xa1Lw\\x87\\xa8\\x8a\\t\\x08\\x81\\t\\x00\\t\\x98 \\xa8%\\xc3\\x8b\\x81\\xc0\\x11\\x91\\x15\\x9a\\x1e\\xb28\\x82\\x1d\\xe1\"\\x98\\x81\\x1d\\x91!\\x89\\xb8G\\x87\\x9d\\x81\\x19\\x90\\x00\\x91*!\\xfa \\n\\x18\\x11*\\xd4\\x10D\\xbb\\x90\\x91\\x84\\xa1\\xab\\xc3\\x84\\x91,\\xb88\\xa0(\\xd7\\x83\\r\\x18$\\xc8\\x92\\xaa\\x02(\\x9a{\\xa2\\x02\\xbc\\x04r\\x99\\x88\\x898\\xc23S\\xcdP\\xd1\\x08\\x08\\x80\\x08+\\xb0(\\x80\\xd8\\x80p\\xb81\\x0e\\x81\\x83\\x8a [\\x8b\\x10\\x1b2\\x0f\\xd9%\\x98\\x99\\x13\\xd1\\x12\\xa9\\xb7)\\xa1\\xab`\\n\"\\x17\\xbb\\x10:\\xb8`\\x07\\x8d\\x00\\x88\\x91\\x90\\xa0\\x81\\xb1!3\\x1f\\t\\x99\\x84+;\\xd1\\x13s\\r\\x88\\xd1\\x10\\x88\\x08\\x04!\\xf4*\\x08\\x18\\xa8\\x01x\\xd3\\x1a\\x00\\x88\\x8c\\x91\\x18\\x14\\xa90\\x8a*\\xa6\\x80\\x9ep\\xb7\\x08\\x08\\xa8\\x01\\x00\\x08@X`\\x10\\x13\\x86\\xb3\\x88(\\xd8\\xb2\\x96\\x10\"\\x90\\xda\\xaa\\x9c\\x9d\\x08\\x85\\x9d\\x81\\x98\\x08\\x08\\x08\\x19\\x90\\x13\\xb1\\x13\\xae\\x02 \\x1a\\xb8\\x03\\xabD9\\x8f\\x08I\\x86\\x8b\\x90\\x18\\xa0y\\x98*9w\\x8c\\x91\\x89R\\x99\\x98\\x00\\xc8 \\x81\\xc39\\x00\\x82\\x0e\\x08;\\xa3\\x1d \\x83\\xd9\\x10\\x89yw\\x07\\xb0\\xaa\\x08\\x88\\x90\\x08\\x80\\x08\\x18\\xb1\\x80\";\\x02\\r){\\x97\\xaa\\x18\\x88\\x01\\x90\\xa1\\xa8h\\x80r\\xd2\\x89\\x84\\x8b\\x18(\\x017\\xe9\\n\\x81\\t\\t8\\x08\\x99\\xa1\\x87\\xa9\\xb3X\\x98\\xc1:Z\\xa2\\x88\\x08\\xa0w\\xa9\\x18\\r\\x00\\x00\\x10\\xa80\\x0b\\xa1\\x1aqw\\x9b\\x88\\x80\\x90\\x81\\x18\\x90\\x08\\x91\\x90\\xe8\\x05w\\xb9\\x00\\x98\\x00\\x1a\\x08\\x08\\x89\\xb2\\x81\\x03\\x8b\\xa8y\\x87\\x98\\n\\x18\\t\\xb91\\x84\\x19!\\x9a\\xaa7G\\x8f\\x08\\x88\\x08\\x80(\\n\\x93bw\\xe0\\x88\\x80\\x00\\x08\\x08\\x88\\x10\\x08\\x80rw\\x81\\xb9\\x8c\\x800\\x17\\x88\\x9d\\x08\\x08\\x88\\x00\\x08\\x88\\x80\\x18\\x08\\t\\x90\\x82\\x88\\x1a\\x10\\xb0\\x83,\\x1bA;\\xfa\\x02\">\\xf3\\x19\\x10\\t\\x88 \\xa1\\x1a*\\'%a\\x80\\x91\\tH-\\x18\\x92\\x18\\x02\\xa2\\xb3\\xeaB\\xd0\\x12p\\xa0\\xd20\\xb9!\\xcc3\\x9d\\x02\\x8e\\x83\\x9b\\x98\\n\\x9a\\xad\\x827\\xd8\\x88\\x01\\x00\\x8aW\\x80:(\\xa1\\xd0C\\x90\\xb9 \\x91\\x1c\\xf9\\x99\\xaa\\x88\\x90\\x08\\x01rw\\x9c\\x08\\x08\\x08\\x00\\t\\x10\\x8a\\x08\\x00\\x19\\x87\\x8b8\\x98\\x9a\\x01\\x91\\x81zh\\xa9(\\x8a\"\\xd0s\\'X\\xf9\\x88\\x08\\x08\\x80\\x88\\x00\\x00\\x18\\xa8\\xa2\\t\\x100\\xc0\\x109w\\xd7\\x88\\x80\\x00\\x88\\x08\\x80\\x80\\x80\\x88\\x81\\x80\\x01:\\x14\\x9b\\x11w\\xc79\\xc0\\x08\\x88\\x00\\x88\\x80\\x08\\x80\\x00\\xa2\\x08\\x01\\x94\\x8c\\x80!\\x0cYZ\\n(\\t\\x1a\\x04\\x80\\x84zI \\x04r\\'\\xa0z\\x87\\xaa\\x80\\x80\\x9a\\x88\\x08\\x08\\x89\\x08\\x08\\x88\\x90\\x00\\x18\\xb8\\xb0\\xb6\\xa1\\x92\\x12w\\x8c\\x08\\x88\\x88\\x92\\x18\\x08\\xa0\\x1a\\x80K*\\xa2\\xa1v\\x9a\\x98\\x90rg\\x8d\\x08\\x08\\x88\\x00\\x80\\x18\\x88\\x90(\\xb1\\x88\\x16\\x9a\\x08\\x1a@w\\x12\\x91\\x80w\\xb2\\x8c\\x88\\x00\\x88\\xab\\t\\x80\\x80\\x08\\x80\\x81Z\\xd3\\x98\\x91\\x91\\x13\\xa9\\x18\\x1a\\x99:\\x99\\xe1\\x84\\x10\\xe3\\x81\\x90\\x80\\x89L\\xa2\\x12\\x9b\\xf0\\x05\\x10\\x9a{\\x91yDs\\x14\\xca\\x9b\\xa8\\x18\\x01\\t\\xa5\\x08w\\xc8\\x88\\x80\\x18\\x98\\x08\\x88\\x81\\x88\\x00\\x88\\x08\\x00T\\xba\\x98\\x00\\x81\\x98\\x81\\t\\x12\\x1c\\xa1\\x95\\x11w\\xab\\x88\\x81\\x19\\x08\\x8a3\\n|\\xb7\\t\\x18\\x98\\x19\\x10\\x80\\x83\\xb9 \\x8c\\xa3xpw\\xa0\\xa9D\\x83\\x9e\\x19\\x12\\x98\\xac\\x00\\x08\\x88\\x08\\x08\\x08\\x18p\\xd5\\x08\\x08\\x08\\x08\\x80\\x01\\x18p7\\x18\\xb0Z\\x07\\xb9\\t\\x81\\x18\\xd8\\x8c\\x08\\x88\\x80\\x08\\x08\\x88\\x08\\x80\\x18\\xc1\\x80\\t8p\\x88\\x9a\\x89\\x01\\x0bCP\\nw\\x13\\x03\\xb3\\xa1\\x93\\x84\\xb2\\xb4\\x10\\xe1\\xa0h\\x8a\\x10\\x10\\x0f\\xa3\\x82\\xbb\\xf9\\x8e\\xa8\\x91\\x88\\x80\\x90\\x00\\x000\\xb1\\x9c\\xa8 \\x89\\x1a\\x98<\\x04-\\x00\\x80w(\\'\\x82\\x00\\x08\\t\\x90\\xb2*,\\x81[h\\xa8 \\x0e\\x803\\r\\xc9\\xbf\\x89\\x80\\x80\\x08\\x80\\t7\\x8e\\x80\\x88\\x80\\x80\\x11\\xa0\\x08\\xb9\\x03\\x03)\\x9c\\x93\\xa2\\xbaQv\\xd7\\x08\\x88\\x08\\x80\\x01\\x08\\x88XG\\xac\\x08\\x80\\x88\\x88\\x12\\x03\\x0f\\x08\\x89\\x00\\x80w\\xd0\\x08\\x88\\x00\\x88\\x00\\x19\\x88\\x00\\x91\\xd3\\x00\\x08q\\xb7\\x89\\x08\\x00\\t\\x80\\x89\\x08\\x81\\x01\\x19\\xa0\\x11\\x80\\x1a/\\x08\\xb2\\x81\\xda:\\xa2`\\xd8\\xb4\\x81w\\xaa\\x90\\x01\\x08\\x80\\x81\\n\\x8a\\x10\\x00\\x18\\x03\\x87wW\\xa8\\x8d\\x08\\x08\\x12\\x90\\xc8P\\xc0\\x88\\x08\\x80\\x80Cb\\xf9\\x88\\x00\\x08\\x80\\x88\\x10\\x89\\x08\\x81\\x89\\x01\\x18\\xb9\\x93\\x10\\xa3\\r1\\xc8\\x92\\xa49I\\x9a\\x96\\t\\r\\x00x\\x99\\x80p\\xf3\\x88\\x11\\n\\x88\\x18\\x981\\x9aw\\xe4\\x11\\x9a\\t\\x18\\x80\\x08\\x88\\x00\\x88q\\x97\\x0c\\x08\\x08\\x08\\x08\\x88\\x80\\x08\\x80)\\x91\\x08\\x10\\r\\x03\\xe1;\\xa4\\t\\xa3\\x89\\x03\\x80*\\x996|w\\xd6\\x18\\xa0\\x08\\x88\\x80\\x80\\x80\\x80\\x08\\x18\\t\\x808w\\xab\\x08\\x80\\x80\\x80\\x88\\x18\\xb2\\x82J\\x99w\\xe2\\x88\\x00\\x91\\x88\\x98\\x00\\x80\\x90\\x10\\x00\\x8a9\\xa9\\x06Jw\\x87\\xa9\\x08\\x9a\\x80\\x08\\x80\\x81\\x19\\x08\\t9\\x11\\x0b\\xb3\\xdc\\x84\\x91\\x80\\x1b(\\x12\\x8f\\x93\\x01Z\\xd1\\x89\\x12\\x91\\x89\\xa5\\nN\\x90\\xb1\\x03{w\\x0c\\x88\\t\\x80\\x18\\t\\x00\\x19\\x10\\x91\\x8b8\\x8a\\x18\\x14\\xdb\\x90\\x03)\\x1d\\xa827\\x8d;\\x91\\x88\\xa0\\x01\\x93\\x8f\\xb2\\x97\\x91\\x1a\\x88\\x88\\x95J\\x19\\xb8\\x9ak\\x89\\x17\\x0b\\x90\\x82\\x9c\\x04I\\x8b)Qq\\xa7\\x8b\\x08\\x80\\x1a\\x82\\xa2:\\t\\xa2\\x0e\\x02J\\xf2\\x19\\x01\\x08\\x18\\x8b*\\n\\x07\\x9c\\x14\\x98*\\x88}\\n\\x18\\x10\\x91\\n\\x1c\\xc4\\x18\\x13\\x8e\\x81!\\xc8\\xb1K\\t\\x15\\x8b\\x19I9B\\xd0\\xca\\xa2 \\x88w\\xa9\\x1aw\\x9a\\x88\\x88\\x00\\t\\x00\\xa0\\x10\\x88\\xa0(\\xb13\\xaa\\x8f\\xa3(A\\t\\x1a\\x1b\\x01 \\xf0z\\xd1\\x10\\x01\\x8b\\xa9p\\x99\\x11\\x988\\xb9\\x14\\xd3;-\\x92\\x98(D\\xb8\\x8d\\x02\\xb0\\xe1\\x13\\x89s\\xa7\\xaa\\x01\\x80\\xa2\\x1c\\x90\\x13\\x89\\x87\\x89\\t\\x11\\xb2[-\\xa1\\x0b\\x902\\x98\\xb1p\\xc9\\th\\x81\\x89\\xa1\\xd91{\\xd9\\x818\\xa2\\x81\\x8cw\\x9b\\x80\\x00\\x08\\x19\\x10\\xa90\\x91\\x0c\\xa8!LI\\n\\x18v\\xc9\\x89\\x92\\x02\\x99 \\xc3\\t\\x88\\t\\xb43\\xd8\\xa0zw\\'\\x08\\xd9\\x0b\\x88\\x81\\x00\\x88\\x89\\x10\\x88\\x98\\x10\\t\\x00\\x80\\x08\\t.v\\xd0\\x00\\x89\\x08\\x92\\x88(\\x89H\\x01\\xa9\\xa9\"\\x01\\xd4\\xcb\\x11\\x04X\\x97\\x8c\\x00\\xa0\\x12\\x80\\x8a\\x92\\t\\x84\\xc40\\x9a\\x03Q\\x013wE\\xa1\\xac\\x89\\x99\\x08\\x1a\\x1a\\x91\\xb0\\x00\\x10\\x1b(.\\x89\\xa2\\x95\\xe8\\x18\\x92\\x81a{\\xf8\\x00\\x80\\x10\\x91\\x89\\x88\\x81*\\t\"\\x0f\\x01\\x88\\xb0\\x19\\x87\\t\\x08\\x8a\\x93\\xb0z\\xa4;*(M\\xa0\\n\\x902\\x1b\"ow\\x8d\\x08\\x08\\x08\\x81\\x90\\x80\\x80\\x00\\x80\\xb8\\x82*( \\x8f\\xa2j\\x10\\xaa\\x03\\n\\x890\\xc7\\x10-\\xb1\\x85\\x99\\x11x\\x1bw\\x9c\\x80\\x00\\x00\\x88\\x08\\x08\\x98P\\x8a\\x99\\x11\\x89\\x80\\x03\\xa2\\xb1*pw&\\x80\\xc0\\x8f\\x80\\x08\\x80\\x80\\x00\\x88\\x08\\x88\\x00\\x92\\x18\\x10\\x98\\xa8\\x83\\xf0\\x01\\x19w\\xc9\\x80\\x00\\x88\\x08\\x88\\x10\\xb8\\x93\\x98\\x00s\\x97\\x8b\\x19\\x88\\x08\\t(\\x01\\x97\\x08\\x0b\\xa0\\x1b\\x18\\x97\\x80\\xa8\\xa7\\x00\\x1a\\x90\\xc4K\\x80\\x93\\xbb\\x17\\x80\\x1a\\r\\x95\\x91\\x89w\\xa9\\x89\\x00\\x08\\xa1\\x81\\x01;\\x98\\x84\\x8d8\\x1a\\x01\\x9b3\\xb1\\xa6\\xc9\\xa2zg\\xba\\x08\\t\\x80\\x00\\x18\\t\\x08\\x89\\x80\"\\xcbZ\\x10\\x01\\t\\xb6\\r\\x84\\xbb2\\x01\\xa1\\xdb%#\\xe0\\r!\\xc1\\x89\\x00\\xc1X\\x98\\x91\\x12\\x91\\xad\\x84\\x1a\\x04\\x0c\\x81\\xba\\x05\\x10I\\xf9H\\x88\\x00\\x99\\x0bt\\xa7\\x8a\\x08\\x81\\t\\x88\\x808\\x8a\\x818\\xd5\\x108\\x9d\\xc1\\x83\\xa9\\x06\\x80\\x08\\xc8\\x13\\x10\\x0c\\x9a\\x840\\x98\\x0b\\x8b\\xe1\\x93X\\x8a*\\x03\\x84\\xb5/J0\\x90:\\x94Y\\x11\\nZ\\x9b#\\x08\\x1e\\xa2\\xcap\\xf4\\x89\\x08\\x18\\xa8 \\x80\\x90:\\x94\\x8a\\x91\\xbb\\x04&-\\xa9\\x11\\x08\\xb8\\xa4\\x080\\xf8\\x911,\\xf0\\x92!\\r:\\x91\\x01l;\\xc9\\x13\\x88\\n\\x00q\\x99\\x81\\x089\\xd48w\\xa7\\x8b\\x08\\x08\\x88 \\x07\\r\\x88\\x00\\x88\\x98\\x01\\t\\x10\\x00\\x89\\x81=\\x92\\x01\\x08\\xbb]\\x81\\xb8\\x1az\\x81\\x19\\x13\\x99W\\x08\\x1b\\x8ay\\xa8\\x03\\x19\\xbbQ\\x99\\x9c\\x138\\xdb:\\x05\\xa4\\x99<\\xa0W\\xa1\\x8e\\x00\\x81\\xa3\\xa1\\xa9x\\xb3\\x8b\\xa0 \\t\\xb3\\xc9\\x93\\xa7{\\x90\\x90)\\xa8(\\xb8\\x81\\xc2\\x00K\\xd2\\x02\\x89\\xa1\\x81\\x08\\xb5r0\\xbf\\x93\\x80 \\x8d\\x00\\x11\\x08\\xa0\\x19\\x94\\xb3\\x0f\\x00\\xd93\\xd8\\x05\\xc8\\x18\\x800\\xb0u\\x07\\x9a\\x154\\xbd\\x88\\x80\\x99\\t\\x08\\x08\\x19\\x19\\x89\\x089\\x99\\\\\\x08\\x11\\x02w\\xb7\\x0b\\x08\\x80\\x11\\x99\\x80\\x89t\\xe2\\x80\\x80\\t\\x08\\t\\x08\\x80(\\x88\\x8a\\x19!\\x81\\x8cB\\xbb\\xa1i\\x98\\xc0\\x04\\xa2\\xaa\\x84\\x12\\x10\\xf2\\x91\\xf8\\x93\\x18\\t\\xa0qs\\xe0\\x08\\t\\x08\\x08\\x02\\x89\\x19\\x92\\x19\\x08w)w\\xd2\\x99\\x00\\x89\\x00\\x08\\t(\\x98\\x00\\x88\\x01)\\xaa\\x84\\xb1\\x12\\x91\\x849F;w\\x07\\x81\\x98c\\x82\\x9d\\x08\\x88\\x9a\\x8a\\xa9\\x88\\x88\\x88\\xa1\\x00\\t\\x10\\x90\\x89L\\xc80\\x18I\\x91\\x9b\\x9b\\x84\\x1c\\x13/\\x19\\xc8\\x91\\x85\\x91\\xa8\\x92)\\xab1\\x07\\x8f\\x81\\x11\\x90\\x88\\x18\\xe9\\xa7(\\x98d\\xa9\\x90\\x19\\x19\\x98\\x90\\x05)\\xb8\"\\x9f\\x01\\x91\\n8\\xd8\\x00\\xa4\\t\\n\\x95\\x81\\x14\\xf0\\x89\\xa92y\\x1b\\x80\\x1a3\\xf1\\x19\\x11\\x01w\\xe0\\x88\\x81\\x98\\x01\\xa0(\\x19\\xa9\\x92\\x00\\x88r\\x9a\"\\x8a\\xa1\\xbas\\x9a\\xd2\\x01)[\\x89\\x14\\x1e9\\x98V\\xd0\\x08\\x98\\x80\\x10\"\\xa0\\xb8p\\xb7e\\x90+\\xa2z\\x17\\x8e\\x81\\t\\x01\\xa9\\x81\\x89 \\xa9\\x08\\x08\\x00\\x89\\x00\\x18\\n\\x02\\xb3\\x998\\xcc\\x13\\x90\\xf3\\x82\\x0b\\xb2(/\\t\\xc31\\x98\\x81l*\\xa0,3w\\xab\\x19\\x08\\x08\\x08\\x8a\\x18\\x02\\x88I\\x89\\x80\\x8f\\x00\\x01\\x82\\\\\\xa1\\xf8\\x03\\x18\\n\\x00\\xd9\\x01\\x19q\\xa5\\x89\\x99\\xb1\\x12\\x19\\x85\\x99\\xb2@\\xd0\\x11\\x0b\\x0c\\x83\\x80\\xb14\\x0e\\x87*\\xa0Z\\x80(\\xb1)u\\x97+\\xc2yW\\xbb\\x08\\x88\\x12\\xb9\\x08\\x08\\x08\\x18\\x912\\xb9w\\xa5\\x99\\x819G\\xf9\\x00\\x88\\x10\\x98\\x8a\\x08\\x08\\x08\\x80\\x88\\x00\\x80\\x90\\xa1)\\x81(\\x88\\x19\\xc1\\x91:\\xb1\\x17+\\x98 \\x80\\xaf\\x11!w\\xc9\\x91X&\\x98\\x9d1G\\xcb\\x88!\\x80\\xbb\\x80\\x80\\x00\\x89\\x00\\x10\\x0b\\x01\\x89\\x02(\\x01\\xdaw\\xf3\\x08\\x081\\x83\\x93\\xa9w\\xd2\\n\\x00\\t\\xa9\\x80\\x91\\t\\x08\\x89(\\x90\\n \\xa9\\x83)\\xa2Kq\\'\\x9f\\x80\\x00\\x08\\x80\\x80\\x88(\\x99\\x92\\x12\\x8b\\xa8Ph\\x99\\xd0\\x00\\x80\\x88\\x02C\\x8b\\x01\\x1d\\x08xG\\x0f\\x88\\x80\\x19\\x00\\t\\xa1\\x18\\xa3\\x98\\x91\\xb9x\\x10\\x1d\\x92\\x90\\x01\\x99\\x19Z\\x04\\x1cZ7\\xa1jq\\x97\\x8d\\x00\\x08\\x90\\x89\\x00\\x80\\x00\\t\\x80\\x08\\x89\\x11\\x98\\x81\\x90x\\x91\\x8b\\x82L\\xc9(\\x01\\xf1\\x14\\x9a\\x18\\xa7\\n\\x01\\x19\\x02\\x99\\xc9\\x03\\xd0\\x08\\x10*I\\xb1\\x1a\\x02\\x01\\x93\\x1f\\x1a!-\\xa4\\r\\x10\\x17\\xbb\\x00 \\x13\\x1f\\xa8H\\x8bi\\xa8\\x91\\x94\\x11\\xaa`\\x89\\x11\\x1b\\xc0\\xa8\\x9a\\xe7\\x02\\x1a\\x00\\x11{\\x97\\x0c\\x08\\x88(\\x90qW\\xac\\x00\\x80\\t\\x08\\x88\\x08\\x80\\x01\\x89\\x10\\t\\x00\\x90\\xb9\\x06\\xa8!p\\xe5\\x08\\x08\\x19\\x88\\x80\\xb1\\x81\\x911\\x1b\\x1a\\xb5\\n8\\x89\\x96\\x08=0\\x02\\x9e\\x80[\\x19!r\\x1d\\n\\xb9\\x85\\x89\\x80J8\\xd0\\x80\\x92\\xc2\\x88\\xa6\\x90\\n\\x83\\x89\\xd1i\\x08\\x08(\\x1c\\xa7\\x198\\x8a\\x0bw\\xaa\\x00)\\x00\\x89\\x8a\"\\xb1p\\xa9\\x90\\xd8#\\xb8\\x03\\x8c\\x95\\t\\xc8\\x08\\x12\\x12\\xa08-\\xf0@\\t\\x08\\t\\xc1\\x83,q\\xd7\\x88\\x10\\xa8\\x009\\xa3\\x89\\x08<\\xc4\\x08\\xb8$\\xb8\\x02\\x10\\x9a\\x91\\xebt\\'\\x8f\\x80\\x00\\x19\\x08\\x88\\x18\\x88)\\xb3\\x19\\x93\\xc2\\x8f\\x92F\\xb9\\n\\x91)\\x94\\x00\\n\\x00\\xb8zy\\xd5\\x88\\x00\\x88\\x00\\x00\\xa0\\x88\\x88)\\x88{\\x81\\x90\\x1a(\\xa8A)\\xf8\\x00)9\\x91\\x93\\x8f\\xd4w\\xb9\\x80\\x08\\x08\\x80\\x88\\x10\\x89\\x02\\xea0\\xa8\\x12q\\xa7\\xa0\\x1bP\\xb9\\x08\\x00\\x98\\x01\\x89\\x13\\xb0\\x1aw\\x8b\\x98\\x01\\xa9\\x80\\x02\\xc2Y\\x08 \\x98K\\x8b\\xc4+3\\x9b\\xb3\\x0b\\xb3~\\x9a\\x13(\\x08\\x8a\\x85w\\x8d\\x90\\x10\\x80\\x88\\x081\\xa1\\x0b\\x80:\\xa1\\xb8\\xf3\\x90\\x01,\\x87\\x18\\xbb((>\\x90\\xb4\\x99B\\xb7\\x9b\\x02\\x18\\x99\\xa6\\x99S\\xd8\"\\xa8\\x13\\x9a@\\x03\\xac\\x0c\\xd3`\\xb8\\x82M\\x89\\x88 *\\xc2s\\xd5\\x88\\x08\\x19\\x80\\x1a\\x91z\\x90\\x98\\x04\\x9a\\x19\\x12\\n@\\x97\\xd2\\x99\\x91\\x11\\xb19\\x8e\\x12\\x18\\t\\xc1\\xa9\\x14\\t\\xa9\\x18\\x10*i\\x99\\x8eQ\\xa00\\xa9\\xf5H\\x89\\x81\\t\\x00\\x80\\x92\\x19\\xc8 \\x99ww\\xab\\x80\\t\\x81\\x88\\x08\\x000\\xab\\x92\\t\\x02\\xb8\\x89R\\xcbx\\x90\\x10\\x18\\xca( \\x00\\xfaH\\x08\\xb2z\\xb5\\x88\\x00\\x1a\\x80\\t\\x9a[\\x949,\\x9d\\x96\\x19(\\x99\\x000\\r\\x80\\x80\"\\x1b\\x8c\\xd4w\\x97\\x8c\\x00\\x08\\x88\\x80\\x18\\x90\\x08\\x18\\x89\\x92*\\x80\\x83\\xb8Q\\x98\\x9c)x\\x91\\x19\\x91\\x1b\\x04\\x1e\\x18\\x1a\\xd2\\x92\\x19\\x9d\\x07\\t\\x08\\x8a\\x831\\xf3\\x99\\x94\\x92\\xc01B\\xd9\\x8c\\x12\\xa2\\x1b\\x18A\\x0b\\tG\\x9d\\x00\\x81\\xc0\\xb8\\x94\\x12\\x0b\\x13\\x0c\\x80\\x19\\xf9\\x00\\x96\\x0b\\x85\\x10\\xaa \\x82\\x8e\\x04\\x90\\x1a+!\\t\\x9a;\\x01\\x0fM\"\\x8e0\\xd1J\\x00\\xa9J\\x92\\x98\\x88\\xe1#\\x03=\\x1a\\xac\\x19\\xa6\\x02\\x1aq\\'\\x8f\\x08\\x08\\x08\\x80\\x80\\x08\\x08\\x98\\x92N\\x80\\x80\\x81\\x1c\\x81\\x98:\\x12\\xc2\\xaa\\x16\\x8a\\x9a\\xe3\\x93\\x90\\x07,)\\x90\\x00\\x1b\\xf3(\\x11:\\x9b\\x02\\xf82\\x88\\x1dt\\x93\\xac\\n\\x00\\xc2\\x00\\x9cA\\xa0\\x19w\\xf2\\x80\\x08\\x08\\x80\\x08\\x08\\x08\\x98\\x10\\x98(!;\\x80M\\x98\\xa8\\x10(\\xa3:\\x8f\\x00\\x1a3\\x81\\xb8\\x1f(\\x92\\xdd\\x07\\xa88+\\x08\\x18\\x0f\\xa2\\x93\\x8aB7\\xbd(\\x89\\x83+\\x9b\\x91\\x82b\\x1d|7\\x8f\\x80\\x08\\x80\\x88\\x81\\x80\\x91\\x08\\x90\\x80\\x82\\n\\x92\\x82\\x9c\\x10B\\xf2\\x19\\x03\\xab[!\\xf3\\x18H\\xf3\\x08\\x80\\xa0\\x10\\x00\\xb0)\\xb4+\\x94J\\xe8)(+\\xa0Y\\xe3\\x00\\t\\x82\\x91\\xb2w\\x84\\xc8|\\xc1\\x08\\x08\\x08\\x19\\x00\\t\\x89\\x81\\t\\x00\\x92\\xb0\\x10\\x94,\\x18[\\x12(\\xf2\\x99J\\xa9\\x81\\t\\xa8x\\x93\\x81\\x9c\\x92\\x02\\x0c\\x02\\x1c[\\xd3\\xb8\\x83\\xa49\\x92\\x1c\\xd3Z\\xa0\\x91\\x88\\xd3\\x94\\xa82\\xb4zw\\xaa\\x90\\x88\\x00\\x03\\x9b\\x80(\\xa9\\x92\\xa5)\\xa8\\xc1i\\xa8\\x12)\\x10\\x92\\xa0\\x9d\\x03\\x1f\\xa1\\x8b\\x84\\'\\x0e\\x18\\x81\\x99I\\x88\\xb9\\x10\\x06\\x08\\x9b\\x199\\x81\\xf1\\x0b@\\xa0\\x19\\x02\\x9dE\\x90\\x98\\x91\\xa2z\\'\\x8f\\x80\\x00\\x80\\x88\\x80\\x98\\x18\\x03\\x81/\\xa1\\x08\\xc08;J\\x91\\x1dc\\xa9\\xb8\"\\xc0I\\xb8p\\xb7\\t\\x92\\x89\\x01\\x88\\xb1\\xb1\\x8a\\x86\\xa2b\\xd8\\x18\\x91\\xa8\\x01I\"\\x8c\\x02\\x9f\\x82\\x80\\xa0\\x86\\xaaw\\xaa\\x80\\x00\\x88\\x08(\\xa8\\x10{\\x98\\x02\\xb9Z\\xa2\\x10(\\x99\\x08\\xbf\\xb3B\\x99\\xa1\\x99z\\xa1@w\\xab\\x18\\x00\\x88\\x89\\x80\\x00\\t\\xa30M\\xa0:3\\x9eI\\xb1\\x0b\\x82:\\xe10\\x1d\\x01\\x0b\\x83\\x7f\\x17\\x8d\\x08\\x80\\x08\\x80\\x80\\t\\x00\\x13\\x9e\\x82\\x89\\x02\\x00\\x1d\\x80\\xa0\\x81s\\xb7\\x89\\x08\\t1\\xca\\x88\\x82\\x91\\x1b\\x961\\x9a\\x1b=\\xb2J\\x01.\\x00\\xb0$\\x0f\\x10\\x08\\x88,\\x89x\\xa8\\x91\\xb3\\x11\\x08\\x95s\\xb7\\xa8\\x89\\x00\\x81\\x10\\x00\\xf0\\x00\\x91\\x08\\x00\\xaa\\x11\\xe3\\xa93(\\r\\x11\\xb9!\\x1f\\xa4\\x80\\x19\\x8a\\\\\\xc0\\x83!\\xeaD\\xe8\\x10\\x98Qg\\x9d\\x00\\x08\\x08\\x08\\x08\\x08\\x88\\x80\\x00\\xa1@\\x11!\\x99\\xccXG\\x9d\\x80\\x90\\x00\\x80)\\x88\\xa0!\\x1b\\x88\\x0b\\xb9\\x17\\x80+\\x80\\xcc\\x13\\x18-\\x1a\\x88\\x07\\n0 !\\xf9\\t\\x13\\xc1\\x1d\\x929\\xb1\\x80\\xbc\\x81A\\xe9\\x12\\x99\\x03\\xa5,\\x95,\\x88\\x92\\x0c\\x10)\\x98r\\x87\\x8d\\x92\\x88\\x89!\\x92\\x91\\r4\\x9e\\x08\\x08H\\xba\"\\x08\\x8c\\x929\\x02\\x9a\\x07;\\xd5\\x00\\xb3{\\xb0(\\x99P\\x99\\x00X\\xc5\\xb8(\\x90\\x00\\x80:*:\\xa4\\x1f\\xa4\\x11+\\xc9\\x95#D\\xcb\\x0c3\\xbc*\\x898\\x82\\x88;\\x8d\\x982\\x1d\\xaa\\x132O*\\xa19\\xf9\"\\x9b\\x93B\\xc9\\x04\\r\\n\\x14\\t\\xa0\\x80 r\\x1cW8\"\\xdd\\t\\x89\\x88\\x00\\x19\\x00\\t ,\\x18\\xaa\\xb2*\\x91\\x07\\x0ct\\x17\\x8d\\x89\\x00\\x80\\x88\\x08\\x88\\x92\\x80\\x82\\x00\\x98R\\x0c\\xb5\\x98\\x08\\xaa\\x03{\\xa0\\x15\"\\x9d\\xb1; \\xb9<\\x038\\x9fR\\xa8V\\x01\\xd8\\x89\\x89)\\x18\\x88\\x18\\x0b\\x01\\xb9\\xa79\\xa1\\x1b\\x1e\\xb2\\x90Jw\\xf3\\x88\\x00\\x88\\x00\\x08\\x88\\x19\\x819)\\x19\\x8b\\xf1(\\x94\\x1b\\x88\\x91\\x02\\xa6\\xe2\\x19\\x94\\x89 \\x8a0;\\x18\\x8b\\xb5\\x1f\\x00\\xcb$\\x06\\x8b\\xa8\\x04\\x9b\\x96+\\x83\\xc9\\x08\\x19\\x12/2\\xf7\\x08\\x00\\x19\\x80\\x87\\x9b\\x00\\x01\\t\\x80\\x08\\xb1\"\\xb9\\x95\\xa9P\\n)K\\n\\xa8\\xb5\\xb5()\\x9c*s\\x8a\\x11\\xab\\x04\\x83\\x8d.@\\x00=:\\x89\\xa2\\xb0k\\x98\\x92\\x1b+\\x1b\\xb7p\\xb0(\\xb8\\xa6\\x88\\x82\\xa1\\x11\\xa9\\x13\\x9f\\x16\\x8b\\x88 \\xaa\"\\x90\\x99x\\x1c\\n\\xa5K\\x18\\x18-\\n*\\x16\\x8b9\\xb3/\\x88\\x91T\\x8c8\\xc4\\x89\\x99\\x02\\x010\\x98\\x9e\\x95\\x98\\xc2\\x81\\x10\\xb0l\\x91\\x8c\\x01\"\\x0c\\x00\\xc1\\x87\\t g\\x8c\\x88\\t\\x08\\x88\\x93\\x88\\x00\\x18\\x89\\xc2@\\xb1\\xc1J\\x13\\x8b\\t\\x1c3\\xe8\\x08@\\xa0\\xd8!\\x1a\\x87*\\xb1\\x0c\\xa0)\\xa6:\\x1a\\x08\\xf2\\n1(\\xb9u\\xe2\\x18\\x08\\x98\\x18\\x92\\x8eP\\x80\\t\\x81p\\x87\\r\\x18\\x89\\x80\\x80\\x08\\x90\\x02[\\x94\\x80\\x8d\\x00\\x08\\x00\\xa8\\x91\\x95\\t\\xa0\\xa2-\\x11\\xa8\\x99Qx\\xc7\\t\\x00\\x81\\x82\\x8b\\x91\\x80\\x80\\x08\\x97;\\xbbZ)\\x81\\x01*\\x9a\\x15\\x0f\\x01\\x80\\x1b[\\x08\\x8cw\\x9a(\\xc4\\t\\x98\\x11\\xa0\\xa0\\x83\\nH\\xa1*\\xa3N\\x88\\x90\\xa8\\x80\\x13\\x9dk!\\xe8\\x92\\xa0\\x90R\\x1e\\xa1\\x80\\x81\\x00\\x90(a\\xd0\\x88\\x82\\x10\\x1c\\x8f\\x829\\x12\\x98\\xcb\\x13(\\xf9R\\xc0\\x88\\xd2q\\x95\\x8b\\x08\\x18\\x18\\x99\\x19\\x99\\x86\\t\\x19\\x00\\x98\\xb8\\xb4$\\xab\\x988\\t\\x88\\x04#\\xbf\\xa7\\x909\\xa2\\x00z,\\x80 \\x88\\x00\\xbdY\\x08\\x02:\\x9d\\x01\\xe2\\x81\\x83>\\n\\xa2\\xa1A\\x98\\x9a\\x93\\x86\\x90w\\xc7\\x88\\x80\\x08\\x08\\x01\\x8b\\x88\\x10\\x02\\x8c\\x12\\x08\\xc0(\\x81u\\xba\\x89\\x00)\\xa0@\\x9a}\\xa4\\xa9D\\x9b\\x91\\xa91<\\t)\\xe2\\x88\\xc1\\x95\\x90\\x93\\x92)\\x80\\r\\x8a\\x07\\x1aW,\\xc1\\x80s\\x07\\x8e\\x00\\x80\\x98\\x80\\x80\\x00x\\x82\\x8e\\x80\\x80\\x80\\x80\\x08\\x80\\x80\\x80\\x80\\x18\\x88\\x80\\x10\\t\\x88\\x92\\x17\\x0f\\x18\\xb3\\t\\x92\\x98\\x19\\x92\\xa8p\\x90\\xc9\\x18Z\\x01*[\\xb8\\x03\\xaa\\x12\\x81\\x93\\xf919\\xad(\\x03w\\x87\\x8d\\x00\\t\\x10\\x08\\x81\\x9a)\\t\\xb0\\x92H)H\\x08\\r9)w\\xf4\\x88\\x80\\x00\\x88\\xa2\\x81I\\xb1!B\\x84\\x08w\\x15\\x88\\x1a\\'\\xd9\\x89\\x11\\x88\\xd9\\x88\\x80\\x98\\x88\\x80\\x80\\x88\\x00\\x08\\x89\\x10\\x99D\\xab\\x19\\x809\\xaa\\x93\\xd0\\x87\\x90\\xa0\\x81\\xb1\\x99\\xb5R\\x19\\xd9 1\\xa9h\\xb1\\x8a4$ \\x8cw\\x87\\x81\\xa8W\\xd8\\x08\\x80\\x88\\xa8\\x88\\x80\\x80\\x81\\t\\x89\\x82\\x90\\x10\\x19\\xa9\\x94\\x88\\x92A\\x89sw\\xd6\\x88\\x80\\x08\\x88\\x80\\x00\\x88\\x88\\x00\\x80\\x90\\x82\\xa1\\x19\\x98\\x92\\x01\\x89(\\x1ay\\x1b\\xa5\\x8bh\\x89\\x10\\xa7;\\x11\\x9a\\x19\\xb0\\x92\\xa8\\x1c\\x87\\t9\\x90\\x99+\\x90\\xc3\\xe9\\xb6\\x92\\x03+\\x97\\x0b\\xb8t\\xc7\\x00\\t\\x88\\x00\\xa0\\x00\\t\"\\x9b\\x13\\xab9\\xb5\\x00\\xdaH\\x90\\x139:\\xc3\\xf4\\x12\\xd8\\xb0P\\x9a!G\\x8d\\x90\\xa1\\x03\\x89\\x89J\\xd1\\x10\\x91\\x10\\x98\\xa8\\xb5P\\xaa\\x04\\xa8\\xa0Y\\x1a,\\xb0\\x948\\\\q\\x17\\x8e\\x08\\x08\\x88\\x00\\x08\\x08\\xa0\\x19\\x12\\x9a\\x01\\x19\\xd5\\x82\\x19\\x1b\\x12w\\xa0\\x8a\\x90\\x88\\x90\\x08\\xc1b\\xb1\\n\\x80\\x90\\x81\\xc3*,\\x11\\x0bM\\x82+\\xc3HKy\\xd0)\\t<\\x90\\tH\\x80\\x92\\x0f\\x82w\\xe5\\x88\\x00\\x08\\x08\\x08\\x88\\x80\\x90\\x10\\x90\\x11\\x0b\\x82\\x8a8\\x80\\x93\\x0f\\xa2\\x00\\x93+<M\\xb8\\x82\\x8a\\x06\\xaa!\\x01\\x19)\\x12\\xf1\\xb00\\x98\\x07\\xd8\\x19\\t\\x12\\x84\\x08\\x08\\xbb\\x0c\\xfb\\x08s\\x98\\x01w\\x9c\\x00\\x08\\xa1\\x80\\x08J\\x90\\xc2\\x82\\x81k\\x89)\\x89\\x90+r\\n\\x888\\x19\\x08\\xbaM\\x91q\\xc8\\xb1\\xb5\\x19\\xa2\\x90Y\\x88\\x14w$\\xec\\x80\\x88\\x00\\x18\\x88\\x08\\x18\\x90\\x08\\x80\\xb1!\\xa8\\x00\\xd8r\\x97\\x8a*D\\xac\\x08\\x91\\x00\\x18\\x19\\x1a* \\xd2\\xa9\\x95\\x1a\\x18\\xc3\\x08p\\n\\x80\\x98\\xb0%\\xda1\\x99j\\x80\\xaa\\x83\\x18\\x1f\\x12\\xb1\\x1f\\x11\\x90\\x02\\xb8J\\x80\\x08\\x89y\\xb9\\x11M\\x08)\\xab \\x80w\\xf3\\x88\\x18\\x81\\xa0\\x81\\x89\\x11\\xe9!\\x08\\x88;\\xc9q\\xc3\\x00\\x9b\\x93*\\r#\\x8b\\x13\\xcc\\x06\\x98\\x13\\x9f\\x01\\x82*\\x8b\\x86\\x08\\x0b\\x90\\x12\\x08\\xaa\\x14;\\xfa\\x11\\x1d\\xa3\\\\)(\\tj\\xc1\\x19\\x02xW\\x0e\\t\\x08\\x08\\x80\\x00\\x89\\x19\\x18*9\\xb2\\x1d\\x919\\xab\\x96\\x99!\\x02\\x90\\xe2\\x19\\x82\\x90\\x0f9\\x82\\t\\x11\\x1d\\x10\\x97\\x0b\\xc8\\x12\\xb1)\\xd9X:\\x02\\xfa#;\\xab\\x91K(\\x04\\xb2\\x1b?9w\\xc7\\x88\\x88\\x00\\x80\\t\\x80\\t\\x82\\x88\\x19\\x00\\x99\\x19J\\xa9\\xd3\\x85\\x10\\xaa\\x18\\x04\\xac\\x85\\n\\x14+i\\xda\\x11\\xa0\\t0H\\xba\\x08Y\\x89\\x85\\x9a\\xa1y\\x8a\\xb3\\t\\xa8\\x11\\x07\\xa0\\xc99\\xc3L\\x08EW\\x9d\\x18\\x89\\x08\\x80\\x08\\x080\\xd6\\x08\\x18\\x88\\x08\\x98)\\xc1!\\x89!\\xaa\\x802\\x8c\\xe3l\\x81\\x08\\x89\\x8c\\x13\\x97\\x0b\\x00\\x89J\\x9c\\x85\\x08\\x08\\xa2X\\x98>\\xa8\\x94\\x00\\xc9\\x92Q\\x99\\x88\\xb9\\x17\\x8as\\xd3\\n\\x80\\t(\\xc4\\x89\\x08w\\xf1\\x80\\x00\\x88\\x80\\x08\\x80\\x10\\x98\\x88\\x00\\t\\x88I\\x90\\xb0\\x11\\x80\\x81\\xba\\x88!\\xca\\xa6)\\x14\\xac\\x918\\xe2\\x92\\x1a\\x87\\x9c\\xa1\\x07\\n\\x89\\xa2k\\x00\\xa9)\\x8arIW\\xbb\\x08\\x98\\x00\\x08u\\xb4\\x18\\xcb\\x80\\x00\\x90\\x00\\x80\\x88\\x82\\x88\\xb8 \\xb8A\\x8d\\x84\\xc1\\x89\\x18\\xf2\\x12\\xb8\\x18\\xa2\\x18\\x04\\xf3:\\x81\\xe1\\xa1\\xb18 \\x19\\xbf\" \\xa9#\\x1e\\x19\\xab%\\x98\\xf9\\x12x\\xc4\\x8a\\x08\\x81\\x80\\x88\\x00\\xa8\\x90\\xb4!\\x9b\\x07\\x1e\\x19\\x90)\\x19\\xa1\\xb90\\x02\\xfa;\\xa1\\x07\\x1b\\xa8\\xb6 \\xd8\\x19\\x04\\x0c\\x88\\x94\\x00\\x91\\x8dP\\x99\\xa2\\xa9B\\x1e\\t\\x95\\x88\\x89\\x89\\x12\\xc9\\xa2m\\x91\\x1a\\n[\\xb1*\\x92|\\xa0\\x01\\xc9\\x11\\x91\\xb1\\x91u\\xba\\x91\\xd2\\x91\\x82\\xd9\\x13\\x1e\\x91)\\x03;\\xad\\x11\\x90\\tO\\x08\\x880\\xa0\\xfb\\x01\\x00\\x08\\xc9\\x14\\x08\\xc1\\xa0\\x03-\\x99\\x9ai\\x10\\x19\\x0e\\x8a\\x86\\xd0\"\\x88\\x99\\x01[\\x88\\x99+@\\xaa\\x04\\x0b\\xb2-\\xe89\\x18\\xc8#\\xc0L\\x99\\x08\\xf9\\x02\\x82\\xa7;\\x99\\x02\\x0c\\x13\\x9b8\\x9c\\xc1x\\x90\\xb1\\x8c\\x85\\x89\\x19\\x00\\x92\\xa1\\xb09\\xf4`\\x1b\\xa3\\xac\\x11\\x89J\\x1b\\x00$\\x0e\\xa8=\\x08\\x06\\x1e\\x10\\xb0\\xa1\\x81)\\x80\\xa1\\x02\\x8fX\\xb0\\x99\\x94\\x01\\xaa\")\\r\\xb8jrG\\x8f\\x80\\x08\\x88\\x80\\x00\\x88\\x10\\t\\x88\\x91\\x81\\xa88\\x90\\x881\\x8f\\xa4\\x00\\x90\\xd8@\\x02\\x9a\\xc0!\\x19\\xf2=\\x91\\x81\\x08\\xb8B\\xa7\\xa8\\t\\x9a\\x94\\x811\\x1dL\\x80\\rJ\\x99:\\xb5H\\x89\\x08?\\x88!\\xaa{\\x08\\x8b!\\xa2\\n\\x93\\x10\\x03\\xaf\\xc1#<\\xc8\\x94\\xb81\\\\\\x1c\\xb0\\xa4\\x00Y\\xc1\\x18\\x10\\x1a\"\\xfa +\\xb1\\x8b\\x87K\\x00\\xb0\\x9a\\x97\\x00+\\x11\\xf0\\x19\\x00\\x14\\x8d\\x03\\xc8\\x80J \\x90\\x91\\xa00:\\x8f0\\x91\\xc9H\\xd8;S\\n\\xa4\\x1f\\xa2\\x08\\xa2\\x9a\\xc3\\x86\\x81\\x88\\x01\\x19\\xc8I\\xc90 [\\x9a\\x01]\\n8\\xf3;\\xb2\\x08P\\x0bj\\xa9@;\\x18\\xa9\\x90\\xe2\\x03\\x80\\x01:\\xd2>\\x80K\\x9b89+\\x82\\xd8YZ\\x9a@\\xd0\\x84\\n\\x92\"\\xfa\\x88\\x97\\x90\\x88\\t\\xa0\\xa7\\x10\\x93\\xca\\x03\\x18\\xc3A\\xd8\\xb1\\x18\\x81,@\\xa1\\x0f\\x811\\x99\\x1a\\x81\\xf2\\x12\\xb1\\x19\\x8a\\xad\\x861\\xc8\\x08\\x85\\x8b\\x18\\xe1z\\x80\\x89\\x80\\x02\\x99\\x1a\\x12\\x1a\\xa1H\\xb1\\x94\\x9f\\x12\\xb8P\\x1a\\xc9\\x96\\x12\\x90\\x9a\\x92\"\\x8a\\x93-\\x89\\xc7Z\\x81\\xac\\x84\\x00\\x08\\xd0A+\\xbb@\\xb0#\\x8a\\x87\\n\\x18<\\x88\\x90;\\x02\\xd7 \\xa4\\xcb\\xa4)`\\xb9\\x00\\x00J\\x1d!\\xe9\\x12\\x00\\x1c9\\xc8\\x81\\x930\\x99=\\xf2\\x83\\x1a',\n",
       " b'\\x01\\xff\\xff\\xff\\xff\\x0e\\x08\\x08\\x88\\x00\\x08\\x08\\x08\\x08\\x08\\x08\\x88\\x00\\x90\\x80\\x81\\x08\\x81\\x88\\t *\\x98\\xc1\\tr\\xf0\\x10\\x01\\x88\\x98\\x98\\x92\\x80p\\x94\\xbb(\\xa2\\x9ca\\t\\x08\\xd2\\x81\\xa0\\x81\\x04\\x99\\xe0\"\\x90y\\x07\\x9d\\x81\\x00\\x88\\x88!\\x0c\\x81\\x004\\xe3\\x99\\x1b\\x81\\xb19\\xb2\\x04\\x1b\\t1;\\x9f\\xa1Q\\xf0\\x80\\x80\\x02\\t\\xa5\\x8b\\x87\\xa9\\x11\\x88\\x19\\xa8\\x05I\\x01}w\\x90\\xb9\\x89\\x80\\x08\\x00\\x1a\\x08\\x90\\x81\\x10\\xe0\\x02\\x89\\xa1I\\x01\\xab0\\r2\\x1d,\\x01\\x801\\t\\xae2\\x08\\xb2\\x8aI\\x98\\xe6\\x82\\x01=5\\xcb\\x91L\\x98\\xa9S\\x9a\\x089\\x92\\x9b!\\xca\\xa0q\\x8a\\x01\\xa1+\\xa7\\x03\\x1b\\xb1\\x12y\\xca\\xb1X\\xda\\x84\\x19\\x82\\x08\\xe1\\x92\\t\\x01\\x009/\\x94\\x08\\r\\x9a\\x06\\x10\\xc91\\n\\xc0\\x92\\x18,Y\\xaaA\\xc81\\x1c\\x81\\x93\\xb9M\\x88\\x01\\x94\\x8ck\\x88X\\xa1\\xbaB\\x18.\\xc0 \\xa0\\xb2\\t\\x11\\xf1\\x82\\t1\\n\\xa8\\x97\\x88z\\x90\\x90\\xd8\\x10I\\x01\\x91K\\xf8\\x82\\xaa\\x86\\x08\\x92)\\x90\\xca\\x95\\x11\\x1c\\x93\\x00\\x89\\xc6\\t\\x12\\x80\\x0e\\x04\\x99\\xd0!\\x00\\xb9!:\\xc0\\x14;!\\x0f\\xc8\\x05\\xd08\\x18\\xa0r7\\x8f\\x88\\x00\\t\\x00\\x08\\x89\\x10\\x00\\x81\\x8b\\x80#\\x1b8\\xa6\\x1e\\x809\\x0c\\xa1\\x11\\x13=\\t\\xa0Z\\xc28-k\\x10\\xa9\\xa3\\x00x\\x19\\xaa,p\\xb5\\x9a\\x00\\x01\\x00\\x88R\\x1e\\x00\\x0c\\x01\\xc10\\x08\\xa20\\x8c\\x91\\x80Q\\x81\\xda\\t\\x87\\x90\\xa8\\x081\\x0b\\x11\\xc3q\\xa3\\x08;\\xc4\\xa8#\\x01\\xa7=\\x81\\n!\\x1e\\xe0\\x13\\x91\\x8ac\\x87\\x8d\\x00)\\x98\\x01\\x19\\x90\\x92\\xa5\\x1b\\x81\\x00:\\x89\\x88\\xd4\\x04\\xa0o\\x98\\x00\\x00\\x88\\x0b\\x00\\x83\\x8a\\x17\\x90\\xe20\\x91\\x89\\xa8ipg\\x1a\\x01\\x9f\\x00\\x88\\x10\\x88\\x88\\x08\\x08\\x08\\x00X\\x99\\x89(!\\x9e\\x11\\x00\\x90\\x90\\x8b\\xa5\\x10\\x1dR\\xa0\\x10\\x99\\x98\\x84*\\x93,^\\x89\\x93\\x00\\x9b\\x86\\x18\\x8a^\\x98\\x01\\xa1@\\xc8\\x08(\\xc0`\\t\\x00\\x1d\\xa3(\\x00\\x8b\\x95Iw\\x8c\\x00\\x98\\x00\\x08\\x90\\x10\\x10\\x8b\\xb2\\x10\\x81\\x18\\xfb\\x95 \\x1a\\n\\x81\\x97\\x8a\\x94\\x01\\x89-\\x11\\x18\\r\\t\\x11\\xa1\\xa14\\xbbq\\xe9Q\\x19\\xb0\\xd38\\x99\\x15\\x18s\\xc7\\x89\\x88\\x81\\x81\\x1a\\x00\\xc0\\x10\\x11\\x8a8\\x10\\xc1\\x02\\xaf\\x03\\xc4\\x10\\x88\\x12\\x89\\xa1\\xab\\x92\\x80\\xb6\\xa2\\x97+#\\r\\x80y\\xa93\\xac\\xa1\\x14\\x8c\\x03\\xc3\\x80y\\xa9(H\\x17\\x8f\\x00\\x80\\x10\\x9a\\x81 \\x9a!\\x1d\\xb2\\x10z\\x88\\x98Q\\x9aw\\xab\\x81\\x80\\x18\\x18\\x89\\x00 \\x0c\\x18\\xa2\\x1f\\x92\\x82\\x8a\\x00\\x04\\xc8\\x88\\xd1\\x810 \\xaa1\\xb0\\x1f7\\x8b*w\\x9c\\x00\\x80\\x80(\\x13\\xab\\x89\\t\\xb1\\t*\\n$\\x94\\x8f`\\x13x\\x98\\x80\\x0f\\x08P\\xa4\\r\\x08\\x88\\x00\\x19\\x90\\x89\\x80\\x18!\\x18z\\x98\\xa1\\t\\xa8i\\t* \\x81\\x8fH\\xc0\\x01\\x8a\\x12\\x91\\x8d\\x923\\xd1 \\xb0Q\\x9b\\xabR\\x1f\\x80\\x00(M\\x88Z*\\x89\\x84\\x1d\\x99\\x96(\\x9a!\\xb5\\x1c\\x82\\xa8\\x80\\x10\\x80H\\xc9\\x80\\xbc\\x17\\x80\\x90\\xc1[w\\xf1\\x80\\x11\\x8a\\x08\\x88\\x01\\xa86\\x9c1\\x8a\\x98\\x98\\x80\\x81\\x98\\x18\\x88\\xb8\\xd22\\xb6:\\xc8\\xa8\\x96\\x880\\x88\\x01\\xca!\\xb0O\\x88\"\\x90\\x10\\x8e\\xb2\\x1c\\x12(\\xc9\\x13\\x92\\xdb{\\x01\\t\\t1\\xac\\x00y\\x91\\x8bV\\x14\\x14\\xbd7#\\x18\\xa4)9\\xfb$\\x00\\xa8\\xa9\\x1d\\x12\\xc9\\xbc\\x00\\x99\\xcb\\n\\x08\\xa0\\x18\\xc2\\x19\\x88$\\xaa\\t\\xc1! \\xb1_\\xb1\\x80\\xa2,\\x19\\x90\\x12\\xcc\\x86\\x80\\xb8$;\\xb3\\xcaS\\x8c\\x111\\xf91\\xc9\\x18\\xa2\\x8a\\x01\\x8bi\\x89\\x90\\x11`\\xab\\x01\\x0bwg\\x82\\xfb\\x08\\x08\\x08\\x08\\x08\\x80\\x08\\x88\\x01J\\xd4\\x08\\x88\\x10\\x88\\t\\x16K\\xd1\\x08\\x99\\x81\\x00\\x89\\x91\\x91(\\x819\\xbc\\xb4\\x95\\x88\\x82B\\x0e\\x90\\x88\\x17\\x0c\\x08\\x98\\x001\\x17\\x8f\\x80)\\xa0\\x10w\\xb9\\x88\\x00\\x88\\x00\\x08\\t\\x18Yg\\x06\\xac\\x88\\x80\\x80\\x80\\x08\\x08\\x08\\x800\\xf3\\x08\\x08\\x80\\x00\\xc8\\x00\\x00\\x10X\\xb0\\x99 \\x98K\\x11\\xdb\\x80(\\x81\\\\\\x9a\\x808\\x87\\t\\x0c\\x11\\r\\x10\\x10\\xa2\\t\\xd0b+\\x8a\\x90\\x10[\\t\\xabI\\xb4Z\\x81H\\x8b!\\xf4\\xb8\\xa3R\\xa9\\xa0Q\\x99[\\x18\\xa9\\x83\\x96\\x8cZ\\xa8:\\x90\\x95\\x19\\xc1\\x80 \\xc1\\x83J\\xc39\\xc3\\x9d\\x018K\\x18w\\x8c\\x08\\x08)\\x89\\x00\\x92{\\x97\\x0b\\x08\\x18\\x0b\\x00J\\x90\\t\\x01\\xa9CA\\xdb\\xa8\\x03\\x89\\x05z\\x07\\xab\\x98\\x10)\\x89\\x90\\x18\\x8b3\\x99\\xc8q\\x8b\\x84:)\\xf3\\t\\xc8\\x05\\x1a\\x10\\xb1|\\x98r\\xf3\\x88r\\xb3\\x8c\\x88\\x80\\x80\\x80\\x00\\x08\\x88!\\x0c\\x89\\x81\\x90\\x93\\x90\\n\\xa4\\x10\\xd8\\x12\\xba\\xb50\\t\\xb1\\x16\\x08\\x1d\\xcb#\\x81!\\x0f\\t1\\x1d\\xb8\\x021\\r\\x12\\xd0\\xb0\\x038\\x99\\x8c\\x96\\xa5\\xa3\\x1a\\xbbw\\x9a\\x90\\x10\\x01\\xcb\\x13\\x1b\\xb1\\x83{\\x12 \\xafI\\x90\\x198\\x08*\\x85\\xc3\\x8aL\\x8d\\x10\\xa1a\\'\\x9e\\x00\\x88\\x81\\x88\\x81\\x00\\x00\\x0c\\x98\\x10\\n\\x96:9\\x99\\x18\\x0b\\xa5\\xa2:\\xdb\\xb7\\x02\\x81\\xa0\\x92\\x87 <\\xf0 \\x98\\x80\\x00+\\x98\\xa7(+Q\\xa8{\\x1a:\\xa00\\xc2\\x01I1\\xf2\\x04\\x80\\x1a1|\\x88s\\xa97\\x91B\\x12\\x11%\\x02\\x18\\xf8\\t\"\\t\\x00\\x80\\xfa\\x18\\x92\\xcd\\xca\\xb0\\x8e\\x11\\x90\\x9c\\x80\\x88\\x90\\x91\\x00\\x89\\x01\\x98\\x81\\xb4\\xa9Y\\xa8\\xa0);}\\x99\\x00(\\x88\\x0b\\xa4\\x08\\x0bqw\\xba\\x18\\x17\\x8d\\x80\\x08\\x08\\x88\\x00\\x08\\x08\\x00\\xa8\\x828\\xa9Z\\xb9\\x94\\x10\\xb0X\\tI\\xc8\\x12*\\x12\\xaf\\x93 J\\xbd\\x85\\x88\\x81w\\x98\\x98)w\\xd8\\x80\\x80\\x08\\t\\x80\\x80\\x80\\x08\\x00\\t\\x00\\x80a\\xc5\\n\\x80\\x80\\x81\\x18\\x80\\x89#t\\x18Rw\\xc3\\x8c\\x08\\x80\\x89\\x08\\x80\\x88\\x18\\x98\\x00\\x88\\x00 k\\xb1\\t\\xa1\\x10\\x80\\xd9\\x98 :\\xc0\\x04\\xaah\\x00, \\n\\x99\\xc1(\\xc3\\xb5\\x00\\x89S]\\xa8w\\xd0\\x08\\x88p\\x94\\x8d\\x80\\x00\\x10\\x00#\\x05\\xb8\\x0f\\x08\\x89\\x19\\x04\\x188W\\xda\\x90\\x18\\x99\\x08\\x88\\x80\\x80\\x00\\tr\\x00\\x80\\x88\\x01\\x9aYG\\xc9\\x99\\x01\\x80!)\\xd8\\x9d\\x08\\x08\\x80\\x81x\\x17\\xac\\x00\\x92\\x8a\\x001\\xc9\\x08\\'\\xbb\\x80\\x80\\x90\\x800\\xa2ag\\xb9+\\xa1\\n\\x88\\x00\\t\\x80\\x90\\x01\\x99 H\\x17\\x8e\\x08\\x00g\\xb8\\x8a\\x08\\x00\\x90\\x18\\t\\x08\\x08\\x88\\x80\\x80\\x88\\x82\\x81\\x18\\xc0\\x1a\\t\\x07\\x88wg\\xc9\\x90\\x88\\x00\\x88\\x80\\x00\\x08\\x88\\x80\\x88\\x01\\x18\\x8a\\x10\\x80\\x99p\\x04\\x84@\\xae\"\\xba\\x00yg\\xb8\\x8a\\x08\\x08\\x08\\x01\\x88\\x00\\x8a\\x8a\\x19\\xa8\\x91A\\x1b\\x91Z\\x99\\xb2\\x19\\x00aw\\xc7\\x88\\x088\\x96\\x8c\\x80\\x80\\x10\\x98\\x08\\x90\\x00\\x88\\x08\\x129\\xb9\\x08\\x98\\x01\\x9c\\x84\\x88:\\x1a\\x18\\x9f#\\x0fB\\xb6\\xa3\\x9b\\x81)\\x97\\x8a\\x08\\xa0\"\\xb8R\\x8apw\\x0e\\x08\\x08\\x88\\x80\\x00\\x19\\x08\\x80\\x80\\x88\\x08\\x80p\\xc7\\x88\\x81H7\\x80\\x13\\xd9!\\xb0\\x01\\x993\\xa1\\x8f\\x01\\x02\\xc0\\x1e\\x91#\\xa0\\xfc\\x8d\\x88\\x80\\x80 \\x98\\x98\\x88\\x02\\x19\\x99\\x81\\x11\\xb0\\x08kr\\x97\\xb9(r\\x07\\x9b\\x89)A\\xc8\\x8a\\x10\\xa2\\x89\\x08G\\xca\\x00\\x89\\x81\\x08\\x81\\x98\\x80\\x00\\x89\\xa1\\x18\\x83z\\x07w\\xd8\\x80\\x88\\x80\\x80\\x80\\x10\\t\"\\xb8h\\xc8p\\x85\\xbb\\x11\\xa8\\x18\\x98\\t\\x81\\n\\x00\\x08\\xa0\\x10*\\xa0\\x80\\x11(\\x0b\\xf0!+\\xb4\\xc2Jt\\x07\\x8e\\x80\\x80\\x80\\x80\\x00\\x08\\x89\\x18\\x80\\xa0\\x90\"\\x9c\\xa3\\x13(\\x881[\\x9c\\xa0\\x08\\xc0\\x13\\x0f\\x19\\x12\\xc9\\x82<z8w\\x18\\x1cw\\xb1\\x8a\\x80 \\x16\\xbb\\xaa\\x08\\x80\\x80\\x81\\x00\\x89*\\x93\\x99q7\\x95\\xaa\\r\\t\\x80\\x00\\x88\\x08\\x82x\\xa7\\x0b\\x88\\x00\\x80\\x80\\x88\\x08\\x91\\x981\\xd8 \\x01\\x9aH\\x8bw\\xaa\\x91\\x88\\x80\\x90@\\xba\\x01\\xa1\\x10+\\x86\\x08\\x98\\x01\\xa9M\\x02\\xa0\\n\\xb0\\x1b\\x87\\xac\\x17\\x0c\\x81\\xa2\\x88\\x93\\xb2\\x89M\\x99a\\x88\\x82\\x8e\\x80\\x91@s\\x84#x\\x87\\x8b\\xb9\\x81\\x9a\\x00\\x98\\x88\\x01\\xa0\\x81\\xaar\\t\\x01\\xaa)\\x89\\x920z7\\xa1\\xf9\\x8a\\x01\\xa2\\x02\\x8a\\x19 (\\r\\x84,\\x1a\\x9aq\\x17\\x9dr\\x93\\x18\\xf8\\x89U\\x80\\x80\\xbc\\x88\\x81\\x08\\x88\\x00\\x88\\x10\\x99\\x18\\x11\\xb6\\n:\\x98\\x11\\xbar\\xb2\\x9a \\x1a\\x94\\xd8\\xa31\\xca\\x11\\x88\\x83\\x1d\\t9^\\x00\\t\\xf1\\x81\\x01\\x88\\x18\\xb0 \\x8c\\'w\\xb9\\xa1\\x89\\x18\\x90(\\x00\\t\\x19\\x086y\\x04q\\x98\\x03\\x1a\\n\\tP\\x8c\\x05+\\xf9\\x89\\x99\\x80\\x02\\x8b\\x91\\x80\\xb8\\x94\\x92\\xc8\\x80\\x90!\\x8b\\x91\\xb86\\xe08)\\xa4\\x19\\x80\\xd1\\x12\\x8c\\x00\\x88\\x03\\xac\\x07\\x9aL8\\x11\\x9dB\\xac!,\\xa9\\xa6\\x11\\xa0\"xw\\x17\\x90\\xbc\\x88\\x80\\x80\\x80\\x80\\x80C\\x9c\\x88\\x80\\x01\\x89\\x00Z\\xb1\\x80\\x01\\xb4:\\xa0\\x9a#\\xbe\\xa1\\x07\\t\\x90\\x01\\xa8k\\xa8\\x90\\x03,\\xa2x\\xe2\\x18\\x92Wi\\xd8\\t\\x08\\x80\\x80\\x88\\x00\\x08\\x08\\x18\\x99\\x00\\x10\\x01\\x08k\\x18\\t\\x0c!\\xa3\\xabL\\x8b\\x87\\x1b\\xa8\\x95\\x1a\\x99\\x03\\x91\\x92/\\x10\\x06-\\t\\xb83\\x84\\x8f\\x18\\x8aq\\xd6\\x18\\x88\\x00\\x88\\x93\\n\\x80\\x19\\x10\\xa98\\x84ww\\x10\\xa8\\x9e\\x00\\x88\\x80\\x18\\x91\\t\\x88\\x00\\x08\\x80\\x88\\x88\\x80\\x81(\\xd5\\x00\\t\\xa0\\x01\\x08*\\xa6\\x88\\xa2M\\xa8\\x00\\x13:j\\x99\\x1c\\x00\\x80 \\x8c\\x12\\t\\xb9\\x10\\'v\\xd6\\x98\\x81\\x80\\x08\\x91(\\xbb1\\x88\\x99\\xa2\\x81&\\x93\\x1d:\\x89\\x1a\\x99.\\x90\\x9e\"P\\n -\\x9b\\x95+\\x92\\xb6<\\x019\\xe8\\x00@\\xa0\\t\\xc4(+\\xcaR\\xb1/\\x81\\x88:1\\xd6\\x089w\\x9c\\x80\\x00\\x88\\x00\\x80\\x89\\x01\\x88\\x18\\x11\\x1b\\xba\\x93\\x84\\xb1\\x82\\xb3\\xb0\\x10\\xb7-\\xb12\\xf1\\x88\\xb2\\x07\\x8a\\x10\\xa8\\x04\\xda\\x84\\x88\\x01\\xa2):\\xfb[\\x18\\xa2<\\xb4\\x89\\x00\\x0c\\x969\\x90\\xb8\\xa3\\x18}\\xb2\\x90\\x10\\x89@\\xa6\\x11\\x99\\x19\\x94\\x9c\\xab&\\xba\\x80\\xa5*@\\xfa \\x99\\x91\\x84\\x13\\x9c\\xa1\\x83Z*\\x02\\n\\\\\\x97\\x8c \\x99*\"\\xb9\\x82\\nw\\x17\\x8f\\x80\\x80\\x08\\x91\\x80\\x01\\x89\\t\\x83\\x99\\x19\\x96\\x0b\\x10\\xaa I\\xc3+\\x82\\xc1\\xc8\\x18\\xb8\\'\\x88\\x80;\\xf4\\x10\\x19\\x10\\xb8\\xc2\\x13\\x98:+\\xb7g\\xab\\x08(\\x91\\xb18\\xc0\\xc2\\x88i\\x10\\xb1\\r!\\x080\\xf9\\x81\\x19\\x1c\\x89$\\xc0\\x1aY:p\\x87\\x0c\\x98\\x91\\x00\\x11\\x11\\xf8\\t\\x08\\x01\\x8a\\x85\\n\\x11\\xa1\\x8a.@\\x90\\x1b\\x89!\\xa2 w\\x08\\x9c\\xb1\\x08\\x19\\x80\\x90:\\x87\\xb1k\\x90)\\x92wW\\x98\\xca\\x80\\x80\\x00\\x00\\x00w\\x91\\x8d\\x08\\x88\\x80\\x10\\xa8\\x80\\x90\\x80\\x80\\x08\\x80\\x08\\x89\\x19\\x18\\xd2 \\x18\\x1b\\x81\\x9a\\xa3C\\xe89\\xa0\\x81\\x1f\\x080\\x8d\\x15\\x8c\\x088\\x99)\\x8a\\x12\\x99\\xc4\\x11\\xf2\\x03\\x1a\\x89\\x04Z\\x85\\xacC\\x97\\xaa\\t\\x90!\\x99\\x18zg\\x8d\\x08\\x80\\x08\\x08\\x88\\x10\\x1a\\x01\\x9a\\x88\\x93\\xa0\\x828\\xe3;=\\x98\"\\xf3\\x02\\x9a\\x02\\x8b@\\x08\\xa5\\x17\\xb0\\x1f\\x88\\x81\\xa81\\t; \\x9d\\x01\\x02\\x91\\x0c\\xd1\\x91\\xa1\\x17\\xa9\\x18\\x91\\x11\\xbc\\xc3\\x07y\\xd5\\x88\\x01Hg(\\xa8\\x9e\\x08\\x80\\x08\\x08`\\x98\\x18\\x99\\n\\x00\\x08\\x88\\x08\\x00\\x08\\x19\\x99\"\\xc0\\x00\\x99\\x83\\x88\\x88G\\xb9,\\xa9\\'\\x9b\\xa2!\\xda:\\x93\\x81\\x1c\\x15\\xaa\\x93\\x19\\x8c@\\xf3\\x10\\x085\\x88\\x0f*\\xc1\\x19\\x00\\x08\\x1c@\\xc0!(!\\xbc\\xb1\\x10\\xe8\\xc2\\x91\\x11\\x1cc\\xb1\\x89\\xb2Rw\\x86\\xb0\\x8d\\x80\\x80\\x00\\t\\x81\\x19\\x90\\x82\\x00)\\xa5\\x1c\\x1a\\x98\\x00\\x80\\xb1\\x81\\xd9\\x040\\xa8x\\x0c\\x81\\x01\\n\\x0c\\xaaG\\xb8\\xbaG\\x87\\x8c\\x88\\x00\\t\\x00\\x00\\t\\x82\\x1a\\x18\\x88\\xae\"\\x18\\x80b\\x94\\xbb1\\xc0\\x80J\\x91\\x0e\\x99\\x01\\x03I8\\xfa\\x92-H\\xa8\\x88\\x1a3\\x99L\\xb9X\\xd0@\\xa2\\x0b\\x90z\\x10\\x9b8\\xd8086\\xd9\\x99!\\xb5\\x19\\x99\\x95\\x1b\\x90\\x10\\x18\\xf29\\xa2\\xac\\x86\\x99\\x11Z\\x8a\\x8a\\x14\\x9bA\\x89\\x181\\xf2K\\x8b \\x19Q\\x00\\x9a\\xaa\\'\\x8e\\xa0\\x93\\xb4\\xa4I\\x85\\r\\x08\\x98@\\x81\\x87\\xaa\\x08\\x99\\x00\\x80\\x02\\xab\\x95\\x89&\\x9b\\t\\x08(\\xf2*B\\xb0\\x91\\x99\\xb7\\x81\\x88z\\t\\xaa`\\xe3\\x88\\x02\\x99I\\x00p\\xa0\\x0b\\x98\\x83\\x98H\\n\\t#\\x8c)\\xa9A\\xfbZx\\xc4\\t\\x88\\x08(\\xa0\\x00\\x158rP \\x84\\xb3\\x89\\x89\\xf2\\xa1\\x93Q!\\xb0\\xd8\\xba\\xba\\x9c\\x8a\\x17\\x8e\\x08\\x88\\x08\\x01\\x98\\x18\\x89Y\\x91\\x9a0.\\xa0\\x00\\xa13\\x00\\xab\\x81j\\x99\\x92\\x8f\\x05\\xaa \\x81\\x10\\x90\\xc1\\xabw\\x8a\\xb8\\x834\\x89\\xae\\x10 \\xa1\\x00\\xa8\\xa1\\xb9\\x951\\t\\xf08\\x8a\\x07\\x1c\\x90I\\t~w\\x08\\xaa\\x89\\x88\\x08\\x81\\x08\\x88\\x81\\x88\\x18\\t\\x10*\\xa9\\xb3\\x98T\\x87\\x8b\\x99\\x82*\\x18\\x1b\\x18\\xb10g\\xf4\\x80\\x02\\x0c\\x809\\x914\\xd0\\x8b\\x80\\x08\\xa03\\x1f\\x90\\x11\\xb0\\x1bKa\\xc9\\x92\\t\\x08\\xb9\\x87\\x10\\x815\\xca\\x89\\xa91\\x98x\\xb9 \\x8d\\x95\\x91y\\x07\\xab\\x08\\x88\\x90\\x18 \\t\\x881\\xda\\xa1\\x94w\\xc1\\x88\\x88\\x08)\\x88\\x08\\t\\xa1\\x12\\x9d\\x90P2\\x81\\x0f\\n\\x98\\x10\\xa0P\\x80)\\xa8\\x81=q\\x17\\x8f\\x80\\x00\\x98\\x01\\x80\\x08\\x08@w\\xe0\\x88\\x80\\x00\\x88\\x00\\x88 \\t\\x00v\\x17\\x80\\xb9\\x8d\\x08 \\x17\\x80\\xad\\x80\\x80\\x80\\x08\\x08\\x80\\x08\\x08\\x08\\x88\\x80\\x80\\x81+\\x88\\x91\\x95\\x18\\x0b\\x92l\\x08\\x00Z=\\xd3\\x12\\x10\\x02C\\x14\\x91\\x91\\x02\\x88\\xa9\\xab#\\x8f\\xa3\\xdfX\\xa1\\x8a*\\xa8\\xb0xS\\x11\\xa0\\x0bT\\xca\\x8b\\x89\\xb8+\\x90\\x8a,\\x89\\x98!*\\xc3\\xba4\\x1e\\x01w\\xd8\\x88\\x81\\x90\\x00 \\x83\\xbc1\\x18\\x1f \\x08\\xb8\"\\'\\'\\x9aC\\x00\\x8a\\xaa\\xe1\\xbbx\\x07\\x8d\\x08\\x08\\x80\\x10\\x90\\x11\\x80\\x81\\x00:\\x82\\xa3;<\\xec\\x98\\x80\\xb1\\xaa\\xa9\\x98\\xbc\\x94z\\xc0r\\x170\\xf9\\x8a\\x80\\x80\\x08\\x08\\x80\\x18\\x00\\x88\\xa0\\xa0\\x10*\\xc3\\x02#w\\xd7\\x88\\x80\\x81\\x89\\x80\\x00\\x80\\x88\\xa0\\x03\\x98Ki\\x82\\xaa8w\\xc6\\x19\\xa0\\x08\\x80\\t\\x88\\x01\\xa8\\x10\\x18\\xa2\\x19\\x18\\x91\\x9b\\x82\\x82\\\\\\xb58>\\x81\\xa09\\xa2Y\\x19\\x81\\x97\\x04\\x93sG\\x98s\\x87\\xaa\\x99\\x81\\x99\\x88\\x80\\x88\\x08\\x08\\x90\\x80\\t\\x91\\x08\\x92\\xa88\\xdb\\x93\\xb4w\\x9b\\x88\\x19\\x08\\x03\\x9b\\xa03\\x1f\\x00\\x89\\x80\\x10\\x1dq\\t\\x81\\x81|\\'\\x9e\\x00\\x80\\t\\x88\\x00\\x08\\x80\\x08\\x00\\xc1\\x08\\x16\\x0c\\x08\\x810w\\xa2\\x91\\x03f\\xb1\\x9c\\x08\\x80\\x02\\xbd\\x88\\x80\\x88\\x00\\x88\\x00 \\xb4\\x8a\\x81\\x19\\x80\\xb1\\x92\\n<^\\x88\\xa0\\x18\\x10;!\\xa8\\xfa \\xa0\\xe3\\xa292\\x1cY\\xd9#\\xd3r\\xb3zw\\xc8\\t\\x80\\x08\\x80\\x88\\x08\\x01g\\xd8\\x88\\x80\\x00\\x88\\x80\\x80\\x08\\x80\\x80\\x80\\x80\\x88S\\xaa\\x88\\x08\\x00\\x18\\t\\x19)\\xf9\\x13\\x809w\\xbb\\x18\\x88\\x00\\x80\\x02\\x1e\\x00p\\xd4\\t\\x00\\x08\\x88\\x01\\n\\x01\\n9\\x8a\\x01Atw\\x88\\x08B\\x95\\x8c\\x1a\\x18\\x98\\x8e\\x08\\x88\\x80\\x08\\x08\\x00\\x08y\\xb7\\t\\x80\\x00\\x08\\x00\\x18\\x10pG\\x88\\xb0j\\x05\\xc9\\x19\\x00\\x00\\xc8\\x8b\\x88\\x80\\x08\\x88\\x80\\x88\\x80\\xa0\\x08\\xb5\\x90\\x80\\x80R\\x90\\xba:(\\nb\\x83\\xb1w\\x17\\x82\\x92\\x00\\x91\\x81\\x92\\xc3\\x08\\xc3\\xc8R\\x8b\\x18\\x11\\x0f\\xa3\\x82\\xbb\\xfc\\r\\xa9\\x91\\t\\t\\x90\\x80\\x10Q\\x92\\xab\\x1b\\x90\\t0\\xca\\x1c\\x00#\\x1c\\x18wH%\\x02\\x81\\x88\\x18\\x89\\xe2\\x19K\\x918z\\xb0 \\r\\x88C\\x1c\\xd8\\x9f\\t\\x88\\x08\\x08\\x08\\x08\\x17\\x9c\\x00\\x80\\x98\\x82\\x1b\\x92\\x01\\xb1)\\x18\\x08\\r\\x83\\xd2\\xc1!r\\xb7\\n\\x00\\x89\\x18\\x89\\x03,Iw\\xab\\x80\\x00\\t\\t\\x12\\x07\\x8d\\x08\\x08\\x90\\x11q\\xf2\\x88\\x81\\x88\\x80\\x00\\x08\\x80*Z\\xb2\\n\\x81q\\xa7\\n\\x98\\x80!g\\x8d\\x88\\x00\\x08\\x08\\x88\\x80\\x91\\x18\\t\\x10\\x90\\x8a((\\x81,<\\xb2\\x93w\\xf1\\x08\\x08\\x18\\x80\\t\\x08)\\xb9\\x84*)\\xd3wG\\xb8\\x9c\\x80\\x00\\x13\\x98\\xe8@\\xc1\\t\\x08\\x80\\x08CR\\xf9\\t\\x08\\x08\\x00\\x98\\x11\\x8a\\x90\\x00\\x88\\x08\\x93\\x90*\\t\\x98J\\x82\\x1c\\xf3H\\x08\\x18\\x80;\\x08\\xd9\\xa38\\xaa/d\\xd1\\x12\\x0b\\x1c\\xa1\\x18\\x92Q\\xc8w\\xb7\\x10\\xc8\\x00\\n\\x08\\x80\\t\\x81\\x18x\\xa3\\r\\x89\\x00\\x08\\x80\\x90\\x10\\x80\\x8a\\x11\\x89\\x82,)\\x1d\\x12\\x8a J\\t\\xb2\\xe3 \\xa7\\x1b#;wG\\xa9\\xc8\\t\\x88\\x80\\x08\\x00\\x88\\x08\\x88\\x88\"\\x0cw\\xa9\\x98\\x18\\x90\\x80\\x80\\x19\\x80\\xa1\\x83\\x94w\\xe4\\x88\\x10\\x98\\t\\x80\\x88\\x01\\x90\\x08\\x90\\x01\\x989\\xa0}w\\x84\\xa8\\x1a\\x9c\\x88\\x08\\x18\\x88\\x00\\x80\\x00\\t!\\t\\xb8\\x9a+$\\x9a\\xd4\\x93@\\t\\x99\\xc2\\xb0\\xa5j\\x81\\x90\\x1bs\\xc1\\x98\\x19\\x81\\xb8xw\\x0c\\x88\\x08\\x88\\x80\\x08\\x80\\x19!\\x08\\xe0\\x00\\x90(\\x91 \\x1e\\x80\\x88+\\x04\\x9aM\\x1d\\x08\\x01\\x12\\x9a\\x95\\xb8\\x89a\\x03\\x8f\\x81\\xb0\\x10\\x10;\\xb8\\x0f3\\xb8\\tT\\x8dJ\\xa2\\x80\\x81\\x99\\x08\\xe2\\x10u\\xb7\\x99\\x18\\x90\\x80\\x81\\x91\\x88\\x91!\\xd3\\x90\\x90:K\\x88\\x9aF\\xa8\\x8e\\x12\\xb8\\xaa\\x17)\\x18\\xab0\\xb8C\\xa4\\x8f\\x01\\x88\\x91\\x08\\x07\\xa9\\xb09\\xb1\\x12\\xa0\\xf5\\x01Y\\x0b8L\\x01\\xc8\\x88\\x08\\x98\\x12w\\xaa\\x90w\\xaa\\x88\\x00\\x18\\x88\\x00\\t\\x00\\x90\\x88\\x01\\x8a\\xd9\\x83h\\x88\\xd2\\x18\\xa1\\xc2)!\\xb9\\xd2 \\x94\\xe8\\x02\\x19!+\\xd8Y\\xa1\\x19Q\\xd0\\xa1\\xb0R\\x89M\\x80\\x99\\x18\\x10Y\\x9b\\x91\\x06\\x1cX\\xc6\\n\\x00\\x08\\x10\\x99\\x12\\xb9:\\xa4\\x01\\x1f\\x03\\x08\\x8b\\x1d\\x12;\\x8e1\\x1b\\x02\\x9a\\x8a\\xc1;\\x87P\\xe3\\x81\\n\\x02\\xbbY\\x01\\xa8*9w\\xbb\\x81\\x10\\x90\\xa1,\\x00\\x99\\x99#s\\x80-\\xa8\\x88\\x02v\\xd1\\x98\\xa2\\x19(\\xb1\\x90\\x18\\x86\\xb0+\\x92\\t}yt\\x13\\x88\\xea\\x0c\\x88\\x00\\x81\\x88\\t\\x80\\x19\\x91\\x80\\x10\\x88\\xb8\\x02\\x80\\x08w\\xd2\\xa1\\x88\\x88\\x88\\x10+\\x80!/\\x08\\x08\\x18\\x92\\xab\\x05\\x91\\xe2X\\x07\\x0c\\t\\x80\\x08\\x00\\x18);\\x19\\xa5#\\x0c\\x04\\xa2e!sE\\xa2\\xad\\x89\\x89\\x89\\x98\\x08\\x00\\x88\\x0b\\t\\x93\\n\\xd2A\\xa9\\x81\\x19\\x0e\\x92\\x81\\xb2p\\xf8\\x92\\x18\\xa3\\x91\\x9b\\x10\\x1c\\xc8\\x90\\x17\\x1a\\xb8\\x12\\xb1\\xd8\"\\xa1\\xa1\\x99B`\\x8c\\x80\\x90\\xf3[\\xa1\\xb3\\x1a\\x02\\xda\\x042+w\\xcb\\x08\\x80\\x10H\\x80\\x88\\xaa\\x81\\x81\\xb0\\xc9\\xa2\\x97\\x08\\x16\\xa9\\x84\\x8b\\x88X\\x89H\\x80.\\x19\\xb8Y\\t\\xa8\\x80g\\n\\x17\\x9d\\x00\\x08\\x88\\x80\\x08\\x10\\x9a@\\x99\\x10\\xb8\\x98\\x91%\\x99\\x91\\x99wGA\\x90\\xd0\\x8e\\x80\\x08\\x08\\x81\\t\\x80\\x00\\x88\\x88\\x10\\xa1\\x90#\\x9b\\xbaB\\xc2\\x82w\\xf1\\x08\\x08\\x00\\x08\\x89\\xa0\\x02\\x80\\x19\\x10y\\xc7\\x80\\x99\\x02\\x08\\xa0 *\\xc2\\x1a\\x92\\xb2\\x00\\x8a<\\xa7\\xa8\\x19\\x14\\x0b\\xb0z\\x08\\x91-\\n1\\x92\\x9b\\xb0\\x87j:w\\xb9\\n\\x08 \\x99\\x00\\x01!\\xda#\\x8d\\x80\\x89\\xb0y\\x03\\xc0\\x90\\n\\xb3\\x11w\\xc9\\x08\\x08\\x10\\xc8\\x01\\x12\\x9b\\x80X\\x00\\xb0*\\xb0z\\xc3\\x00(*\\xda\\x88\\x80\\xa2\\x87:\\x15\\xa3\\xfa\\x19\\x00*\\x9bP+\\xc3\\x18\\xa3\\x13\\x8f\\x08J\\xa0\\x11\\x98\\x998\\xa6\\x1b\\x0c\\x03B\\x8d\\xb2=r\\x97\\x8b\\x80\\x90\\xa2\\x88\\x11\\x0c\\xc11(\\xe19\\x81\\x98\\xe2\\x88!*\"\\x9f\\x98\\x10x\\xc2\\x18\\x9aq\\x88\\xb1(\\n\\x01\\x0c\\x99\\x15\\x13\\x0f\\xa1\\x18S\\n\\xb0<\\x82\\x10\\x95\\xa2\\x1a\\x92y\\x19\\xe9 \\x8aq\\xe8\\x88\\x91\\x08K\\xa8\\x02\\x1c ,\\x08\\x18,\\xc1\\x13\\x89\\xb2\\x17\\x9c\\x11\\x90;2\\xfb\\x94\\n\\x91\\x10\\xb1<\\x19\\x88\\xa7\\x1b\\x83-\\x18\\xd2\\x02\\x0e 8@\\xe9\\x88\\xa2\\x14(s7\\x9f\\x80\\x88\\x18\\x08\\x07\\x0b\\x00\\x89\\x19\\x99\\x02\\xb8\\xa4\\x10\\x89J\\x01j\\xf0\\x82\\t\\x80\\x80\\x1b\\x01\\x9cB\\x98\\x06!\\xe3\\x0c\\x19\\x08\\x00\\x19\\x02\\xf0\\x99\\x01\\x91\\x1c\\x82J\\xb3,\\xc0\\x01 \\t\\x88a\\xd9\\x93)\\x988<\\xfas\\xc6\\x88\\x00\\t\\x01\\x8a\\xa2\\x98(H\\x80\\x9b\\x93\\x1ay\\x82\\x16\\x9c\\x19u\\xb01\\x8e\\x00\\x88\\x88\\x89\\x84D\\xeb\\x88\\x80\\x00\\x00\\x88\\x00*\\xb0\\x13\\t\\xd5\\x19\\x19\\x00\\xb91\\xc1\\x14\\n\\x80-9w\\x86\\x99 w\\xca\\x10\\x98\\x80\\x88\\x19\\x88\\x80\\x00\\t\\x18\\x88\\x008\\xa9\\x81\\x01w\\xc7\\t\\x08\\x10\\x88\\x89\\x88\\x81q\\xd5\\x18\\x88\\x88\\x08\\t\\x00\\x90\\x18\\x19\\x08\\x88(\\t\\xcaB\\x8b\\xb0p\\xa8\\x90D\\x90\\xa8(\\xf3(\\xe3:\\x92\\xb0(@\\xa4=t\\xd8\\x19\\x88\\x88\\x00\\x1a\\x92\\x93\\xa0\\xa5J\\x85yw\\xb0\\x8b\\x80\\x90\\x00\\x88\\x80\\x08\\x18\\x08\\x18\\x08\\x89\\x93\\x98\\x94\\xc3:0\\x90\\x85\\x13w\\'\\x8297\\x94\\xbb\\x8b\\xc8\\x8a\\x1a\\xb9\\x08\\t\\x88\\x90\\x91\\x18,\\x90\\x10\\x89\\x08@\"\\x9e\\xa93\\x0e\\x02\\x0e\\x81\\x11\\x1c\\t\\xc3\\xa1y\\xa9\\x83\\x9a@(\\xc8\\x92\\xd98\\xc8\\x12\\x89*y\\x01\\xc0r\\xc0(\\xa0\\x0b\\x02\\x1ai\\x08\\xa0\\x05\\x0f\\x03\\x9b\\x91\\x82\\x08\\xf1\\x08\\x88\"\\x8cI:\\xc1\\x12\\xbb\\x03D\\x0f\\x08 \\xb0\\x99\\x01\\x04\\x08w\\xf2\\x08\\x98\\x00\\x00\\xa0\\x01\\x1a\\x80\\xa1y\\xa9\\x80\\x02\\xa9{\\x01\\x08\\xa2\\x0c\\xa2\\x81;\\x1b\\x1f\\x87\\x99\\x10\\x98s\\xe3\\t\\x80\\x180\\xa9\\t\\x12s\\xe3s\":\\x01u\\x96\\x8c\\x08\\t\\x88\\xaa\\x01\\x8a1\\xca\\x80\\x80 \\xc9\\x10\\xa8\\x18\\x90\\x10\\x11\\xc8!\\xa0\\xc2\\xb0\\x13)\\xf1\\x81\\xc1\\xc0\\x10\\xc1%\\xb1**\\xd9\\x95!w\\x9b\\x89\\x08\\x10\\x98\\x00:\\x81\\x10\\x8eK\\x91\\n \\tD\\x0b\\xf9\\xa4H\\x8a\\xc48\\x08\\x98\\xb8@\\x07\\x9a\\xa0\\x94\\x88)@\\x1c\\x08\\x90\\x12\\xdc\\x00\\xb3\\x00\\x00\\x83.\\x949\\xc1)\\x941\\x87\\x9b\\xdat\\xa4H\\xb2qG\\xac\\x08\\x88\\x00\\xa8\\x88\\x80\\x08\\x80\\x10\\x911u\\x97\\t\\x818\\'\\xda\\x88\\x90\\x00\\xa8\\x0c\\x08\\x88\\x08\\x00\\x98\\x80\\x01\\t\\x08\\x89\\x11\\xd9!\\xa1\\x90\\x11\\xc1:\\xc7 \\x99\\x88\\x83\\xd3+Iw\\xaa\\x880\\x17\\xb1\\xc2\\x14G\\xbb\\t\\x08\\x91\\xab\\x88\\x80\\x00\\x89\\x80\\xb0\\x13*\\xb1\\x11\\xa0\\x87:w\\xe8\\x00\\x003#\\x96\\xaeG\\xb8\\x1b\\x82\\x99\\xa8\\x80\\x90\\x08\\x88\\x19\\x19\\x90\\x08\\x91\\xa0\\x82*\\x95\\x0cr\\x87\\r\\x88\\x00\\x88\\x18\\x90\\x18\\x90\\x10\\x8a\\x012\\x0b[\\xbc\\x10\\x1a1\\x96\\xb9\\x80\\x84\\x8cP\\xa0\\xc8xG\\x0e\\x88\\x80\\x80\\x18\\x88\\x80\\x00\\x99\\x10)\\x8b\\x00\"\\xeb\\x05\\x88\\x18\\xb0\\x10\\xb3\\xfa!0\\x17\\x83sW\\x95\\x8e\\x08\\x88\\x88\\x80\\x88\\x80\\x00\\x88\\x00\\x18\\x98\\x11\\x89\\xa1\\x10x\\xb1\\n\\x8a\\x89!\\x83\\x01\\x8dG\\x1a\\x19\\xc7\\n\\x82\\x80\\x91\\x08\\xb9\\x12\\xdb\\x03 ;\\x92\\x9f2\\xd1,\\x13\\xf0\\x80\"\\x9c\\x82\\x880\\x15\\xdd\"\\n\\x89H\\x89\\x92\\x0ca\\xa8\\x19\\x80\\xc2\\x11\\n\\x15\\xadz\\n\\x00\\x90\\x80\\x91\\xa9@\\x95s\\x87\\x9c\\x18\\x19\\x08\\x1axW\\x9d\\x00\\x00\\x89\\x80\\x80\\x08\\x08\\x80\\x80\\t\\x11\\x99\\xa8@\\x80\\x08\\xa2u\\xf1\\x80\\x90\\x91\\x90(\\x89\\x91H\\xa2\\x08\\x88{\\xa8)\\x00I\\xb9\\x04\\xc9\\x13\\t\\x8a\\x844\\x8b\\x9c\\xbb\\xa6\\x19\\x1cx\\x889\\x00\\x0b\\x0b\\x00#\\x01</\\x08\\xa8\\xd1\\x0c\\x19\\x16\\x90\\x1a-\\x12\\xb0\\xa7\\x982w\\x9b\\x88\\x18\\x08\\x89\\x18 \\xc9:\\xb4J\\xc3\\x12\\x1e\\n \\x01\\x0c[\\x08\\xa0\\x00\\x8bx\\x01\\x0c!9\\x0b\\x1c\\n\\xc3Hx\\xf4\\x08\\t(\\x00\\x8a\\xa9\\x04\\x90(\\x93\\x0f\\xb1\"\\x8aA+\\x1a,\\x83pW\\x8f\\x80\\x80\\x00\\x88\\xa1\\x00\\x88\\x11\\xa2\\x92\\t\\xe9R\\xa8x\\x98\\x98\\x10\\xa9\\x01\\x80:\\x1d\"\\xaap\\xb7\\x99\\x01\\nB\\x9a\\x18\\xb8\\xa9\\'\\x99\\x08\\x11\\x9a#\\x9f\\xa4\\x02\\xf0\\xa0A\\x01\\x0c8.\\x1b w\\xc9\\x80\\x08\\x90\\x00\\x00\\x80\\x80\\x0b\\x81\"\\xa1\\ty\\x07\\xd0\\x892\\xca\\t\\x00\"\\x1d\\t\\x80\\x18\\x8cw\\x0c\\x88\\x00\\x88\\x00\\x00\\xa0\\x10\\xb1\\x18\\x02\\x89\\xc8!\\\\\\xb9 \\x94\\x89\\x1aC\\xfc\\x01\\x92\\r\\x83X\\x07\\x0e\\x80\\x08\\x00\\x1a\\x92\\x01\\n\\xabB\\x9a\\x02\\x0c\\x93\\x00\\x0b\\x80\\xa0\\x94\\xf0)\\x11\\x11\\x10\\n\\xfa\\x15\\xe9\\x11\\xc0\\x12\\xc4\\x19\\x08\\x99!-\\x1a\"p\\x10\\xb1K\\xcd\\x008 \\x0ca\\xd9\\x92\\x08\\x81\\xe1r\\xe3\\x00\\x88\\x88\\t\\x91\\x80\\x81\\x19\\x081\\x8d\\x81\\x8a\\x80\\xa4W\\xf3\\x89\\x18\\x80\\x98\\x80\\x11\\x91\\x89\\x80C\\x9c\\x10\\xa9$\\x8f\\x93\\x11\\r\\xa2+\\x11\\xf8(\\x92\\xa9\\x16\\t\\xb0\\xab\\'\\x19\\xaa\\x80%\\x02\\xf1Zw\\xab\\x90\\x00\\x80\\x08\\x98\\x81\\x81\\x18\\xa0\\x82\\x98\\x91<\\xd2\\x92\\xb5\"\\x8a\\xb9&\\x90\\x80O\\xb0\\x02\\xb3\\x00q\\xf1\\x88\\x08\\x81\\x99 \\x1a\\x80\\x13\\x0b\\x0b\\xa5\\xba\\xb3Y\\x94\\x02\\x8b\\x1c\\x00\\x8c\\x87;\\xa0\\tw\\x17\\x8f\\x00\\x88\\x80\\x80\\x08\\x80\\x88\\x11\\x98\\x80\\x919\\x80\\xa8\\xa2\\xd4;)\\xa8\\xb7\\xb3\\x12:\\x00\\tO\\xa4\\xba\\x11\\xb2\\xb0s\\x9b#*\\x82\\xb2\\t\\xfbB\\x1d\\t\\xa6\\x80\\xa1\\xa3\\x8a\\xac\\x13\\xb5\\x85\\n\\xb3z\\nJ)\\x0b\\xa2\\x1e\\x92<3\\xd9\\x11\\xacY\\x92\\x81\\x0f\\x91\\x11\\xa1\\x00\\x02\\xaf8\\xa1\\x81,\\xa3\\x81$\\x0e\\x08\\x82\\x90\\x89!\\x1f\\xa3xw\\xba\\t\\x10\\x88\\x19\\x90\\x01\\x80\\t\\x88\\xd1\\x83\\x08\\x1c\\x90u\\x87\\r\\x08\\x08\\x88\\x80\\x00\\x00\\x1a\\xb0\\x03\\x08K\\x89\\x108\\x89[\\xf0\\tP\\x99R\\x8c\\xa89\\x01\\x18\\x89#N\\x98\\x08/\"\\x89\\x1e\\x90\\x90\\tA\\x90\\x02\\xadr\\x07\\xab\\x08\\x80\\x00\\x91\\x8c\\x01\\x01\\x1bw\\xf4\\x08\\x08\\x08\\x80\\x88\\x00\\x90\\x08\\x11\\xb9\\x83\\xb2\\xb3\\x81z\\n;\\x12\\xa1\\x8d\\x11\\x19\\xa8\\x97\\x10\\x80\\x91\\xb0\\xd9\\x93{(\\xa9\\xa4\\x1e\\x10j\\x99\\xb8C\\xb1!\\x97\\x1c)\\xb8,0\\r!\\x93\\xa9\\x1fp7\\x9f\\x00\\x88\\x80\\x00\\x88\\x80\\x01\\t\\x80\\x81\\x81\\x99\\x02\\xa9\\x11;\\xa7;\\xc83\\xd9\\xc8s\\xc2\\x00\\x08\\x91\\xb0\\n\\x00\\xc0@\\x95\\x80\\x98\\x0f\\x81\"\\x0c\\x98P\\n\\x99\\xa8\\x85;\\xa3\\x93\\x1f\\x81w\\xc3)l\\xc0\\x88\\x00\\x88\\x80\\x18\\x98\\x00\\x18\\xa0\\x19\\x00\\x81\\xe0\\x13\\xa9(k\\x04\\x1c\\x91\\x99+\\x90\\xf3\\x18\\x80\\x14\\x198\\xbf\\x82P\\n\\x9a0\\xe2\\x80P\\x9a\\x00\\x91!.Z\\x89\\x81\\x92\\x1f(\\x90(\\x1a\\xc1zg\\x8c\\x08\\t\\x10\\x10\\x8a\\n\\x00\\x89I\\x89\\x90\\x18\\x02\\xa9J\\xa0{\\xb2\\x1b*\\x01:97\\xcb\\x11\\x97\\x0e(\\xa8\\x880\\xb1\\xd8\\x91%\\x88\\xdb1\\x93\\xb89\\xd8\\xb4\\x01@\\xb1h\\xa9\\x88\\x18:\\xaa{w\\x8c\\x00\\x08\\xa8\\x80\\t\\x10\\x02\\x10\\x1c\\x98\"\\x8bj\\x08R\\x8b(\\x9a\\x80B\\x1b\\x8f\\x84\\x1c9p\\xf3\\t\\x08\\x18\\x19\\x90\\xa8\\x91\\x882\\xf0p\\xd3\\x00\\x1a\\x08\\x881\\xf1\\x08 \\x80\\x0c\\xa1\\x82\\n=t\\xba\\x00\\xb3\\x90\\x18\\x08\\x04:\\x99\\n\\x12\\xd0\\xf5\\x01\\xa9a\\x90\\x0c\\x93L\\x80\\x18\\x92\\x1f\\x08\\x91\\x187\\x8e\\x80\\x08\\x08\\x88\\x19\\x90\\xd3\\x10\\x90\\x18\\x93I\\xa0\\x8a\\x87\\x9c!\\x89\\x12\\x8e\\x82y\\x89\\x91\\x98x\\'\\x8f\\x80\\x80\\x80\\x10\\x89\\x80\\x90!\\x909\\xfa\\x10\\x98\\x93\\x80\\x99\\x80f\\xd3\\x99\\x19\\x81\\x18\\x80\\x10\\xe9\\x11\\x01\\xba\"!\\xaf\\x85\\x009\\xa0\\xb0)\\x07\\xaa\\x992\\xd1\\x03+\\x9a\\x8bj\\x8f@\\x01\\xa8\\x07r\\xe5\\x88\\x08\\x88\\x10\\x98\\x01\\x08\\x81\\x99\\x80\\x91\\n\\x02\\xbbb)\\r\\x00\\x00\\xbb\\x16\\x00\\x1a\\x18\\x8b\\x81t\\xaa\\x90\\t\\xb4{\\xb3 \\x89|W\\x8e\\x80\\x08\\x80\\x00\\x88\\x98\\x00\\x91\\x02\\x8aq \\xa1\\xb9+z7\\x9e\\x80\\x80\\x08\\x88\\x08\\x81\\x10\\x19\\x99\\x80\\x00!\\xac\\x1aB\\xd2\\x9ah\\xa1\\x89\\x90\\x01\\xb8D\\x0cC\\x13*\\x9e\\xb3\\n\\xf8@)\\xc1\\xa0\\t\\x08y\\x8b\\x98\\x02$\\x80[\\x9a\\x11\\x9f\\x83\\x90\\xb2\\x11\\x11{\\x87\\r\\xa0\\x01\\t!8\\xf8\\x08q\\x9b\\x19\\x19\\x10\\t9\\x19\\xd1\\x881\\x80\\x18\\x0cI8\\x0e\\xbaq\\xd8\\x83\\x98\\x00(\\x19m\\xb6\\n\\x81(\\xa9\\x83\\xa1<\\xb13\\xc9Y9\\xc91\\xc5*\\'\\xa9\\x998\\x8b\\xc0\\x8a\\x121\\x93\\xfc8\\x90\\x9aa<\\n\\x80\\x91C:\\x90\\x9f\\x94\\n\\x00\\x19\\xd8\\x90C\\xb8;\\t\\x13\\x97\\xc1\\x18;wh\\x92\\xca\\n\\x81\\t\\x90\\x81\\x88X\\x8a\\x89\\x93\\x89\\x93\\x9e1\\x81\\x9aw\\x07\\x8c\\x89\\x00\\t\\x81\\x98!\\xb9\\x81\\xa3:98\\x0c\\xb7K\\x91\\x91\\x19*\\x9e\\x87\"\\xe8\\x88\\x18\\x82\\xb9\\x981\\x1a\\n\\xa7@7\\x80\\xb8\\x9d\\x90\\x10\\x00\\x8b\\x81\\xba(j9\\x91\"\\x89\\xaf\\x04\\x88\\x81w\\xf2\\x88\\x18\\t\\x81\\x08\\n\\x11\\t\\x89\"\\xcb3\\xaa\\xa0\\x13\\xd8\\xc4\\x14\\t\\x88\\x98\\xa0\\x9cx\\xd28\\x04\\x0b\\x88\\xb5+A\\x9c)\\x0f\\x83\\x18\\x19\\x90;*\\xb8\\x87\\xc1-8\\xa9\\n7\\xb7\\x99\\t\\x01\\x00\\'\\x8f\\x81\\x00\\t\\xb1\\x10\\x81\\x00\\xbaQ\\xb8\\x919\\xaap\\xa8\\x10\\xb3\\x1ai\\xc3\\x89\\x98\\x122\\x8b\\xc9\\x80\\x05\\xe3<\\x80\\x04\\xacP\\x08!\\xaa\\xf2\\t\\x10\\x88\\x0c\\xd2\\x03;\\xb07\\x8b\\xb9`\\x11\\xba<\\xa2\\xb0\\x019\\xaep\\x90\\x1a\\x82\\x98)\\xe0@\\x99\\x14\\xac \\x07\\x0b\"\\x9a\\xa8\\x19\\x97\\t\\x88\\x83\\xacG\\x9c\"\\xd0\\x10\\x8a\\x02\\x19\\x19\\x03\\xack\\xd3\\x18\\xc0\\x01\\n\\x98\\x05\\x8d\\x93#\\x1a\\xd1))\\x12\\xd8w\\xaa\\x08\\x99\\xa3\\x10\\t\\x11(\\xab\\xc9q\\x00*\\xaa!.\\xd3\\xb1x\\x80\\xa8\\x81\\x92\\xb0\\x08\\xc2\\x13\\x07\\x8cI\\x08\\xb9\\x91\\x1b\\x11\\x98A[\\x91\\x1b[\\x9es\\xc4\\x98\\x08\\x01\\x19)\\xc89!\\x1bzs\\xa7\\x8b\\x80\\x00\\x98\\x90\\x081\\xbbr\\xb2\\x92\\x8d\\x80\\x00\\x00\\t8\\x90\\xab{\\x81\\xc8\\x94\\xb8\\x85\\x08x\\xf3\\x18\\x08\\x00\\x88\\xc9\\x12\\n1\\x9c\\x83\\x08\\xb2\\x89\\x8a3\\x082i\\xdfh\\xb8\\x82\\x00\\x81\\x1a\\xa2w\\xba\\x11\\xc5\\x89\\x80\\x00\\x91\\x00\\x88\\x12\\xa9\\t\\xb1\\x06\\xe8\\x02\\x18\\x19\\xaa\\xa2\\xa0p\\xb2!\\xa3\\r\\x11\\x1e\\x99\\x01\\xba)5\\x1f\\x11\\x98\\x83\\r\\xb1\\x89\\'\\x1f\\x80\\x01*\\x82\\xad\\x12\\t\\x00\\xbb\\x92$\\x1cb\\'\\x8f\\x08\\x19\\x10\\x80\\x1b\\t\\x90@\\x81\\x88\\xb9\\x0b\\x11F\\x8e\\x11\\t\\x9a\\x03\\x99j\\t\\xb0;3\\x94\\xfa2\\x98\\xf8\\x93*!\\xd83\\x9aO\\x98;\\xc0\\x118\\x8bJH\\x1cI\\x88!\\x0f\\x00\\n3w\\xf4\\x08\\x08\\x88\\x80\\x18\\xa8\\x82\\x88:\\x90!\\xbb\"\\xc8$r\\x9b\\xc9!\\x00\\xba\\xa2\\x03{\\x97\\n1\\x9c\\x88\\xc01\\x99X\\x80+\\x1a\\xe1H\\x92;\\xa8\\x91\\xe1@\\xc0\\x02\\x02ga\\xb1\\x81p\\x87\\x0e\\x80\\x81\\x99\\x88\\x80\\x80x\\x93\\x8e\\x80\\x80\\x80\\x00\\x08\\x88\\x00\\x88\\x00\\x88\\x08\\x91\\xa0H\\x88\\xa3\\x05\\r\\x08\\x94\\x1c\\xa0\\x98\\x13\\x8a\\x81\\xa8r\\xa0\\x00L\\t\\x90\\x19M\\xa0\\xa0\\xc3\\x85\\x91\\x00@\\x9a=\\x82)w\\xa7\\x8a\\x19\\t\\x10\\x00\\xa8\\x98\\x18\\x98\\x00\\xc3\\x02<\\x1a\\x90\\x83(qw\\xf2\\x88\\x80\\x81\\x98\\x01\\x80\\x10\\xb1#\\x80\\x00Aw\\x17\\xa8\\x1aw\\xc8\\x88\\x00\\x10\\xb9\\x88\\x80\\x80\\x88\\x80\\x88\\x80\\x00\\x98\\x98\\x93\\x18\\x10\\r\\x80*\\xa9X\\x1a\\t\\x8c\\xa5\"\\xb8\\x10\\n\\xae\\x85\\x92\\x88Q\\x10\\x91\\x9cz\\xa19G\\t\\xb8W\\x12\\xa3\\xaf7\\xd8\\x19\\x81\\x98\\xa8\\t\\x88\\x00\\x80\\x08\\x89\\x08\\x81\\xa0\\x80\\x081\\x8d\\x93\\x81\\x83ww\\xd8\\x08\\x88\\x80\\x08\\x08\\x80\\x18\\t\\x80\\x08\\x80\\x08\\xa1\\x19\\xa0\\x12\\xa0\\x10\\xe1!\\x80\\xf2@\\x0b\\x08\\x02l\\x80\\x99\\x18\\n\\x88`(\\x8d)\\x91\\x10\\xac(\\xa2\\x11\\xbb<S\\xf1)\\x80\\xa6\\x88 \\x99q\\xe7\\x00\\x08\\x88\\x88\\x02\\t\\x98\\x12\\n\\x01\\x9bQ\\xca`\\x8a\\xa1\\x93\\x89\\x97,8\\xb3\\x89\\xa9\\x08\\xc3\\xa7\\x00\\'\\x0e\\t\\x90\\x02\\t\\x98\\xa00\\xd9\\x13\\xe1\\x10I\\x98\\xc2\\x80\\xb1A\\x98\\x1a1\\x1c\\xf0\\x03*-r\\'\\x9e\\x80\\x18\\x88\\x01\\n\\x80\\x90\\x88\\x00\\x93\\xc1b\\xaa\\x80(\\xb3\\xc2g\\xa8\\n\\x08\\x98\\x00\\x8a\\x11h\\xc5+\\x08\\x81\\x19\\x91\\xa1\\nI\\x92\\xf9\\x12)\\x19\\x18\\x0eq\\x98\\x0b\\x18\\x08*\\xfb\\x11\\x01J\\xc1pt\\xf5\\x88\\x00\\x88\\x00\\x08\\x08\\x88\\x18\\x00\\x00\\x8b\\x81\\x01:\\xa80\\x00\\x81\\x1f\\x01\\x8a \\x93\\x8e\\x1b)\\xb7\\xa1\\x80\\x81\\xe3\\xa05\\x00\\xfb\\x929\\x08*\\x10=\\x89\\x93\\x88\\xaa\\x879\\x9e\\x81\\x13\\xba(\\x05w\\xab\\t(\\x80\\xb0\\xa0\\x13\\xa9\\x14\\x1b\\x06(\\x8f\\x82\\xa0\\xa1\\x11h\\xba\\x00\\x10,B\\xbbQ\\x19\\x08\\xb9\\xe9\"\\x1d\\xa3\\x19\\x82-aw\"\\xec\\x08\\x08\\x80\\x08\\x88\\x00\\x90\\x00\\x91\\x92\\x99\\x1b0\\x9a\\x05x\\xa7\\x1a\\x996\\x9d\\x08(\\x88\\x80\\t\\x08\\xa8\\x11\\x93\\x88\\xd3\\x89q\\xd8\\x00\\x12\\x8a\\t\\xd3\\xa1\\x10\\x02\\\\\\xc1\\x92\\xc8(\\x00\\x92\\xc4\\x01/\\x89\\x18\\x01k\\x82\\x8a\\x19\\xe92\\xc8\\x18\\x18\\x91\\x1a\\x85\\x8b5\\x1fW\\xba\\x90\\x81\\x98\\x08\\x82\\x98\\x11\\xc2\\x80::\\xb9Ii\\xd4*\\t\\x02\\x1a\\x19\\x89\\x18\\x8a\\xe5\\x1a\\x82\\x07\\x8d\\x01\\x00\\xa9\\x90\\x94\\x91\\x95\\xd92\\t\\x1c\\x98\\x81\\x11\\xbc\\x97\\x92\\xaaY1:\\x98\\x18\\xd8\\xb3tw\\x8c\\x88\\x80\\x08\\x82\\x01\\x88\\xaa\\x10*[\\x88*\\x1c*\\xaa\\x11\\x11\\x8d\\x00\\x07\\xa0\\x919\\x99=\\x01\\xe5\\x08\\x10)\\x18\\xc8z\\x98\\xa1\\xb0\\x01\\x86+\\x9a\\x03\\x0c\\x93@\\x0c\\x90q\\x08\\xa9\\xf3\\x11\\x89\\x19w\\xd5\\x88\\x80\\x08\\x08\\x80\\x88\\x80\\x80*\\x00\\x10\\x8d\\x13\\x89\\xb8 #\\xdb\\x01K\\xe3\\x19\\t0\\x81\\r3\\r+\\x81/\\x83\\x8b\\xc2r\\xa9\\x00\\x01\\xd4\\x08\\x8a\\x01l\\x08:\\x9a*\\x80\\x08\\xc2\\xa1AlQW\\x9d\\x08\\x80\\x88\\x80\\x08\\x18\\x10\\xb5\\x1a\\x88\\xa1\\x89\\x929\\x89[\\xb2\\x91p\\x8b(\\xa9s\\x9c0\\xa0*\\x82\\x1b\\xe5\\x10\\x00\\xc1\\x93\\xac\\x02\\x80p\\x18\\xc0\\xb9\\x07\\x1a\\x89 \\x8a\\xa1>\\x00\\t9\\x87\\x8bs\\xb7\\t\\t\\x98@\\xb1\\x19\\nw\\xf1\\x80\\x80\\x80\\x80\\x88\\x18\\x80\\x90\\x00(\\x88\\xb0\\x89\\x12\\xa8Y\"\\x9c\\x19\\x90\\xc6\\x1a\\x81\\x08\\nY\\xd0\\x11\\x8a\\xb2\\x14\\x08\\xad\\x87\\xa0\\x00\\xaa\\x02.\\x01\\x82\\t\\x9a\\x93\\x7f7\\xac\\x08\\x98\\x80\\x08s\\xa7\\x10\\xca\\x80\\x80\\x80\\x80\\x08\\x90\\xa1\\x00\\x81*\\x90\\x0b\\x96\\x99\\x10\\x910\\xe9@J+\\xda\\x11\\x10\\x0c\\x08\\xb0\\x12\\xd1\\xe2\"\\x1b\\x8a\\x00\\xd0\\x01:\\xaf\\x06\\x89\\n1\\x89\\xb59|\\xa6\\x8a\\x08\\x18\\x99\\x01\\x11\\xb8\\x8a\\x95\\x1a\\xdc\\x10\\t2\\x93\\x8bz\\xaa\\x82;\\x82\\x03\\xaf3\\x98\\nX\\xcb\\x18n\\x80\\xa99\\x11\\xc8H\\x0b\\xb6\\x99\\x01\\x11\\x9c\\x85\\xa80\\x98\\x9bx\\x8b\\xd8\\x13\\n\\x95\\x04\\x8e\\x11\\x98+\\x93\\xb0\\x0f\\x82\\x92,*\\xa1J\\x9a{\\xc7\\x88\\x80\\x08\\xa2\\x00)\\xc0\\x12\\x88\\xbdA9\\x99\\x1c\\x82\\xd1[\\n\\xb1!\\x80\\xa3;\\xe9\\x98\\xa72\\x9aK\\xfa K\\x00\\x8e\\x13\\xb88\\x08\\xc3\\x1f\\xc2!\\x89\\x98\\x96\\n\\x00\\x98\\xa4\\x81J\\x19\\xd0\\x8cI\\x91\\x08J\\xa1\\xa0;\\xd1\\x95\\x88\\x08N\\xc4\\t)\\xd1)\\x18+\\x93\\xb1\\x88*\\xf3\\x0c\\x03\\x88\\xa0|\\x90\\x89\\x82:\\x1b\\xca\\x85*\\x9a0J\\xfa\\xa1\\xa7\\x91\\x89 \\xa4\\x1d)\\x82\\t\\x9a\\x98!r\\x9d(\\x81-\\xb9\\x94\\x98\\x01\\x89\\xa78\\xf1\\x10\\x08\\x8a\\xa1xw\\x0e\\x08\\x80\\x80\\x08\\x08\\x08\\x18\\x89\\x899\\x80\\x188\\x8aI\\xc0\\xf4\\x11\\xa0\\x00\\x18\\x10\\xda \\x8a\\x93\\x8c+\\x85i\\x89\\xb3\\xaa@I\\x91.\\xc0\\x00 \\xb3\\x1aH\\x8c\\tA\\r\\xe0\\x02(\\x809\\x0f\\x90\\x00\\x10\\x91\\x1f\\x10\\xb0{\\x908\\xaaL\\xb0\\x83 \\xc2\\x88\\ty\\n\\x82\\r!\\x12\\x8f\\xb0\\x83\\x02\\x1a\\xd2\\xd1\\x08\\xa3k\\x92\\x10\\xb0+{\\xd1\\x02\\t \\x8c8\\x02.\\x1b\\t)\\x86\\x99\\xf8\\x94\\x81\\x10\\x1c\\x01+k\\x0b\\x81\\x81N\\x90\\x1b\\xa3\\x03\\x8c\\x90C\\xe9 \\xaa\\x0398\\xd8\\x083\\x08\\x0f\\x18\\xd8\\x15\\x91\\xb9\\xa1\\x92A\\xf3\\xb9$\\x1d\\x08h\\xca\\x12)\\x89 ,\\x19\\x11\\xf2\\x02\\xc1\\x99\"\\xaa\\x11\\xe588\\x8c0\\xc8\\x80\\x95\\xa4\\x8d\\x84\\xa9\\x92\\x88\\xa1\\x16\\x08\\x1a+\\x9a1\\xf6 \\xc8\\x11\\x91\\x18,\\xa1\\x82=\\x81\\t\\xc2\\xb1a\\x19@\\xaa\\x89\\x1d)1\\x9f\\x86\\x08\\x08\\xa8\\x18\\x8aB\\xd0\\x01\\xa4[+98\\xf99\\x08\\n\\xb2\\xac\\x07\\xa2\\t\\x99y\\x99\\x190\\xc8\\x00 \\xd1(\\x13\\x8b\\x88?\\x81\\x91\\xc8\\xa4\\xb2\\xaa\\x07\\xc3:*\\x15-\\xe2\\x18*i\\xa9\"\\xb9\\xa2\\xa0i\\xc2\\xa1+`\\xab!\\x83\\xb0\\x95\\x8a\\x18\\x91^\\xa98\\x198\\x91\\xaf\\x14\\x1aJ\\xd2L\\x99\\xb3\\x83\\x1c\\x01\\x11\\xd00\\x1b.\\xc2\\x11',\n",
       " b'\\x01\\xff\\xff\\xff\\xff\\x0e\\x08\\x08\\x08\\x08\\x08\\x08\\x08\\x08\\x88\\x00\\x08\\x88\\x91\\x08\\x80\\x00\\x88\\x80 \\x0b \\xb8\\x84\\x80*\\xc6\\xa0\\x18I\\x84\\x9c\\x11\\x10p@\\xbc\\x08\\xa0\\x91\\xa00\\x11\\x99R\\xdb\\xa3\\xe1 \\x98\\xd4\\x80u\\xa7\\x0b\\x08\\x08\\x88\\x81\\x90\\x10\\x19\\x80Q\\x82\\xe1\\n\\x89\\x90 \\xc1\\x01\\x18\\x89\\xabE\\x8b*\\\\\\x18\\x089\\xbc\\x18\\x05\\xa1\\x93\\xf8\\xa8 k\\x998\\x99\\x05yw\\x81\\xbb\\x89\\x08\\x08\\x80\\x08\\t\\x81\\xb3\\xa8\\x01A\\xfa\\xa30\\x19\\xc9\\x12\\xb1\\xba\\x14p\\x9c8\\xb2\\xd3\\x98\\x83\"-,\\xa10X\\x9d\\x88\\x10G\\x9a\\t\\x9a\\x11:\\xc2\\x8b\\x84\\x80\\xe3 \\x8a \\x81\\xd1X\\xa8\\x1a\\x0b93\\xf9L\\x00\\x84\\x8b\\x00IJ\\t\\x0b\\xb9O\\x18\\x8b\\x04\\xc0\\x03\\t\\xf0\\x129\\x0e\\x02;\\x81\\x8c\\x88\\xb5x\\n\\t\\x01\\xa9\\x86\\t\\x99\\x12\\x0c\\xc8C\\xc8\\x82\\x10\\xa8B\\x89I\\x0b\\x9f2\\t\\x00\\xf1\\x12*\\xf8\\x18\\x10\\x89\\x00\\xa3H+\\x1d\\x11\\x99\\x0f\\x10\\xc1H\\xc4\\x19J\\x99\\x92\\xa0R9\\x8c\\x10\\x99\\n\\xa7\\x1a\\x82>\\xc2!\\xc0\\x80(\\xc4\\x18\\x1cP\\x1b\\xc1\\x19\\x10\\x11\\x08^\\xb0H\\x99\\x10\\x19\"\\x9f\\xa1 \\x00*\\xa7!\\xa8{w\\x8d\\x80\\x00\\x90\\x00\\x88\\x91\\x81\\x18\\x9b\\x85\\x08\\x80\\xa1!\\x9a\\xb0\\x13\\x99&\\xcb\\x12\\x98\\xb3l\\xd0\\x13,\\xa1 \\xa3\\x00:\\x1d\\x12\\rJ(j!\\xf7\\x00\\x90\\x00\\x08\\x00A\\r\\tI\\x88\\x89\\x82\\x19\\n\\x0b\\xa6\\x128)*\\x0e\\x01\\x99\\x97\\x1bH\\x00\\x1e\\x00\\x98\\x11\\xa2\\x82*_\\x00\\n\\x19\\x97\\x19\\x81<0\\xd9I\\x8a\\x10\\xb2]\\'\\x0f\\x80\\x08\\x08\\x80\\x88\\x11\\t\\xa2)\\xb3\\xb39\\xab$b\\xf1(\\n\\x80\\xd3\\x82\\x0b@\\x12\\t\\x8b\\xf5\\x00\\x98B\\xc1\\x88\\x91\\x80xw\\x19\\x84\\x8f\\x08\\x08\\x00\\x08\\x98\\x00\\x08\\x08\\x900\\x89\\x8a\\x13\\x8b\\x03\\x0c\\x05\\x1a\\xca\\x81\"\\xc3\\x9bG\\xab\\x03\\x00\\x0e\\x12\\x1a\\x11\\x9c\\x81+\\x98q\\xd1\\x10\\x19\\x11\\xf1\\x880\\xb3[\\x01\\xb1\\x9a\\x13\\x87(\\xbbKh\\xb9\"\\x80\\x829w\\x9b\\xa0\\x91\\t\\x13\\n\\x828\\x0f\\xa8h\\xa8)\\xb5J\\x91\\x883\\x08\\x8c\\x85\\xa0\\x00\\x11\\x8f\\x11\\x11\\xe1\\xc1\"J\\xc9\\x01\\x9b%\\xca\\x07\\x90\\x80\\x1a\\x01\\x19\\x80\\x87r\\xc7\\x88\\x08\\x90\\x88\\x80\\x80\\x19\\x12\\x1a\\x12\\xca\\x08\"\\x80\\xb2\\xbdS\\x18\\n Z\\n,\\x83\\xa7\\xaby\\x00\\x1b\\xa9\\x11C\\x18\\xccR\\xc0\\x90H\\x99\\x12\\xd2<\\x01\\xb9\\x12t\\xa7\\x8a\\x80\\x88\\x19\\x91\\x829\\xa90\\x81\\xb0\\x86\\xb9\\xc34\\xd0Pg\\x9d\\x00\\x80\\x88\\x18\\x80\\t)\\x80\\x08\\x11\\x1c\\xb1!\\xcb\\x15\\x80\\x91\\xa8\\x95\\x90\\xab\\x17\\x1b\\x1d\\x80\\x80\\x07\\x99qG\\x8e\\x08\\x80\\x08\\x08\\x01\\x98\\x98\\x81\\x88)\\t\\x98\\x94 \\xc907x\\xa8\\x91\\x0e\\x00X\\xb5\\x0b\\x88\\x00\\t\\x18\\x81\\xc9\\x12(\\xa9\\x11p\\x90\\xc8\\xa3\\x9c\\xa3\\x08 \\xb4\\x81\\xb1#\\xbe\\x18\"P\\xc0:\\xd8\\x04\\x19S\\xa9\\x9b\\x85\\x08\\x18\\xa0*\\xba9\\x07\\xf0 \\xb1\\x81\\x80/\\x009\\x1b\\x97\\x0b!\\xbc\\x83\\x930\\xb7\\x80\\xd9\\x81\\x812:\\x8c\\x00\\xbc<w\\xd7\\x80\\x12\\x9b\\x80\\x81\\x08\\x12\\x0b \\xb8D\\xc9\\x9a\\x18\\x92:\\x0b\\xb399r\\xe2\\xcb\"\\xa1\\x800\\x9ba\\x18\\xabZ\\xa2\\x15\\x8e\\x189.\\x00\\xd1\\x18\\xa2\\x11)\\x08\\t\\xf1:\\xc0z\\x80\\x08\\x81\\x0c\\x19\\x02\\x93u$\"\\xdf&\\x12\\x80\\x82 \\x19\\xbbG\\x80\\xa8\\x98\\xbb%\\xe9\\x8c\\x80\\x80\\xbc\\x88\\x81\\x98\\x80\\x80\\x08\\x912\\xbb\\xa1\\x1a\\xc2A\\nr\\xd0\\n\\xa2:\\x19!\\xa8\\xb9\\x07\\xa8\\x88\\x12\\xa6\\x94\\x1e\\x1a\\xa5\\x01\"\\xb9=\\xa4\\xa0\\t\\x1c\\xa1\\x11?\\x088\\x98(\\xcc\\xc0\\x03w\\x17\\x83\\xec\\x88\\x00\\x08\\x88\\x80\\x00\\x08\\x19\\x000\\xf2\\x08\\x88\\x91\\x18\\x91CN\\xd1\\x88\\x08\\x18\\x88\\x98\\x80\\x02\\x08\\xa0\\x94\\x08\\xa3:\\xf8I\\xa0@\\x0b\\x19\\x17\\x8b\\x80\\x0c<A\\x97\\x0c\\x90\\x80\\x01\\x98w\\xe0\\x80\\x80\\x80\\x00\\x88\\x80\\x10XW\\x02\\xbd\\t\\x88\\x80\\x80\\x80\\x08\\x88\\x91Q\\xd2\\x88\\x00\\x00\\x81\\xba\\x880\\x18%\\x88\\xac\\x10\\xb0\\xab\\x17\\x18\\xb9\\x91\\xd2\\x12\\xba#I\\x9a)O\\x1c\\x80\\x91\\xa1\\\\)\\x82;\\xf0\\x10H\\x9d\\xa5(\\x08\\x9b\\xa1\\x12\\x80( ,\\x89\\x95\\x1c\\x95\\xc8(p\\x8a\\xa2\\x18\\x94\\x8a\\\\\\x89\\x11\\x0bY\\xa3\\x8e\\x82(\\xb1\\x99\\x01\\xf30\\xb1\\x0b\\'\\x9d\\x10\\x80\\x92\\x99W\\x8d\\x90\\x90\\x11\\x10\\x01H|\\xb4\\x8b\\x08\\x1a\\x88\\x02\\xaa3\\x90\\x8c\\xa5)\\xa2\\xb1\\x88\\xc7Y\\x90A\\x17\\x9d\\x88\\x80\\x00\\x18\\t\\x08\\x81-\\xd3)\\x198\\x9b\\xa0D\\x94\\x9c\\x00\\x98\\x10\\x99\\x03{\\x00|\\xb7\\x88s\\x97\\x8b\\x90\\x88\\x00\\t\\x80\\x00\\x90\"\\x8c\\x08\\x00\\x90)\\x91.\\xa2\\x80\\x91\\x90\\x99\\x11:\\xd21\\xf5\\x88\\x00\\x99\\xa3\\x17\\x9a\\xb1\\x05-\\x88\\x1b\\x04\\xb2\\x19\\x0c\\xb8B\\x9a\\x03(\\xc1@Z\\xf8(\\x1as\\xa9)\\x99\\xa1\\x18\\xa0\\xb4D:-0\\x8c\\xaa\\x1b\\x96\\x01\\xb0!x\\x81\\x9aX\\xbb\\x11\\x1a\\xa9Xw\\x9a\\x98\\x00\\x90)\\x1c(\\x82\\xa1\\x8a\\x02\\x90[\\x9d\"\\xe3\\x93\\x98$\\x89\\x0b\\xc4\\xe8\\x84:\\x11I\\xa7\\x88,\\x1a \\x9b\\xb1\\x84\\x18j\\x98\\x94)\\x1b){\\xa8\\x02\\x8a\\x96\\x08\\xa2\\xa4\\x84\\xb6!:^*(,s\\xa87\\xa0S\\x02\\x024\\x03\\t\\xe8\\t#\\x8a1\\x88\\xe98\\xa1\\xdf\\xba\\xa0\\x9d\\x10\\xa0\\x9d\\x80\\x98\\x91\\x08\\x88\\x80\\x00\\n\\x01\\x88\\xf0\\x10\\x92-\\xb8!=\\x99\\x19\\x94\\x8a\\x02\\xf2\\x01\\x18iw\\x9b\\x19\\x87\\x8b\\x90\\x80\\x81\\x88\\x80\\x91\\x88\\xa1\\x11\\x18\\x08\\x89\\x8a\\xb8\\x17\\xca3\\x18\\x00\\x19\\xcc]\\x080\\xbb\\x81a\\xb8I\\x98I\\x9aw\\t\\x80+w\\xe0\\x00\\x89\\x80\\x08\\x80\\x08\\x80\\x80\\x00\\x1a\\x01\\tP\\xb7\\t\\x88\\x19\\x82\\x88\\xb1\\x82\\x85C\\x81tw\\xc2\\x9a\\x08\\x88\\x88\\x80\\x08\\t\\x88\\x80\\x81\\x08\\x88\\x80X\\xa1\\xa1\\x00\\x0b\\x93\\xac\\x83\\x0b\\xa3?\\x18J\\x8c\\xa3\\x02(\\xf9;\\x92\\xb2\\x82\\x87\\x1c\\x91\\x90\\xa6Iw\\xd0\\x88\\x08p\\x95\\x8c\\x08\\x00\\x00\\x00C\\x05\\xbb\\x8b\\x11\\xac@\\x04\\x81\\x8cW\\xc9\\x88\\x01\\xa8\\x89\\x80\\x08\\x80\\x08\\x88x\\x18\\x92!\\x00\\x89\\xacw\\xb8\\x89\\x12\\x89\\x18\\t\\xc9\\x9b\\x19\\x18\\x00P`\\x07\\x8c\\x90\\x81\\x8b\\x08Q\\xb9\\x007\\xcb\\x80\\x88\\x00\\x10\\x13\\x88Hw\\xb9*\\x91\\x8b\\x98\\x08\\x08\\x00\\n\\xa8\\x11\\x19\"\\'\\xcb)\\x10w\\xe3\\x89\\x08\\x00\\x88\\t\\x08\\x90\\x80\\x18\\x90\\x18\\x18\\x98\\x19\\xc1\\x14\\x9a\\x0cX8w\\'\\xea\\x90\\x80\\x08\\x80\\x80\\x80\\x18\\x08\\x88\\x80\\x88\\x11\\x08\\x19\\x1a\\xb12\\x06\\x15g\\x8a\\x89\\xb8\\x12+w\\xc1\\x8a\\x10\\t(\\x01\\xa0\\x9a\\xb9\\x99\\t\\x18\\x10\\x1a\\x1a(+\\x82@\\xb7+7w\\xd4\\x89\\x88 \\x94\\x8c\\x08\\x08 \\xa9\\x08\\x90\\x10\\t\\x01\\x18\\x08\\xc9X\\x90\\xaa\\x04\\x98\\x00\\xa2\\x1c\\x8b\\x07\\x88\\x98@\\xb5\\x96\\x0b*9\\xc7\\x08\\x1b\\x91\\x10\\x88y\\x98p\\x97\\x8b\\x88\\x80\\x81\\x10\\x99\\x881\\x8c\\x91\\x82\\x08\\x81p\\xb7\\x8a\\x91pW\\x80\\x11\\xa8\\x18\\xb0\\x10\\xa0$\\xa0\\xac\\x81\"\\xc8\\x0f\\x03#\\x90\\xfd\\x9e\\x00\\x08\\x08(\\x98\\x98\\x01\\x89\\x10\\x88\\x99\\x18\\x00 \\tu\\x06\\xb9 7\\x07\\x8d\\x89\\x18\\x01\\xb8\\n\\x18\\x80\\x98\\x90w\\xaa\\x00\\x88\\x08\\x00\\t\\x91\\xa8\\x10)\\xa0Y\\xa3\\x08Fw\\xe1\\x98\\x80\\x00\\t\\x00\\x11\\x99\\x06\\x9b0\\xb8p\\x07\\xbb\\x10\\x89\\x08\\x92\\x89\\x81\\x8a\\x08\\x91\\x88\\x10\\x00\\x99\\x81(\\x94\\x1c\\x19\\x81\\x1c:\\x13-u\\x17\\x8f\\x80\\x08\\x88\\x10\\x88\\x80\\x80\\x19\\x90\\x00\\x82\\x08\\x1e\\x81\\t\\x13\\x8cU\\x1a\\xc9\\x88\\x81!\\xb8\\x10\\ti\\t\\xea!\\xa8qG\\x88\\xcaw\\xb1\\x1b\\x80\\x01\\x15\\xca\\x99\\x98\\x00\\x08\\x00\\x18\\x89\\x08\\x00\\x08@v\\x96\\x9b\\x98\\x88\\x80\\x00\\x08\\x00\\x82{\\xa7\\x8a\\x08\\x08\\x08\\x90\\x10\\x98\\x81\\x00\\xa8\\xb0A\\x900\\x939w\\x8d\\x80\\x88\\x88\\x18\\x10\\x0b\\xa2)\\x9b\\xa4\\x91x\\xa3\\x9d#\\xa9\\x10\\xa8\\xa7 \\xa9Z\\xa9\\x95\\t\\x80\\x82\\xba\\x13\\xb8\\x85^\\x9a\\xa2C\\xc8\\x8a\\x05\\xaa8g\\x08ax\\xb4\\x99\\xa9\\x80\\x88\\t\\x80\\x18\\xa89\\x95\\n\\x18\\xaa2\\x0c\\x80\\x80\\x85\\x1b\\x81rc\\xe9\\x08\\x90\\x88\\x93\\x89\\xa2*\\x01I=\\xa9\\x01\\x1dt\\xa7\\x99p\\x81)\\xe9\\x886\\x90\\x81\\xbd\\x08\\x88\\x80\\x00\\x08\\x88\\x00\\t\\x80\\x10\\xa0\\x92\\xc9\"\\xba\\x05r\\xb8\\xb08\\x82 \\xdbZ\\x80\\xa0\\x01\\x18\\n\\xf9\\x10\\x81\\x02\\x894\\xec\\x89\\x86\\x1a\\xc0!\\x8a\\x12\\x18w\\xf3\\x91\\t\\x88\\x00\\x08\\x08\\x90\\x88\\x06\\x11p\\x02S\\xb0\\x85\\x1a\\n\\t\\x11\\x0e\\x15;\\xfb\\x98\\x8a\\x00\\xa1\\x99\\x10\\x00\\x991\\x8a\\xa0<\\xa9\\x81\\xb2\\x0f\\xb3\\x96\\x81*I\\xd2\\x18\\xca\"\\x00Z\\n\\x9a\\x93i\\x01\\n0,\\xa6,\\xa8\\x00[\\xb1\\x13\\x00\\xbcp\\xc8uw\\x00\\x88\\xbc\\x08\\x08\\x88\\x00\\x08\\x88C\\xbb\\x00\\x89\\x80\\x81\\x91\\x08\\xa0\\xb3H\\x05\\xa9\\x929\\xb3\\x8f\\n\\x84\\xa9\\x80\\x07\\x8a\\x99\\x11\\x91\\x86\\x8b\\x01q\\xf2\\x00\\x18WI\\xc9\\x8a\\x18\\x88\\x08\\x08\\x80\\x98 \\x0b0\\x88 \\x99\\x92\\x14\\x80\\x1f8\\xc8\\xa4\\xa1+@\\xc0\\x9cR\\x19\\xa8\\xd4(\\x80\\xb49\\xc9T\\xac!<\\xc0\\x18\\x81\\x00\\x01p\\xe7\\x00\\x80\\x88\\x00\\x00\\t\\x08\\x00\\x08\\x1e\\x02\\x08sw\\x05\\xa0\\x9e\\x80\\x80\\x08\\x08\\x91\\x88\\x00\\x08\\x98(\\x90\\x80\\x90\\x18\\x11\\xf2\\x98\\x88\\x18\\x13\\x89*\\xf20L\\n\\x11\\x08\\x8c0\\x98\\xc0X\\t\\x91\\x02\\xbe\\x95* y\\x00q\\xe4\\x88\\x88\\x00\\x98\\x81\\x80\\x02\\x8a\\xa1\\x13\\xb8/\\x80\\x13\\x99-\\x83\\xc1\\xab5\\xca)\\xc4\\x02\\x8b\\x85:\\xab\\x80{\\xa1\\x10\\x00\\xb4\\x89\\x08y\\x98\\x13\\xeb\\x85\\x88\\x00\\x8a\\xc1\\x00\\xa49\\xe1\\x13\\x1f\\xa7\\t\\x00G\\x8d\\t\\x80\\x80\\x08\\x08\\x01\\x81\\n\\x80+\\xe1\\x93\\x11\\x00\\xca8\\xa0\\x19\\xa8\\x069\\xb0\\x07\\x0c\\x00\\t\\xa7)\\x1a\\x88\\x9aS\\x0b\\xa1\\xa0a\\x89\\xd3\\x1b\\x83*,)\\x04;\\xda \\xea\\x11\\x91\\x08\\xa69\\xa8\\x97\\t\\n\\x13R\\x8b\\xb38{\\xf2\\x88\\t\\x92\\x1b\\x8c\\x02#\\x01\\x8a\\xb9\\x18\\xb6\\n\\x95\\x8e!(/\\x13\\x1c\\x9cr\\xa6\\x0b\\x08\\x88\\x81\\x18\\n\\x81\\xb3w\\x97\\x8c\\x00\\x08\\x88\\x88\\x01\\x00\\x8a\\x81\\x10\\xe8\\x18\\x04\\x0b\\x08\\x01\\n<\\x00(\\xe8\\x12\\rH\\xb0\\t\\xa8\\x04\\x98\\x80*$\\xcb\\x01\\xe9\\xa7\\x19\\x93w\\xf4\\x00\\x88\\x88\\x00\\x88\\x00\\x08\\x91\\x19\\x90:\"\\xc2\\x9a0\\x99\\x9a\"\\xa7\\x9b\\x92\\xc0A\\x91\\x10\\xf3\\x00q\\x87\\x8d\\x80\\x00\\x190\\x82\\xc9\\x8d\\x82\\x890\\xb2(\\x02\\xe8\\xa0@\"\\xa8\\xbb\\x02\\xa1\\xb79w\\x88\\x9b\\x90\\x00\\x08\\xc1 Y\\n\\x89\\xb3\\x03^\\x1aw\\x17\\x89\\xca\\x80\\x80\\x00\\x00\\x81w\\x91\\x8d\\x08\\x88\\x80\\x10\\x99\\x08\\x08\\x88\\x00\\t\\x88\\x80\\t\\x91\\x80\\x82\\n\\xb2\\x90\\x99\\x94m\\x98\\x90#\\xab@\\x8b\\x80\\xd012\\x9fP\\x9b\\xa19\\x88\\x12\\xb1\\xba7\\x9c:\\x07\\xa8\\xa1\\x07\\x81\\x9b\\x11\\'\\xae\\x08\\x80\\x92\\x18\\x90y\\'\\x8e\\x08\\x88\\x80\\x00\\x88\\x91\\x00\\x89\\x80Y\\x99\\xc12\\xd8\\x81\\x11\\xb0\\x80\\x83\\x89\\xe5)\\x91\\x98 \\x18\\x07A\\xe9\\x01\\x8a\\x00\\xa0J\\x18\\xa0+\\xb3x\\n\\x9a4\\xcc\\x19#\\xa1\\x96\\x0e\\x08\\x11\\xe8!\\x99t\\xe2\\x80\\x08x\\')\\xa0\\x9f\\x08\\x08\\x08\\x08P\\x98\\x00\\n\\x8b\\x80\\x00\\x00\\x89\\x88\\x10\\x89\\x81(\\x10\\xb1\\x9e\\x14\\x00+#\\xdc(\\x13\\xaf\\x10\\x11\\x90)\\xb6\\xa2\\x1b\\x83\\x01\\xfe1\\x88\\x81\\x18\\xc3\\x89-C\\xb8\\x8a$\\xaa\\x8a\\xc3\\x03(\\xd0\\x9bi\\xa0p\\x89\\x9a\\x98z\\x92\\x18\\xa0\\x94\\x9d\\x12\\x00;Xw\\x86\\xa8\\x8c\\x00\\x88\\x08\\x08\\x89\\x01\\x890\\xa1}\\x81\\x99\\x89\\x01\\x1a\\x19\\x08\\x83\\xe08\\x9b\\x939\\x94H\\x98<\\x9d)P\\x10\\x0b\\x167\\xaf\\x18\\x80\\x90\\x00\\x00\\x90\\x19\\x00\\x1b\\xc4\\x912\\xf98\\x00\\x05\\x0b\\x89\\xa0\\x88(\\x92\\x8d-\\xa9+3t\\xb2\\x8a\\x18\\xb1\\x18\\xf8\\x11\\xb2p\\xbb\\x94\\x11-\\xa2\\xcb%\\x99\\x11Q\\x8c\\t \\x1b:\\x07\\xb6\\xa8Y\\x92\\x9c\\x10(\\xd8\\x80\\x01\\x89\"\\xe0)\\xb8\\x82\\xb1\\xb8%(\\xf3\\x14\\r*\\x99\\x049\\xb9\\x90\\xa7\\xa0!0\\xe2\\x1aK\\x07\\x8c\\x08\\x91\\x08\\x8a\\x05T\\xab\\n!\\xb0A\\x07\\x0e\\x88\\x80\\x81\\x99\\x18\\x80\\x91\\x19\\x10\\x9c\\x0c\\x17\\x1b\\xa0J\\x93\\x08\\xb2\\xc8\\x87\\n(\\xa0\\xd1\\x01B\\xf2\\x08\\x81\\xcb\\x12)r\\xc3\\x88\\xa9(\\x8a\\x94\\x80)\\xb1z\\x89\\x92\\xf8\\xa29s\\xc7\\x08\\x88\\x80\\x08\\x10\\x88!#uP\\x10\\x81\\x82\\x9a\\xc0\\xc2\\x90\\x83a \\xa1\\xe9\\xba\\xab\\x9b\\x1b\\'\\x8f\\x88\\x88\\x88\\x02\\x98\\x08\\x80\\x84\\x00\\xaa(\\x92\\x90\\x18\\x00;\\xb1\\xf0\\x1a\\x03_\\x98\\x9a\"\\xc9\\x96 \\x9cA\\xba07\\x0f\\x88\\x91q\\xb9\\x00\\x08\\x08\\x00\\x80\\xa1L\\n\\xb3\\x92\\x01\\x8a\\xb3[\\xe0\\x82\\x95\\t\\x1asw\\x97\\x99\\x8a\\x08\\x80\\x08\\x80\\x08\\x80\\x08\\xa0\\x00\\x19\\x81\\x98\\x89\\x92r\\x96\\x99\\x1b)\\xb2\\xa8\\x96\\x80\\x91\\x9as\\xe5\\x18\\x94\\x1c\\x80\\x90\\x113\\xc8\\xab\\x18\\xaa\\x11a\\x9a*\\t\\t3\\xc8P\\xcb({\\xa2\\x08X\\xb9\\x12\\x17\\xaa\\t\\x88\\x88\\x11\\x9bX\\x1b\\xf8\\x80yp\\x96\\x9b\\x08\\x88\\x00\\x19)\\xb83\\xb0\\x89\\x00\\x08w\\xc5\\x89\\x91\\x88\\x81\\x98(\\xb8#\\xa9\\x1a9\"q\\x96\\xa9\\n\\xa9S\\x9a#\\x9d1\\x8b\\xb0\\x897G\\x8f\\x80\\x80\\t\\x00\\x08\\x08\\x00xW\\xf8\\x08\\x80\\x80\\x80\\x08\\x80\\x08\\x10\\x19sW\\x80\\xb9\\r\\x08\\x10\\x07\\x81\\xad\\x80\\x80\\x80\\x80\\x08\\x08\\x80\\x18\\x88\\x88\\x81\\t\\x19\\x80 \\t\\xb2I\\x1d \\n\\x89+r?\\xb1\\x19\\x08\\xb8\\x05:\\x9a\\x82\\xc1(\\xe1U\\xa9\\x91\\x98\\xa0\\x82\\x8ap\\x80\\x01\\xa8)*h\\xb8\\x8aw\\xb7\\x08\\x12\\x02;\\x83\\xeb \\x82\\x9bO\\x03\\xc9\\x19\\x98\\xbb\\t%\\xc8\\t\\x8190\\x16\\x8b\\x12J\\xc1Z\\x813\\xe9 \\xb8\\x08\\x8e\\x04\\xa9A\\x00\\x9a\\x01BW\\x8e\\x80\\x80\\x80\\x98\\x08\\x18\\x89\\xa9\\x88 \\xd0\\xbb\\x08\\xf9\\x18)\\x90\\x00\\xabs\\xd3\\x8a\\x18 \\x82rw0\\xfa\\x89\\x80\\x80\\x80\\x00\\x08\\x08\\x81\\x99\\x92\\x89\\x02\\x19\\x00\\xb8sw\\xd7\\x08\\x08\\x08\\t\\x80\\x80\\x80\\x08\\x88\\x01\\x08\\x89 \\x82\\x8b!w\\xc7)\\xb0\\x80\\x00\\x89\\x80\\x80\\x80\\x88\\x02\\xa1\\x088\\xa1\\xbb\\x12q\\xba\\x91\\x03YJ\\x1e\\x81\\x01\\xc8\\x92\\x04i\\x92\\x85w\\x92\\x80|\\x84\\x9c\\x00\\x18\\xa9\\n\\x88\\x80\\x08\\x88\\x90\\x10\\x08\\x0b\\x91\\xb1@\\xb9\\x92H\\x08w\\x9b\\x08\\x90\\t8\\x88\\x9c\\x95\\x88\\x81)\\xb0\\x10#w\\xbb\\x82\\x88q\\x17\\x9d\\x00\\x80\\t\\x88\\x00\\x90\\x10\\t\\x91\\x80<\\x14\\x8b)\\xb0rw\\x95\\x90\\x80S\\xa1\\x9d\\x00\\x81\\x83\\xcf\\x08\\x08\\x80\\x08\\x08\\x80\\x10\\x91\\x99\\x81\\x08\\x11\\x9b[\\x9a\\xa3*\\x911\\xe1\\x11\\xaaa\\xc3\\x99\\x10\\x98\\xe3\\x92\\xe2\\x18\\x01B\\xa9a\\xc2r\\x07A\\x15\\xcb\\x89\\x98\\x9a\\x00\\x89\\x81@w\\xd0\\t\\x08\\x08\\x08\\x88\\x00\\t\\x00\\x08\\x80\\x98\\x82s\\xb9\\x89\\x81\\x10\\x89\\x00\\x8aA\\x8b\\x11\\xa1Tw\\xac\\x00\\x08\\x90\\x80\\x10\\x88\\x92p\\xd5\\x88\\x00\\x88\\x80\\x01\\x89\\x11\\t\\xb8\\x18\\x91qhG\\x00\\x80$\\x87\\x8c\\t\\x08\\xb9\\x9b\\x90\\x80\\x10\\t\\x88\\xb1\\x86p\\xc6\\t\\x80\\x80\\x10\\x19\\x08\\x91s\\x16\\x08\\xa8x\\x16\\xca\\t\\x00\\x08\\xa8\\x8b\\x80\\x08\\t\\x19\\t\\xa0\\xa1\\x829\\xa9\\xb8\\x03\\x08{\\x93\\xaa\\xd9\\x04\\xc0@\\x83\\x1aw\\x05\\x12\\xa2\\x80\\x92\\x91\\x82\\xc3\\t\\xd3\\xc8Q\\n\\x18\\x12\\x1e\\xa2\\x82\\xac\\xfc\\x8b\\xa9\\x90\\x88\\x00\\xa9\\x01\\x10#\\xb4\\xeb\\t\\x80\\x92\\n\\x91:=\\x80\\t\\xd1w(4\\x13\\x98\\x08 \\x8b\\xe3\\x19]\\xa1(I\\xc0(*\\x90r\\x0b\\xd8\\x9f\\x89\\x08\\x80\\x80\\x80 \\x13\\x8f\\x88\\x80\\x90\\x92\\x08\\x89A\\x89\\x88*\\xc0\\x82\\xb5\\xa1\\x91ap\\xc7\\t\\x80)\\x89\\x00\\x81\\xa8\\x01w\\xaa\\x88\\x08\\x00\\x80\\x00\\x07\\r\\x88\\x08\\x81\\t\\x93\\x88\\x88*\\tI\\x90Z*\\tq\\x87\\x1e\\x80q\\xb1\\x9a\\x18\\x88\\x18g\\x9c\\x80\\x08\\x18\\x08\\x98\\x81\\x00\\x88\\x00\\x10\\x98\\x889\\x1b\\x0bx\\x1a\\xa0Yt\\xe0\\x90\\x00\\x18\\x80\\t\\x89\\x028\\xbc9:\\xe2wG\\xb8\\x9c\\x00\\x08\\x03\\x08\\xe8@\\xc0\\x88\\x00\\x08\\x884p\\xe9\\x08\\x08\\x80\\x08\\x08\\x01\\n\\x08\\x88\\t\\x81\\x00\\xa2\\x81\\xda#\\x89\\x19\\x0bX\\xe0\\x01\\x10\\xd3\\x81\\x18\\x10\\xbas\\x9a\\xa8t\\xc00\\x89\\x0c\\xa2*\\x08\\x83qw\\xc4\\x10\\xb8\\x89\\x89\\x90\\x80\\x00\\x80\\x08x\\x97\\x0b\\x88\\x80\\x08\\x80\\x00\\x98\\t\\x19\\x92\\x10\\x89\\x83[\\xaa\\x04\\x90\\x1b\\xd3\\xc1@\\xb1K\\x91b\\xd1 w\\x87\\x98\\xaa\\x88\\x80\\x80\\x08\\x18\\x00\\t\\x88\\xa0\\x12\\x1bw\\xb9\\x880\\xb0\\n\\x98(\\x80\\t0\\xacw\\xc7\\x08\\x10\\x98\\x88\\x08\\x98\\x82\\xa00\\x08\\x90\\xb9\\x00 !ww\\xb1\\x19\\xbb\\x88\\x08\\x00\\x80\\x18\\x99\\x11\\x99\\x04\\x99\\x91\\xa92K=\\x89{\\x11\\x9c\\x83\\x0c\\x94\\xaa3\\xa8*\\xa9w\\xb1\\xba\"\\x90\\x10|\\'\\x8e\\x88\\x80\\x80\\x00\\x80\\x90\\x00\\x19\\x98\\x98!\\x00\\x81Q\\xc9\\x81\\x8b\"\\x10\\xc4\\xe9$\\x1f\\x90\\x889\\xa4\\xaa\\x93\\x06\\x99\\x10-\\x91\\x00\\x99\\x03\\xda\\x83\\xd3(\\x02\\xb9\\xe2\"\\x1a\"\\xe8\\x80 90\\xe8u\\xb7\\x99\\x10\\x99\\x83\\x89\\t\\x10\\x08\\xa0\\x8a\\xa1\\xe3K!\\r\\x03\\x19\\xb0\\t\\xe4\\x92S\\x8c\\xa0\\xb9\\x86\\x02\\n\\x93\\x9b\\xf1\\x13\\x19\\xb0q\\xb0\\x98`\\xab\\x81I\\x00\\x82\\x0b:\\xa0\\t\\xc74\\x90\\x9f\\x83\\n w\\xab\\x88W\\xba\\x80\\x08\\x00\\x98\\x18\\x98\\x01\\xa8\\x11\\x01\\x00\\xa8\\x00\\x03\\x999\\xcb\\xf2\\x07\\x8a\\x98\\x19@\\x8a\\xc1\\x02\\x11\\xf2+(\\x8a\\x16\\x9cH\\x80\\x11\\x19\\x9c\\x11Q\\x8b\\x18\\xd5\\x18*\\xcb1\\x90\\xdaPy\\xb7\\x89\\x81\\x19\\x80\\x08\\t\\xc1\\x11\"\\x1e*\\x18\\x91\\x8a>\\x01(\\x8c\\x83z\\x1b\\x83\\x98\\xa8\\x14:y\\xb0\\xe1\\x1a\\xa3\\x89\\xa3:y\\x9c\\x92W\\x8d\\x80\\x08\\x08\\x80\\x88!\\x98\\x8a\\x10\\x13\\xaaO\\xa2\\x88\\xd8u\\xb9\\x00\\x90\\t0\\xc8\\x92\\x11\\x8a\\x18\\xb0\\x06)\\x8arw\\x17\\x88\\xc8\\x8b\\x08\\x08\\x00\\x98\\x88\\x81\\x80 \\x88\\x19\\xa0\\x81\\x93\\x00;|\\x91\\x08\\xbb\\x8bR\\x89\\x07\\x9a)\\x91=\\x92\\x99\\x01\\xdas\\x82\\x0b)7\\x9f8\\x08\\x99\\x88\\x02\\x80\\x08\\x19X\"\\x80\\x84i4%Q6\\xa1\\xbc\\xaa\\xa8\\x9a\\x90\\xa9\\xb0\\x99L#\\xfa\\x19\\x11\\x08\\x99X\\xb9\\x82\\xa8\\x93\\x13q\\xf1\\x08\\x8a!\\x85\\x9a\\xb8\\x8b:\\xb3%\\xaa\\xa9S\\xc0\"\\xd0\\x00\\xb4:\\x05\\x9d!\\xb2 \\xbc\\x04\\x19\\xd0z\\xb0\\x981\\xb2\\x91w\\xaa\\t\\x81\\x0bp\\xa8\\x80\\x90\\x82\\x1a\\x0b\\x17\\x8b\\x19\\xa1\\xb2\\x82`\\xf2\\x82\\n\\x10\\x94\\xca\\x13\\xcb\\x04))\\x00\\x9eW\\x8b\\x17\\x8c\\x08\\x08\\x08\\x98\\x91\\x92\\x881\\xfa\\x10\\x80\\x11\\x00\\xa09\\x8b\\rqw0\\x88\\xb0\\xaf\\x80\\x08\\x80\\x81\\x08\\t\\x80\\x99\\x11\\x881<\\x01\\xba\\x91\\x93\\x91\\xe1w\\xe0\\x08\\x88\\x81\\x00\\x80\\x88)\\xa9\\x12\\x9bt\\xa7\\n\\x88\\x00\\x91\\x80\\x99\\t\\x95\\xb8\"\\n\\x98C\\x18\\x0f\\x98H\\x92\\x89\\x94\\xa0\\xc8\\x93O\\x90\\x1b8\\xe3\\x19\\x91B w\\xaa\\x99\\x91\\x88\\x18\\x19Q\\xa0\\x88\\x92\\x1b1\\x1f\\n\\x10\\x15\\xab\\x01+\\xad4w\\xaa\\t\\x08\\x00\\x08\\t\\x92\\x08\\x8aY\\x88\\xa1\\xb9\\x90\\x11i\\xb8y\\x10\\xb9\\xb3Y\\x89\\x84\\xadC\\x81\\x1c\\x0b\\xa5:\\xc2\\x1d\\x80\\xa2$\\xab5\\x8c\\t\\x8a\\xa78\\xa9I\\x18@\\x1c\\xba1 \\xc0\\x99\\x10\\x7f\\x87\\x8b\\x88\\x80\\x80\\x81\\x88\\n\\x92A\\xa2\\x90\\nb\\x9b\\xa1\\x02\\x94\\x10B\\xaf\\xa0\\x92(\\x9cY\\x00J\\x8a\\xf1\\x10\\n\\x122\\x8f\\x01\\x1a\\x92\\x9b7\\x14\\x8d)\\xc0\\x13\\x1c1\\x80)*\\xb9r\\x0e\\x80\\xa2r\\xe9\\t\\x19\\x19\\x98\\x08#\\x08+\\x00N\\n*\\x08H\\x8a\\x85\\x08\\x92\\x90\\x99\\xb9U\\xa0\\x88\\xfb\\xa9\\x02\\tA\\x9a13\\x92\\t\\xa0\\xf5-1\\xa8\\x0e!\\xd1\\x91\\xb4(\\xb1Ng\\xa2\\x8e\\x80\\x08\\x08\\x10\\x85\\x8d\\x80\\x80\\x81\\x08\\x80\\xa8!\\n\\x81\\x19\\xa0O\\x81\\x89\\x81\\x08\\xa3\\x80*z\\xa9Y\\x08*\\x83W\\x9c\\x11A\\x8a\\x18\\xbb_!\\x0b\\xab#p\\x9b\\xb1(\\x02\\xd8\\x10\\x98\\'\\xf0\\x88\\x81)\\xb2\\x19\\x98y\\xc4\\x88\\x18\\x88\\x88\\x80\\x01\\xa0\\x07;\\xb9\\xb2\\x87\\n\\x88\\x91\\x12\\r\\xa1<\\x10\\xea\\x01\\x89\\x01I\\x9aXQ\\xbb\\x88\\x01\\x98!=\\x99(Q\\xf9(\\x13\\x9a\\t\\xa0\\x8a\\xa78\\xa0\\x19/\\x18\\x1cV\\x17\\xb1:w\\xca\\x10\\xa0\\x88\\x88\\x80\\x90\\x00\\x08\\x08\\x90\\x01\\x18\\x80\\xb8\\x13\\x00w\\xd7\\x08\\x18\\x88\\x88\\x80\\x19\\x90s\\xf3\\x00\\x88\\x88\\x90\\x80\\x00\\x90\\x08\\x81\\t\\xa0\\x12\\xc1\\x82\\x10\\n\\xbdZ8\\x81\\x82+\\xba\\x94\\x9a\\'\\xb5\\xaa\\x11\\x11;\\xf1\\x89pr\\xaa\\x08\\x88\\xb0\\xa1a\\x08\\t\\xa3\\x9bG\\x82Iw\\xc4\\x8b\\x18\\x98\\x08\\x00\\x88\\x18\\x88\\x80\\x18\\x92\\x1a\\xb0\\x03\\xc1A\\x98:\\x98W\\x11w\\x97\\x10\\x99x\\x81\\x9b\\x10\\x88\\xa9\\r\\x98\\x88\\x88\\x00\\x08\\x89\\x10\\x08\\xa1\\x90\\x188\\x11\\xa7\\x0b\\xaa8\\xb8\\xd4!\\x08\\x1a\\xa9\\x12\\x8b%\\x0f\\x01\\x88\\xa9\"t\\xb8+\\x91\\xb0\\x12 \\xef8\\x84\\x99\\x82i\\x0b\\x88;\\xa2\\x1b\\xf3(\\x95\\x99\\x00\\x94\\xa0\\x1d(\\x98\\x19\\t\\x17\\x89\\x18\\x1f\\x91\\x00\\xc0\\x02\\x04\\x8az\\xa9!\\xaa\\t\\x00\\xd0H\\x91w\\xe0\\x80\\x80\\x00\\x80\\x90\\x02\\x88\\x9a\\x81\\x00\\x9d\\x118\\tK\\x04{\\xb8\\x18,\\x82\\t\\xc8Z\\xb2\\x92\\x08\\x90w\\xd2\\x08)\\t\\x91\\x91\\x08\\x81K\\x07q\\xb2Y\\x94t\\x86\\x9c\\x80\\x89\\x00\\x98\\x81\\n!\\xba\\x08\\x890\\xaa\\x80\\x08\\xc2\\x02\\x1b\\x03\\xc1\\x03\\xa1\\xaa+\\x82\\x1a\\x90t\\x96\\x9c\\x11\\x19\\x82\\xb9\\xf0y\\x08\\x90(w\\x8c\\x88\\x80\\x10\\x88\\x08\\x90\\x98\\x02\\x99\\xa2$\\x9c\\xa8\\xb3\\x88\\x16H\\xab0\\xd2\\x10\\x98\\xc4)\\xd2z\\x81\\x99\\x99\\x83\\x90Q\\xc1\\xb3,i\\xb8 \\x9b \\xd2i\\x89\\x18\\x948\\x0bx\\x89\\x83\\xa9\\xb0\\x13\\x7f\\xc3\\x18\\x02qw\\xca\\x80\\x80\\x00\\x98\\x80\\x80\\x80\\x08\\x91\\x92Hr\\x97\\x0b\\x01H\\x17\\xc9\\t\\x89\\x10\\xa0\\x0b\\x88\\x80\\x08\\x80\\x88\\x88 \\x19\\x99)\\x10\\x00\\xf3\\x18\\x891\\xd9\\x80)\\x85\\xba$\\xb3\\x9c+Eg\\xab\\x88\\x08c\\x82\\x913w\\xaa\\t\\x08\\xb9\\x9a\\x00\\x19\\x89\\x81\\x10+\\xa0:\\xb11\\xd0D\\xbaw\\xf0\\x00\\x00(C\\x93\\x89w\\xb8\\x89\\x00\\x9a\\xa8\\x00\\x89\\t\\x08\\x88\\x91\\x88\\x82\\x80\\x1a\\x08\\x1dA\\tz\\x17\\x8e\\x80\\x18\\x88\\x08\\x88\\x01\\xa0\\x98\\x03\\x80\\x92\\xd3\\x1a\\xba\\'\\x1c\\x81+\\x10\\xa8\\x92\\x8a\\x87\\xb9\\xd3p\\x17\\x8d\\x80\\x88\\x81\\x08\\x88\\x01\\x00\\x88\\x1a\\x81\\x99\\x00\\x01}\\xb1\\x08\\x0b\\x05,\\x18\\xe2\\x98\"\\x86\\x98qs\\x87\\x8d\\x18\\x98\\x80\\x88\\x08\\x80\\x08\\x90\\x10\\x88\\x00\\x80\\xa1\\x02\\xa9r\\xa0\\x8b\\x18Y\\r0\\x98\\x88F\\x8c\\x88\\xa5\\x89\\x02\\x08\\x9b\\xb8\\x11\\x86\\x1b:\\xa8\\x04\\xac\\x85\\x1c\\x11\\xba\\x97\\x18\\x81\\x01\\x89\\xb3\\x19\\x93\\x07\\x1f\\x81\\x19\\x19\\xb2\\x8a!{\\x01\\xe0\\xa8\\x81x\\x99\\t\\x82\\x081\\xc4\\xab\\x89\\x17\\t\\x98\\x1a\\xc1t\\x97\\x9a\\x08\\x80\\x88\\x08qw\\xab\\x00\\x80\\x98\\x80\\x08\\x80\\x08\\x08\\x90\\x80\\x00\\x8a!(<\\x82\\x1cr\\xf3\\x99\\x92\\x08\\t!\\x99\\x1aJ*a\\x00\\xaa\\x11=+\\xc1\\x10\\x08i\\x90\\x90\\x18\\xa32\\xf9\\r\\xb4J\\x82\\x0b\\x10\\xf1\\x92\\x03\\xb9( \\t\\xd4\\x96\\x0f\\x08\\x10\\x90\\x10\\x99\\x03\\xab\\x87\\x8b\\x93\\x98R\\x8c\\x13w\\xaa\\t\\x98\\x93\\x18\\x89!\\xeaP\\xc1\\x18\\xa1\\x83\\xaa\\x10\\xa8\\xb5\\x98A\\x10\\xd3<(\\xa0 \\xe9\\x12\\x90X\\xae\\x12\\x18\\xb0q\\xd5\\x88\\x18\\x00\\x89\\x90\\x81\\x90@\\xc1\\x1c\\x00\\x83\\x8a\\xa8\\x07\\n\\x13\\r\\xa8w\\xa7\\x0b\\x08\\x00\\x89\\x08\\x01\\x89\\x91:\\xd3\\x00\\x18)X\\x8ap\\x8c\\x80\\xa1\\x00\\x90\\x05\\x8b\\x03\\x89\\rs\\xc7\\x89\\x10\\x98\\x01\\x89\\x92\\x01\\x19\\xa0\\x898\\x13\\x0f\\n\\t\\xa5\\xc8S\\x99\\x88\\x84\\x10\\xf3\\x91\\xa1\\x91w\\xd0\\x88\\x00\\t\\x80\\x08\\x19\\x10\\xc1\\x82\\x80\\x80\\x0bt\\x97\\xa8\\xa8Q\\xa9\\x00\\x88\\x00\\t\\t\\x82\\x92\\xc0w\\xba\\x19\\x00\\x19\\x01\\xaa\"\\xa0\\xe281\\xac8\\x19\\x9by\\x19\\x9aJ\\xc2@\\xa9\\x0830\\x9fP\\'\\x8f\\x00\\x08\\x19\\x88\\x18\\x88+\\x0b\\x02\\x88\\x05\\xc1I\\x98\\x18\\x93<\\x9f\\x82\\t\\x11\\x19;\\xb4\\x14\\x9b\\xa7\\xb9h\\xb0\\xb3\\x82\\xc01\\xa1\\xc5 \\x80>\\x05\\xc3\\x9a\\x00\\x1a!\\xbb\\xb4p\\xe2\\x18\\t(\\xa1|\\xd5\\x08\\x88\\x01\\x88\\x18\\t\\x19\\xb2H\\xb9\\x02\\x18\\xb1n\\x80\\xb4\\xb0\\x10*\\xc1:\\x19\\x00K\\xe4I\\xa8\\x01\\x98\\xa8B\\x98>\\x94\\x9b\\xb4\\x01A\\xb9\\x1b\\x85\\x13\\xe0\\x98\\x02\\x88\\t\\xaa\\xa7R\\x19\\x96\\xb8Yw\\xbb\\x00\\x88\\x10\\xa0\\x00\\x01\\xa0\\x91\\x01\\x1d\\x01\\x91\\x9a0\\xb9\\xe4\\x10;\\x10\\x19\\x04\\x8a\\xb18\\xd4\\x80\\x1dz\\xb7\\x88\\x08\\x01\\xa9\\x81\\x13+\\xe3\\n8\\x1c\\tK\\xc2\"\\xa9)\\x139\\x8fz\\x19\\t\\xb0w\\x87\\x8d\\x80\\x80\\x80\\x08\\x10\\x98\\x80\\x01\\x80\\xa8\\x19\\x81M\\x80\\x98:\\xa3\\xb92\\x1c\\x11\\x93\\x1f*\\x9a\\x90$\\xcaE\\x12\\xac\\x00\\xaa9{\\xbaa\\xd2(\\t\\x91\\x83:\\x9a\\x94\\x8f\\x01\\x18)\\xd4\\x10\\xa0\\x82g\\xab\\x81\\xa8*\\xb8\\x11\\x08A\\x88\\x08\\x84\\xbdx\\xa0\\x18\\np\\n\\xa8\\x02\\xc2Y\\xb2\\x99\\x84\\xc1\\x88\\x82\\xa9\\x06\\x19\\x08\\x8aQ\\x89\\x0b\\xa3sw\\xe8\\x08\\x80\\x18\\x88\\x80\\x81\\x90\\x89\\x91J\\xb8x\\xb0\\x11z\\x07\\r\\x88\\x80\\x00\\x00\\x80\\x99\\x00\\x88\\x99\\x83\\x11\\x91\\xa8\\xb9\\x96\\xc8%\\xf29\\x89(\\x98\\x90-\\x05\\x99\\x81)\\\\8\\xc8\\x992\\x98 \\x0f\\xa4\\x99\\x88\\x91r\\x88U\\xa2\\xba\\r\\x80\\x10\\x8a\\x81\\xa2\\x02\\x8cw\\xd6\\x08\\x08\\x88\\x00\\x88\\x80\\x80\\x80\\x88\\x910\\x03\\xeb\\x81\\x18\\xb8\\xa2{\\x10\\x90\\x08\\x9b\\x16\\x9a2\\xd9\\x08\\x05\\x0b\\x08\\xf9\\x12\\x01<\\x98\\t0\\x92\\n\\xb5\\xaf%\\x97\\x8b\\x08\\x08\\x90\\x90\\x00#*\\xc1Zzw\\x8d\\x80\\x08\\x90\\x00\\x80\\x18\\x90\\x88\\x80\\x19\\x03\\n\\xe8\\x823\\xb1\\xaa\\t\\xb2{\\x98\\x91p\\xb5\\x98\\x19\\x97\\x8a\\x10\\x18\\x98\\x91\\xb2(\\xc4\\x0b\\x04\\x81\\xae\\x92!\\x81+\\xc9[\\x95\\x99Y\\x92 {\\'\\x8cy\\xe2\\x88\\x80\\x00\\x88\\x81\\x08\\x88\\x80\\x80\\x18\\x98\\x02+\\x88\\x92/\\x10A\\x8a\\xf2\\t\\x19\\x91\\x82\\xa2i9\\x9d\\x02\\xa9\\x11(/\\x91(\\x8c8\\xe8K\\x94\\x8b@\\xf1\\x80\\x02\\x89\\xb2\\x80\\xa9\"x\\xb1\\x11\\tw\\xc9\\x81\\x880$\\x9e\\x88\\x88\\x91\\x90\\x18\\x10\\x92\\x19\\x10\\x98\\x86,\\x0b\\x88\\x1a3\\xfb\\x84\\x11\\xd9 \\xb3+*\\xf1a\\xaa(\\xab\\x96\\xa2h\\x19\\x1b\\x0b\\x91\\x101+\\xc6\\xa9#\\xaa4K\\xf9Z\\x92z\\x97\\x8b\\x08\\x08\\x08\\x88\\x18\\x08\\x01\\x9b\\xa1\\x80\\x11\\xc3T\\x90\\xb2\\xa0\\x04\\x98\\x85\\xe9\\x82\\t\\x94\\x1d s\\xf0\\x88\\x80\\x00\\x88\\x80\\x91\\x12)\\xcc!p\\xb1\\x8a0\\x0c\\x92*\\xb5\\x82H\\x99\\xae\\x94\\xa1\\x00\\x18u\\x8b\\x88\\x89\\x80\\x881a\\x98\\xaa9\\xbbI\\x98\\x87\\x1a\\x0bT\\xb8\\x1a\\xb2\\x03\\xbd\\x95\\x08\\x02\\xb0\\x19w\\xd9\\x83\\x98\\xa0\\x13\\x8b\\xa1\\x10\\xb9\"\\xd1\\x15\\x01\\xc8\\x81I\\xbd\\x03\\x1c\\x80\\xa1\\x84t\\x9a\\x9a\\x00p7\\x0f\\t\\x08\\x88\\x18\\x00\\x08\\x08\\x00\\xb0\\x08\\x81\\x88\\xaa p\\x81\\x98}\\xc5\\x08\\x98\\x10\\x90+\\x80[\\x81\\x1b\\x9a\\x03\\x05\\x18\\x9a\\xf1\\x10\\x03\\x1a=*:\\xac2x\\x8a;\\x0b\\x94\\ny*\\xc11\\x88w\\xd5\\x98\\x18\\x80\\x08\\x88\\x08\\x80\\x08\\x08\\x08\\x89Z(\\xe9\\x10\\x19\\x82\\xa9\\xc3-\\x94\\x18\\n\\x01\\xa7\\x00\\x1b\\xb0\\x10\\x13\\x1bx\\xf4\\t\\x91qW\\x9d\\x80\\x80\\x00\\x88\\x80\\x80\\x08\\x19\\x08\\x82\\x895\\x82\\xea\\x199g\\x8d\\x80\\x08\\x08\\x80\\x00\\x98\\x80\\x01\\x90\\x9a \\t\\xa1\\np\\x8a\\x10\\xc9\\x14\\n0\\x9f\\x95\\x10\\x10\\x18\\xb4\\xb1\\x80\\xa0/)\\x92\\xc0\\x80\\xc8\\x18=\\xa7*\\x88:\\xc2\\x06\\x99\\xa1\\x98H\\xc8B\\x8a\\x91\\x82v\\xc7\\x88\\x80\\x08\\x88(\\x19\\x989A\\x8d\\x19\\x9a\\x02\\xb2+9\\x98`\\xa0\\x98\\xa0r\\x82\\xbaL\\x81Q\\xa0\\xba!\\r\\x1b\\x05Z\\xb7\\t\\x98\\x81\\x18\\x99))\\xb1\\xa1\\x17\\x88K\\x0b20q\\x06\\xaa\\x8c\"\\x8f\\x81\\t\\x02\\xba\\x94(\\xa0\\xb4\\xb2\\xb3\\x14\\xf2\\xc0\\x81H\\x08\\xb5\\xa9\\x83\\x8c\\x92\\xa5\\x91]\\xa1\\x18\\xb0\\x118\\xa9\\t9\"wq\\x94\\xc8\\x8a\\x18\\xa8\\x88\\x81\\x98#\\xb1\\x8c\\x10\\x92\\xaa\\x00)\\xf8\\x93sw\\x9b\\x88\\x88\\x81\\x10\\x88\\x1a\\xb8\\x12\\x1cH\\xb9!\\x1b\\xa7\\x00\\x10-\\x11\\xb9\\x08\\x07y\\xc1\\x99\\x11+\\xa1\\x88\\x80\\x19\\x83\\xba\\x16g\\x01\\xc8\\x8a\\x98\\x18\\x90\\x19!\\xd9\\x81\\xc1M\\x81\\x08\\x9a\\x9a\\x00c9w\\xe0\\x88\\x80\\x90\\x11\\x88\\xa1\\x19\\x18\\xa0H\\x90\\xb3\\x18\\n*\\xa7\\x98\\x96*\\x9a5\\x9b((\\x9f\\x14\\xd1\\x00\\x90 \\x1a\\xb0i\\xc0\\x10\\x912\\xfa\\x1a\\x82\\x03\\x0e\\x90\\x00\\x18\\x1c\\xc4LP\\xc3\\t\\x98\\x80\\x80\\'\\x0e\\x08\\x90\\x08\\xa2\\x19\\x81\\x91\\x9ay\\xa1\\t\\xa4\\x18\\x9a\\xabQ\\xc0\\x13\\x90{\\xa1\\x92\\x99\\xb6\\x90(\\x91$\\xbd\\x85\\x00\\x83\\xca\\x12\\xfa$\\x1d\\x89\\x00\\xa0\\x92\\x1ai\\xb0B\\x80\\xdb(\\x18\\x8d2!\\x8c;\\xa6\\xb2\\x92\\xb8\\x11\\xa1<\\xf2\\xa2\\x1b2\\x1aM\\xb2\\x8ax\\xa10 \\x9c\\xc1\\x800\\x90\\x0c\\x07\\nQ\\x9c\\x11\\xf4\\x00\\x99\\x828\\x00\\xf1\\x88\\x01\\x198\\x99\\xbc\\x15(\\x00\\x0b\\x92\\xbc\\x14\\xd3\\x89@\\x92Lw\\xaa\\x98\\x08\\x80\\x80\\x00\\x01\\x89\\xcaA\\t\\x10\\x81\\x8b,B\\x1e\\x82\\t\\xa8\\x14\\x8b%\\x99\\xf19\\x18\\x07\\x8e\\x02\\x98\\xa3\\xa0(\\x08\\xd8\\x98\\xb5I\\xa01\\xd2x\\xd4\\x90)\\x81\\x8b\\x11\\xb19\\x01\\x89\\x05|\\x87\\x8b\\x80\\x98\\x00\\x88\\x88I\\xa1a\\xa1\\xa4\\x8d\\x989\\x18\\x82\\x81\\nZ\\x81\\x9dQ\\x89\\x9b\\x02\\xbbw\\xc1\\x08\\x19\\x01\\xa0\\x98 -\\x80\\x00\\x03\\xba\\x1a\\x94[\\tA\\x9a\\x90\\xec\\x94\\x81\\t\\x92,\\xa0\\xb0w\\xb91\\xc6\\x1a\\x08\\x88\\xb1\\x11\\x90(:\\xa3+\\xd1\\x01\\xa4\\xc3\\x90\\xfa\"\\n\\x1b\\x97\\x98\\x11\\xa0\\xa5\\x00+\\xda\\x03\\xe3!\\x18\\xd0X\\x98\\x08\\x00\\x1e\\x82\\xd1\\x80\\x12\\xbae\\x8b\\t\\x82*\\x98\\xb3+\\x92rW\\x8e\\x80\\t\\x10\\x99 \\x91\\x00\\x99{\\xa8\\x90\\x11\\xa2\\xa1\\xb2\\xc4\\x11\\xe0\\x98X\\x80\\x00\\xa0\\xb3M\\xd3\\x00\\xa8#\\x9b2\\x1f\\x18\\x92\\xa8\"\\r\\x11J\\xab;!\\xaf8\\x97\\xb0\\x03\\xc1\\x19\\x04\\n\\x10*w\\xc7\\x90\\x80\\x90\\x81\\x19\\x88\\x19\\x88\\x92\\x90\\x12\\x81\\xbf\"\\xa9v\\xa9\\x88\\xa1)\\x90(\\xa5H\\xc6\\x99r\\x99\\x80\\t\\t(\\x08\\x8a\\x81\\x99\\x07\\x89\\x01\\x90\\xd20=+\\xc3\\xe2\\x12U<\\xb4\\nw\\x93\\x8f\\x18\\x80\\x89\\x08\\x88\\x00x\\x93\\x8e\\x80\\x80\\x80\\x80\\x80\\x80\\x80\\x08\\x80\\x18\\x88\\x80\\x80\\x80\\xa4\\xa1\\'\\x0f\\x88\\x82\\x88\\t\\x10\\x99\\x81)\\xa8\\x10\\xd3h\\x99\\x82\\x81\\xb0\\xd3\\xa0\\x12\\xa2;(\\x82I\\xb8o*\\x0bw\\x97\\x9b\\x00\\x19\\x00\\x12\\x8a\\xaa(\\xa9\\x95\\x92\\x909\\x19\\xc6\\x01\\x1ehw\\xba\\x80\\x80\\x80\\x80\\x81\\x08\\x00\\x00BB\\xc0\\x1bw\\x04\\xa9\\x1a\\'\\xd8\\n!\\x80\\xd9\\t\\x01\\x99\\x88\\x88\\x80\\x90\\x80\\x00\\t\\x80\\t\"\\xcb\\x10\\x98\\x9b\\x02\\x14N\\x9a\\x82\\x88\\x01I\\x1b\\x99\\xb8\\'\\xa88\\x84\\x04\\x19X\\x9c\\x8ag\\x19\\xa8QF\\xa3\\x98g\\xc8\\x88\\x81\\xaa\\x89\\x08\\x08\\x08\\x80\\x88\\x90\\x80\\x81\\x98\\x88\\x81\\x18@\\tyTqW\\xca\\x80\\x98\\x88\\x80\\x08\\x08\\x80\\x08\\x88\\x00\\x80\\x90\\x83\\n\\n\\x03\\xf9\\x02\\x18\\x81\\t\\xc18\\xbb\\x00\\x070\\x88\\xca\\x19,x\\x1c\\x92\\x89\\x80\\x11:\\r\\x14\\x1e\\x1a;z\\x90\\xc0)\\x90\\xc3@\\x89\\ty\\xc7\\x19\\x98\\x11\\t\\x00\\x00\\x99\\xa0\\x14\\x9a=\\x90Y\\x89 \\xb3\\x9b(\\x05\\xaa(\\xa7\\t\\xcaC\\x19\\x8b\\x03w\\x0b\\xa1\\xb1\\t\\xc2\\x88\\x93\\x91M\\xa1X\\xb0\\x88\\x90J\\xa1\\xa1\\x10\\x07>\\x98\\n\\x86\\t\\x898s\\'\\x8f\\x88\\x08\\x00\\x08\\x88\\x18\\x00*\\n\\x88\\x91H\\t\\r\\xa3Kb$\\xf0\\x89\\x81\\x89\\x98\\x01\\x90h\\xc5\\x18\\x89\\x00\\x88)\\xb0\\t!q\\x0b\\x89\\x03\\x8b\\x82|C\\xad\\x81\\x90+!\\xb9\\x01Z\\x88\\xa5;w\\xc7\\x89\\x00\\x88\\x80\\x80\\x80\\x92\\t\\x92\\x18\\x99\\x00\\xc8\\x14\\t(\\x00\\x8b\\xf3\\n\\x85\\x89\\x00A\\xbb\\x86*\\x98<;\\n\\x95\\x18\\xb8\\x03\\x87\\r\\x80\\x11)\\x89\\xc9\\x950\\xa8\\x81\\xe2<\\xb80\\x19r\\xb4w\\x9b\\x89\\x18\\x00\\x18\\xa9\\x089\\x95\\x00\\xb3\\r\\x8a\\x93\\x07\\x9a\\x948\\r\\xa0\\x83+\\xc83\\xf1\\x18\\x08 \\x10\\x9e\\x10(\\x02\\x9fA\\xa2w3\\xed\\x08\\x08\\x80\\x00\\x89\\x91\\x08\\x81\\x10\\x88\\x8a\\xd21\\xa0;x\\x87\\x0c\\t4\\x9c\\x89\\x80\\x92\\x80\\x82\\n\\x82\\x88\\x0c\\xa8\\x11\\xb3\\x17\\xcaA\\n\\x18\\x9d\\x93\\x88\\x87\\x9b@\\xa2\\x8a\\x03Z\\x8a!\\x1f(\\x88\\xabB2\\x83\\xb4:\\xdf\\x00\\x00\\xb9\\x89x\\x08\\x81\\xe80\\x89\\x01w\\xd0\\x80\\x08\\x08\\t\\x00\\x19\\x18\\x81\\x0b\\x82\\xc5\\x89\\x993\\x97\\x88\\x0c\\x00\\xb1#\\xd8\\xb1A\\x00\\xeay\\x91\\x99\\x91\\x11\\x99\\x12\\x9a*\"/\\x08\\xc8\\x03\\x8cy\\xb8\\x11\\x81\\x1e0\\x18\\xc3:\\x9a\\xcaB\\x16z\\'\\x8e\\x88\\x90\\x10\\x88\\x02\\x98\\x90\\x89\\x81\\x18\\xa2\\x9c\\x00\\xe4:\\x82\\xb0!\\x9c\\x95\\x08\\xb48)\\xc0+8\\x1d\\x08!>\\x90\\x1c\\xe3\\x83\\xa9\\x11{\\x8cA\\t\\x89\\x00\\xb1=\\x88\\x13\\xb9y\\xb91\\x11\\x89w\\xc7\\x98\\x80\\x00\\x80\\x91\\t\\x91\\x18\\n\"\\x9c\\x11\\x08 \\x0f\\xd8\\x03\\t\\x18\\xa4\\t\\xb0h\\xc1\\x93+)\\x90\\xb3`\\xd0\\x1b\\x14\\xabA\\x0f\\x00\\x08\\xc0Q\\x08\\n\\x08\\x1a\\x03\\x90\\x9d5\\xd8\\x9a\\x13J,qG\\x9d\\x08\\x80\\x08\\x08\\xa8\\x11 \\xd5\\x88\\x18\\x99\\x11\\x90\\x88(\\n\\x93\\xd4\\xa02\\x1d\\x81\\x9bY\\x11\\r*\\xb5R\\xb2\\x9c\\x01\\x89\\xa1\\x98\\xa6\\x18\\x00\\xc3\\x18\\x82\\xba\\x13\\x1f2\\xfa\\n0),)\\x8a\\xbcw\\xb6\\x88\\x89\\x91 \\x98\\x98\\x00w\\xf4\\x08\\x08\\x80\\x08\\x88\\x00\\x08\\x90\\x81\\xa0(*\\xb81\\x00\\xd1\\x8a\\x87\\x89\\x08\\x1a\\x93\\x9b5\\xa8\\x88\\xb1\\xaf\\x84\\x03\\x0b\\x00\\xa2\\xdbr\\xba)\\xb3\\xd3\\xa1!Y\\x1d\\x00jw\\xba\\x80\\x00\\x89\\x80r\\xa5(\\xbb\\x89\\x01\\x88\\x88\\x81)\\xb8\"\\x89\\x90\\x88\\x8b1\\xf0!0\\xf1\\x1d\\x92,\\xa8\\x00Z\\x10\\xc1\\x02\\xb8\\x82\\x1e\\xe0\\x92\\x83\\t\\xd2\\x92\\xa9\\x04\\x00L\\x1a\\t\\x98-\\x00\\x11\\x7f\\xc4\\x1a\\x80\\x00\\x8a\\x81)\\xa1\\x12\\x0f \\x8c\\x82\\x19\\x81\\x9b\\x1e#\\x81\\x8e\\xb9\\x159\\xba\\x14\\xc9\\x930\\xe0\\x81\\x92\\xb2+J\\x8f@\\x1b\\x10\\xd9\\x82()\\xda\\x01\\x92\\xaf\\x07\\x99\\x10\\x89\\xa2\\n\\x84\\xb9\\x06\\x89\\xaa\\x01\\x99Y\\x192\\xc88K\\x9e\\x82\\xd00w\\xba\\x08\\x81\\x08\\x08\\x08\\xa8\\xd1\\x00\\x13\\x9cJ\\x00\\x02\\xd9\\xab#A\\xa1\\x8c,<\\x12\\x8f\\t\\x04\\x89\\x03\\xfa\\x10\\x98\\x08 \\xf38\\x88\\xac\\x86\\x99\\x11\\x89\\x80:\\xc3\\x00\\x80\\\\\\xa1:\\xf8\"\\xa8\\xa1\\x99\\x1d\\x03+\\xfa\\x11J\\xb9\\x00P\\x9d3\\xd9\\x90!\\r\\xa4\\x08\\xa3\\xaa\\x04\\x1d\\t\\x98j\\xb1\\x990\\x92\\xf9\\xb8D\\xa1\\xa9h\\x19,\\x1a\\x9c\":\\x80\\x9f!\\x00\\xc2\"\\x9e\\x91\\x0b\\x13\\x84.\\x90\\xd9\"\\xa9\\xa1)\\x92R\\xdb\\x91\\x94\\xa7\\n\\xb0\\x02\\x0f\\x008\\x11\\xc9pG\\x8f\\x80\\x80\\x80\\x80\\x08\\x80\\x00\\x89)\\x91\\x99\\xb5\\x11\\xa0\\x80\\x08(\\xb1\\x91\\xc4\\xeb3)=\\xb9\\x92\\xc4\\x89\\x02\\x02\\xa0<\\xf3\\x00\\xc3\\n\\x12\\xa4\\x1a\\xbd\\x13?\\x18\\t\\x93\\x8c\\x92\\xa31\\x9f8\\t\\xc8\\x12\\xb8\\x97\\xa5\\x8a\\x11\\x8aM\\x89P\\x0b\\x90\\xa0\\x14\\x1b\\xa6\\x88,\\x89A\\x12\\x0e\\x99\\x01 \\x08x\\x89\\x9cP\\x88K\\x80\\x19 \\xb0\\x0e=\\x08\\x02\\x8a\\xa0\\x01\\x97\\xc2\\x909\\xd0!;\\x9a\\xa7(\\x00-J\\xaa\\x97\\x199\\x99\\x188?\\x19j\\x80\\x1c\\x18*+\\x08\\xe4\\xb1\\x11\\xa4\\t(\\xb9\\x03k),\\xabq\\x98\\x8a\\x91\\xf4\\x83\\x11\\xb0\\xc8\\x87\\xb8\\x02\\x19\\xb0\\x85\\x89+\\x91\\x82\\x03L\\xc0\\xb3R\\xcc\\xa4\\x01\\x89`\\x99\\x01\\xe1\\x01\\x8a\\x80*\\x95!\\x12\\x8f\\x80;z\\x90\\xa1\\x19\\xa1I\\x88\\x03\\x9f\\x19\\xb1\\x06,\\xa1\\x90\\x12\\xc80\\xd8\\x03\\xb3Y\\xe0\\x90\\x96\\x90\\x00\\xa8\\x85\\x90\\x98\"\\xe2\\x08<\\x1b\\x00\\xd1\\x10\\x83\\xd5\\x08:\\x81\\xb8\\xa4\\x98\\xb71\\x08\\xac\\x83\\x80=\\x81\\xa2\\xe09\\x13\\x8f8\\x1a\\xa11 ?\\xa0.\\x91\\x01,*\\x119\\x1d,\\x10\\xbb\\xd9\\x97\\x01(\\xd3\\x1b \\x90\\xc9\\x94\\x80\\x11\\x98\\xa5\\xc3(\\x19p\\xda\\x01\\x93\\xc0I\\xa81\\xd01\\xf39\\n\\x88\\x91\\x13\\xeb\\xa9C\\x81\\xa1\\xb2\\xd9\\x92T\\x8b\\xa6\\xa8\\x82',\n",
       " b'\\x01\\xff\\xff\\xff\\xff\\x0e\\x08\\x08\\x08\\x08\\x08\\x08\\x08\\x08\\x88\\x00\\x08\\x19\\x08\\x80\\x08\\x90)\\xa1\\x00\\x19\\x10\\x9a\\x88!*\\xa8\\x80\\x97\\xa2\\x07\\x1d\\x08\\x987(\\x9f\\x08\\x88\\x00\\x19\\xd1!\\xa8\\x1a\\x02\\x92\\xd1\\x82\\x98\\r\\x80qG\\x0f\\x88\\x00\\x90\\x81\\x90\\x80\\x18\\x98G\\x98\\x90\\x8b\\x08\\x90(\\x00\\x8b\\xb1N\\t\\x03\\x0b\\x8a\\xa7)\\t\\x95\\x9b\\x80\\x91\\x18C+L\\x98\\tI\\r\\xa8\\x12|w\\x96\\xb9\\t\\x08\\x88\\x80\\x01\\x98\\x10\\n\\x01)\\n\\t\\x92\\xa1\\x84#\\xbf\\x10\\xa2J\\x00x\\x8d\\x80\\x10\\xa0\"\\xabp\\x98\\xb1J\\x019\\x8dIw\\x98\\x99\\x99\\x18\\x80\\x81\\xb0\\x03\\x19M\\x90\\xa2\\x1b8\\n\\x8e\\x88\\x17\\n\\x99\\xc8\\x14\\x982\\xca\\x88\\x83\\x12\\x0fJ\\x90=\\x80j\\xa8 \\x0c\\x01J\\xc0 \\xa0\\x11\\x1b\\xd5Y\\t\\x99\\x05\\x9a\\x81\\xb0\\xb3k\\x03.\\x08\\xa1\\x99\\x82\\tzK\\xa8\\x99\\x83\\x83i\\x98\\x89\\xa1q\\xb9\\x81\\x11/\\x01\\xb0\\t{\\x01\\xaa\\x83\\x9b\\x08\\x13*\\x87\\xadq\\x8b\\x00\\x86\\n\\x88\\x19\\x92\\x00z\\x8b\\x89\\x97\\x80 \\xb8\\x98X\\x89\\x13\\xe0\\t!\\n\\xa2\\xc8q1\\x8f(\\xa0\\x08\\x81\\x82\\xa9X\\x89H\\xd9\\xa02\\x88\\xb2?\\xa4\\x19\\x90yyG\\x8f\\x00\\x88\\x80\\x08\\x00\\x80\\x98\\x82\\x88\\x01\\x89\\t\\x938;\\x8a\\xb7H\\x0b\\x10\\xf0\\x12\\x89\\x10K;\\xa0A;\\x9d%\\x08\\xd0\\x102\\x8b\\xda\\x91\\x85\\xa7\\x98)\\x10\\x08\\x81e\\x8d\\x80\\x18\\t\\xa02*\\xc9\\x14\\x99\\x85\\x18\\xc0<\\xb88\\x93\\x10\\xe22\\x8a\\xb7)\\x18A\\xad\\x84\\xc1#\\xc1\\x99\\x11\\x97\\x1b\\x92\\t\\x98\\x85)\\xa0(\\x107\\x17\\x8f\\x88(\\t\\x10\\x18\\xa0\\x98\\x80\\x87\\x1a\\x89\\x81\\x14\\xa8*\\xf48\\x08\\x80\\xa9\\x01y\\x19\\x19\\x12\\x98\\xf2\\xa8\\x11\\x00\\x04\\x89\\\\)8\\xd0qw\\xab\\x08\\x18\\x18\\x80\\x89\\x10\\x8a\\x81\\x08(\\xb2:\\xb2\\xb8\\x04\\xb9\\x16\\xd2\\x82\\xb1/\\xa4\\x8a)\\x10\\xb6\\t\\xb2#;-2\\xa9/\\x91\\x83.\\x11\\xd1I\\x88\\x80\\x88\\x94\\x99\\x1f\\x13\\x90\\x88c\\x99\\xb0\\x1a\\x03\\x0b\\x958\\xc3\\x04w\\x9c\\x10\\x99\\x11\\x08\\x99\\xb2x\\n\\x00\\t\\x98\\x03\\xb5\\x1b\\x05\\x908\\t\\xaa\\xc9C\\xb0\\x04\\xbd\\x85\\x12\\x8bQ\\xb1\\xd0\\x83\\x94(\\x0b\\xca\\x13!\\x0f\\xa2\\xd1A\\x08\\x05s\\xc6\\x98\\x88\\x08\\x90\\x18\\x90\\x00\\x88\\x01\\x01\\x88\\x82\\xe8\\xa0A\\x81\\xb4\\x00\\x11\\x9b\\xe8\\xb4\\x02<8\\x1f\\x82.\\x91 \\x83\\x1c\\x1b\\xca\\x17\\x99!\\t\\x8b\\x91\\x81\\rA\\xf3\\x10H\\x17\\x0f\\x80\\x80\\x90\\x81\\x08\\x88:\\x10H\\x9a9\\xd1\\x82)\\x10zw\\xab\\x08\\x88\\x80\\x10\\x88\\x19\\x91\\xa2z\\xa8\\t\\xc3\\x02+\\x91\\xba\\x17\\x89\\x13\\x9d\\x819\\xa3\\x1c89\\x95\\xb9vg\\x8d\\x08\\x80\\x90\\x81\\x00\\x08\\t\\x98\\x19\\x10\\x99\\x18\\xc1p\\x88\\x90%a\\xb9\\x81\\xab\\x19p\\x97\\x0c\\x88\\x00\\x88(\\xa0\\x08\\x00\\x00\\n\\x02E\\xba\\x08\\x90=\\xb9J\\xb1)\\x05\\xa9\\x82\\x14\\xd9\\x80 \\xc0{\\xa91\\x80R\\xad\\xb3\\x19\\xd2\\x11\\xc0\\x90\\x04\\x11\\x1a\\x91\\x98\\xc3!\\xb9?\\x86\\x99\\x91\\x10\\xd21\\xf9(:\\x02\\xb9\\x08\\x90\\x12k<\\r2\\r\\x990\\xc0\\xa0\\x01w\\x1b\\x90\\x98(\\xa3\\x08\\xe0i2\\xca*\\x999\\x00\\xc2\\x9c0\\x11H\\x90\\t\\xaf\\x01;\\x15\\x1b\\x91\\xb8\\x8f0\\xb3\\x00\\x1a!\\x8d\\x97\\xa8\\x00\\x02\\x9e\\x11\\x82\\xbaD\\xc8\\x13(\\xa9\\x10\\x96\\x8b\\xf1h\\x80\\x1aU\\x11\\x11\\xbcw\\x12\\x02\\x89!\\x00\\x1d\\x17\\x08\\xb8\\x80\\xea#\\xea\\t\\x98\\x91\\xac\\x88\\x88\\x00\\t\\x88\\x82\\x993\\xad \\xa8\\x08\\x18\"\\x10\\xf1,\\x01\\x90*\\xb3Y\\x8a\\xb2\\xf4\\x1b\\x11$9\\xf0\\x90\\xa10a\\x98\\xba\\xb4\\x90\\x02\\x1c\\xba\\xb3#q\\x0e\\x89h\\x89\\x82\\x99w\\x07\\x02\\xdc\\x08\\x88\\x80\\x00\\x08\\x80\\x88\\x00\\x18j\\xc2\\x88\\x88\\x81\\x80\\x00$l\\xe1\\x88\\x80\\x08\\x01\\t\\x19\\x88\\x19(\\x98)\\x90\\xb3\\xc8\\x94\\xd0\\x18\\x13\\x88\\'\\xaf\\x02\\x10\\x9bB\\x07\\xac\\x10\\x08\\x90\\x19w\\xf1\\x08\\x80\\x80\\x88\\x01\\x08\\x08Y7\\x05\\xad\\x89\\x80\\x08\\x80\\x08\\x90\\x00\\x80A\\xe2\\x88\\x80\\x01\\x08\\x08\\n*\\x90b\\x98\\xa8\\x1a\\x891\\x9f\\x18\\x95\\x18\\x983\\x8f\\x00\\t\\x88\\t8\\x919\\xd1 0\\xe7\\x08\\x00\\x9aC\\t\\x9c2\\xc9\\xb2\\x12\\xf4(\\x189\\xb1\\x91\\xba\\x95\\x8d\\x94\\xc1h\\x18+\\xb8\\x92[\\x90\\x02\\x9d\\x99q\\x888\\xe0\\x19\\x13\\x89\\x89\"\\xfb3\\x8b\\xb2\\x87\\x00\\xba\\x98H\\x1eG\\x8c\\x88\\x88\\x11\\x98\\x02\\x18y\\x97\\x0b\\x1a\\x80\\x88\\x08\\x08\\xb0\\x93:\\xba1\\x87\\x84\\x8c8\\x8bxi\\x97\\n\\x89\\x98\\x18\\x02\\x9b\\x00\\x81\\x00\\xb2\\x0c\\x80\\x91\\x811\\x1e\\x87\\xba\\x00*A\\x90\\tr\\xd1p\\xc7\\x90r\\xa4\\x8b\\x98\\x88\\x00\\x80\\x00\\t\\x801\\x9d\\x10\\x8a\\x02\\x90\\xb01\\xf2\\x01\\x1d\\x019\\xb0!\\x0e1\\x99(\\r\\x91\\xa1\\x80\\x8d\\x93\\x04\\x98\\xb0\\x94\\xa0\\x06\\x0c\\x10\\x1b!p+\\xbbH*\\xc2\\xc4\\x81Q2\\x8f\\xa9\\x12\\x8a\\x801,\\xca\\x92\\x94a\\xb9\\x01\\x13\\xbd*0\\xb0\\x93w\\xa8+\\n \\x89\\x13`w\\x8e\\x00\\x08\\x88\\x18\\x18\\x98\\x19\\x81(\\xa8\\x18\\x00\\x90\\x08\\n$\\xcc\\x04)\\x0b\\xb8\\xa7\\x10D\\xaak\\xa7\\x88\\xa8\\x92)\\x00n\\x08\\n\\x80\\x01(J*.\\x19\\xa1\\xe3\\xa3\\x82X\\x0bh\\x88\\xb2 \\x90\"x-)r\\xc0\\x17\\xb0S\\x02\\x82S\\x01\\t\\xb8\\x98\\x15\\x89!\\x00\\xa8I\\xc8\\xce\\xac\\x90\\x9c\\n\\xa0\\xb9\\xa0\\x80\\x08>+\\x99\\xb1\\x88\\x91\\x10+]\\x8b\\x88\\xd1\\xe4\\x01\\x888\\n\\x1a\\x08\\xd3\\xa1\\x84\\x18w\\xba\\x80\\'\\x8e\\x80\\x80\\x08\\x80\\x08\\x80\\x88\\x81\\x80\\x19\\x1b\\x009\\x0c\\xb1\\xf2$)\\x8b\\x9a\\x12\\xc4\\x0b\\'\\xcb\\x82\\x00\\x98:\\ta\\x89r\\x97\\x88\\x1cw\\xc9\\x00\\x88\\x80\\x08\\x88\\x80\\x10\\x90\\x00\\t\\x19\\x89p\\xb5\\n\\x80\\x08(\\t\\x18\\x19Q%\\xa0sw\\xc3\\x9b\\x08\\x80\\x89\\x08\\x90\\x08\\x80\\x08\\x18\\xa8\\x00\\x08R\\xc0\\x19\\xa0\\x99: !\\x0c\\x9f\\x92\\x04\\n9\\xb9\\x93\\xa2\\x81h\\xd0\\x1aa\\xe2\\x08\\x81\\x9009w\\xf4\\x88\\x00p\\x94\\x8d\\x80\\x00\\x00\\x08R\\x05\\xbb\\x99\\x01\\x9a(\\x81\\x03{G\\xd9\\x89\\x00\\x88\\x88\\x80\\x80\\x88\\x00\\x88A\\x18\"#9\\t\\xef7\\xc9\\x88\\x02\\t\\x19\\x1a\\xb9\\x9c\\x08\\x80(QP\\x07\\x8c\\x90\\x81\\x8c\\x08B\\xb9\\x11\\x16\\x9b\\x9a\\x88p\\x02\\x98\\x9a\\x19w\\xe0\\x18\\x90\\x01\\x98\\x89\\x08\\x08\\x08\\x08\\x90\\x00\\x81\\x07\\x9b\\x181w\\xb8\\x9a\\x80\\x18\\x80\\x08\\x89\\x08\\x00\\t\\xa0 \\x08\\xd1\\x11\\x81\\x1b\\x99\\t\\x87 vW\\xda\\x90\\x00\\x08\\x08\\x08\\x88\\x00\\t\\x88\\x81\\x90\\x81\\x00\\t9\\x82\\x02\\x97\\x19r9\\x13\\xce\\x18xU\\xc8\\x99\\x08\\x10\\x19\\x90\\x98*\\xa0\\x89\\x00\\x90\\x90\\x02\\xa1\\n\\xbap\\xd1\\x03\\x88Ww\\xb8\\x88\\x99@\\x93\\x8e\\x00\\x90\\x80\\x08\\t\\x08\\x88\\x00\\x18\\x00\\x10\\xc8\\x8a1\\x80\\xab\\x96\\x80\\x8b\\x84\\t=\\x80\\x13\\x19\\xc7\\x94\\x8b\\x000\\xd7\\x80\\x88\\x82;\\x89:\\xc5x\\x97\\x0c\\x08\\x80\\x08\\x08\\x00\\t)\\x98\\xa2\\x10+\\xd0q\\xa7\\x1a)Hw\\x80 \\xa8)\\xa1\\x08\\x98!\\x91\\x9c\\xa00\\xa0\\xaf\\x04$\\x80\\xfd\\x9c\\x80\\x80\\x80\\x11\\xa8\\x08\\x00\\x88\\x08\\x08\\x80(\\x89\\xb2\\x80q7\\xc2[\\x17\\x86\\r\\x89\\x08\\x00\\xa8\\x08\\x90\\x18\\xa1\\x08g\\xaa\\x88\\x80\\x80\\x08\\x00\\x80\\x89\\t\\x80\\x90\\x18!\\x87Yw\\xf2\\x88\\x80\\x08\\x08\\x08\\x10\\x98\\x03\\x8bI\\x90q7\\xae\\x80\\x80\\x80\\x00\\t\\x80\\x88\\x80\\x80\\x88\\x10\\x88\\x1a\\x80\\x19\\x12\\x88\\xba4\\x99\\xa8\\x05\\x0cv\\x07\\x0e\\x88\\x80\\x00\\x89\\x81\\x08\\x90\\x11\\xa8\\x19\\x91\\x13\\xa9\\xd1\\xa2\\x92\\xf1s\\x91\\x88\\xaa\\x99\\x03\\x92\\x01\\x19m\\xa9(:yHD\\t\\xbdw\\xa4\\r\\x00\\x00\\x13\\xbb\\xb9\\x08\\x88\\x00\\x00\\x08\\x00\\x89\\x080rw\\xa3\\x8d\\x99\\x80\\x80\\x08\\x80\\x81\\x00y\\xb4\\x8b\\x80\\x90\\x00\\x01\\x19\\x88\\xa0\\x18\\xa0\\x88\\x85\\x80\\xb2:\\x02w\\x9d\\x01\\x89\\x00\\x1a\\x03\\x8c\\x88\\xb3\\x80\\xe11I\\xa0\\xb1\\n\\x10\\xa2?\\xa0\\x86\\xa2k\\n\\xa2\\t\\xc0\\x11\\t\\xb0\\xa4y\\x80\\x98\\xc3\\x18\\x03\\xd80\\xc2\\nX\\x1avw\\xa1\\xaa\\n\\x88\\x81\\x08\\x08\\x08\\x88\\x08\\xc4\\x00\\x919\\x9a\\xa1\\x80)\\xa2\\xc3\\x10v\\x96\\xa9\\xb0\\x108\\xc3\\x1a\\xb1\\xa8a\\xa0\\xa8\\x88\\xb0\\x17u\\xc7\\t0\\x91(\\xe9\\tU\\x90\\x81\\xbc\\x88\\x80\\x80\\x80\\x80\\x08\\x08\\x81\\x98(\\x93\\x1a\\xaa\\xa5I\\x9as\\xb8\\x98\\x10\\x02\\x03\\xab\\x92\\x8a\\x92\\xf3\\x998\\x1a\\x03\\x0f\\xd1\\x12m\\x90\\x98\\x11\\x8e\\x83\\x18(\\x898w\\xf2\\xa2\\x89\\x08\\x00\\x80\\x00\\x898\\x94\\x05`\\x11c\\x90\\xa5\\t\\x08\\n\\x01\\x1c\\x07*\\xfb\\x90\\n\\x90\\x81\\x0b\\x19\\x02\\xb9\\x081\\xba\\x00\\x10\\xf9\\x81\\x00\\x99!{\\x91\\x1b\\xc3L\\xc1\\x81\\t\\x91\\x82!\\t\\xbc7\\xd9\\x912\\xbc\\x82)D\\x8f\\x10\\x08\\x18\\x98\\xf0\\x15yw\\x00\\x88\\xbc\\x08\\x08\\x08\\x08\\x08\\x083\\xad\\x88\\x00\\x00\\x90\\x08\\x01\\x98\\x01\\x18\\xd4\\xb11\\x03+\\xad\\x82\\x10\\x90\\xdb\\x19\"\\x8b\\x87*\\x82\\x0f\\x99s\\xb0\\x10!w2\\xf9\\x0b\\x88\\x08\\x00\\x88\\x00\\x18\\x99\\x00\\xb1 \\x98S\\xf9!\\x91\\xa9\\x13*\\xa0\\xd1I\\x1d\\xb02\\xb21\\xaf\\xa4\\x80\\x19\\x82\\x1d\\xc2B\\xca\\xc3\\x10\\x83\\xbb(\\xa7\\x12{\\xd7\\x00\\x08\\x88\\x81\\x00\\x89\\t\\xb2\\x02 \\n\\x06sw\\x05\\xb0\\x9e\\x80\\x80\\x80\\x00\\x91\\x08\\t\\x08\\x80\\x90\\x91\\x88\\x94\\t\\x91\\xa6\\x89\\x10\\x99\\x92\\x19(\\xb4\\x8e\\x91P(\\x98\\t\\x18\\x1c\\x91\\xb2q\\x99\\x80M\\x88\\x89<!Hs\\xc7\\x89\\x98\\x90\\x03\\x80\\x8a \\t\\x81\\xa8\\x91%\\x8bQ\\x1f!\\xa8\\xa0\\n\\xdb\\x95()<\\x11\\xe21\\r\\x91\\x1a\\x96\\n\\x00\\x18\\x91\\xf1\\x08 \\x05\\x8c\\x00)\\xb8\\tB\\x8d\\th\\xb2\\x992\\x87\\r\\x00w\\xab\\x80\\x18\\x08\\x98\\x10\\t\\x11\\x8a\\x18*\\xc8;YI\\x98\\x0c\\xa3\\x83L\\x91\\x10\\xb87\\xdb\\x08R\\xd1\\x98\\x10\\x91\\x89\\x02\\x1e\\x90\\x18\\x1a\"K\\xa8\\xc4\\x19\\xa1A\\x98i\\x89\\xb1\\x80\\x10`\\xb3\\xbb\\x02\\x88\\x07\\xb00\\xf22\\xb0C\\x19,\\x06\\x9f\\x19\\x98I\\xe8\\x11\\x00\\x90\\xb1\\xa1\\\\\\xb0\\x94\\x08\\xa1#\\x1f\\x18(\\xa9\\x80U\\xa7\\xab\\x80\\x92\\x10\\n\\t\\x82[w\\x97\\x8c\\x00\\x88\\x00\\x08\\t\\x00\\x98\\x19\\x08\\x91\\x81\\x04\\x8d\\x88\\x93\\x18-\\xa3\\x0c\\x82\\x19\\x95\\x8d\\x04\\x88\\x01\\x9a\\xa9\\x06 :\\x0f\\xb0\\x81\\xa1p\\x92w\\xf5\\x00\\x89\\x00\\x08\\x08\\x08\\x80\\x91\\x08\\x88\\x01\\x00\\x00\\x9a\\x1a\\x1a\\x180\\x80\\xf2\\x10\\xa8\\xa2\"\\xe28\\x96z\\x87\\x8d\\x81\\x98\\x101\\xb3\\xf8\\t\\x80\\x92\\x88\\x94\\n\\x13\\xc9*8\\xa1\\x07\\x0c\\x89\\x11\\x90\\xa2w\\x88\\x8a\\xb0\\xa1\\x10\\x92\\x88\\xa13\\x9c@\\t{\\x88wW\\x98\\xba\\x08\\x08\\x00\\x00\\x01w\\x93\\x8f\\x08\\x88\\x80\\x00\\x98\\x08\\x08\\x08\\x88\\x88\\x90\\x81\\x90\\x19\\x00\\x80\\xa8\\xe3\\x92\\x11\\xa1\\xb1\\x84\\x98\\x8cI\\x19(\\r\\x00\\x11r\\x9b\\x9c\\x13\\x0b\\x82z\\xc1\\x08\\x88\\t\\x04J\\xb0\\xd33\\xe2\\x03({\\x97\\x8a\\x99\\x08\\x08)\\x98s7\\x8f\\t\\x80\\x08\\x08\\x80\\x00\\x08\\x88\\xb0\\x19\\x84\\x92\\x8b \\xb1\\x0fz\\n\\x10\\x02\\x8a\\xb19\\x91\\xc3a\\xf1\"\\x99\\x0b#\\x19\\xa9\\x89{\\xd0\\x10\\x89\\xd2<A\\x1a\\xc9\\x11\\x18\\xa6\\xb1\\xa1(\\x90\\xc4\\xa2\\x81u\\xf4\\x08\\x80!g(\\xb0\\x8f\\x08\\x08\\x08\\x08H\\x90\\x08\\xa8\\x8a\\x80\\x81\\x81\\t\\xb1\\x12\\x9a\\xb2\\x84\\x8b4\\x9b\\x19\\x1e\\x940\\x1f\\x81\\x81[\\x81\\xab(\\x89!\\xc1\\xf9\\x181\\xca\\x84\\xa0b\\x1a\\xb9\\x19\"\\x17\\xb8\\x99\\x18\\xd50\\x99\\x89\\x19\\x94\\x90\\xa1x\\x90\\xc2\\xe0 \\x91\\x91L\\x18\\xa8\\x949\\xf8\\x10(w\\x84\\xb8\\x9c\\x80\\x80\\x80\\x08\\x90\\x00\\x912\\xb9Q\\xa2\\xcb\\xb0\"\\xc8\\x10\\x982\\xed#\\x18\\xe0\\x11\\xb3,\\x83\\xb9\\x98\\x16\\x9b\\xa3\\x02\\x7f\\x97\\x99\\t\\x80\\x00\\x08\\x90\\x92\\x1b\\x02\\x8aP\\x9a\\x8b\\x87\\x08 \\x06\\xdb(\\x00\\xa2\\x10-\\xc9,\\x05\\x90+\\x88\\x83\\n\\x11\\x1a\\x84\\x0f\\x19B\\x0b\\x0c\\x80\\xf0@\\xb8H\\t\\x83\\x1ay\\x9b\\x81\\x1c\\x92z\\x02\\xb4\\x8aY\\x80\\x8b\\x19\\nX\\xd0\\x00\\x19(\\x00-\\x18\\x0f\\x009\\xa0i\\x998\\x91\\x9f3+\\xc91\\x0b\\x06\\x1d\\t\\x80\\x03\\x88\\x9b\\x17\\x9c\\xb2(\\xa4*I\\x87\\x0b\\x99)\\x94\\x817\\x0f\\x80\\x89\\x88\\x02\\xa9\\x10\\x02\\x1b2\\x0f\\xa8\\x11\\xc1\\x02\\x1b9\\x99#z\\xaa\\xf3\\x9a2*$\\x18\\xf1;3\\xeb\\x18+r\\xa1\\x1d\\t\\x98\\x00\\x18\\x92\\xcb\\x95R\\xa8\\xb8\\x181\\xc9q\\x97\\x8b\\x91\\x18\\xb29\\x00 7qq \\x10(\\xb8\\xe3\\xb1\\xa0\\x033\\x13\\xa8\\xfb\\xbc\\xaa\\x9c\\x89\\x07\\x9d\\x80\\x90\\x08\\xa2\\x80\\x01\\x89\\x88)\\x04\\x18-\\x19\\x93\\xf8A\\x9a\\x02\\x88\\x1f\\x10\\x80\\n\\xda\\x12\\xb1Z\\x00\\n\\x113\\'\\x8f\\x8a\\x12q\\xb8\\n\\x98\\x01\\x18\\xb4*\\x89\\x10\\xe2 \\x18\\x8d)Q\\xc3\\xa0\\x81\\x04\\x8atw\\x86\\xaa\\x8a\\x08\\x88\\x80\\x10\\x98\\x80\\x18\\x00\\x89\\x91\\x88\\x92\\x12)>\\x16\\xad\\x81*\\x19\\x08\\x02\\xe0 \\x89y\\xd4\\x18\\x95\\x0b\\x80\\x00($\\xf8\\x89\\x81\\t\\x00\\x18\\x0c\\x80\\x01@\\xab\\xb48\\xb0\\xc0\\x12\\x8bB\\x91;\\xf0g\\xb9\\x08\\x88\\x00\\x81 \\xba\\x10\\x95=\\xbas\\'\\xbc\\x80\\x80\\x80\\x01\\x90\\xb9!\\x02\\x98\\x99\\x1aw\\xb7\\t\\x80\\x88\\x90\\x88\\xa3I\\xb0\\x19:\\x92\\x9cV\\x91\\x9b\\x80\\x91\\x90*\\x94[\\x88\\x92\\x84\\xac\\x91w\\x9c\\x91\\x80\\x00)\\x1a\\xa84hw\\xd8\\x88\\x80\\x00\\x88\\x80\\x81\\x08)\\x88v\\'\\x88\\xc8\\x8c\\x00\\x10\\x17\\x90\\xac\\x80\\x08\\x88\\x00\\x08\\x08\\x08\\x08\\x88\\x00\\x88\\x08\\x82\\n\\x1a\\x83\\xa9H[\\x90\\n\\x82\\x8a$?\\xb8\\x93\\x1f8\\x1eB\\x99\\x9a9\\xb0\\x13x\\xa1\\x8c\\x91\\n\\xa0\\x07\\x88\\x80\\x90\\x18\\x19\\xb93\\xf6)w\\xd1\\x98\\x00\\x00\\x90\\x02\\x80\\x05\\x90\\x18\\x812\\xa6h\\x01\\xa9 \\x01\\x91\\xa93\\x80\\xdf#\\xb8\\x9c\\x10\\xab,\\xb5\\x9a\\x80\\xea(\\xc8\\n\\xb0\\t*\\x01\\xfa\\x08A\\x93\\x9b\\x08\\r\\xa5\\x88\\xa8r\\xa9\\x08\\x01\\x00\\x07\\r9\\xb8\\x98\\x03\\x19\\xa0Lp\\xc1\\t\\x911\\xa0pw0\\xf9\\x89\\x08\\x08\\x80\\x08\\x18\\x08\\x80\\x88\\x91\\xa8\"+\\x88!qw\\xd7\\x08\\x88\\x00\\t\\x80\\x08\\x08\\x88\\x00\\x00\\x98\\x18\\x11\\x81\\x0c\\x10w\\xd5)\\xa0\\x88\\x08\\x08\\x88\\x81\\x88\\x08\\x00\\xb3\\t\\x930\\xcb\\x82\\x9ab\\xaa\\xc3@\\x19-\\x1a\\x80\\x19_\\x080\\xc8P7\\x91\\x92x\\'\\xbc\\x88\\x10\\xb8\\n\\x08\\x08\\x19\\t\\x00\\x19\\x98\\x82\\x00\\x0c\\x81\\x92\\x1d\\x993w\\xba\\x88\\x80(\\x92+\\x88\\x18\\x99Kh\\xb0\\x88:p\\xa0\\x00 yg\\x8e\\x10\\x90\\x89\\x18\\x08\\x90\\x80\\x00\\x00\\xc3\\xaa7\\x1c\\x89\\x801w\\x84\\x98\\x88U\\xa1\\xab\\x08\\x92\\x01\\xcf\\x88\\x80\\x80\\x00\\x08\\x08(\\xd3\\x08\\x80\\x08\\x11\\xac\\x92\\x02\\x88\\x08\\xa8K\\xa4\\t\\xd2\\x91\\x14\\t\\x1d\\x18\\n\\xa3\\x19\\x01\\xb23r\\xe5\\x80qE4\\'\\xdb\\x98\\x89\\t\\x81\\xa0\\x882w\\xe0\\x88\\x00\\x81\\x89\\x08\\x88\\x00\\x88\\x08\\x19\\x80\\x01r\\xaa\\t\\x08\\x98\\x81\\x02\\n\\xa0\\x01\\xb1\\xa07w\\x9c\\x08\\x08\\x91\\x80\\x08\\x10\\x88p\\xd4\\x08\\x89\\x01\\x90\\x00\\x88\\x02\\x899\\r\\x98b\\xa2w\\x04\\x88p\\x84\\x8d\\x08\\x08\\xa9\\n\\x90\\x18\\x19\\x00\\t\\x88\\x80t\\xb7\\x89\\x08\\x00\\x19\\x18\\x08\\x00q7\\x19\\x89A\\x17\\xba\\x9a\\x01\\x18\\xca\\x0e\\t\\x08\\x88\\x80\\x88\\x81\\x88\\x80\\x19\\xb1\\x08\\x88\\xb2@\\x02\\xbb\\xfa1\\xa8\\x01\\'\\x1ag\\x04\\x13\\xa3\\x80\\x92\\x91\\xa3\\xc5\\x08\\xa2\\xd9B\\x0b\\x00\\x04\\x1d\\xb2\\x83\\xbd\\xec\\x0c\\x8a\\x90\\t\\x88\\x01\\x08\\x1a%\\xa0\\x9c\\xa8\\x10\\t)\\x90\\xaa\\x10\\x87\\x81\\x1cw\\x19$\"\\x89\\x901\\x8d\\x91\\x1b{\\x91\\x00Z\\xb0\\x18[\\x88!\\x0c\\xf0\\x9e\\x89\\x90\\x00\\x08\\x08 \\x05\\x9e\\x80\\x80\\x00\\x91\\x08\\x92\\x18\\xa0\\x90\\x08\\x80\\x1c\\x07\\xca\\x11\\x1aw\\xc7\\x88\\x80\\x80\\x08\\x08\\x00\\t\\x10W\\x9c\\x08\\x08\\x88\\x08\\x00\\x86\\x0b\\x88\\x08\\x90\\x00r\\xf3\\x08\\x88\\x00\\x88\\x88\\x81\\x88\\x02(\\xc7\\x08\\x90q\\xc5\\x89\\x80\\x00\\x88\\x90\\x18\\x80\\x18\\x10\\xa90\\x9a\\x12\\x8d\\xb2z\\x98\\x80\\x18\\x02\\x8c\\x80A\\xd49w\\xba\\x80\\x08\\x18\\x88\\x80;\\xd0\\x81\\xa1\\x12\\xb3\\x86w\\'\\xb8\\x9d\\x00\\x88\\x04\\x88\\xb8x\\xb0\\x88\\x08\\x80\\x18Di\\xf8\\x08\\x08\\x80\\x80\\x80\\x00\\t\\x88\\x00\\x08\\x88\\x11\\x99\\x08\\x10\\x08:\\xa8\\x92\\xa0L);\\x98\\xfb\\x17\\xb88x\\x8b\\x19q\\xc0\\t\\x88\\x01\\x80\\x08\\x81\\x000w\\x07\\x18\\xbc\\x98\\x08\\x80\\x08\\x08\\x11\\x80z\\x07\\x8c\\t\\x08\\x08\\x19\\x80\\x19\\x81\\xa0\\x10J\\x88\\x91\\xb9\\x14\\x99\\x08\\xa02\\xaa\\x9f\\'\\xb0\\x9a8\\xdaew\\xe1\\x08\\x88\\x80\\x80\\x08\\x08\\x80\\x88\\x81\\x90(\\x98\\xb2w\\xa9\\x08\\x18\\xa0\\x89\\x80\\x08\\x10\\n\\x12\\xa4w\\xf2\\x88\\x01\\x98\\x08\\x08\\x88\\x80\\x18\\x199\\xaa\\x80!\\xa2\\x91ww\\xb8\\x18\\x9a\\x88\\t\\x00\\x81\\x88\\x01\\x0c #\\xac\\xa00\\x89\\x1c\\x92\\xbar\\x19\\t\\x05\\x98\\xc4\\x19\\x9a*\\x189w\\xc8\\x00\\xa8\\x02\\x19y\\'\\x8e\\t\\x80\\x08\\x80\\x00\\x98\\x00 \\x8a\\xb8A\\t\\x08H\\xd3\\xa8)\\xb8\\x05\\xc8\\x844\\x1f\\x08\\xa1\\x89\\x18\\x19)\"\\xaf\\x83\\x80\\x90\\xa3Z\\xda\\x11\\x90\\xf3\\x11\\x889\\x81\\x02\\xb5\\x0f8\\x80\\x8b`\\xa0\\x81x\\x97\\x8b\\xa0\\x18\\x80\\x19\\x19\\x89)\\x17\\x89\\x0b\\x11\\x9b\\x80=\\xa81\\x18\\x1d\\x94XJ\\xc0\\x89$\\xd9(\\x91\\x1d\\x02\\x02\\xd2\\x19\\xf2\\x19\\x97\\x08\\x99\\x88\\x82X\\x89,\\x81\\xa8H\\xa9\\x01p\\xb5\\x19\\x08\\t\\x18w\\x9c\\x81&\\xbb\\x88\\x00\\x80)\\x99\\x01*\\xb2\\x1c\\x08\\x00\\x08\\x98p\\xa88\\x9d\\x01!\\xd1x\\xa8)\\x84\\xa9\\x18\\x88\\x12\\xabz\\xbb\\x12\\xb8l\\t\\x880\\xb0h \\x1a\\x8a(.\\xb88\\xd3\\x86\\x8aN(\\xb7\\x19\\x88(\\xb9X\\x98\\x880\\x98\\x0c2\\xb83\\x0f\\x91\\x11[\\xa9\\x8ar\\x00\\x14\\x9d\\x91\\xb8:`\\xc8\\x08\\x1a\\x02\\n5\\x9d\\x12\\xb0\\x1bw\\xba\\x80\\x00\\x91\\x01\\x89\\xa1\\x18\\xb0t\\x98\\x8a8\\xe0\\x10\\x80u\\xa9\\x89\\x80\\t\\t\\x11\\xa0+\\x94B\\xb2\\x8f\\x080pw\\x06\\x08\\xc9\\x8b\\x08\\x00\\x00\\x99\\x00\\x88\\x80\\x00\\x00\\x98\\x94+\\x01\\x90\\x9c\\x83\\x83\\x1d\\x82\\xc0H\\t\\xa1\\xa3\\xcc\\x93C\\xcc4\\x0c\\x10\\xb0(\\x94IW\\x8f\\x00\\x08\\x00\\x88\\x19\\x01\\x91\\x882 `\\x112&SDE\\xa2\\xbc\\x9a\\x99\\x9a\\x98\\xa8\\n\\x98\\x8a\\xf0!\\x89\\x08\\xc1\\x88\\x19\\x9bX\\x83M\\x80p\\xbb \\xa0\\x03\\x99\\x9f\\x03\\x98X\\xc8H\\xa9\\x98Q\\x89\\x18\\x9b\\x11\\x1f\\x90\\x96\\x91\\x08\\x91\\xb9B\\x98i\\xa1\\x01\\xe9\\x10\\x809Hw\\x9c\\x88\\x18\\x80(\\xb1*\\x19\\x10\\x9a\\x88A\\xaa\\xb4)\\x07\\xab\\x11M\\xb0D\\xc9\\x10\\xa0@\\x0c\\xb0\\x1a\\xb3$\\x83s,w\\x8c\\x88\\x00\\x88\\x00\\x98\\x80\\x08H\\x89\\x18\\t\\x00\\xa0X\\xd1*\\x00sw8\\x00\\xc0\\x9f\\x80\\x00\\x08\\x80\\x88\\x81\\x00\\x98\\x89\\x81 \\x80\\t\\xaa\\xb11\\x06\\xb0w\\xf0\\x00\\x88\\x08\\x19\\x08\\x90\\x81\\x81\\x08\\tx\\xa7\\x8a\\x88\\x92\\x80(\\x80\\x08\\xd00\\x0b\\xba!\\x01\\x02\\x85\\xb9\\x97)\\xa1\\x9d\\x07\\x8a\\x1aA\\xc8\\x11\\x10\\xe0\\x90\\x80\\x12\\x18w\\xe0\\x90\\x10\\t\\x80\\x89\\x12\\x89\\t\\x03\\xc1\\x80\\x84\\x89@\\xb0!\\x90\\xff\\x81\\x107\\xad\\x00\\x80\\x88\\x82\\t\\x02\\xad\\x11\\x82\\x10\\x08\\xb0\\x98K\\x17\\xaaK\\xa8\\x82\\x8c\\x00\\n\\x82\\x88w\\xb2\\x8a\\x80\\xa99\\x10.\\x99\\x13\\x0b\\x927\\xafP\\x90\\x11\\x88\\x89\\xb3\\x86\\x91\\x88\\xbc\"\\xa9\\x01\\xdb\\x06i\\x87\\x8c\\x90\\x08\\x08\\x10\\x08\\xa8\\x11\\x888\\xe8\\x04\\x11\\xcc\\x19(\\x00\\x11\\x14\\x8c)\\xa8`\\xa1\\xe8\\x90\\x93\\x89\\x94\\x1b\\x19\\xd5 \\xa9\\x12\\xb85\\x85\\x80\\xaf\\x15\\x18\\x89\\x00\\x89\\x15\\xabB\\xabA\\xa82\\xab\\xa2u\\xd9\\xa9\\x18\\x98\\x92\\x8a\\x13>\\xa1)\\xe1\\x10<\\x88@\\xf08\\x00\\x88:\\xbay\\x92\\x88\\x92\\xac1\\xb0k\\xa3\\xa8\\x91,\\x04\\x83X\\xa2\\x89\\x88\\xf2\\xc1\\xa0\\x07\\x98\\x80\\xa2\\xc3\\x1aw\\x07\\x8d\\x00\\x08\\x08\\x98\\x06\\x0c\\x00\\x89\\x08\\xa2\\x18\\t\\x93\\x8c\\x08\\x18\\x03\\x9c\\x11\\x1c\\xc8!\\x98&\\xb9([\\x907(\\xf1\\x90\\x19\\t\\x9a\\x00\\x92\\x06\\x9a\\xda\\x82\\x00\\x02\\x13\\xeb(\\x19\\xe9\\x83\\xd2 \\xa1(\\x82\\xd0\\xa1\\xa1\\x1d\\x99t\\xd5\\x80\\t\\x08\\x80\\x08\\xa2\\x91\\x11\\xb0\\xc1\\xa3\\xb2R\\x81\\xda\\xa4\\x89\\xc4s\\xd2\\x03\\x0c\\x80\\x82\\x88\\x98z\\x06\\xcb\\x81\\x88\\x10\\x89\\x18\\xa8\\x08\\x01\\x83*\\xc6\\x00 \\xa9\\x0b\\x08!\\x97Y\\xaa\\x1c\\x02u\\x85\\x92-g\\xca\\x18\\x80\\x89\\x88\\x80\\x80\\x80\\x80\\x08\\x10\\x88\\x00\\xb1:\\x82:w\\xd7\\x08\\x88\\x00\\x00\\x98\\x80\\x80q\\xd1\\x00\\x90\\x08\\x88\\x19\\xa0\\x00\\x90\\x19\\x81\\x92\\xa4\\x88\\t\\xc6!\\xa8\\x08\\xc0\\xa83Y\\x910\\xf9H\\xb1\\xb8 \\x12i\\xa2\\x1e\\x01s\\xf4\\x89\\x00\\x80\\x08\\x08\\x18\\x1a\\x80\\x812p$w\\xb6\\xb8\\t\\x88\\x08\\x80\\x80\\x08\\x00\\x89\\x11\\x99\\xa3\\x811\\x90/\\x81\\xa8I\\xa44w\\xa7\\x10\\x88d\\x82\\xac\\t\\x88\\x91\\x1d\\x99\\x08\\x88\\x80\\x00\\x88\\x00\\x1a\\x81\\xb0\\x10\\x98\\x80\\x04X\\x99\\xaa\\x9a\\x87\\xa9\\x94\\xb0\\x18*H \\x9e\\x04\\xe8\\x83\\t\\x80\\x80\\x89\\xe1\\x02A\\xe1\\x89\\x92\\x19\\x91\\x92q\\xe2\\x18\\x02\\x88\\x9b\\xc2\\xa1\\xa0\\xa42\\x00\\x17\\x89\\x19\\xaa\\xe8\\x9a\\x95(\\xb0\"\\x80 \\x03\\xc6\\x9c\\x961\\xbc+\\x03\\x1a\\xc2\\x83\\xacsw\\xc9\\x08\\x91\\x80\\x00\\x90\\x08\\x88\\x10\\t\\x83\\x9b\\x89\\x94\\x02{\\x12\\x1e\\x90\\n\\xc0 K\\xa1\\x00\\xc0!\\xc20q\\xb7\\x90\\x88\\x88\\x18@\\x08\\x8aq\\xd5X\\x11*\\xa5y\\x17\\x8e\\x00\\t\\x80\\x89\\x81\\x89 \\x99\\x98\\x81 \\x99\\x888\\x98\\x98\\x81\\xc0Y\\xa0\\x000\\xfb0\\x88\\x91\\xcb\\x04\\t\\x81\\x98$\\xd18\\x1e\\x190\\x82w\\xaa\\x89\\x08\\x80\\x10\\x88\\x99X\\x1aK\\x8d2\\x98\\x01\\xd9@\\xb2\\x99,\\x96\\x98 \\x93+\\xa9\\x10\\x06\\xb6\\xaa+\\x13\\xe1P\\xa2\\x9c\\x81\\xc1\\x93\\x18\\x9a\\x88\\x07\\x8b\\x03\\x95\\x12\\x10\\xad\\x94:\\x82C\\x08\\xf8p\\x82\\x0e\\x11xw\\xca\\x00\\x08\\x88\\x80\\x08\\x08\\x18\\x88\\x00\\x80\\x80t\\x97\\n\\x08(G\\xe9\\x08\\x80\\x08\\x88\\t\\x08\\x88\\x80\\x08\\x88\\x81\\x00\\x80\\x88\\x18\\x88\\t\\x80\\t\\x94\\x81\\xb3\\xa8\\x92\\x1f\\x81\\x1a\\xf2\\t\\xa2\\x08w\\xc8\\x00\\x18B\\x05\\xa8#w\\xc9\\x08\\x00\\xb9\\t\\x88\\x80\\x08\\x80\\x80\\x11\\x08\\x80\\x19\\x91\\xc9Q\\x8bw\\xf2\\x80\\x00\\x18\\x13\\x91\\x15g\\xc8\\x89\\x88\\x80\\xa8\\x81\\x98\\x00\\x00\\x98\\x08\\x88\\x80\\x01\\x8a89\\x9d;q\\x07\\x8e\\x80\\x08\\x00\\x80\\x88\\x10\\x80\\x01\\x99\\x88\\x08\\x8a\\xaa\\x04\\x18\\x1b\\x80\\x07\\x93j\\xba/\\x90\\xb3\\x93x7\\x8f\\x80\\x19\\x89(\\x88\\x91\\x10 \\x90\\xbby\\xc0\\x02\\x88\\xb1\\x82#!\\xab\\x93/\\x9a \\xf3\\x15su\\x94\\x9e\\x80\\x08\\x08\\x80\\x08\\x88\\x81\\x90\\x18\\x80\\x99\\x11\\x08\\x08\\xc96\\xd0\\x08\\x88\\x00\\x80\\x99\\x11*d\\xab\\x00\\x97\\x89\\x99!\\xa2\\x0b\\x05\\xe1\\x00\\n\\x000\\n\"\\xae\\xc9(\\'\\xab\\xa1\\x83\\xb9\\x00Q\\x08T\\x8f\\x02\\x81\\x8a\\x80\\x9c\\x14\\x009\\xf1\\n\\x80\\x819\\x8ac\\x9d#\\xbb\\x02*1,\\x17\\xb9\\x0cs\\xa7\\x8a\\x89\\x80\\x10\\x80pw\\x8c\\x00\\x88\\x88\\x00\\x88\\x88\\x80\\x00\\t\\x90\\x00\\x88\\x92\\x9a\\x9bb\\x98v\\xb0\\x99\\x08(\\x99\\x08)\\t(\\x81\\x87)\\xd38,\\x90\\xa2\\x1b\\r\\x08JZ\\xe3\\x90(\\x012\\x1c-\\xa9\\x02\\x8ak\\x80,\\xa3y\\x0c\\x81\\xa8 )1\\xc8\\x08\\x82+Q\\xcf\"\\n;\\xc2P\\t\\x08w\\x9a\\x88\\x80\\x90\\x89\\xb1\\x13\\x8ba\\xf2\\x08\\x19\\x92\\x00\\x92\\x9b\\xb0\\x94#\\x9bK\\x989\\xa7J\\xb0\\x85\\x19\\xa2\\x91K\\xca\\x97x\\xd1\\t\\x80\\x19)\\x01\\x9c \\xd1\\x02\\x82\\xa0\\x19!\\xb2\\x18Q\\xf0\\x00\\x10r\\x17\\x0f\\x08\\x88\\x08\\x00\\x08\\x19\\x88\\x90\\xb33\\xba\\x08\\x1c\\x0e6\\x89\\x9b\\xa2j\\x90\\xb8!\\xf8\\x10\\x18q\\xc7\\x89\\x08\\x08\\x01\\x00\\x90\\x9b\\x82)\\x91\\x99\\x96Y\\xa09\\x91\\n\\xba q\\x84\\x1b\\x9b\\xd0C\\nw\\xe2\\x90\\x10\\x89\\t\\x08\\x01\\xa8 \\xa2\\x80\\x80\\xc8v\\xa6\\xb8\\x90A\\xba\\x11\\x8a!\\x99\\x08\\x02-\\x91w\\x8d\\x80\\x08\\t\\x82\\x10\\t\\x81\\x0b\\x99z\\x1a\\x00\\x88K\\x80\\xe9B\\xb9\\x10\\x11\\xaa\\x93\\x90\\xba\\x85Yw\\x8c\\x80\\x80\\x08\\x90\\x01\\x00\\xa2 \\x1f\\x8a\\x03\\x98\\x00\\x89\\xa2x\\x9a)X\\x91\\x99\\x19\\xc3\\xc8\\x91h\\xa7\\x98\\t\\x00\\x00#\\xbb\\x03\\x94+\\x96\\x90\\x9b\\xa5\\x17\\x9a\\x89\\xa8\\x86\\r\\x00H\\x80\\x8d\\x08\\x18\\x92z\\xb7\\x8a\\x10\\xa0\\x10\\x08\\x80 J\\x18\\xaa\\x18K#>\\x90\\x97\\xc1\\x98\\x08\\xb1\\x99\\x06\\xa0\\x1a\\xb0\\x13\\x16\\xe9(9\\xa7\\xb0\\x11\\xc0\\x92\\x92a*\\x10\\xbb\\t\\x85I\\xd89\\xb0B\\x0b\\xb2\\x9b\\x90\\x07\\x93xw\\xba\\x88\\x00\\x98\\x10\\x88\\x00+\\xb8\\x83K\\x81\\xc8\\x81,\\xa9\\x87\\x19\\x02\\xab\\x08y\\t*\\x88\\xb2V\\x89x\\xe2\\x08\\x88\\x18\\x98\\x08\\x00\\x19\\xb4\\x98`\\x99\\n\\x11\\x9c\\x07\\x8b\\x91\"\\x81\\x9d\\x03.\"\\x99w\\xa7\\x8b\\x80\\x08\\x80\\x00\\t\\x80\\x19\\x00\\xc1\\x11\\x99\\x08\\x11\\xd9 \\x90\\xe0\"\\x1b\\xc3\\xd0\\x03\\x11\\r\\x11K\\x81\\xca\\x91\\x00\\x07\\n\\xf0\\x00\\x00 +\\x98\\x10r\\xca\\x088\\x93\\xa2\\x8e\\x11\\x18\\x98\\xb1O\\x94+r\\x9b\\xa1\\x00\\xb8\\x82+\\x90\\x07)\\xb9\\x99\\x18Y8\\xa2@\\x1c\\x9d\\x1a`\\x91\\x88\\x10\\xfaA\\n\\x98\\xb2$\\xa8\\x8cB\\x8b\\x89\\x14#\\xafqw\\xab\\x88\\x00\\x00\\t\\x81\\x08)\\x99\\x19\\xc3+\\x88B,r\\x07\\x8f\\x00\\x80\\x08\\x98\\x01\\x18\\x98\\x80\\x80\\x02\\x81\\xabz\\x88\\x83\\x89\\x93\\x0c\\xc9\\x13Y\\xc9\\x918\\x81\\x1a\\x07\\x8aY\\xc8\\x93\\xa81j\\xa8{\\x98\\x99\\x83\\xb8\\x17\\x89p\\x81\\x9a\\x9a\\x80\\x19\\x02\\xb0\\x1a\\x99lw\\xf2\\x08\\x08\\x88\\x00\\x19\\x80\\x88\\x18\\x98\\x92(\\x98\\xd01 \\x8c\\xa2\\xc0\"\\x89\\x91\\x88\\xf9y\\x89\\x819\\xb0K\\x99x\\x19\\x18\\x08\\x13;\\x8f0\\xf8\\x11\\x90y\\xa7\\x1b\\t\\x18\\x1a \\x8b9\\x800\\xdct\\'\\x8f\\x08\\x80\\x08\\x00\\x88\\x80\\x00\\x88\\t\\x18\\xa0@\\xb1\\x92\\x90\\x81\\x8d\\x92\\x14\\x19\\x9b\\x12>\\xd3\\x00J\\xb5\\x08\\x8bK8\\x99\\xf1\\x81\\x08\\xb0\\x13\\x10\\xa0\\xb0\\x91\\xc4\\x82\\x1e\\xf3\\x19\\x00\\xb3i\\x08x\\x07\\x92^\\xd1\\x88\\x08\\x00\\t\\x88\\x18\\x81\\x88\\x18\\x08\\x989\\x18y\\xa9(\"B\\x8e\\x91\\xaa)J\\x99\\x92\\xa8v\\x88\\n\\x88\\x80\\x98JI\\xb0a\\x99\\x80\\x0b\\xd0\\x14\\xc0\\x01\\x98\\n\\xb5\\x00\\t\\xb8#H\\xa1\\xc8Ow\\xaa\\x08\\x88 S\\xad\\x00\\x08\\t\\x00\\x89 \\x81)\\xbb\\x86,\\x83Z\\xb8\\x90*+h\\x84\\xab\\x12\\xb5\\x8c\\x11\\xa0\\x00;\\xf08\\xd1\\x14\\x99\\x18\\x08\\x19\\xc3\\x95\\xb1\\x8d\\x14\\xc1*\\x05\\xaa\\x12\\xc0\\x99\\xa3{\\x17\\x0c\\x98(\\x90\\xd0\\x12\\x9a\"\\x1c\\x00\\xab\\x06\\t)\\xa0;\\x82\\x92\\xd0\\x87\\x9a\\xa1K\\xba\\x06\\x88p\\xe4\\x80\\x88\\x80\\x81\\xa2*\\xb1\\x002\\x1cq\\xd5\\x80\\x19*\\xc2 \\xa1\\x8b\\x13\\x1e\\x92\\xa8\\xa2I\\x81s\\xf1\\x19\\x88(\\x909\\xd0\\x02\\x91\\xc4\\x80\\x00\\x10\\x8f\\x838\\xb8\\x08\\x89M\\xb0\\x19\\x14\\xa8\\xf8\\x10\\x02w\\x8d\\x00\\x08\\x88\\x81\\t\\x88\\x92\\xaa\\x83\\x801\\xf8\\x03\\t\\xb3\\x00\\x93\\xf9I\\x80\\x00J,\\xf8\\x18s\\x07\\x8d\\x80\\x80\\x80\\x18\\x98\\x91\\x01\\x18\\x88\\x00\\xb0\\x91\"\\xac\\x93\\x92`}\\xb5\\n\\t\\x90\\x12\\xaa8\\x91\\x9b3\\x9d0\\x8a\\xa0\\x11\\xb7\\xc0!\\xf2 \\xa0\\x03\\x0f\\xa48\\x08\\x88\\x0e\\x91i\\x90\\x99\\xb10 w\\xd7\\x80\\x88\\x80\\x00\\x88\\x18\\x90\\x10\\x99\\x18\\x88k\\x10\\xbaY\\x00\\x888\\x9c2\\t\\x8a\\x08\\x17\\x1c\\xb8\\x93\\x1c\\xc3\\x84\\x1br\\xb8\\x08\\x08pw\\x9c\\x80\\x00\\x90\\x00\\x88\\x08\\x90\\x11\\xa1\\n\\x11\\x07!\\x9b\\x8a=w\\x8c\\x88\\x80\\x90\\x10\\x88\\x08\\x18\\x90\\n\\x92\\t\\x10\\x1b \\x92\\xd8\\xd40\\x98\\x1a\\xa59\\xa91G\\x9a\\x14\\x9a\\x98\\x02\\x98\\xe1\\x03\\x90>\\xc8\\n\\x19*39\\x1f\\x01\\xaa\\'\\x84\\xda\\x9b\\x02\\x93\\x12(\\xf8r\\x97\\x8b\\t\\x00\\x8a2\\x02\\xcbz\\xa1\\x89\\t\\x981\\xa0\\xaa\\x04Y\\xd1\\x1a\\x80\\xb4\\x11\\x88(\\x91\\x88q\\xf8\\x19\\x908\\x99X!\\xa7\\x8d)\\x80\\x81\\x08\\x8a@\\x82\\x9b\\x98\"\\xb7`\\xb9\\x122G\\xea\\t!\\x9a\\n\\x98\\xa3Q\\x91\\x90\\x0c\\x03\\xca\\x01\\x83\\x98\\xb5\\x11:\\xf2(\\x8a\\x85\\n\\xd1\\x03\\x99\\x1a\\x88\\x9f8\\x82\\x08\\x89{\\x1ax\\x17y\\xa2\\xa8\\x9b\\x88\\x80\\t\\x80\\x08\\x10\\x01\\x10\\x1f\\x80\\x1a\\x9c \\x04\\xact\\x07\\x0c\\x98\\x88\\x00\\x00\\t\\t\\xa1\\x02H\\xab0\\r\\x92\\x07\\x8c\\x91\\x01\\x98 \\xf05\\x19\\xd1\\x89\\xa0\\x19\\x91\\x10H\\xcc!\\x00\\xa3w\\x80\\xb0\\x19\\x0c\\x88\\xa0\\x119:\\xf8\\x19\\x08\\x88\\x82\\x88\\x98y\\x08\\x98w\\xf3\\t\\x80\\x88\\x18\\x00\\x88(\\xa8\\x10\\x11\\x9c\\x92\\x02\\x88\\xda2\\x91\\x19\\xe8\\x82\\t\\x89\\\\\\x180\\x83\\x9bp\\x96\\xa9\\x88h\\x1c\\t\\xb38-\\x18\\n\\x92\\x1b\\xf1\\x95\\x18\\xb9\"\\t\\x99w\\xd3\\t\\n\\x81Z\\x86\\x0c\\x98\\x81\\x08\\x80\\x10\\x19\\x0b\\x04\\xd9\\x83\\x98 \\xaa\\xa5\\x88P\\x8b\\xa9\\x12\\x12\\x11\\x1f\\xd3)\\x9aq\\xa1\\x01\\n\\x1a\\x91P\\x1f\\x18\\xa0\\x91\\x0b\\x95\\x19\\x98l\\x8a\\x04\\x99i\\x8a1\\x90\\x1d\\x8a\\x12\\xb2,j\\xe3\\x10\\t\\x81\\xaaQ+\\x02\\xaa\\x03\\x99\\x07\\xa8\\xd9@\\t\\xd0\\x82;b\\x01\\x9bZ\\x08\\xd1\\xc1(Q\\x8a\\x90\\xf1\\x00 \\x99j\\x00*\\x89\\x08\\xb4\\x89\\x82\\xc3\\x8c\\x84J\\x1c\\xc81[\\xc8\\x80\\x18\\x93\\x02w\\xb9\\x88\\x89\\xa19\\x89c\\xab\\xb4\\x18@\\x99\\xa3\\r@\\x88\\xa8\\xb3\\xaaW\\x99\\x80\\x10\\xb8\\x98`\\x10\\x87\\x8d\\x81\\x90)\\x02\\x8a \\xbe\"\\x90,\\x96\\x19\\xa9y\\xb7\\x08\\x80\\x08\\xa1\\x10\\xa1,\\x91\\x001s\\x07\\x8f\\x80\\x08\\x80\\n\\x81\\x11\\x0bx\\xa3\\x91\\x9c\\x80 \\x89\\x81\\x8a\\x93\\x89\\x94\\x0c\\x90\\x83\\xf9\\x04;r\\xd4\\x99\\x01\\x00\\x80\\xba\\x92\\x15\\x18\\x9bi\\x00\\x88\\xa8\\xe2\\x01B\\xb8\\x10\\x10\\xb0\\xcd\\x15\\xca \\xa1+w\\xc8\\x10\\xc3\\x89\\x80\\x00\\t\\x08\\xa1\\x83K)\\x9a\\x1e\\x96)\\x98\\xa9\\xa2\\x83\\xb4*\\xa6*\\xa0\\x1b\\x07)\\xf9\\x80\\xa03\\x9a\\x8d\\x94\"\\x99\\xf2\\xa2\\x10\\x83[\\x89\\xb5\\xbb\\x17\\xa8 \\xb8\\x14\\x1a\\x90\\x89\\x1bw\\xa4\\x8b\\x88\\x08\\x92\\x90\\nY\\x19\\x11\\x9d\\x80\\xa2\\x00\\xdbr\\x99\\x10\\x19\\x98<\\xa9\\x94\\xa3I \\x1d\\xd19\\x00\\x1c\\xd9\\x14\\x1a\\x08\\x91(\\xc8\\xd1P\\xaa\\x10\\x94\\x1b\\x87\\x88\\x80\\x892\\x9d\\xa3\\x00K\\xb40w\\xc7\\x88\\x08\\x80\\x08\\x08\\x88\\xa1\\x93\\xb1!\\x0e\\xa1\\x938\\x99q\\xd80\\x91\\xac\\x11\\x901z\\xb5\\x8ab\\xba\\x80\\x00\\x80\\x90\\x91,\\xa3*\\x8a`\\x99\\xa2\\xf2*\\xc8#\\x080s\\'|\\xa1\\x11x\\x87\\x8d\\x00\\x81\\x9a\\x08\\x88\\x00x\\x84\\x8e\\x80\\x80\\x80\\x00\\x88\\x91\\x80\\x08\\x80\\x80\\x80\\x08)\\x80\\x18\\x80%\\x0f\\x00\\x92\\n\\x18\\x9a\\x18\\x10\\xb4 \\xcb\\x98\\x85\\xb0\\x05:\\x8a+\\x04\\xd0\\x93J\\x91;\\xaf\\x87\\x82*\\x8aw\\xa7\\x0b\\x08\\x88\\x10\\x00\\x88\\x99\\x80\\xa8\\x02\\x91\\x91\\x92I:\\xa9\\x07\\x18w\\xf4\\x08\\x08\\x08\\x08\\x90\\x01\\x18\\x801B\\xa8:w\\x17\\x88\\x0b7\\xd8\\x8a!\\x80\\xca\\x88\\x00\\x98\\t\\x88\\x08\\x88\\x80\\x08\\x98\\x80\\x90$\\x8c\\n\\x10\\xa9\\xd4\\x91\\x01\\x08\\x18\\n9\\xe1\\x11\\xac\\xa4x\\x11\\x1b$\\xc9\\xa82\\xac\\xa0\\x17Y\\x89IG\\x90\\x85G\\xc9\\x98\\x08\\x98\\x8a\\x88\\x00\\x08\\x91\\xa0\\x80\\x81\\xa1\\x10*\\x8d\\x11\\x01+(\\'tw\\xc8\\x88\\x88\\x08\\x88\\x80\\x08\\x00\\x80\\x08\\x08\\x88\\x80\\xb0 \\x80\\x89(\\x86\\xd0\\x81)\\x18\\x1d\\x10)\\x08{\\xa9\\x92P\\xb0\\x81\\x0c\\t\\x14\\xab\\xd2\\x03-\\x8b\\x94)\\xa1[\\xc2\\x12\\x90\\xb8\\xa3\\x01/\\xc0r\\xc7\\x08\\x08\\x88\\x91\\t\\x11\\x0b\\x19\\x82\\xd4\\x01\\t\\xb9\\x07\\x18\\x98\\x19\\x08\\xa2\\xc0x\\xd4\\x08\\xa8\\x83\\x80\\xb4\\x8aw\\x0c\\x80\\x08\\x00\\x98\\x08\\x88\\x10\\x88\\x91k\\x98\\xa6\\x99\\x00\\x00\\xd4\\x01\\x80\\xc0H\\x88)\\x81\\x02\\x97|\\x07\\x8c\\x88\\x08\\x88\\x80\\x01\\x08\\x99\\x00\\x10\\x00\\x0b\\x88\\x84\\xd0\\xc21\\nw\\xd1\\x08\\x88\\x80\\x00\\t\\t \\xa7\\x1a\\xa8\\x10\\xb2(\\x88\\xabT\\x198\\x88\\x1d\\x80\\xa00w\\xba\\x98\\x02\\x1a\\x1a\\xba\\x07\\x99\\x01\\x8bcw\\xd6\\t\\x80\\x08\\x80\\x80\\x80\\x08\\x90\\x01\\x89\\x00\\x81\\x989\\xc1\\x08\\x95\\x99\\x819P\\xc9\\x81 \\xf9\\x12\\x80)\\x99A\\x8e\\x92\\x93\\xb0\\xaa\\x9aG\\x99\\xaa$\\xf0\\x92\\xa10\\x80\\xa3,\\xc0\\x81K\\xb4\\t`w\\xbb\\x10\\x08\\t\\x90\\x10\\xb0\\x12(\\xb82\\x9c\\x85\\xc0\\x01\\x08\\x0c\\xa1\\xa5;\\x93\\x1e\\x01\\x9e8\\x12\\t\\x06\\x99\\xa0\\xbbc\\x82\\x9d\\x85\\x08w\\x14\\xfb\\x08\\x08\\x08\\x08\\t\\x81\\x08\\x88\\x10\\x80\\x08\\t\\xc2\\x01\\xa1z\\x97\\x8b\\x905\\x9c\\x08\\x08\\x80\\x80\\x1a\\xb1\\x10#\\x1e\\x90\\x92H\\x8c\\x089\\xb4\\xa2\\x18\\xfa \\x92\\x88x\\xc5*\\x88\\x80\\x89D\\xdb\\x12\\x10\\x88\\xa8Q\\x8a\\x99-:\\xa3;\\xc2*\\x82\\xc8D\\xfa0\\x18\\xb8w\\xe1\\x80\\x08\\x81\\x88\\x08\\x99\\x01\\x93\\xbb\\x12\\x92\\x9c\\x17\\t\\x97\\x8b\\x19\\x81\\x91\\x91\\xc1;\\xb1$\\x08\\x8f\\x17\\xb9\\x80\\x88\\x80\\x02\\xc4\\x80\\xa9\\x97 \\x8a\"\\x8cJ\\x80)\\x9f\\x11j\\x99\\x12\\x80\\x08\\x89)\\x87q\\'\\x8f\\x80\\x88\\x00\\x80\\x01\\x88\\xa9\\x18\\x90\\x10\\x91\\x1b\\x80\\xb0\\x91\\xe3\\x12\\xf0:\\x11,\\xb8\\x04\\xd3\\x980\\xf2\\x80\\x192\\x99\\xa0\\x18;\\xa1\\xd9\\x04\\xe9A\\x99\\x98\\x96)\\xc0\\x91\\x90\\x87\\x18\\x99#\\x8d\\x94:w\\xc6\\t\\t\\x08\\x88\\x81\\x18\\x90\\x980\\xa1\\x80\\xa92\\xc8\\x98\\x12\\x17\\xac\\xa4\\x98\\x92#\\xb0\\xd3*\\xab\\xb0\\x16\\xe3)\\x11\\xdb$\\xbc(\\xa0H\\x12\\xf1\\x08\\x10\\t\\x1a2\\x9b+\\xac\\x85\\x0e\"\\xf2\\xa1\"yG\\x9d\\x80\\x08\\x88\\x80\\x08\\x80@\\xb6\\x89\\x88\\x18\\x80\\x98(\\xc1\\x91\\x14\\x8d\\x82)\\x9a\\xa1\\x07\\xa8$\\xba\\x00!\\x9c\\x97\\xa9\\xa0\\xa6\\x11\\x11\\xa8\\x8e)\\x91\\x81\\xc1(\\xe0\\x039\\xbb\\x99\\x97\\x10\\n\\x10C\\xf9q\\xb5\\x8a\\x19\\x18\\x88\\xb4\\x18\\xa8w\\xf3\\x88\\x80\\x80\\x80\\x80\\x08\\x80\\x90\\x88 \\x08\\xab\\x93\\x10\\x11-\\x8a\\x03\\x92\\xde!\\x80\\x10\\x02\\xe0\\x82\\x98z\\xb8\\x91\\x18\\x05\\x0c\\xb8\\x85\\x88\\xa2\\x11\\r\\xa2J\\xb3/\\x000w\\xc9\\x08\\x90\\x90\\x88s\\xa6\\x10\\xca\\x88\\x01\\x98\\x08\\x88\\x11\\x80\\xa0\\xc0\\xb83\\x1b\\xe2\\x91 \\xc9\\x04\\x80\\t\\x0f\\x02\\x81[\\n\\x01\\xb8\\x1bC\\x8c\\xa9\\x07\\x98\\x00\\t\\xdb\\x03#\\xb9?\\x10\\t\\xa0\\xd8\\x10\\xc3{\\x07\\x0c\\x08\\x88\\t\\xa2\\x02\\x08\\xfb\\x84)\\x8b\\x02\\x90*Y\\xbay\\x98\\x00\\xbb#\\x01\\x8f\\xa3\\xc59\\x00\\x9aI\\x91\\x90\\xab\"\\x19\\xc6\\x80\\x88\\xc6\\x11\\x0c\\xa0\\x80\\x10\\xb1\\x02\\x97:\\xbcH\\xa4\\x80\\n\\t\\x93\\x91\\x98\\x95\\xf1\\x1d\\x03\\x0b\\x18j\\xbaj\\t\\xa2!u\\xba\\xa0\\t\\x92!\\x8d\\xa4\\x9a\\x14\\xb8#\\x1d\\x89\\xa2\\x19\\xb4\\x9d\\x01\\xb1\\x82\\x82:\\xa3\\xaf\\x80\\x97\\x1b2\\xd0\\x18\\xd3\\x1a\\xe0(\\xc0\"\\x1d\\x80\\n\\x01;\\xa7\\t\\xb90\\x82\\xb1.I\\r\\x88\\x05\\n\\x99\"\\xd0[\\xb0\\x10\\xa8\\xd2K4\\x9e\\xa2\\x10\\xb0\\x97\\x19\\x81\\xb98\\x9b\\x91*\\x15\\x0b\\xe1\\x19z\\x8d \\xa0 +\\xd1\\x13\\x8a)\\x8b\\x13\\x8d\\xd0\\x18\\xc1)\\xa6)\\xc00\\xad\\x12\\xa99s\\x1e\\x90\\x18\\x1c(\\xa8z\\x988*\\x1a\\x8a\\x00\\xe8\"\\x0f\\xb2\\x81(?\\x90y7\\x8f\\x08\\x08\\x08\\x08\\x90\\x88\\x91\\x80(\\x08\\x08\\xa1\\x18\\x8d\\x88\\x11\\xd8\\x11\\x93l\\x98K\\xa1(\\xb9y\\x8a\\x92\\x00)A\\xb1\\r\\x98,\\x92l\\xd8\\x13*\\x19\\xaaK\\x1aK0*\\xbd\\x85(\\x98\\xb9!\\x88\\x86\\xab\\xf3i\\x980\\xaa`\\x9a\\x91\\xa9\\x01\\x15>*\\xa0\\xa3+!\\xe2\\x0b\\x83\\xc4\\x10\\xc9q\\xb9A\\x0c\\x10\\x080\\x8b\\xc1\\x83\\xf1\\x90@:\\xf8\\xa1\\x83\\xb0HH\\xb8\\t\\xb7 \\x08\\x9b(\\t\\xa7;\\x1b\\x05*\\x88\\x89I9\\xfa\"\\xca\\x13\\x1b\\xa1\\x87;\\x1a\\x0b\\xa3\\xb2|\\x92\\xba\\x86\\x98\\x99%-\\x19\\xa9\\xb3\\x81\\xa4\\xe2\\x91%\\x89\\xac\\x85\\x00\\xa0\\x92\\x80y\\x88\\x99\\x00\\xb1 \\xa2y\\x8f\\x83\\x990\\x19\\tJ\\xcaB\\x99\\xba\\x04\\x97\\xa1\\x80\\x80#\\x99\\xb2\\xab\\xa7,)\\x8a\\xa58Z\\x8c\\x03\\x1a{\\x99\\x90\\xb2\\x9cr\\xa8\\x19@\\xb0 \\x0f\\x91Q\\xa9\\x82\\x10\\x00\\x8bq\\x9c\\xa1\\x02)\\x1bL\\xb8\\x87**\\x10\\xc8\\x93\\xf2\\x939\\x0c\\xa1\"\\xcb$\\x99\\xb1h\\xc8\\x92\\x81\\x800I.\\x0f\\x81\\x00\\x82\\xa08\\xa6\\xb9\\t:\\x08\\x07/\\x82\\x9b\\x02\\x92\\x9bp\\xb0@\\t\\xa0\\xb8x\\x91\\xf0\\x80\\x810\\xba\\x12JK*\\x0c9\\x99\\xa4\\xb2|\\x81\\x1a\\x99I\\xc3H\\xd8\\x90#\\x00\\x1f\\x88!\\x1c:\\t\\x99A\\xa1j\\x9a\\xb2',\n",
       " b'\\x01\\xff\\xff\\xff\\xff\\x0e\\x08\\x08\\x08\\x08\\x08\\x08\\x08\\x08\\x88\\x00\\x88\\x80\\x80\\x80\\x80\\x00\\x18\\t\\x18\\x90\\x989!\\x8f\\x039\\xb8\\x80\\xb1\\x90\\xa3\\xaaUzA\\x9e\\x00\\x00\\x88\\x18\\x8b\\x829\\x1d\\x91\\x98s\\x8c\\x00\\x1a\\xd3s\\x87\\x8c\\x08\\x88\\x00\\x80)\\x80\\xa99V\\x90\\xb0\\x9a\\t\\x88C\\x80\\xcb3\\x0f8\\xb8\\xb4\\x80\\xc8\\x97\\x88\\x91)\\x01\\xa8\\xc8\\xb2\\x07\\xa1\\x81\\xb9@M\\x89\\x00qw\\x91\\xab\\x89\\x88\\x00\\x80\\x90\\x01\\x88)\\x98\\x90\\x00i\\xbb\\x10q\\n\\x80\\x88\\x829\\xab\\x02\\xb9\\x07/\\xa2!\\xc8 K\\xf0\\x01\\xa0!\\xa8\\x83w\\xb1\\x1a\\x9b\\x11\\xab\\x13\\xa9\\x00\\x01\\r\\xb3\\x97\\x89\\x81J\\t\\xd3:-\\x90\\x83\\x8b\\xa2j\\x13\\x0b\\xa0\\x11h>\\xab\\x14\\xba\\xd1\\x01@\\x1a\\xd2\\x92H\\x88,\\x10\\xa0L\\xa0\\xa5\\t|\\x1a\\x81\\x0b\\x199\\x89\\x94\\x8a\\x02\\x89\\x07\\x9b\\x18[I\\xa0\\xca\\x91$\\r\\x86\\xa0J\\t\\x80\\xa2+\\x9c\\xc61\\xc8\\xc2\\xa4\\x82(\\xb1\\x81\\x8a@\\xc9\\x96\\xa8\\x01\\xa1#\\x0f\\xa0\\x15\\x0b\\x99\\xa5\\xb3\\x08z\\x9a\\x83\\x01\\x1d)\\x80\\xc1\\x02\\xa1=\\xb2\"\\xd9\\x92\\x83l\\xb0\\xe0\\x12\\n\\x18\\r\\x06);\\xd89\\xc4(\\x91\\xd2\\x18\\xd2\\x04y\\x07\\x8d\\x80\\x80\\x08\\x08\\x80\\x08\\x10\\x98\\x00\\x90\\xa0\\x02\\x19\\x90\\xad\\x87\\x10(\\x99\\x19\\xa0\\x02\\xe8\\x83\\xaa\\x07\\xa0\\xb34\\x8e1\\xb0\\x80\\xd0S\\x89\\x08\\x90H\\xb7\\x0b\\x12\\x0c\\xb8\\x15s\\x9b\\xa81J\\xb8\\x18\\xb3:\\x1bK4\\xe8\\x10+(\\xc1\\x1d\\x931*\\x19\\x90)\\xf8z\\xd3\\x80\\x10\\t\\x81\\xc3\\x16\\xa3\\x8c\\x91\\x18\\x00\\x9a+\\x90f\\xabr\\x97\\x0b\\x89\\x01\\x1a\\x10!\\xa8\\xb9\\x82i\\xb1)K\\x90\\x01l\\xb1\\xb3H,X\\x99\\x11\\r\\xb2\\x91(\\x15\\x0b \\x8c$\\x92\\xf0\\x0c8\\x94zw\\x8d\\x80\\x00\\x18\\x88\\x80\\x88\\x00\\x88\\x00\\x19\\x88\\x98\\x049\\xf9\\x01\\x08\\xc2\\x92\\x01\\xb1\\xa2z\\x88\\x08\\x90\\xa0\\x83\\x05\\t-\\x82L\\x99\\x92\\x10\\x89\\xf1\\x02\\x04\\xca\\x85J\\x88\\xa8\\x01\\x00\\xa8\\x80\\x95+\\x12{\\xc21\\xc0\\x01\\xa2,w\\x9b\\x18\\x08\\x80\\x1c\\x91\\x01L\\x90\\x10,)*\\xc4\\x98\\x11\\xc1,\\x81I\\xa1\\x10\\x97*\\xba\\x86\\x18\\n\\xb3\\x06\\x89\\x10\\x1c\\x11\\xe2\\x91\\x89\"\\xc1\\x11,)-Rx\\xb7\\x98\\x98\\x00\\x00\\x10\\xa8\\xa8)\\x00\\xb38a\\xf1\\xa2)\\x90\\x93\\x10\\x1d\\x08$\\x81\\x8f\\xa9\\x15\\xd80\\xa8\\x01\"\\xaa\\xb8\\x07\\xb0\\x92H\\xb8_\\x88\\x01\\xb0\\x902\\xabb*\\'\\x0f\\x08\\xa1\\xa0\\x10\\xa9#\\xb8\\xa2x\\x1a\\x92\\n\\x82\\x06\\xa1\\xb1w\\xaa\\x98\\xa2\\xa2\\x82\\xbb\\x16\\x1a\\xa1\\x01\\x18/\\x91\\x81[\\x99(\\xc1H\\xd3\\x08\\xc2\\x19\\x04\\n\\x00\\x88Q\\x8ep7\\x8f\\x08\\x00\\x89\\x01\\x81\\x98\\x88\\x08\\x00\\x88\\xa9\\x11\\x818\\xa9\\x80K\\x9d\\x87\\x18\\xe0 p\\x97\\x8b\\x08\\x08\\x88\\x10\\xa2\\x89\\x11\\x80\\x8c!6\\x9c\\x90\\x98\\x18\\xe8\\x81\\x13\\x8a)\\x97\\x8a:\\x92J\\x0c\\xc1C\\xb8H\\x9aA\\xf0\\x81\\x80\\x08R\\xb9\\x08)\\x99\\x08\\xa7=\\x80\\x80\\x08 \\xa9\\xe9\\x87J\\xb2\\x00\\n\\xa1\\n#\\xd3\\x01\\x0f\\x08\\x01!\\x89\\xb2/\\xd1:\"\\x92\\x9bw\\x9b\\x98\\x11\\x19\\x12w\\x8c\\x11\\x99\\x88\\t\\x01\\xa8\\xa8!\\xa1)\\x928\\xb7\\r\\x19\\x92\\x18[\\xa9\\x88\\x16\\t\\x8a\\xa2\\xab3\\x82\\x1e\\xc9\\x07\\x98)9\\n\\xb0\\x00B!\\xd0\\x0c\\x12\\xab\\x0f\\x03A\\x99\\x90%t\\x12h\\xb1s\\'\\x03\\x988\\x91?\\x14\\x08\\xc8\\x90\\xba$\\xfa\\x88\\x98\\x90\\xad\\x00\\x98\\x18\\x98\\x10\\x89\\x08#\\xfa\\x80\\x82\\x18\\x1a\\xa0A\\xb9\\x99\\x81\\x1bp\\xe01\\x9a\\x98\\x02\\x84\\xc2\\x04)\\x8b^\\x99\\x823\\xe1\\x18\\xc8\\x99\\x91\\x04\\x99\\\\\\x98\\x80*)\\x91\\x97\\xa8Pw\\x84\\x03\\xed\\x88\\x00\\x80\\x08\\x80\\x80\\x08\\x00\\x88h\\xd2\\x19\\x08\\x08\\x08\\x08\\x12y\\xd0\\t\\x80\\x00\\x88\\x88\\x00)\\x98\\x1a\\x88\"1\\x0f\\x08\\xa9\\x18\\x97\\xa2+\\'\\x8c\\x88\\x10\\x0b\\xa0W\\x9d\\x11\\x88\\xa1 w\\xe8\\x80\\x80\\x00\\x08\\x88\\x00\\x89q&\\x03\\xaf\\t\\x08\\x08\\x08\\x88\\x80\\x00\\t`\\xc2\\x89\\x00\\x18\\x18\\xb9\\x89#\\x00\\x84\\xd0\\x19\\x00\\xc9I\\x18\\x99\\r\\x82\\x92\\xe1\\x12\\t#\\xb0\\x1b\\x90O\\t:\\xa0\\xf0X\\xa0\\x88H\\x80\\x0b\\xb22\\x91)\\x19\\xf0Y\\x0b8\\xc3\\x8f\\x12\\x8a*2\\xd9i\\x13\\x8d\\x91\\x90\\x00\\xd3\\x08\\xb0\\xf0\\x14:\\x8c\\x93\\x18\\x81\\x99\\x13\\xb9\\x9b\\x82#{&\\xaf\\x11\\x80\\x89P\\x07\\r\\t\\x81\\x88\\x90\\x02@z\\xb6\\x8a\\x19\\x90\\x08\\x08K\\x80\\xa2\\x8a\\x019\\x87\\t\\xd1\\x91\\x88Hp\\x87\\x9a\\x89\\x08\\x08\\x19\\x90\\xc2:\\x00;\\t\\xf2!\\x99!y\\xd2\\t\\x81\\xb9\\x12\\xb8$i\\xc8q\\xc7\\x88q\\xa2\\x0b\\xb0\\x80\\x00\\x08\\x80\\x88\\x083\\x8f\\x08\\x80\\x19)\\xa80\\xa5\\xa9\\x19\\xb2\\xf0\\x02\\x81\\x10\\x19\\xe1\\xa0A\\x99\\x10\\xd0B\\xb0+\\n\\x11\\x04\\x0f\\x80\\x94)\\x8a\\xa8\\x02]\\xf0\\x829\\xa1\\xb1\\xa2{\\x15\\x8c\\x08\\x08\\x909\\xa0\\xa2<{\\x0b\\x11\\n0K\\xc0:\\x810\"\\xa4\\xf5\\x89\\x881\\xa8,`g\\x8d\\x08\\x88\\x80\\x00\\x81\\t0\\x1d\\t\\x91\\x01;\\x1b\\xa2*\\x82\\xc7\\x98\\t3\\x8f\\x94\\x98\\x93\\x86\\x19\\xc6\\x00K\\x89\\x01\\xd0\\x02\\x98\\x81\\xa0\\xa3\\xa2\\xa0\\x87\\xa0\\x83P\\xa9Z\\xa3\\x83O,)\\x08{\\x19\\x19I\\t\\x91s\\xa27\\xf0B\\x11\\x81B\\x01\\t\\xa0\\x98$\\x8a2\\x88\\xb9a\\xd8\\xbd\\x9c\\xa8\\x9d\\x08\\xb8\\xaa\\x98\\t\\x90\\x08\\x99\\x90\\x08\\x90\\xd2\\x03\\x1b\\x8a\\xa3\\xd3>\\x9c\\x11\\xc0\\x84\\x1c\\x18\\x00\\x8cx\\t\\x81w\\xb99\\x87\\x8c\\x08\\x08\\x80\\t\\x00\\x19\\x08)\\xb0P\\x8a\\x19\\x18\\x00\\x0c\\x1ac\\x99\\xc30\\x1e\\t)#\\xbf\\x12(\\x83\\x8d\\x98\"\\xb8w\\x83\\xd0*w\\xb9\\x80\\t\\x90\\x88\\x00\\x98\\x00\\x88!\\x18\\n,`\\xb6\\t\\x88\\x08\\x08\\x88\\x80\\x18#&9rw\\xa6\\xab\\x00\\x80\\x89\\x80\\x08\\x88\\x90\\x10\\x88\\x90\\x11\\x99p\\xa8\\x80\\x88\\xc1!\\x08\\x89\\xd01\\x1c\\xa8!\\xab1\\x9aH\\xf8\\x11\\xe3\\x11\\x90\\x00\\xc0I\\x10,\\x92w\\xd6\\x88\\x08q\\x94\\x8c\\x883\\xb8\\xa0t\\x01\\xab\\x10\\xa8\\xc2\\x8a\\x92\\x92;w\\xe1\\t\\x00\\x88\\x88\\x88\\x80\\x18\\x88\\x80!X\\x00$\\x1a\\xa9\\xbcw\\xc0\\x88\\x11\\x99\\x11\\x89\\xb8\\x9a\\x80\\x80\\t\\x12t\\x94\\x9d\\x93\\x92\\x8c\\x08A\\xc9 \\x17\\xab\\x88\\x08\\x18!\"\\x02n\\x15\\xe9\\x19\\x80\\x89\\x98\\x88\\x80\\x00\\x08\\x1a\\x90\\x18\\x01\\'\\x8d\\x88\\x90w\\xd2\\x89\\x80\\x80\\x80\\x08\\x08\\x80\\x18\\t\\x08\\x80\\x00\\x88\\x19\\x89\\x19\\x94\\x88\\x10\\x13ww\\xc9\\x88\\x80\\x08\\x00\\x88\\x80\\x88\\x08\\x10)\\t\\x19\\xa2+\\x04\\xa9\\x04\\x93lp\\x10\\x84\\x9f\\x80qQ\\xb8\\xaa\\x88\\x81\\x10\\x92\\xb9\\x08\\xa9\\x01(\\x98\\x08\\nJ\\x19+\\x9d\\x15\\x98\\xa0rw\\xb6\\x88\\x8aP\\x92\\x8d\\x18\\xa0\\x00\\x88\\x88\\x90\\x10\\x80\\x18\\x80\\x11\\x9c0\\xc0\\x19\\x91\\xb1(\\xe5\\x18\\x91\\x98i\\x90\\xb2\\x85\\x95\\x0e\\x91(\\xb1\\x90\\x00\\x02\\xb0Y:\\xc2y\\x87\\x8d\\x08\\x10\\x98\\x81\\x80\\x88\\x11\\xba\\x80\\x94\\xa8`y\\xb6\\n\\x080w\\x93!\\xa8J\\x91\\x1a\\x98!\\x82\\xcb\\x90J\\x92\\xbf\\x13B\\x80\\xfd\\x9c\\x08\\x08\\x08 \\xa9\\x18\\x00\\x99\\x19\\x01\\x99\\x92\\x00\\x01\\x12q\\x16\\xc3<e\\x87\\r\\x98\\x00\\x10\\xb8\\x88\\x01\\x19\\x98\\x18W\\xba\\x88\\x80\\x00\\x08\\xa1\\x18\\x8a\\x18\\x00\\x00;\\x01\\x92rw\\xb7\\x8a\\x90\\x80\\x80\\x80\\x08\\x88\\x81\\x90\\x01\"{w\\xca\\x80\\x00\\x08\\x88\\x00\\t\\x88\\x10\\x89\\x10\\x00\\x0b\\x8a\\x14\\x8c \\x892\\xc9\\xa9\\x14K\\x11yw\\x8c\\t\\x08\\x80\\x80\\x80\\x90\\x00\\x1a\\xb1 \\xa0Y\\x19\\xa1\\x18\\xaarB\\x8d\\xc1\\x81\\x00\\x19\\x8a9x\\xa0\\xc2[\\x8b\"r%\\x00\\xbft\\xa6\\x0c\\x00\\x00\\x14\\xab\\xa9\\x80\\x00\\x08\\x18\\x08\\x98\\x08\\x10\\x19Wx\\x94\\x8c\\xa0\\t\\x08\\x88\\x08\\x80\\x18c\\xd3\\x8b\\x00\\t\\x80\\x92\\x88\\x81\\x19\\n\\x90\\x198\\xcaQ\\xc9\\xa3w\\xaa\\x88\\x80\\x88\\x011\\x8c\\x00\\x90\\x92\\n\\x01\\x13\\xe0\\xa9\\x08Y \\xa9(\\x0f\\x10\\x90\\xd12\\xaa\\x98q!\\x1f\\x80 \\x99\\xbbS\\x08\\xa0/\\xa5\\x89\\xa1d\\x90\\x07r\\xb3\\xe0\\x99\\x00\\x88\\x08\\x98\\x10\\x18\\x89\\x82\\x19\\xb0\\xa8\\x96\\x9a1\\xd2\\x13,U\\x89#\\xaf\\x18\\x89\\x10\\xb2\\x1b\\xa1\\xb02\\x100\\xf1\\x0c\\x82u\\xb7\\x8ap\\x91\\x10\\xc9\\tF\\x90\\x82\\xcd\\x80\\x80\\x80\\x80\\x80\\x80\\x00\\x89\\x18\\x91\\x91\\x90\\x08\\x18\\xe1\\x80r\\xa9\\x02\\x98\\x00\\x08\\x01\\xd8\\x82:\\x0f\\xc1\\x81\\x12\\x8ah\\xb0)X\\xe1\\x00\\xa0\\xa1\\x81K\\xa2\\x10|w\\x9a\\x90\\t\\x88\\x00\\x90\\x90\\x81\\x01\\x11\\x16H\\x02U\\x81\\xb2\\x0b\\xb1\\x18\\x82/\\x86:\\xec\\x91\\x8b\\x81\\xa2\\n\\x80\\x82\\x8a;\\x819\\x0c,\\xd2\\x11\\x01\\xca\\x81\\xa8\\x12(\\x88\\x85\\xf8\\xa1\\x03\\x10*\\x85,\\x08\\xa0\\xd8B\\x12\\xad\\x91\\xa4+J\\xa0)\\x13\\x99\\x97\\x0fsw\\x05\\x90\\xcc\\x80\\x08\\x08\\x80\\x08\\x903\\xac\\x90\\x01\\x88\\x90\\x10;\\x80\\xa91\\x07\\t\\t\\x8a\\xa1+\\xb3z\\xc3\\x0b\\x984+\\xaa\\x1a\\xf0\\x12\\xb5p\\xc1)\\x91w\\x10\\xe8\\t\\x88\\x80\\x80\\x90\\x01\\x98\\x91\\x81\\x81\\x19(\\x9a\\x87\\x99 \\x8b\\xa2\\x11\\x97\\x9a\\x00)\\xd1A\\xaa\\x04\\xb9\\xa4\\x19\\x03\\xdd\"\\x19!\\xf8(\\x00\\x19\\x88<:\\x83{\\xe7\\x00\\x88\\x82\\x89\\xc2\\x10\\x10\\xb0\\x84*\\x19 ww\\x03\\xb0\\x9f\\x88\\x00\\x88\\x10\\xa1\\x89\\x18\\x88\\x19\\x00\\x80\\x98\\x01\\x08\\x11\\xb2\\x19\\xd8\\xd2\\x11\\xa9k\\xa0\\x911\\x0c\\x03\\x1d\\x03\\n\\x10\\xf8\\x01\\xc4\\x11\\xb91\\xea\\x02\\x00\\nrt\\xe1\\x88\\x08\\xa0\\x10\\x91\\x889\\x8a\\x81\\x10\\x89\\x95<\\xa6\\x99#\\xaa\\x99\\x03\\x19\\xf2\\t\\x81)\\x89q\\x95\\x9c\\x01\\x81\\x1b(\\xc9\\x12\\xc58\\x0c*\\xb7\\x01\\x82\\x0c\\x8b\\x97\\x00\\t\\x19J\\x89\\x83\\\\\\xa7\\x0c0W\\xac\\x80\\x80\\x00\\t\\x18\\x80\\x18\\x1a\\n\\x01\\t\\x18\\x0br\\x98\\x99H\\x98\\x1a\\n%\\xf38\\x8b\\x82)\\x87\\xc8\\t(9\\x82\\x89\\\\\\x89@\\x1c\\x99\\x99\\xe3Z\\x03\\x0b\\xd4\\x19\\x98\\x04\\x88\\x89\\xb39\\xf1\\x19B\\xc1\\x01\\xa80{\\x01!8\\x9d\\xe2\\x0b\\x98#\\x9b[\\x19\\x19\\xfa2\\x90\\xca\\x02\\x88\\x80\\xa5\\x00\\x18C\\xfa!\\xc4J\\x87\\x8c\\t\\x10\\x08\\x08\\x99\\x88\\x95w\\xa7\\x8b\\x00\\x88\\x00\\x88\\x08\\x11\\x99\\x81\\x98(\\xb13\\x8f\\x80\\xb2\\x90\\x03\\xc1\\xb2\\x18\\x91\\x12>\\xe8\\x19\\x986\\n\\xc5\\x8b2*\\xb8\\x86\\x8a\\xc0#w\\xd7\\x00\\x89\\x80\\x80\\x00\\t\\x00\\x91\\x19\\x18\\x19\\x01\\xa0\\x9c\\xb3\\x18y\\x90\\x11\\x1b\\x98\\x18\\x1c:1 xq\\x87\\x8e\\x08\\x80\\x88b\\x80\\xab\\x80\\x19\\x89\\x82\\x82\\x18B\\xfa8\\x08\\x80\\xa2\\xd1(\\x8b\\x83*w\\x90\\xa9\\xb1\\x00\\xb0I\\n\\x01\\x13,9\\x1c\\x81xwW\\x98\\xca\\x18\\x88\\x00\\x00\\x80w\\xa2\\x8d\\x08\\x88\\x80\\x10\\xa8\\x80\\x80\\x08\\x90\\x08\\t\\x81\\x90\\x91\\x90\\x08\\x18\\x1a\\xc4\\x11\\x9c2\\x8a\\xb5\\x90\\x94\\x990\\x1f\\x991\\x14\\r\\x1a\\x81\\xa0(\\xe0\\x02\\x99\\x180\\xf8\\x01\\xd20H\\xb6\\x84\\xaa \\x17\\x9d\\xa88\\x88\\x81\\x19yG\\x8e\\x80\\x08\\x08\\x08\\x80\\x80\\x98\\x10\\x89\\x01\\x80\\x90\\x18[\\x03\\x1e\\xc1\\x11\\x0b\\xc1\\x12,)\\xa8\\xa4\\x80\\x07\\x12\\xcb\\x90\\xb4\\x18\\x90\\x1d\\x03\\xc4\\x0b\\x93\\x12\\x9f\\x10\\x98\\x00\\x95)\\xa0\\xb8\\x934\\x90\\xd1\\xaa\\x97r\\xd7\\x80\\x08XG(\\xa8\\x9f\\x08\\x80\\x08\\x08@\\xa0\\x00\\x98\\x8b\\x00\\x80\\x08\\x00\\t\\x08+\\x10\\x8b\\t\\'\\x9c9\\x91\\x18A\\x9f\\x00$\\xba\\x80\\xd2\\x10\\t\\x84\\xa8\\xf81\\xa2\\x9a\\xa5J\\x83\\xac\\x11\\x01\\x1aV\\x9b\\x80\\x91\\xb2\\x99\\x12\\x0f\\n\\x82\\ncK\\xc3\\xa2\\xc1\\x82\\x88\\xe9(J\\xc3\\t\\x92<\\x11\\x19w\\'\\xc8\\x9b\\x08\\x00\\x88\\x80\\x98\\x12\\x08\\x9a\\x83P\\x95\\x8c\\x00\\x08\\x90\\x1c\\x90\\x92{\\x11\\xca (\\x998>\\x89\\x88\\x80*\\xd78@\\x17\\x9d\\x88\\x81\\x88\\x10\\t\\x08\\x18)\\x9dJ\\x03\\x1a\\x8a\\x80p\\'\\xbb\\xa2\\xa1\\xb3I\\xc9(J\\xc8(\\x8d\\x13\\xc1\\x05\\x0c\\x02\\t\\xa0K\\xa2\\xb42\\xac\\xc31\\x9a\\x81\\xf8\"\\x8b\\'\\x8e\\x80\\x93\\tk\\x82\\xc2\\xa9p\\x91\\x9a\\x92\\xa8\\x12\\xa9\\xc3\\x02\\x1a\\x01\\xa1O\\xb9a\\x8c\\x10\\x10\\x811\\xa9,\\xf0L\\x88\\x80\\x19A\\x1c\\x900\\x98\\xb1|\\xb2\\x1b\\x91\\x91a\\xc9\\x12\\x95\\x9a\\x08\\xb0y1\\x97\\x8d\\x08\\x18\\x00\\x1a\\xa0\\x18\\xd1 \"\\x8f\\x80\\x92\\x91(\\xb9\\x1a\\x87\\x08\\xc0\\x90p\\x0b\\x18\\x19\\x88S\\xc5\\t:\\x89\\xc01s\\x99\\x1b\\x89\\x98\\x80\\xb3\\xb2\\xf5\\x01\\x82K\\x98\\nI\\xa3{\\x97\\x0b\\x08\\x80\\x08\\xa0\\x95\\x92\\x04`c2A)\\xaa\\xd1\\xc0\\xb2\\x83\\x15\"\\x9a\\xfa\\xb8\\xa9\\x9c\\x00\\x87\\x8d\\x08\\x80\\x88\\x19\\x80\\x81\\t\\xa1\\x03\\x88\\x890\\x99+\\xd8\\x96\"<\\xae\\x921\\x88\\n\\x12\\xcc\\x12j\\x88\\xc9\\x82`\\x16\\x9d\\x80\\x10A\\xaa\\xb91\\x1a\\xb1\\x96\\x0b\\xa4\\x89\\x83\\x1d\\x03\\x99y\\x88\\t\\x8a\\x93\\x88\\x12_w\\x00\\xc0\\x8b\\x00\\x88\\x08\\x18\\x8a\\x01\\x80K\\x0b#\\x9c\\x828\\x0ex\\x83\\x8e\\x08\\x00\\x91\\x90\\x80\\x88\\x8bD0\\xc6\\n\\x05\\x8d\\x08\")\\x02\\x1a\\xfb\\x89(\\x89\\x03+\\xc8H!\\x0e\\x9aQ\\xa8\\x89!\\x08\\x12\\xb8?17\\xdb\\x89\\x08\\x90\\x81I\\xd29\\xc1\\x10\\x18v\\x87\\xab\\x88\\x91\\x18\\x08\\x00\\x88\\x80\\x92\\xaa\\x11\\xa1w\\xd5\\x88\\x81\\x88\\x08\\x89\\x01\\x89\\x12\\x9b9\\xa3\\x99g\\xa0\\x89\\x888\\xa9\\x18**$\\xf3\\x91\\xbcE\\x87\\r\\x88\\x80\\x08\\x08\\x08\\x02\\x1ayg\\xd8\\x88\\x08\\x80\\x00\\x88\\x80\\x00\\x80\\x08uG\\x88\\xb9\\x8c\\x800\\'\\x89\\x9e\\x80\\x80\\x80\\x80\\x08\\x80\\x88\\x00\\x00\\x98\\x00\\x98\\x12\\x98\\x98\\x80\\xa3:\\xd1\\x13/\\xa0\\x82\\x13k\\xd0\\xa0 \\x99 \\x11\\xa8!\\xf3E\\x12!\\xc1\\xb1A8O)\\x80\\x10\\x92\\xc1\\x03\\xd81\\xb2Yq\\x99\\xa01\\x8a \\xfaA\\x9a\\x91\\x8a\\xa3\\x0e\\xac)\\xfb\\x98\\x08C\\xf8\\x90\\x12\\x81\\x0c\\'\\x10)(\\xa1\\xf81\\x80\\xca\\x01\\x90\\x8b\\xa9\\xac\\xb9\\x0b\\xa1\\x90\\x80P\\x95\\x9d\\x10\\xa0\\x80\\x89,S\\xaa\\xc3\\x918G\\x0e\\x18\\xa8(\\xa9\\x12\\xab\\x03r\\xa4\\x0c\\x909\\xc4t\\x070\\xfa\\x89\\x08\\x08\\x08\\x80\\x80\\x00\\t\\x00\\x90+\\x018\\xd0\\x89Qw\\xd7\\x08\\x08\\x80\\x88\\x80\\x80\\x80\\x08\\x08\\x81\\t\\x80\\x00\\x03\\x99\\x01w\\xc7)\\xa0\\x88\\x08\\x88\\x80\\x91\\x19\\x10\\x88\\xa3\\x89\\x89\\x12\\x8a\\x1b8\\x99\\xbcq\\x03\\xc1\\x8b@\\x82\\x92\\x99\\x80w\\xa9pG\\x81\\xb1|\\x86\\xab\\x08\\x11\\xb9\\x89\\x08\\x80\\x80\\x08\\x00\\x88\\x18\\x88\\x18\\x9b\\x05\\xb8J\\xa1\\xa0w\\x8a\\x98\\x88\\x00\\x01\\x90\\x80\\x91\\xc89\\x92\\xc2\\x1b0t\\xc8\\x910p\\x07\\x8e\\x00\\x80\\x89\\x08\\x00\\n\\x81\\x18\\x01\\x81\\x8b7\\x0f\\x08 \\tw\\x13\\xb9\\x017\\x90\\xbc\\x08\\xa3\\x80\\xbf\\x88\\x80\\x00\\x08\\x80\\x818\\xa3\\x0e\\x90\\x18\\x11\\xabZ\\xa8\\x880\\x98\\x811-\\x18L\\xaa\\x02\\xc9\\x03\\xa31\\x9f\\xb2\\xa3m\\xa1\\x83\\xa5y\\'y\\x15\\xda\\t\\x88\\x18\\x90\\x89\\x90BW\\xc9\\x89\\x80\\x00\\x88\\x88\\x80\\x08\\x08\\x00\\t\\x90 s\\xaa\\x89\\x08\\x91\\x98\\x81\\x08\\x12\\x88\\t\\xe0%w\\x9b\\t\\x08\\x88\\x08\\x81(\\x80z\\xc6\\x88\\x80\\x00\\x88\\x82\\x08\\x92\\x9a\\xb0\\xa5\\x08$1w\\x17\\xa84\\x85\\xac\\x19\\x91\\xab\\x8b\\x08\\t\\xa0\\x82\\x80\\xa0\\x05s\\xb7\\x0b\\x08\\x08\\x00\\x18\\x80\\x01p7\\x18\\tC\\'\\xba\\xab\\x08I\\xd8\\x8c\\x08\\x88\\x80\\x08\\x08\\x88\\x08\\x80)\\xa8\\x08\\x90\\x81(\\'\\x9d\\x88\\x02\\xb1@b\\x9bg\\x03\\x04\\xb3\\x80\\x83\\xa1\\xa3\\xc4\\x08\\x92\\xcaa\\n\\x08\\x03\\x1d\\xa1\\x83\\xcd\\xfb\\x8b\\x99\\x90\\x88\\x18\\x99\\x01I\\x94\\x98\\xc0\\x0b\\x00\\x90:\\x82<\\xb0\\x17\\x9b\\x81w\\x1a&\\x02\\x99\\x91!\\xab\\x83\\x0cX\\xa0\\x82{\\xc0\\x10*\\x98A\\t\\xf8\\x9f\\t\\x88\\x00\\t\\x08\\x18\\x07\\x8c\\x08\\x88\\x01\\x90\\x08\\x91\\x18\\xa1\\xb3\\x99J\",\\xe01\\x1cr\\xb7\\n\\x98\\x00\\x91\\x18\\x91\\x1b%w\\x8c\\t\\x08\\x08\\t\\x11\\x07\\r\\x08\\x08\\x08\\x98r\\xc0\\x88\\x18\\x08\\x18\\x89\\x18\\x88\\x11)\\x9c\\x12\\x18x\\x97\\x8b\\x80\\x88\\x10g\\x8d\\x80\\x80\\x80\\x80\\x88\\x00\\x00\\x98\\xa0!\\x8a\\x91\\xc2\\x15\\x0b\\x81J\\xb2\\x18\\xab\\x10{\\x93\\xa4\\xc98\\xb1)\\x02\\tK\\x99\\xa7ww\\xb1\\xab\\x80\\x00\\x04\\x88\\xd8X\\xb0\\x88\\x00\\x88\\x08EX\\xf9\\x08\\x80\\x08\\x80\\x08\\x00\\x89\\x08\\x00\\x80\\x19\\x00\\x1a\\t\\x11\\xb1\\t(\\n/\\x90\\x00-0\\xe41\\x89\\x88\\x02\\xc9Xy\\xd0\\x10\\x18\\xa8\\xb1\\x82\"\\x9c%w\\xb7\\x10\\xaa\\x90\\t\\x08\\x88\\x80\\xa1(q\\x97\\x8c\\x00\\x08\\x08\\x88\\x00\\x80\\x00\\x89\\x00\\x8b\\xa4\\x104\\x0e\\x88\\xb1(\\n\\x80\\xe2\\x01\\x94+0\\x08rw\\x97\\x08\\xba\\x88\\x88\\x00\\x08\\x80\\x98\\x83\\x98\\x10\\x9a\\xa3w\\xc8\\x88\\x81\\x00\\x88\\x90\\x89\\x12\\x0b\\x12\\xb0w\\xd6\\x08\\x88\\x80\\x00\\x08\\x88\\x18\\t\\xa8\\x93J\\x91\\x8a\\xa3sw\\x86\\xc9\\x01\\x9a\\x08\\x08\\x08\\x08\\x80\\x80\\x88\\x90\\x14\\xa8\\x8a\\x10(\\x89\\x0cI(8\\xa8\\x9d\\x93\\'\\xac1\\x0c\\xa1\\x02t\\xd9\\x00\\x88\\x91\\x80x\\'\\x0f\\t\\x80\\x08\\x88\\x00\\x01\\x88\\x08\\x98\\x81\\xa8\\x85\\xa8;\\x07\\x8a\\x18\\xb0\"\\xd9\\x02P\\x88\\x99\\x85\\x99\\xb3;\\xea\\x16\\x9a\\x01\\x99\\x03\\xd1\\x00\\x80B\\xab\\xb7@\\x98\\x89\\x1a\\x00)\\xa3\\t\\x1dx\\x90\\x98\\xbbw\\xb7\\x89\\x80\\x08\\x80\\x89\\x01\\x1a\\xa21\\xabp\\xa8\\x01\\x881\\x88\\xf3\\x18\\x08\\xb1H\\xd3\\x18\\x8a[\\xb3\\x1f\\x81\\n\\xa3\\x96\\x0b\\xb2+j\\xb2)\\x18\\xcah\\x8a\\xa2\\xa9\\te\\x8c\\xa1\\x149\\x08\\xb0\\n\\xc2Rw\\xab\\x197\\xac\\x08\\x88\\x08\\x00\\x00\\x99\\x81\\x00\\x08\\x89\\x82S\\xab\\x01\\x14\\x8e\\xa3(\\x8c\\xa6H\\xb8\\xa40\\x0b\\xa3\\xa4\\x18\\xcd\\x04\\x1b\\xb3\\x0b\\x009\\xd9\\x90\\n\\x81\\xc3p\\x983\\x92,\\xd3\\x8a)\\xb9\\x1du\\xa7\\x0b\\x08\\x01\\n\\xa0\\x12\\n\\x00\\xb1+\\x08\\x03\\x97\\x81\\x8a\\x86\\xc9>\\x01\\x18\\xa2Y\\x89\\xb82\\x9b\\x0e\\x97\\x18\\x10\\x08\\x9c\\x850\\xa0-\\x91s\\x9c\\x08\\x88\\x12\\xac\\x189\\xa1X\\n\\t\\xb1\\xa3\\x8cA\\x89w\\xb9\\x10\\x08\\x9b\\x12J\\xb7 \\x0b\\xa3#/\\x98\\x91xW\\x14\\x88\\xf9\\x8a\\x80\\x00\\x89\\x81\\t\\x90\\x90 \\x89\\x81\\x10\\x18\\xab\\'\\x9b\\x04\\x1b\\x83\\x00\\xa2\\x89\\x8d8\\xf8x\\xa9\\x92\\x1a\\x81\\x1b8:\\x10-h\\x97\\x1b\\xb8\\x82\\x10\\xc2\\x19\\x93J\\x10\\n\\x91\\x8f\\xd4Q\\x99#8w\\xa1\\x9b\\t\\xa8\\x18\\xa9\\x11\\x19\\x98\\x10\\xdb\\x11\\n\\xd3y\\xc38\\xaa\\x93\\x88\\xa2x*\\x99\\x00\\xa0\\\\\\xb2\\x11\\x19\\xb3\\xb8\\x99\\x1f\\x94)\\x90\\xb1\\xb5\\x80\\x90\\x83?\\xa3/\\x98\\xa6L\\x80\\x93\\x11\\x81\\x1a\\xb9\\x14\\n)\\xf5W\\x8d\\x80\\x18\\n\\x80\\x00\\t\\x08\\x91\\xa2x\\xb8\\x82\\x1a\"\\x0b\\xf1\\x01\\xa8\\xa1i\\xba3\\x1d\\x99\\x98;\\x05(\\xa1\\xc2x\\nG\\x9d\\x08\\x08\\x80\\x80\\x19\\x89\\x90a\\xa0\\x08\\xa0(\\x12 \\xa9\\xc5[p7P\\x88\\xc0\\x8f\\x08\\x08\\x08\\x80\\x08\\x80\\x18\\x08\\x90\\x89\\x11,\\x85\\x1a\\xb8\\x01\\x9b\\x96w\\x9b\\x08\\x00\\x89\\x08\\x00\\x80\\x19\\xc1\\x10\\x89r\\xb7\\x88\\x80\\x80\\x0b\\xa2\\x01\\x1a\\x03\\x1a\\xfb\\x910K\\xa1\\x93\\r\\x83\\xc8#\\x18\\xa1\\xaa\\x07/\\xa2\\x10\\xb9\\x00:\\xf0!\\x98w\\xaa\\x08\\x88\\x08\\x00\\xa11\\x19\\xc4\\x199;\\xb8\\xb3\\x8f4\\x91\\x19\\xc2\\x8e\\x88w\\x9a\\x98\\x00\\x88\\x01(\\x90\\x92\\t\\x8c\\xd1!\\xc8(\\x99\\x18\\x97i\\xd0\\x10\\x19\\x80*\\x88\\x00\\x10\\xa2A\\x9f\\x81\\x8a\\xc1\\x00\\x97!\\xba)\\x97\\n \\x98\\xb2\\xa90k\\xd1\\x04\\x1a \\xc9\\x10\\xa8!\\x87\\x19\\x87\\xbb*\\x81\\xb1\\x01\\x90{\\xb0\\x84\\x9c\\xc3\\x02n\\x89\\t\\x93\\x81\\x8c\\x02!\\xca\\x81\\xb3K\\x11\\xa1\\xa1\\xca\\xa3\\x19\\xbf\\x02C\\x01\\x1f\\x92Z\\x980 \\x03\\xb8\\xc9\\xa5@!\\xa0\\x0f\\xd1\\x13\\xb9\\x82\\x19\\x84|\\xe0\\x88\\x80\\x800\\x9a\\xa4\\x02\\x99\\xf1\\xa0\\x92\".\\t\\xa2\\x96\\x08\\x98\"\\xf99\\x08\\xb8\\xb3@\\xa9@\\x9e1\\xa2h\\xb1\\xb8\\x0b2\\xf2(A\\x8a{\\x91\\x98\\x83\\x0f\\x00 \\x8aw\\xc2\\x8b\\x18\\x88\\x80\\x00\\x07\\x8c\\x80\\x80\\x08\\x11\\x8b\\x81\\x00\\x81\\xb2+!(\\xb9?\\xb8\\x08\\xb9\\x17\\x88\\xb1\\x14\\x0f\\x94(\\xb93\\x0b\\x9e7\\x1a\\xa3\\x92\\x1f\\x11\\x9b)[c\\x0c\\x8a)\\x03\\xca\\xa4\\x1a\\x95\\xb1\\x8b\\x87\\x88\\x82K\\xc1x\\xa0\\xa88\\xb8\\x01\\n \\x8a\\x83\\x8f0\\xb1\\xa6\\x98\\x81\\x02\\x80\\xca\\x81t\\xe0\\x80\\x89\\x01\\x08\\x00\\xc9#S\\xcb\\x89\\x01\\x88\\t\\xc1!\\t\\x88\\xc3\\xe2\\x959\\x11\\xba\\x92\\x89y\\x08\\x9a(<jr\\x05\\xabhw\\xc9\\x08\\x80\\x80\\t\\x88\\x80\\x00\\x90\\x08\\x00\\x18\\x89\\xa4\\x19\\x82\\x18w\\xd7\\x08\\x08\\x80\\x08\\x88\\x08\\x08Q\\xa8\\x08\\x19\\x99\\x80\\xa8\\x91\\x91\\xa2\\x94\\x19\\x19\\x00\\r\\x12\\x1d\\x95\\xb2\\xa0\\x18\\xea\\x06\\x01\\t\\x10\\xca\\xb1\\xa7\\x1a\\x18\\xc2\\x93z\\x80\\x08s\\xc0\\xb8\\x82\\n\\t)!\\xca\\x11H\\'A\\xf1r\\xb7\\xa8\\x00\\t\\x88\\x80\\x00\\x08\\x88\\x91\\x90\\x00\\x00\\x18\\x8b)\\x92\\xb11\\x13\\x83gw\\x97\\x00\\x98r\\x85\\x9c\\x08\\x00\\x90\\x0c\\x98\\x80\\x08\\x08\\x88\\x08\\x91\\x80\\x90\\x90\\x80\\x01!\\x13\\r\\x1b\\x01\\x9e\\x88#\\x9c\\x12\\x98\\xb1\\xa1\\x97\\x1c\\xc4\\x80\\x90\\xa3\\x02\\xa9r\\xab\\xc42\\xb9\\x19\\x1a\\x84\\x0b1s\\xb2\\xf29\\x12\\x1e\\x19\\x08\\x8a\\x1b\\x06\\x8c[\\x1b\\x92 \\x81\\xb0 \\xdc\\x82\\x03\\x93\\x19\\xb4\\x00\\xe9#y\\xb2\\x08\\xcc\\xa9H\\x83\\x04\\x90w\\xc9\\x08\\x80\\x80\\x08\\x1b\\x00\\x81\\x91\\xc1\\x01\\x80\\x0c\\x12\\x8b\\xb1&P\\x8a\\x94\\x08\\xf3\\x1c\\xa8Y\\xa1\\x11\\xa2Xx\\xd1\\x98\\x01\\x19\\x00\\xd1(\\x18X\\xb7I\\x00\\x81\\x97z\\x17\\x8e\\x81\\t\\x08\\t\\x00\\x89 \\x99\\x08\\x88\\x00\\x88\\x1a\\x00\\x80\\xa0(\\x92\\x920\\x8d\\xc2)!\\xd9\\x08\\xb9kK\\x85+\\xb5J\\xd8H\\x88\\x90\\x11G\\x8e\\x80\\x88\\x80\\x81\\x91\\n\\x10\\t\\x19\\x808\\xf3\\x100\\xc2\\n\\xa1\\x80,\\xb1}\\x19\\xc01\\x1aA\\xe3\\x98\\x1a\\xa8\\x93|\\x80\\xc1\\x80\\x92!\\xc8\\x18\\xa9\\x12\\xa0|\\x11\\xb9\\x12\\x1c\\x8b!E(\\xdb\\x93\\x11\\xa5<\\xa2zw\\xf1\\x08\\x80\\x08\\x88\\x80\\x00\\x88\\x08\\x18\\x80\\x18t\\x87\\x0c\\x009G\\xe9\\x08\\x08\\x08\\x90\\t\\x08\\x80\\x08\\x08\\x08\\x80\\x80\\x00\\x19\\x9b\\x88\\x02\\x18-\\x11\\xa8\\x84[\\xb0)\\xb8\\x0b@\\xc0\\xa6Iw\\x8b\\x88\\x982\\x17\\xa9R\\x16\\xab\\x1b\\x00\\xbb\\x99\\x00\\x90\\x00\\x18\\x88\\x19\\x80\\x089k\\x1b%\\x99w\\xc9\\x08\\x08\\x91\\x02\\x91\\x92w\\xa7\\x8b\\x80\\x00\\x88\\x08\\x90\\t\\x80\\x88\\x1a\\x02\\xa9\\x10\\x88\\x10\\x08\\xd58y\\x87\\x0c\\t\\x08\\x91\\x80\\x18\\x80\\x1d\\x80\\x08\\x80\\x03+\\xd9I\\xb3\\x92Y\\x8d\\x10\\xb8A\\x0b\\x05\\xca\\x01r\\x07\\x0e\\x90\\x00\\x88\\x90\\x08\\x81\\x91\\x10\\xbaC\\x81\\x8a\\x02\\x9c\\x96\\x10\\x88J\\xb2,\\xb0\\t\\xa2c\\xa9wr\\x97\\x8d\\x00\\x08\\x88\\x08\\x19\\x08\\x80\\x89\\x00\\x10\\x98\\x00\\x91\\x81\\tz\\xa3\\xa8\\x90\\xa0\\x82\\x02\\xbe33\\x8f\\x10\\xa7\\x1a\\x08\\x00\\xc1\\x98\\x00\\x81\\x1b\\n\\xaa\\x879\\xa1\\xd9y\\x88\\t\\xa39\\x04\\xb9\\x18\\x1f\\xa3\\x06\\x8b*\\x15\\x98)\\xdb9\\xc21\\xb2\\xaa@\\xc4-\\x08**|\\xd1\\x08\\x11:\\xb0\\xa1\\x08Kq\\xa7\\x8a\\xa1\\x89\\x01\\xa3xw\\xaa\\x08\\x80\\x88\\x88\\x00\\t\\x88\\x11\\xa9\\x82\\x18\\xb2X\\xd3)\\n\\x00y\\xd3\\x1a\\x88\\x18\\x08\\x98\\x11\\xb8\\x94\\xa8\\x16\\x9d\\x94\\x99!\\xa2\\x9c\\x97\\x80\\t\\x11\\x0c3\\xab\\x12H\\xb1\\r\\xb2\\x9a\\xf1\\xa22/\\x18\\xa8H\\x1c\\x12\\x1f\\x03\\n,\\x1a\\x12\\x9a\\x13\\xdb\\x92\\x93k\\x0b\\xa1\\rh\\x11w\\xab\\x80\\x00\\x80\\x90\\t\\n\\x84;\\xc4\\x10\\x89\\x81\\x94<\\x08\\x9a1\\x9c\\xc2\\x80\\xb2\\x9f4\\x08)*\\xf1\\x02\\xa9X\\x80\\xcat\\xb8\\x88\\x92\\x12\\x9d\\x83\\x00\\xd9\\x01\\x83\\x8d\\x94\\x19;\\x01\\xd8\"9\\x80\\xf8p\\x97\\x8b\\x08\\x18\\x89\\x00\\x19\\x889\\x1b\\x04\\xd1\\x19\\xcb\\x16\\x181\\xeb\\x98\\x83\\x80*\\xc4\\x08\\x938\\xe8f\\xd0\\x08\\x88\\x18\\x08\\x80)\\xb99(;)\\xc40\\x98\\xf1\\x82#\\xac\\x9809\\x0e:\\xc2\\x00\\x08w\\xf2\\t\\x08\\x80(\\xa89\\xb1))\\x94)\\xa4y\\x97\\xa9\\x00@\\xac\\x92\\x88\\x02\\x8a\\x13\\xca\"\\x1aw\\x9a\\t\\x88\\x08\\x88\\x91\\x94\\x08\\x91\\t\\x83\\x9f\\x00\\x81<\\xd2\\xb3\\x80*C\\xd8\\xb8!R\\x8b\\x99\\x14w\\r\\x00\\x08\\n\\x18 \\x01\\x8c\\xb9\"\\xc8(:\\x92HH\\x98\\x9b\\x00\\x8a{\\xb4Z\\x88\\x03>\\x1b\\xc6\\x88\\x00\\xb9\\x83\\x83\\x1e0\\xbb\\x14\\x88\\x11<\\x87\\x18\\x1c\\xc0\\xb9S\\xb9\\x12M\\xd2\\x00\\x80\\x00\\xb9q\\xc7\\x18\\x88\\x91\\x80\\x88\\x08\\x01 \\xb8\\x00\\x8a\\xa9\\xa7\\x04)\\x87\\x0b\\xba\\x94\\xb8#\\xa8\\x83\\x86@\\xd8\\t\\x9a\\xa1\\x82\\xc0y\\xb2\\x91\\xb2(\\x80\\x92\\xbe\\xa2Q\\xd1\\x02\\x82\\x08\\xc8c\\x9a\\x00\\x9a(6)^w\\xab\\t\\x90\\x01\\x90\\x81\\n\\x01\\x10\\x0b\\x89@\\xa1\\xab\\x12\\xa1\\xc1\\x95\\x0b\\x95\\x19\\x04\\x91\\x0c\\x94\\x12\\n:p\\xb7\\x19\\x99\\xa9\\x92\\x93:\\xa4O\\x00\\x8a\\x1a\\x11\\xa9q\\xc8@\\x0b\\x91\\xbb\\xf1\\x04\\tA\\x9bw\\xa7\\x0b\\x88\\x00\\x88\\x10\\t\\x80\\x88\\x80\\x08*\\xa2\\xc39\\x19\\x1aH\\x12\\xa1\\xa1;\\xe9\\x1cp\\xb0\\x8a\\x87\\x88\\x92\\xb9!\\x00\\x88\\x06\\x8a\\x91\\xb9\\x14+\\\\\\t\\xc3\\x94\\x90\\xb1>\\x1c\\x98p\\xa1\\x00\\x99\\xa0\\xaaw\\x9a\\x90\\x10\\x91\\x88\\x19\\x98\\xb9\\'\\xc8A\\x8a\\x881\\xc0\\xe8C\\n\\x00\\n+\\xa6\\x90\\rB(\\xc0\\x19\\x0c\\xb3\\x00x\\xaa\\x13\\x19\\xb2;sw\\xbb\\x08\\x08\\x89\\xa20\\x90\\x08\\xa1\\xc9\\x15\\xa0k\\x90\\x89r\\x87\\x0e\\x80\\x08\\x80\\x00\\x90\\x80)\\x91\\x91+\\x90\\xc1\\x82\\x92\\xa5\\x91\\x8a\\xb0H\\x8dy\\x98\\t \\xc2@\\x98:i\\x99\\x00\\xbb\\xa3\\x07:\\x8b\\xa1\\x82A\\xb5$\\xc8e\\xb0\\x8a\\xa9\\x80@\\xb0\\xba\\x12\\xb4+w\\xe6\\x00\\t\\x80\\x88\\x00\\x00\\n\\x10\\x88 \\x08\\xc1\\x08\\xca@\\x1a\\x93(\\xc1;B\\x8c\\xd8\\x91\\x02\\x96\\x1a\\\\\\x89\\xc2\\xa2:\\x12:\\x95\\x99p\\xb9\\x08\\xa0kP\\xb6\\x8a\\x08\\t!\\x0b\\xc1\\x18\\x9a5\\xe0a\\'\\x8f\\x80\\x80\\x08\\x08\\x00\\t\\x91\\x980\\xa8\\x08\\t\\xc48\\x00\\xa8\\x88\\x84\\x8b\\x18\\xa7\\x1aq\\x90\\x9a!\\x97\\xba\\x11\\n\\x80R\\x93\\xcb\\x08\\xa93\\x9dB\\xc0\\x0c\\x82\\x12/\\x80\\xa1[(\\x9b\\x96y\\x06\\xa0|\\xb0\\t\\x08\\x08\\t\\x00\\x00\\t\\x18\\x9aY\\xb1\\x89#\\xda0\\x90Y\\x04 \\xbc\\xb8\\xd0\\x83\\x10\\x90\\x0bT\\xb9p\\x89\\x99\"\\x9b\\x01M*\\xa3\\x00\\x0f\\x80\\x802\\x0b\\xd2\\x1a\\x92\\xf4 \\x99X\\x89\\x88i\\x00w\\x8c\\x88\\x009\\x11\\xac\\x18\\t\\x01\\x99\\x90\\x11\"\\x9d\\x99\\x07\\x1a\\x91\\xa0\\x94+\\x92\\x1br\\x88\\x90\\x9b\\x96\\xa8\\x14\\n\\x9b\\xb5I\\x8a\\x83\\x82/\\xc9\\x02@\\n\\xb4\\x0b\\xd3k\\x91\\x19\\x88\\x10\\x08+\\xb6*p\\x07\\x9d\\x00\\x00\\x98\\x10\\x08\\x88\\xe3\\x92 \\x9a\\x82\\x1a=\\xc8\\x02\\x92\\n\\x17\\x88\\x08\\xe1 \\x89\\x10:x\\xf4\\x80\\x08\\x89\\x00+\\x089Z\\xb0\\x81d\\xf3\\x88\\x00\\x00\\x90\\x90\\x80\\x18\\xa0\\x93\\x9b\\xc1\\x049\\xe8t\\xd8\\x08\\x11\\x88*\\x00!\\x9b\\t\\xfb\\x10\\xb8`(\\x982\\xe1\\x89\\xb0]\\x188\\xa9\\xa8Z\\x94K\\'\\x9d\\x18\\x88\\xa9\\x82\"\\x8b8\\x1b\\xd1\\x84\\xa8\\x82\\x11\\xf1(\\x828\\x8c\\xa3\\xc9\\x99\\x87\\x90\\xf2\\x11y\\x07\\x8d\\x80\\x00\\x08\\t\\x80\\x88\\x18\\x00\\xa2\\xa1\\x80\\xf2\\x11\\xa0\\x92\\xa8Lr\\xe3\\x90\\x98\\x00\\x08\\x83\\n*\"\\x9a\\x9e\\x13X\\xa9)\\x0c\"\\x1a\\x0b\\x96\\x80\\x8a\\xc2L\\x03\\x0c8\\x0c\\xb1{\\xa3\\x01\\x11\\xea2w\\xf4\\x88\\x00\\x89\\x00\\x80\\x00\\x80\\x98\\x81\\x80\\x19\\x08,\\x90\\x02\\xc0\\x12\\xf8\\x911\\xb8K\\x900\\x11\\xf1y\\x98(\\x00\\xcas\\xc8\\x10\\x98yW\\x8d\\x88\\x80\\x00\\x08\\x88\\x00\\x88\\x08\\x00\\x88\\x084\\x18\\x99\\x90\\x1aw\\xbb\\x80\\x80\\x80\\n\\x93\\x08\\x89\\x88j\\x89\\xb3\\xa9\\x80&\\r\\x92\\xb0\\x02\\x11\\x1c\\xc3Y\\x19]\\x92J\\x92\\xaa8\\x1f\\x18\\x91Y\\x8d\\x03\\x8b\\x08\\xb8\\x04\\x89\\x91\\x1b\\xa6z\\xa2\\x91\\t\\xc9$\\x99\\xb3\\x1b\\xa1w\\xb7\\t\\x08\\x88\\x88\\x189\\xa2{\\x90\\x8a\\t\\xb8\"\\x98\\xc0\\n\\x87\\x80*\\x92\\xa94\\x0e\\x02\\x88\\x18j\\xb0\\x9a!\\xdc\\x04+a\\xa7\\n\\x98\\x01\\x809\\xe9 \\xb1 \\xa8*z\\xa3\\xa1\\x184\\x91!\\xef2\\x8c\\x89\\x00\\x19\\x08\\x85\\x1a\\xd2\\x91\\x9a\\xc2\\x11\\xb1z\\x89*A\\x81I\\x8b+\\xa2\\x98\\x98\\xb7\\xba\\x16\\x80\\x9a\\x81\\x0c\\x06\\x00X\\'z\\xb3\\xa8\\x8e\\x00\\x98\\x81(\\x19\\x1a\\x00\\xbb )\\x15\\x8d\\x01\\x00\\xf8s\\x07\\x8c\\x88\\x80\\x88\\x80\\x10\\x8a\\x10\\x08\\x93\\n;(,\\xa7\\n\\xb8\\x86)\\x99\\x89w\\x99\\xa2\\x89\\x90(\\x88\\x80\\x1a\\x88\\xb0q0s\\x93\\xf1\\t\\n\\x19\\x80\\xa1:\\x81+I<\\xc1\\xa8\\xc8\\x12\\xa6y\\xa0t\\xe0\\x88\\x00\\x88\\x90\\x01\\x18\\x89\\x91\\x009\\xa9\\x049\\x9c\\xa3\\x82y\\xa8\\x99\\x03\\xc0\\x03\\xb0\\xf0{\\x82\\x90:\\x92\\x0f\\x90\\x12\\x10\\x1f\\x03\\xb8;\\x9b\\x009\\x00/\\x93\\xa8\\xa5\\x00\\x82\\t|\\xd7\\x00\\x18\\x88\\x88\\x17\\x8c\\x08\\x80\\x08\\xa1(\\x98Y\\x19\\x90\\x99y\\x9a(\\x80\\xa0\\x90\\xe1#\\n:\\xb8x\\x89Y\\xb8 \\x94\\xa8z\\x9a\\x85\\t\\x898\\x8a\\x92\\xd2\\x10\\x1b\\xb9\\x12q\\x01\\xd9\\x11\\xc8\\x86\\xa8\\x85\\xa8\\xb1Q\\x92\\x0f\\x00\\x18\\x18\\xa0\\xc2\\x93\\x0c\\x86\\x8a;\\xa5*\\n\\x13\\x99\\xa1\\x18\\x82\\x07\\xday\\xb0\\x00\\x81+\\x01^\\x01\\x8c\\x92\\x02\\x89\\x9b\\x04,\"\\x8f\\x00\\x18\\x90\\x89\\x99\\xa4\\x02\\x1e1\\xf0\\xa1\\x04\\x1c(\\xb09 \\x11w\\xc9\\xa1\\x18\\x90\\x0b0\\x02\\x0b\\xa1\\xa5\\x80\\xb0\\xf3\\tc\\xbc\\x14\\x88\\x00\\x08\\xb3,\\x80\\xa3J\\xf3\\x11\\x87\\x0b\\x9a\\xa3\\x0b\\x13\\xa9Q\\xdc\\xa2\\x14\\x8b\\x82\\x89\\xb1w\\xc1\\x90\\x00\\t*\\x11\\x9a\\x99\\xa5\\x109u\\x97\\x0c\\x08\\x08\\x98\\x18\\x88\\x00\\x1ap\\x92\\xb1\\x8b\\x08\\x18=\\x02\\xba\\x97\\x18\\x99\\t\\x903\\x8f\\xe3\\x11Q\\xb0\\xba\\x13\\x01\\x19\\xb9)\\x1f\\x04:\\xd0 \\x92\\x0f\\x01\\x18\\t\\x81\\x9c\\xb2\\xd9`\\x18\\x92\\xb81\\xd9w\\xaa\\x81\\xb3\\x1c\\x01\\x80\\x19\\t\\xa8\\x93\\x81\\x98\\xa8B\\x02\\xbc\\xa12\\xf1(1L\\x1f(\\xb8\\x03\\xaa\\x94\\x8d\\xc5 \\x82\\x0bJ\\xb0\\x93\\x0c@\\xc1\\x13\\xe1K\\x982\\x8a1\\xaa_\\x9a\\x01\\xa9\\x020<S\\x17\\xae\\x08\\x10\\xa1\\x88 \\t\\x92)\\xa2\\x1f\\x19\\x12\\xcc \\xb2\\x02\\xc0\\xc1\"\\xd9\\x0f\\x94\\x88\\x01\\xb2HJ\\xabm\\xa8\\x10(\\x90\\n#\\xa8P\\xc8\\x01\\x19!\\x8f\\x81\\x1c\\x86\\xa9\\x02\\x11\\xbb\\xa4S\\x9c\\x90w\\xd4\\x88\\x08\\x08\\x10\\x99\\x00\\x88\\x80I\\x1a\\xb8\\x908\\x84+r\\x9e\\x01\\x80\\x01\\xaaK\\x11X\\xa6\\x0b2\\xad\\x10\\x19\\xb1\\x8a\\x07\\x8a\\x90)\\x01\\xa9!\\x10i\\xb4\\xb9\\x84\\xa9\\x00\\x07gK\\x91\\xa3z\\'\\x9f\\x01\\x00\\x8a\\x10\\x99\\x00`\\x94\\xac\\x80\\x10\\x98\\x08\\x88\\x00\\x88\\x08\\x08\\x10\\t\\x82\\x99\\r1\\x0c\\x16\\x9b!\\xc3\\x1b\\x19\\xb01\\xe2\\x01\\xa0,[9\\t\\xb1\\x92M\\x01\\t\\xc8\\x83L);\\x8a\\x06\\x80\\xf0\\x10w\\xb6\\x8a\\x08\\x18\\t\\x81\\x10\\x8a\\x88\\x99\\x12\\xd1\\x11\\x80\\x91\\x93\\xc9!jw\\xf3\\t\\x88\\x81\\x00\\x88\\x910\\t\\x00%\\xa4\\x8aw\\x06\\x89+\\'\\xc9\\x991\\xa0\\xba\\t\\x91\\xa8\\x08\\x88\\x08\\t\\x90\\xb2\\x91\\x91)q\\x9d\\x92\\x80\\x00\\x1aK\\x00L\\t\\xc0\\x88\\xa2\\x85\\x99\\xa2\\x83\\'\\n\\x03+\\x983\\xfc\\x10\\x05(\\xf2\\x0b\\x04\\x1a\\xb2w\\xb7\\n\\x88\\x80\\t\\x80\\x80\\x08\\x81\\xa8\\x10\\t\\x08\\xa0 \\n\\x08\\x03\\x12{\\'qw\\xc9\\x80\\x80\\x08\\x89\\x88\\x88\\x01\\x88\\x00\\x88\\xb0\\x11\\x80\\x01\\n\\x08\\xb3\\x93\\xa8\\x89\\x1a\\xc1\\x08@\\xa5\\xb0s\\xb7\\xb1\\x82\\xb9#\\x1e(\\xa9h\\xc1\\x88!\\x1a\\x91\\xbap\\xa2\\r\\x00\\x0b\\x030\\x91\\xb8<p\\xc79\\x99+\\x088\\xf0\\x82\\n{\\x80\\x98 0\\xb2\\x9f\\x93\\xb1:\\x11H\\x1e\\xd3\\x08\\xc1\\x02\\x12\\r\\x105\\x0f\\x88\\x90\\x10\\x81\\t\\x0b\\x92)\\xfb@\\x98J\\x8a$\\x9a\\xc01\\xd3\\x91\\x00(\\x0b\\xc8\\x96\\x83yW\\x0f\\x88\\x00\\x08\\x88\\x80(\\xa0\\x92\\x1a\\xa1+\\x818)\\xda\\x1dB7\\xab\\n\\t\\xa2-\\x91\\xb0s\\xd3\\x89\\x80\\x08\\x19\\x03\\xa0\\x80j\\xa1(K\\x9b\\xa3\\xc9pr\\xa9\\n\\xb2,0\\xa0\\x08+\\xb1\\xf0Pw\\xe4\\t\\x80\\x80\\x80\\x08\\x08\\x00\\x08\\x88\\x80;\\x80\\xa2I\\x8b\\x92\\xa4\\xd0\\x85\\x89\\x91 \\xc91\\xd3\\x88\\x80\\t\\xd3\\t\\x90\\x07\\x98\"\\xd8\\x80\\x90\\x14\\x1c\\xb8\\x101\\xcd\\x14\\x1a\\x10\\x11\\xdb\\xd1z\\x90\\x88P&\\x8e\\x98\\x81\\x88\\x10\\n\\x08(\\x00@\\xa8\\x00\\xf3\\x90\"\\x0c\\x11\\x1c\\x89\\x83I\\xd98\\xa0S\\x1c\\xa9\\x87\\xa8\\x08\\x08\\xb2\\x84\\x8b! wW\\xea\\x80\\x80\\x80\\x80\\x08\\x90\\x00\\x88\\x01\\x00\\x8a\\x93\\x18\\xc1\\xa4p\\xb7\\x99\\x805\\x9c\\x08\\x88\\x08\\x00\\x19\\x88) \\x0b\\xbb\\x93\\x11\\x97(\\xd6(\\n\\xa9\\x83\\x98\\x12\"_\\xc1\\x80\\x98\\x81 \\xa1\\xf2(\\x91\\xa2)\\x1a\\x1cz\\x88\\x96\\x9a\\x028\\xdc\\x13\\x18\\x9b)\\x0c\\xbbWG\\xbb\\x80\\xa0\\x93\\x1c\\x92\\x08:\\x9a!\\x81\\xa2\\xab\\x15\\\\\\xa6\\x1a\\xa9\\x92\\x88<\\x93\\x00\\xd8\\xa82\\xa5\\x16\\x8b\\xc2\\x08\\x90[\\xb2\\x0e0(\\t\\x998\\xa7\\x98\\x81=\\x0c\\x94I\\x99\\x19\\x01\\xf1\"\\x9aYr\\'\\x8e\\x88\\x90\\x00\\x08\\x11\\x88\\xc1\\x19\\x80\\x88(\\x19\\x8a\\x00\\xb0\\x01\\xdaa\\xc1\\x00\\xbb3\\x03\\xf0\\x94\\x88\\xb2\\tk\\x01-\\xa8\\x02\\x1c\\xc51\\xd9\\x18\\x92(\\xd0\\x03!\\xcb\\x88\\x88\\x879\\xb0\\xc0\\xa2\\x19\\xa6w\\xf3\\x08\\x88\\x00\\t\\x90\\x81\\x88\\x00\\x80\\x81\\xb8\\x80\\x11\\xa8j\\x08\\t\\xba\\xa7\"\\xb0\\x98[\\x91\\x89\\x0c\\x929\\x03\\xd8\"\\xb7\\x8a\\xa8\\x87\\x880\\xe1\\t\\x82+\\x80\\\\\\x19\\x92<\\x08,:\\xb85\\xfaJp7\\x9e\\x08\\x08\\x88\\x00\\x88\\x88!\\xc5\\x08\\x88\\x08\\x18\\x00\\x9b  \\xb1\\x84\\x1f\\x800\\x8c\\x82X\\x8a\\x9a \\xc4;\\x86\\x1a\\xc0\\xa1 \\xf8\\x82\\x18\\x00\\xa1\\x91-\\n\\xb2\\x94\\x03+O\\xe8\\x80\\x808\\x00\\x91x\\x97\\x8b\\x80\\x991\\xb3\\xb9\\x90w\\xd7\\x08\\x08\\x80\\x80\\x98\\x00\\x81\\x90\\x18\\xa0\\x10\\xa0\\x19\\t\\x94\\x19@\\xa8`\\xb9\\xa1\\x008-\\x84\\x0f\\x90\\x19\\x01\\\\\\x88\\xc3\\xd9\\x14\\x98\\xa1\\x19\\x84\\x9c0\\x10\\xfa \\x18Hw\\xba\\x80\\x88\\x80\\x80s\\xb5!\\xeb\\x80\\x80\\x80\\x08\\x88\\x91\\x19\\x93\\x99\\x00\\x990\\xb9A\\x92\\xc9=\\x81\"\\xac\\x191\\x0f\\x92\\xea\\x11\\x88\\x80\\x93\\xc8\\xe1r\\xc0\\x01\\x8a(\\xd8\\x12\\x99)*\\t\\x17\\x98\\x8a\\x82\\x07\\x1e\\x88\\x98\\t\\x91\\x81\\xc8x\\xa1\\x89\\x02/\\x800\\xb9:\\x10\\x81\\x9f\\x81\\x83\\x8d8\\x18\\xf4\\x99$\\x9a\\xa08*\\x84\\x1d\\x8b\\x85\\x80\\x0b\\x80P\\x1b\\xf2\\t\\x12K\\x9aC\\xeb\\x10\\x90\\x80\\x91(\\xba\\x94\\xe3*Q\\xbc\\x13\\x9a0\\x92\\xca\\xa4\\x1a\\xc3\\x11\\x1ew\\xca\\x90\\x01\\x80\\x01\\x89)\\x1a\\x88\\xa4)\\xa9\\x1e\\xd1#\\x89\\x80)\\x1fL\\x88\\x18\\xa3\\x89\\x11\\x9bZ\\x80;\\xc0\\xa0\\xa8\\x1f\\xa7\\x10\\x89\\x92\\xa0\\xf2\\x1a!\\xb3/\\x08\\x98\\x90;\"\\xc8\\xa1{\\x12\\x8b))\\x94\\xae\\xa1\\xf0\\x00\\x01\\x1e\\x10\\xb2\\x1a\\x82\\t\\x14\\x8c\\x08\\x95\\xc0*\\xe8\\xa83\\x81:\\xddH\\t)\\x94\\xd2\\n\\x01\\x82\\x98\\x8az\\x89\\x9a\\x99b\\xf1\\x13\\x9c\\xa2\\x88\\x03\\xd1\\x8a\\x04\\xb1\\x93\\x0b\\xb5\\x8b\\x85\\xb9\\x1e\\xa3\\x98\\x95)L\\x19\\xa8\\x03\\x1a\\xd7\\x08(\\xa8j\\x88z\\'\\x8f\\x80\\x80\\x08\\x00\\x88\\x08\\x90(\\xb08\\xe0\\x01\\x98!\\xa8\\x08\\x11\\x19\\xc5\\x08\\x1a\\xb2?\\xb2\\x89\\x04\\x80\\xb1\\xf2\\x11\\xc0\\n\\x85(\\x9b:< \\x8cp\\t\\xd2)\\xb1()\\xd9\\x11!\\x9f\\xa3\\x91\\x02\\xa9\\xa7\\x10\\x18\\xc0\\xb8\\x11\\x95K\\x0e\\x818)\\x18\\x8b\\x92+\\x0f\\xa8\\x07\\x80\\xa1*\\xf9I\\xc3\\x81\\xb2\\xe0A\\t \\t\\xa99\\x82\\x8d\\xa7\\x00\\x18\\x99\\x90\\x94:,\\xbc\\x86\\x03;\\x1b]\\x9a\\x81\\xa1\\x02\\xe1\\xa1\\x04\\x80\\x10\\xb2\\n\\x0c \\xab\\x95\\xc8\\x07\\x1a\\x08\\xa0\\x80\\xa7<\\x01\\x90\\tz\\xc0\\x19\\x01\\x82\\xbcR\\x99\\x85\\t\\xa0\\x08H:\\xa9+\\xdaF\\x9c\\x94\\x1a\\x95\\x99\\x03\\xbb\\x84\\x80L\\x92*\\x0bZ\\x1b\\xb1|\\x10\\xa8\\x00\\xb8z)\\x90:\\xa9I\\xa1\\xa6\\xb2\\xb2\\x06\\x8b0\\x9f\\x11\\xc1)\\xa3\\x19\\xb4\\x03\\x9d\\x86(\\x8b\\n\\x01\\x94\\x1d \\x9a2\\xd2\\x90j\\x98\\\\\\x9a\\x82q\\n\\x99(\\xf3\\x18\\x889\\x19\\xb2*`*\\xa9\\xb3|\\xa8\\x84\\x8a\\x01\\x92\\xc2\\x92\\xf3\\x88\\x03\\x8c\\x82X\\x92\\x9b\\x19X\\x8a\\xb8\\x19\\xd1\\xb2\\x86[\\x18\\x11\\xf1 \\x99\\x18\\xb0\\x10\\x01\\xa5\\xb8\"\\x1e\\x98N\\x83\\x1b\\x1b\\xf2\"\\x91\\x9b\\xc3\\x83-\\x08\\xd2\\x10)\\x82\\x1e\\x08\\x08X;\\x1a?\\x89\\xb1\\x10\\xf8!\"\\x0b\\x96)\\xa9\\xd0#\\x00\\x91\\xbbN8\\x8d']"
      ]
     },
     "execution_count": 11,
     "metadata": {},
     "output_type": "execute_result"
    }
   ],
   "source": [
    "messages"
   ]
  },
  {
   "cell_type": "markdown",
   "metadata": {},
   "source": [
    "Great scott! its really quite fast... we get a bunch more metadata like the the position of the receiver, some dial frequencies, bands etc.. Then we get a bunch of binary data! cool... but what is it? \n",
    "```\n",
    "b'\\x01\\xff\\xff\\xff\\xff\\x0e\\x08\\x08\\x08\\x08\\x88\\x00\\x08\\x08...\n",
    "```\n",
    "\n",
    "well, we did get a hint in the config dictionary that came before the data: \n",
    "```\n",
    "\"waterfall_scheme\": \"TeejeezWaterfall\", \"tuning_precision\": 2, \"fft_size\": 16384, \"audio_compression\": \"adpcm\", \"waterfall_auto_levels\": {\"min\": 3.0, \"max\": 10.0}\n",
    "```"
   ]
  },
  {
   "cell_type": "code",
   "execution_count": 12,
   "metadata": {
    "scrolled": true
   },
   "outputs": [
    {
     "data": {
      "text/plain": [
       "b'\\x01\\xff\\xff\\xff\\xff\\x0e\\x08\\x08\\x08\\x08\\x88\\x00\\x08\\x08\\x88\\x00\\x08\\x88\\x00\\xa1\\x00\\x80\\x08\\x91\\x19\\x80\\x08\\x81\\x88\\rt\\xe9\\x01\\x18\\x80\\x1a\\x11\\xa9\\x03z0\\x9f\\x00\\x88\\x80\\x08\\x80\\x02\\x88\\xb8,@\\xbaX\\x1d9\\tr\\x07\\x8d\\x18\\x88\\x81\\x99\\x11;\\xa2\\x9aW\\xa1\\xa8\\n\\xa8\\x11\\t\\x99\\x80\\x1by\\xc5\\x10\\x1a\\x00\\x82\\xd9A\\x1b\\x82\\x82\\x0f:\\xa0\\x088:\\xac!\\xa0\\x97\\txw\\x94\\xc8\\x8a\\x08\\x80\\x90\\x00\\x00\\x89\\x08\\x82\\x1a\\xc4)\\xa2H\\xc9\\xb3\\xa2p\\x98\\xa2\\x81\\xb0\\xa6\\x890\\x00\\xe0\\xa1\\x91\\x10)+1\\xc7\\x89\\x12u\\xb9\\x92\\xba\\x18\\xd3\\x12\\xa2\\x1e\\x11\\xf8(\\x00\\x9a8\\x92\\x01\\xa0?\\x1a\\x81\\xe1\\x92H\\x88\\xd8\\x12+)\\xc1\\x0088\\x9dR\\x9a\\x94\\xa9\\x80\\xf0\\x81\\x11:\\x93\\xae\"L\\x88\\xa86\\x8a,\\x90\\x95\\x1e\\x01\\x08\\t\\xf1 \\x81\\x80=\\xa8!\\xc1!\\x19\\xf8\\xa1 \\x8a\\xa5,\\x08[\\x89)\\xb4\\x82\\x89\\x08\\x92\\x90sM\\x19\\x1aK\\x19=\\xb0h\\x9a\\x88\\x93Y\\xa3\\x9a\\x1bx\\x81\\x9dH\\x10:\\x1c\\x92\\t\\xb9z\\x82\\xb8)[\\x13\\xc2*\\x9d*\\xc2P\\xa0\\x80\\x01\\x18\\xc2[\\x05\\x1d\\xb1\\x90\\x80\\x96\\xa0\\x11\\x8a\\x82pw\\x9d\\x81\\x00\\x08\\x80\\x91\\x80(\\xab\\x00\\x02\\x82\\x8c\\x86\\x88\\x89\\x05\\xa0\\x08\\xa0\\x88\\x07\\xf1!\\x98*\\x81\\x80\\xb2*\\x00\\x15\\xb0\\x12/\\x00\\x98\\xabl1\\xb7\\xa8\\x10*\\xb3\\tw\\x8b\\x80\\x08\\x91\\xb1\\x10\"\\x1d\\xca\\x04!9\\xbaM\\x91\\x99A\\xa4\\xa8\\x98y\\t\\xb1\\x10#\\t\\xaa\\xd9c\\xa0\\x949\\x07\\x8c\\xb1\\x01\\x11\\x81\\xc03;\\xcdq\\x97\\x9a\\x81)*\\x08\\x00\\x88>\\x00\\x89\\x00-\\x01i\\nY\\x10\\xc8\\t#\\x9f\\x00\\x83\\x08)\\x18*\\xd3\\x88R\\xa9\\xb1\\x03\\x8btxw\\x08\\x80\\x9e\\x80\\x00\\x08\\x81\\x98\\x80\\x08\\x91\\x188\\x8d\\x12\\x1b(\\n\\xc1\\x13\\xc5\\x19\\xb3\\x0b\\x87\\n\\x889\\x80\\x08\\x87\\x89\\x18\\xb5\\t\\x02\\r\\xb4(\\x88\\x12\\xe1Y\\x98\\x91#\\x0c\\x90\\xb2\\x03Y\\xb0\\x97\\x92\\xbb3\\xb8\\x07\\x19\\x81?\\x90W\\x8d\\x80\\t\\x01\\x88\\x80\\xa8\\x06\\xa8\\x91\\x01\\x98\\x10\\x93J\\x89@\\x1b\\x9a\\xf3\\x81<\\x98Q\\xba\\x94q\\x99\\x08)\\x10\\x9a@=\\xa3\\x0b\\xa7\\x10\\x81\\xd8\\x92\\x10\\x997q\\xc7\\x90\\x89\\x81\\x80\\x90\\xa1(H\\x0b\\xb1\\x12\\x10\\x1a8\\x0cj\\x18:\\x8a\\xfc\\x84\\xa0\\x83\\x8a\\x02\\x91(\\x00\\xb9O\\xb1\\x02\\x13\\xdc3\\x19,\\xa9z1\\xac\\x91Z\\x88\\x18q\\x87\\x8c\\x80\\x88\\x800\\xc8\\x01\\x01\\x8b\\x18h\\xc8)\\x84\\x19\\x1b$w\\x9c\\x08\\x90\\x18\\x00\\x08\\x80+\\x82J\\xa0-\\x18\\x08!\\xcc8\\x12\\x99+\\x94\\x8e\"\\xdc\"\\x08\\xb1\\'\\x9ax7\\x8f\\x08\\x00\\x88\\x80\\x01\\x88\\x89\\x99\\x11\\x88\\xb1\\x8c\"\\xa1#\\x12`G\\xb0\\xd3\\x9a\\x1aq\\xa7\\x0b\\x80\\x08\\x08\\x00\\x19\\xa89\\xc0:41\\xd9\\x82\\xca*\\xab\\x83#\\x80\\xd2\\xa9S\\xca\\x84\\t;\\xf2{\\x90\\x82\\x88\\x18\\x19\\x90\\x91ZZ\\xda\\x18y\\x89(\\x0b@\\xb0\\n\\x13\\x8c\\x08\"\\xf1\\x02\\xb1p\\t\\xd88\\x93\\x0b\\x90\\x98l\\xa4\\x99!\\xc0[\\x93\\x1c*\\xc0\\x90w\\x9a\\x98\\x01\\x00\\x92R\\x0b!\\x8a\\xb1\\x9f\\x08\\x91\\x8b%\\x9a!+\\x11\\xca\\xca\\x94\\x80\\x07\\x18\\x8a\\x19\\x1a*\\x90\\xa5\\\\\\x99(\\x08\\xa2\\xb3\\xa8YJ\\nP\\xf2J\\x90\\x1aQ\\x1b\\xa0\\x00\\x99\\xd3k\\x02\\nx\\x15\\x15\\xacs$8\\x83\\x8a9\\xf90\"\\xb9\\xa8\\x1f\\x81\\n\\xfb\\n\\x98\\x0b\\x98\\x08\\x98\\x81\\x89\\x80\\x01\\x87\\x9b\\x19\\x01\\xb1*\"\\x02\\xbc\\x8d\"\\x8a\\x88\\xa3 \\x82\\xf8]\\x18\\x19K\\x13/\\xb8\\x80\\x868\\xc2\\x1d\\xa1\\x82\\x99\\x18\\xa0\\x01\\x89\\x08\\x19\\x97(\\xbb\\xf3)w\\'\\x03\\xed\\x08\\x08\\x90\\x00\\x80\\x80)\\x88\\x800\\xf3\\x88\\x19\\x80\\x82\\x19$^\\xc0\\t\\xa0\\x10\\x00\\x08\\x90 \\xb0\\t\\xb3\\x88\\x03\\x8a\\xa9q\\xaa\\x07\\x1d\\xa3\\x06\\x0e\\x91\\t\\x81\\x00\\x07\\x9c\\x80\\x92\\x08\\x08w\\xd8\\x08\\x08\\x00\\x88\\x18\\x08(Hg\\x04\\xbc\\x89\\x80\\x80\\x08\\x08\\x08\\x19\\x98b\\xc2\\x89\\x08\\x11;\\xba\\x18\\x88\\x10\\x07\\x81\\x9b\\x88\\x00\\x08)\\x1f\\x8a\\x02\\x91K\\x11\\x0f\\x92\\xb1\\x18\\x90\"\\xe4;\\xa1\\x92\\x94[(;\\x0ci\\xa8\\x08\\xa0X\\x0e\\x88\\x13\\xa0-(\\xb0\\xd0!i\\xd8(\\xa0Q\\xc8\\x01\\xe8\\x12\\t\\x82\\t\\x19\\x81\\x91s\\xbb\\xc1\\x12\\xa4=\\x19\\xf2(\\x02\\x93\\xab\\x1c\"\\xca+&\\x17\\x0e\\n\\x81\\x90\\x80\\xa2\\x12z\\x97\\x8b\\x88\\x11\\x1b\\x88\\x8a\\x11\\x01\\x98\\x88$\\x95\\x1b\\x1b\\xcb\\xc1Rs\\x87\\x1c\\x98\\t\\x18\\t\\x08\\x89-\\x02\\t*\\x93\\x1f\\x81\\x18)\\xc6\\x89\\x13\\xdb0\\x18\\x89p\\x89q\\xf4\\x80u\\xb0\\n\\x88\\x88\\x00\\x88\\x00\\x08\\x88\\x12\\x8b\\xa8\\x10 \\x90\\xc88\\x93\\xb3\\x89-\\x91\\x1a \\xfb\\x15\\xa2\\x88\\x91\\xaa\\xb8\\x96*\\x83l\\x80\\x88\\x0c\\xc3@\\xb8\\xa5\\x91\\x03\\xe8*\\x98\\x14\\xa1 \\xea2\\xe1#\\xab\\x8ba\\x1a\\x00\\x9c\\x94\\xa8\\x12\\x15\\x1a\\x89\\t`\\x0f\\xb0\\x13L \\x90\\xd1\\xa0\\x11/\\x08\\t\\x02w\\x9c\\x00\\x08\\x80\\t\\x90\\x03\\x08\\xb0\\x98\\x01\\x8b0\\x12\\x11\\xfa4\\x8e\\xa3\\xa0\\x13\\xd98\\x89\\x00\\xd30\\'\\xac\\x02\\x1b \\xd8\\x11\\x00\\xc0\\x89z\\n\\xa5A\\x1c\\x89\\xa5 \\x98\\xc3\\x90\\x94\\x93y\\xa0\\x95\\xa3)\\n\\xa4Bp\\x89G\\x812\\x13!7\\x11\\x10\\xf9\\x89!\\x19\\x00\\x00\\xfb\\x1a\\x01\\xac\\xfa\\x99\\x9c\"\\xb1\\xac\\x90)\\x89\\xa1(\\x1c\\t\\x02;\\xe0\\x01\\x08\\xb8\\xb4\\xc1!\\t\\xc0\\x12\\x8c\\x00\\x81\\xb0\\x18\\xc7xW\\xab\\x19\\x87\\x8b\\x80\\x88\\x00\\x88\\x81\\x88\\x91\\x90)\\x93\\x90\\xca!\\xe3\\x01\\xa3\\x1a\\x03\\xc8\\xa0\\xb5\\xa1X\\x05\\x8c\\xb1{\\x90\\x18\\x19\\x8bCw\\x98\\x899w\\xe0\\x80\\x90\\x00\\x98\\x80\\x80\\x81\\x80\\x80\\x08\\x90\\x80`\\xb5\\t\\x88\\x08\\t\\x92\\x91\\x01rAS\\xa2w\\xd3\\x0b\\x08\\x90\\x99\\x08\\x08\\x98\\x80\\x00\\x18\\xb0(\\x10j\\xd1\\x00\\x88\\x80\\x10\\x98\\x98\\x80\\x9a\\x08\\x07\\xab\\x86\\xa8\\x918\\xd1\\x93\\xc3\\xb2\\x08S\\x0e\\t\\x80\\x85\\x89w\\xf2\\x08\\x90p\\x94\\x8d\\x00\\x00\\x88\\x132\\x01\\xca\\xbd\\x00\\x988\\x06 \\x8bw\\xc8\\x88\\x80\\x98\\x08\\x88\\x80\\x80\\x80\\x88Q\\x01\\x900\\x04\\xcb9g\\xc8\\x88\\x00\\x80\\x08)\\xb9\\x8e\\x08\\x80\\x00Px\\x85\\x9c\\x80\\x91\\n\\x180\\xa9\\x1b7\\xdb\\x00\\x90p\\x81\\x8c\\x81\\x80\\'\\xd9\\x08\\x80\\x10\\x90\\x8b\\x80\\x08\\x80\\t\\x00\\x00 \\'\\x8f\\x08\\x18W\\xb8\\x0b\\x08\\x08\\x90\\x80\\x80\\x88\\x80\\x08\\x80\\x880\\xb0\\x10\\x91\\x88\\x10\\x9a|\\x18vg\\xba\\x90\\x88\\x80\\x80\\x80\\t\\x00\\x19\\x98\\x11\\x90\\x00,\\x98\\x03\\xf0\\x03\\x05H\\x84\\x89-\\xd2\\x08\\x0bw\\xc4\\x8a\\x00\\x08\\x18\\xa18\\xc9!\\xab\\x08\\x00\\x88(\\x80\\x89\\x01\\xb8\\x87\\x82\\x9auW\\xc8\\x8a\\x80P\\x93\\x8e\\x08\\x081\\xc9\\x88\\x00\\x08\\t\\x10\\x80\\x18\\x89\\x08\\x92\\x9a\\x82\\xb0+\\x959\\x89\\x9a\\x8a\\xf2c\\xa4\\xb4\\x0c\\x08X\\xd3\\x90\\x19\\xa2\\x08\\x19@\\x99xW\\x0f\\x88\\x80\\x00\\x90\\x00\\x19\\x91\\x90\\t\\x18\\x00\\x90x\\xb6\\x89\\x00`7(\\x02\\xba$\\xc9\\x02\\x89\\x14\\xa0\\x0e\\x10\\x11\\xb9-\\xb0\\x14\\xa0\\xfc\\x8e\\x80\\x80\\x08 \\xa8\\x80\\x80\\x88\\x19\\x80\\x01\\t\\n\\x90)v\\x07+\\x91\\x11\\x17\\x0e\\x88\\x88q\\xb8\\x8a\\x80\\x00\\x88\\x18\\'\\xca\\x00\\x88\\x88\\x08\\x01\\x98\\x98\\x10\\x00\\xa0\\x0bP w2\\xc9\\xac\\x08\\x08\\x80\\x00\\x1a\\x03w\\x99*\\x98p\\x17\\x9d\\x00\\x88\\x00\\x90\\x89\\x00\\x19\\x88\\x80\\x80\\x08\\x98\\x08\\x11<\\xa91\\x199\\x90L\\r8q\\'\\x8f\\x08\\x08\\x08\\x88\\x91\\x10\\t\\x08\\x88\\x82,0\\xaa\\x89\\x92\\xa2x!H\\x9c\\xaa(\\xb92\\xa4*\\xf2\\xa0\\xa1\\x15\\x8e\\x86\\x86\\xa8yp\\xa5\\x8b\\t!\\x17\\xba\\xa9\\x80\\x00\\x08\\x80\\x10\\x99\\x80\\x82\\x01sW\\x94\\x8d\\x8a\\x08\\x80\\x08\\x88\\x81\\x80D\\xc4\\x0c\\x08\\x80\\x08\\x08\\x08\\x08\\x88\\x00\\x98\\x08\\x10\\xa2\\x1b\\x05\\x0bw\\xab\\x81\\x90(\\x89\\x10\\x8a\\xb3;:A\\xc9\\x84\\x88\\xa9G\\x8e\\x11\\x88\\x88\\x0b1\\x8bx\\xa0<\\x08K\\x1a\\x92\\x9c\\x969\\xb0\\x81p\\xa1\\x8a\\x12-\\x88Zy\\xa7p\\xa6\\x1c\\xa0\\x00\\x98\\x00\\x80\\x08\\x80\\t\\x00\\x00\\x90\\x88\\x90\\x11\\x90\\xc0\\x13\\x10u:\\xba\\x90=\\x88\\x81\\t\\x9d 0\\x08\\xa9\\xa2\\xc2\\xc3\\x10w\\xa7\\x8bq\\x92(\\xe9\\tU\\x80\\x80\\xbc\\x88\\x80\\x80\\x80\\x08\\x80\\x18\\xa8\\x08 \\x87\\x9b\\x00\\x02\\x1b\\xc3`\\xaa\\x08\\x11:\\x90\\x82\\xe9\\x11\\xa9\\x91\\x1bYz\\x90\\t8\\xa8r\\xf0\\x00\\x08)\\x80\\xb0\\x00\\x80`w\\xb9\\xb2\\x98\\x00\\x90\\x81\\x1a\\x920\\xa5@\\x92WA\\x89\\x019\\x89\\xb1@\\xba\\xa7,\\xf8\\x19\\xaa\\x80\\x03\\x0c\\x00\\x91\\x90\\x19\\n\\xb1+\\xa1\\x93\\xa0K \\x0f\\x98\\x14K\\xce\"\\x82\\xa0\\x01\\x80\"\\x99\\xbd!\\xa7\\t\\xa0c\\n<\\x89\\x9b\\xa7@\\xab\\x93\\x05+\\xa2rw\\x17\\x98\\xcb\\x08\\x88\\x80\\x80\\x08\\x08B\\xab\\x08\\x80\\x91)\\x88\\x19\\x90\\xa2)\\x87\\x08\\x08\\x93\\x8d\\x99\\x82\\x08\\xb6\\t \\x93\\x81\\xa2\\xaf3\\x8d:z\\xb1Y\\x90w@\\xd9\\x89\\x08\\x88\\x00\\x90\\x00\\x90\\x08\\x82;\\x08I\\x91\\x8d2\\x8d\\xb1\\x13<\\x18\\x90\\x90\\x16\\n\\x1e\\xb9\\x14\\xaa\\x04+\\xaay\\x90\\x19\\xa5\\xa9H9\\x18\\x99\\x05\\x1f\\x08r\\xf2\\x08\\x00\\x88\\x00\\x91\\x89\\x91\\xb8\\x85\\x08\\x91Avw\\x00\\x98\\x9e\\x80\\x80\\x00\\x88\\x81\\x88\\x80\\x80\\x08\\x88\\x00\\x90\\x08\\x19\\x11\\xf2\\x91(\\x99\\x82\\t\\x82\\x1f(\\x99\"(\\x8e\\x00\\x91<\\t\\x00\\x15\\xc9\\xb3\\x97\\x88\\x98\\x11\\x91{t\\xf3\\t\\x08\\x98\\x81\\x80\\x81\\x19\\x01\\xab\\x83\\xb0r\\x08\\x99\\x00\\x11\\x82\\xcc \\x11\\xcb\\xd3M\\xa9\\x84\\x80H\\x99\\x84\\n\\xb28\\x0c\\x18`\\xbb\\x11(\\xd68\\xbb!\\x1e\\x10\\x81M\\x90\\x18\\xa1\\x98{\\x97\\x9a1w\\x8c\\x88\\x80\\x08\\x80\\x08\\x18\\x00\\x98)\\x18\\x1b\\x90\\x003\\xcc\\xb9\\x03!\\x0c\\x07++2\\xf8\\xb0\\x83\\x95\\x01\\xd1\\xa1L\\x01\\x90\\x8a\\xa1\\x02H\\x81\\xbf\\x82h\\xb9A\\x91\\x0e\\x01\\x89\\x10\\x01+\\xd4\\x80\\x83H\\xf3\\x00\\x08\\xc9P\\x89C\\xa8\\x8b\\x04\\x1f\\xa1\\x00\\xaa@\\xa1\\x180\\x18\\x1f\\x0b\\x93\\x03\\xf8\\x00\\x81\\xabq\\xab!\\x18R\\x87\\x0c\\x89\\xa1\\x01\\x19\\x88Y\\x80w\\x97\\r\\x80\\x08\\x88\\x08\\x00\\x10\\x98\\x99\\x02\\xa2\\x00\\x12\\xbd\\x93\\x89\\x91\\x05\\xc0\\x92*\\x90\\xd1\\xa1 \\xa10\\x02\\xdaq\\x83\\x80\\x0f(\\xb9\\x12L\\x91w\\xd7\\x80\\x08\\x88\\x80\\x80\\x00\\x08\\x91\\t\\t!\\x91\\x91\\x9a\\x99\\x01=\\x88A\\xc9\\x83\\n\\xe19\\xe38\\x96p\\xa7\\x9a\\x18\\x19\\t0\\x02\\xd9\\x99\\x02\\x18\\x8c\\x97\\x1a\\x11\\x91\\x8c\\x02\\x08\\xb4\\x8a;\\x800\\x84g\\x80\\r\\xa0\\x89\\x800\\x9c\\x01\\x10\\x11\\xbb1Z\\x83ww\\x91\\xca\\x88\\x80\\x00\\x00\\x11t\\x87\\x8d\\x08\\x88\\x80\\x10\\x98\\x08\\x88\\x00\\x88\\x08\\x88\\x00\\x88\\x88\\x91!\\xa8\\x92+\\xb2\\n\\x96\\x81\\x19\\x08\\xf80\\x91\\x9c\\x17\\x9aQ\\x8c\\x08\\t\\x08\\x91\\xa02\\xc93\\xe1)\\x19\\x12\\x1f\\x80p\\x92\\n0\\'\\xae\\t\\x80\\x18\\x88\\x80qG\\x8f\\x80\\x80\\x08\\x00\\x08\\x80\\x90\\x08\\x18\\xb0\\x01(\\x0b*\\x91\\x19\\xc5\\x01\\x8a\\x11\\xa1o\\x91\\x89)z\\xd2\\x83\\x90\\xa0\\x91\\xb9 \\x009\\xd09Z\\x90\\x0e\\xa1\\x02\\xaa{\\xa03\\x9b=H\\x10\\x81\\xb8\\xf0}\\xb5\\t\\x80p\\'(\\xb0\\x9f\\x08\\x88\\x08\\x00`\\x98\\x08\\xa8\\n\\x01\\x88\\x08\\x88\\x92\\x08\\xa1\\x82\\x8c\\xb2\\x17\\xa9\\x99\\x94\\x08Q\\x9b\\x10\\x83\\x8a\\x82\\x9a)\\xa3\\x8bb\\x1b\\x91\\xfb\\x95\\n\\x1a&\\x8d\\x90\\x05\\x89\\x05\\x88\\x9a(\\x08\\x08\\xf0\\xb8h\\x08\\x18\\x89HQ\\xd9\\xa1*\\x8a\\x03\\xc0X\\x88+#\\xf0\\x00hw\\x80\\xb0\\x8c\\x88\\x00\\x90\\x80\\x01\\x98 \\xa8\\x93@\\x91\\xab\\xcb\\x95\\x80\\x18\\xa3\\xb8x\\t\\x18J(\\x93\\xcf\\x88\\x06\\x88\\x88\\x83\\x90\\xaaq\\x07\\x9c\\x81\\x98\\x00\\x80\\x91*\\xb0\\x08\\x87\\x91\\x9b4\\x1c\\x02\\x8c\\x07\\xaa\\x01\\x90\\x18\\x85\\xab9M\\t\\x80\\xc0B\\xa0\\xa9B\\xb9\\x180\\x81\\x9f\\x84(\\xc8\\x92;\\x80\\xac\"\\xb07E\\xad\\x1aY\\x8aYB\\xaa\\x88X\\xb8\\n\\xb8\\x01#\\xc8i\\t\\t)\\xa1\\x1a\\xbbx\\xb8`\\x88(\\xd3\\x99C\\xa8\\t\\x84\\x8f!\\xa0\\xaa\\x07\\t\\x02\\x99\\xa2\\x96\\x8d\\xa2\\x02\\xd2\\x99\\x15\\x16\\x9c\\xa0\\x02\\x19\\x11\\x07\\x0f\\x08\\x80\\x80\\x08\\x80\\x19\\x90\\x949\\xab\\x18\\x00[\\xc8\\x9bU!\\xd0\\x8a\\x08\\x89\\x80\\x17\\x8b\\x01\\x19\\xb7\\x80\\x88\\xa1\\x18-F\\xc8\\x08\\x98\\x11\\x1b\\x01\\x9bH+8\\x0f\\x92\\x18\\x99\\x04~\\xc4\\x89\\x08\\x88\\x13\\x9a($pJ\\x92\\x86\\x04\\x80\\x1a\\x11\\xa9\\xb1\\xb4\\x80\\x05\\x19\\x9d\\xa9\\x9c\\x9e\\x08\\x07\\r\\t\\x08\\t\\x80\\x81\\x890\\x00\\xaa\\x11/\\xb3\\x00:\\x10)\\xdd\\x94\\x19\\x92\\x92\\xa8\\x8a`\\x198\\x9a\\x9bX\\x11\\xf3F\\x8d\\x08\\x082\\xa9\\x0b+*\\xb2\\xa50\\xca\\x19\\x17\\x98\\x0c\\xa0\\xb4\\xa0\\x03\\x15\\x08\\x0b1ww\\xa3\\xa9\\xba\\x89\\x80\\x00\\x08\\x88\\x80\\x18\\x00\\x89)\\xd9\\x02\\x10\\x8br\\x96\\x8a\\xaa\\x02\\x1a\\x82\\x82\\x9b\\xb7(2\\xa7\\x8b\\x07\\x1d*\\x80A\\x91\\xac\\x1a\\x81\\n(\\x13\\xd8:\\xc3{\\x1a\\xb8\\x14\\x90\\x1a\\x11\\x0e\\tj\\x18\\x19\\x16\\xca\\x80\\x88\\x803\\x8f\\x08\\x92\\x19*Hy\\x07\\xca\\x80\\x80\\x90\\x00\\x08\\x90\\x92\\x83\\x9a\\x00\\xb0w\\xc7\\x80\\x80\\x88\\x08\\x08\\x88(\\x98)\\x1a\\x08\\x99q\\x85\\x99\\x00\\xbb(\\x9b\\x06\\x19\\x81+\\xc3\\xc1Rg\\x8d\\x08\\x88\\x08\\x00\\x19\\xa0\\x023w\\xf3\\x89\\x08\\x08\\x80\\x80\\x10\\x90\\x00\\x19w\\'\\x88\\xb9\\x8d\\x80\\x11\\x17\\x88\\x9d\\x80\\x08\\x08\\x88\\x00\\x88\\x00\\x08\\x18\\x98\\x18\\x88\\x009\\x8b\\xa1\\x93\\xb9D;\\xbbQ*\\x96k\\xe2\\x80\\x08\\x00\\x89H\\xa8\\x00\\x88\\xd2\\x02q\\x80\\xca\\x88\\t3\\xca\\x13j\\xa1\\x8a\\x18\\xd1@\\xc11v\\xf3\\x89\\x18\\x08\\x90\\x11\\x10\\x02\\x00k\\x00@\\x93X\\x12\\xd9\\x10\\x90\\x00\\xa8b\\x92\\x8e\\x12\\xa9\\xac(\\xb9L\\xa3\\xabR\\xdb\\x89\\x88\\xba\\x90+\\xb1Y\\xa9\\x02tg\\x9c\\x88\\x80\\x80\\x19\\x18\\x00\\x1a\\xa0)\\x00\\x87\\x8c\\x11\\x99\\x81\\x99\\x01\\n0E\\xc1\\xab\\x02p\\xb1xGH\\xf9\\x89\\x81\\x08\\x88\\x80\\x18\\x00\\x81\\xa8\\x90\\x08\\x08)\\xb6\\x01Jw\\xe6\\x08\\x08\\x80\\x08\\x08\\x08\\x08\\x88\\x80\\x00\\x80\\x89!\\x92\\x1b(w\\xd6\\x18\\xa0\\x88\\x00\\x08\\t\\x80\\x80\\x80\\x81\\x92\\x99\\x11\\x19\\xd80\\x99 (\\xa0yI,\\x8a\\x83\\x95\\xd22(B0u7\\xb1|\\x86\\xab\\x00\\x80\\x9a\\x08\\x88\\x88\\x08\\x88\\x18\\n\\x80\\xa1\\x08\\x89\\x83\\xab\\x13\\x1a\\x1aw\\xba\\xa0\\t1\\x94\\x9b\\xd3@\\xa0\\x98\\xa4\\x18=\\x19T\\xaa\\x19\\x00{w\\xab\\x00\\xa0\\x80\\x81\\x88\\x80(\\x90\\x19\\x82\\x0f\\x06\\x8a\\x88\\x80\\x13w\\x13\\xa9\\x11t\\xa5\\x8d\\x88\\x00\\x88\\xa9\\x08\\x88\\x18\\x88\\x88\\x91!\\xb4\\x1b\\x89\\x12\\x02\\xaa\\xa0\\x1f\\x82*\\xba%\\x8b\\xc4(J\\x99@\\x8b\\x00\\xf2\\x00!\\x89\\x1c\\x13\\xf1y\\xa0d\\x10\\x13W\\xda\\x88\\x98\\x10\\x91\\x8a\\x90 w\\xe0\\x08\\x08\\x00\\x90\\t\\x80\\x08\\x80\\x80\\x00\\t\\x884\\xcb\\xa1\\x00\\x00\\x89\\x81\\x80\\x11\\x88\\x1d2Kw\\xab\\x90\\x00\\x08\\x90\\x91\\x89%9\\xd7\\x08\\x80\\x98\\x81\\x02\\x999\\xb3\\xa0\\x13zHzw\\x92\\x9c`\\x82\\x9d\\x10\\x02\\xb8\\x8b\\x10\\x98\\t\\x88\\x00\\x08\\x10p\\xe4\\x08\\x80\\x00\\x08\\x00\\x81\\x10qG\\x80\\xa8!\\'\\xe9\\x88\\x01\\x08\\xb8\\x8d\\x08\\x88\\x08\\x08\\x08\\x88\\t\\x80\\x18\\x98\\xa9\\x82\\x00X\\x91\\x0c\\x89\\x10\\x9br8+w\\x15\\x02\\x93\\x88\\xb2\\x13\\xb1\\xb4\\x10\\xd2\\xb8b\\x9c \\x18\\x0f\\x93\\x91\\xa9\\xfa\\x8e\\xa8\\x80\\x08\\x88\\x90\\x11\\x10!\\xad\\x98\\x80\\x90\\x80:\\n\\xc1\\x04\\x19\\xb9&t97\\x12\\x19\\x91)\\xc9\\xa3,\\t\\xa1z!\\xd0 \\x0c\\x911\\x0e\\xc0\\xaf\\x89\\x80\\x88\\x80\\x00(\\x06\\x8d\\x08\\x80\\x18\\x98\\x80\\xa8A\\x89\\x91\\x18\\xa0\\x03\\xf2\\x10\\x1a\\x92q\\xc7\\x88\\x88\\x81\\x00\\x90\\x00\\xbaqw\\x9b\\x88\\x90\\x10\\t\\x01\\x12@\\x8f\\t\\x88\\x01r\\xf4\\x08\\x80\\x88\\x00\\x90\\x00\\x19\\x19\\x80\\x97\\n\\x90r\\xb2\\x0c\\x80\\x18\\xa0\\x00\\x88\\x88\\x928\\x9a\\x00\\xb8\\x14\\xab\\xd0\\x04\\xc9\\x93z\\x92\\x80\\x89\\x08\\x19\\x15v\\xd9\\x18\\x08\\x91\\x80\\xa9\\x12\\xb8\\x00\\xe0a\\x90\\x93w5\\xd8\\x9b\\x88\\x00#\\x90\\xd9h\\xc0\\x08\\x88\\x00\\x08Bb\\xf9\\x08\\x88\\x80\\x81\\x88\\x01\\x89\\x88\\x18\\x80\\x91\\x18\\xb10\\x0c\\x02\\n\\x99X\\x81\\x08\\xac\\x07\\xb9\\xa2\\xa5(\\x10J\\x8b-\\xc0\\x15\\x99\\x1a\\x80\\xa3\\x18\\x1a0\\x94pw\\'\\xd9\\n\\x88\\x00\\x88\\x80\\x80\\x00x\\xa3\\x8c\\x08\\x90\\x08\\x80\\x80)\\x988\\xa9\\x11\\x95\\xd8(\\x90[\\x00*\\xb2\\xe3\\xa1\\t\\xa0s\\xa0\\x12bw\\x97\\t\\xb8\\n\\x80\\x08\\x08\\x08\\x80\\x1a\\x90)\\x10:w\\xc9\\x18\\x88\\x00\\n\\x01\\x88\\x00\\t9\\x98w\\xd6\\x88\\x08\\x08\\x80\\x00\\x08\\x90\\x92\\x89)\\x02\\xa8\\xa5):w\\x07\\x9d\\x00\\x88\\x80\\x08\\x08\\x80\\x08\\x90\\x10\\x88\\x08+\\x82\\x91\\xc1\\x00\\x85\\x8e\\x02*\\xa1+\\x07\\x0b\\x00\\xb1\\x0f\\xe21\\x12\\x1c\\x89\\x08\\xb2\\xa2yw\\x8c\\x08\\t\\x00\\t\\x10\\x88\\x88\\x80\\x90\\x81:\\x93\\x0bH\\xd3\\x1a\\x81\\xac@2\\xbaE\\x0f\\x80\\x81\\x08\\x93\\x0f\\x11\\x18\\x1c\\x80\\x00, \\xe8\\x808\\xe0)\\x10I\\xa1\\x80Z\\xa8\\x18\\x0c\\xa4\\x11\\xc8\\x190r\\x17\\xab\\x9a\\x88\"\\xc0\\x88k\\x93\\t\\x8c`\\x9b\\xa0#\\xb2\\xa2\\xbcs\\xa9\\x94\\x89\\x01\\x08\\xc3K\\xa4\\x10\\x8b\\x12\\xa3\\xf3>\\t\\xc2\\x03\\x93\\xab\\x08?\\x98)\\x00\\xb2\\xf3\\x11\\x04\\x9c\\x81S\\xc0\\xa9\\x82\\x1c0w\\xba\\x10G\\xac\\x00\\x88\\t\\x81\\x00\\x88\\x08\\x89\\x93\\x10\\xb9\\x12\\xa1\\x02\\xc0I*\\xf2\\x08\\xc3\"\\xfb8\\x18\\x90;,\\x8ac\\x99\\x99\\x06\\n\\xb3M\\x02\\x1d\\xa2\\x00\\x90\\x8a \\x1f\\xa0\\x86\\xd0\\x82\\x88\\x98\\xc1r\\xb7\\x88\\x18\\t\\x81\\x8a\\x12\\xca\"\\x82\\x1c\\x02.\\x00\\xa8\\xb0r\\x89\\x18\\xd9\\x14\\x982\\xb9\\x9c\"\\x8a\\x13\\xbcz\\xa0\\xa10\\xda\\x82\\x000\\x90w\\x8d\\x80\\x81\\x80\\x19\\x80\\x9aQ\\x9a\\x10\\x9c\\x07;\\x99\\x18\\x92s\\xf5\\x08\\x08\\x08\\x08\\x80\\x88\\x00J\\x08\\x90H\\n\\x80yw\\x17\\x88\\xc8\\x8b\\x00\\x08\\x08\\x89\\x18\\x08\\xa0\\x81\\x08*\\x12\\x99\\xda\\x85(\\x08\\xc0\\x93\\x88.\\x80\\x92\\x08\\xa5-\\x00\\x00\\xd29\\x99\\x9b\\x85\\x13-x\\x97\\x0b\\x08\\x88\\x00\\x08\\x01\\tC\\n\\xa2\\x85 BJDCDG\\xa1\\xbb\\x9b\\x89\\xa9\\x89\\x88\\t\\x9b\\x98\\x12\\xc8\\xe1\\x08\\x01\\x8a\\x84\\x1f\\xa0X\\x08\\x10I\\xf0\\n!\\x88\\xa5\\x99\\xa1\\x98\\x02\\x01\\xb2\\x1e\\x91\\xa5\\n\\x888\\x98O\\x00\\x0b\\x02\\xda\\x14\\xb3:\\x9b\\x81\\xf3\\x08\\x88\\x80\\x07\\xaa\\xa0w\\xb9\\x00\\xa9P\\x08\\x909\\x8a\\x01;\\xba\\x03-\\xe0\\x86)\\x8a\\x82\\x19\\x80\\t}\\xa1\\x80\\t)\\x1b\\xc8\\xd31\\x8av\\xaa7\\x8d\\x88\\x00\\x90\\xa1\\x10\\x08\\x8a\\x11\\x88(\\x0b\\xb0\\x05I\\x91\\x8f\\x02qG@\\x90\\xb8\\xaf\\x00\\x08\\x08\\x91\\x08\\x19\\xa0\\x08\\x01\\x18\\x91\\x91\\x80\\xd2\\xb2\\x808-w\\xd8\\x00\\x88\\x19\\x88\\x18\\x92\\x18\\r\\x19\\x88r\\xa7\\x89\\x88\\x98\\x00\\x01\\t\\x19\\xc2\\xb1\\x15\\xa9J\\xa1\\x0c\\x93\\x93@\\xa00\\xc0)\\xc9\\x07-\\x89\\xb8#\\x80\\x81\\xb7\\x10Xw\\xab\\x18\\x89\\x00\\x98\\x18\\x82\\x91+\\xa6\\x1b\\x80:\\x1a\\x94]\\x01\\x99\\xb9\\x13\\x1aw\\xd9\\x80\\x80\\x91\\x90\\x11\\x80\\xb0\\t3\\x10\\xe9h\\xb9\\x18\\x83\\x9aX*\\x1c\\nC\\xaf \\x02R\\xba\\x90\\x1c\\xb1\\xa41\\x9c\\x15\\x0b\\xb1#\\x98\\x89^\\x89\\x90\\x080\\xc1\\x02\\x89\\x1d\\r\\x15\\x8a\\xf2\\x01\\x11(G\\x9d\\x88 \\x8a\\x90\\x88\\x81z\\xa8\\x00\\x91+4\\x8f\\x19\\x81<\\x901\\x19\\x8c\\x92\\xc4\\x10\\x1c\\x1a\\xa4(\\xf81\\xa9\\x08:\\x91\\xa2\\xf38\\x16\\rA\\xb0\\xb3)\\x14\\x81\\x02\\xbb[\\xa9\\x97\\x80(\\xc8\\x03\\x7f\\xa9\\x1a\\x80\\x80)\\x01\\xd8\\x92\\x91\\xb9\\x19p\\x98\\x109\\xb0\\x88<\\x0cQ\\xa0\\x1b\\x06\\xa9\\x94\\x88\\x8c\\x83\\x18 \\r\\xc2\\x11\\xe4J\\x08\\n\\x98\\x93)\\x02G\\x99\\xae\\x04\\xb82*u\\x97\\x8c\\x80\\x08\\x80\\x00\\x07\\x8b\\x80\\x89\\x81\\x19\\x08\\x88\\x82\\x899\\x87:\\x8b\\x95b\\x1b\\xf2\\x01\\xb8\\x08\\t:\\x08\\xb8L\\x83\\x18\\x8c\\x90@!Y\\x9f\\x93\\x08;\\xa8\\xa2!\\xaa\\x0b\\x97\\x01(\\x91\\xda\\x02/\\x82/\\x80\\x11\\xb0\\x88f\\xf1\\x00\\xa0(\\xa8\\x11\\x88\\xb0\\x13\\x9bI\\x8b\\x94\\x95-\\xa4\\x11K\\xb3r\\xc1)\\xac\"\\x1a\\xd3\\x990s\\xe8\\t\\x08\\x00\\t\\x81\\x1a\\x80\\x85\\x0c\\x10\\xc1\\x18\\x882\\x1c\\n\\xb8\\x16\\x8b\\x02\\xa10W\\'\\xc0\\x01g\\xca\\x18\\x80\\x8a\\x88\\x00\\x08\\t\\x88\\x01\\x90\\x81\\xa1\\x08y\\xa1pw\\xb0\\x8b\\x80\\x00\\x08\\x88\\x08\\x19p\\xc1\\x80\\x89\\x80\\x90\\x80\\x80\\xa2\\x91\\t\\x91\\x00\\xd3 :\\xd3\\x10\\xad\\x85)\\x99\\x83(J\\x89\\x1d\\x80\\xc4\\x81\\t\\x12\\xbf\\x87\\x08\\x01t\\xb9\\x89\\x80\\x08\\x19\\x11\\x19\\xc8\\x91\\x13Cw+F\\xd0\\x99\\x10\\xa9\\x08\\x00\\x98(\\x19\\x8a\\xa2\\xa5 \\t\\x08\\x92\\x94Y\\xc1\\x04\" w\\x07\\x10\\xa9q\\x86\\x8c\\x08\\x80\\x99\\t\\x89\\x88\\x08\\x88\\x08\\x88\\x18\\x88\\x88\\x00\\xc1\\x91\\xa4\\x12\\xa8)\\x9b\\x10\\x0f\\x10\\x08\\x98\\xf1\\x11I\\x9b\\x01\\x01\\n+\\x9cM\\x06\\x1e\\x88\\x81\\x18\\t\\x98\\x08\\\\\\x88:r\\xf2\\x18\\x80\\xa1\\x80\\x880*\\xf8\\x14+\\xa9\\x19\\xa5\\x80\\xc0Z\\x1a\\x01\\x9c\\x000\\xb8\\x12\\xb0x\\x88p\\x9b\\x93\\x80\\xba2\"-\\tw\\xe5\\x08\\x08\\x90\\x00\\t\\x80\\x08\\x18\\x90)\\x8a\\x00\\xca2\\x13\\x8a}\\x18\\x0b\\x00\\x91\\xb8\\x859\\x9bj0\\xfaq\\xd2\\x18\\x88\\x80 \\x89\\x82\\x0bG\\xe0p\\x85\\n\\x02r\\x94\\x8d\\x88\\x19\\x91\\x8c\\x01\\x99!\\xb9\\x88\\x08!\\x9a\\x88\\x19\"\\xc8\\xa1!\\xba\\x10y,\\x19\\x01\\xf1\\x92\\x80\\n!\\x1cp\\x89\\x19\\x18\\x9b\\x93\\x83rg\\x8d\\x08\\x88\\x80\\x80\\x19\\x08\\x81\\x08*\\xb01\\x91\\xccH\\xc2`\\n)\\x08\\x00\\x0f\\xa1\\x98\\x03\\x19p\\xb4\\x0b\\x89\\x12\\x18\\x11\\xb9\\x19\\x9e\\x14\\x01\\x0c\\xbd#\\xa4J\\xb2\\x93\\xb2\\xc8$\\x18?\\x86\\x1a\\x1aJx\\x97\\x19\\xa2qG\\xac\\x80\\x88\\x02\\x9b\\x08\\x08\\x08\\x80\\x93\\x92qq\\xb3\\xa8\\x81AG\\xda\\x08\\x89\\x02\\xca\\x88\\x80\\x80\\x08\\x08\\x08\\x90\\x08\\x90\\x18\\n\\x801\\x0e\\xa2\\xa0\\x11#\\xad\\x02\\xa8\\x18\\x19\\x1c\\xc2C-w\\xb9\\x19H7\\x82\\xae(7\\xfa\\x00\\x01\\xa0\\x99\\x08\\x08\\x08\\x80\\x18\\x88\\x08\\x18\\n\\x18\\x19\\x10\\x1aw\\xf1\\x00\\x08\\x18!\"\\x18w\\xe2\\t\\x88\\x08\\x89\\x19\\x91\\t\\x98\\x00\\x90\\x80\\x18\\x81,\\xa0\\x10\\xd9\\x84p\\xa7\\x0b\\x80\\x00\\x90\\x89\\x11\\x998\\x1a\\x00\\x08\\xe0H\\t\\x80\\xb4:\\xb9Ij\\xd1\\x01\\x982\\r\\x19r\\x87\\r\\x90\\x00\\x88\\x80\\x08\\x81:\\xc1\\x00\\x89\\x83\\xb9\\x14\\xa93\\xdbC\\x1a=\\x91\\x9b\\x8apG\\x92k`\\xa5\\x8e\\x00\\x08\\xa1\\t\\x08\\x80\\x08\\x80\\x88\\x10\\t\\x88\\x01\\xa8)r\\xb2\\x8d0\\xa8\\x98<\\x892\\'\\x9d \\xd4\\x08\\x800\\x89\\xb9\\n!,\\x80\\x0c\\x11\\\\\\x80\\xa1[\\nL9\\x10\\xc8(\\xa9\\x96\\xd23\\x9c\\xc21\\x18\\xb8x\\t\\x8az\\xc2)\\x08\\xc8\"((\\x8a\\xa1\\xfb\\x18\\t1\\xf0\\x1b\\x80\\x04p\\xa7\\x8b\\x81\\x08\\x19\\x98qw\\x8b\\x08\\x89\\x88\\x18\\x89\\x81\\x18\\x08\\xa0\\x90 \\x999j\\x01\\xa9 r\\xd5\\x88\\x99\\x92(\\x00\\x99]\\t\\x88\\x18\\x90\\x82\\x88z\\x1b\\x11\\x0c\\x00\\x8a8\\xd4\\x85\\x91\\x1b$\\x18\\xbf1;\\xab\\x85\\x08\\x89\\x1a\\x18\\x0e0\\x95\\x00\\xe9\\x8a\\x07\\x98\\x92\\x00\\x88\\x90J\\x88\\xf0@\\xd8\\x82\\xa0Q7\\x8e\\x08\\x89\\x01\\x90\\x18\\x18\\x88\\x1a\\x93\\x0e\\x81;\\x01\\xc8\\x00\\xf3\\x00!\\r\\x81\\x91\\x90\\n\\x81\\x07\\t\\xf1\\x10\\x93\\xa8\\x01\\xa0p\\xe4\\x08\\x80\\x19\\x80\\x18\\x80-\\xa2\\x10\\x0b\\x97+\\xb0\\x00\\x98[z\\x91\\x89r\\x87\\r\\x08\\x98\\x11\\x98\\x90\\x81\\xa8\\x03\\x03\\x1b\\xf3\\x19\\x10\\x81C\\xfb\\x00\\xb2)\\x989\\n\\xa12\\xdbw\\xe4\\x88\\x80\\x80\\x10\\x89\\x00\\x98(\\x89\\x90*19H\\xfb\\x82\\xc30\\x89O8\\x8a\\x98\\x90k\\xa8w\\xd0\\x80\\x88\\x00\\x89\\x02\\x80\\x19\\x80\\x89\\x1c\\x02\\x10W\\xb2\\xd8\\x881\\xca\\x80\\x88\\x18\\x98\\x11.\\x01\\x90w\\x8c\\x91\\x88\\x81\\x00\\x90\\x1b\\x82\\x93\\x0b4\\x0c\\x8b\\xb41\\xc9\\t\\x82\\x13*\\x0f\\x01\\x9c\\x97)\\xb9a\\x17\\x8d\\x08\\x08\\x18\\x8aB\\x89\\x1b\\x08\\xb2\\x1a8\\x85\\x98\\xe9\\x10 \\t\\xb1\\x8da\\x19\\x1b1\\xc0\\x893\\xf2\\xa9\\x88@ \\xbbi\\x93\\x87\\n<\\x00,\\x85\\x91\\xba!\\xac\\x03\\x9e\\x93z\\xb1\\x81\\t9\\xc1q\\xd7\\x08\\x08\\x18\\x08\\t\\t\\x00\\x80\\xc1\\x11\\x10\\n8*\\xcdW\\xc1\\x99\\x10\\t\\x90\\x81\\xa1 \\x18\\xd1B\\x8b\\xe1\\x10@\\x80M\\x90\\x08\\x8a0\\x8c\\x81#\\x8b4\\x9f\\x98\\x91\\x14J\\xf1\\x91\\x80\\x89a\\x82\\x19w\\xca\\x08\\x88\\x81\\x88\\x11\\x9a \\xa0\\x90\\x10\\x94\\xa8< \\xbbh\\xb8\\xa2\\x01\\x83\\xaa\\x95\\xb3\\x07\\x9c\\x80\\x93|\\xa7\\x88:\\n\\x88\\x11;\\xa8\\xb3}\\x08\\x98\\xa0\\x92\\x98$\\x8c\\x02H\\xcb!\\n\\xf2X\\tt\\x97\\x8c\\x00\\x88\\x80\\x80\\x88 \\x99\\x00\\x91\\x800\\xb0\\x80\\xcc$\\xc0@\\xb8\\x1a\\x83\\x00\\xd5\\x1a\\x82\\xc4*\\x88\\x00\\x9b\\x13\\xb7\\x18I/\\x88\\x81I\\xa1:\\xaby\\xb2\\x02\\x08\\xf8\\x10\\x08\\x91\\xe0\\x13\\t\\xb18r\\xcc \\x91*+\\xb2{\\x19 \\xf0\\x10\\x8aI\\xb2\\x80\\x9aQ\\xd9 \\xa2\\x94\\x18\\x89\\x19\\x08\\xa5C\\xe8\\x18\\x19*\\xc2\\n\\xc4\\x88b\\x8a\\x02\\xca9\\x01\\xd8P\\x90<\\xb0\\x16\\x9bK\\xb2\\xd0\\x05\\x9a x\\x07\\x8d\\x80\\x00\\x98\\x01\\t\\x00\\x99\\x91\\x80\\xa2\\x02\\x01\\xf9\\x12Y\\xb8\\x988\\xc4\\xb8\\x80\"j\\x1a\\xcaa;\\xa1\\x90\\x11\\xc0H\\x94K\\x91\\r \\xc4\\xa9\\x114\\x19t\\xf2\\t\\x08\\x80\\x18\\xbb\\x04@\\xbbAr\\xf3\\n\\x00\\t\\x08\\x90\\x81\\x98(\\x1a(\\x18\\xa7\\xb1!-\\x91\\x8c\\x04\\x89\\x18\\x88\\x90\\x91\\xa0\\'\\xb9;\\x98M\\x83-\\x82\\xf3\\x08\\x193\\r\\xb2\\xb8X\\x91A\\xb7\\x8c(\\x92(\\r\\x19\\x88P\\x80\\taw\\x8d\\x08\\x08\\x80\\x08\\x00\\x08\\x10\\x99\\x1a\\xa1\\xa1\\x02\\x81\\x9a\\xa8\\x02\\xe6(\\x81I\\xf2 [\\xa1\\x08*\\xb4\\x8c(\\xa2\\x18\\t\\x87\\xab\\x908\\x04\\x1b\\xb1-j\\xa0+\\x81I\\x8d8\\x01\\x02/q\\x86\\xa8{\\xd2\\t\\x08\\x00\\x19\\x88\\x80\\x00\\x88\\x01\\x8b\\x83\\x8f\"\\n\\x89\\x11q#\\x8d\\xa0\\x9a\\n\\xb2\\x04\\xc8\\x02\"\\xa1\\xf2\\x89\\x81\\x11\\x8c\\xb2j\\x91\\t\\xc38y\\x9b\\x18\\xa6+\\x90\\x86\\xa8\\n\\x82\\x98p\\n\\x00Aw\\x8c\\x88\\x88\\x11\\x91\\x98\\t\\t\\x11\\xda\\x91\\x96\\xa1\\x88\\x028+\\xc3\\xb8\\xb4\\x0b\\x05\\xa3\\xa0\\x87\\x1b\\xc5\\x93\\x99\\t\"\\xb8\\x83\\xf1+\\x859\\xc2\\x8a\\x99H\\xf3\\x01\\x18\\xa9{\\xb1 \\x08\\x90\\x93\\xca\\x95\\xa8u\\xa7\\xa9\\x10\\t\\x88\\x80)\\xa1(\\xa8\\x94\\x1a\\xb1\\x08@\\xb1;\\xd6(\\n\\x94\\xab\\x17\\x899\\x1dHp\\xe8\\x01\\x88\\xa1\\x00)\\x90\\x91\\xc0\\x90\\x11y\\xe2\\x81\\n\\x11\\x90\\x1c\\x91\\x91\\x91KK9\\xe0\\x90!t\\xc9(\\x88\\x08\\x10\\x01\\x83\\r\\xe8\\x11\\x90\\xf1(\\x00\\x8bC\\x99\\x91Y\\x8b\\x85\\x9a\\x01*\\x11-\\xb9w\\xaa\\x01\\x88\\x01\\x99\\n(\\xf4 \\x0b!\\xb8\\xb2%\\x81\\x0e\\x89\\x01\\x90\\x02\\x9b\\x82kK\\xa0\\x9b|w\\x8c\\x80\\x88\\x00\\x08\\x08\\x81\\x19\\x11\\xb9H\\x12\\xac\\x8a\\x96\\n\\x84\\r`\\xc2\\x89\\x18\\x81\\x00\\x8a9\\x98\\xd3 \\xb3\\x0e\\x081\\xd39+X\\x98J*\\xb8Z\\xb29\\x91,\\x9f\\x10\\x83(\\xca\\xa2~\\x90w\\xc0\\x88\\x80\\x88\\x08\\x80\\x80\\x00\\x88\\xa0\\x81\\x00\\x00)\\xca\\x8a3X\\xe3J\\t\\xaa\\x17\\x1a\\n\\x189\\xb1\\xbb\\'\\x00\\x1e\\x82\\x91\\xa8\\x81yw\\x8d\\x08\\x80\\x80\\x08\\x00\\x80\\x99\\x01\\x18\\x91)q\"\\xe1\\x99(W\\x9d\\x80\\x81\\x90\\x08\\x00\\x89\\t8\\x18\\xd0\\x91\\x92(\\x9c4\\x0c(\\xb8(\\x10\\x8a\\x8d\\x12\\x14=r\\xb3+\\x9f\\x12\\x89\\xa1x\\xb0\\x18\\xb0\\x91\\xa8C\\xa8\\xba8\\x16[\\x92\\xb8\\x81+H\\x0f\\x80j\\x88p\\xa7\\x8a\\x08\\x80\\x90\\x01\\x80\\x91\\xaa5\\xac\\n0\\x80<:\\xb1\\x89\\x05\\x9b\\xc2I\\x10\\xb2\\x05\\xc1*\"\\x1b\\xdd\\x88\\x03\\xa4\\x90r\\xa7\\n\\t\\x19 \\x9a\\x08\\xb2^\\x81\\xa8\\x81\\xb1\\x91%\\xa2t\\xb1\\xcd\\x11\\x12\\xbb\\x83\\x08\\x1f(\\x81\\x90\\t\\xa3\\xc0\\x10I\\x08>\\x9a1Z\\xa1\\xd1\\x93\\x83\\x9f\\x10\\x99#\\x83/\\x88\\x1c9\\x88\\x01\\x0f0w:\"\\xfb\\n\\x08\\x08\\x00\\x8a\\x82\\x80\\x80\\xa8\\x89$\\xb2\\x98)\\xa8Pyw\\x8c\\x88\\x00\\x19\\x88\\x00\\x98\\xa1\\x991\\t\\x81C\\x9b\\x16-\\x8b0\\x11\\x8a\\x1ci&\\xea\\x88\\x82\\x1b\\xa1\\x81\\x1a\\x19\\x01A\\x9bw\\x84\\xc0\\n\\x88\\x08\\x90\\x91 \\x99)\\x1d\\x19\\xb2\\x9a\\x86\\n\\xa0s\\xabw\\xe1\\x08\\x80\\x08\\x18\\x89\\x80\\x11\\x89\\x00Y\\xa9\\x90\\t\\x02\\x85\\x9d1\\xa1\\x99\\x13\\x04\\xdc\\xa1\\x81\\x81A\\x12\\x9d\\xb3\\xb0\\x19\\xd1\\x12\\x87\\x02\\xad\\xb1\\x05K\\xa8\\x10\\x8e\\x12\\xa3\\x8c\\x03\\x99Ch\\xd5\\x18\\x89\\x90\\xa8\\'\\r\\x18\\x8a \\x99\\x03\\x80\\x80\\x99\\xc0\\xb2\\xa3\\xa6\\x82\\xab)\\x87\\xc0\\x83,\\x90!\\xac\\x88x\\x90!,\\xca\\x14\\x88\\x80\\x19:]\\xc2\\x01\\xa2\\x0e\\x82=\\xa2\\x19\\x9a8\\xd1\\x10(\\x12\\xe5,\\x80\\x01\\nI\\x01\\\\\\x98\\x19\\x02L\\x99\\x08J\\xda\\x02\\xb12\\r \\x91\\xc49\\x11\\xc9\\xb9\\x85\\x10\\xc2\\x05\\x0f\\x19!\\x1a\\x82\\xf2\\x19\\x08\\xa3\\xb1\\x11\\x90\\xac\\xb7\\x8b\\x06\\x18\\x9b\\x85\\x81\\x1a\\xa9\\xba\\x06\\xa1\\x81<R\\x0chW\\x9d\\x80\\x08\\x18\\x80\\x98\\x01\\x18\\x8a\\xb2!\\x8cC\\x91\\x8c)\\xe0H\\x18\\xa8\\x05\\x89\\xa0\\x19\\x18\\xd3[\\x07\\x9a\\x08\\x8a)\\x88\\x19\\x93*\\x19\\xb6\\x11\\xf9y\\x89x\\xc1\\x98\\x10\\x80\\x18\\x81\\xaa\"\\t\\x108t\\x07\\x8d\\x1a\\x00\\x98\\x80\\n \\xc9s\\x93\\x88\\x8b\\t\\x90\\xa1\\x01\\xa8\\x086\\xbc+\\xc4(\\x80\\xf3\\x98r\\xc5\\t\\x01)\\x98\\xb0\\x91\\x11\\x84\\x90j\\n\\xb1\\x1a!q\\x0b\\x88\\x1a\\xa8;\\x88\\xc6;\\x9a@\\x81w\\xa99\\xc5\\x99\\x80\\x01\\x98\\x81\\xb1\\x80\\x85;\\xb4\\x00\\x10\\xe8;\\x83\\n\\x0f\\x11\\x19\\x02\\x8c\\x02\\xc2\\x1f\\x04\\x9b\\x00\\x80\\x12\\n\\x89\\xf9\\x14<\\t\\xf20\\x90\\x8a\\x00\\x84\\x1a#\\xec\\x92\\xa3\\n\\x85\\x8a9\\x81x\\'\\x0f\\t\\x00\\x00\\n\\t\\x88\\x12\\x19\\xb1\\x18\\xb0;\\xb7\\x10\\x02\\xf0*;+;Z\\x8c\\xa6){\\x98(\\x8a\\x08\\xb3\\x91j\\x19\\x8a\\xd1\\x87\\x19\\x88\\x81\\x88\\xa1\\n\\xa0\\xe1x\\x88!\\t:\\xe80\\xa1Zw\\xe2\\x88\\x08\\x00\\t\\x80\\x00\\x98\\x89\\x80\\xa1(1\\xb1\\xa8\\x8bw\\x98\\x99\\x80\\x88\\x08\\x93\\x94{\\xb3\\x99p\\x0c\\xa8\\x82\\xa0\\x19@\\xab\\x15\\x89\\x02\\xda\\x10)L\\x98\\xb3!\\x80\\xf5\\x11Wj\\xb1\\x18u\\xa3\\x8f\\x00\\x80\\x99\\x80\\x08\\x08x\\x93\\x8e\\x08\\x80\\x80\\x18\\x88\\x00\\x08\\x08\\x98\\x01\\x18\\x80\\x88\\x89\\x08\\x89\\x07\\n8\\xc6\\x19\\t\\x89\\x91\\xa1\\x92A[\\xaa\\xa1S\\xc1)8\\x8b\\x89\\x82\\x98\\xa3\\xf8\\x03s\\x8bA\\xf1\\x19w\\xb4\\x8b\\t\\x08\\x18\\x82\\x81\\xba\\x809\\xa0\\x89\\x17\\x8a\\x08)\\xa0 5w\\xe1\\x98\\x00\\x91\\x98\\x18\\x18!\\xa0PQ\\x94\\x99w\\x14\\x88\\x1b7\\xe9\\x89\\x11\\x80\\xca\\x19\\x80\\x98\\t\\x08\\t\\x80\\t\\x81\\x80\\x98:D\\xac\\x00\\x08\\x18\\t\\x0b\\x94\\x988\\x8c\\x96\\x1a=\\x81\\xa0\\x02\\x8b[q\\x02\\x8cJ\\xb0\\xa3G!\\xb9\\x0c&\\x14\\x88w\\xd1\\t\\x88\\x98\\x89\\x80\\x18\\x08\\x80\\x90\\x19\\x89\\xa1\\x02\\x08\\x93\\x80\\x8a\\xb1D\\x90ww\\xd0\\x88\\x80\\x88\\x80\\x80\\x88\\x80\\x81\\x80\\x88\\x18\\x88\\x94\\x89\\x88\\x00\\x11\\xc1\\x009\\x12\\x8e\\xd80\\x13\\xab1\\xb5\\nY\\x8a\\x89\\x13\\xa8i\\xaeA\\x88\\xa00:\\x1f\\x80\\xa8\\x19\\xd3\\x95\\x10\\x80\\nH\\xbat\\xc7\\x08\\x98\\x80\\x10\\x88\\x90\\x90(8\\xd0\\x81 \\xd1\\x01\\xd4\\xb8\\x17+\\x98\\t\\x10\\xa3\\xe0\\x10\\xab\\x87\\x01\\x98\\x16\\x8c\\x80\\x98((\\x1b\\x00\\t\\x8aD\\xe9\\xa3\\x90\\x19\\x9a \\x05\\x88\\x07\\xba\\x1bT\\x08\\xac\\x84\\tx7\\x8f\\x08\\x88\\x80\\x00\\x98\\x10\\x99\"\\x98\\t\\x08\\x04\\x0e8\\x02\\x8f\\x01\\x17\\x98\\x9a)\\x98\\x889\\x88|\\xb5\\x0b\\x82\\xa0\\x11\\xa1\\x89\\x02@\\xd8\\xa10\\x89\\x91Ny\\xa8\\xa1\\x18H\\xaa\\x19\\xa1\\x1ch\\xb2 0w\\xd7\\x88\\x08\\x00\\x08\\x98\\x01\\x98\\x88\\x11*\\x91*\\x0b\\xb6\\x1a\\x10N\\x90\\x1a\\x02\\x18\\x89\\x9a\\xd2\\x95\\x81K\\x98\\xb8\\x06\\xc3\\x08\\xc1\\x92)\\x9aP\\x80\\x9b\\x07\\x08\\x98\\xd10!\\x0f\\x19\\x18\\x10\\x1a\\t\\xa8&w\\xab\\x88\\x81\\x98\\x02\\x9a\\x12\\x0b\\x02\\x82\\x06\\r)\\x92\\x04\\xac\\x8c\\x87\\x08\\xa9\\x91y\\x90\\xa8\\x18\\x10\\x18\\xc1!\\x9c{\\x93\\x88,)\\xa5w!\\xdc\\x08\\x08\\x80\\x08\\x80\\x88\\x80\\x01*\\xc2\\x00\\xa0\\x00)\\x91p\\x87\\x0c\\x91s\\x9c\\x08\\x80\\x08\\x00\\x88\\x81\\t\\x08\\x18\\x80\\x00\\r$\\x1cK\\x88\\xa2\\xa8\\x04\\x9c\\x92\\xa1Q\\xb0\\x07\\xab\"\\xa2\\x8aj\\x81\\n\\x1f{\\xa0\\x11\\x9b\\x11\\x08\\x81\\xb8\\\\;\\xa8\\x93q\\xa0\\x1a=\\x0bw\\xc0\\x08\\x80\\x98\\x01+\\x91\\x98\\x00\\x00\\xa1\\x8a\\x12\\xcaY\\'\\x8a\\x0c\\x18\\xc2*\\xb2\\x01\\x89C\\r\\x96[\\xd0\\x00\\x00\\x00\\x90\\x912\\x1f\\x99\\x82\\x08#\\xcb\\xaa\\x18r\\xe3\\x982\\x99\\x8a\\x80x\\xc2\\x01\\x01qw\\x8c\\x08\\t\\x00\\x08\\x01\\xb9\\x18(\\x1a8\\xf2\\t\\xa0*\\x82\\n\\x02\\xca\\x85\\n\\x91\\x89\\x1d\\x86\\xba\\x06\\x90\\x10\\xaa\\x12 \\xbcd\\n\\xb0\\x100\\x0f\\x10\\x0b(\\xc9\\xc20\\x98\\xa7\\x18\\x11\\xa0\\x96\\x98\\xe2\\x83w\\xd1\\t\\x88\\x18\\x90\\x18\\xa0\\x10\\x1b)\\x01\\xd8\\x00Y\\t\\x00\\xa0\\xc18\\x98\\x86*\\xa1\\x91\\r\\xa1\\x18#;\\x8fP\\x1b\\xb2/\\x08\\xa0\\x81*z\\xa8\\x11(\\xe2\\x81\\x9a\\x00\\x11\\xfbQ\\x80\\t\\x1bx\\x98r\\'\\x9e\\x80\\x08\\x08\\x80\\x98\\x03\\x19\\x97\\x0b\\x08\\x88\\x80\\x98\\x08!\\x10\\xf1 \\t\\n\\x88X\\xa4\\x1e\\x10\\x99H\\xb80\\xa7\\x8a\\x81\\x90\\x88\\x92\\xd3A\\x8d\\xb2\\x80\\x881\\x92\\xb0\\xf5\\x88)I\\x89\\xa3-`\\x9bx\\xa7\\t\\x88\\x08\\x08\\xa3\\t\\x9aw\\xf4\\x08\\x80\\x80\\x08\\x08\\x08\\x80\\x90(\\xa8!\\xa9\\x01\\x88\\x98\\x89\\x83\\x17\\x1c\\xa9y\\xa9\\x11;\\xa4\\n\\x08\\x90\\x93\\xc1{\\x98\\x91Z\\x80=\\xa0\\x80;\\x86\\x8d\\x18\\x00\\xd81w\\xc9\\x80\\x80\\x00\\tq\\xa5)\\xca\\x80\\x00\\x88\\x08\\x91\\x19\\xa1\\xa3\\x19\\x9bh\\xc0\\x00\\x89\\x94\\x91\\x08z\\xa0\\x08\\x88\\x01\\x8c1\\xa9\\x8b\\'\\x98\\x1c\\x89\\x10\\xb1<\\x04\\x9b\\xa2q\\x9b\\x90\\xa3\\xd8\\x07\\xac\\x13*\\x18\\x87\\xba\\x90\\xb3\\x92\\xf81\\xa3\\xa8\\x83\\x0c\\x0f\\x92\\x11Z\\xc8\\x18y\\x8a\\x89\\x12\\x1a\\xa0P\\xd0\\x02\\x8b\\xb8\\x05\\x19\\x98\\xa1\\x1e0\\x9d\\x13\\xb3\\x1b\\xf9\\xb8R\\xb0#\\x88\\x9c\\xb3\\'\\xb9\\x8b!\\x01\\xbd@\\x08\\x10\\xb1\\x97\\t\\xcb0:\\x0f\\x80\\x02\\x8aH\\xaa\\xb0#p\\xc8+\\xe3\\x02\\x01\\x1f\\x19\\x91\\xa9%\\xd8\\x18\\x12\\x9b*;\\r0\\xeb\\x12R\\xb9\\x12\\x1f\\x98*\\xa0)1\\xf8\\x90\\x94\\xc8\\x11\\xe10\\x98\\x81\\n)\\xb0\\xc2\\x13/\\x9bO\\x91\\x818\\xfb\\x12\\x8a(\\t\\x01\\t\\x9d\\x93\\x00\\x93\\x00\\x88\\xff\\x83\\x88\\xa8\\x87\\x08\\t\\n9X\\xab\\x11\\x99\\xa8\\x83\\xaf2]\\x00\\x00\\xca\\x81\\x1a\\x82\\xb2\\x19\\xba\\x84\\xbe$\\xe1\\xb2\\x00\\x91\\x90\\xe8\\x02\\x80\\x88B\\x89\\r7\\x8f\\x18\\x88\\r!\\xc8\\x10\\x88\\x95\\x1b\\xa4\\t(\\x91\\x1b;\\xda\\x12\\x19\\xf4\\xc3r\\x17\\x0f\\x88\\x80\\x00\\t\\x00\\x08\\x08\\x98\\x08\\x82\\x99!\\x88\\x99J\\xcaI\\x1a\\x93\\xc0P\\xa2\\x98\\xb1\\xb7\\t\\xa1l\\x80\\x91\\x80\\x929\\xfb\\x00\\x89z)\\xc0\\x00;\\x19\\x12[\\x01\\x1d\\x80\\x0e\\x92\\x1a1\\xa8<-\\tk\\xc38\\x08\\x9b\\x94<\\xb8*0<\\xa3\\xa7\\x198\\x0f\\xb3K\\n\\x82\\x8a\\xa5\\t9\\x86\\x8a;\\x1d\\x95*\\x18\\x8b\\x03\\x9dQ\\t\\x00\\x8a\\xa9A\\xd9\\'\\x1a\\x88\\xb9Z\\x11\\xa0?\\x00\\x9d#\\x9a!\\x18\\n\\x98\\xf2h\\n\\x98J\\x982\\xc89\\xd2\\x900\\x8c\\x869I\\xaa\\xab\\'\\x88\\xd1\\x80\\x93\\x81\\xb9\\x85\\xb0<k\\xa0@\\x8b\\x12[\\xe8*\\x01+\\x92\\x08\\x04\\x99\\xf0\\x84\\x80*\\nx\\xd0\\x01\\xd2\\x00\\xa2\\x81\\x08\\xc5\\x01\\x98\\x00\\x18\\x9eQ\\x88*\\x92\\xc8\\x89q\\xa0\\x10\\x0e\\x92I\\x91\\x990\\xac\\x03\\xa8\\xa4L\\x10\\xa1\"\\xbb>\\x84\\x98\\x10\\x9c@\\x9a\\x18\\x00J\\xb6\\xc1B\\xac0\\x82;\\xc9X\\xb0\\xb4\\xc3\\xd30:\\xba\\xb4\\xbbW\\x98\\x98\\x01\\xa1\\xb4\\x19\\x91\\xb0\\x08\\x07:\\xdc\\x01(\\x92\\x08\\xd3\\x08\\x11\\xa1\\x98\\x07\\xd9\\x00\\x8c\\x87\\x80\\xc2\\x92\\x81\\xba\\x83\\x11\\xb9\\xb7\\x81P\\xcc\\x03K\\xd1\\x13\\x9a8),\\xb1h+\\xc4\\x91\\x88\\xb1\\xa1!!\\x8d\\xb4B\\x8f\\x02\\x99\\x02\\x9bR\\xf2\\x91\\x91\\x80\\x90\\x82\\x00\\x91\\xb2\\xb3\\'\\x8f'"
      ]
     },
     "execution_count": 12,
     "metadata": {},
     "output_type": "execute_result"
    }
   ],
   "source": [
    "# Select a binary string to proceed with\n",
    "message = messages[14]\n",
    "message"
   ]
  },
  {
   "cell_type": "code",
   "execution_count": 13,
   "metadata": {},
   "outputs": [
    {
     "name": "stdout",
     "output_type": "stream",
     "text": [
      "14074000 - 1052000 - 15126000\n"
     ]
    }
   ],
   "source": [
    "# Load the config and get the start frequency\n",
    "config = json.loads(messages[6])\n",
    "center_freq = config[\"value\"][\"center_freq\"]\n",
    "start_freq = config[\"value\"][\"start_freq\"]\n",
    "bandwidth = 2*(center_freq - start_freq)\n",
    "stop_freq = start_freq + bandwidth\n",
    "print(f\"{start_freq} - {bandwidth} - {stop_freq}\")"
   ]
  },
  {
   "cell_type": "code",
   "execution_count": 14,
   "metadata": {},
   "outputs": [
    {
     "data": {
      "text/plain": [
       "{'sdr_id': 'rtl_sdr_a',\n",
       " 'waterfall_levels': {'min': -72.0, 'max': -7.0},\n",
       " 'center_freq': 14600000,\n",
       " 'start_freq': 14074000,\n",
       " 'profile_id': '20m_a',\n",
       " 'tuning_step': 50,\n",
       " 'samp_rate': 9000000,\n",
       " 'start_mod': 'usb',\n",
       " 'start_offset_freq': -526000}"
      ]
     },
     "execution_count": 14,
     "metadata": {},
     "output_type": "execute_result"
    }
   ],
   "source": [
    "# We want to get some data from this \n",
    "info = json.loads(messages[2])\n",
    "fft_compression = info[\"value\"][\"fft_compression\"]\n",
    "fft_size = info[\"value\"][\"fft_size\"]\n",
    "position = info[\"value\"][\"receiver_gps\"]\n",
    "info_profile = json.loads(messages[6])\n",
    "profile = info_profile[\"value\"]\n",
    "profile"
   ]
  },
  {
   "cell_type": "code",
   "execution_count": 15,
   "metadata": {},
   "outputs": [
    {
     "data": {
      "text/plain": [
       "array([  8, 129, 136,  13, 116, 233,   1,  24, 128,  26,  17, 169,   3,\n",
       "       122,  48, 159,   0, 136, 128,   8, 128,   2, 136, 184,  44],\n",
       "      dtype=uint8)"
      ]
     },
     "execution_count": 15,
     "metadata": {},
     "output_type": "execute_result"
    }
   ],
   "source": [
    "# select one of the data rows for processing and load it into an array\n",
    "import numpy as np\n",
    "data_array = np.frombuffer(message[1:], dtype=np.uint8)\n",
    "data_array[25:50]\n"
   ]
  },
  {
   "cell_type": "markdown",
   "metadata": {},
   "source": [
    "What the... what on earth is this? \n",
    "8, 129, 136,  13, 116, 233,   1,  24, 128,  26,  17, 169,   3,   122,  48, 159,   0, 136, 128,   8, 128,   2, 136, 184,  44\n",
    "\n",
    "Exciting! But the hint came in the metadata before: \"audio_compression\": \"adpcm\"\n",
    "This is an adaptive differential pulse-code modulation. A very effivient supposedly lossless compression for a digital signal.\n",
    "Well thats cool! Right?!... just me? okaaay... whatever, you're the one reading this. lets parse it.  "
   ]
  },
  {
   "cell_type": "code",
   "execution_count": 19,
   "metadata": {},
   "outputs": [],
   "source": [
    "# right about now is a goot time to start timing how long it takes to process the data.\n",
    "from time import perf_counter_ns"
   ]
  },
  {
   "cell_type": "code",
   "execution_count": 27,
   "metadata": {},
   "outputs": [
    {
     "name": "stdout",
     "output_type": "stream",
     "text": [
      "Split nibbles took 193.8 microseconds\n"
     ]
    }
   ],
   "source": [
    "# The bitstream is a split-band ADPCM stream. So we have to split the bytes into 4 bit nibbles. \n",
    "def split_nibbles(byte_array):\n",
    "    high_nibbles = np.bitwise_and(byte_array, 0xF0) >> 4\n",
    "    low_nibbles = np.bitwise_and(byte_array, 0x0F)\n",
    "    return high_nibbles, low_nibbles\n",
    "\n",
    "tic = perf_counter_ns()\n",
    "higher, lower = split_nibbles(data_array)\n",
    "toc = perf_counter_ns()\n",
    "print(f\"Split nibbles took {(toc - tic)/1000} microseconds\")"
   ]
  },
  {
   "cell_type": "code",
   "execution_count": 28,
   "metadata": {},
   "outputs": [
    {
     "name": "stdout",
     "output_type": "stream",
     "text": [
      "interleaving took 2023.1 microseconds\n"
     ]
    },
    {
     "data": {
      "text/plain": [
       "array([15, 15, 15, ...,  2, 15,  8], shape=(16394,), dtype=uint8)"
      ]
     },
     "execution_count": 28,
     "metadata": {},
     "output_type": "execute_result"
    }
   ],
   "source": [
    "tic = perf_counter_ns()\n",
    "interleaved = np.array([val for pair in zip(lower, higher) for val in pair], dtype=np.uint8)\n",
    "toc = perf_counter_ns()\n",
    "print(f\"interleaving took {(toc - tic)/1000} microseconds\")\n",
    "interleaved"
   ]
  },
  {
   "cell_type": "code",
   "execution_count": 30,
   "metadata": {},
   "outputs": [
    {
     "data": {
      "image/png": "[encoded data removed]",
      "text/plain": [
       "<Figure size 640x480 with 1 Axes>"
      ]
     },
     "metadata": {},
     "output_type": "display_data"
    }
   ],
   "source": [
    "import matplotlib.pyplot as plt \n",
    "plt.figure()\n",
    "plt.hist(interleaved, bins=255)\n",
    "plt.show()"
   ]
  },
  {
   "cell_type": "code",
   "execution_count": 31,
   "metadata": {},
   "outputs": [
    {
     "name": "stdout",
     "output_type": "stream",
     "text": [
      "16384 [-107.69 -101.61 -107.14 ... -104.28 -105.29 -105.43]\n"
     ]
    }
   ],
   "source": [
    "# I found a python library that can decode ADPCM data, but its not packaged.\n",
    "# I've downloaded the adpcm.py file and added it to the root of this project, which is the one i'll be using here now.\n",
    "# The adpcm library is from https://github.com/karnwatcharasupat/pyADPCM\n",
    "from adpcm import ADPCM\n",
    "\n",
    "# perform an adpmc decode operation on the interleaved data...add()\n",
    "# Remove the first 10 numbers from the list and devide every number by 100\n",
    "\n",
    "adpcm = ADPCM()\n",
    "#fft = adpcm.decode(interleaved)[10:]/100\n",
    "\n",
    "\n",
    "fft = np.array(adpcm.decode(interleaved), dtype=np.float32)[10:]/100\n",
    "print(len(fft), fft)"
   ]
  },
  {
   "cell_type": "code",
   "execution_count": 32,
   "metadata": {},
   "outputs": [],
   "source": [
    "frequency_range = np.linspace(start_freq, stop_freq, fft_size)/1000000"
   ]
  },
  {
   "cell_type": "code",
   "execution_count": 33,
   "metadata": {},
   "outputs": [
    {
     "data": {
      "image/png": "[encoded data removed]",
      "text/plain": [
       "<Figure size 1600x400 with 1 Axes>"
      ]
     },
     "metadata": {},
     "output_type": "display_data"
    }
   ],
   "source": [
    "# Now plot the completed data array and you should see a spectral plot\n",
    "import matplotlib.pyplot as plt\n",
    "from matplotlib.ticker import FormatStrFormatter\n",
    "%matplotlib inline\n",
    "\n",
    "fig, ax = plt.subplots(figsize=(16,4))\n",
    "plt.ylabel(\"dBm\")\n",
    "line1, =ax.plot(frequency_range, fft)\n",
    "plt.gca().xaxis.set_major_formatter(FormatStrFormatter(\"%f MHz\"))\n",
    "plt.show()  "
   ]
  },
  {
   "cell_type": "code",
   "execution_count": 37,
   "metadata": {},
   "outputs": [
    {
     "name": "stdout",
     "output_type": "stream",
     "text": [
      "0.051981299999170005\n"
     ]
    }
   ],
   "source": [
    "# All togheter now...add()\n",
    "import time\n",
    "\n",
    "tic = time.perf_counter()\n",
    "data_array = np.frombuffer(message[1:], dtype=np.uint8)\n",
    "higher, lower = split_nibbles(data_array)\n",
    "interleaved = np.array([val for pair in zip(lower, higher) for val in pair], dtype=np.uint8)\n",
    "fft = np.array(adpcm.decode(interleaved), dtype=np.float32)[10:]/100\n",
    "toc = time.perf_counter()\n",
    "print(toc - tic)"
   ]
  },
  {
   "cell_type": "code",
   "execution_count": null,
   "metadata": {},
   "outputs": [],
   "source": [
    "import numpy as np\n",
    "import time\n",
    "import nibbler\n",
    "import radpcm\n",
    "def decode_fft_bitstream(message: bytes) -> np.ndarray[np.int16]: \n",
    "    # strip the first character and load into array\n",
    "    interleaved = nibbler.split_and_interleave_nibbles(message)\n",
    "    fft = radpcm.decode(interleaved)[10:]/100\n",
    "    return fft\n",
    "tic = time.perf_counter()\n",
    "decode_fft_bitstream(message[1:])\n",
    "toc = time.perf_counter()\n",
    "print(toc - tic)"
   ]
  },
  {
   "cell_type": "markdown",
   "metadata": {},
   "source": [
    "# Realtime processing\n",
    "lets do if fr this time "
   ]
  },
  {
   "cell_type": "code",
   "execution_count": null,
   "metadata": {},
   "outputs": [],
   "source": [
    "import numpy as np\n",
    "import nibbler\n",
    "import radpcm\n",
    "\n",
    "import matplotlib.pyplot as plt\n",
    "import httpx\n",
    "import websocket\n",
    " "
   ]
  },
  {
   "cell_type": "code",
   "execution_count": null,
   "metadata": {},
   "outputs": [],
   "source": [
    "import json\n",
    "def handle_info(message: str, receiver: dict) -> dict:\n",
    "    info = json.loads(message)\n",
    "    info_type = info[\"type\"]\n",
    "    match info_type:\n",
    "        case \"config\" | \"receiver_details\":\n",
    "            for key, value in info[\"value\"]: \n",
    "                receiver[key] = value\n",
    "            return receiver\n",
    "        case \"cpuusage\" | \"temp\":\n",
    "            receiver[info_type] = info[\"value\"]\n",
    "            return receiver\n",
    "        case _:\n",
    "            return receiver"
   ]
  },
  {
   "cell_type": "code",
   "execution_count": null,
   "metadata": {},
   "outputs": [
    {
     "data": {
      "text/plain": [
       "{'name': 'SR4DON OLSZTYN/POLAND 17m-160m',\n",
       " 'admin': 'sdr@jestok.com',\n",
       " 'gps': {'lat': 53.7832485938901, 'lon': 20.4547299031047},\n",
       " 'asl': 160,\n",
       " 'location': 'Olsztyn, Poland'}"
      ]
     },
     "execution_count": 19,
     "metadata": {},
     "output_type": "execute_result"
    }
   ],
   "source": [
    "# Configure site url from dashboard. \n",
    "# Get receiver info on demand. \n",
    "\n",
    "site = \"2.websdr.jestok.com\"\n",
    "result = httpx.get(\"https://\" + site + \"/status.json\")\n",
    "result.raise_for_status()\n",
    "status = result.json()\n",
    "receiver = status[\"receiver\"]\n",
    "receiver"
   ]
  },
  {
   "cell_type": "code",
   "execution_count": null,
   "metadata": {},
   "outputs": [
    {
     "ename": "ValueError",
     "evalue": "",
     "output_type": "error",
     "traceback": [
      "\u001b[0;31m---------------------------------------------------------------------------\u001b[0m",
      "\u001b[0;31mValueError\u001b[0m                                Traceback (most recent call last)",
      "Cell \u001b[0;32mIn[9], line 2\u001b[0m\n\u001b[1;32m      1\u001b[0m \u001b[38;5;66;03m# Make this toggleable from the dashboard.\u001b[39;00m\n\u001b[0;32m----> 2\u001b[0m \u001b[38;5;28;01mraise\u001b[39;00m \u001b[38;5;167;01mValueError\u001b[39;00m\n\u001b[1;32m      4\u001b[0m ws \u001b[38;5;241m=\u001b[39m websocket\u001b[38;5;241m.\u001b[39mcreate_connection(\u001b[38;5;124m\"\u001b[39m\u001b[38;5;124mwss://\u001b[39m\u001b[38;5;124m\"\u001b[39m \u001b[38;5;241m+\u001b[39m site \u001b[38;5;241m+\u001b[39m \u001b[38;5;124m\"\u001b[39m\u001b[38;5;124m/ws/\u001b[39m\u001b[38;5;124m\"\u001b[39m)\n\u001b[1;32m      5\u001b[0m \u001b[38;5;28;01mtry\u001b[39;00m: \n",
      "\u001b[0;31mValueError\u001b[0m: "
     ]
    }
   ],
   "source": [
    "\n",
    "# Make this toggleable from the dashboard.\n",
    "raise ValueError\n",
    "\n",
    "ws = websocket.create_connection(\"wss://\" + site + \"/ws/\")\n",
    "try: \n",
    "    ws.send(\"SERVER DE CLIENT client=lib/FrequencyDisplay.js type=receiver\")\n",
    "    while True:\n",
    "        msg = ws.recv()    \n",
    "        match message[0]:\n",
    "            case 1:\n",
    "                fft = decode_fft_bitstream(message[1:])\n",
    "                # What to do with the decoded fft...\n",
    "                # Send it to a function that updates the plot in a dashboard. \n",
    "                # Plotly seems like a good option.\n",
    "            case \"{\":\n",
    "                # Update receiver information.\n",
    "                receiver = handle_info(message, receiver)\n",
    "            case \"C\":\n",
    "                print(message)\n",
    "            case _:\n",
    "                print(\"Message not handled: \", message)\n",
    "except Exception as err:\n",
    "    raise err\n",
    "finally: \n",
    "    ws.close()\n"
   ]
  },
  {
   "cell_type": "code",
   "execution_count": null,
   "metadata": {},
   "outputs": [],
   "source": [
    "# Now plot the completed data array and you should see a spectral plot\n",
    "import matplotlib.pyplot as plt\n",
    "from matplotlib.ticker import FormatStrFormatter\n",
    "import numpy as np\n",
    "\n",
    "MEASUREMENT_TIME = 50\n",
    "INTERVAL_SEC = 0.1\n",
    "x = np.linspace(0, 6*np.pi, 100)\n",
    "y = np.sin(x)\n",
    "\n",
    "# You probably won't need this if you're embedding things in a tkinter plot...\n",
    "plt.ion()\n",
    "\n",
    "fig = plt.figure()\n",
    "ax = fig.add_subplot(111)\n",
    "line1, = ax.plot(x, y, 'r-') # Returns a tuple of line objects, thus the comma\n",
    "\n",
    "for i in range(MEASUREMENT_TIME):\n",
    "    data = np.random.rand(100)\n",
    "\n",
    "    plt.plot(data)\n",
    "\n",
    "    # figure appearence adjustments\n",
    "    plt.ylim(-0.2, 1.2)\n",
    "    plt.title(f'FRAME {i+1}')\n",
    "\n",
    "    # to avoid clearing last plot\n",
    "    if (i != MEASUREMENT_TIME-1):\n",
    "        plt.draw()\n",
    "        plt.pause(INTERVAL_SEC)\n",
    "        plt.cla()\n",
    "    else:\n",
    "        plt.show()\n"
   ]
  },
  {
   "cell_type": "code",
   "execution_count": null,
   "metadata": {},
   "outputs": [],
   "source": [
    "# importing libraries\n",
    "import numpy as np\n",
    "import time\n",
    "import matplotlib.pyplot as plt\n",
    " \n",
    "# creating initial data values\n",
    "# of x and y\n",
    "x = np.linspace(0, 10, 100)\n",
    "y = np.sin(x)\n",
    " \n",
    "# to run GUI event loop\n",
    "plt.ion()\n",
    " \n",
    "# here we are creating sub plots\n",
    "figure, ax = plt.subplots(figsize=(10, 8))\n",
    "line1, = ax.plot(x, y)\n",
    " \n",
    "# setting title\n",
    "plt.title(\"Geeks For Geeks\", fontsize=20)\n",
    " \n",
    "# setting x-axis label and y-axis label\n",
    "plt.xlabel(\"X-axis\")\n",
    "plt.ylabel(\"Y-axis\")\n",
    " \n",
    "# Loop\n",
    "for n in range(50):\n",
    "    # creating new Y values\n",
    "    new_y = np.sin(x-0.5*n)\n",
    " \n",
    "    # updating data values\n",
    "    line1.set_xdata(x)\n",
    "    line1.set_ydata(new_y)\n",
    " \n",
    "    # drawing updated values\n",
    "    figure.canvas.draw()\n",
    " \n",
    "    # This will run the GUI event\n",
    "    # loop until all UI events\n",
    "    # currently waiting have been processed\n",
    "    figure.canvas.flush_events()\n",
    " \n",
    "    time.sleep(0.1)"
   ]
  },
  {
   "cell_type": "markdown",
   "metadata": {},
   "source": [
    "## TODO\n",
    "\n",
    "- Find a way to create a dashboard\n",
    "- make the dashboard interactive to enter, start and stop a websocket connection.\n",
    "- make a realtime spectrogram\n",
    "- create a self updating waterfall plot (fixed window)\n",
    "\n",
    "and once thats done. \n",
    "- Create a database to keep the data in.\n",
    "- Create an ingest tool that loads into the database\n",
    "- Create a way for the dashboard to query the waterfall database and produce an image.\n",
    "- Join that new waterfall viz with the updating one using a subscription to the waterfall stream. "
   ]
  },
  {
   "cell_type": "code",
   "execution_count": null,
   "metadata": {},
   "outputs": [
    {
     "data": {
      "application/vnd.plotly.v1+json": {
       "config": {
        "plotlyServerURL": "https://plot.ly"
       },
       "data": [
        {
         "hovertemplate": "x=%{x}<br>y=%{y}<extra></extra>",
         "legendgroup": "",
         "line": {
          "color": "#636efa",
          "dash": "solid"
         },
         "marker": {
          "symbol": "circle"
         },
         "mode": "lines",
         "name": "",
         "orientation": "v",
         "showlegend": false,
         "type": "scatter",
         "x": [
          0,
          1,
          2,
          3,
          4,
          5,
          6,
          7,
          8,
          9,
          10,
          11,
          12,
          13,
          14,
          15,
          16,
          17,
          18,
          19,
          20,
          21,
          22,
          23,
          24,
          25,
          26,
          27,
          28,
          29,
          30,
          31,
          32,
          33,
          34,
          35,
          36,
          37,
          38,
          39,
          40,
          41,
          42,
          43,
          44,
          45,
          46,
          47,
          48,
          49,
          50,
          51,
          52,
          53,
          54,
          55,
          56,
          57,
          58,
          59,
          60,
          61,
          62,
          63,
          64,
          65,
          66,
          67,
          68,
          69,
          70,
          71,
          72,
          73,
          74,
          75,
          76,
          77,
          78,
          79,
          80,
          81,
          82,
          83,
          84,
          85,
          86,
          87,
          88,
          89,
          90,
          91,
          92,
          93,
          94,
          95,
          96,
          97,
          98,
          99,
          100,
          101,
          102,
          103,
          104,
          105,
          106,
          107,
          108,
          109,
          110,
          111,
          112,
          113,
          114,
          115,
          116,
          117,
          118,
          119,
          120,
          121,
          122,
          123,
          124,
          125,
          126,
          127,
          128,
          129,
          130,
          131,
          132,
          133,
          134,
          135,
          136,
          137,
          138,
          139,
          140,
          141,
          142,
          143,
          144,
          145,
          146,
          147,
          148,
          149,
          150,
          151,
          152,
          153,
          154,
          155,
          156,
          157,
          158,
          159,
          160,
          161,
          162,
          163,
          164,
          165,
          166,
          167,
          168,
          169,
          170,
          171,
          172,
          173,
          174,
          175,
          176,
          177,
          178,
          179,
          180,
          181,
          182,
          183,
          184,
          185,
          186,
          187,
          188,
          189,
          190,
          191,
          192,
          193,
          194,
          195,
          196,
          197,
          198,
          199,
          200,
          201,
          202,
          203,
          204,
          205,
          206,
          207,
          208,
          209,
          210,
          211,
          212,
          213,
          214,
          215,
          216,
          217,
          218,
          219,
          220,
          221,
          222,
          223,
          224,
          225,
          226,
          227,
          228,
          229,
          230,
          231,
          232,
          233,
          234,
          235,
          236,
          237,
          238,
          239,
          240,
          241,
          242,
          243,
          244,
          245,
          246,
          247,
          248,
          249,
          250,
          251,
          252,
          253,
          254,
          255,
          256,
          257,
          258,
          259,
          260,
          261,
          262,
          263,
          264,
          265,
          266,
          267,
          268,
          269,
          270,
          271,
          272,
          273,
          274,
          275,
          276,
          277,
          278,
          279,
          280,
          281,
          282,
          283,
          284,
          285,
          286,
          287,
          288,
          289,
          290,
          291,
          292,
          293,
          294,
          295,
          296,
          297,
          298,
          299,
          300,
          301,
          302,
          303,
          304,
          305,
          306,
          307,
          308,
          309,
          310,
          311,
          312,
          313,
          314,
          315,
          316,
          317,
          318,
          319,
          320,
          321,
          322,
          323,
          324,
          325,
          326,
          327,
          328,
          329,
          330,
          331,
          332,
          333,
          334,
          335,
          336,
          337,
          338,
          339,
          340,
          341,
          342,
          343,
          344,
          345,
          346,
          347,
          348,
          349,
          350,
          351,
          352,
          353,
          354,
          355,
          356,
          357,
          358,
          359,
          360,
          361,
          362,
          363,
          364,
          365,
          366,
          367,
          368,
          369,
          370,
          371,
          372,
          373,
          374,
          375,
          376,
          377,
          378,
          379,
          380,
          381,
          382,
          383,
          384,
          385,
          386,
          387,
          388,
          389,
          390,
          391,
          392,
          393,
          394,
          395,
          396,
          397,
          398,
          399,
          400,
          401,
          402,
          403,
          404,
          405,
          406,
          407,
          408
         ],
         "xaxis": "x",
         "y": [
          -101.61000061035156,
          -94.97000122070312,
          -103.94000244140625,
          -103.66000366210938,
          -103.88999938964844,
          -103.87999725341797,
          -104.06999969482422,
          -104.5199966430664,
          -102.55999755859375,
          -104.52999877929688,
          -104.4800033569336,
          -103.97000122070312,
          -104.45999908447266,
          -96.93000030517578,
          -101.51000213623047,
          -100.81999969482422,
          -93.58999633789062,
          -91.87999725341797,
          -98.88999938964844,
          -94.77999877929688,
          -87.5,
          -83.19000244140625,
          -94.33999633789062,
          -93.05000305175781,
          -86.95999908447266,
          -91.9800033569336,
          -87.33000183105469,
          -87.38999938964844,
          -89.30000305175781,
          -76.16000366210938,
          -78.22000122070312,
          -85.87999725341797,
          -86.47000122070312,
          -86.41000366210938,
          -86.44999694824219,
          -85.66000366210938,
          -83.44000244140625,
          -86.01000213623047,
          -85.80999755859375,
          -85.48999786376953,
          -85.55999755859375,
          -81.3499984741211,
          -85.08999633789062,
          -85.91999816894531,
          -81.37999725341797,
          -82.16999816894531,
          -85.26000213623047,
          -85.20999908447266,
          -83.77999877929688,
          -85.56999969482422,
          -85.06999969482422,
          -85.26000213623047,
          -85.3499984741211,
          -71.66999816894531,
          -85.37999725341797,
          -55.709999084472656,
          -78.23999786376953,
          -77.7300033569336,
          -81.93000030517578,
          -84.56999969482422,
          -84.66000366210938,
          -84.6500015258789,
          -83.56999969482422,
          -83.72000122070312,
          -84.87000274658203,
          -75.41000366210938,
          -85.25,
          -84.33000183105469,
          -84.70999908447266,
          -79.72000122070312,
          -83.33999633789062,
          -84.27999877929688,
          -83.20999908447266,
          -84.66000366210938,
          -46.060001373291016,
          -84.45999908447266,
          -56.900001525878906,
          -64.18000030517578,
          -55.56999969482422,
          -83.48999786376953,
          -63.68000030517578,
          -77.31999969482422,
          -75.56999969482422,
          -71.69000244140625,
          -78.5,
          -77.16999816894531,
          -63.56999969482422,
          -71.93000030517578,
          -75.02999877929688,
          -73.73999786376953,
          -74.97000122070312,
          -77.69000244140625,
          -73.87999725341797,
          -74.43000030517578,
          -72.52999877929688,
          -82.4800033569336,
          -72.44999694824219,
          -83.52999877929688,
          -83.11000061035156,
          -39.20000076293945,
          -84.05000305175781,
          -69.69999694824219,
          -80.19999694824219,
          -84.04000091552734,
          -77.26000213623047,
          -74.77999877929688,
          -71.56999969482422,
          -72.63999938964844,
          -74.36000061035156,
          -80.11000061035156,
          -82.41999816894531,
          -82.95999908447266,
          -82.7699966430664,
          -69.8499984741211,
          -80.51000213623047,
          -83.08000183105469,
          -81.1500015258789,
          -80.4000015258789,
          -77.61000061035156,
          -78.45999908447266,
          -82.66999816894531,
          -76.5999984741211,
          -81.08999633789062,
          -82.30999755859375,
          -67.58999633789062,
          -75.63999938964844,
          -74.55000305175781,
          -81.66000366210938,
          -73.77999877929688,
          -72.26000213623047,
          -81.80000305175781,
          -73.47000122070312,
          -74.02999877929688,
          -82.37999725341797,
          -83.9800033569336,
          -77.30000305175781,
          -81.94000244140625,
          -84.01000213623047,
          -65.02999877929688,
          -76.80000305175781,
          -75.16999816894531,
          -68.88999938964844,
          -66.12999725341797,
          -83.44000244140625,
          -80.19999694824219,
          -81.56999969482422,
          -79.83000183105469,
          -82.19999694824219,
          -83.69999694824219,
          -83.95999908447266,
          -82.19000244140625,
          -76.7300033569336,
          -79.63999938964844,
          -78.72000122070312,
          -83.48999786376953,
          -82.04000091552734,
          -80.56999969482422,
          -76.8499984741211,
          -75.20999908447266,
          -78.16999816894531,
          -73.54000091552734,
          -80.05000305175781,
          -57.5099983215332,
          -73.12999725341797,
          -81.11000061035156,
          -64.1500015258789,
          -65.23999786376953,
          -78.08000183105469,
          -62.41999816894531,
          -64.81999969482422,
          -69.2699966430664,
          -73.05000305175781,
          -50.59000015258789,
          -76.05000305175781,
          -65.81999969482422,
          -66.62999725341797,
          -78.38999938964844,
          -78.3499984741211,
          -63.650001525878906,
          -75.9000015258789,
          -60.22999954223633,
          -81.7699966430664,
          -36.66999816894531,
          -75.68000030517578,
          -77.33000183105469,
          -65.45999908447266,
          -36.619998931884766,
          -74.43000030517578,
          -81.30000305175781,
          -65.0999984741211,
          -66.55000305175781,
          -77.38999938964844,
          -80.33999633789062,
          -70.5199966430664,
          -81.4000015258789,
          -67.91000366210938,
          -70.37000274658203,
          -48.779998779296875,
          -60.279998779296875,
          -69.9800033569336,
          -67.66999816894531,
          -60.0099983215332,
          -79.02999877929688,
          -81.93000030517578,
          -62.7400016784668,
          -78.16000366210938,
          -79.30000305175781,
          -77.08999633789062,
          -82.54000091552734,
          -81.62000274658203,
          -81.5999984741211,
          -82.61000061035156,
          -81.5199966430664,
          -73.88999938964844,
          -82.02999877929688,
          -81.33000183105469,
          -71.16999816894531,
          -82.58000183105469,
          -82.9000015258789,
          -76.4000015258789,
          -78.33999633789062,
          -59.380001068115234,
          -81.61000061035156,
          -78.52999877929688,
          -79.16000366210938,
          -65.51000213623047,
          -80.38999938964844,
          -83.08000183105469,
          -81.30000305175781,
          -82.19000244140625,
          -74.16000366210938,
          -50.9900016784668,
          -53.45000076293945,
          -71.81999969482422,
          -77.06999969482422,
          -82.70999908447266,
          -82.7300033569336,
          -79.95999908447266,
          -50.439998626708984,
          -49.459999084472656,
          -79.66999816894531,
          -82.41999816894531,
          -55.58000183105469,
          -58.119998931884766,
          -73.04000091552734,
          -43.54999923706055,
          -45.88999938964844,
          -80.25,
          -75.83999633789062,
          -42.91999816894531,
          -72.58000183105469,
          -81.68000030517578,
          -63.25,
          -72.33999633789062,
          -80.33999633789062,
          -77.4000015258789,
          -56.56999969482422,
          -83.2300033569336,
          -83.75,
          -78.37000274658203,
          -83.75,
          -73.7300033569336,
          -83.29000091552734,
          -70.83000183105469,
          -61.689998626708984,
          -52.38999938964844,
          -68.31999969482422,
          -80.41999816894531,
          -63.959999084472656,
          -83.61000061035156,
          -71.23999786376953,
          -79.13999938964844,
          -80.18000030517578,
          -84.51000213623047,
          -85.27999877929688,
          -72.33000183105469,
          -74.91999816894531,
          -82.5,
          -78.8499984741211,
          -80.70999908447266,
          -83.7300033569336,
          -79.47000122070312,
          -83.61000061035156,
          -81.26000213623047,
          -85.12999725341797,
          -84.8499984741211,
          -72,
          -84.48999786376953,
          -71.2699966430664,
          -58.470001220703125,
          -83.41000366210938,
          -77.66000366210938,
          -83.02999877929688,
          -84.7300033569336,
          -77.19000244140625,
          -80.38999938964844,
          -83.12999725341797,
          -78.58999633789062,
          -84.08000183105469,
          -84.05000305175781,
          -75.2300033569336,
          -83.06999969482422,
          -82.52999877929688,
          -78.69999694824219,
          -83.76000213623047,
          -63.220001220703125,
          -69.12000274658203,
          -84.04000091552734,
          -78.79000091552734,
          -82.56999969482422,
          -82.9800033569336,
          -82.69999694824219,
          -80.31999969482422,
          -83.83000183105469,
          -69.11000061035156,
          -51.58000183105469,
          -76.88999938964844,
          -82.7300033569336,
          -83.29000091552734,
          -77.81999969482422,
          -82.94999694824219,
          -83.37999725341797,
          -62.2599983215332,
          -83.12999725341797,
          -82.44000244140625,
          -82.38999938964844,
          -82.77999877929688,
          -47.54999923706055,
          -48.7400016784668,
          -63.150001525878906,
          -79.56999969482422,
          -83.2300033569336,
          -83.29000091552734,
          -81.27999877929688,
          -83.31999969482422,
          -83.12999725341797,
          -83.2699966430664,
          -82.66000366210938,
          -79.33000183105469,
          -83.29000091552734,
          -82.69999694824219,
          -78.56999969482422,
          -64.16000366210938,
          -80.88999938964844,
          -81.62000274658203,
          -56.45000076293945,
          -37.119998931884766,
          -73.4000015258789,
          -71.91000366210938,
          -61.849998474121094,
          -64.12000274658203,
          -67.20999908447266,
          -25.40999984741211,
          -29.18000030517578,
          -72.58000183105469,
          -72.3499984741211,
          -82.76000213623047,
          -83.30000305175781,
          -82.44999694824219,
          -84.08999633789062,
          -83.69000244140625,
          -81.37999725341797,
          -83.7699966430664,
          -71.25,
          -83.44999694824219,
          -78.58999633789062,
          -77.55999755859375,
          -78.86000061035156,
          -85.02999877929688,
          -84.52999877929688,
          -84.62000274658203,
          -82.69999694824219,
          -67.68000030517578,
          -85.5,
          -71.38999938964844,
          -73.9800033569336,
          -86.13999938964844,
          -81.45999908447266,
          -78.12000274658203,
          -87.19000244140625,
          -76.72000122070312,
          -88.77999877929688,
          -82.36000061035156,
          -90.55999755859375,
          -82.62999725341797,
          -84.29000091552734,
          -92.72000122070312,
          -94.7300033569336,
          -90.06999969482422,
          -95.52999877929688,
          -98.05000305175781,
          -95.26000213623047,
          -100.02999877929688,
          -101.04000091552734,
          -102.51000213623047,
          -102.83999633789062,
          -103.83000183105469,
          -103.9000015258789,
          -104.4000015258789,
          -104.19000244140625,
          -103.79000091552734,
          -104.12999725341797,
          -103.83000183105469,
          -103.97000122070312,
          -103.8499984741211,
          -103.44000244140625,
          -104.13999938964844,
          -103.91000366210938,
          -103.75
         ],
         "yaxis": "y"
        }
       ],
       "layout": {
        "autosize": true,
        "legend": {
         "tracegroupgap": 0
        },
        "margin": {
         "t": 60
        },
        "template": {
         "data": {
          "bar": [
           {
            "error_x": {
             "color": "#2a3f5f"
            },
            "error_y": {
             "color": "#2a3f5f"
            },
            "marker": {
             "line": {
              "color": "#E5ECF6",
              "width": 0.5
             },
             "pattern": {
              "fillmode": "overlay",
              "size": 10,
              "solidity": 0.2
             }
            },
            "type": "bar"
           }
          ],
          "barpolar": [
           {
            "marker": {
             "line": {
              "color": "#E5ECF6",
              "width": 0.5
             },
             "pattern": {
              "fillmode": "overlay",
              "size": 10,
              "solidity": 0.2
             }
            },
            "type": "barpolar"
           }
          ],
          "carpet": [
           {
            "aaxis": {
             "endlinecolor": "#2a3f5f",
             "gridcolor": "white",
             "linecolor": "white",
             "minorgridcolor": "white",
             "startlinecolor": "#2a3f5f"
            },
            "baxis": {
             "endlinecolor": "#2a3f5f",
             "gridcolor": "white",
             "linecolor": "white",
             "minorgridcolor": "white",
             "startlinecolor": "#2a3f5f"
            },
            "type": "carpet"
           }
          ],
          "choropleth": [
           {
            "colorbar": {
             "outlinewidth": 0,
             "ticks": ""
            },
            "type": "choropleth"
           }
          ],
          "contour": [
           {
            "colorbar": {
             "outlinewidth": 0,
             "ticks": ""
            },
            "colorscale": [
             [
              0,
              "#0d0887"
             ],
             [
              0.1111111111111111,
              "#46039f"
             ],
             [
              0.2222222222222222,
              "#7201a8"
             ],
             [
              0.3333333333333333,
              "#9c179e"
             ],
             [
              0.4444444444444444,
              "#bd3786"
             ],
             [
              0.5555555555555556,
              "#d8576b"
             ],
             [
              0.6666666666666666,
              "#ed7953"
             ],
             [
              0.7777777777777778,
              "#fb9f3a"
             ],
             [
              0.8888888888888888,
              "#fdca26"
             ],
             [
              1,
              "#f0f921"
             ]
            ],
            "type": "contour"
           }
          ],
          "contourcarpet": [
           {
            "colorbar": {
             "outlinewidth": 0,
             "ticks": ""
            },
            "type": "contourcarpet"
           }
          ],
          "heatmap": [
           {
            "colorbar": {
             "outlinewidth": 0,
             "ticks": ""
            },
            "colorscale": [
             [
              0,
              "#0d0887"
             ],
             [
              0.1111111111111111,
              "#46039f"
             ],
             [
              0.2222222222222222,
              "#7201a8"
             ],
             [
              0.3333333333333333,
              "#9c179e"
             ],
             [
              0.4444444444444444,
              "#bd3786"
             ],
             [
              0.5555555555555556,
              "#d8576b"
             ],
             [
              0.6666666666666666,
              "#ed7953"
             ],
             [
              0.7777777777777778,
              "#fb9f3a"
             ],
             [
              0.8888888888888888,
              "#fdca26"
             ],
             [
              1,
              "#f0f921"
             ]
            ],
            "type": "heatmap"
           }
          ],
          "heatmapgl": [
           {
            "colorbar": {
             "outlinewidth": 0,
             "ticks": ""
            },
            "colorscale": [
             [
              0,
              "#0d0887"
             ],
             [
              0.1111111111111111,
              "#46039f"
             ],
             [
              0.2222222222222222,
              "#7201a8"
             ],
             [
              0.3333333333333333,
              "#9c179e"
             ],
             [
              0.4444444444444444,
              "#bd3786"
             ],
             [
              0.5555555555555556,
              "#d8576b"
             ],
             [
              0.6666666666666666,
              "#ed7953"
             ],
             [
              0.7777777777777778,
              "#fb9f3a"
             ],
             [
              0.8888888888888888,
              "#fdca26"
             ],
             [
              1,
              "#f0f921"
             ]
            ],
            "type": "heatmapgl"
           }
          ],
          "histogram": [
           {
            "marker": {
             "pattern": {
              "fillmode": "overlay",
              "size": 10,
              "solidity": 0.2
             }
            },
            "type": "histogram"
           }
          ],
          "histogram2d": [
           {
            "colorbar": {
             "outlinewidth": 0,
             "ticks": ""
            },
            "colorscale": [
             [
              0,
              "#0d0887"
             ],
             [
              0.1111111111111111,
              "#46039f"
             ],
             [
              0.2222222222222222,
              "#7201a8"
             ],
             [
              0.3333333333333333,
              "#9c179e"
             ],
             [
              0.4444444444444444,
              "#bd3786"
             ],
             [
              0.5555555555555556,
              "#d8576b"
             ],
             [
              0.6666666666666666,
              "#ed7953"
             ],
             [
              0.7777777777777778,
              "#fb9f3a"
             ],
             [
              0.8888888888888888,
              "#fdca26"
             ],
             [
              1,
              "#f0f921"
             ]
            ],
            "type": "histogram2d"
           }
          ],
          "histogram2dcontour": [
           {
            "colorbar": {
             "outlinewidth": 0,
             "ticks": ""
            },
            "colorscale": [
             [
              0,
              "#0d0887"
             ],
             [
              0.1111111111111111,
              "#46039f"
             ],
             [
              0.2222222222222222,
              "#7201a8"
             ],
             [
              0.3333333333333333,
              "#9c179e"
             ],
             [
              0.4444444444444444,
              "#bd3786"
             ],
             [
              0.5555555555555556,
              "#d8576b"
             ],
             [
              0.6666666666666666,
              "#ed7953"
             ],
             [
              0.7777777777777778,
              "#fb9f3a"
             ],
             [
              0.8888888888888888,
              "#fdca26"
             ],
             [
              1,
              "#f0f921"
             ]
            ],
            "type": "histogram2dcontour"
           }
          ],
          "mesh3d": [
           {
            "colorbar": {
             "outlinewidth": 0,
             "ticks": ""
            },
            "type": "mesh3d"
           }
          ],
          "parcoords": [
           {
            "line": {
             "colorbar": {
              "outlinewidth": 0,
              "ticks": ""
             }
            },
            "type": "parcoords"
           }
          ],
          "pie": [
           {
            "automargin": true,
            "type": "pie"
           }
          ],
          "scatter": [
           {
            "fillpattern": {
             "fillmode": "overlay",
             "size": 10,
             "solidity": 0.2
            },
            "type": "scatter"
           }
          ],
          "scatter3d": [
           {
            "line": {
             "colorbar": {
              "outlinewidth": 0,
              "ticks": ""
             }
            },
            "marker": {
             "colorbar": {
              "outlinewidth": 0,
              "ticks": ""
             }
            },
            "type": "scatter3d"
           }
          ],
          "scattercarpet": [
           {
            "marker": {
             "colorbar": {
              "outlinewidth": 0,
              "ticks": ""
             }
            },
            "type": "scattercarpet"
           }
          ],
          "scattergeo": [
           {
            "marker": {
             "colorbar": {
              "outlinewidth": 0,
              "ticks": ""
             }
            },
            "type": "scattergeo"
           }
          ],
          "scattergl": [
           {
            "marker": {
             "colorbar": {
              "outlinewidth": 0,
              "ticks": ""
             }
            },
            "type": "scattergl"
           }
          ],
          "scattermapbox": [
           {
            "marker": {
             "colorbar": {
              "outlinewidth": 0,
              "ticks": ""
             }
            },
            "type": "scattermapbox"
           }
          ],
          "scatterpolar": [
           {
            "marker": {
             "colorbar": {
              "outlinewidth": 0,
              "ticks": ""
             }
            },
            "type": "scatterpolar"
           }
          ],
          "scatterpolargl": [
           {
            "marker": {
             "colorbar": {
              "outlinewidth": 0,
              "ticks": ""
             }
            },
            "type": "scatterpolargl"
           }
          ],
          "scatterternary": [
           {
            "marker": {
             "colorbar": {
              "outlinewidth": 0,
              "ticks": ""
             }
            },
            "type": "scatterternary"
           }
          ],
          "surface": [
           {
            "colorbar": {
             "outlinewidth": 0,
             "ticks": ""
            },
            "colorscale": [
             [
              0,
              "#0d0887"
             ],
             [
              0.1111111111111111,
              "#46039f"
             ],
             [
              0.2222222222222222,
              "#7201a8"
             ],
             [
              0.3333333333333333,
              "#9c179e"
             ],
             [
              0.4444444444444444,
              "#bd3786"
             ],
             [
              0.5555555555555556,
              "#d8576b"
             ],
             [
              0.6666666666666666,
              "#ed7953"
             ],
             [
              0.7777777777777778,
              "#fb9f3a"
             ],
             [
              0.8888888888888888,
              "#fdca26"
             ],
             [
              1,
              "#f0f921"
             ]
            ],
            "type": "surface"
           }
          ],
          "table": [
           {
            "cells": {
             "fill": {
              "color": "#EBF0F8"
             },
             "line": {
              "color": "white"
             }
            },
            "header": {
             "fill": {
              "color": "#C8D4E3"
             },
             "line": {
              "color": "white"
             }
            },
            "type": "table"
           }
          ]
         },
         "layout": {
          "annotationdefaults": {
           "arrowcolor": "#2a3f5f",
           "arrowhead": 0,
           "arrowwidth": 1
          },
          "autotypenumbers": "strict",
          "coloraxis": {
           "colorbar": {
            "outlinewidth": 0,
            "ticks": ""
           }
          },
          "colorscale": {
           "diverging": [
            [
             0,
             "#8e0152"
            ],
            [
             0.1,
             "#c51b7d"
            ],
            [
             0.2,
             "#de77ae"
            ],
            [
             0.3,
             "#f1b6da"
            ],
            [
             0.4,
             "#fde0ef"
            ],
            [
             0.5,
             "#f7f7f7"
            ],
            [
             0.6,
             "#e6f5d0"
            ],
            [
             0.7,
             "#b8e186"
            ],
            [
             0.8,
             "#7fbc41"
            ],
            [
             0.9,
             "#4d9221"
            ],
            [
             1,
             "#276419"
            ]
           ],
           "sequential": [
            [
             0,
             "#0d0887"
            ],
            [
             0.1111111111111111,
             "#46039f"
            ],
            [
             0.2222222222222222,
             "#7201a8"
            ],
            [
             0.3333333333333333,
             "#9c179e"
            ],
            [
             0.4444444444444444,
             "#bd3786"
            ],
            [
             0.5555555555555556,
             "#d8576b"
            ],
            [
             0.6666666666666666,
             "#ed7953"
            ],
            [
             0.7777777777777778,
             "#fb9f3a"
            ],
            [
             0.8888888888888888,
             "#fdca26"
            ],
            [
             1,
             "#f0f921"
            ]
           ],
           "sequentialminus": [
            [
             0,
             "#0d0887"
            ],
            [
             0.1111111111111111,
             "#46039f"
            ],
            [
             0.2222222222222222,
             "#7201a8"
            ],
            [
             0.3333333333333333,
             "#9c179e"
            ],
            [
             0.4444444444444444,
             "#bd3786"
            ],
            [
             0.5555555555555556,
             "#d8576b"
            ],
            [
             0.6666666666666666,
             "#ed7953"
            ],
            [
             0.7777777777777778,
             "#fb9f3a"
            ],
            [
             0.8888888888888888,
             "#fdca26"
            ],
            [
             1,
             "#f0f921"
            ]
           ]
          },
          "colorway": [
           "#636efa",
           "#EF553B",
           "#00cc96",
           "#ab63fa",
           "#FFA15A",
           "#19d3f3",
           "#FF6692",
           "#B6E880",
           "#FF97FF",
           "#FECB52"
          ],
          "font": {
           "color": "#2a3f5f"
          },
          "geo": {
           "bgcolor": "white",
           "lakecolor": "white",
           "landcolor": "#E5ECF6",
           "showlakes": true,
           "showland": true,
           "subunitcolor": "white"
          },
          "hoverlabel": {
           "align": "left"
          },
          "hovermode": "closest",
          "mapbox": {
           "style": "light"
          },
          "paper_bgcolor": "white",
          "plot_bgcolor": "#E5ECF6",
          "polar": {
           "angularaxis": {
            "gridcolor": "white",
            "linecolor": "white",
            "ticks": ""
           },
           "bgcolor": "#E5ECF6",
           "radialaxis": {
            "gridcolor": "white",
            "linecolor": "white",
            "ticks": ""
           }
          },
          "scene": {
           "xaxis": {
            "backgroundcolor": "#E5ECF6",
            "gridcolor": "white",
            "gridwidth": 2,
            "linecolor": "white",
            "showbackground": true,
            "ticks": "",
            "zerolinecolor": "white"
           },
           "yaxis": {
            "backgroundcolor": "#E5ECF6",
            "gridcolor": "white",
            "gridwidth": 2,
            "linecolor": "white",
            "showbackground": true,
            "ticks": "",
            "zerolinecolor": "white"
           },
           "zaxis": {
            "backgroundcolor": "#E5ECF6",
            "gridcolor": "white",
            "gridwidth": 2,
            "linecolor": "white",
            "showbackground": true,
            "ticks": "",
            "zerolinecolor": "white"
           }
          },
          "shapedefaults": {
           "line": {
            "color": "#2a3f5f"
           }
          },
          "ternary": {
           "aaxis": {
            "gridcolor": "white",
            "linecolor": "white",
            "ticks": ""
           },
           "baxis": {
            "gridcolor": "white",
            "linecolor": "white",
            "ticks": ""
           },
           "bgcolor": "#E5ECF6",
           "caxis": {
            "gridcolor": "white",
            "linecolor": "white",
            "ticks": ""
           }
          },
          "title": {
           "x": 0.05
          },
          "xaxis": {
           "automargin": true,
           "gridcolor": "white",
           "linecolor": "white",
           "ticks": "",
           "title": {
            "standoff": 15
           },
           "zerolinecolor": "white",
           "zerolinewidth": 2
          },
          "yaxis": {
           "automargin": true,
           "gridcolor": "white",
           "linecolor": "white",
           "ticks": "",
           "title": {
            "standoff": 15
           },
           "zerolinecolor": "white",
           "zerolinewidth": 2
          }
         }
        },
        "xaxis": {
         "anchor": "y",
         "autorange": true,
         "domain": [
          0,
          1
         ],
         "range": [
          0,
          408
         ],
         "title": {
          "text": "x"
         },
         "type": "linear"
        },
        "yaxis": {
         "anchor": "x",
         "autorange": true,
         "domain": [
          0,
          1
         ],
         "range": [
          -108.9255542755127,
          -21.01444435119629
         ],
         "title": {
          "text": "y"
         },
         "type": "linear"
        }
       }
      },
      "image/png": "[encoded data removed]",
      "text/html": [
       "<div>                            <div id=\"296c539d-574a-4b5e-99da-b02fb5ae54f3\" class=\"plotly-graph-div\" style=\"height:525px; width:100%;\"></div>            <script type=\"text/javascript\">                require([\"plotly\"], function(Plotly) {                    window.PLOTLYENV=window.PLOTLYENV || {};                                    if (document.getElementById(\"296c539d-574a-4b5e-99da-b02fb5ae54f3\")) {                    Plotly.newPlot(                        \"296c539d-574a-4b5e-99da-b02fb5ae54f3\",                        [{\"hovertemplate\":\"x=%{x}\\u003cbr\\u003ey=%{y}\\u003cextra\\u003e\\u003c\\u002fextra\\u003e\",\"legendgroup\":\"\",\"line\":{\"color\":\"#636efa\",\"dash\":\"solid\"},\"marker\":{\"symbol\":\"circle\"},\"mode\":\"lines\",\"name\":\"\",\"orientation\":\"v\",\"showlegend\":false,\"x\":[0,1,2,3,4,5,6,7,8,9,10,11,12,13,14,15,16,17,18,19,20,21,22,23,24,25,26,27,28,29,30,31,32,33,34,35,36,37,38,39,40,41,42,43,44,45,46,47,48,49,50,51,52,53,54,55,56,57,58,59,60,61,62,63,64,65,66,67,68,69,70,71,72,73,74,75,76,77,78,79,80,81,82,83,84,85,86,87,88,89,90,91,92,93,94,95,96,97,98,99,100,101,102,103,104,105,106,107,108,109,110,111,112,113,114,115,116,117,118,119,120,121,122,123,124,125,126,127,128,129,130,131,132,133,134,135,136,137,138,139,140,141,142,143,144,145,146,147,148,149,150,151,152,153,154,155,156,157,158,159,160,161,162,163,164,165,166,167,168,169,170,171,172,173,174,175,176,177,178,179,180,181,182,183,184,185,186,187,188,189,190,191,192,193,194,195,196,197,198,199,200,201,202,203,204,205,206,207,208,209,210,211,212,213,214,215,216,217,218,219,220,221,222,223,224,225,226,227,228,229,230,231,232,233,234,235,236,237,238,239,240,241,242,243,244,245,246,247,248,249,250,251,252,253,254,255,256,257,258,259,260,261,262,263,264,265,266,267,268,269,270,271,272,273,274,275,276,277,278,279,280,281,282,283,284,285,286,287,288,289,290,291,292,293,294,295,296,297,298,299,300,301,302,303,304,305,306,307,308,309,310,311,312,313,314,315,316,317,318,319,320,321,322,323,324,325,326,327,328,329,330,331,332,333,334,335,336,337,338,339,340,341,342,343,344,345,346,347,348,349,350,351,352,353,354,355,356,357,358,359,360,361,362,363,364,365,366,367,368,369,370,371,372,373,374,375,376,377,378,379,380,381,382,383,384,385,386,387,388,389,390,391,392,393,394,395,396,397,398,399,400,401,402,403,404,405,406,407,408],\"xaxis\":\"x\",\"y\":[-101.61000061035156,-94.97000122070312,-103.94000244140625,-103.66000366210938,-103.88999938964844,-103.87999725341797,-104.06999969482422,-104.5199966430664,-102.55999755859375,-104.52999877929688,-104.4800033569336,-103.97000122070312,-104.45999908447266,-96.93000030517578,-101.51000213623047,-100.81999969482422,-93.58999633789062,-91.87999725341797,-98.88999938964844,-94.77999877929688,-87.5,-83.19000244140625,-94.33999633789062,-93.05000305175781,-86.95999908447266,-91.9800033569336,-87.33000183105469,-87.38999938964844,-89.30000305175781,-76.16000366210938,-78.22000122070312,-85.87999725341797,-86.47000122070312,-86.41000366210938,-86.44999694824219,-85.66000366210938,-83.44000244140625,-86.01000213623047,-85.80999755859375,-85.48999786376953,-85.55999755859375,-81.3499984741211,-85.08999633789062,-85.91999816894531,-81.37999725341797,-82.16999816894531,-85.26000213623047,-85.20999908447266,-83.77999877929688,-85.56999969482422,-85.06999969482422,-85.26000213623047,-85.3499984741211,-71.66999816894531,-85.37999725341797,-55.709999084472656,-78.23999786376953,-77.7300033569336,-81.93000030517578,-84.56999969482422,-84.66000366210938,-84.6500015258789,-83.56999969482422,-83.72000122070312,-84.87000274658203,-75.41000366210938,-85.25,-84.33000183105469,-84.70999908447266,-79.72000122070312,-83.33999633789062,-84.27999877929688,-83.20999908447266,-84.66000366210938,-46.060001373291016,-84.45999908447266,-56.900001525878906,-64.18000030517578,-55.56999969482422,-83.48999786376953,-63.68000030517578,-77.31999969482422,-75.56999969482422,-71.69000244140625,-78.5,-77.16999816894531,-63.56999969482422,-71.93000030517578,-75.02999877929688,-73.73999786376953,-74.97000122070312,-77.69000244140625,-73.87999725341797,-74.43000030517578,-72.52999877929688,-82.4800033569336,-72.44999694824219,-83.52999877929688,-83.11000061035156,-39.20000076293945,-84.05000305175781,-69.69999694824219,-80.19999694824219,-84.04000091552734,-77.26000213623047,-74.77999877929688,-71.56999969482422,-72.63999938964844,-74.36000061035156,-80.11000061035156,-82.41999816894531,-82.95999908447266,-82.7699966430664,-69.8499984741211,-80.51000213623047,-83.08000183105469,-81.1500015258789,-80.4000015258789,-77.61000061035156,-78.45999908447266,-82.66999816894531,-76.5999984741211,-81.08999633789062,-82.30999755859375,-67.58999633789062,-75.63999938964844,-74.55000305175781,-81.66000366210938,-73.77999877929688,-72.26000213623047,-81.80000305175781,-73.47000122070312,-74.02999877929688,-82.37999725341797,-83.9800033569336,-77.30000305175781,-81.94000244140625,-84.01000213623047,-65.02999877929688,-76.80000305175781,-75.16999816894531,-68.88999938964844,-66.12999725341797,-83.44000244140625,-80.19999694824219,-81.56999969482422,-79.83000183105469,-82.19999694824219,-83.69999694824219,-83.95999908447266,-82.19000244140625,-76.7300033569336,-79.63999938964844,-78.72000122070312,-83.48999786376953,-82.04000091552734,-80.56999969482422,-76.8499984741211,-75.20999908447266,-78.16999816894531,-73.54000091552734,-80.05000305175781,-57.5099983215332,-73.12999725341797,-81.11000061035156,-64.1500015258789,-65.23999786376953,-78.08000183105469,-62.41999816894531,-64.81999969482422,-69.2699966430664,-73.05000305175781,-50.59000015258789,-76.05000305175781,-65.81999969482422,-66.62999725341797,-78.38999938964844,-78.3499984741211,-63.650001525878906,-75.9000015258789,-60.22999954223633,-81.7699966430664,-36.66999816894531,-75.68000030517578,-77.33000183105469,-65.45999908447266,-36.619998931884766,-74.43000030517578,-81.30000305175781,-65.0999984741211,-66.55000305175781,-77.38999938964844,-80.33999633789062,-70.5199966430664,-81.4000015258789,-67.91000366210938,-70.37000274658203,-48.779998779296875,-60.279998779296875,-69.9800033569336,-67.66999816894531,-60.0099983215332,-79.02999877929688,-81.93000030517578,-62.7400016784668,-78.16000366210938,-79.30000305175781,-77.08999633789062,-82.54000091552734,-81.62000274658203,-81.5999984741211,-82.61000061035156,-81.5199966430664,-73.88999938964844,-82.02999877929688,-81.33000183105469,-71.16999816894531,-82.58000183105469,-82.9000015258789,-76.4000015258789,-78.33999633789062,-59.380001068115234,-81.61000061035156,-78.52999877929688,-79.16000366210938,-65.51000213623047,-80.38999938964844,-83.08000183105469,-81.30000305175781,-82.19000244140625,-74.16000366210938,-50.9900016784668,-53.45000076293945,-71.81999969482422,-77.06999969482422,-82.70999908447266,-82.7300033569336,-79.95999908447266,-50.439998626708984,-49.459999084472656,-79.66999816894531,-82.41999816894531,-55.58000183105469,-58.119998931884766,-73.04000091552734,-43.54999923706055,-45.88999938964844,-80.25,-75.83999633789062,-42.91999816894531,-72.58000183105469,-81.68000030517578,-63.25,-72.33999633789062,-80.33999633789062,-77.4000015258789,-56.56999969482422,-83.2300033569336,-83.75,-78.37000274658203,-83.75,-73.7300033569336,-83.29000091552734,-70.83000183105469,-61.689998626708984,-52.38999938964844,-68.31999969482422,-80.41999816894531,-63.959999084472656,-83.61000061035156,-71.23999786376953,-79.13999938964844,-80.18000030517578,-84.51000213623047,-85.27999877929688,-72.33000183105469,-74.91999816894531,-82.5,-78.8499984741211,-80.70999908447266,-83.7300033569336,-79.47000122070312,-83.61000061035156,-81.26000213623047,-85.12999725341797,-84.8499984741211,-72.0,-84.48999786376953,-71.2699966430664,-58.470001220703125,-83.41000366210938,-77.66000366210938,-83.02999877929688,-84.7300033569336,-77.19000244140625,-80.38999938964844,-83.12999725341797,-78.58999633789062,-84.08000183105469,-84.05000305175781,-75.2300033569336,-83.06999969482422,-82.52999877929688,-78.69999694824219,-83.76000213623047,-63.220001220703125,-69.12000274658203,-84.04000091552734,-78.79000091552734,-82.56999969482422,-82.9800033569336,-82.69999694824219,-80.31999969482422,-83.83000183105469,-69.11000061035156,-51.58000183105469,-76.88999938964844,-82.7300033569336,-83.29000091552734,-77.81999969482422,-82.94999694824219,-83.37999725341797,-62.2599983215332,-83.12999725341797,-82.44000244140625,-82.38999938964844,-82.77999877929688,-47.54999923706055,-48.7400016784668,-63.150001525878906,-79.56999969482422,-83.2300033569336,-83.29000091552734,-81.27999877929688,-83.31999969482422,-83.12999725341797,-83.2699966430664,-82.66000366210938,-79.33000183105469,-83.29000091552734,-82.69999694824219,-78.56999969482422,-64.16000366210938,-80.88999938964844,-81.62000274658203,-56.45000076293945,-37.119998931884766,-73.4000015258789,-71.91000366210938,-61.849998474121094,-64.12000274658203,-67.20999908447266,-25.40999984741211,-29.18000030517578,-72.58000183105469,-72.3499984741211,-82.76000213623047,-83.30000305175781,-82.44999694824219,-84.08999633789062,-83.69000244140625,-81.37999725341797,-83.7699966430664,-71.25,-83.44999694824219,-78.58999633789062,-77.55999755859375,-78.86000061035156,-85.02999877929688,-84.52999877929688,-84.62000274658203,-82.69999694824219,-67.68000030517578,-85.5,-71.38999938964844,-73.9800033569336,-86.13999938964844,-81.45999908447266,-78.12000274658203,-87.19000244140625,-76.72000122070312,-88.77999877929688,-82.36000061035156,-90.55999755859375,-82.62999725341797,-84.29000091552734,-92.72000122070312,-94.7300033569336,-90.06999969482422,-95.52999877929688,-98.05000305175781,-95.26000213623047,-100.02999877929688,-101.04000091552734,-102.51000213623047,-102.83999633789062,-103.83000183105469,-103.9000015258789,-104.4000015258789,-104.19000244140625,-103.79000091552734,-104.12999725341797,-103.83000183105469,-103.97000122070312,-103.8499984741211,-103.44000244140625,-104.13999938964844,-103.91000366210938,-103.75],\"yaxis\":\"y\",\"type\":\"scatter\"}],                        {\"template\":{\"data\":{\"histogram2dcontour\":[{\"type\":\"histogram2dcontour\",\"colorbar\":{\"outlinewidth\":0,\"ticks\":\"\"},\"colorscale\":[[0.0,\"#0d0887\"],[0.1111111111111111,\"#46039f\"],[0.2222222222222222,\"#7201a8\"],[0.3333333333333333,\"#9c179e\"],[0.4444444444444444,\"#bd3786\"],[0.5555555555555556,\"#d8576b\"],[0.6666666666666666,\"#ed7953\"],[0.7777777777777778,\"#fb9f3a\"],[0.8888888888888888,\"#fdca26\"],[1.0,\"#f0f921\"]]}],\"choropleth\":[{\"type\":\"choropleth\",\"colorbar\":{\"outlinewidth\":0,\"ticks\":\"\"}}],\"histogram2d\":[{\"type\":\"histogram2d\",\"colorbar\":{\"outlinewidth\":0,\"ticks\":\"\"},\"colorscale\":[[0.0,\"#0d0887\"],[0.1111111111111111,\"#46039f\"],[0.2222222222222222,\"#7201a8\"],[0.3333333333333333,\"#9c179e\"],[0.4444444444444444,\"#bd3786\"],[0.5555555555555556,\"#d8576b\"],[0.6666666666666666,\"#ed7953\"],[0.7777777777777778,\"#fb9f3a\"],[0.8888888888888888,\"#fdca26\"],[1.0,\"#f0f921\"]]}],\"heatmap\":[{\"type\":\"heatmap\",\"colorbar\":{\"outlinewidth\":0,\"ticks\":\"\"},\"colorscale\":[[0.0,\"#0d0887\"],[0.1111111111111111,\"#46039f\"],[0.2222222222222222,\"#7201a8\"],[0.3333333333333333,\"#9c179e\"],[0.4444444444444444,\"#bd3786\"],[0.5555555555555556,\"#d8576b\"],[0.6666666666666666,\"#ed7953\"],[0.7777777777777778,\"#fb9f3a\"],[0.8888888888888888,\"#fdca26\"],[1.0,\"#f0f921\"]]}],\"heatmapgl\":[{\"type\":\"heatmapgl\",\"colorbar\":{\"outlinewidth\":0,\"ticks\":\"\"},\"colorscale\":[[0.0,\"#0d0887\"],[0.1111111111111111,\"#46039f\"],[0.2222222222222222,\"#7201a8\"],[0.3333333333333333,\"#9c179e\"],[0.4444444444444444,\"#bd3786\"],[0.5555555555555556,\"#d8576b\"],[0.6666666666666666,\"#ed7953\"],[0.7777777777777778,\"#fb9f3a\"],[0.8888888888888888,\"#fdca26\"],[1.0,\"#f0f921\"]]}],\"contourcarpet\":[{\"type\":\"contourcarpet\",\"colorbar\":{\"outlinewidth\":0,\"ticks\":\"\"}}],\"contour\":[{\"type\":\"contour\",\"colorbar\":{\"outlinewidth\":0,\"ticks\":\"\"},\"colorscale\":[[0.0,\"#0d0887\"],[0.1111111111111111,\"#46039f\"],[0.2222222222222222,\"#7201a8\"],[0.3333333333333333,\"#9c179e\"],[0.4444444444444444,\"#bd3786\"],[0.5555555555555556,\"#d8576b\"],[0.6666666666666666,\"#ed7953\"],[0.7777777777777778,\"#fb9f3a\"],[0.8888888888888888,\"#fdca26\"],[1.0,\"#f0f921\"]]}],\"surface\":[{\"type\":\"surface\",\"colorbar\":{\"outlinewidth\":0,\"ticks\":\"\"},\"colorscale\":[[0.0,\"#0d0887\"],[0.1111111111111111,\"#46039f\"],[0.2222222222222222,\"#7201a8\"],[0.3333333333333333,\"#9c179e\"],[0.4444444444444444,\"#bd3786\"],[0.5555555555555556,\"#d8576b\"],[0.6666666666666666,\"#ed7953\"],[0.7777777777777778,\"#fb9f3a\"],[0.8888888888888888,\"#fdca26\"],[1.0,\"#f0f921\"]]}],\"mesh3d\":[{\"type\":\"mesh3d\",\"colorbar\":{\"outlinewidth\":0,\"ticks\":\"\"}}],\"scatter\":[{\"fillpattern\":{\"fillmode\":\"overlay\",\"size\":10,\"solidity\":0.2},\"type\":\"scatter\"}],\"parcoords\":[{\"type\":\"parcoords\",\"line\":{\"colorbar\":{\"outlinewidth\":0,\"ticks\":\"\"}}}],\"scatterpolargl\":[{\"type\":\"scatterpolargl\",\"marker\":{\"colorbar\":{\"outlinewidth\":0,\"ticks\":\"\"}}}],\"bar\":[{\"error_x\":{\"color\":\"#2a3f5f\"},\"error_y\":{\"color\":\"#2a3f5f\"},\"marker\":{\"line\":{\"color\":\"#E5ECF6\",\"width\":0.5},\"pattern\":{\"fillmode\":\"overlay\",\"size\":10,\"solidity\":0.2}},\"type\":\"bar\"}],\"scattergeo\":[{\"type\":\"scattergeo\",\"marker\":{\"colorbar\":{\"outlinewidth\":0,\"ticks\":\"\"}}}],\"scatterpolar\":[{\"type\":\"scatterpolar\",\"marker\":{\"colorbar\":{\"outlinewidth\":0,\"ticks\":\"\"}}}],\"histogram\":[{\"marker\":{\"pattern\":{\"fillmode\":\"overlay\",\"size\":10,\"solidity\":0.2}},\"type\":\"histogram\"}],\"scattergl\":[{\"type\":\"scattergl\",\"marker\":{\"colorbar\":{\"outlinewidth\":0,\"ticks\":\"\"}}}],\"scatter3d\":[{\"type\":\"scatter3d\",\"line\":{\"colorbar\":{\"outlinewidth\":0,\"ticks\":\"\"}},\"marker\":{\"colorbar\":{\"outlinewidth\":0,\"ticks\":\"\"}}}],\"scattermapbox\":[{\"type\":\"scattermapbox\",\"marker\":{\"colorbar\":{\"outlinewidth\":0,\"ticks\":\"\"}}}],\"scatterternary\":[{\"type\":\"scatterternary\",\"marker\":{\"colorbar\":{\"outlinewidth\":0,\"ticks\":\"\"}}}],\"scattercarpet\":[{\"type\":\"scattercarpet\",\"marker\":{\"colorbar\":{\"outlinewidth\":0,\"ticks\":\"\"}}}],\"carpet\":[{\"aaxis\":{\"endlinecolor\":\"#2a3f5f\",\"gridcolor\":\"white\",\"linecolor\":\"white\",\"minorgridcolor\":\"white\",\"startlinecolor\":\"#2a3f5f\"},\"baxis\":{\"endlinecolor\":\"#2a3f5f\",\"gridcolor\":\"white\",\"linecolor\":\"white\",\"minorgridcolor\":\"white\",\"startlinecolor\":\"#2a3f5f\"},\"type\":\"carpet\"}],\"table\":[{\"cells\":{\"fill\":{\"color\":\"#EBF0F8\"},\"line\":{\"color\":\"white\"}},\"header\":{\"fill\":{\"color\":\"#C8D4E3\"},\"line\":{\"color\":\"white\"}},\"type\":\"table\"}],\"barpolar\":[{\"marker\":{\"line\":{\"color\":\"#E5ECF6\",\"width\":0.5},\"pattern\":{\"fillmode\":\"overlay\",\"size\":10,\"solidity\":0.2}},\"type\":\"barpolar\"}],\"pie\":[{\"automargin\":true,\"type\":\"pie\"}]},\"layout\":{\"autotypenumbers\":\"strict\",\"colorway\":[\"#636efa\",\"#EF553B\",\"#00cc96\",\"#ab63fa\",\"#FFA15A\",\"#19d3f3\",\"#FF6692\",\"#B6E880\",\"#FF97FF\",\"#FECB52\"],\"font\":{\"color\":\"#2a3f5f\"},\"hovermode\":\"closest\",\"hoverlabel\":{\"align\":\"left\"},\"paper_bgcolor\":\"white\",\"plot_bgcolor\":\"#E5ECF6\",\"polar\":{\"bgcolor\":\"#E5ECF6\",\"angularaxis\":{\"gridcolor\":\"white\",\"linecolor\":\"white\",\"ticks\":\"\"},\"radialaxis\":{\"gridcolor\":\"white\",\"linecolor\":\"white\",\"ticks\":\"\"}},\"ternary\":{\"bgcolor\":\"#E5ECF6\",\"aaxis\":{\"gridcolor\":\"white\",\"linecolor\":\"white\",\"ticks\":\"\"},\"baxis\":{\"gridcolor\":\"white\",\"linecolor\":\"white\",\"ticks\":\"\"},\"caxis\":{\"gridcolor\":\"white\",\"linecolor\":\"white\",\"ticks\":\"\"}},\"coloraxis\":{\"colorbar\":{\"outlinewidth\":0,\"ticks\":\"\"}},\"colorscale\":{\"sequential\":[[0.0,\"#0d0887\"],[0.1111111111111111,\"#46039f\"],[0.2222222222222222,\"#7201a8\"],[0.3333333333333333,\"#9c179e\"],[0.4444444444444444,\"#bd3786\"],[0.5555555555555556,\"#d8576b\"],[0.6666666666666666,\"#ed7953\"],[0.7777777777777778,\"#fb9f3a\"],[0.8888888888888888,\"#fdca26\"],[1.0,\"#f0f921\"]],\"sequentialminus\":[[0.0,\"#0d0887\"],[0.1111111111111111,\"#46039f\"],[0.2222222222222222,\"#7201a8\"],[0.3333333333333333,\"#9c179e\"],[0.4444444444444444,\"#bd3786\"],[0.5555555555555556,\"#d8576b\"],[0.6666666666666666,\"#ed7953\"],[0.7777777777777778,\"#fb9f3a\"],[0.8888888888888888,\"#fdca26\"],[1.0,\"#f0f921\"]],\"diverging\":[[0,\"#8e0152\"],[0.1,\"#c51b7d\"],[0.2,\"#de77ae\"],[0.3,\"#f1b6da\"],[0.4,\"#fde0ef\"],[0.5,\"#f7f7f7\"],[0.6,\"#e6f5d0\"],[0.7,\"#b8e186\"],[0.8,\"#7fbc41\"],[0.9,\"#4d9221\"],[1,\"#276419\"]]},\"xaxis\":{\"gridcolor\":\"white\",\"linecolor\":\"white\",\"ticks\":\"\",\"title\":{\"standoff\":15},\"zerolinecolor\":\"white\",\"automargin\":true,\"zerolinewidth\":2},\"yaxis\":{\"gridcolor\":\"white\",\"linecolor\":\"white\",\"ticks\":\"\",\"title\":{\"standoff\":15},\"zerolinecolor\":\"white\",\"automargin\":true,\"zerolinewidth\":2},\"scene\":{\"xaxis\":{\"backgroundcolor\":\"#E5ECF6\",\"gridcolor\":\"white\",\"linecolor\":\"white\",\"showbackground\":true,\"ticks\":\"\",\"zerolinecolor\":\"white\",\"gridwidth\":2},\"yaxis\":{\"backgroundcolor\":\"#E5ECF6\",\"gridcolor\":\"white\",\"linecolor\":\"white\",\"showbackground\":true,\"ticks\":\"\",\"zerolinecolor\":\"white\",\"gridwidth\":2},\"zaxis\":{\"backgroundcolor\":\"#E5ECF6\",\"gridcolor\":\"white\",\"linecolor\":\"white\",\"showbackground\":true,\"ticks\":\"\",\"zerolinecolor\":\"white\",\"gridwidth\":2}},\"shapedefaults\":{\"line\":{\"color\":\"#2a3f5f\"}},\"annotationdefaults\":{\"arrowcolor\":\"#2a3f5f\",\"arrowhead\":0,\"arrowwidth\":1},\"geo\":{\"bgcolor\":\"white\",\"landcolor\":\"#E5ECF6\",\"subunitcolor\":\"white\",\"showland\":true,\"showlakes\":true,\"lakecolor\":\"white\"},\"title\":{\"x\":0.05},\"mapbox\":{\"style\":\"light\"}}},\"xaxis\":{\"anchor\":\"y\",\"domain\":[0.0,1.0],\"title\":{\"text\":\"x\"}},\"yaxis\":{\"anchor\":\"x\",\"domain\":[0.0,1.0],\"title\":{\"text\":\"y\"}},\"legend\":{\"tracegroupgap\":0},\"margin\":{\"t\":60}},                        {\"responsive\": true}                    ).then(function(){\n",
       "                            \n",
       "var gd = document.getElementById('296c539d-574a-4b5e-99da-b02fb5ae54f3');\n",
       "var x = new MutationObserver(function (mutations, observer) {{\n",
       "        var display = window.getComputedStyle(gd).display;\n",
       "        if (!display || display === 'none') {{\n",
       "            console.log([gd, 'removed!']);\n",
       "            Plotly.purge(gd);\n",
       "            observer.disconnect();\n",
       "        }}\n",
       "}});\n",
       "\n",
       "// Listen for the removal of the full notebook cells\n",
       "var notebookContainer = gd.closest('#notebook-container');\n",
       "if (notebookContainer) {{\n",
       "    x.observe(notebookContainer, {childList: true});\n",
       "}}\n",
       "\n",
       "// Listen for the clearing of the current output cell\n",
       "var outputEl = gd.closest('.output');\n",
       "if (outputEl) {{\n",
       "    x.observe(outputEl, {childList: true});\n",
       "}}\n",
       "\n",
       "                        })                };                });            </script>        </div>"
      ]
     },
     "metadata": {},
     "output_type": "display_data"
    }
   ],
   "source": [
    "# plotly\n",
    "import plotly.express as px\n",
    "# Resample size (e.g., take max of every 100 points)\n",
    "chunk_size = 40\n",
    "data = fft\n",
    "# Reshape and take the max\n",
    "reduced_data_max = data[:len(data) // chunk_size * chunk_size].reshape(-1, chunk_size).max(axis=1)\n",
    "px.line(y=reduced_data_max)\n"
   ]
  },
  {
   "cell_type": "code",
   "execution_count": null,
   "metadata": {},
   "outputs": [
    {
     "data": {
      "text/plain": [
       "16384"
      ]
     },
     "execution_count": 47,
     "metadata": {},
     "output_type": "execute_result"
    }
   ],
   "source": [
    "len(fft)"
   ]
  }
 ],
 "metadata": {
  "kernelspec": {
   "display_name": ".venv",
   "language": "python",
   "name": "python3"
  },
  "language_info": {
   "codemirror_mode": {
    "name": "ipython",
    "version": 3
   },
   "file_extension": ".py",
   "mimetype": "text/x-python",
   "name": "python",
   "nbconvert_exporter": "python",
   "pygments_lexer": "ipython3",
   "version": "3.13.4"
  }
 },
 "nbformat": 4,
 "nbformat_minor": 4
}
