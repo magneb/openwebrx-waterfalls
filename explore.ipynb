{
 "cells": [
  {
   "cell_type": "markdown",
   "metadata": {},
   "source": [
    "# Exploring Open Web RX waterfall data\n",
    "An exercise in data aquisition and signals processing.\n",
    "\n",
    "## Metadata collection\n",
    "\n",
    "First off we will select a site and get some metadata to assess if we can use it."
   ]
  },
  {
   "cell_type": "code",
   "execution_count": 1,
   "metadata": {},
   "outputs": [],
   "source": [
    "# Lets explore some open web rx data.\n",
    "# we could visit and scrape https://www.receiverbook.de/?type=openwebrx for links... \n",
    "# but lets leave that for later and go straight to a single source. \n",
    "\n",
    "import json\n",
    "import httpx\n",
    "\n",
    "# \"randomly\" chosen openwebrx site\n",
    "site = \"https://2.websdr.jestok.com\"\n",
    "\n",
    "# Let's fetch the features of the site first\n",
    "result = httpx.get(site + \"/api/features\")\n",
    "result.raise_for_status()\n",
    "features = result.json()"
   ]
  },
  {
   "cell_type": "code",
   "execution_count": 2,
   "metadata": {},
   "outputs": [
    {
     "data": {
      "text/plain": [
       "{'core': {'available': True,\n",
       "  'requirements': {'csdr': {'available': True,\n",
       "    'enabled': True,\n",
       "    'description': 'OpenWebRX uses the demodulator and pipeline tools provided by the\\n[CSDR](https://github.com/jketterl/csdr) project. In addition, the\\n[PyCSDR](https://github.com/jketterl/pycsdr) must be installed to\\nprovide CSDR Python bindings. The `python3-csdr` package, found in\\nthe OpenWebRX repositories, should be all you need. Do not forget\\nto restart OpenWebRX after installing this package.'}}},\n",
       " 'rtl_sdr': {'available': True,\n",
       "  'requirements': {'rtl_connector': {'available': True,\n",
       "    'enabled': True,\n",
       "    'description': 'The [OWRX Connector](https://github.com/jketterl/owrx_connector)\\nprovides direct interfacing between RTL-SDR hardware and OpenWebRX.\\nYou can install the `owrx-connector` package from the OpenWebRX\\nrepositories.'}}},\n",
       " 'rtl_sdr_soapy': {'available': False,\n",
       "  'requirements': {'soapy_connector': {'available': True,\n",
       "    'enabled': True,\n",
       "    'description': 'The [OWRX Connector](https://github.com/jketterl/owrx_connector)\\nprovides direct interfacing between Soapy SDR API and OpenWebRX.\\nYou can install the `owrx-connector` package from the OpenWebRX\\nrepositories.'},\n",
       "   'soapy_rtl_sdr': {'available': False,\n",
       "    'enabled': False,\n",
       "    'description': 'The [SoapySDR module for RTL-SDR](https://github.com/pothosware/SoapyRTLSDR/wiki)\\ndevices can be used as an alternative to the rtl_connector. It\\nprovides additional support for the direct sampling mode. The\\n`soapysdr-module-rtlsdr` package is available in most Linux\\ndistributions.'}}},\n",
       " 'rtl_tcp': {'available': True,\n",
       "  'requirements': {'rtl_tcp_connector': {'available': True,\n",
       "    'enabled': True,\n",
       "    'description': 'The [OWRX Connector](https://github.com/jketterl/owrx_connector)\\nprovides direct interfacing between networked RTL-SDR hardware and\\nOpenWebRX. You can install the `owrx-connector` package from the\\nOpenWebRX repositories.'}}},\n",
       " 'sdrplay': {'available': True,\n",
       "  'requirements': {'soapy_connector': {'available': True,\n",
       "    'enabled': True,\n",
       "    'description': 'The [OWRX Connector](https://github.com/jketterl/owrx_connector)\\nprovides direct interfacing between Soapy SDR API and OpenWebRX.\\nYou can install the `owrx-connector` package from the OpenWebRX\\nrepositories.'},\n",
       "   'soapy_sdrplay': {'available': True,\n",
       "    'enabled': True,\n",
       "    'description': 'The [SoapySDR module for SDRPlay](https://github.com/SDRplay/SoapySDRPlay)\\ndevices is required for interfacing with SDRPlay devices (RSP1*, RSP2*,\\nRSPdx, RSPduo, etc). You can install the `soapysdr-module-sdrplay3`\\npackage from the OpenWebRX+ repositories. You will also need to\\nmanually install the latest\\n[SDRPlay APIv3 library](https://www.sdrplay.com/api/)\\nfrom the manufacturer.'}}},\n",
       " 'mirics': {'available': False,\n",
       "  'requirements': {'soapy_connector': {'available': True,\n",
       "    'enabled': True,\n",
       "    'description': 'The [OWRX Connector](https://github.com/jketterl/owrx_connector)\\nprovides direct interfacing between Soapy SDR API and OpenWebRX.\\nYou can install the `owrx-connector` package from the OpenWebRX\\nrepositories.'},\n",
       "   'soapy_mirics': {'available': False,\n",
       "    'enabled': False,\n",
       "    'description': 'The [SoapySDR module for Mirics](https://github.com/ericek111/SoapyMiri)\\ndevices is required for interfacing with Mirics-based hardware\\n(MSi001 + MSi2500). You will also need to install the\\n[libmirisdr-5](https://github.com/ericek111/libmirisdr-5)\\nlibrary.'}}},\n",
       " 'hackrf': {'available': False,\n",
       "  'requirements': {'soapy_connector': {'available': True,\n",
       "    'enabled': True,\n",
       "    'description': 'The [OWRX Connector](https://github.com/jketterl/owrx_connector)\\nprovides direct interfacing between Soapy SDR API and OpenWebRX.\\nYou can install the `owrx-connector` package from the OpenWebRX\\nrepositories.'},\n",
       "   'soapy_hackrf': {'available': False,\n",
       "    'enabled': False,\n",
       "    'description': 'The [SoapyHackRF](https://github.com/pothosware/SoapyHackRF/wiki)\\nmodule allows HackRF to be used with SoapySDR. The\\n`soapysdr-module-hackrf` package is available in most\\nLinux distributions.'}}},\n",
       " 'perseussdr': {'available': False,\n",
       "  'requirements': {'perseustest': {'available': False,\n",
       "    'enabled': False,\n",
       "    'description': 'To use the Microtelecom Perseus HF receiver,\\n[download](https://github.com/Microtelecom/libperseus-sdr/releases/download/v0.8.2/libperseus_sdr-0.8.2.tar.gz),\\ncompile and install the `libperseus-sdr` library and tools:\\n```\\n sudo apt install libusb-1.0-0-dev\\n tar -zxvf libperseus_sdr-0.8.2.tar.gz\\n cd libperseus_sdr-0.8.2/\\n ./configure\\n make\\n sudo make install\\n sudo ldconfig\\n perseustest\\n```'},\n",
       "   'nmux': {'available': True,\n",
       "    'enabled': True,\n",
       "    'description': 'Nmux is a tool provided by the\\n[CSDR](https://github.com/jketterl/csdr) project and used for\\nthe internal multiplexing of IQ data streams. You can install\\nthe `nmux` package from the OpenWebRX repositories.'}}},\n",
       " 'airspy': {'available': False,\n",
       "  'requirements': {'soapy_connector': {'available': True,\n",
       "    'enabled': True,\n",
       "    'description': 'The [OWRX Connector](https://github.com/jketterl/owrx_connector)\\nprovides direct interfacing between Soapy SDR API and OpenWebRX.\\nYou can install the `owrx-connector` package from the OpenWebRX\\nrepositories.'},\n",
       "   'soapy_airspy': {'available': False,\n",
       "    'enabled': False,\n",
       "    'description': 'The [SoapySDR module for Airspy](https://github.com/pothosware/SoapyAirspy/wiki)\\ndevices is required for interfacing with Airspy devices (Airspy\\nR2, Airspy Mini, etc). The `soapysdr-module-airspy` package is\\navailable in most Linux distributions.'}}},\n",
       " 'airspyhf': {'available': False,\n",
       "  'requirements': {'soapy_connector': {'available': True,\n",
       "    'enabled': True,\n",
       "    'description': 'The [OWRX Connector](https://github.com/jketterl/owrx_connector)\\nprovides direct interfacing between Soapy SDR API and OpenWebRX.\\nYou can install the `owrx-connector` package from the OpenWebRX\\nrepositories.'},\n",
       "   'soapy_airspyhf': {'available': False,\n",
       "    'enabled': False,\n",
       "    'description': 'The [SoapySDR module for AirspyHF](https://github.com/pothosware/SoapyAirspyHF/wiki)\\ndevices is required for interfacing with Airspy HF devices\\n(Airspy HF+, Airspy HF Discovery, etc).'}}},\n",
       " 'afedri': {'available': False,\n",
       "  'requirements': {'soapy_connector': {'available': True,\n",
       "    'enabled': True,\n",
       "    'description': 'The [OWRX Connector](https://github.com/jketterl/owrx_connector)\\nprovides direct interfacing between Soapy SDR API and OpenWebRX.\\nYou can install the `owrx-connector` package from the OpenWebRX\\nrepositories.'},\n",
       "   'soapy_afedri': {'available': False,\n",
       "    'enabled': False,\n",
       "    'description': 'The [SoapyAfedri](https://github.com/alexander-sholohov/SoapyAfedri)\\nmodule allows using Afedri SDR-Net devices with SoapySDR.'}}},\n",
       " 'lime_sdr': {'available': False,\n",
       "  'requirements': {'soapy_connector': {'available': True,\n",
       "    'enabled': True,\n",
       "    'description': 'The [OWRX Connector](https://github.com/jketterl/owrx_connector)\\nprovides direct interfacing between Soapy SDR API and OpenWebRX.\\nYou can install the `owrx-connector` package from the OpenWebRX\\nrepositories.'},\n",
       "   'soapy_lime_sdr': {'available': False,\n",
       "    'enabled': False,\n",
       "    'description': 'The [Lime Suite](https://github.com/myriadrf/LimeSuite)\\ninstalls, among other things, a SoapySDR driver for the\\nLimeSDR device series.'}}},\n",
       " 'fifi_sdr': {'available': False,\n",
       "  'requirements': {'alsa': {'available': False,\n",
       "    'enabled': False,\n",
       "    'description': 'Some SDR receivers identify themselves as sound cards. OpenWebRX relies\\non the ALSA library to access such receivers. It can be obtained by\\ninstalling the `alsa-utils` package in most Linux distributions.'},\n",
       "   'rockprog': {'available': False,\n",
       "    'enabled': False,\n",
       "    'description': 'The `rockprog` executable is required to interface with FiFiSDR\\ndevices. You can download and install it from\\n[here](https://o28.sischa.net/fifisdr/trac/wiki/De%3Arockprog).'},\n",
       "   'nmux': {'available': True,\n",
       "    'enabled': True,\n",
       "    'description': 'Nmux is a tool provided by the\\n[CSDR](https://github.com/jketterl/csdr) project and used for\\nthe internal multiplexing of IQ data streams. You can install\\nthe `nmux` package from the OpenWebRX repositories.'}}},\n",
       " 'pluto_sdr': {'available': False,\n",
       "  'requirements': {'soapy_connector': {'available': True,\n",
       "    'enabled': True,\n",
       "    'description': 'The [OWRX Connector](https://github.com/jketterl/owrx_connector)\\nprovides direct interfacing between Soapy SDR API and OpenWebRX.\\nYou can install the `owrx-connector` package from the OpenWebRX\\nrepositories.'},\n",
       "   'soapy_pluto_sdr': {'available': False,\n",
       "    'enabled': False,\n",
       "    'description': 'The [SoapySDR module for PlutoSDR](https://github.com/pothosware/SoapyPlutoSDR)\\ndevices is required for interfacing with PlutoSDR devices.'}}},\n",
       " 'soapy_remote': {'available': False,\n",
       "  'requirements': {'soapy_connector': {'available': True,\n",
       "    'enabled': True,\n",
       "    'description': 'The [OWRX Connector](https://github.com/jketterl/owrx_connector)\\nprovides direct interfacing between Soapy SDR API and OpenWebRX.\\nYou can install the `owrx-connector` package from the OpenWebRX\\nrepositories.'},\n",
       "   'soapy_remote': {'available': False,\n",
       "    'enabled': False,\n",
       "    'description': 'The [SoapyRemote](https://github.com/pothosware/SoapyRemote/wiki)\\nallows the usage of remote SDR devices using the SoapySDRServer.'}}},\n",
       " 'uhd': {'available': False,\n",
       "  'requirements': {'soapy_connector': {'available': True,\n",
       "    'enabled': True,\n",
       "    'description': 'The [OWRX Connector](https://github.com/jketterl/owrx_connector)\\nprovides direct interfacing between Soapy SDR API and OpenWebRX.\\nYou can install the `owrx-connector` package from the OpenWebRX\\nrepositories.'},\n",
       "   'soapy_uhd': {'available': False,\n",
       "    'enabled': False,\n",
       "    'description': 'The [SoapyUHD](https://github.com/pothosware/SoapyUHD/wiki)\\nmodule allows using UHD / USRP devices with SoapySDR. The\\n`soapysdr-module-uhd` package is available in most Linux\\ndistributions.'}}},\n",
       " 'radioberry': {'available': False,\n",
       "  'requirements': {'soapy_connector': {'available': True,\n",
       "    'enabled': True,\n",
       "    'description': 'The [OWRX Connector](https://github.com/jketterl/owrx_connector)\\nprovides direct interfacing between Soapy SDR API and OpenWebRX.\\nYou can install the `owrx-connector` package from the OpenWebRX\\nrepositories.'},\n",
       "   'soapy_radioberry': {'available': False,\n",
       "    'enabled': False,\n",
       "    'description': 'The Radioberry is an SDR extension board for the Raspberry Pi.\\nMore information, along with a SoapySDR module, is available\\nat the\\n[Radioberry GitHub page](https://github.com/pa3gsb/Radioberry-2.x).'}}},\n",
       " 'fcdpp': {'available': False,\n",
       "  'requirements': {'soapy_connector': {'available': True,\n",
       "    'enabled': True,\n",
       "    'description': 'The [OWRX Connector](https://github.com/jketterl/owrx_connector)\\nprovides direct interfacing between Soapy SDR API and OpenWebRX.\\nYou can install the `owrx-connector` package from the OpenWebRX\\nrepositories.'},\n",
       "   'soapy_fcdpp': {'available': False,\n",
       "    'enabled': False,\n",
       "    'description': 'The [SoapyFCDPP](https://github.com/pothosware/SoapyFCDPP)\\nmodule allows to use Funcube Dongle Pro+ with SoapySDR.'}}},\n",
       " 'bladerf': {'available': False,\n",
       "  'requirements': {'soapy_connector': {'available': True,\n",
       "    'enabled': True,\n",
       "    'description': 'The [OWRX Connector](https://github.com/jketterl/owrx_connector)\\nprovides direct interfacing between Soapy SDR API and OpenWebRX.\\nYou can install the `owrx-connector` package from the OpenWebRX\\nrepositories.'},\n",
       "   'soapy_bladerf': {'available': False,\n",
       "    'enabled': False,\n",
       "    'description': 'The [SoapyBladeRF](https://github.com/pothosware/SoapyBladeRF)\\nmodule allows to use BladeRF devices with SoapySDR. The\\n`soapysdr-module-bladerf` package is available in most\\nLinux distributions.'}}},\n",
       " 'sddc': {'available': False,\n",
       "  'requirements': {'sddc_connector': {'available': False,\n",
       "    'enabled': False,\n",
       "    'description': 'The [SDDC Connector](https://github.com/jketterl/sddc_connector)\\nallows connectivity with SDR devices powered by the `libsddc`\\nlibrary, such as RX666, RX888, HF103, etc.'}}},\n",
       " 'sddc_soapy': {'available': False,\n",
       "  'requirements': {'soapy_connector': {'available': True,\n",
       "    'enabled': True,\n",
       "    'description': 'The [OWRX Connector](https://github.com/jketterl/owrx_connector)\\nprovides direct interfacing between Soapy SDR API and OpenWebRX.\\nYou can install the `owrx-connector` package from the OpenWebRX\\nrepositories.'},\n",
       "   'soapy_sddc': {'available': False,\n",
       "    'enabled': False,\n",
       "    'description': 'The [SoapySDR module for SDDC](https://github.com/ik1xpv/ExtIO_sddc)\\ndevices can be used as an alternative to the `sddc_connector`, enabling\\nconnectivity with SDR devices such as the RX666, RX888, HF103, etc.\\nUnlike the `sddc_connector`, the SoapySDR module relies solely on the CPU\\nand does not require an NVIDIA GPU.\\nYou will need to compile SoapySDDC from source. Detailed installation\\ninstructions are available on the [OpenWebRX Wiki](https://github.com/jketterl/openwebrx/wiki/SDDC-device-notes).'}}},\n",
       " 'hpsdr': {'available': True,\n",
       "  'requirements': {'hpsdr_connector': {'available': True,\n",
       "    'enabled': True,\n",
       "    'description': 'The [HPSDR Connector](https://github.com/jancona/hpsdrconnector)\\nis required to interface OpenWebRX with Hermes Lite 2, Red Pitaya,\\nand similar networked SDR devices. You can install the\\n`hpsdrconnector` package from the OpenWebRX repositories.'}}},\n",
       " 'runds': {'available': True,\n",
       "  'requirements': {'runds_connector': {'available': True,\n",
       "    'enabled': True,\n",
       "    'description': 'The [RunDS Connector](https://github.com/jketterl/runds_connector)\\nallows using R&S radios via EB200 or Ammos.'}}},\n",
       " 'digital_voice_digiham': {'available': False,\n",
       "  'requirements': {'digiham': {'available': True,\n",
       "    'enabled': True,\n",
       "    'description': 'OpenWebRX uses the [DigiHAM](https://github.com/jketterl/digiham)\\nlibrary for the digital voice modes. In addition, the\\n[PyDigiHAM](https://github.com/jketterl/pydigiham) must\\nbe installed to provide DigiHAM Python bindings. The\\n`python3-digiham` package, found in the OpenWebRX\\nrepositories, should be all you need. Do not forget to\\nrestart OpenWebRX after installing this package.'},\n",
       "   'codecserver_ambe': {'available': False,\n",
       "    'enabled': False,\n",
       "    'description': 'The [CodecServer](https://github.com/jketterl/codecserver) is used to decode\\naudio data from digital voice modes using the AMBE codec. This feature checks\\nfor both the `codecserver` executable and the configured AMBE codec. The\\n`codecserver` package can be found in the OpenWebRX repositories.'}}},\n",
       " 'digital_voice_freedv': {'available': False,\n",
       "  'requirements': {'freedv_rx': {'available': False,\n",
       "    'enabled': False,\n",
       "    'description': \"The `freedv_rx` executable is required to demodulate FreeDV digital\\ntransmissions. It comes as part of the `codec2` library build, but is\\nnot installed by default or contained inside the `codec2` packages.\\n\\nTo obtain it, you will have to compile 'codec2' from the sources and\\nthen manually install `freedv_rx`. The detailed installation\\ninstructions are available from the\\n[OpenWebRX Wiki](https://github.com/jketterl/openwebrx/wiki/FreeDV-demodulator-notes).\"}}},\n",
       " 'digital_voice_m17': {'available': True,\n",
       "  'requirements': {'m17_demod': {'available': True,\n",
       "    'enabled': True,\n",
       "    'description': 'OpenWebRX uses the [M17 Demodulator](https://github.com/mobilinkd/m17-cxx-demod)\\nto demodulate M17 digital voice signals. You can install the\\n`m17-demod` package from the OpenWebRX repositories.'}}},\n",
       " 'wsjt-x': {'available': True,\n",
       "  'requirements': {'wsjtx': {'available': True,\n",
       "    'enabled': True,\n",
       "    'description': 'OpenWebRX uses the [WSJT-X](https://wsjt.sourceforge.io/) software\\nsuite to decode FT8 and other digital modes. The `wsjtx` package is\\navailable in most Linux distributions.'}}},\n",
       " 'wsjt-x-2-3': {'available': True,\n",
       "  'requirements': {'wsjtx_2_3': {'available': True,\n",
       "    'enabled': True,\n",
       "    'description': 'Newer digital modes (e.g. FST4, FST4) require\\n[WSJT-X](https://wsjt.sourceforge.io/) version 2.3 or higher.\\nUse the latest `wsjtx` package available in your Linux distribution.'}}},\n",
       " 'wsjt-x-2-4': {'available': False,\n",
       "  'requirements': {'wsjtx_2_4': {'available': False,\n",
       "    'enabled': False,\n",
       "    'description': 'The Q65 digital mode requires\\n[WSJT-X](https://wsjt.sourceforge.io/) version 2.4 or higher.\\nUse the latest `wsjtx` package available in your Linux distribution.'}}},\n",
       " 'msk144': {'available': False,\n",
       "  'requirements': {'msk144decoder': {'available': False,\n",
       "    'enabled': False,\n",
       "    'description': 'OpenWebRX uses the\\n[MSK144 Decoder](https://github.com/alexander-sholohov/msk144decoder)\\nto decode the MSK144 digital mode. You can install the\\n`msk144decoder` package from the OpenWebRX repositories.'}}},\n",
       " 'packet': {'available': True,\n",
       "  'requirements': {'direwolf': {'available': True,\n",
       "    'enabled': True,\n",
       "    'description': 'OpenWebRX uses the [Direwolf](https://github.com/wb2osz/direwolf)\\nsoftware modem to decode Packet Radio and report data back to APRS-IS.\\nThe same software is also used to decode maritime AIS transmissions.\\nThe `direwolf` package is available in most Linux distributions.'}}},\n",
       " 'pocsag': {'available': True,\n",
       "  'requirements': {'digiham': {'available': True,\n",
       "    'enabled': True,\n",
       "    'description': 'OpenWebRX uses the [DigiHAM](https://github.com/jketterl/digiham)\\nlibrary for the digital voice modes. In addition, the\\n[PyDigiHAM](https://github.com/jketterl/pydigiham) must\\nbe installed to provide DigiHAM Python bindings. The\\n`python3-digiham` package, found in the OpenWebRX\\nrepositories, should be all you need. Do not forget to\\nrestart OpenWebRX after installing this package.'}}},\n",
       " 'js8call': {'available': True,\n",
       "  'requirements': {'js8': {'available': True,\n",
       "    'enabled': True,\n",
       "    'description': 'OpenWebRX uses the [JS8Call](http://js8call.com/) software\\nto decode JS8 communications. The `js8call` package is\\navailable in most Linux distributions.\\n\\nPlease note that the `js8` command line decoder is not added\\nto the $PATH variable by some JS8Call package builds. You may\\nhave to make a link to it from the `/usr/bin` folder or add\\nits location to the $PATH variable.'},\n",
       "   'js8py': {'available': True,\n",
       "    'enabled': True,\n",
       "    'description': 'OpenWebRX uses the [JS8Py](https://github.com/jketterl/js8py)\\nlibrary to decode binary JS8 messages into readable text. You\\ncan install the `python3-js8py` package from the OpenWebRX\\nrepositories. Do not forget to restart OpenWebRX after\\ninstalling this package.'}}},\n",
       " 'drm': {'available': True,\n",
       "  'requirements': {'dream': {'available': True,\n",
       "    'enabled': True,\n",
       "    'description': 'OpenWebRX uses the [Dream](https://sourceforge.net/projects/drm/)\\nsoftware to decode DRM broadcasts. The default version of Dream,\\nsupplied in most Linux distributions, will not work with OpenWebRX,\\nso you will have to compile Dream from the sources. The detailed\\ninstallation instructions are available from the\\n[OpenWebRX Wiki](https://github.com/jketterl/openwebrx/wiki/DRM-demodulator-notes).'}}},\n",
       " 'adsb': {'available': True,\n",
       "  'requirements': {'dump1090': {'available': True,\n",
       "    'enabled': True,\n",
       "    'description': 'OpenWebRX supports decoding Mode-S and ADS-B airplane communications by using the\\n[Dump1090](https://github.com/flightaware/dump1090) decoder. You can install the\\n`dump1090-fa-minimal` package from the OpenWebRX repositories.\\n\\nWhile there exist many Dump1090 forks, any version that supports `--ifile` and\\n`--iformat` arguments will work. We recommend using the\\n[Dump1090 by FlightAware](https://github.com/flightaware/dump1090).\\nIf you are using a different fork, please make sure that the `dump1090` command\\n(without suffixes) runs the desired version. You can use symbolic links or the\\n[Debian alternatives system](https://wiki.debian.org/DebianAlternatives) to\\nachieve this.'}}},\n",
       " 'ism': {'available': True,\n",
       "  'requirements': {'rtl_433': {'available': True,\n",
       "    'enabled': True,\n",
       "    'description': 'OpenWebRX supports decoding ISM signals from various sensors\\nby using the [RTL-433](https://github.com/merbanan/rtl_433)\\ndecoder suite. The `rtl-433` package is available in most Linux\\ndistributions.'}}},\n",
       " 'hfdl': {'available': True,\n",
       "  'requirements': {'dumphfdl': {'available': True,\n",
       "    'enabled': True,\n",
       "    'description': 'OpenWebRX supports decoding HFDL airplane communications by using the\\n[DumpHFDL](https://github.com/szpajder/dumphfdl) decoder. You can\\ninstall the `dumphfdl` package from the OpenWebRX repositories.'}}},\n",
       " 'vdl2': {'available': True,\n",
       "  'requirements': {'dumpvdl2': {'available': True,\n",
       "    'enabled': True,\n",
       "    'description': 'OpenWebRX supports decoding VDL Mode 2 airplane communications by using the\\n[DumpVDL2](https://github.com/szpajder/dumpvdl2) decoder. You can\\ninstall the `dumpvdl2` package from the OpenWebRX repositories.'}}},\n",
       " 'acars': {'available': True,\n",
       "  'requirements': {'acarsdec': {'available': True,\n",
       "    'enabled': True,\n",
       "    'description': 'OpenWebRX supports decoding ACARS airplane communications by using the\\n[AcarsDec](https://github.com/TLeconte/acarsdec) decoder. You can\\ninstall the `acarsdec` package from the OpenWebRX repositories.'}}},\n",
       " 'page': {'available': True,\n",
       "  'requirements': {'multimon': {'available': True,\n",
       "    'enabled': True,\n",
       "    'description': 'OpenWebRX supports decoding FLEX, POCSAG, and several other digital modes\\nby using the [MultiMon-NG](https://github.com/EliasOenal/multimon-ng)\\ndecoder suite. The `multimon-ng` package is available in most Linux\\ndistributions.'}}},\n",
       " 'selcall': {'available': True,\n",
       "  'requirements': {'multimon': {'available': True,\n",
       "    'enabled': True,\n",
       "    'description': 'OpenWebRX supports decoding FLEX, POCSAG, and several other digital modes\\nby using the [MultiMon-NG](https://github.com/EliasOenal/multimon-ng)\\ndecoder suite. The `multimon-ng` package is available in most Linux\\ndistributions.'}}},\n",
       " 'eas': {'available': True,\n",
       "  'requirements': {'multimon': {'available': True,\n",
       "    'enabled': True,\n",
       "    'description': 'OpenWebRX supports decoding FLEX, POCSAG, and several other digital modes\\nby using the [MultiMon-NG](https://github.com/EliasOenal/multimon-ng)\\ndecoder suite. The `multimon-ng` package is available in most Linux\\ndistributions.'}}},\n",
       " 'wxsat': {'available': False,\n",
       "  'requirements': {'satdump': {'available': False,\n",
       "    'enabled': False,\n",
       "    'description': 'OpenWebRX uses [SatDump](https://github.com/SatDump/SatDump) software\\nsuite to receive weather satellite transmissions. The `satdump`\\npackages are available from its\\n[homepage](https://github.com/SatDump/SatDump).'}}},\n",
       " 'png': {'available': True,\n",
       "  'requirements': {'imagemagick': {'available': True,\n",
       "    'enabled': True,\n",
       "    'description': 'OpenWebRX converts received images to the PNG format with the\\n[ImageMagick](https://www.imagemagick.org/) tool. The\\n`imagemagick` package is available in most Linux distributions.'}}},\n",
       " 'rds': {'available': True,\n",
       "  'requirements': {'redsea': {'available': True,\n",
       "    'enabled': True,\n",
       "    'description': 'OpenWebRX uses the [RedSea](https://github.com/windytan/redsea)\\ndecoder to obtain the RDS information from WFM broadcasts. You can\\ninstall the `redsea` package from the OpenWebRX repositories.'}}},\n",
       " 'dab': {'available': False,\n",
       "  'requirements': {'csdreti': {'available': False,\n",
       "    'enabled': False,\n",
       "    'description': 'To decode DAB broadcast signals, OpenWebRX needs the ETI decoder from the\\n[`csdr-eti`](https://github.com/jketterl/csdr-eti) project, together with\\nthe associated Python bindings from [`pycsdr-eti`](https://github.com/jketterl/pycsdr-eti).\\nThe `python3-csdr-eti` package, found in the OpenWebRX repositories,\\nshould be all you need. Do not forget to restart OpenWebRX after\\ninstalling this package.'},\n",
       "   'dablin': {'available': True,\n",
       "    'enabled': True,\n",
       "    'description': 'OpenWebRX uses the [Dablin](https://github.com/Opendigitalradio/dablin)\\nsoftware to decode DAB broadcast signals. The `dablin` package is\\navailable in most Linux distributions.'}}},\n",
       " 'mqtt': {'available': True,\n",
       "  'requirements': {'paho_mqtt': {'available': True,\n",
       "    'enabled': True,\n",
       "    'description': 'OpenWebRX uses the [paho-mqtt](https://pypi.org/project/paho-mqtt/)\\nlibrary to send decoded signal data to an MQTT broker for further\\nprocessing by third-party applications. The `python3-paho-mqtt`\\npackage is available in most Linux distributions. Do not forget\\nto restart OpenWebRX after installing this package.'}}},\n",
       " 'hdradio': {'available': True,\n",
       "  'requirements': {'nrsc5': {'available': True,\n",
       "    'enabled': True,\n",
       "    'description': 'OpenWebRX uses the [Nrsc5](https://github.com/theori-io/nrsc5) tool\\nto decode HDRadio broadcasts. You can install the `nrsc5` package\\nfrom the OpenWebRX+ repositories.'}}},\n",
       " 'rigcontrol': {'available': True,\n",
       "  'requirements': {'hamlib': {'available': True,\n",
       "    'enabled': True,\n",
       "    'description': 'OpenWebRX uses the [Hamlib](https://github.com/Hamlib/Hamlib) `rigctl`\\ntool to synchronize frequency and modulation with external transceivers.\\nThe `hamlib` package is available in most Linux distributions.'}}},\n",
       " 'cwskimmer': {'available': True,\n",
       "  'requirements': {'csdr_cwskimmer': {'available': True,\n",
       "    'enabled': True,\n",
       "    'description': 'OpenWebRX uses the [CSDR CWSkimmer](https://github.com/luarvique/csdr-cwskimmer)\\nto decode multiple CW signals at once. You can install the\\n`csdr-cwskimmer` package from the OpenWebRX+ repositories.'}}},\n",
       " 'mp3': {'available': True,\n",
       "  'requirements': {'lame': {'available': True,\n",
       "    'enabled': True,\n",
       "    'description': 'OpenWebRX uses the [LAME](https://lame.sourceforge.io/) tool\\nto compress recorded audio into MP3 format. The `lame` package\\nis available in most Linux distributions.'}}}}"
      ]
     },
     "execution_count": 2,
     "metadata": {},
     "output_type": "execute_result"
    }
   ],
   "source": [
    "features"
   ]
  },
  {
   "cell_type": "code",
   "execution_count": 3,
   "metadata": {},
   "outputs": [
    {
     "data": {
      "text/plain": [
       "{'openwebrx': {'users': 2},\n",
       " 'pskreporter': {'duplicates': {'count': 136027}, 'spots': {'count': 1293866}},\n",
       " 'wsprnet': {'spots': {'count': 0}},\n",
       " 'decoding': {'queue': {'length': 0,\n",
       "   'in': {'count': 185812},\n",
       "   'out': {'count': 185812},\n",
       "   'overflow': {'count': 0},\n",
       "   'error': {'count': 2}}},\n",
       " 'wsjt': {'decodes': {'17m': {'FT8': {'count': 422193}},\n",
       "   '20m': {'FT8': {'count': 1069903}, 'FT4': {'count': 912}},\n",
       "   '40m': {'FT8': {'count': 781791}, 'FT4': {'count': 2}},\n",
       "   '30m': {'FT8': {'count': 229712}},\n",
       "   'unknown': {'FT8': {'count': 14}}}}}"
      ]
     },
     "execution_count": 3,
     "metadata": {},
     "output_type": "execute_result"
    }
   ],
   "source": [
    "# Now lets get some metrics from the openwebrx device to see how its doing.\n",
    "result = httpx.get(site + \"/metrics.json\")\n",
    "result.raise_for_status()\n",
    "metrics = result.json()\n",
    "metrics\n",
    "# Note that if the user count is high, we might want to consider a different site."
   ]
  },
  {
   "cell_type": "code",
   "execution_count": 4,
   "metadata": {},
   "outputs": [
    {
     "data": {
      "text/plain": [
       "{'name': 'SR4DON OLSZTYN/POLAND 17m-160m',\n",
       " 'admin': 'sdr@jestok.com',\n",
       " 'gps': {'lat': 53.7832485938901, 'lon': 20.4547299031047},\n",
       " 'asl': 134,\n",
       " 'location': 'Olsztyn, Poland'}"
      ]
     },
     "execution_count": 4,
     "metadata": {},
     "output_type": "execute_result"
    }
   ],
   "source": [
    "# Lets get some metadata to see where the receiver is located. (asl = above sea level)\n",
    "result = httpx.get(site + \"/status.json\")\n",
    "result.raise_for_status()\n",
    "status = result.json()\n",
    "status[\"receiver\"]"
   ]
  },
  {
   "cell_type": "markdown",
   "metadata": {},
   "source": [
    "Okay, the status json should look something line this:\n",
    "```\n",
    "{'name': 'SR4DON OLSZTYN/POLAND 17m-160m',\n",
    " 'admin': 'sdr@jestok.com',\n",
    " 'gps': {'lat': 53.7832485938901, 'lon': 20.4547299031047},\n",
    " 'asl': 134,\n",
    " 'location': 'Olsztyn, Poland'}\n",
    "```\n",
    "So it looks like this particular receiver is located in Poland so lets move on with that.\n",
    "\n",
    "## Waterfall data\n",
    "\n",
    "Lets have a look at what the web viewer is getting when opening up the site. \n",
    "When you visit an openwebrx page you are greeted by this wonderfull (near) real-time waterfall.\n",
    "So lets have a look at that datastream, shall we "
   ]
  },
  {
   "cell_type": "code",
   "execution_count": 29,
   "metadata": {},
   "outputs": [
    {
     "name": "stdout",
     "output_type": "stream",
     "text": [
      "20\n"
     ]
    }
   ],
   "source": [
    "# Get 20 items from the websocket stream\n",
    "from websockets.asyncio.client import connect\n",
    "\n",
    "messages = []\n",
    "async with connect(\"wss://2.websdr.jestok.com/ws/\") as ws:\n",
    "    await ws.send(\"SERVER DE CLIENT client=lib/FrequencyDisplay.js type=receiver\")\n",
    "    for _ in range(20):\n",
    "        msg = await ws.recv()\n",
    "        messages.append(msg)\n",
    "\n",
    "print(len(messages))"
   ]
  },
  {
   "cell_type": "code",
   "execution_count": 30,
   "metadata": {
    "scrolled": true
   },
   "outputs": [
    {
     "data": {
      "text/plain": [
       "['CLIENT DE SERVER server=openwebrx version=v1.2.85',\n",
       " '{\"type\": \"receiver_details\", \"value\": {\"usage_policy_url\": \"policy\", \"receiver_location\": \"Olsztyn, Poland\", \"receiver_name\": \"SR4DON OLSZTYN/POLAND 17m-160m\", \"keep_files\": 20, \"receiver_asl\": 134, \"photo_desc\": \"<script async src=\\\\\"https://www.googletagmanager.com/gtag/js?id=G-XQYYP2HWLQ\\\\\"></script>\\\\r\\\\n<script>\\\\r\\\\n  window.dataLayer = window.dataLayer || [];\\\\r\\\\n  function gtag(){dataLayer.push(arguments);}\\\\r\\\\n  gtag(\\'js\\', new Date());\\\\r\\\\n  gtag(\\'config\\', \\'G-XQYYP2HWLQ\\');\\\\r\\\\n</script>\\\\r\\\\n<p>\\\\r\\\\n\\\\r\\\\n<a href=\\\\\"https://1.websdr.jestok.com\\\\\"><img src=\\\\\"https://dabuttonfactory.com/button.png?t=PRZE%C5%81%C4%84CZ+NA+SDR+1&f=Open+Sans-Bold&ts=22&tc=fff&hp=45&vp=20&c=11&bgt=unicolored&bgc=00f&bs=1&bc=569\\\\\" alt=\\\\\"PRZE\\\\u0141\\\\u0104CZ NA SDR 1\\\\\" width=\\\\\"303\\\\\" height=\\\\\"64\\\\\" /></a>\\\\u00a0\\\\r\\\\n\\\\r\\\\n<a href=\\\\\"https://3.websdr.jestok.com\\\\\"><img src=\\\\\"https://dabuttonfactory.com/button.png?t=PRZE%C5%81%C4%84CZ+NA+SDR+3&f=Open+Sans-Bold&ts=22&tc=fff&hp=45&vp=20&c=11&bgt=unicolored&bgc=00f&bs=1&bc=569\\\\\" alt=\\\\\"PRZE\\\\u0141\\\\u0104CZ NA SDR 3\\\\\" width=\\\\\"303\\\\\" height=\\\\\"64\\\\\" /></a>\\\\u00a0\\\\r\\\\n\\\\r\\\\n\\\\r\\\\n<a href=\\\\\"https://sp4.jestok.com/websdr\\\\\" target=\\\\\"_blank\\\\\" rel=\\\\\"noopener\\\\\"><img src=\\\\\"https://dabuttonfactory.com/button.png?t=SZCZEG%C3%93%C5%81Y+TECHNICZNE&f=Open+Sans-Bold&ts=22&tc=fff&hp=45&vp=20&c=11&bgt=unicolored&bgc=00f&bs=1&bc=569\\\\\" alt=\\\\\"SZCZEG\\\\u00d3\\\\u0141Y\\\\\" width=\\\\\"359\\\\\" height=\\\\\"64\\\\\" /></a>\\\\u00a0 \\\\r\\\\n\\\\r\\\\n<a href=\\\\\"https://www.paypal.com/donate?hosted_button_id=D2PWZLC6RHSNG&source=url\\\\\" target=\\\\\"_blank\\\\\" rel=\\\\\"noopener\\\\\"><img src=\\\\\"https://dabuttonfactory.com/button.png?t=WESPRZYJ+NAS!&f=Open+Sans-Bold&ts=22&tc=fff&hp=45&vp=20&c=11&bgt=unicolored&bgc=00f&bs=1&bc=569\\\\\" alt=\\\\\"WESPRZYJ NAS\\\\\" width=\\\\\"257\\\\\" height=\\\\\"64\\\\\" /></a>\\\\r\\\\n\\\\r\\\\n\\\\r\\\\n\\\\r\\\\n\\\\r\\\\n<br>\\\\r\\\\n<a href=\\\\\"https://info.flagcounter.com/8khO\\\\\"><img src=\\\\\"https://s04.flagcounter.com/count2/8khO/bg_FFFFFF/txt_000000/border_CCCCCC/columns_3/maxflags_12/viewers_0/labels_0/pageviews_1/flags_0/percent_0/\\\\\" alt=\\\\\"Flag Counter\\\\\" border=\\\\\"0\\\\\"></a>\\\\r\\\\n</p>\\\\r\\\\n\", \"photo_title\": \"ZO PZK w Olsztynie / Zespol Szkol Elektronicznych i Telekomunikacyjnych w Olsztynie\", \"receiver_gps\": {\"lat\": 53.7832485938901, \"lon\": 20.4547299031047}, \"session_timeout\": 5400, \"locator\": \"KO03fs\"}}',\n",
       " '{\"type\": \"config\", \"value\": {\"allow_audio_recording\": true, \"waterfall_scheme\": \"TeejeezWaterfall\", \"tuning_precision\": 2, \"fft_size\": 16384, \"audio_compression\": \"adpcm\", \"waterfall_auto_levels\": {\"min\": 3.0, \"max\": 10.0}, \"allow_chat\": true, \"vessel_url\": \"https://www.vesselfinder.com/vessels/details/{}\", \"callsign_url\": \"https://www.qrzcq.com/call/{}\", \"max_clients\": 12, \"flight_url\": \"https://flightaware.com/live/flight/{}\", \"modes_url\": \"https://www.planespotters.net/hex/{}\", \"allow_center_freq_changes\": false, \"fft_compression\": \"adpcm\", \"receiver_gps\": {\"lat\": 53.7832485938901, \"lon\": 20.4547299031047}, \"waterfall_auto_min_range\": 50, \"waterfall_colors\": [0, 255, 65535, 65280, 16776960, 16711680, 16711935, 16777215]}}',\n",
       " '{\"type\": \"config\", \"value\": {\"waterfall_levels\": {\"min\": -88.0, \"max\": -38.0}, \"squelch_auto_margin\": 10, \"waterfall_auto_level_default_mode\": true}}',\n",
       " '{\"type\": \"clients\", \"value\": 2}',\n",
       " '{\"type\": \"secondary_config\", \"value\": {\"secondary_fft_size\": 1024}}',\n",
       " '{\"type\": \"config\", \"value\": {\"sdr_id\": \"rtl_sdr_a\", \"waterfall_levels\": {\"min\": -72.0, \"max\": -7.0}, \"center_freq\": 14600000, \"start_freq\": 14074000, \"profile_id\": \"20m_a\", \"tuning_step\": 50, \"samp_rate\": 9000000, \"start_mod\": \"usb\", \"start_offset_freq\": -526000}}',\n",
       " '{\"type\": \"dial_frequencies\", \"value\": [{\"frequency\": 10141000, \"mode\": \"bpsk31\"}, {\"frequency\": 10136000, \"mode\": \"ft8\"}, {\"frequency\": 10138700, \"mode\": \"wspr\"}, {\"frequency\": 10138000, \"mode\": \"jt65\"}, {\"frequency\": 10140000, \"mode\": \"jt9\"}, {\"frequency\": 10140000, \"mode\": \"ft4\"}, {\"frequency\": 10130000, \"mode\": \"js8\"}, {\"frequency\": 10132000, \"mode\": \"sstv\"}, {\"frequency\": 14070000, \"mode\": \"bpsk31\"}, {\"frequency\": 14074000, \"mode\": \"ft8\"}, {\"frequency\": 14095600, \"mode\": \"wspr\"}, {\"frequency\": 14076000, \"mode\": \"jt65\"}, {\"frequency\": 14078000, \"mode\": \"jt9\"}, {\"frequency\": 14080000, \"mode\": \"ft4\"}, {\"frequency\": 14078000, \"mode\": \"js8\"}, {\"frequency\": 14230000, \"mode\": \"sstv\"}, {\"frequency\": 18098000, \"mode\": \"bpsk31\"}, {\"frequency\": 18100000, \"mode\": \"ft8\"}, {\"frequency\": 18104600, \"mode\": \"wspr\"}, {\"frequency\": 18102000, \"mode\": \"jt65\"}, {\"frequency\": 18104000, \"mode\": \"jt9\"}, {\"frequency\": 18104000, \"mode\": \"ft4\"}, {\"frequency\": 18104000, \"mode\": \"js8\"}]}',\n",
       " '{\"type\": \"bookmarks\", \"value\": [{\"name\": \"Kuwait DRM\", \"frequency\": 15110000, \"modulation\": \"drm\", \"underlying\": \"\", \"description\": \"\", \"scannable\": false}, {\"name\": \"VOLMET SHANNON 1947km\", \"frequency\": 13264000, \"modulation\": \"usb\", \"underlying\": \"\", \"description\": \"\", \"scannable\": true}, {\"name\": \"VOLMET RAF St Eval 1771km\", \"frequency\": 11253000, \"modulation\": \"usb\", \"underlying\": \"\", \"description\": \"\", \"scannable\": true}, {\"name\": \"Pirates Russia\", \"frequency\": 10460000, \"modulation\": \"usb\", \"underlying\": \"\", \"description\": \"\", \"scannable\": true}, {\"name\": \"CHINA RADIO INTERNATIONAL Kashi-Saibagh 4400km\", \"frequency\": 17560000, \"modulation\": \"am\", \"underlying\": \"\", \"description\": \"\", \"scannable\": true}, {\"name\": \"CHINA RADIO INTERNATIONAL Kashi-Saibagh 4400km\", \"frequency\": 17650000, \"modulation\": \"am\", \"underlying\": \"\", \"description\": \"\", \"scannable\": true}, {\"name\": \"VOICE OF AMERICA\", \"frequency\": 17530000, \"modulation\": \"am\", \"underlying\": \"\", \"description\": \"\", \"scannable\": true}, {\"name\": \"RADIO FARDA Lampertheim 942km\", \"frequency\": 17830000, \"modulation\": \"am\", \"underlying\": \"\", \"description\": \"\", \"scannable\": true}, {\"name\": \"OTH Radar Container 29\\\\u04116 \\\\u00ab\\\\u041a\\\\u043e\\\\u043d\\\\u0442\\\\u0435\\\\u0439\\\\u043d\\\\u0435\\\\u0440\\\\u00bb\", \"frequency\": 17460000, \"modulation\": \"am\", \"underlying\": \"\", \"description\": \"\", \"scannable\": true}, {\"name\": \"OTH Radar Container 29\\\\u04116 \\\\u00ab\\\\u041a\\\\u043e\\\\u043d\\\\u0442\\\\u0435\\\\u0439\\\\u043d\\\\u0435\\\\u0440\\\\u00bb\", \"frequency\": 18345000, \"modulation\": \"am\", \"underlying\": \"\", \"description\": \"\", \"scannable\": true}, {\"name\": \"SOH Xi Wang Zhi Sheng TWN Miaoli 8470km\", \"frequency\": 16160000, \"modulation\": \"am\", \"underlying\": \"\", \"description\": \"\", \"scannable\": true}, {\"name\": \"SOH Xi Wang Zhi Sheng TWN Miaoli 8470km\", \"frequency\": 15970000, \"modulation\": \"am\", \"underlying\": \"\", \"description\": \"\", \"scannable\": true}, {\"name\": \"R.ROMANIA INT. Galbeni-Bacau 902km\", \"frequency\": 11950000, \"modulation\": \"am\", \"underlying\": \"\", \"description\": \"\", \"scannable\": true}, {\"name\": \"RADIO FARDA Lampertheim 942km\", \"frequency\": 12005000, \"modulation\": \"am\", \"underlying\": \"\", \"description\": \"\", \"scannable\": true}, {\"name\": \"CHINA RADIO INTERNATIONAL Kashi-Saibagh 4400km\", \"frequency\": 17560000, \"modulation\": \"am\", \"underlying\": \"\", \"description\": \"\", \"scannable\": true}, {\"name\": \"Radio Farda Lampertheim 942km\", \"frequency\": 13600000, \"modulation\": \"am\", \"underlying\": \"\", \"description\": \"\", \"scannable\": true}, {\"name\": \"RADIO FARDA Lampertheim 942km\", \"frequency\": 15690000, \"modulation\": \"am\", \"underlying\": \"\", \"description\": \"\", \"scannable\": true}, {\"name\": \"Time - PLC\", \"frequency\": 11440000, \"modulation\": \"usb\", \"underlying\": \"\", \"description\": \"\", \"scannable\": true}, {\"name\": \"Time - CHU\", \"frequency\": 14670000, \"modulation\": \"usb\", \"underlying\": \"\", \"description\": \"\", \"scannable\": true}, {\"name\": \"Time - RWM\", \"frequency\": 14996000, \"modulation\": \"usb\", \"underlying\": \"\", \"description\": \"\", \"scannable\": true}, {\"name\": \"Time - WWV, WWVH, BPM\", \"frequency\": 15000000, \"modulation\": \"usb\", \"underlying\": \"\", \"description\": \"\", \"scannable\": true}, {\"name\": \"Time - EBC\", \"frequency\": 15006000, \"modulation\": \"usb\", \"underlying\": \"\", \"description\": \"\", \"scannable\": true}, {\"name\": \"DDH9\", \"frequency\": 11039000, \"modulation\": \"rtty450\", \"underlying\": \"\", \"description\": \"\", \"scannable\": false}, {\"name\": \"DDH8\", \"frequency\": 14467300, \"modulation\": \"rtty450\", \"underlying\": \"\", \"description\": \"\", \"scannable\": false}, {\"name\": \"DDK9\", \"frequency\": 10100800, \"modulation\": \"rtty450\", \"underlying\": \"\", \"description\": \"\", \"scannable\": false}, {\"name\": \"GS-1 - San Francisco\", \"frequency\": 11327000, \"modulation\": \"hfdl\", \"underlying\": \"\", \"description\": \"\", \"scannable\": false}, {\"name\": \"GS-1 - San Francisco\", \"frequency\": 13276000, \"modulation\": \"hfdl\", \"underlying\": \"\", \"description\": \"\", \"scannable\": false}, {\"name\": \"GS-1 - San Francisco\", \"frequency\": 17919000, \"modulation\": \"hfdl\", \"underlying\": \"\", \"description\": \"\", \"scannable\": false}, {\"name\": \"GS-2 - Molokai\", \"frequency\": 11312000, \"modulation\": \"hfdl\", \"underlying\": \"\", \"description\": \"\", \"scannable\": false}, {\"name\": \"GS-2 - Molokai\", \"frequency\": 11348000, \"modulation\": \"hfdl\", \"underlying\": \"\", \"description\": \"\", \"scannable\": false}, {\"name\": \"GS-2 - Molokai\", \"frequency\": 13276000, \"modulation\": \"hfdl\", \"underlying\": \"\", \"description\": \"\", \"scannable\": false}, {\"name\": \"GS-2 - Molokai\", \"frequency\": 13312000, \"modulation\": \"hfdl\", \"underlying\": \"\", \"description\": \"\", \"scannable\": false}, {\"name\": \"GS-2 - Molokai\", \"frequency\": 13324000, \"modulation\": \"hfdl\", \"underlying\": \"\", \"description\": \"\", \"scannable\": false}, {\"name\": \"GS-2 - Molokai\", \"frequency\": 17919000, \"modulation\": \"hfdl\", \"underlying\": \"\", \"description\": \"\", \"scannable\": false}, {\"name\": \"GS-3 - Reykjavik\", \"frequency\": 11184000, \"modulation\": \"hfdl\", \"underlying\": \"\", \"description\": \"\", \"scannable\": false}, {\"name\": \"GS-3 - Reykjavik\", \"frequency\": 15025000, \"modulation\": \"hfdl\", \"underlying\": \"\", \"description\": \"\", \"scannable\": false}, {\"name\": \"GS-3 - Reykjavik\", \"frequency\": 17985000, \"modulation\": \"hfdl\", \"underlying\": \"\", \"description\": \"\", \"scannable\": false}, {\"name\": \"GS-4 - Riverhead\", \"frequency\": 11387000, \"modulation\": \"hfdl\", \"underlying\": \"\", \"description\": \"\", \"scannable\": false}, {\"name\": \"GS-4 - Riverhead\", \"frequency\": 13276000, \"modulation\": \"hfdl\", \"underlying\": \"\", \"description\": \"\", \"scannable\": false}, {\"name\": \"GS-4 - Riverhead\", \"frequency\": 17919000, \"modulation\": \"hfdl\", \"underlying\": \"\", \"description\": \"\", \"scannable\": false}, {\"name\": \"GS-5 - Auckland\", \"frequency\": 13351000, \"modulation\": \"hfdl\", \"underlying\": \"\", \"description\": \"\", \"scannable\": false}, {\"name\": \"GS-5 - Auckland\", \"frequency\": 17916000, \"modulation\": \"hfdl\", \"underlying\": \"\", \"description\": \"\", \"scannable\": false}, {\"name\": \"GS-6 - Hat Yai\", \"frequency\": 13270000, \"modulation\": \"hfdl\", \"underlying\": \"\", \"description\": \"\", \"scannable\": false}, {\"name\": \"GS-6 - Hat Yai\", \"frequency\": 17928000, \"modulation\": \"hfdl\", \"underlying\": \"\", \"description\": \"\", \"scannable\": false}, {\"name\": \"GS-7 - Shannon\", \"frequency\": 11384000, \"modulation\": \"hfdl\", \"underlying\": \"\", \"description\": \"\", \"scannable\": false}, {\"name\": \"GS-8 - Johannesburg\", \"frequency\": 11321000, \"modulation\": \"hfdl\", \"underlying\": \"\", \"description\": \"\", \"scannable\": false}, {\"name\": \"GS-8 - Johannesburg\", \"frequency\": 13321000, \"modulation\": \"hfdl\", \"underlying\": \"\", \"description\": \"\", \"scannable\": false}, {\"name\": \"GS-8 - Johannesburg\", \"frequency\": 17922000, \"modulation\": \"hfdl\", \"underlying\": \"\", \"description\": \"\", \"scannable\": false}, {\"name\": \"GS-9 - Barrow\", \"frequency\": 11354000, \"modulation\": \"hfdl\", \"underlying\": \"\", \"description\": \"\", \"scannable\": false}, {\"name\": \"GS-9 - Barrow\", \"frequency\": 17919000, \"modulation\": \"hfdl\", \"underlying\": \"\", \"description\": \"\", \"scannable\": false}, {\"name\": \"GS-9 - Barrow\", \"frequency\": 17934000, \"modulation\": \"hfdl\", \"underlying\": \"\", \"description\": \"\", \"scannable\": false}, {\"name\": \"GS-10 - Muan\", \"frequency\": 13342000, \"modulation\": \"hfdl\", \"underlying\": \"\", \"description\": \"\", \"scannable\": false}, {\"name\": \"GS-10 - Muan\", \"frequency\": 17958000, \"modulation\": \"hfdl\", \"underlying\": \"\", \"description\": \"\", \"scannable\": false}, {\"name\": \"GS-11 - Albrook\", \"frequency\": 13264000, \"modulation\": \"hfdl\", \"underlying\": \"\", \"description\": \"\", \"scannable\": false}, {\"name\": \"GS-11 - Albrook\", \"frequency\": 17901000, \"modulation\": \"hfdl\", \"underlying\": \"\", \"description\": \"\", \"scannable\": false}, {\"name\": \"GS-13 - Santa Cruz\", \"frequency\": 11318000, \"modulation\": \"hfdl\", \"underlying\": \"\", \"description\": \"\", \"scannable\": false}, {\"name\": \"GS-13 - Santa Cruz\", \"frequency\": 13315000, \"modulation\": \"hfdl\", \"underlying\": \"\", \"description\": \"\", \"scannable\": false}, {\"name\": \"GS-13 - Santa Cruz\", \"frequency\": 17916000, \"modulation\": \"hfdl\", \"underlying\": \"\", \"description\": \"\", \"scannable\": false}, {\"name\": \"GS-14 - Krasnoyarsk\", \"frequency\": 13321000, \"modulation\": \"hfdl\", \"underlying\": \"\", \"description\": \"\", \"scannable\": false}, {\"name\": \"GS-14 - Krasnoyarsk\", \"frequency\": 17912000, \"modulation\": \"hfdl\", \"underlying\": \"\", \"description\": \"\", \"scannable\": false}, {\"name\": \"GS-15 - Al Muharraq\", \"frequency\": 13354000, \"modulation\": \"hfdl\", \"underlying\": \"\", \"description\": \"\", \"scannable\": false}, {\"name\": \"GS-15 - Al Muharraq\", \"frequency\": 17967000, \"modulation\": \"hfdl\", \"underlying\": \"\", \"description\": \"\", \"scannable\": false}, {\"name\": \"GS-16 - Agana\", \"frequency\": 11306000, \"modulation\": \"hfdl\", \"underlying\": \"\", \"description\": \"\", \"scannable\": false}, {\"name\": \"GS-16 - Agana\", \"frequency\": 13312000, \"modulation\": \"hfdl\", \"underlying\": \"\", \"description\": \"\", \"scannable\": false}, {\"name\": \"GS-16 - Agana\", \"frequency\": 17919000, \"modulation\": \"hfdl\", \"underlying\": \"\", \"description\": \"\", \"scannable\": false}, {\"name\": \"GS-17 - Gran Cararias\", \"frequency\": 11348000, \"modulation\": \"hfdl\", \"underlying\": \"\", \"description\": \"\", \"scannable\": false}, {\"name\": \"GS-17 - Gran Cararias\", \"frequency\": 13303000, \"modulation\": \"hfdl\", \"underlying\": \"\", \"description\": \"\", \"scannable\": false}, {\"name\": \"GS-17 - Gran Cararias\", \"frequency\": 17928000, \"modulation\": \"hfdl\", \"underlying\": \"\", \"description\": \"\", \"scannable\": false}, {\"name\": \"JMH4 - Tokyo\", \"frequency\": 13987000, \"modulation\": \"fax\", \"underlying\": \"\", \"description\": \"\", \"scannable\": false}, {\"name\": \"HLL2 - Seoul\", \"frequency\": 13568500, \"modulation\": \"fax\", \"underlying\": \"\", \"description\": \"\", \"scannable\": false}, {\"name\": \"JJC - Kyodo News\", \"frequency\": 12744000, \"modulation\": \"fax\", \"underlying\": \"\", \"description\": \"\", \"scannable\": false}, {\"name\": \"JJC - Kyodo News\", \"frequency\": 16969500, \"modulation\": \"fax\", \"underlying\": \"\", \"description\": \"\", \"scannable\": false}, {\"name\": \"JJC - Kyodo News\", \"frequency\": 17068100, \"modulation\": \"fax\", \"underlying\": \"\", \"description\": \"\", \"scannable\": false}, {\"name\": \"9VF - Kyodo News\", \"frequency\": 16033500, \"modulation\": \"fax\", \"underlying\": \"\", \"description\": \"\", \"scannable\": false}, {\"name\": \"9VF - Kyodo News\", \"frequency\": 17428500, \"modulation\": \"fax\", \"underlying\": \"\", \"description\": \"\", \"scannable\": false}, {\"name\": \"XSQ - Guangzhou\", \"frequency\": 12627750, \"modulation\": \"fax\", \"underlying\": \"\", \"description\": \"\", \"scannable\": false}, {\"name\": \"XSQ - Guangzhou\", \"frequency\": 16824750, \"modulation\": \"fax\", \"underlying\": \"\", \"description\": \"\", \"scannable\": false}, {\"name\": \"CBV - Valparaiso Playa Ancha\", \"frequency\": 17144900, \"modulation\": \"fax\", \"underlying\": \"\", \"description\": \"\", \"scannable\": false}, {\"name\": \"CFH - Halifax\", \"frequency\": 10534500, \"modulation\": \"fax\", \"underlying\": \"\", \"description\": \"\", \"scannable\": false}, {\"name\": \"CFH - Halifax\", \"frequency\": 13508500, \"modulation\": \"fax\", \"underlying\": \"\", \"description\": \"\", \"scannable\": false}, {\"name\": \"NOJ - Kodiak\", \"frequency\": 12411000, \"modulation\": \"fax\", \"underlying\": \"\", \"description\": \"\", \"scannable\": false}, {\"name\": \"NMC - Point Reyes\", \"frequency\": 12784500, \"modulation\": \"fax\", \"underlying\": \"\", \"description\": \"\", \"scannable\": false}, {\"name\": \"NMC - Point Reyes\", \"frequency\": 17149700, \"modulation\": \"fax\", \"underlying\": \"\", \"description\": \"\", \"scannable\": false}, {\"name\": \"NMG - New Orleans\", \"frequency\": 12788400, \"modulation\": \"fax\", \"underlying\": \"\", \"description\": \"\", \"scannable\": false}, {\"name\": \"NMG - New Orleans\", \"frequency\": 17144900, \"modulation\": \"fax\", \"underlying\": \"\", \"description\": \"\", \"scannable\": false}, {\"name\": \"NMF - Boston\", \"frequency\": 12748500, \"modulation\": \"fax\", \"underlying\": \"\", \"description\": \"\", \"scannable\": false}, {\"name\": \"VMC - Charleville\", \"frequency\": 11028500, \"modulation\": \"fax\", \"underlying\": \"\", \"description\": \"\", \"scannable\": false}, {\"name\": \"VMC - Charleville\", \"frequency\": 13918500, \"modulation\": \"fax\", \"underlying\": \"\", \"description\": \"\", \"scannable\": false}, {\"name\": \"VMW - Wiluna\", \"frequency\": 10553500, \"modulation\": \"fax\", \"underlying\": \"\", \"description\": \"\", \"scannable\": false}, {\"name\": \"VMW - Wiluna\", \"frequency\": 15613500, \"modulation\": \"fax\", \"underlying\": \"\", \"description\": \"\", \"scannable\": false}, {\"name\": \"VMW - Wiluna\", \"frequency\": 18058500, \"modulation\": \"fax\", \"underlying\": \"\", \"description\": \"\", \"scannable\": false}, {\"name\": \"ZKLF - Wellington\", \"frequency\": 13549000, \"modulation\": \"fax\", \"underlying\": \"\", \"description\": \"\", \"scannable\": false}, {\"name\": \"ZKLF - Wellington\", \"frequency\": 16338600, \"modulation\": \"fax\", \"underlying\": \"\", \"description\": \"\", \"scannable\": false}, {\"name\": \"KVM70 - Honolulu\", \"frequency\": 11088500, \"modulation\": \"fax\", \"underlying\": \"\", \"description\": \"\", \"scannable\": false}, {\"name\": \"KVM70 - Honolulu\", \"frequency\": 16133500, \"modulation\": \"fax\", \"underlying\": \"\", \"description\": \"\", \"scannable\": false}, {\"name\": \"RBW48 - Murmansk\", \"frequency\": 10128500, \"modulation\": \"fax\", \"underlying\": \"\", \"description\": \"\", \"scannable\": false}, {\"name\": \"DDK6 - Hamburg\", \"frequency\": 13881000, \"modulation\": \"fax\", \"underlying\": \"\", \"description\": \"\", \"scannable\": false}, {\"name\": \"GYA - Nothwood\", \"frequency\": 11085000, \"modulation\": \"fax\", \"underlying\": \"\", \"description\": \"\", \"scannable\": false}, {\"name\": \"Time - PLC\", \"frequency\": 11440000, \"modulation\": \"usb\", \"underlying\": \"\", \"description\": \"\", \"scannable\": true}, {\"name\": \"Time - CHU\", \"frequency\": 14670000, \"modulation\": \"usb\", \"underlying\": \"\", \"description\": \"\", \"scannable\": true}, {\"name\": \"Time - RWM\", \"frequency\": 14996000, \"modulation\": \"usb\", \"underlying\": \"\", \"description\": \"\", \"scannable\": true}, {\"name\": \"Time - WWV, WWVH, BPM\", \"frequency\": 15000000, \"modulation\": \"usb\", \"underlying\": \"\", \"description\": \"\", \"scannable\": true}, {\"name\": \"Time - EBC\", \"frequency\": 15006000, \"modulation\": \"usb\", \"underlying\": \"\", \"description\": \"\", \"scannable\": true}, {\"name\": \"JMH4 - Tokyo\", \"frequency\": 13986600, \"modulation\": \"fax\", \"underlying\": \"\", \"description\": \"\", \"scannable\": false}, {\"name\": \"HLL2 - Seoul\", \"frequency\": 13568100, \"modulation\": \"fax\", \"underlying\": \"\", \"description\": \"\", \"scannable\": false}, {\"name\": \"JJC - Kyodo News\", \"frequency\": 12743600, \"modulation\": \"fax\", \"underlying\": \"\", \"description\": \"\", \"scannable\": false}, {\"name\": \"JJC - Kyodo News\", \"frequency\": 16969100, \"modulation\": \"fax\", \"underlying\": \"\", \"description\": \"\", \"scannable\": false}, {\"name\": \"JJC - Kyodo News\", \"frequency\": 17067699, \"modulation\": \"fax\", \"underlying\": \"\", \"description\": \"\", \"scannable\": false}, {\"name\": \"9VF - Kyodo News\", \"frequency\": 16033100, \"modulation\": \"fax\", \"underlying\": \"\", \"description\": \"\", \"scannable\": false}, {\"name\": \"9VF - Kyodo News\", \"frequency\": 17428100, \"modulation\": \"fax\", \"underlying\": \"\", \"description\": \"\", \"scannable\": false}, {\"name\": \"XSQ - Guangzhou\", \"frequency\": 12627350, \"modulation\": \"fax\", \"underlying\": \"\", \"description\": \"\", \"scannable\": false}, {\"name\": \"XSQ - Guangzhou\", \"frequency\": 16824350, \"modulation\": \"fax\", \"underlying\": \"\", \"description\": \"\", \"scannable\": false}, {\"name\": \"CBV - Valparaiso Playa Ancha\", \"frequency\": 17144500, \"modulation\": \"fax\", \"underlying\": \"\", \"description\": \"\", \"scannable\": false}, {\"name\": \"CFH - Halifax\", \"frequency\": 10534100, \"modulation\": \"fax\", \"underlying\": \"\", \"description\": \"\", \"scannable\": false}, {\"name\": \"CFH - Halifax\", \"frequency\": 13508100, \"modulation\": \"fax\", \"underlying\": \"\", \"description\": \"\", \"scannable\": false}, {\"name\": \"NOJ - Kodiak\", \"frequency\": 12410600, \"modulation\": \"fax\", \"underlying\": \"\", \"description\": \"\", \"scannable\": false}, {\"name\": \"NMC - Point Reyes\", \"frequency\": 12784100, \"modulation\": \"fax\", \"underlying\": \"\", \"description\": \"\", \"scannable\": false}, {\"name\": \"NMC - Point Reyes\", \"frequency\": 17149300, \"modulation\": \"fax\", \"underlying\": \"\", \"description\": \"\", \"scannable\": false}, {\"name\": \"NMG - New Orleans\", \"frequency\": 12788000, \"modulation\": \"fax\", \"underlying\": \"\", \"description\": \"\", \"scannable\": false}, {\"name\": \"NMG - New Orleans\", \"frequency\": 17144500, \"modulation\": \"fax\", \"underlying\": \"\", \"description\": \"\", \"scannable\": false}, {\"name\": \"NMF - Boston\", \"frequency\": 12748100, \"modulation\": \"fax\", \"underlying\": \"\", \"description\": \"\", \"scannable\": false}, {\"name\": \"VMC - Charleville\", \"frequency\": 11028100, \"modulation\": \"fax\", \"underlying\": \"\", \"description\": \"\", \"scannable\": false}, {\"name\": \"VMC - Charleville\", \"frequency\": 13918100, \"modulation\": \"fax\", \"underlying\": \"\", \"description\": \"\", \"scannable\": false}, {\"name\": \"VMW - Wiluna\", \"frequency\": 10553100, \"modulation\": \"fax\", \"underlying\": \"\", \"description\": \"\", \"scannable\": false}, {\"name\": \"VMW - Wiluna\", \"frequency\": 15613100, \"modulation\": \"fax\", \"underlying\": \"\", \"description\": \"\", \"scannable\": false}, {\"name\": \"VMW - Wiluna\", \"frequency\": 18058100, \"modulation\": \"fax\", \"underlying\": \"\", \"description\": \"\", \"scannable\": false}, {\"name\": \"ZKLF - Wellington\", \"frequency\": 13548600, \"modulation\": \"fax\", \"underlying\": \"\", \"description\": \"\", \"scannable\": false}, {\"name\": \"ZKLF - Wellington\", \"frequency\": 16338200, \"modulation\": \"fax\", \"underlying\": \"\", \"description\": \"\", \"scannable\": false}, {\"name\": \"KVM70 - Honolulu\", \"frequency\": 11088100, \"modulation\": \"fax\", \"underlying\": \"\", \"description\": \"\", \"scannable\": false}, {\"name\": \"KVM70 - Honolulu\", \"frequency\": 16133100, \"modulation\": \"fax\", \"underlying\": \"\", \"description\": \"\", \"scannable\": false}, {\"name\": \"RBW48 - Murmansk\", \"frequency\": 10128100, \"modulation\": \"fax\", \"underlying\": \"\", \"description\": \"\", \"scannable\": false}, {\"name\": \"DDK6 - Hamburg\", \"frequency\": 13880600, \"modulation\": \"fax\", \"underlying\": \"\", \"description\": \"\", \"scannable\": false}, {\"name\": \"GYA - Northwood\", \"frequency\": 11084600, \"modulation\": \"fax\", \"underlying\": \"\", \"description\": \"\", \"scannable\": false}, {\"name\": \"DDH9\", \"frequency\": 11038000, \"modulation\": \"rtty450\", \"underlying\": \"\", \"description\": \"\", \"scannable\": false}, {\"name\": \"DDH8\", \"frequency\": 14466300, \"modulation\": \"rtty450\", \"underlying\": \"\", \"description\": \"\", \"scannable\": false}, {\"name\": \"MSI\", \"frequency\": 12578000, \"modulation\": \"sitorb\", \"underlying\": \"\", \"description\": \"\", \"scannable\": false}, {\"name\": \"MSI\", \"frequency\": 16805500, \"modulation\": \"sitorb\", \"underlying\": \"\", \"description\": \"\", \"scannable\": false}, {\"name\": \"DSC\", \"frequency\": 12576000, \"modulation\": \"dsc\", \"underlying\": \"\", \"description\": \"\", \"scannable\": false}, {\"name\": \"DSC\", \"frequency\": 16803500, \"modulation\": \"dsc\", \"underlying\": \"\", \"description\": \"\", \"scannable\": false}, {\"name\": \"HFGCS - USAF\", \"frequency\": 11175000, \"modulation\": \"usb\", \"underlying\": \"\", \"description\": \"\", \"scannable\": true}, {\"name\": \"HFGCS - USAF\", \"frequency\": 15016000, \"modulation\": \"usb\", \"underlying\": \"\", \"description\": \"\", \"scannable\": true}, {\"name\": \"MARS - USAF\", \"frequency\": 13927000, \"modulation\": \"usb\", \"underlying\": \"\", \"description\": \"\", \"scannable\": true}, {\"name\": \"MARS - USN\", \"frequency\": 14441000, \"modulation\": \"usb\", \"underlying\": \"\", \"description\": \"\", \"scannable\": true}, {\"name\": \"CAF - Canada\", \"frequency\": 11232000, \"modulation\": \"usb\", \"underlying\": \"\", \"description\": \"\", \"scannable\": true}, {\"name\": \"GS-1 - San Francisco\", \"frequency\": 11327000, \"modulation\": \"hfdl\", \"underlying\": \"\", \"description\": \"\", \"scannable\": false}, {\"name\": \"GS-1 - San Francisco\", \"frequency\": 13276000, \"modulation\": \"hfdl\", \"underlying\": \"\", \"description\": \"\", \"scannable\": false}, {\"name\": \"GS-1 - San Francisco\", \"frequency\": 17919000, \"modulation\": \"hfdl\", \"underlying\": \"\", \"description\": \"\", \"scannable\": false}, {\"name\": \"GS-2 - Molokai\", \"frequency\": 11312000, \"modulation\": \"hfdl\", \"underlying\": \"\", \"description\": \"\", \"scannable\": false}, {\"name\": \"GS-2 - Molokai\", \"frequency\": 11348000, \"modulation\": \"hfdl\", \"underlying\": \"\", \"description\": \"\", \"scannable\": false}, {\"name\": \"GS-2 - Molokai\", \"frequency\": 13276000, \"modulation\": \"hfdl\", \"underlying\": \"\", \"description\": \"\", \"scannable\": false}, {\"name\": \"GS-2 - Molokai\", \"frequency\": 13312000, \"modulation\": \"hfdl\", \"underlying\": \"\", \"description\": \"\", \"scannable\": false}, {\"name\": \"GS-2 - Molokai\", \"frequency\": 13324000, \"modulation\": \"hfdl\", \"underlying\": \"\", \"description\": \"\", \"scannable\": false}, {\"name\": \"GS-2 - Molokai\", \"frequency\": 17919000, \"modulation\": \"hfdl\", \"underlying\": \"\", \"description\": \"\", \"scannable\": false}, {\"name\": \"GS-3 - Reykjavik\", \"frequency\": 11184000, \"modulation\": \"hfdl\", \"underlying\": \"\", \"description\": \"\", \"scannable\": false}, {\"name\": \"GS-3 - Reykjavik\", \"frequency\": 15025000, \"modulation\": \"hfdl\", \"underlying\": \"\", \"description\": \"\", \"scannable\": false}, {\"name\": \"GS-3 - Reykjavik\", \"frequency\": 17985000, \"modulation\": \"hfdl\", \"underlying\": \"\", \"description\": \"\", \"scannable\": false}, {\"name\": \"GS-4 - Riverhead\", \"frequency\": 11387000, \"modulation\": \"hfdl\", \"underlying\": \"\", \"description\": \"\", \"scannable\": false}, {\"name\": \"GS-4 - Riverhead\", \"frequency\": 13276000, \"modulation\": \"hfdl\", \"underlying\": \"\", \"description\": \"\", \"scannable\": false}, {\"name\": \"GS-4 - Riverhead\", \"frequency\": 17919000, \"modulation\": \"hfdl\", \"underlying\": \"\", \"description\": \"\", \"scannable\": false}, {\"name\": \"GS-5 - Auckland\", \"frequency\": 13351000, \"modulation\": \"hfdl\", \"underlying\": \"\", \"description\": \"\", \"scannable\": false}, {\"name\": \"GS-5 - Auckland\", \"frequency\": 17916000, \"modulation\": \"hfdl\", \"underlying\": \"\", \"description\": \"\", \"scannable\": false}, {\"name\": \"GS-6 - Hat Yai\", \"frequency\": 13270000, \"modulation\": \"hfdl\", \"underlying\": \"\", \"description\": \"\", \"scannable\": false}, {\"name\": \"GS-6 - Hat Yai\", \"frequency\": 17928000, \"modulation\": \"hfdl\", \"underlying\": \"\", \"description\": \"\", \"scannable\": false}, {\"name\": \"GS-7 - Shannon\", \"frequency\": 11384000, \"modulation\": \"hfdl\", \"underlying\": \"\", \"description\": \"\", \"scannable\": false}, {\"name\": \"GS-8 - Johannesburg\", \"frequency\": 11321000, \"modulation\": \"hfdl\", \"underlying\": \"\", \"description\": \"\", \"scannable\": false}, {\"name\": \"GS-8 - Johannesburg\", \"frequency\": 13321000, \"modulation\": \"hfdl\", \"underlying\": \"\", \"description\": \"\", \"scannable\": false}, {\"name\": \"GS-8 - Johannesburg\", \"frequency\": 17922000, \"modulation\": \"hfdl\", \"underlying\": \"\", \"description\": \"\", \"scannable\": false}, {\"name\": \"GS-9 - Barrow\", \"frequency\": 11354000, \"modulation\": \"hfdl\", \"underlying\": \"\", \"description\": \"\", \"scannable\": false}, {\"name\": \"GS-9 - Barrow\", \"frequency\": 17919000, \"modulation\": \"hfdl\", \"underlying\": \"\", \"description\": \"\", \"scannable\": false}, {\"name\": \"GS-9 - Barrow\", \"frequency\": 17934000, \"modulation\": \"hfdl\", \"underlying\": \"\", \"description\": \"\", \"scannable\": false}, {\"name\": \"GS-10 - Muan\", \"frequency\": 13342000, \"modulation\": \"hfdl\", \"underlying\": \"\", \"description\": \"\", \"scannable\": false}, {\"name\": \"GS-10 - Muan\", \"frequency\": 17958000, \"modulation\": \"hfdl\", \"underlying\": \"\", \"description\": \"\", \"scannable\": false}, {\"name\": \"GS-11 - Albrook\", \"frequency\": 13264000, \"modulation\": \"hfdl\", \"underlying\": \"\", \"description\": \"\", \"scannable\": false}, {\"name\": \"GS-11 - Albrook\", \"frequency\": 17901000, \"modulation\": \"hfdl\", \"underlying\": \"\", \"description\": \"\", \"scannable\": false}, {\"name\": \"GS-13 - Santa Cruz\", \"frequency\": 11318000, \"modulation\": \"hfdl\", \"underlying\": \"\", \"description\": \"\", \"scannable\": false}, {\"name\": \"GS-13 - Santa Cruz\", \"frequency\": 13315000, \"modulation\": \"hfdl\", \"underlying\": \"\", \"description\": \"\", \"scannable\": false}, {\"name\": \"GS-13 - Santa Cruz\", \"frequency\": 17916000, \"modulation\": \"hfdl\", \"underlying\": \"\", \"description\": \"\", \"scannable\": false}, {\"name\": \"GS-14 - Krasnoyarsk\", \"frequency\": 13321000, \"modulation\": \"hfdl\", \"underlying\": \"\", \"description\": \"\", \"scannable\": false}, {\"name\": \"GS-14 - Krasnoyarsk\", \"frequency\": 17912000, \"modulation\": \"hfdl\", \"underlying\": \"\", \"description\": \"\", \"scannable\": false}, {\"name\": \"GS-15 - Al Muharraq\", \"frequency\": 13354000, \"modulation\": \"hfdl\", \"underlying\": \"\", \"description\": \"\", \"scannable\": false}, {\"name\": \"GS-15 - Al Muharraq\", \"frequency\": 17967000, \"modulation\": \"hfdl\", \"underlying\": \"\", \"description\": \"\", \"scannable\": false}, {\"name\": \"GS-16 - Agana\", \"frequency\": 11306000, \"modulation\": \"hfdl\", \"underlying\": \"\", \"description\": \"\", \"scannable\": false}, {\"name\": \"GS-16 - Agana\", \"frequency\": 13312000, \"modulation\": \"hfdl\", \"underlying\": \"\", \"description\": \"\", \"scannable\": false}, {\"name\": \"GS-16 - Agana\", \"frequency\": 17919000, \"modulation\": \"hfdl\", \"underlying\": \"\", \"description\": \"\", \"scannable\": false}, {\"name\": \"GS-17 - Gran Canarias\", \"frequency\": 11348000, \"modulation\": \"hfdl\", \"underlying\": \"\", \"description\": \"\", \"scannable\": false}, {\"name\": \"GS-17 - Gran Canarias\", \"frequency\": 13303000, \"modulation\": \"hfdl\", \"underlying\": \"\", \"description\": \"\", \"scannable\": false}, {\"name\": \"GS-17 - Gran Canarias\", \"frequency\": 17928000, \"modulation\": \"hfdl\", \"underlying\": \"\", \"description\": \"\", \"scannable\": false}]}',\n",
       " '{\"type\": \"bands\", \"value\": [{\"name\": \"30m\", \"low_bound\": 10099000, \"high_bound\": 10150000, \"tags\": [\"hamradio\"]}, {\"name\": \"20m\", \"low_bound\": 14000000, \"high_bound\": 14350000, \"tags\": [\"hamradio\"]}, {\"name\": \"17m\", \"low_bound\": 18068000, \"high_bound\": 18168000, \"tags\": [\"hamradio\"]}, {\"name\": \"25m Broadcast\", \"low_bound\": 11600000, \"high_bound\": 12100000, \"tags\": [\"broadcast\"]}, {\"name\": \"22m Broadcast\", \"low_bound\": 13570000, \"high_bound\": 13870000, \"tags\": [\"broadcast\"]}, {\"name\": \"19m Broadcast\", \"low_bound\": 15100000, \"high_bound\": 15830000, \"tags\": [\"broadcast\"]}, {\"name\": \"16m Broadcast\", \"low_bound\": 17480000, \"high_bound\": 17900000, \"tags\": [\"broadcast\"]}, {\"name\": \"15m Broadcast\", \"low_bound\": 18900000, \"high_bound\": 19020000, \"tags\": [\"broadcast\"]}]}',\n",
       " '{\"type\": \"features\", \"value\": {\"core\": true, \"rtl_sdr\": true, \"rtl_sdr_soapy\": false, \"rtl_tcp\": true, \"sdrplay\": true, \"mirics\": false, \"hackrf\": false, \"perseussdr\": false, \"airspy\": false, \"airspyhf\": false, \"afedri\": false, \"lime_sdr\": false, \"fifi_sdr\": false, \"pluto_sdr\": false, \"soapy_remote\": false, \"uhd\": false, \"radioberry\": false, \"fcdpp\": false, \"bladerf\": false, \"sddc\": false, \"sddc_soapy\": false, \"hpsdr\": true, \"runds\": true, \"digital_voice_digiham\": false, \"digital_voice_freedv\": false, \"digital_voice_m17\": true, \"wsjt-x\": true, \"wsjt-x-2-3\": true, \"wsjt-x-2-4\": false, \"msk144\": false, \"packet\": true, \"pocsag\": true, \"js8call\": true, \"drm\": true, \"adsb\": true, \"ism\": true, \"hfdl\": true, \"vdl2\": true, \"acars\": true, \"page\": true, \"selcall\": true, \"eas\": true, \"wxsat\": false, \"png\": true, \"rds\": true, \"dab\": false, \"mqtt\": true, \"hdradio\": true, \"rigcontrol\": true, \"cwskimmer\": true, \"mp3\": true}}',\n",
       " '{\"type\": \"modes\", \"value\": [{\"modulation\": \"nfm\", \"name\": \"FM\", \"type\": \"analog\", \"requirements\": [], \"squelch\": true, \"bandpass\": {\"low_cut\": -4000, \"high_cut\": 4000}}, {\"modulation\": \"wfm\", \"name\": \"WFM\", \"type\": \"analog\", \"requirements\": [], \"squelch\": true, \"bandpass\": {\"low_cut\": -75000, \"high_cut\": 75000}}, {\"modulation\": \"am\", \"name\": \"AM\", \"type\": \"analog\", \"requirements\": [], \"squelch\": true, \"bandpass\": {\"low_cut\": -4000, \"high_cut\": 4000}}, {\"modulation\": \"lsb\", \"name\": \"LSB\", \"type\": \"analog\", \"requirements\": [], \"squelch\": true, \"bandpass\": {\"low_cut\": -2750, \"high_cut\": -150}}, {\"modulation\": \"usb\", \"name\": \"USB\", \"type\": \"analog\", \"requirements\": [], \"squelch\": true, \"bandpass\": {\"low_cut\": 150, \"high_cut\": 2750}}, {\"modulation\": \"cw\", \"name\": \"CW\", \"type\": \"analog\", \"requirements\": [], \"squelch\": true, \"bandpass\": {\"low_cut\": 700, \"high_cut\": 900}}, {\"modulation\": \"sam\", \"name\": \"SAM\", \"type\": \"analog\", \"requirements\": [], \"squelch\": true, \"bandpass\": {\"low_cut\": -4000, \"high_cut\": 4000}}, {\"modulation\": \"usbd\", \"name\": \"DATA\", \"type\": \"analog\", \"requirements\": [], \"squelch\": true, \"bandpass\": {\"low_cut\": 0, \"high_cut\": 24000}}, {\"modulation\": \"m17\", \"name\": \"M17\", \"type\": \"analog\", \"requirements\": [\"digital_voice_m17\"], \"squelch\": false, \"bandpass\": {\"low_cut\": -6250, \"high_cut\": 6250}}, {\"modulation\": \"drm\", \"name\": \"DRM\", \"type\": \"analog\", \"requirements\": [\"drm\"], \"squelch\": false, \"bandpass\": {\"low_cut\": -5000, \"high_cut\": 5000}}, {\"modulation\": \"hdr\", \"name\": \"HDR\", \"type\": \"analog\", \"requirements\": [\"hdradio\"], \"squelch\": false, \"bandpass\": {\"low_cut\": -200000, \"high_cut\": 200000}}, {\"modulation\": \"bpsk31\", \"name\": \"BPSK31\", \"type\": \"digimode\", \"requirements\": [], \"squelch\": true, \"underlying\": [\"usb\"], \"secondaryFft\": true}, {\"modulation\": \"bpsk63\", \"name\": \"BPSK63\", \"type\": \"digimode\", \"requirements\": [], \"squelch\": true, \"underlying\": [\"usb\"], \"secondaryFft\": true}, {\"modulation\": \"rtty170\", \"name\": \"RTTY-170 (45)\", \"type\": \"digimode\", \"requirements\": [], \"squelch\": true, \"underlying\": [\"usb\", \"lsb\"], \"secondaryFft\": true}, {\"modulation\": \"rtty450\", \"name\": \"RTTY-450 (50N)\", \"type\": \"digimode\", \"requirements\": [], \"squelch\": true, \"underlying\": [\"usb\", \"lsb\"], \"secondaryFft\": true}, {\"modulation\": \"rtty85\", \"name\": \"RTTY-85 (50N)\", \"type\": \"digimode\", \"requirements\": [], \"squelch\": true, \"underlying\": [\"usb\", \"lsb\"], \"secondaryFft\": true}, {\"modulation\": \"sitorb\", \"name\": \"SITOR-B\", \"type\": \"digimode\", \"requirements\": [], \"squelch\": true, \"underlying\": [\"usb\"], \"secondaryFft\": true}, {\"modulation\": \"navtex\", \"name\": \"NAVTEX\", \"type\": \"digimode\", \"requirements\": [], \"squelch\": true, \"underlying\": [\"usb\"], \"secondaryFft\": true}, {\"modulation\": \"dsc\", \"name\": \"DSC\", \"type\": \"digimode\", \"requirements\": [], \"squelch\": true, \"underlying\": [\"usb\"], \"secondaryFft\": true}, {\"modulation\": \"ft8\", \"name\": \"FT8\", \"type\": \"digimode\", \"requirements\": [\"wsjt-x\"], \"squelch\": true, \"bandpass\": {\"low_cut\": 0, \"high_cut\": 3000}, \"underlying\": [\"usb\"], \"secondaryFft\": true}, {\"modulation\": \"ft4\", \"name\": \"FT4\", \"type\": \"digimode\", \"requirements\": [\"wsjt-x\"], \"squelch\": true, \"bandpass\": {\"low_cut\": 0, \"high_cut\": 3000}, \"underlying\": [\"usb\"], \"secondaryFft\": true}, {\"modulation\": \"jt65\", \"name\": \"JT65\", \"type\": \"digimode\", \"requirements\": [\"wsjt-x\"], \"squelch\": true, \"bandpass\": {\"low_cut\": 0, \"high_cut\": 3000}, \"underlying\": [\"usb\"], \"secondaryFft\": true}, {\"modulation\": \"jt9\", \"name\": \"JT9\", \"type\": \"digimode\", \"requirements\": [\"wsjt-x\"], \"squelch\": true, \"bandpass\": {\"low_cut\": 0, \"high_cut\": 3000}, \"underlying\": [\"usb\"], \"secondaryFft\": true}, {\"modulation\": \"wspr\", \"name\": \"WSPR\", \"type\": \"digimode\", \"requirements\": [\"wsjt-x\"], \"squelch\": true, \"bandpass\": {\"low_cut\": 1350, \"high_cut\": 1650}, \"underlying\": [\"usb\"], \"secondaryFft\": true}, {\"modulation\": \"fst4\", \"name\": \"FST4\", \"type\": \"digimode\", \"requirements\": [\"wsjt-x-2-3\"], \"squelch\": true, \"bandpass\": {\"low_cut\": 0, \"high_cut\": 3000}, \"underlying\": [\"usb\"], \"secondaryFft\": true}, {\"modulation\": \"fst4w\", \"name\": \"FST4W\", \"type\": \"digimode\", \"requirements\": [\"wsjt-x-2-3\"], \"squelch\": true, \"bandpass\": {\"low_cut\": 1350, \"high_cut\": 1650}, \"underlying\": [\"usb\"], \"secondaryFft\": true}, {\"modulation\": \"js8\", \"name\": \"JS8Call\", \"type\": \"digimode\", \"requirements\": [\"js8call\"], \"squelch\": true, \"bandpass\": {\"low_cut\": 0, \"high_cut\": 3000}, \"underlying\": [\"usb\"], \"secondaryFft\": true}, {\"modulation\": \"packet\", \"name\": \"Packet\", \"type\": \"digimode\", \"requirements\": [\"packet\"], \"squelch\": false, \"bandpass\": {\"low_cut\": -6250, \"high_cut\": 6250}, \"underlying\": [\"empty\"], \"secondaryFft\": true}, {\"modulation\": \"ais\", \"name\": \"AIS\", \"type\": \"digimode\", \"requirements\": [\"packet\"], \"squelch\": false, \"bandpass\": {\"low_cut\": -6250, \"high_cut\": 6250}, \"underlying\": [\"empty\"], \"secondaryFft\": true}, {\"modulation\": \"page\", \"name\": \"Page\", \"type\": \"digimode\", \"requirements\": [\"page\"], \"squelch\": false, \"bandpass\": {\"low_cut\": -6000, \"high_cut\": 6000}, \"underlying\": [\"empty\"], \"secondaryFft\": true}, {\"modulation\": \"cwdecoder\", \"name\": \"CW Decoder\", \"type\": \"digimode\", \"requirements\": [], \"squelch\": true, \"underlying\": [\"usb\", \"lsb\"], \"secondaryFft\": true}, {\"modulation\": \"cwskimmer\", \"name\": \"CW Skimmer\", \"type\": \"digimode\", \"requirements\": [\"cwskimmer\"], \"squelch\": false, \"bandpass\": {\"low_cut\": 0, \"high_cut\": 24000}, \"underlying\": [\"empty\"], \"secondaryFft\": true}, {\"modulation\": \"sstv\", \"name\": \"SSTV\", \"type\": \"digimode\", \"requirements\": [], \"squelch\": true, \"underlying\": [\"usb\", \"lsb\", \"nfm\"], \"secondaryFft\": true}, {\"modulation\": \"fax\", \"name\": \"Fax\", \"type\": \"digimode\", \"requirements\": [], \"squelch\": true, \"underlying\": [\"usb\"], \"secondaryFft\": true}, {\"modulation\": \"selcall\", \"name\": \"SelCall\", \"type\": \"digimode\", \"requirements\": [\"selcall\"], \"squelch\": true, \"underlying\": [\"nfm\"], \"secondaryFft\": true}, {\"modulation\": \"zvei\", \"name\": \"Zvei\", \"type\": \"digimode\", \"requirements\": [\"selcall\"], \"squelch\": true, \"underlying\": [\"nfm\"], \"secondaryFft\": true}, {\"modulation\": \"eas\", \"name\": \"EAS\", \"type\": \"digimode\", \"requirements\": [\"eas\"], \"squelch\": true, \"underlying\": [\"nfm\"], \"secondaryFft\": true}, {\"modulation\": \"ism\", \"name\": \"ISM\", \"type\": \"digimode\", \"requirements\": [\"ism\"], \"squelch\": false, \"bandpass\": {\"low_cut\": -125000, \"high_cut\": 125000}, \"underlying\": [\"empty\"], \"secondaryFft\": true}, {\"modulation\": \"hfdl\", \"name\": \"HFDL\", \"type\": \"digimode\", \"requirements\": [\"hfdl\"], \"squelch\": false, \"bandpass\": {\"low_cut\": 0, \"high_cut\": 3000}, \"underlying\": [\"empty\"], \"secondaryFft\": true}, {\"modulation\": \"vdl2\", \"name\": \"VDL2\", \"type\": \"digimode\", \"requirements\": [\"vdl2\"], \"squelch\": false, \"bandpass\": {\"low_cut\": -12500, \"high_cut\": 12500}, \"underlying\": [\"empty\"], \"secondaryFft\": true}, {\"modulation\": \"acars\", \"name\": \"ACARS\", \"type\": \"digimode\", \"requirements\": [\"acars\"], \"squelch\": false, \"bandpass\": {\"low_cut\": -6250, \"high_cut\": 6250}, \"underlying\": [\"am\"], \"secondaryFft\": true}, {\"modulation\": \"adsb\", \"name\": \"ADSB\", \"type\": \"digimode\", \"requirements\": [\"adsb\"], \"squelch\": false, \"ifRate\": 2400000, \"underlying\": [\"empty\"], \"secondaryFft\": false}]}',\n",
       " '{\"type\": \"profiles\", \"value\": [{\"id\": \"rtl_sdr_a|20m_a\", \"name\": \"RX1 17m-30m\"}, {\"id\": \"rtl_sdr_b|40m_a\", \"name\": \"RX2 40m\"}, {\"id\": \"rtl_sdr_c|35m_b\", \"name\": \"RX3 31m\"}, {\"id\": \"rtl_sdr_c|4acac88f-409c-4956-8d35-9ae8ba95f4a5\", \"name\": \"RX3 40m reserve\"}, {\"id\": \"rtl_sdr_3|80m_a\", \"name\": \"RX4 60m-80m-160m\"}, {\"id\": \"rtl_sdr_d|OIRT_low\", \"name\": \"RX5 OIRT_low H\"}, {\"id\": \"rtl_sdr_e|OIRT_low\", \"name\": \"RX6 OIRT_high H\"}, {\"id\": \"rtl_sdr_e|7cd50155-dcf1-4804-919d-14053d2ac837\", \"name\": \"RX6 OIRT H\"}, {\"id\": \"rtl_sdr_e|beec6b02-182b-4dbb-aea3-f514bbf561e7\", \"name\": \"RX6 OIRT_hihigh H\"}, {\"id\": \"rtl_sdr_e|40f11fe0-36e9-4762-90f5-c2450c0ee33f\", \"name\": \"RX6 83 MHz\"}, {\"id\": \"rtl_sdr_e|ffca398b-3a3a-4062-83df-40869ac96d28\", \"name\": \"RX6 60 MHz\"}, {\"id\": \"3750819e-6a45-4246-a5b6-3e51218f3dc2|b62466d3-7e3e-42f2-8fad-8f4ccb775409\", \"name\": \"RX7 AirBand 118-120.4 MHz\"}, {\"id\": \"3750819e-6a45-4246-a5b6-3e51218f3dc2|c8d908bb-4939-475a-86a1-714fdd965e84\", \"name\": \"RX7 AirBand 120.4-122.8 MHz\"}, {\"id\": \"3750819e-6a45-4246-a5b6-3e51218f3dc2|fcbbf183-e13a-4a3b-a6e9-6112bfd2dd3e\", \"name\": \"RX7 AirBand 122.8-125.2 MHz\"}, {\"id\": \"3750819e-6a45-4246-a5b6-3e51218f3dc2|cb689b5c-f94b-487b-a053-7fcf9f23d8d5\", \"name\": \"RX7 AirBand 125.1-127.5 MHz\"}, {\"id\": \"3750819e-6a45-4246-a5b6-3e51218f3dc2|cab73ed2-2ebb-4901-a8e7-5b3e837c4b4d\", \"name\": \"RX7 Radiolatarnie AIR 115.6-118 MHz\"}, {\"id\": \"3750819e-6a45-4246-a5b6-3e51218f3dc2|4b823189-c265-4df2-9ab8-373c949498a5\", \"name\": \"RX7 Radiolatarnie AIR 113.2-115.6 MHz\"}, {\"id\": \"4556dd6b-7dbd-41dc-a4fe-454b3ede2bee|20ddbff8-11d5-437b-abf1-c34063418b14\", \"name\": \"RX8 AirBand 132.1 - 134.5 MHz\"}, {\"id\": \"4556dd6b-7dbd-41dc-a4fe-454b3ede2bee|b521c9bc-e45e-4e79-ba61-71ccc12930f7\", \"name\": \"RX8 AirBand 129.8-132.2 MHz\"}, {\"id\": \"4556dd6b-7dbd-41dc-a4fe-454b3ede2bee|065e6eac-e030-414d-ab5a-e944f1113ede\", \"name\": \"RX8 AirBand 127.4-129.8 MHz\"}, {\"id\": \"4556dd6b-7dbd-41dc-a4fe-454b3ede2bee|9543e03e-88c7-4a1c-95eb-be9ac5f1791d\", \"name\": \"RX8 AirBand 134.5-136.9 MHz\"}]}',\n",
       " '{\"type\": \"temperature\", \"value\": 27}',\n",
       " '{\"type\": \"cpuusage\", \"value\": 0.5292420973634778}',\n",
       " b'\\x01\\xff\\xff\\xff\\xff\\x0e\\x08\\x08\\x08\\x08\\x08\\x08\\x08\\x88\\x00\\x88\\x00\\x88\\x00\\x00\\tE\\xac\\x00\\x88\\x00\\x88\\x88\\x10\\x18\\x88*\\t\\x1a|G\\x80\\xb9\\x8c\\x08\\x85\\t\\x8a\\x19\\x00\\x00+\\x91\\xa0\\xa9\\x15\\xe3\\t +\\x10\\x12\\x1f\\x8a\\x01\\x88+\\xd3H\\x109\\xc9yw\\x86\\xb0\\x8c\\x08\\x08\\x80\\x90\\x80\\x81\\x08\\x89\\x13\\x8a\\xd2\\x12p7\\x08\\xea\\n\\x88\\x00\\x08\\x88\\x00\\x80\\x90\\t\\xb8\\x94\\x94\\x08\\x81*8\\xf4\\x82\\xb0\\t\\xa7\\x1a\\x80@\\xb1\\x01\\xc8*\\x88\\x17\\x0bK\\x11\\xb8\\x1a{\\x9a\\xa2\\xb28\\xf1P\\x99!\\x8d\\x90\\x04\\x80\\n\\xa5\\x1b*[\\n\\x82\\xd3\\x00\\x98\\xa2{L(\\x0e\\x81\\x01\\n\\x89p\\x17\\x80\\xd8\\n\\x80\\x88\\x00\\x82\\x1a\\x90;\\x10\\x08\\xa7\\x88u\\x97\\n\\x18\\x98\\x002\\xfb\\x88H\\x98\\x03\\x8c\\x14\\xa9\\xaa\\x04\\x9b\\x8a\\x00 \\xba(\\xf2 \\x1a\\x98(\\xc3\\x04\\xc2(\\xc9\\xb4\\xa2Z\\x89Y\\x1a\\x8aS\\xb9\\x89\\x80x\\xb2I\\x1a\\x00\\x8a\\n\\xbd\\x17\\x19\\x91H\"\\x8d\\x8c\\x00\\x898\\xb0\\xb7\\x08\\x99\\x86\\xb2\\xd3\\x10\\xb1`\\x0b\\x89\\x94\\xb9\\x06\\x80\\x01\\x1c\\x880\\xb9\\xa6\\x90\\xd3\\x08\\xa2\\x07\\xa8\\x10\\xb1\\xd8X(\\x89\\xb0\\x04\\x91:\\xe3[\\xb1\\x01\\xc0\\x80\\x14yg\\x8e\\x08\\x00\\x08\\x80\\x88\\x00\\x88\\x10\\xb1\\x18\\x80(\\x04>\\xb0\\t\\x92\\x02\\x1a\\x9a\\xa2y\\x81\\x1b\\r\\xc1\\x14\\x82*1\\x9b\\x80\\xe3;\\xc5\\x19\\xe2\\x12)J\\x00\\xf9\\x93\\x82\\x13%\\xb0b\\x108\\xdb\\x04,\\x93\\xb4\\x98\\xe3\\xac\\x01\\n\\x83\\x90\\xa2\\x8aq\\n\\x00\\xd8\\xa2B\\xabAI\\x99\\xb1\\x12\\xc24\\xd7\\x90\\x89\\x01\\x84\\x1a\\x98\"\\xb0\\x18y7\\x9f\\x01)\\x99\\x00\\x08\\x98\\x03\\x00(\\xc9\\xa2(J\\x99r\\xf3\\x90\\x11\\x80\\x88\\xa3\\xb1\\xc2A\\x00\\x90\\x99\\x07,\\x12\\xa1\\x18\\x9d0\\x12\\x9e \\x91\\x12\\xf0r\\x01\\xc0\\x89)\\x10\\xd0\\x98!)\\x8c\\x07\\x98\\x92y\\x81\\xf3\\x18\\x99\\x19\\x03\\n\\xb3 \\xa9\\x120\\xf2J\\x90KP\\xea!\\x00\\x9a!\\t@-\\x93(\\x0f\\x92\\x1a\\x00/\\x91\\x02\\xc0\\xb11\\x80\\x82R\\x1f;\\x81W\\x0e\\x80\\x08\\x90\\x98\\x18\\xa1\\x020\\x1a\\n\\x99\\x14\\xc1\\x99 \\x82\\'\\xab\\x13\\x07\\x1d\\xa1\\x93\\x99\\xc8\\x87\\x18\\x00\\xa8\\x818\\xe9\\x02;\\xc1\\x05\\x1e\"\\xe8\\x00\\x819X\\xa2\\x08\\xd9\\x89 +\\x94)\\x1d\\x08\\x18\\xa5\\x91\\x91\\xa9P(\\xd90\\x1b.\\x01\\x85\\x9a\\x10z\\xa9x\\t\\x80\\xa9\\xa5\\xa1\\x08 \\n\\x97\\x08\\t\\x84\\xa8P\\nL\\x1b\\x13\\xaa\\x91\\x0e(0\\x0b\\x00x\\xc3\\x03+\\x0b\\x19\\xd4-1\\xb8\\x83h\\x1cw\\xbb\\x00\\x81\\x08\\x98\\x11\\x98\\n3\\x91\\x80\\x1f\\n1\\x90\\x9b\\x83\\x05\\x8an\\xb1\\x19\\x18\\xaar\\x91\\x00\\xb0)\\xe3\\xa2\\x19\"\\xb5\\x90\\x17\\xb1\\t\\x9c\\xb1\\x92\\x90K\\x1c\\xb2\\x15\\x14\\xca\\x9a\\x13\\x92)\\x00Ep\\x17\\x8f\\x88\\x08\\x80\\x00\\x90\\x01\\x1a\\xa0\\x00!7\\x19\\xd8\\x81\\x8a\\xa0\\x19J\\x9c\"\\x18B7\\xaf\\x890\\x08:\\xba\\x15\\x9b\\x836\\xb9\\x19;\\xb5\\xb8Z\\t\\xa9B\\x99\\x94\\t\\x1a#\\x14\\xbf\\x82\\xd8\\x95\\xa8D\\x8b\\xa0\\x81\\xb50+\\xae\\x14\\x90\\xb3\\x00;\\xb9\\x08{\\x10\\xf3\\x89w\\x8b\\x08\\x80\\x08\\x80W\\x88 \\xad\\x88\\x08\\x80\\x98\\x00\\x18\\x91\\x88\\x92,\\xa1\\xa9\\x92\\'\\x9d\"\\x80\\xd9\\x02\\x19\\x90\\xc19i\\x08\\x992\\x90\\x8f\\x80;@ \\xaa\\xc4\\x939\\r8;>\\x8a\\x94\\tj\\x99\\xc0!)\\\\\\x91\\x9a!76\\xed\\x18\\x08\\x80\\x88\\x91\\x80\\x18\\x08\\x08\\x18\\xb3z\\x98\\xba\\x84\\xa2\\x92=9S\\xeb\\x11\\xa8\\xd3\\x18Z8\\xe0\\x80\\t)\\x01\\xc9p\\xa0)\\x99\\x12\\x02\\x1c\\x00\\xa3\\xd0\\x0bG\\x98\\x99\\xa9\\x94*\\xb2+=#\\x8f\\x92*\\x01\\x08\\xd9\\x90\\x85y\\x00\\x98\\x1d\\x83\\r\\x08\\x928\\xb8\\x8a$\\xa0\\xba\\x13q\\xe0K\\x01\\x11\\x17^\\xc0\\t\\x80\\x00\\x18\\x99(\\x90*\\x89\\x10\\x92\\x89\\x93\\x08%\\xf0\\x88 \\xf8%\\x8d\\x00\\xa2\\x99I\\x07\\x8c\\x08\\x10\\xb0\\x02\\x88)\\xe8\\x10\\x82\\x91+\\\\\\x88\\xe3\\x81\\x88\\x80!\\x88A\\xa9\\x1f\\x92-\\x10x\\xc6\\x88\\x08\\x80 \\xb8\\x88\\x02\\x01\\x14\\xfa\\x19\\x80\\x08(\\x9b2\\x99\\xda\\x83\\x94[\\xa1\\x1a\\xd88 \\xb1\\xb3:i\\xa1l\\xc1\\x18\\x10\\xb2\\x1b\\xdb\\x06\\xbaX\\x01\\x89\\xc0\\x85;\\x08\\xd0\\x19\\x03\\xeb\\x84<\\x800\\xaa\\x94;[\\xb8\\x91, \\xa2\\x07\\x0b\\x01;\\xd8\\x92Y\\x89\\xd2+\\x95\\x008\\x8f\\x83\\xa5\\x19*7\\x8f\\x08\\x90\\x18\\x00\\t\\x88x\\x87\\x8b\\t\\x18\\t\\x91)\\xa8J\\x80\\t\\x84:\\xb0\\x95\\x10\\x8eIp\\x97\\x8b\\n\\x01\\t\\x00\\x08\\x88\\\\\\x92\\x80\\x08\\n\\x0c\\x82\\x10\\xe1\\x14\\x8d\\x82\\x88\\x1a\\xb8\"\\'\\x9br\\xd7\\x90!\\x94\\x9b\\x88\\x08\\x80\\x88\\x10\\x19\\xa8\\'\\xab\\x08\\x08!\\x99\\xac\\x12\\x13\\x00\\xa2\\xfb\\x88K\\xb3\\xf9B\\x98\\x81\\t\\xd1\\xc1\\xa5\\x91\\x00\\x00\\x18\\x92)2\\xcaI\\xf3\\xaa\\xa5\\xb30\\xa0p\\xfa\\x10\\x00\\x89@@\\xcb\\x01\\x98\\xa0\\x80\\x13\\xb0\\xf8\\x13\\x1a\\x17\\xa8\\x08\\x12\\x9f\\x12\\x08\\x11d\\xcb\\x10\\xc8 \\x08\\x8c\\x82\\x12w\\x8c\\x88\\x88\\x80\\x10\\x90\\xa0!\\x88\\x01\\xf1(\\xc0\\x82\\x12\\x1a\\r\\x10\\x88 \\x89\\x89\\xe4\\xa3\\x93\\x08=\\x87:\\x9b\\x90\\x02\\xcc\\x15)\\xf0\\x80\\x98\\x01\\x92!\\x18[\\xd0\\xb38\\xa9\\xc2\\x01\\xb0\\x1d\\x85\\x89#\\x9c\\xb7\\xa94\\xa8y\\xc0\\x08\\x90\\x88\\x07)\\x9a+\\xa2\\x91\\xc22,\\xa8\\xa0M\\xb4\\x01\\x999\\x93\\x99q8\\xb1\\xa9:\\x0f;-CI\\x08\\xaa,\\xea2\\x91\\n,\\x1a\\x13\\x08\\xd28\\xd8\\x94\\x9bC@w\\xf1\\x08\\x88\\x08\\x88\\x82\\x89\\x92\\x929\\xa1\\x1f\\x81\\x00\\xc8\\x118\\x1b(\\xd9\\x00R\\x9b\\xa0\"\\x90\\x0f7\\xac\\x91\\x90( \\x08]\\x80+\\xf1\\x10\\x1b\\x11\\x81\\xa3\\xbd\\x03\\xa3\\xa1=\\x19\\x021\\x9f(\\xb6p\\xa7\\x0b\\x00\\t\\x98\\x81\\x01\\x08\\xb0\\x90A\\x8c\"\\x9c\\x03\\t\\xf09\\x08\\x830r\\xc7\\t\\x98(\\x98x\\xc2\\xa09\\xa1\\x08\\x98\"\\xe8\\x1a\\xa3\\x04\\x83\\xc2\\x9a\\x89P\\x0c\\x00\\x11\\xfa1\\xaa\"-9;\\x00w\\xc7\\x88\\x80\\x08\\x98\\x01\\x19\\x08\\xb8\\x91)\\x02\\xd1\\xc2\\x04\\x13\\xaa\\x92Xyw\\xe7\\x80\\x80\\x08\\x08\\x80\\x08\\x80\\x80\\x80\\x80\\x90a\\x96\\x8c\\x00\\t\\x80\\x80\\x00\\x88\\x81\\xa2\\x88(\\x98\\x18(\\x1f\\x18I\\xb0\\x88q7\\x8f\\x80\\x00\\x08\\x00u\\x04\\x88\\x11P\\xb2\\x9d\\x880\\xd8\\x8e\\x80\\x80\\x90\\x80\\x80\\x80\\x88\\x80\\x80\\x18\\x80\\x90\\'\\x1f\\x88\\x18r\\xc0\\x89\\x812\\x85\\x9f\\x00\\x88\\x80\\x08\\x80\\x80\\x80\\x12\\x8b\\x81\\xa9\\x11\\x91(\\xb1u\\xc7\\t\\x88\\x00\\x18\\xc3\\x88\\x00\\x18)\\x89\\x81\\x88;\\xc3\\xc3\\x88\\t\\xb8w\\xc30\\x05\\xe9\\x11*9w\\xc2\\x9b\\x01\\x83\\n\\x88\\x1a\\x8a\\xb1\\t\\x99\\x81\\x08\\x81\\x90\\x10\\xc3\\t)^\\x80\\xc4u\\x17\\x18:P\\x92\\x8e\\x99\\x10\\xc8\\x8a\\x08\\x90H\\x83\\x9c\\x18p\\x13\\xa8\\xad\\x98\\x80\\x80\\x90\\x81\\x08\\x81\\xa8\\x80\\xc1\\x82\\x11\\x97\\x8b\\x81\\x01&\\xd1\\x90p7\\xca\\x89\\x80\\x08\\x88*)\\x08V\\x12\\x0e\\x82p\\x85\\x9b\\x99\\x89A\\xb9\\x98\\x88\\x91\\x91\\x18\\x98\\x18\\x19\\x98\\xa2\\x18).\\x00\\x18\\xc0\\x92\\xa0 \\x10\\x1f\\x9a\\x85\\x92\\xc1\\x81\\x19x\\xd6\\x08 \\xaa\\x02(\\xab\\x04\\xa8\\xb1\\x16Kp\\xc8\\x80\\x80s\\x17\\x88\\x80s\\xd2\\x19\\x9a\\x81\\xc9\\x08#\\xab\\xa0\\x88\\x91\\x88\\t\\x00\\x88\\x18\\x02\\x08(\\xe1\\x88\\x99(.Js\\xf1\\x80\\x11\\x03!\\x92\\x1f\\x19\\xc0{7\\x8f\\x18\\x90\\x08\\x10\\x99\\x00\\x99\\x18\\x08\\x08\\x080\\xa8\\tK\\x80\\x1a\\x01\\x90\\xa3\\x05\\xa8\\xa5q\\'\\x8e\\x00\\x08\\x08\\x00\\x08\\x92\\x92\\x11q\\x1aH1xG\\x01\\x881s\\xe1\\xb8\\x02\\x19\\xda\\x8a\\x80\\x98\\x80\\x88\\x90\\x80\\x08\\t\\x08p\\x97|\\xb2\\x8b\\x00\\x88\\'\\xca\\x08\\x88\\x00\\x08\\x08\\x88\\x80c\\xba\\x88\\x80A\\xb9\\x81\\x08\\x19\\x88\\x88 L\\x9as\\'\\x8f(\\x98\\t\\x80 \\x90\\x1b\\x19\\x98\\x11\\x1a\\x92\\xa8\\x83\\x90w\\xbb\\x82\\t)\\xa0\\x8a\\xa6+\\x90 \\x19\\xa1p\\x8b\\x89\\x89&\\x98\\x98\\x18\\xa9\\x15\\x99N\\xa2\\xb3\\xb8\\x10\\x0b\\\\\\x19\\xa3\\x1a\\t\\xe25\\xab\"?\\xd8\\x10\\x00\\x81\\x18\\xb4\\xe0\\x93\\n\\x08\\xd2@\\x18\\x18\\x8bJ\\xf5\\x80\\x81\\x11\\xb9(\\xe3\\xa3\\x08\\x18\\x07jw\\xa0\\x8c\\x80\\x08\\x81\\x98\\x90\\x00\\x80\\x93\\xa1\\x88\\x88\\xb2v\\xb7\\nq\\x12\\x80\\xf9\\n\\x80\\x08\\x08\\x08\\x90\\x80\\x10\\x88\\x91\\x18\\x10\\xba\\x11\\xa2\\xc68\\x99\\x92\\\\(9\\xea\\x90\\x01\\x899\\xc2\\x039\\xc6*\\x9a\\x85\\n\\xa0\\xb4\\x82)/\\x85*\\x80\\t\\x18\\x98rW\\x142\\x0c\\x90\\x16\\x9a\\x91(+\\xa42\\xad\\x98\\xa4C\\xda\\x85\\x1b\\xda\\xbb\\x88\\x08\\x90\\x19\\x888\\x98\\x8b\\x91G\\x1b\\x90\\x08\\n\\x10\\xc0\\xa2\\r\\xb3!-\\xb2R+\\x1b8\\x0c*\\x9f\\x85\\t\\x91\\x11\\x10\\x1a*-\\x99\\x1f\\x92\\x83\\x88{\\xd1\\x88\\x83*\\xc0\\x82\\xbaz\\x93\\nD\\x10\\xf1\\xa9\"\\x03\\x8e\\x81\\x98\\xa0w\\x9a\\x88\\x08)\\xb0\\xa1 \\xa2\\x18@x\\x9b\\x99(\\xb6\\t\\t\\x82\\x85\\xa8\\x13\\xb0\\x02\\xb4\\xb4\\xd3\\xbcSz\\xd7\\x08\\x00\\x80\\x88\\x88\\x08\\xb1\\x02\\x88\\x10\\xd9\\x04\\x81\\x89\\x01\\xa1\\x98\\t\\x97\\x8a\\xb4\\x180\\x1b\\xa8\\x82\\xca?2\\n\\x86\\xa2\\xb9\\x90*\\n\\xf3L\\x97\\x08\\x89\\x898\\x83=<\\x98(|\\xc7\\x88\\x81\\x80\\x90\\x10\\t\\x90\\x19)I\\x98X\\xc44\\xb8\\xac\\x00w\\x06\\xb9\\x9a\\x08\\x08\\x08\\x19\\x00\\x88\\t\\x10\\x91hw\\x88\\xaa\\t\\x88\\x91\\x18\\x08(\\x8a!\\x9a\\t\\x08A\\xb8O\\x00\\x89\\x89x\\t\\x10\\xa0(\\x9b\\x81\\x00w\\xd7\\x80\\t\\x00\\x08\\x98\\x11\\x99(\\t\\x98\\x12\\xa4\\tP\\xabY\\xa0\\x19)\\x81\\xf1(\\xa6\\x90\\n2\\x18\\x8f\\x92L\\xb1\\xa9A\\x11\\x9b\\x96\\x81\\x8c\\x11\\xb9\\x80\\x16\\x19\\x81\\xc9X\\x88\\x89\\xa0A\\x10/\\x18w\\x14\\x9f\\x08\\x80\\x80\\x08\\x08\\x80\\x80\\x19\\x98(\\x92K\\x8a\\x14\\x8a\\xa0\\x02\\x11\\xb0\\x1d\\xf8))!\\x0bs\\xd5\\t\\x80\\x10\\x88\\x80\\xc9(\\x90\\xd1s\\x8a\\x88\\tR-\\x06\\xc8\\x80\\x040\\xeb\\x00\\x18\\xa5\\x91\\x8a\\x80\\xb0\\x18\\xa1\\t\\x03\\x82\\xf4\\x1aY\\x96\\xc8\\x08\\x90\\x911\\x08\\xf2(\\xa2\\xa0\\x90Z\\x99\\x81\\x1e\\x81\\x01I\\xd9\\x83\\n\"\\x9a\\xc5\\n\\x02\\x81\\xda\\xa6 \\x9a@\\xba\\x06I\\x99\\x01\\x8d\\x08\\x00\\x92=1\\xda\\x02\\x03\\x9f\\x91\\xa3\\x18H\\xb1\\n\\xa9\\xb7I\\x19\\xb1\\xb8\\x87\\xa2\\x8a\\x12\\xa01.\\x98\\x08!/(\\xda\\x86\\x15\\x9b\\x90\\xb9A\\x89\\x99\\xc4I\\x82\\x1a\\t\\xa4)\\xf0\\x11\\n\\x83\\x1a\\xa2\\xc3\\x1b\\x97\\xaai\\xb18x\\x17\\x0e\\x80\\x88\\x08\\x00\\x08\\xa8\\x00*\\x1a\\xc2\\x00\\x163(\\xbdx\\x80\\xa8\\x9c\\x01\\xa8\\x81)w\\xa0\\x8a\\x98\\x18\\x99\\x11\\x99\\x84\\x08)X\\x190ww\\x03\\x88\\xfb\\t\\x88\\x08\\x80\\x88\\x00\\x88\\x80\\x08\\x80\\x10u\\xd8\\x80\\x80\\x88\\x80\\x00\\x98\\x01\\x19\\x80\\xb0!\\x00\\x80\\x0c\\xa2{\\xb92:\\xdbx\\x80\\x90\\x99\\x91\\x10i\\x99\\x80\\x12\\xach\\xb2\\x18\\x8d!\\x91\\xa9%\\xc2\\xe1\\x81\\x93\\x9a\\x00\\x11x\\xf3\\x8a\\x01!0\\xeaP\\'\\x0f\\t\\x08\\x08\\x88\\x01\\x90\\x08\\x19\\x90\\xa1\\x918\\t\\xc0\\x01k\\x92I\\x98\\x90\\x82\\x8eP\\xa0\\t\\x10\\xa6\\x87\\r\\x08\\x00\\x98\\x18\\x89\\x93\\x98\\x05\\x08Z\\t\\x01\\xa1\\x1f\\x10\\x1e\\x02\\x9b\\x03\\x9bF\\xc9\\x19\\x80r\\xf3\\t\\x088w\\x91\\xb9\\n\\x08\\x08\\x88\\x80H\\xa0*\\x9a)\\x10\\n\\t\\xa4\\x89\\x85\\x08\\x89K\\xc1A\\x9aN\\x80\\xb1\"\\xbb\\xa3\\x19x*\\x92\\x1b\\xaa R\\x80[\\x9f\\x08\\xa8\\x16#\\xdb\\x01\\x991\\xc8a\\x1b\\x14\\x8c\\x8a\\xa1H\\x88\\xe8\\x129\\xa9\\xa2-\\xb3\\x19<\\x96\\x1b\\x14\\x8f \\x8a@\\xb0\\x80\\x94\\x02\\xbd2\\x19\\xb9\\xb5\\x98z\\x12\\x99\\xa18\\xa0\\xd9\\xb1y\\x19\\x10\\xba\\xb59\\r\\x029\\xa2Q\\x90\\x8a\\x9c\\x13\\xc9\\x85\\xb2\\x1e\\x18:\\x82\\xf1\\x08\\x90\\x05\\t\\x00\\x1d\\x0b4\\xf1\\x01A\\xa8s\\x95\\x89\\x9bv\\x97\\x8c\\x80\\x80\\x08\\x88\\x00\\x08\\x00\\x80\\t\\x89\\xb2\\x03\\xa0\\x98\\x819\\x1a*\\xe2\\x18\\xa2\\xa3\\x01_;\\xa0\\t}\\xa8\\x01\\x19Pp\\x17\\x08\\xbd\\x80\\x18\\x08\\x80\\x08\\x08\\x90\\x82\\x99rG\\x80\\xfa\\x08\\x88\\x00\\x88\\x80\\x18\\x88\\x10\\x90\\xa0)\\t\\xb2\\xb2\\x848\\xa3\\x1f\\x03\\x19\\x0e\\x88\\x06\\x92\\x1c\\x01\\x8f\\x00\\x81\\x99\\x02\\x89Q\\x88\\'\\x8f\\x00\\x08\\xa8\\x10\\x90\\x00(\\xd1H\\x80\\x91\\x91\\xea\\x90x\\x89)\\x18(\\xeb\\x01\\x11\\x98B\\xc9Y\\xd30\\xa1\\xa8\\x9b!\\xb0A\\x8d\\x90l\\xb1\\x00Y\\x98\\xa4+\\xb1\\x11\\xe2*\\x10\\xe0\\x03\\x89\\xaa5>\\n\\xa1\\xb1\\x17\\n\\x99\\xb3\\x18\\x19$\\x0e\\x98\"BA\\xa9.\\x8b\\xaaZ8\\x99\\xd3\\x88\\x02{\\x88\\t\\x98\\x18Z\\xb3\\x1c\\x84\\x90I\\x08\\x99\\x8b\\xa2\\xe3-\\x05\\xd0\\x92\\x89\\x13\\xc0#\\x8b\\x0f!\\x80L2%\\x8f\\x8a\\x90\\x18\\x82\\x91\\x1a\\x92\\xaa\\x97\\xa8\\x98\\x00<\\x14\\t\\x10\\x93\\xfb9\\x19R\\xaa\\x1b\\x15r\\xea\\x11\\n\\x89 \\x90\\x87\\x1d\\x81\\x9a\\x10\\xb1t\\x80\\x99\\t\\x19\\x90\\x08\\xe19 \\x1a\\xcb\\x82H\\x03/\\x91\\xa6(\"\\x88\\xbb\\x99\\xa6\\x0cG\\xa0\\x8c\\x89\\x00\\x02yw\\x8d\\x80\\x80\\x08\\x18\\x90\\x88\\x10\\x01\\xb8\\x82\\t\\x88\\x18\\xb0#\\xb9\\xa8\\xf9a\\x88\\xa9\\x02\\x10\\xa9(D\\x8c\\xa1\\x82\\xda\\x11\\x88Htg\\x00\\x12\\x01\\x00\\xa9\\xdc<\\x14\\x00\\x10\\xb8\\xff\\x08\\x80\\x80\\x80\\x88\\x18\\x88\\xa1\\x00\\x08(\\x10\\xa8\\x19\\xba\\x11(\\xf1\\x147\\x8f\\x80\\x19\\x00\\x89\\x11\\x80\\xc0\\x81t\\xd7\\x88\\x00\\x08\\x88\\x80\\x81\\x00\\x98\\x88\\x04$9\\xdc\\x89\\x90s\\x97\\x8b\\x88\\x80\\x00\\x88\\x00\\x08\\x90\\x01\\x91\\x0b\\x81 \\x88\\n\\xb4\\x1f\\x15\\xc8\\x10\\t(\\xab\\x83M\\x85[\\xe1\\x00\\x88\\x00&\\x10\\x8a\\x88\\x82\\xcc\\x89+\\x01\\xb8\\xb0\\x10\\x8b\\x07U\\x0c\\x98\\x10\\x02\\xb2t\\x84\"\\\\\\xa0)\\xd0\\x84\\x0c\"\\xa18\\x89\\xfa\\xa8\\n\\x98\\xb8\\x92\\n\\x18z\\xc5\\x82\\x89\\x10\\xc9\\x18\\x02\\x08q1\\x01\\x90\\x1a\\x90\\xca(6\\x04\\xea\\x00\\x089\\x85\\x08\\xda\\x10\\x12\\tC\\xa8\\xafB\\x88\\x0b\\x83\\xe9\\x18\\x15\\x98\\x89\\xb8\\xfb\\x8c\\x90\\x80\\x19\\x9a\\x82\\xa2\\x900\\x95rwA\\xf9\\t\\x08\\x88\\x80\\x80\\x18\\x18\\x89\\x00\\x90\\x18\\x98\\x11\\xc3\\t\\x90\\x08\\x88+\\x84\\x87<\\t\\x8afS)\\xb9\\x81+\\x993\\xa8`y\\xe7)\\xb0\\x88\\x80\\x08\\x08\\x80\\t\\x01\\x88\\x93\\t\\x90A\\x9c \\xba\\x13\\x07\\x9b\\x18w\\x86\\x88\\x18\\x14\\xb3\\xb9\\x1f\\x18\\x99\\x9a\\x88\\x00xg\\xbb\\x80\\x08\\x00\\x80\\x88\\t\\x88\\x18\\x88\\x00\\n\\x00\\x90:\\x19\\xb2i\\x98z7O\\x02\\xb8\\x01\\x18G\\xca\\x08\\x90\\x81\\xa8\\x8c\\x88\\x00F\\xc9\\x98\\x00\\x88\\x80\\x80\\x08\\x80\\x80\\x88\\x83\\n\\xa0\\xa4\\xa2\\t\\x11t\\xd7\\x08\\x08\\x80\\x88\\x90\\x80\\x11\\x89(\\xa8\\x0cB\\x92\\x98\\x88\\x8bI \\xbare\\xf3\\t\\x88(\\x08\\x8a\\x00\\x89\\x10\\xc1\\x80K\\xb1\\x86I\\xb8\\xa8\\x02\\xc1\\x04\\xaa\\xd3H\\x84\\x9b\\x12\\xb5L\\t\\x83\\x0eAw\\xe6\\x08\\x08\\x08\\x88\\x00\\x80\\x80\\x08\\x88\\x88\\x00\\x00*\\x18\\t\\x91<\\xa1\\x80\\xf1\\x12g\\xc9\\x88\\x00\\x08\\x08\\t\\x00\\x90\\x01\\x1a\\x08\\xb2(\\x8az\\xe1\\x02\\x91\\x88;:s\\xc7\\x19\\x18\\n\\x920\\x9c\\xa0(\\x00\\xaa\\xb1u\\x99\\x8bq\\x99\\x81\\xa18\\xa3\\xabp\\xc2\\x89\\x18\\x93\\x93\\x9e2\\np\\xb3\\x80\\xa6\\x99\\xb9\\x82pwp\\xa1\\x8b\\x10\\x00\\x00\\x08\\x00\\x88\\x08\\xc8\\xef\\x08\\x80\\x80\\x08\\x88\\x80\\x10\\xa1\\x00\\xb2\\xa1\\x18\\x1a\\x98w\\x9a\\x88\\x00\\x98\\x18)\\x8a\\x82\\x9b\\x96 \\x90+\\x18\\x1eq\\x80\\x19\\xc1\\x1d\\x91t\\xf3\\x08\\x88\\x91\\x88\\x10\\xa0\\x18\\x08\\x10\\x8b\\x00X\\xa8@T\\x02\\xdc\\x88\\x91\\t\\n(\\x81!\\xa9\\x16f\\xac\\x00\\xa0\\x11\\x89 \\x86\\x92(\\x91\\xd8\\xa19\\xf3a\\x99\\x88\\x00\\xaa \\x8f\\xb0\\x13\\x01\\xb8\\x880w\\x9c\\x18\\x00\\x19\\xb1\\x1a\\x02\\x8a\\x19\\x90\\x80h\\xba\\x941\\t\\x9bx\\x97\\xb1\\x18\\x1e\\x80\\x10\\t\\x9aX\\x97\\n\\t\\xa8!\\xa1\\x82\\xc2\\x08\\xb4\\x89H\\xa1 J\\x1b\\x0fSG\\x0f\\x98\\x80\\x01\\t\\x90\\x81\\x10q\\xb7\\x8ar\\xd0\\x08\\x80\\x90\\x00\\x80\\x81\\x89\\x18\\x08\\x88\\x10\\x98\\x83\\x1e\\x10)*\\xda@\\x90\\x88\\xe2J\\x00\\x91\\x00\\xb8\\x05\\xa8\\x8b\\x88\\x16\\xb1)v\\x97r\\x07\\n\\xf8\\x08\\x80\\x01\\n\\x08\\x88\\x80\\x00\\x08\\x88\\x08G0\\xfa\\x89\\x00\\x80\\x80\\x08\\x19\\x08\\t\\x80\\x08\\x81)\\x99P\\x98\\x9b\\x03\\xb1\\x92\"\\x8b1\\x1b\\xd0\\xf1\\x97\\x02\\x1ai\\xb9\\x08B\\xa3\\xc1\\xbb\\x08\\xab4\\x90\\x04/\\x81\\xa09\\xc2\\n;\\x14\\xf9\\x08\\x12\\txw\\x8c\\x88\\x80\\x80\\x00\\x90\\x18\\x88\\t\\x01:++\\x85K\\xd6(\\n\\x80\\x1a\\x11\\x88\\x1e)\\xb1\\x84y\\xd5\\x80\\x88\\x80\\x82)\\x99)\\x13\\xcc\"\\x9cI\\x80*\\x88\\x07\\xaa\\x91x\\xc4\\x90\\x80\\xa1\\x81\\x01\\xa8w\\xc7\\x88\\x80\\x08\\x08\\x88\\x00\\x80\\x80*\\x08\\x18\\x81\\xd1\\x10\\x0bw\\xf2\\x08\\x08\\x81\\x8a\\x81\\x11\\x99(\\x88\\x82\\x8a\\x88\\x13\\xfa\\x11!\\xbb\\x08\\x90|0\\x8d\\x18\\xa9\\x05\\x81\\x8d!*\\xa2\\x06\\x9a\\x0b\\x89\\x17\\x89q\\'\\x8f\\x18\\t\\x08\\x88\\x81\\x98\\x91\\x10\\x88\\x10\\x00\\r\\x10\\x90\\x12\\x9f \\x98\\x84\\x99\\x03\\t\\x99\\x14\\xa0\"\\xaa\\x07\\x1f\\x80\\xb0(Y\\x1b\\x92\\xb8\\xb4\\x90\\xb6\\xa4\\xc49\\xa1\\x91\\x89L\\x812\\x8c\\r\\xa4\\t\\x91w\\xc7\\x88\\x08\\x08\\x08\\x08\\x90 \\xa0\\x10\\n\\x94\\x0b\\x91\\xa3b\\x19\\x01Y21\\x88y\\xe8\\x99\\x99\\x93\\xdb\\x18\\t\\x99\\x80\\x05\\xa0]\\xa0\\x95\\x0b\\x808\\x89\\xb1\\x14\\xaa\\xc6Z\\x98\\x01\\x1c\\x04q\\'\\x81\\xaf\\x80\\x12\\xaa\\x88\\x00\\xa2\\x08\\t\\x10\\x10\\xaa\\x01 \\xd0\\x08;(\\xf8\\x00\\x84\\t\\xa4\\xf1(\\x80\\x93\\x0c\\x81\\x19\\x11\\xac&\\xa8\\xab\\x85\\x82\\xb1L\\x10\\xb2\\n\\xa1I\\xbbX\\xc4\\x02\\xb8\\xd1\\x13\\x90\\t\\xa7\\x19\\x98\\x83p\\xa7\\x8a)\\t\\x8b\\x84J\\xa8A\\x07\\xac\\x01\\t\\x00\\x19\\x1cQ\\x08\\n\\x8b\\x94\\x80\\xd9z\\x08\\n\\x03J\\xb8 \\x8a\\x86\\x9c\\x10\\x90\\x92]\\x99\\xa4\\x90\\x192\\xf0\\n\\x11\\xba\\x05!\\xc8\\x0cA\\x89\\x81\\x08\\xd8u\\xc0\\x81\\x88*\\x00\\x19\\xc0\\x93\\x01<\\x80\\x92\\xec\\x10\\x08 \\x990()O\\x8cbB\\xca\\x8a\\x88\\x13\\x1b\\xa1\\x81\\x8b2\\xb6\\xd9+\\x97;\\x80\\x19\\x89\\xc4(JY\\xa0\\x00\\x19\\xc9\\xa2\"\\xe9\\x87\\x1a\\x00\\'\\x0e\\x88\\x08\\x00\\x08\\x01\\xa9\\x91S\\x08\\x88\\x8a\\x14B\\x13q6D\\xa3\\xbc\\x9a\\xab\\x89\\x99\\x88,\\x18\\x89*\\tk\\x9b\\x19\\x02\\xb9\\x19\\xe3?\\t\\x11p\\xe8\\x81\\x18\\x82\\xa1\\n\\xa1\\x9d\\x06\\xc9\\x03\\x9a\\x13z\\x90\\x8a\\x19\\x84\\x0c\\x01\\x88\\x02\\x0f\\x81\\xb2\\x83\\x99C\\xa9\\xa3\\x1d9\\x89\\x1c;\\x82\\xd2^\\xd2\\xa0!\\x80\\x00\\x89H\\x98HI\\xd8\\x0c\\x82$\\x1d\\x00\\t)\\xf9(\\x80\\x1a\\x12\\x8eB\\x08\\x9bk\\x88\\x838w\\xbb\\x08\\x08\\x80\\t(\\x18;#\\xf0\\x10z\\xaa\\x01\\x1a\\x00\\x8d\\x82\\n\\x971\\xe9\\x88\\x82\\x08*\\x90\\x87\\x8a\\x00\\xc1\\x82K;\\x05\\x1d\\x10\\xc9#\\x9a\\x00\\x02w\\xf8\\x00\\x88\\x00\\x88\\x90\\x82\\x1b8+\\ny\\x97\\x9a\\x18\\x90\\xa1\\x10\\x00\\x01\\xf4\\xa1\\x80\\x81\\x88\\x82\\x03\\xbbl\\xb1<\\x92\\x080\\xcd\\x02\\x11\\xb0\\x00x\\xd89@\\xba19\\x8a-\\x98\\x93\\x89\\xb8G\\x99\\x9d\\x92\\x11\\xc2)\\xf0\\x80a\\xa8\\x19\\xb4\\x800w\\xd8\\x18\\x00\\x88\\xa0\\x00\\xa8)8*\\xb4\\t\\x1bA\\x1f\\x80\\x89\\x11\\x12\\r\\x89\\t$\\x0f\\xa4\\x88#\\x80=\\xab\\xc02r\\xd0\\xa0 \\xb1\\t\\xa2\\x99p\\xa0\\x98\\x93\\xa1\\x95\\x90\\x18\\t\\xa1y\\x90\\x8a\\x84{\\x17\\x9d\\x81\\x18\\x89\\x81\\x1a\\x80@\\x1e\\x00\\t[\\xa8\\xa1\\x92B\\x1e\\xa8\\x02\\x01\\x0b\\xe9\\x05\\x00\\xc1I\\x81\\x1a\\xd1\\x02\\x80w\\x8c\\x08\\x80\\x08\\x81\\x98\\x88\\x19\\n\\x02\\x14\\x8a\\xe0\\x10\\x92\\x89\\'\\x19\\xaa\\x90;\\xf8u\\xd0\\x08\\x80\\x80\\x08\\x98\\xb2(A\\x9a\\x88\\x10\\x8d\\x05\\xa8I\\t\\x80B*\\x9e@\\xa0\\xa0\\xa1(\\xc3\\x10\\x1c\\x88\\x08\\xb9s\\xe3\\x18\\x83\\xc9\\x00\"\\xd1\\x9a#\\x99\\x1d\\x81\\x96<\\xb3}\\x07\\r\\x88\\x80\\x81(\\x87\\x0c\\x88\\x80\\x80\\x90\\x00\\t\\x88\\x92\\x10\\t\\x08,\\x80J`\\xc9\"\\x88-I\\x88;\\xc00\\xc2\\x888\\x03>\\xa8\\t\\x1ex\\xa2)\\x88\\x10\\\\\\x82<\\x88\\xc0\\x8d!\\xa9\\x10\\x0bI\\x00`\\x99+\\xb5y\\xc6\\x88\\x18\\x01\\x9a\\x10\\x08 \\xb0\\xa0\\x08\\xc5\\xa8\\x1a2\\xc3\\xbb\\x85\\xb4\\x18;[\\x99\\xc5+i\\xa0Q\\xaa\\x01\\xa9\\x88q\\x80\\xa9\\x1a\\x95\\x818\\x1d\\x81\\x8b8\\x08\\x1a,\\x8f\"+.\\x07\\x1a\\xb5\\n\\x08D\\x9d\\x00\\x19\\xa8\\x01\\x93\\xa1\\x18:\\x1f\\xc1\\xa2\\x902\\xa91Q\\xbc\\x96\\x89\\x82\\xc1\\x1c \\xa4\\x8c5\\xb0\\x98aB\\xa4y\\x07\\t\\xa0\\x80\\x99\\x06\\xa0\\x13\\xf8\\x8c\\x08\\x08\\x98\\x10\\x98\\x80(\\xa9\\x12\\t\\x08p\\x87\\x8d\\x81\\x18\\xa0\\x90\\xa2\\x01\\x81\\xa3\\r\\x94\\x89(\\x1a1\\xb9\\x1f\\x91\\x83\\xc0O\\x91(\\x89\\xc0\\x92@\\xd1\\x98\"-\\x19\\xa0\\xa3\\xc0\\x94\\xa0\\x029H\\xb2\\xbb%\\xbdR\\xb9\\xb8b\\x14G\\x8e\\x88\\x80\\x80F\\xba\\x88\\x90\\x08\\x10\\x98\"\\x8a\\x00\\x1a\\x9d\\x82\\x98\\x92l\\t\"\\x99\\x81\\xa0\\x92q\\x86\\xa0\\xbb\\x81\\x10\\xc0\\x12j\\xbcZ\\x82\\x1c\\x91HL\\x8b\\x02\\x8b\\x13\\x9e\\x13\\x1c(\\xb4\\x80+\\x90\\xb3\\x8f4\\xc2\\xa1@\\xb1\\xc9\"\\xb6\\x8b\\x19\"\\n\\xe4*\\x10:\\x89\\x02\\t\\x1f\\xa1\\x04+I\\xba&\\x9aL\\x10\\x9bZ\\x88\\x83\\x90\\x01?\\x1b\\x90\\x0c\\x85\\x90\\x11\\x02\\xfbH\\t\\x008\\x89\\xf8\\t\\xa4B\\x1d(\\xf2\\x199\\x90s\\xf2\\x08\\x08\\x98\\x10\\x08\\x90X\\x00\\xf31v\\xb1\\xa9u\\x82\\x9d\\t\\x02\\x89\\x99\\x08\\x80\\x08\\x88\\x18\\x88\\x10\\xa8\\x00\\x91)\\x19\\xa1<*\\x929\\xa9\\xd1\\xc3\\x838,\\xeb\\x93y\\x00\\x1c!\\x9a\\x19\\x19\\x83u7\\x9f\\x18\\x88\\x88\\x11\\x89\\x08\\x08\\x08\\x90\\xb4\\xb0\\x92\\x1a{\\xb3\\x93\\x9ax\\xa8\\xb4\\x01\\n\\x12\\x1c9?\\x97\\n\\x98 \\x18\\xbaS\\xa1\\x88\\xf3\\xb2\\xa1!\\xa8\\x87\\x98\\x03\\xa0i\\x8a\\xc7\\x93(\\x19\\xa22\\x1cwC\\xc2\\x99u\\x03\\xad\\t\\x11\\x99\\xb9\\x08\\x08\\x08\\x08\\x08\\x81\\x81t\\x07\\x82\\xa94\\x17\\xda\\t \\xa8\\xb8\\x8b\\x88\\x80\\x08\\x88\\x88\\x18\\x89\\x90\\x90\\x00\\x88y\\xc0\\x88\\xa3\\x90\\x8b\\x03\\xc3\\xa2\\xb8\\x02\\xb2\\xa9\\xa7\\x98w\\xb8\\x98A\\xa8\\x90\\x90\\x18\\x1a8\\xd1\\xf2\\x82\\x18\\xb0\\xe3\\x01\\t\\xb8A\\x9b\\x05\\x1c\\x83\\x98@;+\\xba {\\xc1\\x12\\xfa\\x84\\x1a\\xb4(\\t,\\xd11\\x9a)\\x0b\\x84!?\\x98[\\x89B\\x1b\\xe2\\x82{\\x07\\x8d\\x00\\x88\\x88\\x018\\xa7\\x0b\\x08\\x80\\t\\x80\\x18\\x80\\x88)\\x92\\xf2\\t\"\\xe8\\x11*\\x93\\xa9t\\x89\\x9av\\xf2\\x08\\x08\\x80\\x88\\x91\\x88\\x08\\x81\\x10\\x18\\x0b2\\xad\\x01\\x1d\\xa2J\\x19\\x11\\xbaB\\x90\\x92*w\\xf2\\x88\\x80\\x91\\x1a\\x81\\x81\\x89\\xa2\\x02\\x01I\\x9d\\x18\\x93 \\xa5\\x8e\\x1aW\\x8c\\x90\\x00\\x98\\x82\\x18\\x83\\x10N\\xc1*:\\x9a\\x01!\\x9f\\x92\\x18\\x92\\x89\\xc2\\x061\\x9a\\xac\\x02>\\xc9\\x02(\\x90\\x08\\x00\\xd6\\x10\\x87\\x99\\xa1(\\xa9\\x83\\x8bHYl\\xc1\\x08\\x80\\x1a\\x10\\xdb\\x03\\x12\\xa8\\r\\x84\\x90\\x93\\x81\\xd9\\x84\\x9arG\\x8f\\x00\\x88\\x90\\x81\\x90\\x91\\x10\\x08#1\\xe9\\x8b\\x00*9\\xb0\\x0b\\xaa\\xa4#\\xd9%\\x8c\\xd3 \\xb9\\x97\\n\\x83\\x91Y\\x8a\\x98\\x1b2\\x99\\x87\\x9e0+\\x83+\\x0b1\\x03\\x1f\\x1d\\x93\\xa0\\x90\\x95\\x93\\x8dJ\\xa3J\\x82\\x8b\\x94\\xa6\\x02\\x8b\\xc9\\xa68\\xba\\x10 ?\\xd3\\x10\\xa8\\t\\x11\\xa1\\xcb\\x06\\t\\xc1\\x829w\\xb9(\\x89\\xa1\\x91\\x81\\x98\\x91\\x1a\\xa3\\x8fy\\x88\\x00\\xa9\\x11\\x94\\x8d \\xa1\\x02{\\xa7\\x1c\\x90\\x019\\x1c\\x08\\x12\\r\\xb1\\x82\\t\\xc2 )J\\x82\\x99\\xf9X\\xb0(*\\xa2\\x19-\\xc3\\xc6\\x19\\x10\\xa09s\\'\\x8f\\x08\\x80\\x00\\x89\\x00\\x92\\x99\"\\xb0\\xb9$\\x08\\xc9\\x19\\xc10k\\n\\xa8\\x96*z!\\x89-p\\xe2\\x88\\x88\\x91)\\x81\\x98\\x08:\\x81\\xf0\\x01\\x08!\\x9b\\xa94\\x0ch\\xa0)>\\x88!,\\x1c\\xb1w\\xf1\\x80\\x08\\x00\\t\\x08\\x01\\x88\\x98\\x98\\x83\\x13\\nJ\\'\\xc0\\x99A\\xcb\\xa1(\\x02\\x9c\\x10\\xc22\\x9cw\\x9b\\x91\\x80\\x88\\x00\\x80\\t\\x81\\x13<\\xc0\\x02\\x0f(\\x80\\x98(\\xa7\\n\\x12\\xae\\x13\\x0b\\x13\\xd1\\x1bp\\x17\\x0e\\x88\\x80\\x00\\x88\\x88\\x01\\x08\\x08\\xa8\\x02\\x89h\\x18Y\\x90\\x90\\x1a.*\\x118\\xc1\\x1e\\x81J\\x88\\xb3\\x8c\\xe3)\\x00\\t\\x00#t\\x0b\\x88\\xe0\\x10\\x88\\x1a\\x00\\x00\\x8a\\x17\\xbc$\\tw\\xc9\\x08\\x18\\xa1y\\xc1\\x88\\x00\\x98\\x00\\x00\\t\\x10I\\xa1\\x1a\\x90\\xc9{\\x00q\\'\\xf0\\t\\x08\\x08\\x88\\x00\\x98\\x10\\x88\\x00 \\x9a\\xa0\\x04\\n\\x05(\\xd1\\x9a\\x04[\\n\\x80\\x82\\x1b\\x90\\x80\\xe8\\x83{)\\xa8\\xb4\\xb2\\n)\\x93|w\\xc9\\x80\\x80\\x00\\x88\\x00\\x08\\x00\\x99\\x02\\x18\\x81\\x99\\x0e+ 0\\x93\\xb85\\x9f\\xd1\\x00\\xa0\\x84\\xda\\x01\\xb8#\\x11\\x00=\\x80\\xb1?\\x98 \\xa3*\\xf1\\xa8\\x86\\x898\\xd2\\x88!\\xc92\\x1d\\xb8\\x13\\t;w\\'\\x8f\\x80\\x08\\x80\\x88\\x80\\x00\\x88\\x19\\x919\\x81\\xc9A\\xaax\\x89\\x00\\x88\\x00\\xc1+\\xc6\\x10\\x00\\xb0l\\xa0\\x18\\x10\\xb9\\x85\\x19\\xa0\\xaa\\x83\\xa42\\xa6\\x8c,\\x94\\x88\\x02\\xa0\\x0b`\\xc2\\xa0!\\x91:\\xb6G0\\xfa\\n\\x80\\x80\\x18\\x1b\\x02\\x08\\x1a\\xc2\\x83\\x8c{\\xa0\\x92\\x8a\\x12\\xf4\\x19)\\xb8P\\x02\\xa0\\xd1J*\\t\\x90)\\x90\\xb6\\xb2\\xc4\\x188\\x93\\x98^\\n\\x99\\x038\\xf2\\xb28\\x00A=+\\xcb5\\xbbzx\\x87\\x8c\\x88\\x81\\x80\\t\\x81\\x19\\x18\\x89\\xa0\\x11Y\\n\\x92\\xc0\"*\\x9b0\\xb1\\xcc\\x1bD\\x839\\xed\\x10\\x92$\\x99\\x8b\\xac\\x13\\x01s\\xf8(\\xb2\\xb0X\\x98\\x81[\\x82D8\\xe8\\xb8(\\x8c\\x82\\x19\\t<w\\xf3\\t\\x08\\x08\\x90\\x01\\x08\\t\\x00\\x08\\x1a\\xaa\\x13\\x80p\\x00\\x1c\\x8b`\\x89\\x90\\x89!\\xba\\xa2\\x07:,\\t\\x88\\xa4)/\\x90\\x00[\\x18< \\xfb\\x92\\x81\\x90\\n\\x10h\\x8d\\x83@\\x9a4(J\\xaf`7\\x8f\\x88\\x80\\x00\\x88\\x00\\x08\\x08\\x98\\x01\\xa8\\x11*\\xb1\\x91\\x13\\x91X\\n\\xd2<\\x02\\r\\x80B\\x1c\\xa2\\xb4\\xcc\\x10\\xa3r\\x98\\x89\\x92*\\x04\\x81\\xf8k\\x88\\x08\\x91\\t\\x89\\x83\\xf11\\x8a\\x83\\x08\\t\\xf8\\x18r\\xb7\\x99\\x01\\n \\xb1\\xc8!\\x91\\x12\\xca\\xdbR\\t\\x88\\x90y\\x90\\x18\\x88\\xb4\\x19\\x1c2\\xf3\\xb0\\x1a%\\x8a\\x92\\xc9\\x18\\x12(\\xc4\\x93\\r\\x98!\\xf2\\x10\\x88\\x81Y\\xfa \\x91:*\\x91\\xad\\x04@\\xa0\\x88w\\xab\\x81\\x10\\x99 \\xc8) \\x90\\xeb\\x85\\x88\\x81\\x19 \\xbb\\x84\\xa8\\x82\\x88\\x81\\x9fC\\xa9D\\xb4\\x85\\xb0\\x0b\\x81+\\x9f\"\\x19\\x9e\\x85\\xa1\\x81\\xa2\\xa0\\n%\\x08\\x90\\xbc\\x96(\\xa8\\x93)\\x93\\x9f\\x96\\x19q\\x97\\x0c\\x08\\x08\\xa1\\x98 \\x99\\x01\\x81\\xb0Y!\\xca;\\x81z\\xb1\\x98\\x93+M\\x82\\x93\\x9db\\x8bs\\xe0\\x18\\t\\x80\\t\\x02\\x989\\xa0)\\xdaP\\x99\\x12\\x1c\\x99\\x11\\xa1\\x97\\xa1\\x12;\\xb0\\x8f\\x01M\\x00u\\xaa\\x08\\x89\\x82\\x08\\xa2\\x08\\xa1\\xabr\\x90\\x8b\\x94\\x088\\x85\\x8b\\x07\\x00\\xda\\x18\\xd1\\x01\\x90\\xb3;\\xd4g\\x8c\\x08\\x80\\x80\\x00\\t\\x19\\x00\\x08\\x89\\x08\\x92\\x8b`\\n\"\\xb1\\xc99)\\xaf\\x02p\\x19\\n\\x19t\\'\\x8f\\x08\\x18\\x89\\x00\\x88\\x18 \\x0b\\x82\\xbc\\x15\\x99\\x01\\x81\\xba\\x13\\x19\\x1b\\x8d\\x8bs\\x00\\t\\x95\\x0b\\xa0p\\xaaC\\xe0\\x00\\x88\\x91[\\x18\\x88\\x18(\\xf8\\xa1#\\x1a9\\xc9\\x1b\\x91\\xba\\x87\\x19\\x1f\\x80\\x02\\x82w\\xc7\\x88\\x08\\x88\\x00\\x08\\x90\\x00\\x12\\x89\\xa8\\x81\\xc2:\\xd2:\\xa1\\n\\x80q\\xb8\\x1a\\x84)\\xb0\\x0by\\x82\\x8e3\\x9a\\x1ds\\xb8\\x91\\x08 \\xd1\\x88)\\x00\\x19\\x00.t\"\\x9b\\xd1\\xb9\\x88\\x01 \\x99\\x1ayw\\xab\\x00\\x90\\x98\\x10\\x00\\xa8\\x11\\xb0\\x88\\x89q\\xb9\\x04\\x0c8\\x0c\\x83\\x00\\xcb\\x15\\x98Z\\x89\\x82\\xa9r\\xb1\\xb4\\xb8:\\x83:\\xa2\\x8d\\x92\\xf4\\x88\\x02@\\x0b\\xb3\\xb1\\x98U\\x9b\\x01\\x08\\x01\\x8b\\x8f\\x14\\x18\\x01u\\x978\\xaa\\xca\\x80\\x1a\\x01\\x98)\\x89\\x86\\x98\\x18\\xc2\\x08\\xd1\\xa3\\x08\\xb2\"\\xab\\xa7j\\xa19\\x90\\xa8F\\xc8\\x00\\xa8\\x19\\x91*\\xa9A\\x8a\\x0c\\xa58\\xb0C>)Y\\xa9\\x98*$\\x1c9\\xc3rA\\x96\\x1a\\xbc\\x88\\x89!?\\xb8\\x03,\\xa1 \\xaa\\x03\\xa8\\x97\\x88\\x11\\xd9#\\xf8\\x03\\x01\\xb9\\x98\\x83\\x8a\\xf0\\x039M\\xa0\\t\\x9c\\x14\\xa1Q\\xbb(\\x14\\r\\x85\\x0b\\x08\\x80\\xa1s\\x1b\\x83\\x8d\\x81\\x80\\xe1\\xb2\\x12\\xabt\\'\\x0f\\x88\\x90\\x81\\x08\\x08\\x18\\t\\x89\\x18\\x19\\x05\\xa8\\x8b\\x86\\x00\\xa8)\\x13\\xb0yw\\x06\\xb8\\r\\x88\\x00\\x90\\x80\\x10\\t\\t\\t\\x01\\x08\\xa0)\\x16\\xdb\\x82\\x80\\x02\\x00\\xa9\\x98\\x10\\xbd\\xa5\\x81\\x90\\x15\\x8d\"\\xcaw\\xf2\\x08\\x08\\x08\\x18\\x88\\x80\\x18\\x08\\xa0(\\x89\\xa1Z\\x8b#\\x1al\\x98\\x90!\\xf8\\x00\\x08\\xa2@\\xb0\\xc28\\x82\\xa0P\\xb8\\x90\\xc9\\x17\\x90\\n\\xb4:\\xf3\\x82\\x8d#\\x1b\\x99\\xb2\\\\\\x11\\xb8\\x802\\x1f\\x02\\xdaG\\x8d\\x80\\x00)\\x98\\x10\\x9a\\x03\\xa89\\xa7\\x18I)+\\xd8g\\'\\x9d\\x88\\x08\\x88\\x80\\x80\\x00\\x08\\x88\\x808t\\x92\\xb9\\x8c\\x00\\x18\\x88\\x08\\t\\xa8\\x18\\x94\\xa9\\xb2\\x1c\\x19D\\x19\\x88\\xb8\\x97\\x0b\\x9ab\\xaa%\\xd8)0\\xaa \\x0f\\x92\\x82\\x99\\x83C\\xdb\\x80\\x10\\xdbs\\x89\\x80\\x98\\xa9\\x83z\\x11\\xb2\\x92\\x1d\\xa2p\\xa3\\x0c\\x91+*\\x9a\\xa7\\x00\\x9by\\t\\x80\\x88 \\xb93w\\x0c\\x98\\x91\\x10\\xb0\\x1b\\x11!\\n\\x96w\\xab\\x00\\x98\\x08\\x11\\n\\xa01\\xea\\xa4\\xa1\\x08P\\xa8\\x80I\\x88:\\x1d\\x82\\xd2\\x02\\x80\\x1f\\x80\\x82\\n\\x87\\x90\\x10\\xc0J\\xb1\\x19\\x98\\x80\\xe2\\x98a\\x89\\x02-x\\xa7\\x0b\\x80\\x00\\x08\\x88\\x19)\\x1a\\x11\\x99t\\x07\\x0e\\x88\\x80\\x08\\x08\\x18\\x88\\xa0 \\n)\\x81\\x9a\\x00\\x88\\x06Q\\x99\\xa4\\xd1 \\x89\\xb2\\x9f\\xb3\\x82u\\xf3\\x88\\x08\\x18\\xa1\\x00\\x1a \\x90x\\x97\\x8a\\x90\\x08\\t\\xa0\\x82\\x02\\xaa\\x00r\\xba\\x02\\x88\\x98\\xa8\\x17w\\xaa\\x08\\t\\x80(\\x08\\x81\\x99\\xc0\\x839\\x8e\\x80\\xa0\\x12\\x94\\xa9\\x87\\n\\x8a\\x11\\x83\\xa0\\x1a6\\x8d\\x89D\\xbd\\x00\\xb4\\x12\\xd3\\x82\\x0c\\x81\\xa9!\\xc2\\x9a&\\xab\\x084\\x9br\\xa8)\\xd9\\x91B\\xab9)zG\\x8e\\x08\\x80\\x00\\x80\\x98)\\x81!\\x9aC\\xba\\x88\\xa9X\\x91\\xf0\\x12\\n\\n\\x81q\\x95\\x9aZr\\x17\\x8d\\x89\\x00\\x88\\x08\\x18\\x98\\x00\\x88\\xa0\\x11\\xa1\\x89\\x93\\xda$\\xa9\\x19s\\xb8\\x81j\\x90\\x99\\n\\x922w\\xb7\\x99\\x81\\x19\\x90\\x88\\x10Z\\x89\\x98\\n\\x05\\x91\\x0c\\x8a3s\\xaa\\xb8p\\x90\\x88\\x80\\x8a\\x191,G\\xad\\x81\\x81\\xa1 )\\xb8\\x0c\\xb4@\\x99*\\x02\\\\\\xaa\\xb2\\xb42\\xda\\x80w\\xaa\\x10\\x88\\t(\\x08\\x02\\x1c \\xb2\\xea\\x10\\x92\\xa1\\x8f\\x11)\\xa1\\x19\\xb1\\x18\\xa7\\xa8K9\\xb2\\x05\\xab\\x11\\xb0J\\xa5\\xc1B\\x87-\\xb0\\t\\xa8$\\xca\\x03\\x89\\xc3q\\xb7\\x89\\x88\\x11\\x80\\x98\\t\\x11\\xc80\\xa8!\\xc4\\x12.\\x91w\\xa7\\x8a\\x88\\x08\\x88\\x08\\x18\\x88\\x81\\x88\\xa2\\x10\\x80J\\x9a#\\xb9\\x19sw\\xaa\\x89\\x00\\xa1\\x18\\x8a\\x08t\\xa8\\x00\\t\\x98\\x08\\x00\\x18\\x1a\\xaf3\\x88\\x99a\\t\\xb80\\xf8\\x00\\x18\\x01\\x05\\x8a\\x1b\\xd7\\x19\\x01\\x886\\xad\\x81\\x00\\x99\\x08\\xa0\\x10\\x814\\x19\\xf9)-\\x92\\x89!\\x8e\\x10 \\x10\\x1d\\xb9A;\\xd9\\x83@\\xac0\\\\\\x00\\xc0(\\xa3,\\xb3\\x0c\\x80\\x91\\xc4R\\xaaI\\xb3\\xc8\\x14H\\xa9\\nL\\x19\\xc9\\x04\\x89;\\xb5\\x81:\\x99BA\\x8c0\\x8f\\x92\\x9aC\\x19\\xbcQ\\xa1?\\x00\\x19\\xa0\\xb9\\x17\\x89\\x99J\\xb2\\x10|\\xc1\\x11\\x9b\\x01\\x803\\x9d\\xb18\\x02!q\\x90\\t\\xbe\\x01\\xc1\\x18\\xc2)\\x02\\xa9c:\\xaaq\\xc7\\x19\\t\\n!*\\x91\\xb8\\x88>\\x83\\n\\x0c1\\xa0r\\xc9\\x11\\x0b\\x12Y\\xbb@\\x82\\xf9\\xb0\\x04(\\x087\\x8f\\x18\\x08\\x19\\x99\\x18\\x94\\x1c\\xa1x\\n\\x01\\xb90\\xa9\\x08\\xa7\\x19\\x18p\\xd0\\x90\\x01\\x18\\x81\\x0brW\\x8e\\x08\\x80\\x80\\x80\\x88\\x81\\x08\\x90\\x88)\\x98\"\\xbbx\\x81\\t\\x81\\x89S\\r\\x1b\\x94\\x19\\x8a\\x83s\\xc7\\x88(\\x08\\xb0\\xd3\\x91H\\xa9 \\x90\\x98\\xa9\\x95\\x02\\x1f\\xa1\\x83\\x19@\\x1b\\x81\\xebI0\\x81\\x18Mw\\xd7\\x88\\x80\\x80\\x80\\x80\\x80\\x81\\x89\\x11\\x19\\x98\\x89\\x95\\x00*\\x88\\x10\\xc8\\x81\\x12\\x91\\xbdy\\xe2\\x81\\x82\\x8a!\\xb8\"\\x8a\\x1a\\xb1\\xc5:\\xc9\\x97\\x08(\\xc0 \\x05\\x0b<\\x02\\x9c\\xb39\\xb0`\\x99k!W\\x9d\\x19\\x08\\x89\\x93\\x80\\x10\\x1c\\x01\\xa8\\x92\\xbb\\x97*\\xa4\\x10\\xb0@\\xd0\\x13\\x08\\x86.\\x00\\xaa8\\x91\\xc1\\x94\\r\\x90 \\x82\\x0b\\xa4\\x9a9w\\xf2\\x08\\x80\\x81\\x89\\x18\\x89\\x02\\x00\\x88\\xb0!\\x12\\xaf \\x00q\\xa7\\x0b\\x91t\\x9c\\x18\\x081x\\x00\\xb8\\x9c\\x00\\x18\\xa8\\x10\\x18\\x8a\\x90h\\x19\\x90\\x19\\x88\\xbbB\\xa1p\\xe2)\\xb1\\x81\\x19(\\xba#\\xa8\\xf0C\\x1c\\x83\\x8a\\x1c\\x0b\\x95\\x83\\x0c\\n\\xb2\\x83a\\x13\\xecY\\x88w\\xaa\\x00\\x98\\x80\\x809\\x89\\x1a\\x02\\x8b\\x01\\x1d\\x91\\x05-A\\xe4\\x88\\x08\\xa0\\x10\\x92\\x0b  >\\x0b\\x14\\x1c\\x8a\\x11\\xba\\xc1\\x87\\xb8\\x12\\x89\\xa2\\x02<\\x84\\x80\\xdcI\\xb3\\x11\\xc9Y\\x81\\x98]\\x01\\xc1\\x92pG\\x8e\\x08\\x88\\x80\\x80\\x00\\x88)\\x90\\x88\\x01\\x11-\\xb0\\t!\\x9d#*9I\\x8f\\x93\\x0b\\x08\\x9c\\x87\\x01\\x1a\\x02\\xc0\\n\\x8aX\\x01\\xc85\\x9b\\x1b\\x0c\\xa1\\x14\\x08\\x1b`\\xc8\\xb0\\x04(\\xa82\\x1b\\xba6w\\xc7\\x88\\x88\\x18\\t\\x01\\x89\\x80)\\x8a\\x91\\x81>J\\x91\\x99\\x01\\x1a\\x809\\xda\\x17;\\xb1\\x0b\\x92\\x18\\xa3\\x89\\xcf\\x05\\x90\\x11\\x8f\\x02\\x19\\x1d\\x80\\x04\\xaa\\x80\\x03\\xd2H\\xaa\\x18\\x82\\x1ah\\x98\\x98\\x9c\\x84\\x1bw7\\x9e\\x80\\x88\\x80\\x00\\x19\\t@\\xa6\\x8a\\x88\\x80\\x80\\x10\\xb9\\x91X\\n\\x92M\\x99\"\\x99\\x90\\xa2j\\t\\x91\\x14-\\xa8\\x01\\xd21\\xba\\xc8\\xb3B\\x11\\xfb8\\x9b\\x14\\x8b\\x93\\xa0\\x0f\\xb2K\\x08\\x87\\x08Z\\xaaq\\xa7\\n\\x08\\x1a\\x00\\xb3\\n\\x18w\\xf3\\t\\x08\\x80\\x18\\x98\\x00\\x80\\x90\\x80\\x80\\x00\\x10\\x88\\xa9*\\x83\\x1f\\x84\\x8b\\x99\\x13\\xf0\"\\x08\\xd9\\x13\\xb0\\x8b\\x05\\t:\\x00+\\xa1\\xc4/I\\x1bL\\xa1;\\xf0\\x02\\xa1jW\\xcb\\x00\\x88\\x18\\x88\\x08\\x01\\x80\\t\\x88M\\x80\\x18\\x99\\x90\\x99$\\x8dJ\\x81\\xc1:\\x8b\\x95\\xb8#)9\\xa0\\xd7\\x80.\\x08\\x83\\r\\x90#\\x8e\\x92\\xc8\\x013\\xac\\x01\\x92\\x91\\xad\\x11\\x08\\xb61\\x1b\\xf81@\\xa6\\r\\x88\\x01\\xa9\\x91\\x80\\xa1(\\x8bd\\x0e\\xb2!\\n\\x12\\xae#\\x9b\\x98\\x03\\xf3\\xb2*\\x96\\xb08\\xb9\\xa5\\x1a*p\\n\\x08\\t\\xf1\\x11)\\xc0\\xa2\\x9ae\\x99\\x19\\xc0J\\x88\\x10+\\x1a=\\x82\\xe0\\t(H\\xd8\"\\x8b\\xb1\\x01Y\\xeb\\x94\\xa1\\x80\\xa8\\x94\\x81w\\x9b\\x08\\x88\\x81\\x98\\x00\\x18\\xb8\\x00\\xa4\\xa4\\xca\\x11w\\x8a\\xb9\\x01\\x10\\x1a\\xa0 \\x08(\\x9f\\x00*\\x98)\\x18\\xbd\\x17\\x18\\x9d\\x02\\x99\\xb8J\\x87\\x9b#\\t\\x89\\xb0\\x1e2\\x1f\\x80\\x89\\t\\xb0\\x04\\r2\\x8a*\\xa5\\x1b\\xd3z\\xc8\\x91\\x02\\x8b\\x18\\x91(\\xe3\\x19\\xb2\\xb0 \\x13\\x8d\\x11\\xcf\\x81\\x93\\xd3\\x18\\x9a\\x82,\\xd6+\\x82I\\x97\\xab\\x83\\x19\\x90\\x89\\xa2C\\t\\x17\\x8f\\xa0\\x10\\x88\\x10\\xb0\\xa4<\\xb1\\xb2}\\x98\\x81\\xb0!\\xb1\\x0c\\x81j\\x99\\x11\\x89\\x08\\x96\\x8b\\x80\\x91)\\xd2\\xc1\\t\\x07\\x99/\\x10\\xaaA\\x8a\\x93\\x98\\x0e\\x92I\\x18(\\xf89\\x80L\\n\\x88\\xb1:s\\xb7\\n\\x18\\x98\\x80\\x81\\xc0\\x10\\xb8\\x95\\\\:\\xb8:A\\x0b\\x1c\\x91\\x11(/\\x88\\xa0\\x81S\\xbak\\x97\\x8b\\x08\\x12\\xab\\x882\\x88\\x1f\\x00\\x91\\xb3\\x8b\\x92\\xe5\\x02\\xa8\\xb4\\xc29\\x84\\x9b\\x90\\x94+8^\\x11\\xfa \\xa1\\x88:\\xa8@(\\x81\\x0c\\xb8\\x969\\xe8z\\x08\\x909\\xb0\\x92\\x82\\xf01\\xaa\\x919O\\n\\xa0I\\xa0\\xa3\\x13\\x1e\\xa6\\x8a\\x11\\x18\\x98<\\x92=\\x8a\\xa1d\\xd2(\\x99\\x18)9\\xc1\\x1c\\x14\\x98\\xb8\\x968\\x1f\\x89\\x938\\x8b\\xd1\\x12\\x918\\xa4\\xad\"\\x1d\\x11\\xf1\\x02\\x8a\\xa3J\"\\xda)<\\xb0PJ\\x1d\\x80\\xa1\\xa83\\x88\\xaf\\x82\\x95\\x11\\xf8\\x11)\\x1a\\xa8\\x13\\x84\\x8d\\x93\\x1c\\x919\\x9b\\x11y\\xb1\\xc4\\x10\\x00*\\xf0\\x90\\x80P\\xa1\\xc9\\x011+\\xd0\\x03\\xd9\\x05\\x19\\xb0\\x99q\\x88+\\x8a\\x10\\xa27\\x8b\\xbb\\x83\\xac1B+\\xf9\\x13\\xcb\\x17\\n\\xb1\\xa8a\\t\\xb8H\\x00\\x0c\\x95\\x00\\x10\\x0b\\xc4\\n\\x83\\xe3\\xa1*D\\xe8\\x01\\t\\x92[\\x90\\x18*\\x88*\\x18O\\x999@{W\\xc8\\x10\\x19\\x05\\xcbA\\xa0\\t`\\xa0\\x00\\x8a!\\x11\\xea\\xab\\x14\\x9d\\x80\\x08\\x08\\x08\\x88\\x88\\xb3\\xb4\\x11\\x0b\\x92\\xb1R\\t\\x1c(\\xa1\\xb2\\x1d\\x92\\xe0\\xb4\\xb1\\x97',\n",
       " b'\\x01\\xff\\xff\\xff\\xff\\x0e\\x08\\x08\\x08\\x08\\x08\\x08\\x08\\x08\\x08\\x88\\x80\\x80\\x00\\x88\\x80U\\xbb\\x80\\x00\\x80\\xa1\\x91\\x00\\x08\\x91\\x18\\xa8Yp7\\x00\\xcb\\x8c\\x80\\x12\\n\\x8a\\x08\\x91\\x88\\x18\\x81\\xba\\x12\\x10\\x86+\\x1c\\xc0\"\\x88\\x83.\\x8b\\x81#\\x8f!\\x93{\\xbasw\\x03\\xc8\\x8e\\x80\\x08\\x80\\x08\\x00\\x08\\x88\\x08\\x01\\t\\x1a\\x92{w\\x80\\xc8\\x89\\x08\\x90\\x10\\x89\\x80\\x11\\x99\\x80\\x02\\x9a\\xa12<)*\\x90,\\x8f\\x821\\x99\\x92/\\xc1\\x11+\\xa7!\\xa0\\x8a\\xc3Q\\x0c\\x08\\xa2\\x82\\x8f\\x10\\x82\\xc9\\x18\\x81\\x83\\x9b\\x91\\xd5\\x81\\xa2^)\\x89\\xa8@\\xa3\\xa2\\xe9)y\\x98\\x10I\\x9b\\x19\\x1c\\x01I\\\\W\\t\\xd9\\x08\\x88\\x10\\x88\\x08\\x80\\x90\\x18\\xa9\\x82\\xd2\\x18w\\x95\\x8a\\x18\\xb3I\\x00\\xf8\\x08(\\x08\\x02\\x1c\\x04\\xb9\\xbb\\x17\\x8c\\x98\\x90\\x82\\x91\\x08\\x88\\x01\\xc8\\x03\\xc9\\x11\\x98\\xa2z\\xa0\\x88\\xc3\\x15\\x1f\\xa1\\x00\\x88 \\xb8I\\x98\\x82\\x05\\x0b\\x8e\\x10\\xc3\\xc2\\x02\\xa3\\x08<.\\x07\\x88\\x99\\t\\x90\\xb2\\x02\\t\\x13\\x1e\\x1a\\xa2X\\x8e!=\\x1b\\x81(\\xa8\\x19\\x87\\x80\\x19\\x80\\r\\x02\\t\\x97\\xc8#\\x89\\x8d(\\xc1#\\x19\\xbb:q\\x00\\x08\\x82\\xf0\\x94\\xd4\\x08\\x93\\x81\\n)pw\\x8d\\x08\\x80\\x00\\x90\\x80\\x80\\x08\\x01\\x9a\\x84\\x91\\xb8\\x047\\x8f\\x00\\xa8\\x01\\x01\\t\\x11\\xb9\\x80$\\x9b\\xc2\\x010\\xd9$\\xf1\\x82\\x88\\x80\\xa1\\x908\\x9by\\x05\\x0c\\xa8\\x15\\x0bA\"\\xa2|\\x81\\x02\\xf8\\x12\\n\\x92\\xb4\\x88\\xb4\\x8f\\x98\\x81\\x91!\\x98\\x00\\x00\\x03\\xad\\x81\\x91x\\x80\\x80\\x0c \\t@\\x91\\x1f\\x97\\x19\\x98\\x98\\x83h\\xa9\\x189\\x89|\\x87\\x1c\\t\\x80)\\xa0\\x01\\x08\\x91\\x18\\x01\\xf00\\x990;\\x10\\xa0\\x91*\\x1d\\x14\\x94\\x8c\\xc1\\x12\"\\xf2X\\r\\x02\\xc2\\x01\\xa9\\x93\\x08\\xa109x\\xdc3\\x19\\x12D\\xc9\\xa9\\x00,\\x11\\xa8\\x88\\x8e4[\\xd0B\\x80\\xc9\\x91\\x80\\x1a\\x04\\x98\\nj\\xa0\\x05\\xa98\\x80P\\x1b(\\x1d\\xa1y\\x8b\\x83\\x08\\xa0\\x84-\\x84\\x0c\\x018\\xb4*\\t\\x11\"\\xfd\\x00\\x83\\t-X9\\xc0W\\x8d\\x80\\x91\\x80\\t\\x80(\\x89 \\x902\\x8f\\x82\\x90\\x83\\xa0\\x91:\\x85\\x89/:\\xb5\"\\x0c\\xa9\\x86\\xb1(\\x01\\xa8<J\\x92(\\xf1\\xa91\\x12\\xe3\\x02\\x91X\\xaaF\\x10\\xa9\\x89\\x0f(\\x1a\\xa9q\\x8b2\\xa8\\xa9@;\\x02\\x0f,\\xa4\\x00\\x91\\x02\\xa3\\xab\\xa16\\xa1\\x89\\x95\\xa4\\xbcj\\xb2I\\x00\\x02\\x1e\\x18)\\x1b=\\xa5*\\xc0\\x00\\x82\\x91\"\\r\\x82\\xd1J\\xc2+#\\x1b1\\xdbI\\x91\\x81x\\x8b0I\\xc8w\\xab\\x08\\x00\\x01\\xab\\x93a\\xa0\\x81\\x0b\\xa4\\xa0\\x91A\\x19\\x92\\x101\\xff\\x11\\x80\\xb2K\\xb0\\x13\\x1d\\x10J\\xd0\\xc2\\x18(\\x11K\\x06\\xa8\\x03\\xa5\\x9c\\xb9\\x10\\x96\\xb0\\x11\\xb1!\\x00\\x8e\\x93\\xa1\\x80O\\x89#z\\x17\\x9e\\x00\\x80\\x08\\x91\\x08\\x91\\x88\\xa21\\x1f\\x020\\xd0\\x90\\xc9\\x10\\x00)\\x85\\x8d\\x01 \\x97\\x0e\\x08\\x10\\xa81\\x8a\\x81\\x993\\x85\\x9c\\x83\\x9cp\\xa0\\x89)0\\n\\xd3\\x88\\tR\\x8a\\xbb\\x96\\x19\\x92 \\xc2D\\xa8\\xad\\x96\\x91\\x90:\\xa2\\x1a\\xa2\\x96\"\\x9b\\xab\\x06\\\\\\x88\\x8a\\x92w\\x9b\\x80\\x80\\xa2\\x81\\x81\\xb9\\x179\\xb2\\x8e\\x08\\xa0\\x11\\x10\\x1e(\\xa0\\x90\\xc1\\x02\\x08\\xa7\\x01\\x9eA\\n\\x18\\xa1\\xa8\\x95\\x99\\x8821\\x89\\x81\\x1b\\x1e\\xe4\\x02(\\xca\\x00\\x0b\\xc5\\xc0p\\x89\\x10\\x90\\xa1|\\x80\\x90\\x80\\x89\\x10\\x00\\xb8\\xb3\\x87&$\\xf8\\x9b\\x01\\x90\\x91\\x80\\xb83\\x08\\x1a\\x1fZ0\\xbb \\xc1L\\xb0#\\x1bq\\xaa\\x91\\x00\\xd2\\x02\\xbas\\xe2\\x88\\x12\\x1c\\x98)(\\x80\\xd1\\x88\\x86\\x18\\x99\\xa1\\x05\\x0c\\x913\\x1d@\\xac\\xb1P\\x89\\xa0(\\x80\\xe21\\x19\\xa2\\x94\\xac\\x00\\x82x\\t\\xc4\\xa1\\xa0i\\x98\\x1b\\x01\\xa9\\xd3\\x04\\x81\\xf9\\x11\\x18\\xc8\\x94\\xa2\\x12g;\\xf1\\x88\\x88\\x00\\xa1\\x00\\x990\\x88\\x99p\\x8a\\x01\\x80\\xd8\\x03\\x89\\xa3(\\xa0G\\xbd\\x11\\x8a\\x12\\x1aG\\x8d\\x08\\x90\\x81\\x88\\x82\\t\\xa0\\x19\\xa1\\xc5\\x93\\xb81\\xf3)\\xe1y\\x00\\x99\\x01\\x99\\x01,\\x92\\xc0s\\xb7\\n\\x91\\x00\\x10\\xa8\\x00\\x8c\\x11P\\x11\\xbc\\x88\\x89Y\\xa1\\x90\\x08.!\\xa0\\x8cz\\x92\\t\\xb0\\x10\\x98\\x10)\\x1dc\\xba\\xb3y\\x88\\x00\\xe1\\x18\\xb2\\x95I\\xb8\\x02\\t\\x90c\\xcc \\xa2\\x90\\xa0\\xa4\\x08\"_\\xa8\\xa2\\xa9\\x08\\x94\\x91\\xa5\\xc1\\x02\\xa1\\xa5\\x19\\x1a\\x8a#\\x1e\\x92\\x00]\\x8b\\x12\\x9d\\x81&\\xb8\\ny\\x07\\r\\x88\\x90\\x01\\x80\\x81\\x19h\\xa7\\x9a\\x00\\x18\\x90(\\xa0\\x89\\xa2I\\x1c( \\x1d+\\xb2\\x882pG\\x8c\\xaa\\x82*\\x1a9\\x80I\\x99\\x83\\x96\\xbb8\\xb0#\\xb3\\x10\\xfb<\\xc0a\\x99\\xb3:\\x89w\\xd7\\x80\\x10\\x83\\x8d\\x08\\x88\\x10\\x1a\\x88\\x00\\x90X\\x1b\\xa8\\t#\\x90:\\x08\\xac!\\x1f\\x91\\x93\\x99X\\x93/\\x90\\x00\\x8a\\x94\\xba\\x04\\x82\\x0f!\\x80\\x98\\x13\\xbb\\xd2\\x9b$\\xe0\\xa6I\\t\\xb0\\x93\\xa3Z\\x80\\xad\\x93e\\x8c\\x82\\x89\\x81\\x98\\x80<8\\x81 \\x00]\\xb8\\x8c\\xb2`\\xaa\\x85 9\\xd0\\x99\\xa1I\\x1b\\xb4x7\\x9e\\x80\\x91\\x08\\t\\x00\\x19\\x90\\x94\\xb1\\n\\xe3\\x93\\x11\\x8a\\nB\\xb180\\xb8\\xe9\\x1aB\\x1b\\x00\\x05\\x97Z\\x0e\\x88\\x80\\x91\\x00\\xb1#\\xa1\\xbb\\x05\\x99\\x04\\xabr\\xb9\\x11\\x1c\\x99\\x85\\x8e\\x13k\\x88\\xb1\\x180\\xf3\\t\\x1a\\x14\\x99\\x92\\x03\\xbd\\x95\\xc0!\\x89J\\x81\\xb4\\xbb9\\x84\\x9b\\xa2,:V\\xe9\\x81\\x08\\x90c\\x0b!\\x91\\x8f\\x10 \\xab\\x13\\xf9\\x10\\x04\\x1a\\x00\\x8f\\x83\\n\\xa18\\xb8P\\x08\\x80\\xf8\\x81\\x89\\xa6\\x83w\\xc8\\x88\\x08\\x08\\x80\\x08\\x08\\x01\\x8a\\x82\\xe2\\xa3\\x82\\xb0\\x00\\x19\\xd0\\x81\\x11\\xfa8\\x03\\xa8A\\xdb#\\x0c\\x16\\xab\\x80 \\xd89\\x13;\\x95\\x9b)\\x08\\x8f\\x06\\x8b\\x92\\x9a\\x11\\x13\\xf90\\xc8!\\xd1\\x81y\\x8aq\\xa7\\x8a\\x80\\x89\\x10\\t(\\x88\\x93\\x1a\\x80\\xda\\x04\\x99\\x08\\x80B;\\xe0p\\x88`\\xf2\\x08\\x98\\x11\\x88@\\xc0\\x10\\xb8\\xa0\\x109\\x19\\xa13\\x9d\\x91\"\\xaa\\x9c\\x85;\\x1f\\x19\\x11\\xa2!\\xfa\\x93\\n]\\x01\\x8cw\\xf2\\x08\\x08\\x08\\x90\\x00\\x80\\x80\\x90\\x00\\x88\\x00\\x92{\\x07\\x111\\xe8\\x18\\x06G\\xca\\x98\\x10\\x98\\x88\\xa1\\x98\\x89\\x00\\x90\\x10\\x89p\\x87\\x8c\\x80\\x08\\x18\\xa8\\x81\\x81\\x00\\x95\\x1a\\xa8\\x81\\x80\\xb1Y\\x80:\\xc1\\x12x\\'\\x8e\\x08\\x81\\x00\\x18s\\' \\x88p\\xa2\\x9c\\t \\xd0\\x8e\\x80\\x80\\x80\\x88\\x00\\x08\\x89\\x00\\t\\x88\\x10\\x92\\x87\\x0b\\x91\\x18v\\xe1\\x88\\x80#\\x82\\xaf\\x00\\x08\\x88\\x00\\x88\\x91\\x00 \\xba\\x81(\\x91\\xa8A\\x1av\\xc7\\x89\\x81\\x08\\x18\\xb2\\t\\x08\\x19:\\x19\\x9b#\\x19\\xd2 -\\x01*s\\xb4\\x92W\\xc9\\x18I\\x18w\\xb1\\x8c\\x80\\x82\\x18\\x99)\\x0b\\x90\\x8a\\x00\\x19*J\\x19\\xa0\\x10\\x12\\xb1D\\nUw\\x85!\\xa0z\\x92\\x0e\\x81\\x99\\x90\\x8c\\x80\\x88(\\x86\\x9a\\x08\\x08t\\xc0\\x89\\x08\\x08\\x88\\x80\\x80\\x00\\x08\\x88\\x90\\xa0\\x11\\x18\\xb5\\x88\\x81\\x98q\\xa7\\x1bB7\\xcb\\x99\\x00\\x00\\x89\\x00\\x08\\x10t\\x13\\x0e\\x82q\\x86\\x9b\\x99\\x88!\\xc8\\x88\\x88\\x08\\x88\\x80\\x90\\x80\\x00\\x89\\xb3\\xa8\\x12\\x90;A\\xf0\\x08\\x99\\xe3\\x02\\x81K9\\xb0\\xc1X\\xb9r\\xd1\\x801\\x8b\\x89\\x90\\xc1\\x129\\x82qK\\x87\\xba\\x90\\xa2w\\x87\\x08\\x89b\\xb0\\x1b\\x80\\x00\\xe9\\n#\\xab\\x80\\x19\\x89\\x90\\x90\\x88\\x81 \\x90\\xb0h\\x89\\x81\\x8b\\xb4\\x81\\x08t\\xd0\\t0\\x17\\xa2*j\\t\\xb9xG\\x8e\\x18\\x80\\x98\\x10\\x98\\x00\\x0b\\x80\\x00\\t\\x90 \\xc1\\x81)J\\xb8\\xa4(\\x19\\xa8\\x87\\xc2s\\x97\\x0c\\x08\\x00\\x08\\x80\\x81\\x08\\x80\\x82q\\x8890p7\"\\x99\\x19w\\xb0\\x9a\\x82\\x08\\xbb\\x9c\\x00\\x89\\x89\\x90\\x91\\t\\x90\\x81\\x99t\\x97{\\xb3\\r\\x88\\x80\\x17\\xba\\x08\\x08\\x08\\x90\\x81\\x18\\x88d\\xca\\x80\\x800\\xa9\\x19\\x08\\x88\\x81\\x88\\x80\\x90\\xa1u\\x17\\x8f\\x10\\xa0\\x88\\x00\\x18\\x01\\x9a\\x00\\x88\\x1a\\x92\\x92+\\x08\\x07q\\x9b\\xa8\\x10\\n\\x93;\\xd2(\\xc9\\x03\\x99\\n\\xb3\\x10p\\xa9\\xb5#\\x9b\\xc5\\xa0\\x12\\x98[\\xb3\\xa8\\xb1I\\xa0X\\x10\\xads\\t\\xb8\\x99\\x84\\xa3\\x10\\t\\x0e\\xb4\\x948\\xac\\x08\\xb6\\tl\\t\\x81\\x91\\xb0\\x91`\\x81\\xca\\x02\\x08K\\n\\xd3\\xb1\\x13\\xe5!\\x18w\\x97\\x8c\\x08\\x80\\x80\\x08\\x08\\x08\\x08\\x10\\x19\\x8b\\x80Hp\\xb7\\ns\\x03\\x91\\xea\\x8b\\x80\\x08\\x00\\x88\\x00\\x00\\x80\\xa9\\x01\\x00)\\x99x\\x90\\xb8\\x93\\x18M\\x98\\x00r\\xaa\\x82\\x98\\n\\x94\\x88*\\x93\\xd7 \\x08\\xf0\\x11\\xa9\\x12\\xc8\\x18\\xa1\\'\\x8b(\\xaa\\x81\\x03f4U\\x02\\n\\x90\\x15\\x9b\\xa2 L\\xb2\\x11\\x9e\\x11\\xa14\\xba\\x86\\x8b\\xdd\\xba\\x08\\x89\\x81\\x00\\x88\\x89\\x10\\n\\x08\\'<\\xc2\\x88\\x91\\x89\\xb0\\xb8C\\xaa!\\x8a\\x81{\\x85\\x98\\x9b\\x85\\xab\\xa2\\x87\\x88Y\\x88\\x19\\x90\\x80h\\x99\\t\\x1c\\x01H\\x93\\x9c\"\\xad\\x93 \\x9d\\x07\\x98)\\xe3\\x01\\x14\\xb0\\x8d1\\xda\\x12\\x90:\\xaaw\\xa9\\t\\x10\\x99\\xa2\\x82\\x01\\xa0\\xb8\\xf2s\\x999\\x98\\x91\\xb2\\x8a\\x99\\x87\\x01\\x88+\"\\x08\\xa2\\x17\\x9f\\x01z\\xc7\\x08\\x00\\t\\x98\\x10\\x80\\x88\\n\\x18\\x11\\xa9q\\xa9!\\xaaj\\xb0\\x83\\nH\\x10\\xa8\\x84\\x8c\\x01\\x91\\xe0\\xa8\\x10/1\\x90\\xf1\\x01(\\xf9\\x00!\\x91)\\xcb\\x02\\n\\x07\\xb0+\\x12Zy\\xc7\\x88\\x80\\x80\\x91\\x01\\x8a\\x88\\x81\\x90\\x12\\xad\\xa7\\x91\\x05\\x02\\xb9\\x1aw\\x07\\xa9\\x9b\\x00\\x88\\x90\\x92\\x01\\x8a\\x11\\x82\\x88|\\'\\x88\\xba\\x8b\\x80\\x00\\x98\\x91\\x18\\x91!\\x91H\\x8d\\t\\x19\\xb3\\x04)\\xf11\\x99k\\xd3\\x80\\x99\\x12\\xdat\\xe4\\x08\\x88(\\xa8\\x81\\x01\\x90\\x88\\x00\\x08\\t\\x83)A\\xfb\\xb2\\x81\\xb4\\x80\\x881\\xb8\\x86\\x00\\xd0\\x811\\x9f(\\x8e\\x13\\x1a\\x82!\\xb4\\x98;\\xba/\\x918\\x0b\\xd1\\x82\\x07\\x9c1\\x90\\x98P\\x0c\\x80Bpw\\x9c\\x08\\x08\\x08\\x90\\x18\\x80\\x00\\x90\\x90@\\xbbQ\\x99H\\x8a\\x81\\x99\\x93\\x84\\xc8\\xa3\\n\\x07\\x1f\\x01\\x89\\xb4\\x19\\x088\\xc0\\x08\\xe0\\x02\\x92\\xa8R\\x8b[\\x99\\x00\\x11\\r\\x15,\\x19,\\x08\\xa0 \\x81\\xfa\\x00U\\xa5\\x00\\x91\\x99\\x14\\r\\x01\\x8a\\x18\\x85\\xa2\\xaf\\t\\x08\\x18\\x11\\xb01\\x92(\\x0b\\xdf\\x8a$\\xa8\\x10\\xaa\\x05\\x19\\x91\\t(\\x0f\\x97\\x99 \\n([\\xa1\\x08+\\tJ4\\x90[\\xf2\\xc8\\x91\\x11\\x1a\\xa8\\x15\\x85\\x18\\xad\\x11\\x19\\xb0\\x02\\x95\\x9d:\\x93I(\\xf2:\\x88\\x81\\x0c\\x82L)\\x10\\xbc\\x13\\x8eH\\x00\\xa1+w\\x1d\\x91\\x19\\x98\\x90\\x11\\tK\\xd2\\xa10\\xb1;\\x19\\x91\\xcb\\x08\\x07\\xc00\\x1b\\t#\\xf0\\x82\\x90y\\'\\x0e\\x98\\x80\\x80\\x00\\x11\\xa9*!\\x9e\"\\xd8!E\\x90\\xb9m\\x00\\x8a\\x99\\t \\xa8\\x01G\\x90\\x9c\\xb1\\x81\\x80(\\x90\\x88\\xa2\\x82\\xe3$zSw\\x86\\x80\\xca\\n\\x88\\x08\\x80\\x88\\x90\\x01\\x90\\x10\\x88\\x10u\\xd8\\x08\\x91\\x88\\x00\\x80\\x89\\x80\\x10\\xa0@\\xa8\\x1a\\xc3[\\x90\\x88\\x93\\x91\\x97\\n\\x98\\xa4k\\xa09\\x91\\x01\\x1d\\x80\\xc8\\x81I0\\xa0\\xc0*\\x82\\xd41\\xa3\\xb9 \\xa7\\xa9\\x9ahq\\xf1\\x18\\x90\\x11\\x89\\x82|\\x07\\x8d\\x80\\x80\\x08\\x80\\x88\\x10\\x88\\xa0\\x11\\x8a\\x11\\x8a \\xc0\\x81\\x9a4\\xacC\\x89\\t\\xb8W\\x90\\xa1\\x90\\x97\\xa7\\x8b\\x08\\x10\\x81\\x88\\x98\\xab\\'\\x8b\\x01\\x12\\x1d!\\xc2+\\xa1\\xf8!\\x8bh\\x80:\\xe8\\x18\\x10p\\xd6\\x08\\x808w\\x88\\xc8\\t\\x88\\x00\\x08\\x88H\\x98\\x80\\x88\\x88\\x10\\t\\x98\\x988\\x81\\xa1\\x90D,\\x80\\xab0\\x07**\\xf2:\\n9\\x1a@\\x9a\\xdaCZ\\x08J\\xac\\x11\\x9e\\x14\\x03\\xb8\\xe0\\x81\\x98\\xb3BH\\x94\\x0e\\xaa\\x82\\x82\\xa8\\x018\\x05\\x9c\\x82\\x81\\xac\\xa2#3\\xcf\\x01 -\\xc0\\x82\\t\\x04)\\x00\\x99\\x1f\\x081\\xf2\\x1a*\\x17\\xab\\x93*\\xc983\\xad!\\xa9\\x93\\x96\\x18K\\x9b\\x13\\x1f0\\xcb\\x02:\\xa5-\\x98Y)\\xe19\\xa1\\t0\\xa8\\xa7\\x02\\x88\\xb9\\x1a\\x94\\x80\\x01G\\xd8q\\x87\\x88\\x9bs\\xa7\\x8b\\x00\\x08\\x88\\x88\\x08\\x80\\x00\\x80*\\xa8\\x11\\xb9\\x08\\x12\\x18\\x9a\\x15\\x01\\xfb\\x11:\\x9b\\x83\\xf1\\x04\\xa92$\\x8d\\x08.\\x12q\\'\\x00\\xaf\\x80\\t\\x81\\x88\\x00\\x80\\x08\\x08\\x98u\\x07\\x00\\xf9\\x88\\x80\\x80\\x81\\x08\\x88\\x00\\x08\\x88\\x18\\x80\\x00\\r0\\x08\\x89\\x90?\\x92\\xa8\\x02\\nI\\x07\\t\\x80\\x0e\\xa8\\x82\\x98\\x06\\xa0\\x90\\x017\\x9f\\x00\\t\\x80\\x18\\x00\\x81\\r\\xa3A\\x00\\x0e\\x919\\x10\\xec1\\x9a(\\x82\\x89\\x81\\xb2\\xe2R\\xa8\\x10\\xd4`\\x98\\x88\\xaa\\x11\\xb88J\\x81+\\x9c3\\xf1\\x08\\x92\\x12\\xbc\\x86\\xa2)\\x88j\\n\\x01<:\\xbc\\x08\\x87\\xbb#\\x92\\xd0(\\x08b\\xb9\\x9cC\\x08q\\x93\\x89\\x0c:\\x9c\\x03\\x8a\\x8c%\\xb8\\x0c\\xa1 x\\x08\\xc9\\x96\\x08\\x180\\x9b<\\x82-\\x80\\xb1\\xd0\\x04:(\\xfa\\x89\\x94\\xa1\\x19\\x93{\\xc1\\x90RH\\x05\\x8d\\x80\\xa8\\x88\\x01\\x90\\x1b\\x01\\x89\\x80\\x91+@\\xd5@\\x88\\x98Z\\x9a\\x1b\\x87\\xb1\\xb1\\x1e2\\x89:\\xb4\\xe8\\x02Q\\xe0\\x80\\x01\\x90\\x1a\\x087\\x1f\\x01\\x1a\\t\\xa9\\xb8\"\\xb8\\x100\\xc1\\x11\\xc6\\xa4\\x18\\xb1q\\xf3\\x18\\x00\\x80\\xb8\\x80\\x82h\\x85\\n\\xb1)psw\\x91\\xc9\\x89\\x88\\x80\\x08\\x80\\x08\\x08\\x81\\x80\\x90\\t\\x91\\x88)\\x18\\xb0\\x08\\x88Z\\xa9!\\xab\\x07+\\x0b\\x17\\x9c!\\xd2(\\x88\\xa0\\xe0\\x83\\x80\\x00\\xa0pw\\xd0\\x80\\x88\\x80\\x00\\x08w\\x01\\x88\\x00\\x00\\x98\\xcb)\\x02\\x91\\xda\\x1b\\xfa\\x89\\x00\\x80\\x08\\x88\\x81\\x90\\x107\\x9e\\x01\\x88\\x91\\x88\\x11\\x88\\x81\\tt\\xd7\\x88\\x80\\x80\\x80\\x81\\x89\\x11\\x98\\x19\\x12\\'\\x19\\xcb\\x89)q\\x07\\x8e\\x08\\x80\\x00\\x88\\x88\\x90\\x01\\x10\\x90(\\xaa\\x82\\x80\\x10\\x98\\xa4\\x10\\xc6*\\x19\\x89Z\\xb8\\x94 p\\xf4\\t \\n\\x98Q@\\xb8\\x98\\xc8\\x01\\xb93\\xc4\\x19\\xd3\\x19\\x10%\\xbb\\x19\\x95\\x0c\\x91\\x80\\x024w\\xf3\\x89\\x80\\x00\\x08 \\x8187\\x08\\x91\\x14\\x88\\x90\\xe4\\x89\\x82(\\x18\\x93\\xb0\\x9d\\n\\x01\\xb8\\x05\\xf1\\n \\xa08\\x88\\x9e2\\xc0\\xcc\\x99\\x02\\x16\\xa1\\xbc\\x02\\xdc\\x81\\x9a\\x96\\x0b\\x81\\x8a\\x11B\\x9d\\x11\\x8a)\\x17\\xac0\\x98\\x11\\xc8\\x01\\xaa\\xa1!\\xa7\\t\\xb2(\\x14tg0\\xfa\\n\\x08\\x88\\x81\\x88\\x10\\x88\\x88\\x81\\xa1\\x880*\\xf2\\x10\\xb0 \\xa1K=\\x02\\x99\\x91\\xd8\\x00p\\xa1\\x08\\x83\\xdb\\x90\\x910\\nw\\x87J\\x80\\xa8\\x9d\\x00\\x08\\x80\\x80\\x19\\x88\\x08\\x90i\\x90\\x80\\x88\\x18\\xa0\\x12\\x1a(xw\\x14\\x99s\\x95\\x8c*\\x18\\xa9\\x88\\x9a\\x01yG\\xac\\x80\\x08\\x80\\x08\\x90\\x08\\x98\\x00\\x18\\x89\\x00\\x80\\x88\\x80\\x88\\x800\\x91Zw:\\x07\\x00\\x04+W\\xd9\\x80\\t\\x02\\xac\\x08\\x88\\x005\\xe9\\x88\\x08\\x80\\x08\\x80\\x88\\x18\\x90\\x00\\x80\\x90\\x80\\x89\"\\xd9\\x11s\\xc7\\t\\x80\\x80\\x08\\x91\\x88\\x01:\\xa8\\n \\xe0\\x94I\\x99\\x88\\xb5\\x80\\x18\\x94s\\xa7\\x99\\x89\\x00\\x00+\\x81\\x8b \\xc0\\x81\\x018\\x1e8\\x80\\xc3\\xc8\\x80K\\xc7\\x81X\\x9c \\x10\\x97\\x9a\\x10\\x04\\x0e w\\xf4\\x88\\x00\\x08\\x08\\x08\\x08\\x80\\x88\\x80\\x08\\x90\\x00\\x98\\x929(\\x88\\x1a\\x08\\xc2\"w\\xc9\\x08\\x08\\x80\\x99\\x00\\xa1\\x11\\x88\"\\xc0\\xd3\\x08Z;\\xd2\\x02\\xb8\\xd1\\x05*{\\xb7\\x19\\x00\\t\\x08\\x81\\x8a\\xba#\\x99,\\x11p*\\xa9*\\xc2\\xb5\\x9ar\\xc2\\t`\\xaa\\x92K\\x80\\xa1\\xa2\\x80\\x04q\\xc7\\x80\\x88\\x88\\x00\\x08\\n\\x12w\\x87\\r\\x88\\x08\\x00\\x88\\x00\\x99\\x00r\\x94\\xb9\\x192\\x12\\x80\\x88\\x99\\x98\\x89\\xb1\\xff\\x0b\\x80\\x19\\x17\\x8c\\x08\\x80\\t\\x81\\x88\\x00\\x00\\x98\\x91\\x18\\xc3\\x08\\x8b\\x94h\\x08\\x08\\xa92\\xcaw\\xf3\\x88\\x80\\x08\\x91\\x08\\x88\\x80\\n\\x938\\xc0\\x82P\\t\\x17\\x10\\x8a\\x9f\\x01\\x1a\\x80\\x80)z\\x9a\\x88G\\x9b\\x90\\x81\\x00*\\xb1$\\x95\\n@\\xcb\\x12\\x10\\xb0o\\x08\\x88\\x99\\xa0\\x01\\x8c\\x88\\x00\\x01\\n\\x0bRw\\x9b\\x08\\x99\\xa3\\x08\\n\\x80\\x93k\\x19\\x88\\x08\\xc3+0\\xab\\x83y99\\xb0\\xc7\\x98\\xb9\\x04[!\\x87\\xaa+\\x01\\xc1\\xc0\\x10\\x96\\x19\\x81\\x89\\x19\\x99G\\x9c\\xa2::w\\r\\x08\\x88\\x00\\x80\\x00\\x89\\x91p\\xa7\\x8a\\x88\\x10\\x80\\x88\\x81\\x80\\xc8!(\\xb8\\xa0X\\n\\x08Z9\\x9cA\\xca\\x11\\x99B\\xe1 \\x88\\x00\\xa1\\x8b\\\\\\x1a\\x04\\x19\\x9d\\xa3\\x19yq\\xb6v\\x96\\t\\xd8\\x08\\x08\\x01\\x8a\\x08\\x80\\x08\\x08\\x00\\x89\\x00WH\\xf9\\x08\\x88\\x00\\x08\\x08\\x08\\x88\\x00\\x08\\x80\\x08\\x00\\x99\\x11\\x18\\xa0*\\xd4!\\x8bx\\xaa\\x94\\x18\\t\\x91@\\x91+\\xc8\\x90z\\x19\\xa4\\x0b\\x90\\x0e@\\x99\\x10\\x1e\\x12\\xa8\\x83\\x8a\\r`\\xb8\\x92\\xa2)\\x15yG\\x8f\\x80\\x18\\x98\\x00\\x80\\x80\\x00\\x98\\x80\\x00\\xb1\\x902\\xfb2\\x99\\x02\\x9e\\x03\\x82\\xa0@\\xd9\\x81\\x01j\\xc6\\x88\\t\\x01\\x1b\\x01\\xe1\\x819\\x89(\\x1d\\xa2\\x83\\xb9p\\x84\\x89\\x80P\\xe4\\x08\\x8aA\\x89*\\x0bw\\xd4\\x88\\x88\\x00\\x98\\x81\\x80\\x00\\x80\\x89\\x10\\x08\\x90;\\xb2;w\\xa7\\x0b\\x80\\t\\x00\\x08\\x80\\x01\\x9a\\x02\\x1a(9\\x8c\\xa8?\\x80!\\xe0\\xa8c%\\x8e\\x98\\x92\\x18:\\xa0\\x02\\x99H\\x13\\x0e\\xb9\\xc1\\x80\\xa1w7\\x8f\\x10\\x8a\\x08\\x08\\x81\\t\\x80\\x90\\x02\\x99\\x08\\x19\\x18\\x83\\xc3-\\x1a\\xa2N\\xb1\\x93\\x1c\\x91\\xa2\\x86)\\x95\\t\\x1a\\x1e\\x80\\x00\\x98\\x81\\x90\\xab\\x13\\xb7#\\x9b\\x89\\xb1O \\x8bB\\xea\\xa2\\x902\\xa8m\\tt\\xc7\\x88\\x08\\x88\\x00\\x08\\x80\\x08\\x00\\x90(\\x82\\x9b\\x08\\x1d9\\x1c\\x97\\xa8\\x18\\x10\\x02\\x1a/\\xa1\\x01\\x8eq\\x08\\x00Y\\xa9\\x92\\x81\\xa1\\x1c\\x17\\x8b\\xa2\\x1c\\n\\x90*\\xa2\\x08\\x80\\x01\\x0f&\\x89w\\x86\\x89\\x9c\\x08#\\x8d\\x88\\x00\\x91\\x88\\x80\\x08\\x88\\x00\\x88\\xb0a\\xb0\\x19\\x01\\xb3)\\xab\\xa5\\x008\\x9f \\x89J\\xb4\\x89\\x91\\x97\\xa0\\x03\\xc9\\x97(\\x89\\x00\\x00\\x99\\xe8y\\x80\\x98\\x10:\\x8d\\x02[\\n\\x02\\xa8\\xa2\\x81\\x1d4?\\xa7\\x9a\\x91\\x10\\xb0\\x88\\x11 \\xa2\\x07\\x0f\\x80\\x11\\xb2\\xc0!\\x81L\\xb9(+\\x83\\x8e\\x81h\\x99\\x892\\x08\\x80M\\xc3\\xb0\\xa9\\x11\\x08\\x91\\x0fC\\xc9;\\x03\\xb4:\"\\xcf\\x11\\xb1\\x14\\xcb0\\x11\\xc9\\xb2\\x01w\\xe0\\x00\\x80\\x19\\t\\x80\\x01\\t\\t\\xa0+\\x14\\n)\\xb25\\xbb\\x0f\\x04\\x9a\\x01\\xc15\\x15\\x99\\xda\\x80\\x02\\x9d\\x11\\n\\xc4\\x11\\x99\\x8a\\x103L\\x00\\x1e\\x08\\x02\\x1d\\x18\\xb4\\x02\\xfb0\\x99\\x88b\\x8a8\\x8a\\x07\\x17\\x0f\\x08)\\x91\\x19\\x90\\t1\\x91*Z\\x01\\x08`\"7DT\\x91\\xbc\\xa9\\x98\\x99\\x98\\x98\\x90\\x99\\x81\\x10\\xbaK\\x95\\xbb\\x10\\x95\\x80\\x0f\\x02<\\xa0p\\xe1\\x08\\x11\\x08\\xd8\\x10\\x91\\t\\x08\\xa2\\x01\\x1f\\x81\\x18\\x90\\x99\\x12@\\x8d\\x19\\x1a\\x86J\\xd0\\x91\\xa1Q\\x90\\n\\x03\\x8d\\x02\\x9b\\x01\\x16\\x9c\\xa2!\\xab\\x93\\xb5\\x83\\xabG\\x8e\\x99\\x04\\x18\\x98\\x08\\x90\\x12\\x8a\\xa68\\xc19\\xc8L\\x82\\xd8#\\x8a\\x92\\x90\\x81\\x1f\\x04-w\\x9b\\t\\x80\\x08\\x88\\x11\\x18\\x8aH\\x99\\x1c\\x05\\x88\\x99\\x88\\xb0\\x88\\x14=\\x86\\x11\\x8b\\xf2*\\xa2\\x9b3\\x91\\xa9)\\x99d\\x9b+@\\x84\\x97\\x99\\x88\\x80\\xa2\\xd3w\\xd8\\x18\\x88\\x90\\x01\\x90\\x898\\x88\\xa0\\x18u\\xb7\\x89\\x19\\x90\\x00\\x88\\x00\\x01\\xd1(:\\xb9\\x10\\x08\\xab0\\x9d\\x87(\\n\\x92\\x12/\\x89\\x87\\x1b\\x98\\x83\\x998\\x8f\\x00)R\\x9c\\x03\\x99\\x80\\x1e\\x10\\x881\\xa1\\x1az\\x89\\xb4\\x88`\\x99\\xb1\\x98\\xa3\\x03\\x17w\\xd9\\x18\\x08\\x00\\x91\\x8b\\x18\\x00(\\x0c1\\xd2\\x89\\x02\\x1c\\x1b\\x020\\x92\\xef#\\x89\\t\\x8a\\x82\\x168\\x01\\x99\\xdd)\\xc1x\\xd2\\x00\\x80\\xa0\\x11\\n\\x00Z\\xd8\\x800\\t\\x19$\\x9d\\x88\\xc0\\x839\\xa5\\xf2Q\\x97\\x8b\\x88\\x11\\xa8 \\x99\\x88\\x99C\\x90\\xb0j\\xa0<\\x02\\x1b\\xb1\\x19\\x04\\x93\\xda\\n\\xa4y\\x1b\\x88Z\\xb2\\x81\\x19\\xa0w\\x8b\\t\\x83\\x81=\\xb9)\\x01\\x8b\\x0c\\x14\\x8c\\xc2\"\\xd4@\\x80j\\xa0\\x9a\\x90*v\\xc0\\x80\\x89\\x00\\xa9!\\x08\\x02\\xb1+\\x8b\\x17\\x1bX\\x89\\x8c0\\x05\\x8a\\x90\\x80\\\\\\xb9\\xb1\\x07\\x1b\\x08\\x08\\x08\\x81\\x1a\\\\\\x00\\xc22\\x91\\x9f\\x01K\\xc0\\x811\\x18\\xc8\\xf9\\x84\\x19\\x1ay\\x17\\x8e\\x00\\x18\\x88\\x00\\x06\\x8d\\x00\\x88\\x88\\x00\\x11\\xa0\\x19\\x91\\x02\\x9c2\\n\\xabQ\\x11\\xf8*\\x88\\x08\\xb42\\x9f\\x01\\xa1#\\xca\\x04\\x8f\\x82(\\xa9\\x91\\x90k\\x88(\\xd0\\x13B\\n\\xb3Z\\xbb\\xf1\\x08(\\x0b\\x8a2\\xe0\\x07\\x8b\\x01r\\xe3\\t\\x88@\\xba0\\t\\x82\\x99 \\xc9\\x11I\\xb0@L\\x91\\xc1\\x81\\x89\\x83\\xe0\\x1b\\x14\\x01\\x1e\\x10\\x92\\x1c\\xc3\\xd0\\n\\x12\\x18\\xd2,\\x84\\x19\\xa1\\xab\\x87\\x92\\x8d\\x13\\x19:\\x9a\\x92 \\x9f\\x11s\\xb7\\xa9\\x80r\\x9b\\x00\\x80\\x08\\x18\\x08\\x02\\xc9\\x81#\\x9d\\x9a\\x00\\xa7\\x02\\x1a\\x18Q\\x1a\\x8b\\xb3\\x1a\\xa2\\xa8\\xd3\\x8f\\x19\\x17\\x89\\x01U\\x91q\\x15\\x8a\\x98\\x01\\x98\\x07\\x89\\x94\\xd9\\x8d\\x08\\x80\\x98\\x00\\x01\\x1a\\x88*\\x82\\x19(u\\xb7\\n\\x89\\x92\\x00\\t\\x99\\x11\\x88\\x82\\xd8\\t\\x00#\\xf0\\x018(\\xd8\\xb2\\n\\x08h\\x11\\x1a\\x0c\\x92~\\xa1\\n\\x90!\\xb00\\xa4\\n\\x92\\xa2\\x0e\\xb0\\x07\\xa9\\x92\\x08\\xc3\\x00K\\x18\\x9eXg\\x8d\\x08\\x81\\t6\\xda\\x80\\x88\\x00\\x80\\x08\\x08\\x08\\x80\\x880\\xa1\\x18\\xa0\\xaf\"\\x18\\xd2\\x84\\x9c\\x04\\x11\\x94\\xb8\\x82\\xbc\\x82\\x85\\xcb3\\xa9\\xd9\\x90!\\x19\\x979H\\xf9\\x81\\x90\\x92\\xc11\\x88\\xda\\x82 \\x83\\x8f\\x85*\\x80\\x80\\x19\\xa1\\x8e\\x13M.\\x19\\xa1\\x18\\xa0\\x84 \\x8b\\x10\\x00\\xda\\x8aS\\xa1\\xa1\\x1a\"\\x9f92\\x9a\\t\\x1e\\x86\\xa8\\xd1\\x04\\x19\\x88,\\xaa\\x06\\x90\\x1d\\x95*\\xb1\\xb1\\x07\\x9b\\x95\\t\\x83\\x0c\\x10\\x82\\x99\\x92\\x8bB\\x92r\\xc7\\x18\\x99(\\xba#\\x99\\x13W\\xdar\\x14\\xa8\\xb9w\\x93\\x9c\\x89\\x11\\x88\\xba\\x18\\x80\\x88\\x08\\x88\\x00H\\xa9\\x00\\x80+\\x81\\x8b\\xa5J\\xb9\\x94J\\xb1\\x81\\xe1\\x18 \\xa9#\\xa09\\xc3X\\x1d\\x98\\x93\\x10pw\\xab\\x98\\x10\\x88a\\x9a\\x19\\x90\\x01\\x99\\x08 \\xb1\\x85\\x89\\x08\\xc1\\xa2\\x91\\xe3\\x93;%\\x0f\\x90){\\x82\\n\\xa8\\xa3\\tC:\\xd2\\xa2\\xd2k\\x81\\nJ9\\xb9\\x93\\x96\\t\\x04\\x19\\x80]\\x90\\xa5\\x84\\xa1w\\x04\\x90:s\\x07\\x9c\\x98\\x01\\x08\\xb9\\x89\\x80\\x80\\x80\\x00\\x00\\x90w\\x83\\x80\\x18\\x14\\'\\xdb\\x89\\x10\\x80\\xb8\\x8f\\x80\\x80\\x18\\x89\\x08\\x80\\x08\\x98\\x01\\n\\x10i\\xa9\\x80\\x18\\xa8\\x80:\\xb2\\x00\\x9a1\\xac\\x87(\\xcbw\\xb9\\x81)\\xa1\\x08\\t\\x91\\x00\\x0c\\x90\\xa3/\\xa2\\x01)?\\x98\\x919\\nP\\x0e\\x19\\x01\\x98\\xe2\\x02\\x98\\xa5\\x88\\x10]\\x88\\x99\\x08\\xc3!\\xc1\\x00\\xf2H\\t)\\x91\\x0b)\\x190z\\x9eC\\xd8\"\\x89x\\x97\\x0c\\x08\\x88\\x00\\x081\\xc7\\n\\x80\\x00\\x08\\x08\\xa0\\x81\\x81\\x19\\xa8\\x80\\x88#\\xe6\\x01\\x1b\\x01!\\xc2\\xac\\x16s\\xf3\\n\\x08\\x00\\x89\\x92\\x19\\xa1\\x88\\x02\\x98\\xa9S\\xa8\\x90\\xa8P\\x84\\x8b\\xaa\\xa0T\\x8c\\x85\\x92q\\xf0\\x08\\x00\\x19\\xa0 \\x99\\x18\\x0b\\x96\\x80\\x94\\r\\x81\\x02\\x1c\\xa2\\x00\\x087\\x9f\\x02\\n\\x98\\x92p\\x8a\\x03,\\xb3\\xab(\\x93\\xabJ\\x91J)\\x80S\\x9a\\x1f2\\n\\x10\\x8a\\x10\\x9a\\xdf!\\x00\\x1d\\xa1\\xd1\\'\\x08\\x8d\\x88\\x10\\x91*\\xc4(\\x990\\xa1\\x809\\xdb`\\xb4\\x89(Z\\x8a\\xa3\\x1d\\xa1\\x90\\x92\\x88Dxg\\x0f\\x80\\x80\\x88\\x80\\x91\\x00\\x91)\\x14\\xb0\\x08\\xb9*\\t\\x92-\\xcb\\x04!\\xad\\x03\\x98\\xb4(\\xe3\\x19\\x82X+\\xba\\x1c\\x04\\xb3\\x81P\\x0f\\x90\\x83\\xa8\\xc2 \\x04\\x1c\\x90:9\\x1e\\xa5-\\x98#\\x8a\\x949\\xad\\x93J\\xd3\\x10:\\x83\\x80+\\x8f\\x0c\\x95\\x89\\x81\\x81\\x18\\xaa\\xaa\\x16<\\x19\\x92\\x94Z,\\n\\x8ew\\x9a\\x18\\x88\\x00\\x08\\x99\\x90 \\xf2\\x01\\n\\xb21\\xca\\x12\\x8a\\'\\xb9\\x99\\x80\\x15p\\x87\\x8c\\x08\\x80\\x08\\t \\xc8\\x10\\x82\\x1a\\xa8(\\x92\\xf0H\\xa8\\t#\\x9c\\xa0\\x87\\t\\xb2\\x88)Z\\x02\\xca0\\x01\\x8fr\\x07\\x0e\\x08\\x80\\x08\\x08\\x08\\t\\x19\\x80\\x18\\x92\\xa3\\x19\\xaf\\x14;\\x90\\x9a\\x91P\\x89\\x95M\\x01\\xa1\\x00z\\xd7\\x80\\x80\\x88\\x10\\x00\\x8a\\x80\\x19\\x19\\x11\\x9c2\\xe0\\x18\\x1b\\xc4!Y\\xaa\\x11*\\xf1!\\x08\\x1a\\x90w\\xf1\\x08\\x08\\x18\\x90\\x88\\x11\\x88\\xb0\\x80\\x00I\\xb9\\x18W\\xc0\\x89y\\xa8\\x10\\x98\\x08\\x18\\t\\x900\\x08w\\x8c\\x08\\x88\\x19\\x01\\x1a\\x99!\\xaaS\\xd0\\x00\\xa2i\\x8b2\\xaa\\x03\\x8f\\xa10)\\x81M\\x98)ZG\\x8e\\x08\\x08\\x18\\x90\\x90\\x18\\n\\x11\\x9a\\x12\\xb2\\n\\'\\x0c1\\x90\\x8b\\\\\\xac\\x84\\x12\\xab\\t\\x82\\xd0!\\x97\\x0b\\x88\\x88\\x02\\xc0\\x18\\x05\\'\\xa8\\xda(\\x1a\\x98\\x94\\x88\\x98\\x06B\\x0f\\x808w\\x9c\\x80\\x00\\x91@\\xd0\\x90\\x80\\x08\\x91\\x00\\x89\\x10\\x18\\xa2\\xa1\\xd2\\x00i\\x08r7\\xeb\\x08\\t\\x00\\t\\x80\\x18\\x08\\x88!\\t\\x91\\xa8>\\x88\\xc2\\x99 {\\xa0\\x98!\\xd01\\x9a\\x96\\x11\\x8b\\xc8\\x92s\\x8a\\xa0\\x04\\xaa\\x00\\x87kw\\xab\\x08\\x88\\x80\\x18\\x80\\x01\\x19\\x9a\\x10\\x91\\x80\\t\\tN\\x90\\x90\\x018\\x0b\\x19\\xa6\\x80\\x10\\xa8\\nq,\\xc2\\xe3\\x80\\x90\\x13\\x9ac\\x9d\\xb3\\x118\\x89\\xa0\\xd2\\xb9\\x13\\x86\\x08\\x9c\\x04\\xa8KY\\x1b\\x89\\x12w\\x17\\x8f\\x08\\x08\\x80\\x00\\t\\x80\\x80\\x80\\x00\\x98\\x00\\xaa%\\x9b\\x13\\x1a\\xd0\\x001\\xc9\\xc1\\x86\\x91\\xab\\x12X\\xa1\\xaa \\x07\\x0e\\x01\\x90\\xc8 2\\x98\\x1a\\x1a\\xa1\\x98\\xc8\\x7f\\x91\\x89\\xa02,\\t\\x81J\\x04W\\t\\xba\\x8a\\x08\\x91\\x8c\\x91\\x83)\\x96\\x08\\x9a\\xc3\\x1e\\xb6\\x00\\x80\\x10\\xa0\\x98\\x08\\x95\\x183\\x0c\\x89\\r\\x96\\x01\\x8f\\x02\\xc09\\x89\\xa1\\x13\\x008\\x88\\x0b\\xc1\\xc5\\x01\\x97\\xcb\\x84\\x810\\x81\\xdc0\\t\\x10\\x03\\xdct\\x87\\r\\x88\\x80\\x00\\x88\\x88\\x10\\x88\\x91\\x8a!\\t09\\x0f\\x92\\x92Q\\xb9,\\xb2 L\\x00\\xac\\x02\\xf8\\x01\"Y \\x0e\\xa9\\x82\\x90\\xa08\\xb5\\xa3Z\\n\\x1c\\x01\\xd9W\\x88\\x18\\x8a\\x8b\\t\\x99\"\\xc8Hw\\xf3\\t\\x80\\x08\\x00\\x88\\x18\\x90\\x90\\x81\\t!+\\xd8@\\x99\\x81\\x08\\x12\\xafC\\x1b\\xf1\\x92)\\xa2\\x02\\x10\\x1e\\x19*\\x90\\xe5)\\t\\x02\\xa1\\t\\x06\\x8b\\n\\x04H\\xd0\\xa2\\x19\\xd2(=\\xa2T\\x00\\xa0\\x9fX\\'\\x8e\\x80\\x88\\x80\\x00\\x88\\x80\\x08\\x00\\x88\\x00(\\xa8(\\xb8\\x96\\x12\\xaa8\\x9cx\\x8a1\\xa9\\x84\\x19+\\xb7\\xa9\"\\xc1\\x08\\x91\\x01\\xf2\\x82\\x94Y\\xc8\\xf0\\x12\\t\\x89(\\x18\\x18\\xb0\\x82\\xdb$\\x08\\x9b\\xf2Ju\\xc7\\t\\x80\\x08\\x08\\x00\\x90\\x80\\x88\\x91\\x00H\\x98\\x18\\x90\\x8c\"\\x0b\\xb1\\xe3\\x03\\xd1\\n\\x15\\xda\\x12\\x899\\x1b\\x95\\x90)\\x92\\x86\\r!,\\xb2\\r\\x13\\x8a\\x01\\x0b\\xa3\\n\\xc7\\xa3\\x02\\xaei\\x80\\x98I\\xb2bg\\xac\\x00\\x80\\x08\\x19\\x00\\x88\\x10\\x99\\x18\\x8aZ\\xa1\\x1a\\xc3)\\x02\\xc9{\\x01\\xc1X\\x9a\\x10\\x89\\x95)!\\xac\\x88\\xb0x\\xa1\\x08;\\x1b\\x86*\\x99\\xb1\\xd5\\x10\\x90\\x92\\x10\\x10\\xcdx\\x1a\\x18\\x88\\x80\\xd4\\x02z\\x97\\x8b\\x18\\x88\\x80\\xa9\\x03\\x10\\xb0\\x18\\x0bp\\xb00\\xa0+\"\\x0f\\x83\\xe0\\x82\\x80\\xaa\\x85\\x93\\xf2\\x01p\\xd0\\x00\\x00\\t\\x98\\x91\\x8a\\x03-\\x00\\x89S\\x8b\\x10J\\x0c\\x9c\\x949\\x02\\xa4\\x0e\\t0\\x99\\xc8\"w\\xb9\\x19\\x80\\x08\\x18K\\xb2\\xe1\\x82\\x19\\x01\\x10\\xdb\\x931\\xaa|\\x91\\x00\\x83\\x8c\\xd2\\x10\\xad\\x85\\x90\\x11g\\x9c\\x80\\x80\\x08\\x80\\x00\\x91\\x0b\\x01\\xa2\\x809P\\xa9\\xa4)>\\xc1\\x1f1\\xa8\\x18\\x98A\\xb8\\txw\\x8d\\x80\\x80\\x80\\x81\\x88\\x01\\x90\\x80*)+\\x8a\\x90Y\\x8c$\\x1c)\\x02;\\xf89\\x82-\\x9a\\n\\x14\\x00\\xc0!\\xdb\\x94\\x08\\xc3\\x02\\xa09(\\xb1{\\x0e\\x90\\x13\\xc9(\\xa1j\\r\\xa2 \\x92.!w\\xf3\\t\\x08\\x19\\x80\\x80\\x81\\t\\x10\\x19\\x19\\x88\\xba\\x14\\xe2\\t\\x80\\x80\\xf2\\x11\\x1a0\\x9a\\x98\\x87\\x1c\\xd3\\x01\\x80\\x1bH\\xa0p\\xd0\\x81\\x90\\x19\\x18\\x00\\x80\\n\\x10B\\xf8\\x02G\\xa0\\xa9\\xc0\\x10\\xb8\\t:\\x02pw\\xab\\x18\\x98\\x91\\x01\\x1a\\x91\\x98\\x02\\x82\\x99\\x0c\\x08\\x80\\xf39\\x99\\x81\\x8b7\\xbbr\\x9a\\x11\\x89\\x19\\x13\\x87\\x0c\\x18\\x19\\xaa\\xa2\\x95\\x1c\\xa1\\x02\\x03\\xdc\\xc2$\\xa9\\x12\\xba\\xa4)\\x82?,\\x11\\x90\\x91\\x81\\nw\\xa7X\\x99\\xa0\\n\\xa81\\x8a\\xa0\\x90I\\xa0\\x08r\\xb9 \\xaa`\\xa0@\\xd9\\x81\\x12\\x88\\xb9\\x01\\xf8D\\xb0\\x81\\x91,\\x08\\t\\x98(\\xf1,\\x93@\\n\\x0c\\x01\\x11\\xbd4\\x99\\xa2\\xb8\\x14\\x08\\xb9w\\x94\\x98B\\xbd\\x08\\x08\\x1a\\x12\\x8a\\x88\\xe8\\x84\\x1a\\x18)\\xe2\\x82;*\\x8e\\x839\\n\\xb3&\\xe1\\x99\\x04\\xbb\\x85(\\xa8\\x10\\x00\\xe3\\x10<\\xa92\\x08\\xe0\\x00\\x91\\xd4:\\x91\\xb3{Y\\x10\\xaaH\\xaa8<\\xd0\\x80p7\\x8f\\x08\\x88\\x00\\x08\\x08\\x08\\x909\\x81\\xab\\x84\\x91\\x8a`\\x90X\\xb9\\x93\\x9csw\\x10\\xc0\\x8c\\x80\\x08\\x80\\x08\\x88\\x00\\x80\\x80\\x08\\x88\\x01\\xc9%\\xaa9\\x98\\x00\\x05\\x1c\\x19\\x1d\\x84\\x88\\x1a\\xb9\\x81\\x99y\\x00w\\xe1\\x88\\x00\\x08\\x08\\x08\\x00\\x90\\x10*\\x01\\x8c\\x80\\xd0\\x11\\x94\\x0b\\x81\\x9c\\x882H\\xf0\\x04\\x99\\x13\\x8e(\\x99\\x810\\x88\\x0eI\\x99X\\x93\\x83\\xc1\\x98\\t\\xa4?\\xa8)/\\x81\\x88\\x8b\\x04\\x18\\x1bHJ\\x02g\\x0f\\x88\\x00\\x08\\x18\\x89\\xb84\\x99\\x91\\xc1J\\xa3y \\xe9Bg\\xbb\\x08\\x80\\x88\\x08\\x18\\x89\\x01\\x89\\x81\\x00s\\x96\\xa8\\x0b\\x18\\x08\\x08\\x89\\x10\\x99\\xa0\\x91\\x80\"\\x9f\\xa4X\\xc8\\x18\\x18 \\x9bj\\x88)\\x10\\x9f\\x11\\x12\\x9f\\x83\\t\\xa1H\\x91\\n\\x02\\x0bO\\x88\\x909\\xa9c\\xba\\x83\\x0b2|\\xa1\\x10\\x0f\\x10q\\x89\\x889\\x8b\\xd0\\x18\\x13,\\x81\\n\\xa1:\\x884\\x8e\\x11G\\x9d\\x80\\x99\\x10\\x03\\xb8\\x82I\\xfaAg\\x9c\\x00\\x88\\x08\\x98\\x81\\x00\\x80\\x81\\x89\\xa1\\x88#\\x9d\\x10\\xb1\\x91mk\\x98\\x01\\x90\\x10\\x0c\\xa2\\x90\\xc1\\'\\x8d@\\xa0\\x9a\\x13\\x92\\x8d\\x88\\x90\\x05<\\x81\\tIs\\xa7\\x0c\\x88\\x10\\t\\x98\\x00\\x08\\x18\\x90)v\\xa7\\x8a\\x88\\x80\\x80\\x08\\x80\\x1a\\x91\\x98\\x91A\\x88\\x893\\x8f\\x13\\xa8 \\xac\\x02\"\\xaeQ\\xc0\\x80=q\\xc1\\x88\\x88\\x88\\x82\\x19\\x90S\\xa2}\\x87\\x0c\\x81\\x8a\\x80\\x08\\x80\\x88\\x01\\x08\\xa1\\x01\\xa9X\\x8c:\\x81w\\xba\\x00\\x18\\x90\\x10\\x88\\x83\\x98\\x08\\x07\\x9e\\x11\\xa8\\x84\\x90\\xaa\"\\x00\\x80\\x1d\\x08,h\\x8d\\x10\\x82\\x9a3\\xach\\xa9\\x12\\x00=\\xaa\\x05\\x01\\x8f\\x01\\x00\\x1a\\xa8!\\x92\\rZ\\xa8\\x92\\x91\\xe3\\xa1R\\xd0\\x82Q\\x17\\x8f\\x18\\x88\\x00\\x90\\x19\\x91\\x80I\\n\\x90(\\x02\\x9c \\xb8K\\x08\\x9a\\xb7k\\x92\\x07\\x8b\\trW\\x0e\\x08\\t\\x88\\x00\\x08\\x88\\x00\\x98\\x00\\x90 \\x08\\x80\\xb9\\x82\\x08Y\\x0c\\x91\\xa1x\\xa8\\xa1\\x14M\\x1aw\\xc0\\x98\\x00\\t\\x08\\x00\\x80\\x08\\x18\\x90\\xb8\\x03(\\x88\\x88\\xf1v\\xa9\\x08\\x90\\x08\\x88\\x90*!Y\\nV\\x9c\\x19\\x9a \\x80\\x92<\\xb1[\\xc12\\xbb\\x87\\x88\\x1a)\\xbaS\\x90\\xa9w\\x8a\\x88\\x18\\xa8\\x13\\xab3\\xd1\\x81\\xba#\\xf3\\t\\x92\\n\"\\x1d\\x0b\\x05=\\xb8\\xd3 \\x90\\x84\\xab@\\x92\\xf3\\x89\"\\x18\\x9c1\\xa7(\\x9d\\x82\\x1b\\x83\\xaa\\x12#\\x0c{\\x97\\x0b\\x89\"\\x99\\x98\"\\x1b\\x92[\\xf19\\x82-\\x882w\\x97\\x9b\\x08\\x18\\x89\\t\\x08\\x91\\x08\\x01\\x18\\x98\\xd8l\\x10\\x00\\xb2\\x89g\\x17\\x9d\\x08\\x18\\x98\\x88\\x80\\x001\\xd9\\x10\\x08\\x88\\x92\\x88)(\\xaaS\\xf9\\x81\\xc91\\x90J\\xb1\\x00\\xb2\\x19\\x01\\x97\\t\\x02\\x1f\\x98JF\\xac\\x80\\x01\\x99\\x01\\xa0\\xa8`\\t\\x84\\x9c\\x11\\x18\\xa0\\x89\\x93(\\xb4\\x81[\\x9f\\x05\\n\\x02\\xba\\xa4\"\\x1d\\x91\\xb1<\\x10\\x1c!\\x8f\\x00\\x04\\xa1\\x98\\xd0\\x13\\x82\\xcb\\x92\\x85\\x00\\xf0\\x91\\x93\\x9bC\\xb8\\xa0(\\x03\\xb7\\x1c\\x19(\\x94\\x8e\\xd9\\x06\\x1a\\x01\\x01\\xc0\\x98\\x01\\x93\\xcc#\\xc2\\x80\\xbb49\\xb5\\x99\\xa3[\\xf3\\x00\\xa4\\x89\"\\x0c\\x89\\x9b\\x14\\x11\\t\\x1f\\x93\\x08\\x15\\xb1\\x0c\\x08\\xe0\\x10\\xa5\\x8a\\x19\\x90%\\x89\\xf1r\\xc6\\x08\\x88\\x90\\x08\\x00\\x88\\x00\\x81K\\t\\xb08\\xa1\\xb2y\\xb0\\x01\\x0bP\\x8bI\\xb2\\x84\\xc9\\x8aS\\xb8\\x9bw\\x8a\\xa1(\\xa9\\xa1#\\xba\\x97\\x00\\x89\\x03\\x0e\\x81\\xf88\\xa1\\x91\\x01\\xa4q\\xe2\\x98\\x10\\x18\\x08)r\\'\\x9f\\x80\\x00\\x88\\x00\\x98\\x00\\x81\\x08\\x81\\x89\\xb1\\x10\\xf0\\x01X\\x90\\x19\\xa1\\x0b\\x83)\\xb4*+\\x02L\\x87\\x1f) \\xa8\\xa0\\x81\\xa1M\\x1a\\x1b3\\xa8\\xf0\\x8a\\x05\\x1b\\xa0Q\\x88\\x8d\\x85\\x9b\\x11\\x01\\xb1C\\x81u\\xd7\\t\\x08\\x08\\x88\\x91\\x81\\x19\\xa1\\x02\\xc0[\\x19\\x92)\\xb8\\xa2\\xa7\\x18\\x00,\\xb2\\x18\\x82\\x0bq\\xe0\\x1a0\\x08\\xb0\\xb0$\\x90\\xa0X;\\xc1\\xb5\\x1a@[\\xb8\\x12\\x0e\\x90\\x03i\\x8a\\xfa \\x92:P7\\x9f\\x00\\x08\\x08\\x89\\x80\\x10\\x80\\xa0\\xb2\\xa1\\xb3\\x91\\xabh3\\x0f\\x85\\x9a\\xa6\\x00\\n\\x04\\x88\\x8b\\x88\\x93\\x96\\xa1\\x9d\\x04\\x1a\\xb3K\\x81\\x80\\xd1w\\xaa\\x88\\x80\\x10\\x88 \\x89\\x19*\\xd1I\\x88\\x08\\xa4\\x8c\\x95x\\xa7\\x8a\\x08D\\x9c\\x08\\x08`0\\xa8\\xc9\\x99\\x01\\xb0\\x01\\x80\\n\\t3\\x9a.\\x82\\xba\\x83\\x84\\x03\\xfa#\\xf2\\x18\\x89H\\x88\\x00\\x9c0\\xbb\\x89$\\x12\\x93J\\x0e\\xaa\\x15*I\\x1b\\x1b\\x8a?\\xb1\\x13){w\\xc8\\x80\\x88\\x88\\x80\\x82\\x89)\\xc3\\x90@\\x980\\xa8\\x89w\\xd6\\x08\\x08\\x98\\x90\\x12\\xa80\\x98\\x1a\\x189\\n\\x8d$\\xbc\\x11\\x91\\x82\\xab\\x93c\\xb1\\xb2\\x0f[\\xc3)\\xb4\\xba\\x05\\x08\\x11\\xf91\\xc0 \\x00yg\\r\\t\\x88\\x00\\x88\\x81\\t\\x90\\x08\\x00\\x19\\x93\\x10\\x98\\x1a\\x19\\x82\\x8b\\xb6#\\x9e\\x12\\x98\\x90\\x85\\x0f\\x01\\x81\\x98j\\x9aH\\x91\\x99\\n\\xb3D\\x9b\\xab_\\x18\\x88\\x10+\\\\\\x80\\xc1K(\\x99\\nl\\x88\\x94w\\xd1\\x88\\x88\\x00\\x08\\x80\\t\\x08\\x18\\x18\\x8a\\x94\\xa9\\x12-\\x89\\x93\\x918:\\x9a#=\\xe8\\xe4\\x11,0\\xc8\\x19\\x00\\x11\\xd1z\\xb8\\x81\\x88\\x11\\x90\\x02\\x1aj\\xbd\\x83\\x98\\xf2\"\\x1b\\x98\\x94\\x1c\\xb42\\x0fr\\x17\\x9d\\x80\\x80\\x08\\x80\\x88\\x800\\xc6\\x88\\x08\\x08\\x80\\x08\\x90\\xa8#\\x90\\xa2\\xb0\\xc5\\x01\\x9b\\xb6\\x81J\\x928\\x8a?\\x88\\xb2\\x0b %\\xea!\\x81\\x0b\\xb4\\x19\\x95k\\x8d\\xb3 \\xaa\\x95 \\x98\\xaa z\\x91r\\xa7\\x9a\\x98\\x10\\x00\\xb1\\t\\xa1w\\xd6\\x08\\x08\\x80\\x88\\x88\\x18\\x91\\x88\\x91\\x19\\x10\\x08<\\x19\\xb1\\x90\\x00\\xb1\\x8b%\\xea\\xa0A\\x10\\x18\\xa7)\\x8e\\x81Z\\x90\\x81 \\xad\\x93\\x10\\x1f\\x08\\x08\\xa2\\x92(\\xab|\\x80w\\xb9\\x88\\x81\\x98\\x00\\x19\\tX)\\x9a\\x80\\x91Z\\x0c\\x82\\x8a\\x80\\xa7 \\r\\x10;\\x89\\x92N\\x8a\\xb1\\x12\\xcaQ\\x98\\xb0P\\xd0\\x02\\x89\\xb0\"\\xc2\\x8b\\'\\xbb+\\x87\\xc9!\\t\\x19@\\x98\\xc81\\x99\\xf0I\\x97\\x8a\\x89!\\x00\\x8a\\xab\\x15:\\xb9C\\x8a\\x9d\\x90\\x07\\xb0\\x900\\xaa\\x83\\x0f@\\xb0I\\x19\\xd1\\xa0\\x13\\xf2\\x80\\x01)\\xf3+\\x10\\x81\\x98\\x10\\x8d\\x04\\x8b\\xe3\\x11\\xc0)\\x98\\x01\\x10\\xf1Z\\xa1\\x82\\t\\x0f\\x00\\x91\\xc3\\x1a\\x93\\x1d\\x80\\x02\\xca\\xa3\\xa2Z\\xa3\\x0f\\x18u\\xaa\\x80\\t\\x81\\t\\xc0\\xc30\\x8a\\xa28\\xa9Sw\\xaa\\n\\x91)\\x90\\x19\\x90\\x18\\x8cY\\x18\\x8e\\x03)\\xa9\\xc1+#\\x82\\xf9A \\xbb\\xfa\\x83\\x91\\xaa\\'\\x9a\\xa8\\x89@)\\xe09\\x08\\x10\\xa0\\x98-\\x1a\\x13\\xc9\\xc1{\\xb4\\x80\\x1e\\x88\\x11\\xc8I\\x81\\n\\x10\\x81\\xc0\\xd0 \\xb1@\\x9a\\x98\\x97\\xa0+\\t\\xa3\\xea\\x07;\\x89\\x97\\x0c\\x00\\x08\\x89\\xa3\\x90/\\x93\\x07\\r\\x88\\x08\\xa0\\x10\\x08\\x11\\x9b\\xc8B\\xb92]\\xc8\\x08\\x98\\x83)H\\xa9\\x82N\\x90\\xa1\\xc3\\xca4\\x88\\x1c\\x989\\xc8\\x03\\xc9j\\x1c\\t\\x03\\x9ck\\x88)\\x83\\n\\x99x\\x8c\\x81)X\\x90\\xab0q\\xc7\\t\\x08\\t\\x08\\x19\\x00\\x08\\x81\\x19\\xbd\\x11\\n\\xb2t\\x89\\x99\\x02\\xd1\\xa1\\x06\\x9b\\x83\\xa8\\xe2\\xa1\\xa1\\'\\x1c\\t9\\x81\\xc0\\xc9\\x05\\t\\x99\\x93\\x03\\x1b:J\\xf8\\x18\\xb2\\x80z\\x92J*\\x0b\\xf2\\xa1\\x81\\x04\\x1a\\x1c\\x04\\x1b \\xeb\\x10\\xdaB\\x9b@\\x11\\x1a\\x90\\x9c$\\t+\\xb8.A\\x8a8\\xb9\\xf5\\x93\\x19\\x01.\\x81\\x19\\xb8\\x91\\x08\\xb6Y\\x90;\\x98\\x03=\\xaa\\x12\\x94<\\xb6 \\x1c\\xd3\\x90\\xb0A\\x80\\xba\\'\\x9a\\x08\\x03\\x88\\x0c\\x8d\\'\\x99\\t\\xa2\\x10\\x9a\\x9b\\xa2\\x98\\x17!\\x1bJ\\x97\\xe9\\x80\\x93\\x02\\x98\\x18\\xa3\\x96\\xfb!\\xb1\\x08\\xa2\\x91\\xb2$/\\xf8\\x93\\x80\\x18\\xb2\\x99\\x95\\x88H\\x02\\xd9\\x1a\\xf1\\x14\\x08\\x08\\x80\\x9b\\xc2C\\x0c(\\x1a\\xa1,\\xe4\\x13\\x9a\\x93\\x1c\\x93>\\x00\\x0b\\x00\\xc3\\x00I\\x98\\xaa\\x94k\\xa8z\\xb3\\x80\\x90\\xa0\\xa29\\x92{\\x12\\x9c\\xa8!\\xa2\\xc2\\xf4\\x92\\x10\\x88\\x90#\\r\\x00\\xe8\\xd0\\x823L\\t:,\\xd5*\\xa1B\\xc8\\x08\\xa3\\xb3\\xba\\x01\\x1bpi\\xb9\\xa3\\x92Ie\\'\\xca\\x11*\\x05\\xac3\\xb2;y\\xb2\\x00\\x99\\x11\\x11\\xfc\\x9b\\x13\\xbd\\x01\\x88\\x00\\x19\\xa9\\x01*R\\x8a\\xa9\"\\t\\xb2\\x8f#\\x00\\x1b\\x88\\x02\\x03\\xcf\\x03\\xf2\\x91',\n",
       " b'\\x01\\xff\\xff\\xff\\xff\\x0e\\x08\\x08\\x08\\x08\\x08\\x08\\x08\\x08\\x88\\x00\\x88\\x00\\x88\\x80\\x00\\x80\\x08\\x90H\\x0b\\x88\\x08\\x01\\xb9\\x13.8\\x90~7\\t\\xc9\\x0b\\x18\\x93\\t\\x8c\\xa1\\x81\\x11*\\x18\\xc0\\x1b\\xa3\\xa7\\x19\\x0b\\x92Z)\\xc1:\\x81\\x01\\xa1\\xb8\\x96\\x93!\\xf0{w\\x84\\xa8\\x8e\\x80\\x18\\x88\\x18\\x89\\x01\\x88\\x80\\x90\\x92\\t*rg\\x00\\xda\\t\\x08\\x00\\xa8\\x01\\x08\\x88\\x18\\x88\\x19Z\\x80\\xba$\\x1c\\x18 ;\\xb9CZ\\xbc9\\x83\\xba\\xd6\"\\x81-\\x93\\x1a\\xd9\\x13\\x9a\\xb9K\\xa5\\x90\\x1a\\x82\\x88\\x05\\xa8?\\xb1$\\x0b\\xe2\\x19\\xa4\\x98\\x92L\\x80\\xa2A\\xba\\x81\\x91:\\xb5\\xb0\\x94\\xab`\\xe1\\x02Kw\\x10\\xea\\x80\\x08\\x88\\x00\\x08\\x10\\x8a\\x00\\x00\\n+\\xcaw\\x85\\x8b(\\xb4\\x10J\\xc9\\x80\\x19`\\xa2\\x1d\\x93\\x88\\xba\\x05\\xaa\\n\\x88\\x80)\\xc08\\xa1\"\\x8d\\xa2\\x01\\\\,\\xa1\\x99\\x15\\xb8\\x94\\x8a\\t\\x81\\xb2\\x88p\\x1aj\\x88\\x8a9\\xc2\\x07\\x8a\\xb0\\x11\\n\\xa4\\x191\\x17\\n.\\xa0 \\xa8\\x8a\\x1b\\xc6\\t\\x11!\\r\\xa828\\xf0\\x95\\n\\x0b\\x02M8\\nl\\x98\\x9aQ\\xa0\\x91\\x891 \\x98|\\x0b\\x19\\x12\\xc9\\x129Z\\r\\xe2\\x92\\xd2\\x93!\\x1b\\x92\\x9asw\\r\\x88\\x80\\x08\\x00\\x90\\x80\\x18\\x00\\x1a\\x81\\x98Hi9\\x8f\\x01\\x18)\\x9bA\\xc0\\x801\\x9b\\x90\\xb3\\x97\\x90i\\t\\x01\\x90\\x1a\\xa8\\x97\\x80\\xb0\\x10(x\\xc0 \\x0e@\\x18x\\xa2\\x1a3\\x92\\x0b\\x88L\\xa6\\xc4\\x88\\xb1\\x9a\\x00\\t\\x8a\\x16\\x9c\\x82\\x93\\x18\\x08\\x0f\\x81\\x02\\xa2\\xa1\\x98I\\xa3\\x0c\\xa5\\x1a\\x17\\x9b\\x00\\x119\\xbb\\x87\\xa2\\x10\\x81|\\x17\\x8e\\x00\\x18\\x99\\xa1\\x11)\\xa2\\x02\\x00\\x98\\xf98\\x92\\xa8B\\xd1\\x81\\x11\\xd91\\x99\\x07\\n\\xa8\\xa5\\x88\\xa2\\x15\\x0b\\x14\\xa9\\xb2<\\x1a\\'\\xb98\\x1a\\xe4\\x11\\x191\\x13\\xf8\\xa8\\x10\\xc1\\xa8r\\x89\\xc0P\\x88\\x18Z\\x82\\xb9\\x99\\x02\\t\\x01\\xa8\\x87\\xaa\\x84Z\\x1cH\\x18\\x19\\x89H\\xbaB\\xc7\\x1a\\x94\\n\\x82\\x18\\t8\\xabS\\x89\\x1e\\x929\\x14\\xa9\\xbax\\x81\\xbb\\x85\\x84\\x18\\tw\\x8c\\x80\\x08\\xa1\\x088\\x80\\xa9\\x92\\x85(8\\x0e\\x80\\x03\\x08\\x8b\\xc1\\xb5p\\x0b\\x08!\\xf8\\x980\\x84[\\xc09\\x019\\xb9\\x91\\xa4)\\r\\x87\\x89\\xa1\\x030\\x0bKp`\\xb9\\xa9\\x90\\xa3\\x92\\xd39\\x89x\\xb0<\\xb1\\x13\\x88\\x03\\x1e\\x94\\t\\x8a9\\x07\\x80\\xcb`\\x99\\x84\\x98\\x10\\xa9\\x13\\xfc\\x11\\x00\\x10\\x8a@\\x9a8l\\x18\\xb0\\x1az\\x80)\\x80\\xb0\\xd0\\x94\\x0f\\x04\\x88\\x92\\x19\\x1a\\x82\\x1a\\x91\\tz\\xb3\\xb3K\\x0cw\\xb9\\x08\\x08\\t \\x88\\x18;(\\xdc\\x84K\\t\\xa1P\\x80\\xb9#\\xf90\\x1c\\xc2@\\x889\\xe8!\\x93\\x99\\x99\\xa4\\x18\\n\\x06\\xb0\\xa4c\\x91\\x8f\\x00\\n\\x11\\xc9)\\x84\\xb1\\x94\\x98\\x93\\xf0\\x01:\\x98pp\\xa7\\x0b\\x88\\x08\\x08\\x80\\x81\\x80\\x01\\x1b\\x01\\x837\\x01\\xa9\\x9d\\x9c\\x10\\x88J\\xc1\\xa3\\x0b \\x17\\x8c\\x810\\xe9\\x91\\x80\\x12\\x00;T\\xda\\x81;\\x94\\x9a\\x9b5;\\xca\\x02\\x1c\\x12\\xd8\\xa59\\x19\\xa9N\\x11\\xb0H\\r\\x08\\x13+\\xb9  \\xbb7\\xea\\x02\\x98K\\x90Y\\x02\\xd9\\xa8w\\x8b\\x08\\x19\\xb1!U\\x9c(\\x08\\t\\x98\\t\\t\\x88\\xa12\\x1d\\x1a\\x17\\xa8\\x8b\\x10\\x07\\x99\\x8a:\\x90*\\xc1\"\\x9c\\x931\\x8f\\xa3\\x02\\x9ab\\x0bZ\\xa2\\x00\\xf4\\x19\\x11,\\x02\\x88\\xabp\\xb8(\\x9a\\x85<\\x80\\x00\\x99(\\x85\\x19\\x8cW\\x05\\xf1\\x89\\x00\\x80\\x08\\x98\\xa0H\\xa2\\x99\\x00b\\xab\\x01\\x18\\xd9\\x01\\x93\\x9c\\x161\\xcb\\x08\\x99)\\xa1\\x16h\\xb0\\x98\\xb8J)\\xb2\\xa2\\x0c\\x07J\\x9a\"\\x00<\\x0c\\x02*=p\\xb1\\xe8\\x90\\x01\\x00\\xb1\\x80\\x1b\\x81s\\xc0\\x18\\x98\\xd9\\xb3\\x90q\\x93\\xb1\\xb0!\\x0f\\x00\\x88!@\\x0b\\x1aJ\\xac\\x85\\xb0{\\x00\\xb0I7z\\xc9\\t\\x91\\t\\x92\\x98\\x11\\x1a(\\xbac\\n\\xb2(\\x9c\\x89\\x93\\xc23K7\\x9e\\xb0\\x04\\x90\\x82\\x87\\x9c\\x81\\x88\\x85\\x1a\\x9a\\x14\\x9a\\x00\\x80\\x19\"\\xcc \\xe3\\x00\\x02\\x1e\\x11\\n@\\xf0\\x92\\xb09\\xc3x\\xb7\\x1a\\x80\\x188\\xa9\\xb8!\\x88p\\x93\\xda\\x81\\x88;I\\xd0\\x80\\x19Y\\x82\\xa9\\x18;\\x19\\xa9P\\xd4\\x10+\\x89\\x95\\\\\\x980\\x8c\\x10\\x01\\x80-\\x8b9\\x14\\xaa\\x93_0\\x9c\\xb1\\x02\\x91\\xaa\\xc5\\x81,A\\x9a\\xa2\\x10\\xb91\\xf5\\x193\\xda\\x08\\xa8#\\x14\\x9d:\\x92=\\x8c\\x02\\x80\\x89^\\x18\\x90\\xa3>\\x89G\\x9c\\x08(\\x99\\x1aC\\xa9x\\xa7\\n\\x08\\x89\\x00\\x88\\x08\\x10\\x00\\x1a\\xe4\\x88!)\\x0b\\xa0<\\xa6y\\x07\\x8c\\x80\\x08\\x88\\x80\\x08)\\x00\\xa1\\xb5\\x19\\x18+\\xc91\\x12\\xb7<\\x99\\x88\\x82\\xac\\x04\\xa1\"y\\xd7\\x90Q\\xb2\\xa9\\x98\\xa2\\x00\\x90\\x020\\x99x\\x8c\\x90\\xa2\\x881\\x18\\x00;\\xf1\\xa1\\xd2\\xb0\\xb1S\\xb1\\x14\\x1a\\x88\\xca\\x97\\xa0 \\x11\\x8c)\\xb3@\\xfa \\x01\\xb9M\\x8a\\x1888\\x1f\\xa3\\x19\\xe3\\xb0\\x84K4\\xad\\x1a\\x10\\x10\\xabs\\xa9\\x10+Bh\\xa9\\xaa \\x9ay\\x81\\xa0x\\x90\\xa1\\x9a9\\xa8\\x1e\\x10@w\\x9b\\x18\\n\\x88\\x81\\x81\\xa0\\xb1)\\xa2*\\x97\\x00\\xa0\\x98\\x94\\xd8(\\x96\\x89;)\\xe88\\x02\\xd9#\\xa7[\\xa9\\x93\\n\\x93\\t\\xca\\x848\\xe1!\\x89 \\xbb#y\\xf0\\x10\\xa3\\x0e\\x02\\x9a\\x13 \\xb8\\x18\\x12\\xc7;\\x89\\x18(\\xbd\"\\x84,\\x91:\\xaa\\x97\\xab$\\xb1,\\xc8\\x96\\xb1\\x91\\x02\\x94\\xa8\\t\\x81\\x85\\xa2|(+\\xaa\\xaa\\x03\\x96\\x0b0\\x01u\\xbb\\xa9\\x06\\t\\x91\\xc0\\x81\\xc1\\x13\\x12\\xa9\\xe0\\x01\\xc9\\xb2uW\\xbb\\t\\x08\\x80\\x81\\x80\\x08\\x88\\x00\\x909\\xf8\\x02\\x80\\t\\x11\\x1c\\x009\\x8f\\x94\\t\\x18\\x05\\xb9\\x891$\\xae\\x90\"\\xd8\"\\x01L\\xa9\\x88:B\\x9bQ\\xeb\\xa1\\xa3\\x86\\x98\\xf3\\x00 \\xa0\\xb8\\x93\\x02\\xf1x\\xa7\\x0b\\x81\\x80\\x00\\x89\\x08\\x91\\x81\\xc1\\x12,\\x1a\\x8c\\x13\\x19\\x89\\xa5B\\x08\\xc0}\\xd4\\x90\\x10\\x88\\x98q\\xc1\\x08\\x00\\x88\\x89\\x91\\x81\\x08\\t\\xe9\\x85\\x00\\x01\\x99\\x1a\\n@9\\xd1\\x13\\xea\\x01\\xa8\\\\\\x08\\x91*w\\xe5\\x08\\x80\\x88\\x80\\x80\\x00\\xa0\\x01\\x88\\x18\\x80)qw\\x00\\t\\x88\\t\\x81w\\xd8\\x80\\x00\\xa8\\x11\\x98\\x89\\x8a\\x80\\x80\\x00\\x90q\\x87\\r\\x08\\x88\\x08\\x80\\x80\\x90\\x11\\x82\\x99\\xa0\\x808\\x98\\t\\xb4Z\\x80{{\\x87\\x8b\\x08\\x00\\x08\\x00r\\x17\\x11\\x90p\\xa2\\x9c\\x89\\x03\\xd8\\x8c\\x80\\x80\\x88\\x00\\x08\\x88\\x08\\t\\x80\\t)\\xa2\\x85\\x00\\x1b\\x0ct\\xd7\\x88\\x00\\x15\\x80\\x8e\\x08\\x08\\x08\\x08\\x80\\x08\\x08\\x00\\x89\\x80)\\x80\\x88\\x08\\x80w\\xd6\\x88\\x80\\x80\\x18\\xa2\\x08\\x88\\x18\\x08\\x88\\x1a\\xc1\\x84J\\t\\x00\\xca1%\\xd2\\xb2s\\xd1!9\\x08w\\xb5\\x9b\\x80\\x03\\t\\xa9)\\x8a\\xb1\\n\\x89\\x18\\x19:\\xa9\\x07)\\x1c\\xb4\\x92 1t\\'t\\xb0{\\x83\\x8e\\x01\\x99\\x88\\t\\x08\\x88(\\x87\\x8b\\x088b\\xa8\\xab\\x90\\x80\\x08\\x19\\x80\\x08\\x10\\xa9\\x81\\n\\xa2#\\xb7\\x8a\\x00\\x18{\\x97\\x1br&\\xca\\n\\x80\\x90\\x00\\x19\\x88\\x02P\\x15\\x0c\\x05p\\x85\\x9c\\x88\\t\\x10\\xa9\\x90\\x08\\t\\x90\\x10\\x89\\x88\\x91\\x90\\x18\\n\\x84\\x1a)<:\\x9d(\\x82\\xa8Y\\x98*)\\x8a\\xf8#q\\xf4\\t\\x10\\x19\\x19\\x10\\x8b\\x08\\xf1\\x03\\xaa`c\\xf8\\x08\\x00p\\x828*d\\xa0\\x8d\\x90\\x01\\xd9\\t$\\x9b\\x89\\x08\\x80\\n\\x80\\x80\\x004\\x9d\\x98\\x91\\x13\\x9a\\x18\\x9a\\xb30w\\xc8\\x08\\x82\\x92\\x1c\\x04\\x88\\xa8yq7\\x9e\\x88\\x80\\x08\\x80\\x08\\x80\\x08\\x08\\xb0\\xa4\\x109\\xc1\\x90\\x01\\x88\\x00\\x08\\x028\\x0e\\x81\\xe3s\\x87\\x0c\\x08\\x18\\x88\\x81\\x80\\x92\\x00\\x92d\\x1a\\x18Xy7\\x00\\x88\\xa9w\\xb0\\x89\\x80\\x10\\xb9\\x9c\\x08\\x08\\x89\\x88\\x80\\x88\\x08\\x10\\x9aq\\x87{\\xb2\\x0c\\x88\\x08\\'\\xca\\x08\\x08\\x88\\x80\\x00\\x80\\x88E\\xbb\\x88\\x00@\\xd8\\x10\\x89\\x00\\x08\\x90\\x80(\\x99q\\x17\\x0f(\\xa8\\x08\\x88\\x00\\x83\\x8a\\t\\x88\\x10\\x08\\x89x:\\x89b\\x9d\\x82\\x98\\x08\\xc20\\x99\\xc1\\x18\\x91\\x11\\x02\\xc9\\x01\\xb2\\xf2\\xb2\\x15\\x8c\\x1a\\x94\\x99\\xa3\\xa8\\x92\\xc2\\x87\\xc8 \\x91\\x83\\xc9\\x83\\x98z\\xe0\\x83\\xa0\\x03\\xa0\\x98p\\x92\\x8b\\x89<:\\x92\\xa0\\x10\\xf2\\t\\x90\\x16\\x1a\\xa5\\x0f\\x01\\x12\\x9c\\x08({\\x98\\x80\\x99pw\\xa0\\x0c\\x88\\x00\\x90\\x19\\x00\\x88)\\x00\\x82\\xac\"\\x99u\\xb7\\ns\\x02\\x80\\xda\\x0c\\x80\\x88\\x00\\x80\\x80\\x80\\x92\\x88\\x90\\tQ\\x98\\x8a\\x01\\xe8A\\x9a\\x83\\x91\\x1ap\\x89\\x98\\x1a\\x10\\xb0a\\n\\x08\\x19:\\xf0((Z\\x91\\x0b\\xa5\\x1c\\x86\\xc0:(\\t\\xcaW8g\\x01\\x8a\\x91\\x02\\x0b\\xb1 L\\xa1\\x18\\x1c\\x18\\xc1\\x16\\x99\\x84\\x9b\\xec\\xaa\\x88\\x88\\x91\\x10\\n\\x91\\x18\\x92k\\x93\\x1e\\x82\\x8a\\x00\\x00\\xab\\x00\\x80j\\xc9\\x01\\xa2(\\x07\\xca0=\\xa1*\\xc18\\xb8\\x03X\\x9a2+!\\xcd\\x90\\xeaS\\x98\\x18\\x9a\\x11\\x0bL\\x92\\xd3i\\x90\\xa0\\x12X\\xf0\\x80 \\xa1\\n\\xb49\\xb1w\\xba\\x00\\x08\\x88\\x88!L\\xc0\\tIQ\\xaa\\x18\\x9a\\x87\\x88\\x90\\n\\x10\\x90\\x18Q\\x18]\\x88\\xc8\\x83)p\\xd7\\x80\\x80\\x88\\x80)\\x88\\x88\\x01\\x80=\\x90\\t\\x930\\xc0\\xa8\\x04\\xa1\\xaf\\x04\\xb2H\\x81(Z\\xbd!\\x1d\\x18\\xa1\\x99\\'\\xa9\\x80\\x81Y\\x8b2\\xa4\\x8b?\\x99\\x94\\xb8#\\r,\\x80r\\xd6\\x80\\x08\\x80\\x88\\x93\\x88\\x00J\\xb9\\x18\\x04\\x8d\\x02#\\x80\\xf0\\x19w\\x95\\xa8\\x8c\\x00\\x98\\x10\\x08\\x88\\x18\\x08\\x90\\x89!w\\x91\\xaa\\x0b\\x00\\x80\\x1a\\x82\\xa8\\x01\\x81\\x1d\\x12\\xbax)\\x99\\x01\\n\\x11\\xaa4\\x00D\\xdb\\x1f\\x90\\x01s\\xd7\\x88\\x81\\x08\\x08\\x88\\x80\\x08\\x81\\x80\\t\\x11\\x90@*\\x02\\x0f-)\\xb3\\x18\\xe1+P\\xb1\\x91\\x99y\\xb8\\x01 \\x0c9\\xbar\\x18\\xa0M\\x88\\x80\\x08\\xd48\\x98\\xca\\x16\\x9b\\x95(\\x99\\x88\\x82\\x19\\x91w\\x17\\x9d\\x88\\x80\\x00\\x90\\x01\\x80\\x88\\x89\\x91\\x82\\x18\\x98\\x19n\\xb0\\x80\\x81\\xb3\\x06\\x99\\xb9H+(\\x93z\\xb3\\x8c\\x99!:\\x9d\\xa2\\x92:\\x15Z\\n\\xba\\xa0\\x13\\x1dc\\xf1\\x18\\xa2:\\xa821\\xda\\xb8a>\\xc2\\t\\x11\\x12\\x88\\xa1\\\\\\xdb\"\\x87\\xa0\\t\\x12\\xc4\\x03\\x14\\xba\\x1f\\x00\\x98(\\xf8\\t\\x82\\xa1\\x19\\xa08\\xc0\\x119\\x9d\\x13\\xd9\\x01J\\x08\\xa2\\xaa{\\x01\\x18\\x9c\\xa2P\\x08(\\xb8!\\xf3\\xaaB*\\xa87\\xbb\\x8aP\\x89\\x0c\\x97\\x00\\x80\\x08\\x8a(I\\xf89\\xa2\\x19k\\x90\\x89\\xa0\\x12\\xf3;\\x10\\xa9q\\xa9\\x02\\x17\\x1d\\x91\\x08\\x98\\x99@\\xe8\\x81\\x91!\\xab\\x96\\x9b\\x16\\x08\\xaa(\\x90\\x85\\x1b .\\x83\\xba\\x91\\x0bt\\x17\\x0c\\t\\x88\\x1a\\x82\\x18\\x88\\x1c\\x08\\xc9A\\xa1\\x88g\\x88\\xa8Z\\x01\\xc0\\x0b\\x1a\\x02\\xa9\\tg\\x08\\x9a\\xc1\\x80\\x88\\x90(()\\xda\\x02\\xc4\\x86qw\\x81\\x80\\xea\\t\\x08\\x88\\x00\\x88\\x80\\x80\\x80\\x00\\x88\\x10s\\xe0\\x08\\xa1\\x08\\x08\\x80\\x80\\x08\\x18\\x90\\x88\\xa092\\xd8\\xa1 \\xf1Q\\xb8\\x18+\\x01\\x89\\n\\xb8%\\'\\xac\\xa8\\x88\\x11j\\x98\\xa4\\x18\\x19\\x81\\ts\\xb0\\x15\\x8d\\x00\\x19:\\x9bR\\xc5\\x9aH\\x08\\x10\\tzw\\x0e\\x88\\x00\\x08\\x88\\x00)\\x80\\x08\\x08\\x89\\xa2(\\xba8\\xd1\\x11\\x02\\xd0\\x92\\x83\\xad%3\\xba\\x0c<\\x15\\x07\\x0f\\x08\\x80\\x08\\x88\\x08*\\x88\\xc0\\x02\\x1a%\\x1b\\xb8\\x02\\x9c`\\xb1\\x00;\\xe9y\\xa1\\x08\\x18z\\xb6\\n\\x00ZW\\x90\\xc9\\x89\\x80\\x81\\x88\\x80 \\x88\\t\\x08\\n\\x98\\x02\\n\\xa2y\\n\\x88\\x83\\xba\\xa6\\x199\\xc9\\xc3\\x827\\x8e\\x18\\x91;\\x91\\xb01\\x82\\xdb\\x93c\\xe2\\t\\x82\\xa0K2\\xe8)\\t\\x80\\x8dc\\x88\\x12\\xd9\\x8c\\x85*\\x89\\x10\\xa8\\x10[\\x1c\\x90\\x01\\xc20\\x9a\\x9bb\\x80\\x89*\\xf1!\\xb1\\xa6\\x893\\xce\\xa3!@\\xb8 \\x81\\x93\\x9b\\xea\\xe3\\x02\\t\\x14\\xbbA\\xca\\x80|\\x90\\x00)\\x18<\\x82\\xaa\\xda$\\xea\\x022\\x99\\xba\\xb4Y\\x9a2\\xbbL\\xb1\\xa4\\xe2\\x12\\xc2\\xa9b\\x03\\x0b)\\x04\\xd9[w\\xa7\\x9a\\x08\\x80\\x80\\x08\\x89\\x01\\x00\\x88\\x18\\x99\\x82\\x9a \\xc0\\x93+\\x12\\xa0+\\xf3\\xa1\\x94-\\x13\\n#\\x9as\\xaa\\xa8\\x836qg\\x80\\xbd\\x80\\x80\\x81\\x08\\x00\\x89\\x91\\x80\\x81yG\\x11\\xfa\\x89\\x80\\x80\\x08\\x80\\x08\\x10\\x8a\\x81\\x18\\t\\x98\\xb01Z\\x91\\x00\\xc8\\x14\\xba\\x95\\xc8\\x05Q\\x90\\x98\\xba\\x18\\x99H\\x1b\\x1f\\x00\\x11W\\x9d\\x81\\x90(\\x88\\t\\x08\\xa2\\xa5Q\\t\\x80\\x0c\\x1b\\xc1\\x02:\\x1c\\x18\\x11\\xf1 \\x98\\x91\\x81)\\x87\\xd7\"\\xa8\\x99\\x10\\x9c\\x92\\x88H\\xaa\"\\x9a|\\xc3\\x08!\\x9c\\xb2\\x93\\x94,\\x92\\xc2\\x9a\\xc32\\xc0?Y\\x98)*\\x83\\x9a\\xa9d\\xc9\\x11\\xcb\\x82\\x03\\x12\\x17\\t\\x00\\x9d\\xa8\\x81K<\\xc1\\x8c\"\\x10\\x1b\\x16\\xa9\\xb1\\x1b#\\xa4P\\xe0\\x19\\xc1\\x82:)\\x19)\\xd3\\x01CJ\\xaf\\x89\\x921\\x9a\\x08\\xa41pW\\x9c\\x98\\x91\\x10\\x89\\x19\\t:\\x83\\x9b\\x95\\x1b\\x93\\xf5\\x01(\\xd0 \\t\\xb1\\x00\\x93\\x0f\\x92j\\xc1\\x13\\xa1\\xb9\\x00g\\xd4\\t\\t\\x90\\x81)\\'\\r\\x80\\t\\x98\\x18\\x08\\x90\\xa1\\x92,\\n2\\xa4\\xf1\\x00\\x92\\x01\\xc6\\x81\\x11Y\\xba\\xb1\\x84\\xa87\\x92\\x1d\\x12pr7\\x80\\xea\\n\\t\\t\\x88\\x80\\x08\\x88\\x02\\t\\x80\\xa8\\x81\\x98\\x90\\xa2\\x19\\x08\\x96\\xa1\\xb9\\xb3$\\x99\\x06\\x8d3\\x9a\\x9c \\x08B\\x9c!\\xe3J\\x89\\x90Lw\\xb0\\x98\\x80\\x80\\x89\\x81\\t\\x08x\\xa2\\x90\\x98\\xb8\\x00(\\xb0\\xa4{w\\x17\\x88\\x88\\x80\\x99\\t\\x02\\xa8\\x182\\xf0\\xbf\\x08\\x18\\x19\\x08\\x08\\x00q\\xd6\\x88\\x08\\x80\\x80\\x80\\x08\\x88(\\x10\\x1a\\x17\\t\\xc9\\x88\\x88r\\x87\\x8c\\x08\\x88\\x00\\x08\\x88\\x88\\x81\\x01)\\t\\xb9C\\xb1\\x18\\xd9\\x03\\x9a\\x97k\\x89\\x10\\xa0\\xc1\\x10#=\\xf2\\x18\\x98\\x00\\x88a\\x10\\xa8+\\xb0\\x80+B\\xf3\\x9a\\x04\\t\\x184\\xad\\x16\\xc3R\\x82\\x9c8\\x80t\\xb8\\x10!\\xca\\x10\\x13\\x88\\xa0\\x02\\x89\\xdba\\x91\\xb9\\x9e\\x1a\\x08S\\xa1\\xa9dH\\xb9J\\x03\\x18\\xa8\\xafX\\x1b\\xd2\\x92\\x0c\\xb8\\x89\\x10\\t\\x18C\\x9a\\xc9\\tA\\xa2\\x8d\\x87\\x8b\\x91\\x19\\x18q\\x9a\\x01\\x89\\x89\\x17\\x8c(\\xa0\"\\xaa\\x90\\x1a(P\\x19\\xdd\\x02\\x88\\x83w\\x178\\xf9\\n\\x08\\x88\\x80\\x80\\x18\\x08\\x98\\x01\\x91\\x89\\x91\\x10\\xb2,\\x89\\xa3\\xb2\\x8c\\x87\\xa2\\x10\\x80\\x8bBb\\x888\\x9f\\n\\x91\\xb2\\xc1[w\\xb7)\\xc1\\x18\\x01\\x1a\\x88\\x93\\x01\\x10\\x9f\\x10\\xa8\\x02\\x89\\xa4\\x9f\\x00\\x80\\x80\\x90\\x81d\\x03\\x19\\xe1q\\x97\\x8a\\x89\\x81\\x90\\x89\\x88\\x80x\\x17\\xac\\x80\\x00\\x88\\x00\\x98\\x80\\x80\\x80\\x00\\x89\\x82\\x80\\x80\\x98\\x91\\x90\\x85\\xb0\\x08w)\\x06\\x02A\\x10g\\xba\\x88\\x99\\x82\\xca\\n\\t\\x00W\\xb9\\x98\\x08\\x08\\x88\\x80\\x08\\x00\\x19\\x98\\x10\\x98\\x00\\x08\\x10\\xb19q\\x97\\xaa\\x10\\x99\\x10\\xa89\\x10\\x8b\\xa0\\xb7\\x99T\\n\\xb2!\\x88\\x8d\\t\\x8as7\\xd6\\t\\x98\\x81\\x80\\x80\\x90\\x8a\\x11\\x08 \\xa0*\\x1e\\x83\\x80\\xae\\x87\\xa8H\\xb0\\x93[\\n\\x80\\x11\\xc7*!\\x88\\xb9(w\\xe7\\x80\\x00\\x88\\x80\\x00\\x18\\x80\\x88\\x88\\x98\\xb0\\x911\\x80\\x1c\\x04A\\r\\xc8I\\x90v\\xb9\\x08\\x88\\x91)\\x80\\x08\\x19\\x90(\\x95\\x98\\xb1\\xa1/\\x12\\x0b\\xa1\\x83\\x08:~\\xb7\\t\\x01\\x1a\\x08\\x14\\x8f\\x81\\x08\\x80\\xa9 \\x11\\xa8\\x80\\x1b\\xa7,\\xb1\\x11\\x80\\xb0s\\xc1\\x01\\xcc\\x15\\x91\\xa98\\x08{\\xb7\\x19\\x98\\x00\\xb1\\xb1$\\x98w\\xa7\\x0b\\x88\\x80\\x18\\x88\\x00\\x88\\x90\\x88\\x00\\x90\\x82\\xba1\\x02\\t\\x0b\\xd72\\x15w\\x11\\x80\\x99\\x8a*4\\x01\\xda\\xd9\\x0b\\xc3\\x8c\\x00\\x08\\x1a\\x08\\x89\\x82\\x10\\x18\\xa4)\\xa9\\x0e\\x83w\\xd2\\x98\\x00\\x89\\x80\\x01\\x90\\x19\\xa2\\x80\\xa1-\\x82\\x0f\\x11q\\x83\\xda\\x08\\x99\\x10*\\x80\\x98\\x04,\\xc2W\\x8c\\x88(\\x99\\x18\\x01\\x04\\x88 0\\xfb\\x11\\x00\\xb4>\\x81\\x89\\xb8\\xa1\\x08\\x8f\\x08\\x10*\\x90\\xa8yG\\x8d\\x90\\x80\\x00\\x90\\x1a\\x01\\x08\\xc8\\x11;\\x12\\xfb!\\x18\\xd5\\x802\\xc8\\x18\\x90\\xa8\\x81I\\x90\\x98Q\\x17\\x8e\\x089\\xa91\\x99\\x90\\xa3\\xc8P1\\x9c_\\xa80\\x8a\\x10\\xd2)\\xa0\\xa0\\x82Y\\x00\\t\\xa4s\\x97\\xaa\\x08\\x00\\x90\\xa8\\x02\\x89\\x0bS\\x9c\\xd2\\x83\\xb2\\x80\\xc0\\x82\\xa2\\x91\\x1d\\'\\t\\x8a(\\xd0(\\xdas\\xa9\\xa0\\x82\\x12\\x10\\x00\\x9f9\\xc2Y\\x10\\xd6w\\x87\\x1a\\xc9\\x08\\x08\\x81\\t\\x08\\x88\\x80\\x00\\x80\\x08*GH\\xfa\\x08\\x08\\x80\\x00\\x88\\x88\\x00\\x80\\x19\\x90\\x08\\x81\\x99\\x10\\x19\\x990\\x81=8\\xa2\\x1e9\\x98\\xc8\\x87y\\t(\\x9a\\x92y\\xd9\\x11\\t\\x08\\xc1\\x81\\x10\\x00\\x89\\x89\\xd0\\x17\\x89\\x80\\xc0\\xa3(J\\xb00u\\'\\x8f\\x88\\x08\\x18\\x08\\x98\\x11\\xa1\\t\\xa1\\x00\\x98\\xa5\\x80\\x19\\x83\\x98\\xd6\\x88\\x18\\x89\\x04\\x9b\\xa30\\x17J\\xf3\\x88\\n\\x11\\n\\x80\\x88 @\\x8f(\\xd1\\x10\\xa9Q\\x08\\x01\\xf3Z\\x90\\x08\\x81\\x0b\\x18\\x08\\xb2\\x07w\\xf2\\x88\\x80\\x80\\x80\\x08\\x08\\x80\\x88!\\xb8\\x10\\xa0\\x92\\xd3\\x80w\\xb7\\n\\x88\\x81\\x08\\x98\\x01\\x08,\\x90\\x80\\x81\\x10\\xa9H\\x8dt\\xd3\\x89\\x81\\x88\\x81\\x00\\n\\x80\\xa3\\x80\\x9b3\\xa30\\x94L\\x9b\\x8f \\xc8sw\\x8c(\\x99\\x80\\x88\\x11\\x99\\x18\\x19\\x19\\x81\\x1a\\x19\\xa3\\x8c\\x94;Z\\xaa\\x00 \\x8e\\x13J\\x88@\\xf2\\x81\\x81\\xba$\\xa8\\xf3Z\\x88\\xa1\\x1a\\x10\\xa1\\x83\\x1b\\x01+?0\\xbb9\\xa71\\xf4\\x89Y\\x8a\\x01s\\xa7\\x0b\\x89\\x00\\x91\\x00\\x91\\x19\\x08\\x10\\xa0\\x01\\x1b\\x8b\"\\xf3\\x9aq\\x99\\x08+\\xa2H\\x94\\xa0.\\x02\\xc0\\x91J\\xa9\\xe41\\x1d\\xb0\\x85\\xb3\\x11\\x88%)\\x07\\xaa\\xbaQ\\x92\\xb0,%\\xc9v\\x85\\x9b\\x9b\\x80\\x14\\xab\\x08\\x80\\xb3\\x08\\x80\\x12\\x99\\x80\\t2\\x0c\\x9e\\x05\\x89\\x08\\xa2\\x08\\xb1\\x05\\x8a\\x9b3\\xc0\\xb4p:\\xb8;\\xf2\\x91\\x02\\x12\\x8d\\x85\\t)\\xea\\x83\\xa0-\\x81\\x92\\x11\\x8c\\x11[\\x8b\\x94\\x80\\x0b\\xf3A\\nr\\xb7\\x8a\\x90\\x01\\x91\\x81\\x00\\xab\\x91\\x86\\t\\x1b2\\x0c\\x00L\\x80$\\xfc\\x11\\x18\\xb9\"\\xb0\\x99\\x03\\xa8l\\xa6\\x0b\\x03)\\x8dR\\xa9\\x19\\x1d\\x83\\x1a\\x988\\xe1\\x88\\xa2q\\x08\\x99\\x19\\x80L\\xc4\\t \\x8b\\xa4s\\xf1\\x80\\x90(\\x01\\x88\\x8a\\x0b\\x95 \\x1d\\x11\\n*\\xc8\\x03\\x91\\x98/2\\xca;7\\x14\\xd8\\xb8\\t \\x89\\x10*\\xc4\\t\\xa9\\x14\\x99\\xc7i\\x0c\\x92\\x01\\x98\\x00\\xa8Y\\x88\\x08\\xa8\\x85\\xd0#\\xa8b\\xcaQ\\x87\\x0c\\x08\\x19\\x88\\x81\\x19\\x10*\\x00\\x88\\x18\\xba\\x07$i@4E\\xa2\\xad\\x9a\\x98\\x89\\t\\xa8)\\x88\\xaa\\x93\\x0b\\x98S\\xaa\\xa8\\xf3\\x88A\\x9b\\x13\\t~\\xc2\\x90)\\x81\\n\\x88\\x90J\\xab4\\x87\\xac\\x82h\\x88\\n\\xa9\\x07\\x98\\x88\\x02\\t\\x1a\\nJ\\xd2\\x91\\xb1\\'\\xb9\\xb3J\\xa0\\x129\\xfb\\x93:\\xf0 \\x00@\\xab\\xb00\\x0e3\\r\\x10\\xa3\\xab\\x05\\x1b\\xb2\\x81s\\xf8\\x18*\\xa8\\x95\\x98\\x19\\xa49\\xb3*\\xb3xw\\x9b\\x88\\x98\\x18\\x81\\n\\x11\\x80p\\x98\\x89\\x01\\xa1\\xd98\\xd0\\x18\\x91XC\\x1a\\n\\xda\\x989\\xf3\\t\\x96\\x89)(\\xa08\\x00+\\x10\\xf0\\x97+)\\xb1.w\\xc9\\x00\\x08\\x80\\x90\\x18\\x90)\\x08\\n\\x11r\\xc7\\t\\x08\\x90\\x00\\x98 \\xa8\\xa7\\x80\\t)\\x99\\x81\\x85\\x89\\x90\\x18\\xf0\\x82\\x11\\x19\\x89#\\x8f\\x84\\xa8y\\xa9\\x91\\x90\\x80\\x92\\x02\\x19\\x07\\x88\\x89\\x0c\\x04\\x0b\\x19\\xb4\\xf2\\x04\\x19\\n\\xa8!\\xd8\\x9aA\\x87\\x8b\\x18w\\xb9\\x80\\x10\\x88\\x81\\x8a\\x88\\tH\\x88*\\x8a\\xa4\\x10\\xa0\\x908\\x9c\\'\\xad@\\x08\\xf0\\x92\\xa4!+\\x04\\xbc\\x12\\xa9\\xb1q\\xd5\\x90\\x18\\xb0\\x02:\\x08h\\xd8 \\x90\\x8aX\\x1a\\x91:\\x881\\xf0\\xb0\\x82r\\x97\\x8b\\x00\\x19\\t\\x00\\t\\xb8\\xe5\\x81\\x81\\x98\\xc3!\\x83\\x8d\\x91\\x11\\xf1\"\\xa9\\x82\\x18\\xcak\\x80\\x809\\x98\\xf22]G\\x8e\\x88\\x10\\x80\\x80\\x88\\x18\\x89\\x98\\x02\\x88\\x18\\x80\\x1a*y\\xb8\\x07\\xb2\\xa9)\\xa9u\\xd1\\x98\\x92\\x10\\x88\\t(\\xb1\\x19 \\xab\"[\\xf9\\x00\\x01\\x18(&\\x8c\\tz\\xe1\\x08\\t\\x93\\n\\x11\\x08\\x1b \\x80\\xfa\\x92\\x02Z\\x99{\\t\\x92\\x89!8\\x0f\\xba&\\xb8\\xa2y7\\x8f\\x80\\x08\\x80\\x00\\x07\\x8c\\x08\\x88\\x10\\t\\x80\\x18\\x88\\x80\\x10\\n\\t\\x01\\xa1P-\\xf2\\x18\\x08\\x81\\xb8\\xaa\\x17\\x198\\x81\\x88\\x98\\x9aC\\x94\\xfa\\x80p\\xa0\\xa0\\x01\\x89U\\xa8\\x81\\x82\\xf9\\xa0\\x10\\x0c\\x12\\x90\\\\\\x88\\xb3\\xa1I\\xa0z\\xc7\\x08\\x18\\x80\\x89\\xa0\\x03)\\x1d\\x10*\\xd0\\x19j\\x81\\xba\\x12\\x99z\\xa9\\x01\\x02\\t\\x9a\\xb5(*p\\xc9\\xa0\\x85\\xa8\\x18>\\x12\\x99*)\\xbb2\\x17;:\\xca:\\x01\\xa6\\x88\\x9f\\x02\\x18q\\xb7\\x89\\x81C\\xac\\x90\\x08\\x18\\x08\\x13\\xcc\\x18\\x89B\\xb1:\\x19\\x96\\x1e\\x82\\xb00*\\x81\\x8cK\\x11\\x99\\x88\\x94(\\x97\\x99-G\\x92x\\x06\\n\\x88\\x00\\xa0\\x05\\n\\x95\\xba\\x9f\\x80\\x08\\x88\\x00\\x80\\x08\\x80\\x81\\x88\\x1a\\x08z\\x87\\x0b\\x88\\x98\\x01\\x19\\x00\\xd0\\x01\\xa6\\x90\\x81*\\x80Z\\xab\\x87\\t\\x91\\xa0)\\x01\\x89h\\xd19\\x01\\x8b\\x80\\x88!\\x91\\x8fA\\x18\\xf8!\\n\\xa0\\x0b\\x94J\\x90j\\xaa!|\\x88\\x98\\x0cW\\x0c\\x19\\x19\\x08W\\xba\\x88\\x80\\x88\\x01\\x88\\x88\\x00\\x90\"\\xc0\\x84\\xbaI\\x98\\xa8\\x07\\xa9\\x82\\xc9D\\x181\\n\\xf8\\x80\\x01\\xc1\\x90\\x89\\x08\\xaa\\x04\\x90R\\x888\\x9d:C\\x9f\\x03\\x9b\\x92\\xf2\\x12>\\x18\\x89\\xb0\\x03<\\x91\\x88\\x90\\'\\x9d\\x819\\x08\\x0c\\x14\\xaa+\\xc0D\\x98\\xc8\\xa2y\\xa9\\x03\\x109\\xf1)\\x80J\\xe0\\x01\\x08\\x01\\xc0\\x81\\x18\\x1f\\xa3\\x01\\x89\\x81\\x89\\xa3\\xe4\\x03\\xc1\\xa2\\xa4\\x18{\\xa2\\x0b9\\xf2\\x02\\xa9\\x004\\x9f\\x01\\x80t\\xe1\\x00\\x88\\x88\\x88\\x82\\x08 p\\xc8xS\\xb1\\x1bu\\x95\\x9b\\n\\x11\\xa9\\xa9\\x00\\x90\\x80\\x90\\x18\\x90Q\\xab\\x10\\x80\\xc1\\x90 \\x08\\x93\\x1d*\\xc0@\\x88(\\t\\x1d\\x10\\x8f\\x938.\\x18\\xb10\\x9a\"pw\\x9c\\x08\\x08\\x00\\x08\\x90\\x80\\x90\\x10\\x88\\x98\\xd3 \\x08\\xc1\\xa1\\x07\\x08\\x91\\x991\\x8cZ\\xa9\\x02\\xb0p\\x97\\x8b\\x92\\x82\\x98\\ty\\t\\xa4\\x99Y\\x90\\x18\\x00\\x19\\xd8\\x02\\xf30\\x91\\xe2\\xa3!\\x19X\\x18\\xa2w&\\x91Jc\\x86\\x9c\\x98\\x01\\xa8\\xb9\\x80\\x88\\x00\\x08\\x08\\x81\\x81u\\x15\\x82\\x18\\x05\\x17\\xda\\x98\\x11\\x98\\xaa\\x8c\\x80\\x08\\x18\\xa8\\x08\\x00\\t\\x80\\x8a\\x01\\tx\\xb8)\\x99\\xb2\\xa0\\x11j+\\xa9\\x86\\x8c\\x01\\x02\\x8aw\\xb9\\x08\\x10\\xb1\\x19\\x89\\x80[<\\x1a\\x18\\n\\x93\\xb0\\x89z\\xa0X\\xf9\\x81\\x00(\\x1a\\xc1\"(\\t\\xd40\\r\\xc1P\\xa9\\x93\\x80\\x99\\x19\\x98\\x95\\x87\\x0c\\t:\\x90\\x11 \\xf1  \\x89\\nU\\xc9\\x1bq\\x07\\x0e\\x88\\x00\\x00\\x88 \\xb7\\n\\x80\\x80\\x08\\x81\\xb9\\x82\\x02\\x9b\\x00\\x8a;%\\x83\\xf1\\x0b)\\x04\\x07\\x9acx\\xf2\\x88\\x08\\x80\\x08\\x90\\x08\\x88\\x81\\x10\\xa8\\x19@*\\xa8:\\n\\xaa\\x87\\xc3\\x01\\xd9\\x93\\x03\\x18v\\xf1\\x18\\x88\\x98\\x81\\x08\\x12\\xaa\\xc2\\x02\\x00\\x91\\xb4.!-\\xa0\\x18\\x08\\x13\\xaf\\x82\\xd0\")\\xa8)Yy\\xe2\\x88\\x90\\x12\\xb0\\x80\\tI\\x98=\\x189\\xf2Q\\x92\\xa9\\x9a\\xe3\"\\xa8\\x90\\x18+0:\\x8e\\x07\\x9a\\x03\\xa9\\x19X\\xaa9\\xf2x\\xa0\\t\\x88\\x02,\\x98\\x1c\\x04+\\x88>\\xa4\\x00\\xa9\\x11!)pW\\x8f\\x18\\x80\\x98\\x18\\x88\\x81\\x90\\x022$\\x9e\\x9a\\xa1 +\\xa4\\x1d\\x18\\x08\\x93\\xcb\\x02\\x11\\x8b\\x07<\\xd0\\x98\\x13\\xb9(\\x81\\x81\\x10\\xa7\\x82\\xd2\\x91\\xa1y\\xc0\\xd1\\xa2\\x110\\xb0\\x1c\\x02@\\x0e\\x1a\\xa0\\xf22\\x08\\x08\\x00\\x02/\\x90q\\x0c\\x88\\xb1\\x01\\xb3\\x1c\\x002\\x1d\\xf0(\\x10\\x08\\xca\\x03\\x08\\xab\\x81xJw\\xab\\x01\\t\\x08\\x18\\x99\\x03\\x18\\x9c\\xa3\\xa1[\\xb2\\xa0\\xd4!\\x08\\x98Y\\xba\\x13w\\x03\\xbd\\x18\\t\\x19\\x98\\x84\\x89\\x80\\x08\\xb1\\xaaI\\xa5X;\\xa1\\n\\x8d(\\x14*(\\xacl\\xa0\\x00\\x8a\\xb2\\x07\\x89@p\\x97\\x0c\\x88\\x88\\x08\\x18\\t\\x01\\x08\\x02\\n\\x80\\xa9\\xb4-\\x84\\xa1\\x0b\\x99\\x17\\x0b[\\x90\\x01\\x11x\\x98{\\xd7\\x08\\x00\\n\\x10\\x80\\x98\\x00\\x08\\x91\\x11\\xb8\\x12\\x91\\xac\\x19#\\xba\\xc7\\xa02\\x90 %\\xf8\\t\\xa0w\\xf2\\x88\\x00\\x80\\x80\\x80\\x19\\x80\\x98\\xa3\\x8a\\x02\\x94M\\x87\\xb0\\x99C\\x9a\\xb0\\nC\\x8c\\x00\\x88\\x18\\x0bw\\x9a\\x80\\x88\\x08\\x88\\x12\\x8bR\\xb9A\\x98\\xa8(\\xf2)\\xa2\\x0b\\xa1\\x0bG\\x90\\x98\\x95\\xb1*\\xb9xW\\r\\x88\\x00\\x88\\x19\\x08\\x80\\x88\\xa2J\\x98\\x18\\x19\\xe9$\\x04\\x9a\\xa82\\xaf\\x01\\x01\\x99\\x00\\xa49\\xa1\\xb7\\n\\xa2\\x92\\x9b\\x04l\\x811\\xf3\\x0b \\x1c(\\xa99\\xd9\\x02d-\\x99pG\\x9d\\x08\\x80\\x080\\xd0\\x88\\x81\\x88\\x80\\x00\\x18\\x80*\\xd0!\\x89\\x90\\x10\\x13xw\\xba\\x08\\x80\\x80\\x98\\x00\\x81\\x01\\x10\\x03\\x93+\\xdb\\xb0*\\xcb\\x958\\x1e\\xa0\\x19=\\x88\\x90\\xc2\\x02;!\\xb3\\x0fJ\\x10\\x98\\x9f\\x15\\x88\\x0byw\\xba\\x80\\x08\\x08\\x08\\x00\\x91 \\x99\\x90\\x00\\x18\\xc9\\x02\\xd1\\x98\\x84\\x82\\xc0\\xca\\x16\\x0b\\x98 \\xa0\\x89\\x97\\x01\\n\\x100\\xbb\\xa48\\x19\\xd3@\\x05\\x9f\\x81\\x08\\xb9z\\x00\\x88\\x02\\x9e\\x10\\x18\\x90\\x01\\x81O\\x1aqG\\x8f\\x80\\x80\\x08\\x00\\t\\x00\\x88\\x10\\x89\\xb1\\xb1A\\x88\\x8b\\x95\\x01\\xba\\x82\\x08\\x92\\xd2\\x04\\\\\\xa0\\x90!\\x84\\x8a\\xe2\\xc0B\\x90\\x99\\x88y\\x99\\x18\\x03\\x99\\x10\\x9a?\\x92\\xf2\\x88\\x91\\x18\\xe1\\x00\\x03\\x11\\xa6V\\x89\\xc9\\x1a\\x80(\\x10\\xab\\x08\\xb9\\xc6\\x12\\xa3\\x99<\\xa8Q\\xc9\\x00\\x84\\x18\\xc1\\xa1\\xb1#\\x1b\\xf6\\x12\\t(\\xaa\\x91z\\x81\\xa8\\x81X)\\xd8\\xa8\"\\x1d\\x81H(\\xbdI0\\xb8H\\xc1\\x00\\xb8.\\x14\\xa0r\\'\\x9f\\x00\\x08\\x08\\x08\\x18\\x88\\x88\\xb2\\x1a\\x92\\x85\\xa89(\\xc9\\xa2\\xc3\\x83N\\x819\\xbb\\xa2\\x11\\xa6\\x80\\xf8\\x81\\xb43\\xbb0\\xa0\\x1f\\xa0\\x94@\\xc1\\xa9 \\xa2\\xb8g\\x003\\xd8\\xbb\\t\\x01\\xc8J\\x82:w\\xf3\\x89\\x00\\x18\\t\\x08\\x18\\x98(\\x81\\x8a\\x91\\x08\\xa0$<+\\xacp\\xb9P)\\xd0\\x11\\xa8\\x03\\x80\\x9a\\xb4\\x01\\xac@!\\xaf\\xa4@\\x88\\x98\\x11\\x1c!\\r\\x92\\x10KM\\x88\\x19\\x18\\xdar\\x03\\xa8\\x8fh\\x17\\x8e\\x80\\x08\\x00\\x88\\x18\\x88\\x08\\x90\\x00\\x80\\x00\\x18\\xb1\\x89A\\x01\\x9b9\\x9b\\x13\\xf2\\x9a\\x97\\x80\\x18P\\xf0\\x91\\x18\\x81\\xa2\\x98\\xf3Y\\x81\\x10\\n\\x88;\\xaa(I\\x8c,\\x16\\x8a\\x00\\x00\\x9b\\x88\\x95\\x8d\\xa3s\\x97\\x8b\\x81\\x89\\x08\\x80\\x89i\\x81\\xb9\\x81Z\\xb2)\\x14\\x1f\\x00\\x0c\\x81\\x10\\x00\\xf28\\x8c\\x95\\x1a\\xa1R\\x9a\\x18\\x99ZI\\x9c\\x12\\xa1\\x01\\x98)\\x85\\xb0\\x1f\\xa2\\x82\\xa9\\n\\x87\\xc1)H\\n)\\xd1I\\x99w\\xa9\\x90\\x00\\x98 \\xb2\\x18\\x08\\x9a)\\x1d$\\r\\t\\xb3{\\x98\\xa8\\x10\\x95\\x19\\x92\\xb8\\x05:\\xf12\\x93\\xaa\\x1d\\xb8z\\x19\\x94\\x8a\\x80\\x18\\xe19\\x81<\\xc4\\n8\\n\\xc04/\\x88\\x80\\x80\\x11\\x0c\\x89z\\x07\\x0c\\x88\\x18\\x98\\x82\\x8a\\x83\\xb8\\x85\\t*\\xb8i\\x00\\x08\\x00\\x99}\\xa0!\\xb8\\xc1k\\x90 \\xa9r\\xf3\\t\\x01\\x08\\xa8\\x02\\x99\\x80J\\x18\\xf2\\x82\\xa0\\x10=\\x83\\xaa\\x01\\x99\\x95\\xa2\\x18\\xc1\\x03\\x99q\\xc0g\\x9b\\x88\\x80\\x18\\x99\\x00\\xf1!\\xb0\\x89\\x11\\x80\\xa1@\\xb0J\\xa4`\\x80\\xb8 \\x9c\\x87\\x89\\xaa9#w\\x8c\\x80\\x19\\x90\\x18+ \\xd1\\x90\\xb1\\x08\\x02Z\\x98\\x18\\x12\\xf9B\\x8a\\xb2\\xac\\xa4\\x84\\x90\\x03\\x9cw\\x87\\r\\x08\\x98\\x81\\x81\\x88(\\x99\\x13\\xd8\\x00\\xa9\\x110;\\xd9\\x01\\x192\\x9c\\x82\\xd8B\\x89\\xab\\x04\\xa3\\x1eH9\\xa1\\xba\\xf5 \\x80\\x81\\x99\\xb4\\x91\\x10\\x91\\x00\\x85\\xab\\xa4\\x8e1M\\xa2<\\x9b\\x04\\x12\\x8aw\\xc7\\x88\\x80\\x88\\x80\\x08\\x81\\x88 \\x91\\x08\\xab*4\\x0e\\x90\\x08\\t\\xc0\\x85\\x0b#\\n\\xa3\\n\\x99\\xc3\\x07\\x1e\\x00\\x10\\x89y\\xc1\\x92\\xa1\\xa0!\\xb0\\tQ0\\x0e\\x98E\\x83\\x81\\x9c\\x9d\\x19\\x88\\x80\\x85. w\\xab\\x18\\xa0\\x18\\x88\\x81\\x98\\x93\\x1a \\x81\\xd9\\x02(\\xb9\\xaa\\xd5!\\x90\\x10\\x9d\\x82\\x11P\\x9e(\\x85\\x00\\xaa\\x91\\x91\\x04\\xba\\x07\\x9c\\xa4\\x11\\xa9\\x93@\\xd8\\x911\\x8c\\x8bx\\x10\\xb0\\x89\\x00T\\xcaP\\x98r\\xa7H\\x99\\xb1\\x8b\\x80\\x19\\x80\\x10\\x08\\xc2\\xb0\\x10(\\xaa\\x19\\xb2\\x16\\x83\\xf1\\x99\\xb3\\x13\\x89\\xe2\\x00Zt\\xaa\\x00\\xa0\\x19\\xc1 0\\xc9\\x92+3\\xdd\\x05\\x1b\\x88:0\\xf1\\x08(2\\xeb\\x81\\x88$7\\xb1\\n\\x9e\\x888\\x0b@\\xc9\\x12\\r9\\xa1:[)\\xf1\\x00\\x02\\xca\\x97\\x19\\x08\\x82\\xa8\\x91\\x18\\x02\\xaa\\x8d\\x983\\x1b\\x87\\t.\\xa1\"\\x8a\\x83\\xe80I\\x1b,\\x9b*\\'\\x8aA\\xd3\\x19\\xaa\\xd4\\x11\\x83\\xb0pG\\x8f\\x08\\x88\\x80\\x81\\x08\\x00\\x98\\x98\",\\xa1\\x91:L\\x18\\x89\\xb1\\x18\\xabww \\xe0\\x0b\\x80\\x80\\x80\\x90\\x00\\x08\\x90\\x11\\x89\\x90\\x92\\n\\x95:\\xc0\\x93\\x9a\\x07\\n*\\x11\\xc9\\x18\\xb1h\\x98\\x18Q\\x89u\\xf4\\x88\\x08\\x08\\x80\\x00*\\x08\\x08\\xb8\\x83\\x92\\x18\\xf8\\x93\\x92H\\x80\\xab!\\xf1*\\x81\\x80&\\xc9\\x90\";\\xe0)\\x89\\x84\\xa9>\\x01\\x99S\\xb13\\xdc9\\x0b\\x84\\xabR,\\x19\\x19\\xb1k\\xaa\\x19;qW\\x0e\\x80\\x08\\x08\\x80\\x89\\x00\\x91\\x00\\x81\\xa0L\\tr\\x80\\xb0sw\\xbb\\x80\\x00\\x08\\x89\\x08\\x00\\x18\\x80\\xa9\\x10W\\x00\\xa8\\x8c\\x80\\x08)*\\x99\\x08\\x0b\\xa3@.K\\xa8\\x80[8\\x9a\\xa2\\x81\\x00*\\xac\\'\\xb0\\x8c\\x12\\x04\\x0e\"\\xab*\\x96\\xa1\\x98\\x13\\x1f\\xa1\"-\\t\\xb2\\x8a\\x10\"\\x0f\\xf3\\x80\\x82\"\\x08c\\x9c2\\x1e\\x98\\x9c\\x82\\x84\\x90\\x90\\x1a\\x08\\x10\\xa6\\x8b\\t\\xc5h\\x00*\\xc0\\x02[\\x98\\x80\\x83\\x1c\\xb5w\\x9b\\x88\\x80\\x88\\x81\\x18\\x08\\x80\\n\\x00)\\x80\\x9eP\\xb3I\\x89\\xcaX\\x90:\\xa8\\xa3(\\xc0\\x02d\\x97\\x89K\\xb0\\x88\\xa18\\xdaH)\\x9c2\\xa0\\x8a\\x00u\\x17\\x0e\\x88\\x08\\x91\\x08\\x98\\x18\\x82+\\x80w\\xb6\\x0b\\x08\\x88\\x81\\x90\\x80\\x88\\x01\\t \\xb8;+\\x07\\x88\\xa0\\x1a\\xb3\\x86\\x89\\x06\\xa9\\x81\\xc3\\x19\\x91q\\xb7\\x98\\n \\xd2\\x08\\xa1Q\\xa8{\\'\\x8f\\x81\\x88\\x00\\t\\x80\\x01\\x19\\x8a\\x11\\x98\\x91\\x00\\x89(\\x9aw\\xe0\\x08\\x88\\x81\\x10\\x00;\\x90\\xa2\\x17\\x8e\\x90\\x80\\x01\\x99\\x95\\x19\\x81\\xa88;\\xa8\\x03\\x9f\\x87\\x99!\"\\x8f\\xb1\\x80\\x92a\\x8c\\x10\\xa2*\\x80\\xd3\\x19 \\xd0\\x1bA\\x0br\\x9bX\\x99\\x81:\\x1a\\x9asP\\x97\\x8d\\x88\\x01\\x08\\x81\\x9a\\x82\\x08\\x84\\x18\\x18\\xb09\\xbdA\\xb1\\xf0!\\xb0\\x01\\x1f\\x00\\x17\\xa9\\xa0t\\x17\\x0f\\x80\\x88\\x80\\x08\\x08\\x80\\x08\\x18\\x98\\x00\\t\\x82\\xc8\\x11\\x8a\\xa3\\xa2$\\x8c ;\\xb2K\\x019 w\\xc7\\x88\\x88\\x80\\x98\\x12\\x8b\\x10\\x01\\x98L\\xe0\\x93\\xa1!\\x99u\\xe1\\x08\\x18\\t\\x8a\\x01\\x18\\ni\\x08x\\x99\\xa8\\x88\\x12\\x98\\x80:\\x9d\\x15\\x9a#\\x1b\\x0c\\x90\\x95\\xfaC\\xb8 \\xbbw\\x8b\\x80\\x00\\x98\\x10\\x988\\x01\\xd1\\x01\\xaa\\x05\\xa8,\\x00\\xa2\\x18!\\x0f:\\xb1\\x10\\x19\\x98\\x93!\\xa8\\xfay9\\xd3\\x81\\t-\\x86:\\xd9\\x88\\x12\\xba\\x04\\xc9\\x14I8\\xd7\\n\\x00\\x00\\t\\x81\\n\\x08\\x11P\\n\\xa8\\t$\\x88\\x15w\\x97\\x8c\\x00\\x99\\x00\\x89\\x10\\x18\\x88\\x80\\x98\\x80Q\\xa8\\x1b\\x94#\\x8f7g\\xbb\\x88\\x00\\x88\\x08\\x88\\x100\\xb9\\x88\\x81\\x18+\\x8a\\x90:)\\x94\\xea\\x1b$\\x8f1\\xa9\\x14)\\t\\xcbb\\xa0\\x18\\xa9\\xb3P\\x19g\\x9c\\x88\\x92\\x08\\x80\\x80(\\x1d\\x01\\xe3\\x98\\x19\\x85\\x0c\\x01\\xa0\\x13\\x0f\\x10\\x8ay\\x80\\x98\\x10\\x90\\x8a\\x11\\x8cZ1\\xab\\xa8\\x17\\x88J\\xb8+|\\x89\\x83\\t\\x98\\xa1\\xb2C\\xd1\\xa0\\x89$\\x1b2\\x8f\\xb0\\x128\\xa7\\x0e\\x08\\x00\\x82\\x88\\xf2\\x92\\x18\\xc3\\x88\\x11\\t\\x01\\xab\\xdaz\\x00\\x02\\xabz\\x81\\x00[\\x8c\\x12\\xaaA\\xa1\\xb1\\x82\\x1c\\x18\\xfb\\x02J\\x0b\\x16\\xb8\\x92z\\xa2(\\x9a\\x99:(\\xbe\\'\\xb9\\x00\\x81\\xc2y\\xc7\\x08\\x88\\x00\\t\\x82\\x99\\x12\"\\xf0\\x1a\\x008\\xb8\\x08\\x98\\xd0\\x96\\x9aC\\x19\\x99\\x02\\x08\\xa9;\\x13\\x8f-G\\xab(\\xb8a\\x80\\xa9\\x90!\\xbc\\x86\\x98\\x10\\x90\\t\\x90:\\xf2\\xa0e\\x12\\xc1\\x0e\\x19\\x80\\x10\\tx\\'\\x8e\\x08\\x08\\x88\\x00\\x18\\t\\x98\\x08\\x02\\xa9:j\\t\\x89\\x99\\x82\\x18\\xa4\\xa2K{\\xa1\\x039\\xbbH\\xa7\\x1f\\x08\\x01\\x00\\xb2\\x89\\x90)\\xd0\\xb0\\x01\\x1d\\x85*\\xb1 \\x1c3\\xf3\\x08\\xb2\\x8c\\x048\\xb8\\x196w\\xd7\\x88\\x08\\x80\\x80\\x80\\x80\\x90\\x80\\x01\\x18\\x8a\\xa3)\\t\\xa1\\x91\\xa4\\xd3.\\x18!\\x1b\\xc28\\x9c@\\xa3\\x1b8\\x0f\\x8a\\x07\\xa8\\xd3\\x01\\x919\\xf2\\x81\\x80\\x19Q\\x90\\x8b\\x90\\x91\\x13\\xf0\\x89A\\xd18 w\\xab\\x88\\x81\\x88\\x00\\x89\\x90\\x02\\x89\\x91c\\x8e)I\\xc2)\\x91(-\\x18\\xb8\\x16\\x91\\x9c\\x11\\x98j\\xb8\\xa9\\x05\\x08\\xa2\\x82\\x0c\\x18\\xd8\\x96W\\x9c\\x18\\x90\\x90\\x08\\x11\\x08\\x1a\\xb2\\x1d\\x85\\xa0)\\x99*\\x11s\\x97\\x1c\\x89c\\x8c\\x08\\x19\\x80#\\xa0\\x99\\x9c\\xa3\\x18\\xa4\\x88?\\x08\\x98\\x10\\x01\\x08\\xd4\\x88\\xb8\\x15\\x1c;\\x00\\xf2\\x00 \\xb9\\x1a\\x95\\x11?\\x99\\x13\\x19\\x0c\\x05\\x8b\\n:|\\x8a\\x18\\x19X\\x98\\t\\x08{\\x88w\\xb9\\x80\\x80\\x89\\x18\\x81\\x99\\x12\\xb3)\\x9a\\x95\\x82\\x96\\x0eq\\xd6\\x08\\x08\\x08\\x08\\x88\\x80\\x10\\x88\\x90\\x00\\x12\\xa9\\x8c\\x8a\\x05\\x00\\x98\\xa2\\xea\\x84\\x18\\x93\\x1e\\x01\\x98\\x00\\x99\\x81\\xa3\\xd2\\xa1\\x97\\xa2\\xb2\\x83\\x15\\x9atw\\x8c\\x88\\x08\\t\\x91\\x81\\x19\\x18\\x8a\\x02\\x1a\\x18)\\x0f\\x01\\x19\\x89 \\x0f#\\x88\\x1b\\xb4;-(\\x03\\xbb\\x8b@y\\xc1\\x18\\x1a:\\xba8?\\x94\\x10\\xdb\\x03\\x8a\\x12\\x01#\\xad\\x19\\xf88\\x98\\'\\x0e\\x10w\\xe2\\x88\\x08\\x08\\x80\\x90\\x00\\x80\\x98K\\x00\\t\\x80\\xa09\\x91\\xc2\\x90\\x11\\xa8\\x8c\\x87:;\\x19/\\x00\\x08\\xb8\\x0bq\\x89Y,\\xa0<!\\x11\\xb8\\xb3\\xc0\\xb8\\x1f\\xa6\\x90\\x18\\x85-\\x88\\x18\\xa0\\xa1A\\x9eE\\'\\x8e\\x88\\x08\\x88\\x81\\x80(\\x88\\xa6\\t\\t\\x10\\x89\\x89)\\t)R\\xdd\\x12\\x88\\x80\\x19\\x14\\x8c;\\x95\\t\\xd1J\\x80\\x81\\x0b\\xa2\\x00!\\xe4\\xaa\\x04\\x19\\x94\\xb9X\\xe2\\x00 \\x9c\\x83\\x99\\x18\\x92\\x99\\x10\\x96p\\x97\\x8a\\x1a\\xb8C\\xc1\\x08;w\\xf4\\x88\\x00\\x80\\x80\\t\\x00\\x88\\x90\\x10\\x10\\t\\xc0\\x00\\x81\\xb8\\x18q\\xe0\\x18\\x08\\x92*:\\x00\\xc9\\\\\\x90*i\\x99\\xb4\\xa0(\\x82\\t\\xf0\\x01\\xa2\\xba\\x16\\x08\\xa9\\x00\\x19rw\\xaa\\t\\x80\\x88\\x89\\x02\\x80\\x919\\xa0S\\xfb(\\xb1\\x89\\x08\\x11\\xb0\\x18\\xf38\\xa2\\xe9H\\x91\\t\\n\\xa7\\x1a\\x08\\x91\\x98z\\xa1\\x19\\xa0\\x92\\x00\\xf8\\x94)\\x00\\xd8\\xa0\\x94\\x1aH\\x10\\xa8\\x10\\xf8\\x10\\xc9x)\\xa7\\x8b\\x11\\xa0<\\xa8)\\x05\\n\\xaa\\x15\\xa9\\x11\\x19\\n\\x01\\x18\\x0f\\x9b*2\\xd2z\\xab\\x03\\x1b\\x18x\\xc0\\xa1(\\x98\\x06\\x0c\\xc0\\x80\\tD\\xc9 \\x0b\\x00(\\x03\\xaf\\x00\\x11\\xb1\\x92\\xaf\\x04\\xc1\\x12\\xab\\x14\\x8a\\xa0\\x90\\x94X\\xf0\\x18\\xa9\\x10\\x11\\x0f\\x12\\xb8{a\\xca\\x80\\x80\\x11\\x99\\xa1\\x999\\x95\\x901\\xf9Iw\\x9b\\x08\\xa1\\x19\\t\\x88\\x82\\x890\\x9a(\\x01+\\x13\\xac\\xc3\\xc5\\x1a\\xb8\\xe1\\x02\\x11\\x98\\t\\xc3X\\xf0\\x08\\x01(\\x88\\n\\xc2\\x1c\\x18\\x0b\\x04\\x0f\\xb8\\x15<\\x98J\\x8a\\x11\\xd5\\xa1\\x81\\n\\x82;\\xa2\\x9b\\xe8\\x81\\xc005\\x8d\\xc2(\\xa1!\\xbc\\x01\\xd01?\\xaa\\xa3\\xcaH\\x07\\x0c\\x00\\x98\\x01\\x08\\x8a\\x10!w\\x0f\\x90\\x00\\x80\\x08\\x19\\x88(\\x1a\\x00\\xa9\\x08p\\xe5\\xa8\\x02\\x98\\x92\\x80!\\x1e\\x00\\x01\\xa9\\x89\\x1f\\x02\\x08(\\x9d\\xb2\\xd1\\x93\\x0b\\x04\\x81J\\xd3\\xa1*\\x1d\\x88I*\\x10\\xc2;\\xf6\\x00\\x18\\xb0\\x84Zz\\xb7\\x89\\x18\\t\\x88\\x81\\x00\\t\\x88\\x81\\x8c\\x10\\xb4\\x08\\x82\\x0b\\x12\\xa0\\xf0\\x02\\xd0\\xa3\\xa3>\\x88 \\xe0\\x87\\x89\\x08(\\xdb\\x95\\x10\\xa1\\xb1\\x91\\x1a\\x00\\x01:h\\x8c\\x9ap\\xb9A\\x81\\x88\\x1d>\\x80\\x18\\xb8\\x92X\\xd0\\x02\\x82\\x0b\\xa4I*\\xa9\\x90\\r8\\x9a@<\\xa6\\x1a\\x82\\xd6\\x80\\x00\\x900\\xa9`\\x8aL\\x81)\\n9\\x89\\xf2 \\xaa\\xc6\\x000\\x8b*\\x1a\\x83\\x82[\\xa8\\xbc%1\\xad\\xc0\\x07\\xa8\\x983\\x9c(\\xd3+p\\xa8\\x01*\\x01\\xfa!\\xb1\\x80\\x99\\xa0s9\\xf3\\t\\x03\\x98\\x008\\xc9\\x99\\x12\\x1e\\x19(\\xf3L\\x91(\\x18\\xa8\\xb3\\xe0\\x00\\x02\\xb9\\x87\\xa0\\x01\\x19\\x01\\x92\\xc5\\x0f\\x12\\x81\\x0eI\\x89\\xa1\\x19\\x93\\x82!\\x0b\\xf10J;\\x9c\\x15\\x8e\\x10\\x08\\x18\\x1a\\x01\\x0bx\\n\\x92\\x8e0\\x89\\x02k\\x9bz\\xa2\\x9a\\x10\\xa21\\xbc#\\xc2\\xd1Q\\xb9Z0\\x9c\\x01\\x01\\x90\\x8b\\x87-\\xa8\\x01\\x01\\x92\\x998\\xfa\\x12\\xb3;\\x01+\\x9f\\x04\\x8a\\xb2\\x07\\r\\x80\\x800\\xa0l\\xc0)\\xb0\\x170G\\xca\\x11*\\x85\\xba3\\xb2K`\\xb2\\x00\\xc9 \\x01\\xfc\\n\\x12\\x9d\\x80\\x08\\x88\\x18\\x08*\\x92\\t\\x11\\xb0 \\x1f\\xd0\\x11\\x8a\\x94\\x81\\x00\\xc0!\\n\\xe1$\\x9c',\n",
       " b'\\x01\\xff\\xff\\xff\\xff\\x0e\\x08\\x08\\x08\\x08\\x08\\x08\\x88\\x80\\x80\\x00\\x08\\x80\\x08\\x00\\t\\x18\\x90\\x89)\\x82\\xb9)\\x82\\xb9\\x06\\x00\\x01\\x9et\\'\\x80\\xca\\x0c\\x00\\x92\\x10\\x8c\\x88\\x92\\x00\\x90\\x00\\x1a\\x08/\\x91\\x90\\x12,\\xb11\\xb8\\x89\\x93\\x00\\x8b\\xcf\\'\\x90\\x8b1}w\\x00\\xa8\\x8d\\x80\\x08\\x08\\x90\\x80\\x81\\x08\\x08\\x08\\x00\\x80\\x88qw\\x08\\xc8\\n\\x08\\x90\\x80\\x00\\x08\\x18\\x9b\\x11\\xa3\\x1b\\xa11\\\\\\x08\\x18\\x1c\\x9b\\x00Y\\x11:/\\xa8\\x86\\x02\\x8c\\x85\\x8a\\xb1\\x95\\x02\\xd9\\x1a\\x11\\xa8 :\\xfbA\\x1a\\x08\\xb2\\xb0\\xa1\\t\\x97\\xa4\\x8a\\xe2\\x118\\x18)\\x8e!\\xca\\x18(<\\x01\\xf5)\\xa1\\x11!\\xab\\tw\\x05\\xe9\\x88\\x80\\x91\\x81\\x91\\x89(\\xa1)\\x88\\x8a&G\\xa3\\r8\\xb4\\x08J\\xe9\\x91*A\\xa2.\\x82\\x98\\xa9\\x14\\xab\\x9c\\x80(\\xa8\\x00\\x10\\x0c1\\x0c\\xb5\\x18H\\xa9\\x98*\\x84\\x0ch\\x9b\\xa3\\x00\\xa2\\xa1\\x10\\xf1#\\x80\\xc8\\x01\\x1d?\\x80\\x89\\x18\\x88a\\x8bh\\x86\\x9a\\x08\\x19\\x88\\x92\\r\\x81\\x06\\x9a\\x11\\x8e!\\x10\\t:\\xd0L\\x8a\\x12\\xc4\\x19\\x88\\x19\\x94\\x08\\x99\\x05\\x0c!@\\xd0\\xb9\\x01\\x11$\\xbbP,\\t\\xa6\\x88Y\\xb8\\x83m\\x88\\t\\x98\\x928pw\\x0e\\x08\\x08\\x08\\x00\\t\\x08\\x19\\x80\\x00\\x80\\x19\\x81Z\\x00\\x0c\\t2\\xe8\\x00\\x91\\x01\\xa8\\xb2\\xa3\\xd03\\xba\\x04z\\xa21\\x80\\xb5\\xb9\\xa13\\x9a\\x84\\xaf\\xa3{\\xa3:\\xb2\\x80w\\xa39\\x11\\x00\\xb8\\x85 \\xa6\\xe1\\x00\\xc1\\xab\\x19\\x08\\x00\\x19\\x91\\x81\\xb3\\x01\\x08\\x97\\xd9\\x14\\x89\\x03\\x1e\\x82\\x9a\\x84\\x89\\x86\\xa7\\x0b\\x81\\x81\\x1a\\x10\\x000\\x0f\\x11j\\x07\\x0e\\x81\\t\\x90\\x01\\x08\\x18\\x899\\x01\\xab \\xea\\x04\\x11\\x99\\xa5)\\xbad\\n\\x93\\x00\\x1f\\xa3\\x80\\xb1Z\\x00\\xb8\\x97\\x80\\x18\\x92\\xd1\\t\\x03\\xa59\\x99K\\x91\\x17\\x19\\xba\\x18Y+\\x93\\xb3\\n\\x1c\\x87k\\x188\"\\xfa\\x99\\x98Q\\x91\\x0c\\x12\\x19\\xb8\\x94\\xb2\\xc4\\x19\\xe3\\x13+\\x1b\\n\\x11\\xa8\\x16\\x1bH\\xa2\\x8b/\\x85\\xc2;1\\xadA\\x91\\xb1\"\\x0f\\x98B\\x98\\x81\\x928w\\r\\x08\\xa1\\x80\\x80\\x10\\n\\x88\\xc3 \\x83\\x0e\\x08\\x94\\x91)\\xc2l\\x00\\x80\\xb0\\x10\\x08\\t\\x1d\\xb2{\\x00\\x02\\xb9\\x10\\x98\\xc60\\x00\\x1c!\\x9b\\x87J\\x19\\xa0+$E\\xc0\\x98\\xc8\\x1a\\xa1\\xa2\\xb5\\xa9C(X\\xb0\\xaa0\\x90I\\xa2\\x84\\x92Z_\\x91\\xb8;\\x929A/1\\x9d\\xa0\\xc4\\x11\\xa1 \\x11\\xad\\x80p\\x90\\x11\\xe1\\n\\x11\\x02\\x9a()1\\xfe \\xa2\\x00\\x98h\\x90\\t\\x84?\\x00\\x8b8\\x13 \\xacw\\xba\\x91\\x08\\x92\\xa9\\x18\\x10\\x818\\x8e\"\\x82:m\\x99\\t\"+\\xbc\\x04{\\n\\x98\\x14\\x89\\x98\\x9ac\\xa9:\\xb2B\\x99|\\x91\\x12 \\xbc\\xc8i\\n\\x00\\xe3\\t\\x01\\x11\\x99!\\xbf\\x96\\x80\\x81((q\\x97\\x8c\\x90\\x00\\x00\\t\\x82\\xc89\\t\\xb1\\x14\\x83C\\xb8\\xdc\\x08\\x90K\\x89\\x02\\x94\\x0c\\x11\\xa4\\x900j\\xcc\\x04\\xa0\\x82\\x98:\\x07\\xa8)\\xad\\x04\\xb0\\x82\\x99!\\x10\\xe1\\x1a\\x04\\x9a\\x90\\xa6\\xa2\\xa3\\xba`\\x01\\xe2\\xc8\\x04\\x90\\x82\\xa3\\x81\\xbax\\xc2\\x8a\\x00b\\x89\\x89\\n\\x82\\xd4\\tw\\x9a\\t\\x18\\x190w\\x91\\x90\\x8c\\t\\x89\\x08\\x08\\t\\x91\\x02\\x98\\x99\\x15\\x9c\\x912\\x92\\x1e\\x01\\x8b\\x93\\x92\\x89>\\xb0P\\xc2I\\xc9\\x01\\xa1\\x03-\\x99\\xf1\"\\xc0\\x01\\x91\\t\\x884\\xab\\xf8\\x85\\t\\x00)\\xc5\\t\\x98I\\xd3\\x80\\x01\\xb2s7\\xd8\\n\\x19\\t\\x18\\xa8*\\x11\\xb0h\\xb8Qk\\x8a\\x18\\x08\\x81\\xabH\\x19E\\xba\\r\\x92\\xa1A\\x9ax\\xc1\\x88\\x900\\x8a\\x01\\xa2-\\x89[\\xb1!\\xccs\\xb8\\x00\\x01\\x13\\x10\\x0b\\xf0\\x81\\xba\\xa6\\xa3K*\\xb0A\\x80\\xf2*\\xb8;9\\'\\x1a\\xa4\\xabJ;\\x8b\\x1a\\x11{\\x19$\\x0b\\xa8L\\x96\\x1d\\x00\\x18\\x08G{\\xe2\\t\\x88\\x18\\x08\\xa0\\x01\\x08\\x01\\x98\\x19\\x99\\x96\\x08\\x89(\\x88P\\x8b\\xb2\\x16\\x1d\\x89:\\x88X\\x07\\x0c\\x98\\x91\\x88\\x11\\x90\\xa2Y\\x8f\\x10\\x90\\xa8!@\\xaa8\\xa8\\xb1X\\xc1s\\x8d\\x12\\x9aI\\xb2q\\xc6\\t\\x80\\x01\\x80\\xc0\\x00\\x88\\x08\\x87\\xa0\\t\\xa1\\x81\\x1b\\x01\\x9c3)\\x90\\x82\\xed\\x95)\\xb2\\xa8\\x14\\x9b;\\x12\\x8d\\x91Z\\x830\\xc9\\xc8Q\\t\\x97\\x8b\\x1c\\x08\\x80A\\xc9p\\x90\\x00\\xc8\\x80\\x91Q\\xb9@[\\x0b\\x19\\xa2\\xa1\\xc3\"\\xf9\\x10\\x180\\xd3\\xb8\\xb3=\\xb0:\\x11\\xc4!\\x99\\xd9\\x87\\x99\\x82\\x06\\x9a1\\x17\\x0f\\x08\\t\\x00\\x08\\x10\\x0bq\\xa7\\x9a\\x00\\t\\x00\\x98\\x00)\\xa1\\x08\\x88\\xa1\\x05\\xa3\\x9a\\xd68+q\\x17\\x8e\\x80\\x88\\x00\\x88\\x00\\x19\\x00\\x1a\\x03\\xc2\\xa49\\x8c\\t\\x0b\\x87\\xba\\x91#\\x88\\x0c\\x11 /s\\xd7\\x80x\\xb0\\x88\\x80\\x08\\x80\\x08\\x08\\t\\x81@\\x98\\x89\\x80\\x80\\xb2*\\xf83\\xa0\\xa8\\xa4\\x80\\xd2\\x18\\x99\\xa2\\x02S\\xad\\x80\\x12\\xd4\\x11+\\xa5\\xd9\\x19$\\t,\\x08\\xb9\\xc4\\x01\\x81R\\xe2\\x9a\\x82h\\xb0\\x91@y\\xbb!\\x00\\x8a\\xab\\x05\\xa3\\x0b\\xa4:y\\xb3\\x88\\x1d\\xa1H\\xc0\\x93s\\xb0\\x9a\\x80\\xc9C\\xa8\\x19aW\\x9d\\x81\\x08\\x1a\\x90\\x08\\x80\\x92\\x02\\x8a\\x89\\x19\\x13\\xf89\\x93\\xa9\\x12\\x96\\xc0*\\x95\\xd9!+Y2\\xf3)\\x1b\\xa1:\\xb8\\xa3\\xaa!\\n\\x15\\xc3\\xab\\x86/ \\x99\\x11\\xa1\\x1e\\xaa\"\\x88I9\\xf9X\\x00\\x9a0\\\\\\n\\x90\\x11\\x88\\xb0<\\x97\\x0b\\x11\\x89\\xe3\\x81\\x92\\xa9\\x87\\xc0\\x10\\x89X\\x10\\x1a()\\x0f*\\t\\x94P\\x9b8\\xac\\x85\\t\\xb4\\x1a\\x06\\x8a\\xa8\\x82\\xa2\\xa8{\\xb2\\x0bp\\x08\\x1a\\x88\\xd2!\\x1f\\x02w\\xb9\\t\\x88\\x00\\x88\\x10\\x89\\x12\\xb8\\x01\\x98\\x11\\xcd\\x97\\x80\\x81 \\x9a\\t\\xd4(\\x88\\x03-\\xd3(\\x98C\\xbd\\x19\\x81\\x82M\\x82 \\xb1\\x88\\x1f\\x88\\xa2\\x08`\\xb9\\x80\\x1a\\x97\\x01\\x1a\\xb8\\x18\\x96\\x1cA\\xacq\\x97\\x8a\\x88\\x08\\x18\\x90\\x88\\x01\\x92\\x89\\x91J\\xa1\\x8e\\xa4\\x13\\x8c\\x91a\\x90\\x83\\x89\\xa7\\r\\x01\\x89)Q\\xc0\\x12\\xaa\\n\\x11\\xc0=\\xa9\\x10\\x1a\\x12r\\xd2\\xa2\\x1a\\t\\x11\\xd8)\\x89\\xa78\\x8c\\x02/)!w\\xf1\\x88\\x91\\x00\\x90\\x08\\x80\\x00\\x00\\x89\\x90\\x10\\x00y\\x07\\x03\\x03\\x8a)5w\\xc8\\x99\\x00\\n\\x01\\xb9\\t\\x99\\x00\\x80\\x19\\x00p\\x17\\x8e\\x80\\x08\\x08\\x80\\x90\\x80\\x18\\xa3\\x89\\xa1(I:\\x89+\\xa1\\x13\\x99uw\\x8c\\x08\\x80\\x10\\x98u\\x04#\\xa8x\\xa4\\xbb\\t\\x04\\xda\\x8a\\x08\\x80\\x88\\x80\\x80\\x88\\x18\\x98\\x18\\xc0\\x02\\x90\\x07\\x1c\\x08\\x08p\\xd7\\x08\\x80\\x07\\x99\\x89\\x88\\x00\\x08\\x08\\x80\\x08\\x88\"\\x0c\\x08\\x91\\x90\\n \\x10t\\xc7\\x89\\x00\\x90\\x10\\xc3\\x88\\x00\\x98\\x808\\xb9!\\x89\\x89\\x87\\x81\\xd9 \\x04\\x01\\xe37\\xaaP*\\x1aw\\xb5\\x9b\\x00\\x84\\x1b\\x98\\x19\\t\\xa1\\n\\x88\\x08\\x00\\x90\\x08\\x12;\\x1a\\xa7\\x02\\x98\\xa7u\\x86R\\xb1{\\x92\\r\\x01\\x9a\\x88\\x9a\\x80\\x918\\x07\\x8d\\x00\\ta\\xa8\\x8a\\x80\\x08\\x80\\x08\\x80\\x08\\x81\\x08\\x19\\x8a\\x00\\x82\\xa5\\xab\\x849,\\xb2\\x98sw\\xe1\\x08\\x08\\x08\\x88\\x00\\x08\\x08b\\x04\\x1c\\x13d\\x83\\xad\\x89\\x8b\\x02\\xb9\\xa0\\x88\\x80\\x19\\x90:\\n(\\x99\\x82\\x1d\\x18\\xa1\\x0c\\xa6\\x08\\x82-\\t\\x11:\\xb02\\xbf\\x83\\xa7\\xb0x\\xd3\\x88\\x18\\x91)\\x93\\r\\x88\\x83\\x90\\x08)B\\xd7\\xa8\\x10p\\x078*s\\xa1\\x9c\\xa0\\x01\\xda\\x08%\\x9b\\x8a\\x08\\x00\\x89\\x90\\x18\\x997\\x8e\\x10\\x88\\x18\\x08\\x98\\xb1\\x00\\x10q\\x99\\xa8\\x02\\xa7\\x1c\\x81(\\xa3\\tuw\\x9c\\x08\\x80\\x80\\x80\\x08\\x80\\x88\\x80\\x80\\x80\\x91@\\xc0\\x80\\x08\\xa3\\x08*\\xb1\\x05\\x98\\x10\\x18pW\\x8e\\x00\\x08\\x08\\x18\\x08\\x91\\x01\\x00r\\x99\\x01!yg\\x00\\x88\\xc0G\\xb8\\x89\\x80\\x00\\x99\\x8d\\x08\\x98\\x80\\x90\\x90\\x00\\x19\\x00;y\\x07l\\xa0\\x0b\\x88\\x00\\'\\xda\\x80\\x08\\x08\\x08\\x08\\x00\\x88S\\xca\\x08\\x88A\\xa9 \\xaa\\x00\\x01\\xa8\\x18\\x89\\x89v\\x87\\x8d \\xa8\\x90\\x800\\x81\\x8c\\x08\\x19\\x88\\x00\\xb2\\x11H\\tt\\x9d\\x81\\xa0\\x88\\x92\"\\xaa\\x02\\x0b(\\xd1Y\\x98\\x8b \\xb4LR\\xaa\\xa0)\\x83\\n\\xad\\x04\\xbcs\\x80\\x99I\\x0b\\x00:\\t\\x95\\xa7\\x88\\x88\\x99\\x86\\x08(\\xf29\\xb1\\x00*\\xa0[\\x8a\\x11\\x86\\x99\\xe2\\x93\\xb4\\x19\\x1a\\x10\\x89\\x88\\x14\\x8fH\\xba\\x13qw\\xa9\\n\\x08\\x88\\x80\\x80\\x10\\t\\x90(\\xa2\\x18\\xba\\xd8w\\xb7\\x89s\\x01\\x90\\xc9\\x0c\\x80\\x80\\x08\\x00\\x08\\x08\\x80\\x89\\x02\\x9a\\x00\\xb2Y\\x08\\x9b\\x11\\xb1(\\xb1\\x11~\\xb1\\x00\\xa1\\xa0\\x08\\x997*\\x9a\\x9c\\x8aT\\xc8)\\xa1\\x18\\xe8q\\xa3\\xa9A\\x8b*:tr7\\x10\\x9a\\x90\\x84*\\xd1\\x11;\\xb1\\x00\\x1d\\xa0\\xb2\\x17\\x19\\x92\\xaa\\xdf\\x8b\\x88\\x80\\x80\\x08\\x80\\x81\\xa9\\x80!\\x07\\r\\x01\\x00\\xa9\\x18\\xb1;\\xa1.\\x02\\x90\\x00\\x1c\\x84\\x98,I\\xbc\\x12(\\xc0\\x00P\\xf1(\\x19\\x81\\xa7\\x89\\xb8\\x11\\x13\\x90\\xc9K[\\x18*\\x9a3\\x0c*\\x04r\\x85\\xc9\\x89 \\x8a\\x95\\t\\xd1!w\\xba\\x80\\x08\\x08\\x08\\x91J\\xa8)Kr\\xbb!\\x88\\x90:\\x8b\\x13\\xb0\\xdb%!\\x9a\\x05\\xa3\\x9c\\xf1\\x91s\\xd7\\x80\\x00\\t\\x08\\x08\\x08\\x00\\xabB\\x0b*\\x82\\xb2\\x809\\xc80\\xd7\\x11\\n\\x83\\x98\\\\\\xa29\\xa0\\x1a\\x8f\\x84\\x1a\\x00$\\xdaJ\\x98\\x1c\\x81@\\xb0i\\x99\\xb0\"\\xf8\\x913\\xda\\x12q\\xf3\\t\\x80\\x90\\x01\\x92\\x8b\"\\x0b\\x02\\xcb(\\x92@G\\xa8\\x8a\\xb9w\\x07\\xb8\\x8b\\x00\\x88\\x08\\x91\\x00\\t\\x88\\x18\\xb1Hw\\x81\\xaa\\x8b\\x08\\x91\\x08\\x19\\x901\\xf0\\x18\\x12\\x0b\\xc9((\\xb1\\x81T;\\x9c\\x05\\x0bA\\x9e\\xa3\\x10p\\xc7\\x88\\x08\\x00\\x98\\x81\\x08\\x80 \\x99*\\x88\\x07\\xc81\\r\\x80\\xa8\\x82\\x81H\\x9b\\x80\\x16\\x01\\x9c\\x11\\x01\\x8d\\xf1\\x10\\x93\\x08\\x81\\x90\\x90(\\x1f\\x80\\xcb\\x85\\xa3\\xb19\\x12\\xa8 \\x93\\xff\\xa1\\x10\\xa3P\\xa2w\\x06\\x8e\\x08\\x08\\x88\\x18\\x88\\x91\\x10\\x89\\x88\\x10\\x80\\xb3\\xb8C\\x0c\\xb3<0\\x8a\\x10\\xba\\x96)Z\\xa2N\\xa5\\n\\x19+\\x10\\t.\\xd1\\x88\\x14\\x10\\x1d\\x19\\x8b\\x12\\x0c\\x81*?\\x81\\x01\\xc9(\\x02\\x05\\x8b\\xc9s\\xd2\\x88\\xa1!\\x02\\x8b\\x99\\x8b{G\\xd8\\x98\\x80\\x00\\x18\\x00\\x08:\\x00\\x94>\\xcaT\\xc81\\xb1\\x19*\\xc02\\x0c\\xd33\\xaf\\x80\\x08\\x19\\xb8\"\\xa8\\x96*(\\x99D\\xa9\\xa2\\xc9\\x80\\xa5\\x9a2\\x96\\x0c$\\xa9\\x9c\\x11*\\xc0\\x88b\\x1b\\xa0 1y\\xf3\\x89\\x18\\x90\\x80\\x80\\xb1<\\xa6\\t\\xa0\\xa3\\xb2\\x16+\\xcaW\\x8c\\x82\\x98\\x90\\x00\\x18\\xb1X\\xd0\\x80A\\xc8(\\xb1X\\x9a\\x1a3\\xdc\\x92\\x830\\x99\\x8a\\x8apq\\x07\\r\\x88\\x88\\x08\\x08\\x81\\x81\\x0b!\\x1d\\t\\x80\\xa0w\\x91\\xa9@\\x10\\xd8\\x8b(\\x91\\xb2\\x99s\\x05\\xab\\xb1\\xa0\\x92(\\x19\\xca\\x95\\xf3\\x84\\x08\\x02qw\\x02\\x90\\xfa\\t\\x88\\x08\\x80\\x80\\x80\\x08\\x88\\x00\\t\\x00s\\xe1\\x88\\x92\\t\\x80\\x08\\x88\\x00\\x00\\x1a\\x89\"\\xb9\\x10\"\\x8cc\\xa9\\x18\\xf4\\x82\\x1b*\\xc1\\x903N(\\r\\x82\\xb1\\x9a!\\xa7\\x98\\x18\\x80\\xa1\\xf3#\\x10\\x9c\\x08\\xa4\\xd0\\x81\\x1a4\\xb0\\x08\\xb0\\x19D\\xb5{G\\x8f\\x08\\x80\\x08\\x90\\x00\\x08\\x00\\x19\\x10\\x9b\\x82\\x91\\x02\\xac\\x12\\x8c\\x16\\x98\\n\\x80\\xb1xj\\xb9!\\x89\\x02\\x87\\x8e\\x10*\\x18\\x19\\x9b\\x93\\x92J\\x00\\xf1)\\x04\\x1a\\x81\\x1b\\xa8\\x85\\x0f \\x80y\\xf2\\x19\\x80p\\xc1\\x98\\x00 w\\x88\\xaa\\t\\x08\\x00\\t\\x80\\x88\\x00\\x08\\x80\\x80\\x9b2\\x89\\xb3\\t#\\xaf\\x12\\xb8\\x98\\'\\rI\\xa1\\xa22\\xac\\xc2\\nK\\xc3\\xa6\\x00\\x98\\xa3P\\x80+\\xd1)\\x999u\\x8b\\x11\\x9bL\\x88i\\x99\\x06\\xb8\\x19\\xb0\\x18\\x01\\x80I\\x88\\xb8\\x92\\\\\\xa0=:\\x81\\xd0\\x12\\xb0/\\x01\\x83\\x9f\\x03\\x00;\\xc2K\\xa1H\\x99\\xa9T\\x91\\t\\xa9\\x90/\\x00\\x01\\xb1,\\xc5\\x00\\xd2\\x08\\x91\\x81\\tI\\x10\\x97\\x0b9Q\\xc9(\\x99\\x90\\xba\\x17\\x19\\x1b\\x08z\\x98\\xa1\\t\\x90\\x19}\\x919\\x96*\\x98Q\\xda0w\\xa7\\x9a\\x08\\x08\\x08\\x88\\x18\\t\\x01\\x19\\x88\\xb19\\x80\\x1a\\xa8\\nA\\xa7\\x19\\x98\\x00\\tx\\xa0;\\x00\\x99\\x1a7\\xac\\x18 \\x86t\\x17\\x90\\x9e\\x88\\x00\\x80\\x90\\x00\\x19\\x90)\\x89q\\'#\\xfd\\x88\\x00\\x08\\x08\\x80\\x88\\x10\\x88\\x80\\x80\\x81\\x80\\xa8\\t\\x95\\x91\\x19Y\\xb8\\x00Y\\xba43\\xbc\\xb2\\xc8L\\x92\\x8bX\\x88\\x0b\\x06\\x07\\x0f\\x00\\x80\\x88\\x90(\\xa1\\x81\\t1\\t\\x08\\xf2\\x88\\x8c0\\x92/\\x80\\x18\\xa0\\x8a\\x06\\xb2\\xb0p\\t\\xb5Q\\x90\\x98\\x8c\\x19\\x00\\x81\\x1d\\xa0!\\x9e\\xa4 \\x91L\\x18\\x1c\\x88\\x81\\x1b\\x12\\xf2\\x91\\x01!\\xab\\xb79\\xb9!\\x0c\\x92\\xab\\'!\\x88y\\xb8\\xc9\\x03q\\x91\\x19\\xda\\x11\\xb1\\x1b\\xca\\x15\\xbaR\\x1b\\xd20\\x10\\xc0\\xba\\x17\\x98\\t\\x93\\xa2\\x89\\x04.\\x99;$\\xfb\\x12\\xa9\\xb3\\x94\\x11\\x18\\x9f\\x82\\x1a\\x11+\\x10w\\x10\\xaa\\x9a:\\xaa\\xb3\\x81\\x88\\x94)\\x81\\xf8\\x86\\x90\\x90@\\x90\\x88\\xc0\\xa5\\x81\\xfb1\\xb1 pw\\xab\\x90\\x08\\x008\\xc3\\x8b\\x18\\xa1\\x18#\\x17\\xba\\xc3)\\x89\\x98\\x899\\x10\\x1c\\x10\\x19\\x1c\\x88\\x8cr\\x8at\\xf2\\x01\\x01(\\x8a\\xd9\\x11\\x88@\\x10\\xa8\\x91trg\\x80\\xc9\\x8a\\x08\\x88\\x08\\x08\\x88\\x00\\x81\\x08\\xa0\\xa0\\x92\\x90\\x01\\xb0\\n`\\x80\\t\\x99\\x12\\xdc\\xa3\\x82\\xd3\\x15\\xe0\\x81\\t\\x98!\\t(A\\x9d\\x89\\xa5Qw\\xb9\\x08\\x90\\t\\x08\\x81\\x889\\x11\\x83\\xac\\x80\\x19\\xdcX\\x92\\xb8\\x80\\x00\\x91\\xa1\\x08\\xc0\\x84\\xb79\\x88w\\x8bg\\x00\\x80\\xa9\\x1a\\x02\\xb8k\\x12\\x90\\x90\\xa8\\xdf\\x08\\x08\\x88\\x08\\x80\\x18\\x81\\x14\\x08\\xc9\\x99\\x80p\\x07\\x8d\\x08\\x08\\x08\\x80\\x88\\x01\\x80\\x88\\x10\\xa0\\x18\\x80j\\xa9\\x01\\xc08\\xa18\\x01\\x1e;.1\\x839\\xf2\\x8c\\x15\\n\\x05CS\\x00\\x98\\xcb1\\x14\\x12\\xb9\\xbd2!\\xac\\x01\\xf8\\n\\xa1\\x15E\\x10\\xb8\\x9e1\\xfa \\x81\\xb9\\x0c\\n\\xa1\\x88\\x0b\\x88\\xa2\\xa1\\x02\\xe2\\x81)\\x91p\\xc7\\x82\\x1a\\x98\\x18\\x8a( \\x8abk\\x99\\x13\\x17H\\xb9\\x01\"93t\\x91\\xf1\\x9b\\x0c\\xa0\\x08\\xa3\\n\\xa8\\x18\\xa8s\\xa9\\tP#\\x93(*\\x8f\\t\\x8c\\xb1;\\xa9\\x91\\xc5\\xb8\\x04\\x00\\x93swB\\xf9\\x89\\x08\\x08\\x08\\x08\\x00\\x08\\x89\\x80\\x94\\x1a\\x80\\x18\\xb2\\xa1\\x1a\\x00\\xb0X)\\x95\\x1c\\x88\\xa0\\xc3D\\xa1h\\xba\\n\\x12\\x89\\xca\\xa3w\\x97[\\xc1\\x88\\x88\\x80\\x80\\x90\\x01\\x98\\x08\\x81\\x10\\x1c\\x02xE\\xa1\\x8e\\x12\\x01\\xb8\\x18\\x12\\xc8\\xa2q\\'\\x9d\\t\\x10\\x99\\x89\\x81\\x98p7\\xad\\x08\\x80\\x88\\x10\\x99\\x80\\x08\\x88\\x81\\x80\\x80\\x18\\x08\\x89\\x11\\x9bh\\x19\\x1aw\\nW\\x80\\x08\\x12\\x17\\xc9\\x98\\xa8\\x11\\xca\\x0b\\x88\\x01e\\xc9\\x88\\x80\\x88\\x00\\x08\\x80\\x08\\x90\\x08\\x00\\x80)\\x00\\xc2\\x80\\x19u\\xd7\\x08\\x00\\x98\\x80\\x80\\x80\\x18\\x80\\x18\\x80\\x1a\\xc8q\\x88\\xa9\\x83)\\x1a\\x9c\\x13w\\xd2\\x88\\x88\\x90\\x90\\x01*\\x91\\x80\\x12\\xd8j\\xb9\\x12\\xa8#\\xba\\x84)\\xd3\\x8ay\\xc1\\x81\\x99\\x84\\x89\\xc4\\x13\\x81\\x9b.w\\xd7\\x80\\x18\\x88\\x88\\x80\\x10\\x90\\x80\\x08\\xa0\\x90\\x01\\x88\\x08\\x1b\\x12H\\xba,]\\x01w\\xba\\x08\\x80\\x00\\x08\\x88\\t\\x01\\xa8\\x00\\x95\\xaa\\x12.\\x18\\xd2\\x83\\x0b\\x03\\xc9\\x03z\\xa7\\t\\x81\\x89\\n\\x16\\x8c\\x00\\x90\\x80\\x81\\xaap\\x98\\x10\\xa8)\\x03\\x91N\\xc8\\x00 \\xba\\x02\\x0b\\x85\\x97;\\x1a(}\\xb7\\x08\\x90*\\xa1\\x08\\x80\\x88w\\x87\\x8c\\x08\\x08\\x88\\x80\\x10\\n\\x88\\x80\\x80\\x08 \\x89\\x00\\x89\\xa8@\\x97(\\xf4\\x08\\t\\x80(\\x17\\x8c\\x90\\x01\\x8a\\xa1Bq\\x860\\x13\\x81\\x98\\xb8\\x9d\\xb8\\x99\\xe2\\x9d\\x89\\x18\\x88r\\xe2\\x88\\x80\\x80\\x80\\x08\\x08\\xa1\\x03\\x89\\x998!\\xbe\\x93U\\x02\\xa1\\xac\\x98\\t\\xa9\\x95\\x1ai\\x89\\x82r\\xd0\\x88\\x80\\x90\\x11\\x80\\x96a\\x88(\\xbb\\xa2\\x10\\x87,\\x90\\xd2 \\xca\\x10\\x99\\x08\\t\\xc21\\x99\\x00w\\x9b\\xa8\\x01\\x92\\x81\\xa0 \\t\\x18\\x8e\\xe1\\x01\\x01\\x88B\\xca\\x19q\\xb7\\x19\\x90\\x89\\x82\\xb0\\x81\\xb1l\\x97\\n\\t\\x90\\x02\\x08\\x00\\x0b\\x02\\xa5\\x8b2\\x0f\\x91({\\xb8\\x99#\\x8ap\\xb0\\x19\\x92(<sz\\xb7\\n\\x88\\x80\\x81\\x88\\x00\\x89\\x08\\t\\x11\\xa0\\xe3(\\xb9aZ\\xa9\\x18\\x81+\"\\x1f\\xa4\\x98\\xb2\\x19\\x182K\\x89\\x91-\\xe3\\xf0!\\x91\\x02\\x81\\xc1ww\\x19\\xf8\\x08\\x80\\x00\\t\\x88\\x00\\x88\\x00\\x88\\x00\\x887J\\xf9\\x80\\x08\\x80\\x00\\t\\x80\\x08\\x00\\x98(\\x88\\x80\\x98A\\t\\x90\\x1d\\x83\\r\\x00)\\x00\\x08\\xa0\\x05k\\x98\\x12A\\x8f\\x98B\\xe9\\x01\\n\\x00\\x81=\\xa3\\x8a;\\x99\\x87\\t\\xa3\\xb1\\x9a\\x18\\x14\\x1d\\xa5\\x10{g\\r\\x88\\x88\\x01\\x98\\x91\\x08\\x81\\x98\\x01:\\xb3*\\x91\\x0c\\x14\\x0b\\x88\\xc9\\x87\\x11\\x90\\x0e\\x82\\x01\\x9az\\xb6\\x989\\x88\\x18\\x98\\xa8;4\\x9bL\\xa0\\xa4\\x08\\xb9\\x90\\xa5\\x04\\x95\\xa4\\x1a0\\xcf\\x82\\x82\\x18\\xb2w\\xd7\\x80\\x08\\x08\\x88\\x18\\x88\\x18\\x90\\x10\\x89\\x01\\x8a\\x93\\x9abw\\xf2\\x88\\x80\\x10\\x89\\x18\\x08\\x98(\\t\\x00\\n\\xb29\\xa3Kx\\x87\\x8c\\x90\\x00(\\t\\xa8\\x03\\x89\\x89I\\xc8 h\\x18X\\x9b\\x00\\xa8\\tsw\\x9c\\x80\\x80\\x88\\x08\\x02\\x98\\x88)\\x98\\x08H\\xf2\\x91\\x18(,\\x88\\x82!\\x8f\\x11\\xb10,\\x01>\\xd1\\x80\\x92\\x81(\\xc8\\t\\x95\\x82\\xb8\\x10\\xd2\\xc3`\\x19+\\xa9X\\xd9\\x02\\x12\\x9b\\xa8%+\\xca1w\\xc7\\t\\x88\\x18\\x80\\x19\\x91\\x89\\x12\\x81\\n\\x90@\\xac\\xb1\\x04\\x9b\\x03\\xa29\\xd9p\\xb2\\x99I\\xca\\x05\\t+\\xa1\\xa0A\\xa9y\\xe3[\\x94\\x8a\\x11\\x1b\\xd1\\x94\\x98\\xa3\\x88(\\xc8P\\xa1%rW\\xaa\\x9a\\x80\\x12\\xab\\x10\\x00\\xb0\\x08\\x80\\x8a-\\x80)\\xb0 \\x14\\x9dA\\x1d\\x919\\x89\\x1a\\xf8 \\x18\\x91\\x99\\x1b$\\x84\\xab\\x94\\x18\\x0f\\x02[\\xa1\\x0c\\t\"\\xabU\\x0b\\x99\\xb4\\x8b0\\x0e\\x95\\x80\\x11\\xa9z\\xb0\\xa2Hz\\x97\\x9a\\x80\\x80\\x00\\xa1J\\xc1\\x182\\xac \\x99\\x18MH:\\x1a\\x8e\\x11J\\n\\xc0 \\xc0\\x11)`\\xba!\\x80\\x91.\\x94\\xc0\\x01\\x9b\\xb5z\\x98\\x01\\x80\\t\\xb8\\x13\\xb08\\x1a+\\x01s\\n\\x9f\\x01\\xb8w\\xe0\\x00\\x88\\x10\\x91\\x80\\x08\\xa1\\xab\\x07\\x89(\\xb1\\x8aI\\xab\\x87\\x10\\x0c!\\x9b\\x12x\\x93\\x18\\xa0\\x0e*\\xb1:\\xd2\\x88!\\xd1q\\xb8\\x088\\x88\\x10\\xaa\\xc9p\\x18J\\xcb \\x81\\r\\x03)\\x1c\\xb0\\xb5q\\x87\\x9b\\x80\\x00\\x98\\x81\\x10\\x80\\r!\\x94\\x1a\\xb3Z8C$6w\\x92\\xac\\x98\\x88\\x98\\x80\\x98\\x81\\x91\\xb0\\x11\\x0bz\\xb1\\x88\\x98\\x12*\\xaa&\\xaa$z\\xf1\\x90\\x01\\x08\\x12\\xaa\\xb8\\x81\\x01\\xf1@\\x19\\x99)\\xc0\\x82\\x87;\\xba\\x92A\\xeb3\\xb9z\\xc8\\x11\\x02\\x1a:\\xb9\\n\\x81\\x07-\\x80\\x91\\x03\\x8c\\x888\\x99I\\xb5\\x1e\\x94\\x91)\\xbb\\x93)\\xb1P\\x18/\\x01\\x0b\\x00\\x90\\xf24\\x8f8\\x898\\x10\\x9a\\x80Cw\\x9c\\x19\\xa1\\t\\x01(\\xd8\\x110\\xc0*)\\x01\\t\\x89\\xda+\\x82>&\\x18\\x89\\xaf\\x01\\xa2\\xc88\\xa7\\x18\\t\\x81\\xab@ 9\\xa5\\x1a!\\x9e\\xa1\\x88\\x96w\\xc8\\x98\\x81\\x18\\x88\\x19\\x88\\x91\\x18\\x11\\xbaw\\xc4\\n\\x90\\x18\\x08\\t\\x01)\\xe3\\xa00\\xb990\\x81\\x1a\\xd4\\x1d\\x91\\xb2\"\\x1e\\xb8\\xa50\\x11\\xf0(\\xb0\\x1a\\x88A8\\xd2;\\x95\\x9a\\x00\\xfa4\\x8a\\x81\\x0b\\x82i\\x99)\\x0c\\xb0\\x07\\xa0\\x98A\\x99\\x19w\\xb9\\x80 \\x00\\xb9\\xa8 \\x88\\x1bx\\x88\\xc9\\x03\\x92\\xd8 \\xd2`\\xb8\\x10\\xc0!\\t1\\xc0\\xb1\\x08\\x84\\x03\\x90\\xcf!q\\xf3\\x88\\x00\\x00\\x89\\x01\\x8a\\x89\\x12\\x90\\xd0\\x88\\x12\\xb1x\\xd3\\x01\\xc3\\x08,\\x00y\\x87\\x8c\\x91\\x00\\x909\\t+\\x10)\\xc0\\xa0\\xc1\\xb4P\\x90\\x82\\xfa\\xb2A\\xa0\\x9a\\xb4\\x12\\n\\xf3\\x82\\x02\\xa1\\xe9\\x01xg\\x8d\\x80\\x08\\x80\\x08\\x80\\x88\\x00\\xa0\\x01\\xb2\\x00\\x08\\x02\\xaa\\x99\\'\\x12\\xbb(\\xfa8s\\xf2\\x88\\x08\\x80\\x88\\x10\\x88\\x90\\xb2\\x85\\x08\\nL\\x98\\x18\\x19\\x08D\\x19\\x18\\x98p\\xda\\xb8%\\xb0*1\\xea\\x13\\xcb\\x82\\xd1\\x121\\xe8\\x18\\x80\\x88\\x9b\\x82\\'\\xe0\\x08*\\x118\\x8ex\\x17\\x9d\\x80\\x00\\x19\\x01\\x87\\x0c\\t\\x00\\x88\\x01\\x80\\x88:\"\\xb8\\x0f\\x18\\x11\\xb0\\x1a\\xa1\\xf2\\x90\\x92A\\x1b\\x80-\\xa0\\x058\\x1b\\x8f\\x81\\x91\\x18\\x890\\xfa\\x01\\x18J\\x0b$\\x10\\x07\\x80\\xad\\xb2\\x02\\n\\xc4\\x88\\x82\\x9a O\\x98\\x18p\\xc6\\x88\\x00\\x10\\xab\\x02:\\xa8\\x90\\x88\\x83x\\xaa(\\x12\\x1d\\x11\\xea\\xa4\\x82Y\\xc1J\\x00\\x81\\x99\\\\\\x02\\x9a\\xca\\t\\x81\\x83\\xb3\\x9b\\xb50\\x07\\r\\n\\x92\\x01\\x1d\\x03\\xa2\\xca\\x87\\xb8\"\\x89\\x98s\\xc7\\t\\x18C\\xac\\x80\\x88\\x81\\x98\\x13\\x08\\x98\\x80\\xab\\x00\\x96\\x08\\xa85\\xcb\\x11\\xc2\\x8a\\xa7\\x83<\\x80\\x91,\\xd9:\\x07\\x1a\\x004\\x02r7\\x98\\t \\xa1\\x04\\x1f\\xa2\\xca\\x8f\\x80\\x08\\x88\\x80\\x01*\\xa0\\x10\\x1a\\x99\\x02y\\x97\\x9b\\x00\\t\\x82\\x8a\\x02\\x98P\\x13\\xac\\x19\\x82\\xd08\\xf83\\x8a\\x90I\\xa2\\xdc\\x92\\x10\\xa6\\x89\"[\\xe8\\x10\\t\\x08\\x81)\\x91\\xab\\xb3\\xc6\\x04\\x80\\n \\x1c<\\xb4\\xb84\\x8a>\\x82w\\xab\\x88\\x11\\x98g\\xaa\\x98\\x00\\x90\\x00\\x88\\x00\\x18)\\x08\\xa8\\x92\\xba\\x813\\xf2Q\\x9b\\x83\\xe0\\x81T\\x08\\x10\\x98\\xf0\\x80\\x9a\\xa3(\\xca\\x84\\x93\\xc1\\x81+A\\xaa\\x11\\xe1\\x06\\x9b\\x93\\x88\\xab%\\x82\\x0b\\xc19\\xeb\\xa3\\xb4\\xa2\\x02\\x97-\\x02\\t\\xcb\\x14\\x1a\\x1c\\xa49\\x8b\\x85\\x0b\\xa1\\x93x\\xa8\\xc1\\xa2!\\x1cD\\xf9\\x11\\x19;\\x98y\\x88\\xa0\\t\\x80K\\x80\\x81(\\x8c{\\xe3\\x18\\xb3\\x89\\x83X\\xb8\\x11\\x98\\x08y\\x8b\\xa1\\x80\\xf1\\x88\\x95e\\xc8\\x18\\t\\x99 \\xa9\\x84!p\\xb9rC\\x94\\xadv\\x92\\x9c\\x08\\x81\\x89\\x99\\x00\\x88\\x90\\x00\\x90\\x18(\\x89\\x19\\x1a\\xa0\\x11\\x18\\xb4\\x98\\xa1\\xc1\\xc4:\\x03 \\x8f\"\\xf1)\\x82\\x89\\x8a\\x97\\xa18\\xa8\\xd4p\\x07\\x8c\\x80\\x88\\x08\\x00\\t\\x00+\\x01\\xc8\\x893\\x89\\xb2\\xc0\\x13\\xb69\\x0bH;\\x1f\\x009\\x9b\\x88r\\x93\\xab\\rQ\\x99\\xa6\\xa1\\x02\\x08\\xc1\\xa2\\x91+\\x12J]\\xa9\\x03\\xa2`\\x1b1\\t\\xa8rJ\\x82w\\x05\\x03\\x1bx\\'\\xbc\\x80\\x81\\t\\xba\\x80\\x88\\x80\\x80\\x10\\x08\\x80u\\x87\\x11\\x08 \\'\\xfa\\x08\\x00\\x88\\x99\\x8c\\x00\\t\\x18\\x98\\x80\\x88\\x00\\x88\\x80\\x08\\x19x\\x99\\x98\\x19 \\x89\\xa8\\x96\\xe8\\x10\\x92\\x92\\n\\x81\\x11w\\xba\\x00(\\xa8\\x988\\x88\\xd3\\x18\\x9a\\x04-\\x98\\xb29\\x84\\xba\\xb7)\\x81\\x18\\x8b\\x02\\xf9Q\\x08\\xb8\\xa7\\xb0\\x00H\\xb1\\x91\\xa4\\x08\\xb8\\x91k\\x822\\xad\\x90\\x889\\n\\xb6\\x8d3\\xe90\\x11K`\\xbbq\\x07\\x0f\\x90\\x00\\x18\\x08\\x18\\xb4\\x8a\\x19\\x81\\x00\\x19\\xa1\\x1b\\x1a\"\\x1d\\x88\\x95\\x93\\x1e\\x80\\xb1\\x94z\\x01\\xa0\\xb8s\\xd7\\x08\\x00\\x88\\x08\\t(\\x90\\x89!\\xac\\x01\\x91\\x80r\\x99\\x19\\x98\\x11*\\t\\x0e\\xa5\\x02\\xc9w\\xc8\\x08\\x80\\x90\\x01\\x88\\xb0I\\x00\\x18\\t\\xa0\\x1a\\xa7\\x90\\x02\\x0b-\\xa4#\\x8d\\xc8\\x93\\x91@\\xca\\x01\\',\\xd4\\x90\\x88\\x10+\\x93\\t8\\x08\\xc1\\x8d\\x10\\x82^\\x10\\x99\\x0b\\x91\\x83\\xc1\\x013\\rp\\xab(\\x84\\x8f\\x81\\x89 \\x90+1-$\\xac\\x18\\xcb$\\x82\\nN\\t\\xa9\\xa3\\x02\\xe1\\x85\\t\\x89\\xd2\\x93r\\x97\\x8b\\x10\\x98\\x00\\x9a\\x91\\t\\x12@y\\x01 \\xbc\\xa8\\x80:\\x91\\xabA\\xba}\\xb2\\x98\\x03+\\x8b\\xa83\\xf4\\x98\\x80A\\x89\\x99\\xa2\\xe5!\\xb2\\x8aAJ\\x89+K\\x14\\x8c\\x10\\x82)\\xfd0\\x99i\\x1a\\xa2\\xa5;\\x1a\\x93\\xb8z\\xb3\\x81\\xd8J\\x90\\x00\\xa2\\x1a{\\x08\\xba9\\n\\xd4\\x05\\x9a#\\x8a\\x82i\\tw\\xca\\x18\\x90\\x10\\x88\\x89\\x93\\x18\\x08\\xf8\\x93\\xa0\\x84\\x80[\\t\\x99,\\x1a\\x13\\x08w\\x93\\xdb\\x19\\x89\\x03\\x899\\xb9X\\xa8\\xa4\\x01\\x11\\xbc\\\\\\x82\\xa8I\\x89\\x9a\\x93\\xb4-\\xc4\\x02\\x88!\\xd1\\x8b\\x07\\xa0\\x0bq\\x07\\x0e\\x80\\x00\\x08\\x88\\x88\\x81\\x90\\x19\\x08\\x01\\x81\\x1a\\xb9H\\xa9R\\x9e\\x93\\x98\\x96\\x01\\x1f\\x02\\x82\\x19q\\xe6\\x88\\x80\\x80\\x18\\x98\\x81\\x01\\x98\\x11\\x98\\x94\\xba\\x85\\xa9\\x83\\xa1\\x08N\\x98!\\xc8\\x92\\xa8\\x14\\x87\\xccw\\xb9\\x00\\x88\\x80\\x81\\x88(\\t\\xa0\\x11\\xb0\\x98@\\xb3G\\xd8\\xa02\\xda\\x81\\x08 \\x99\\x10\\xe9\"\\xe87\\x8c\\x89\\x91\\x00\\t)\\x00\\xb1\\x03\\x1a\\x08\\xda\\x13\\xdaA \\x1e\\x00\\x18\\xca\\x88I\\x11\\x01\\x1b\\xdbx7\\x0f\\x08\\x98\\x81\\x80\\x18\\n\\x00\\x91:\\xb20\\x9a8\\x91G\\x08\\x90\\xaf!\\x9a\\x10;\\x13\\xf4\\x01\\x1d\\x85\\x99\\xb1\\x82\\t\\x001\\xa6\\x91\\x1c\\x0b\\x98)!\\x12\\xbf(\\xa5q\\xd9\\x003w\\xba\\x08\\x08\\x80p\\xc0\\x08\\x08\\x80\\x00\\x00\\x89\\xa0\\x10(\\xa1\\x99\\x1d\\x1c!|\\x07\\x9c\\x80\\x18\\x80\\x98\\x10\\xb19\\x1a\\xa1\\x15\\x0b\\xb3\\x10\\r(\\x0f\\xb2\\x81\\x18\\xb9a\\xb0\\xc1\\x99\\'\\x9a\\t\\x03\\xa0\\x86\\x8a\\x98\\x10\\x97\\x10\\xe8xW\\x9c\\x88\\x80\\x00\\x88\\x00\\x00\\x08\\t\\t\\x89\\xa3\\x18\\xa1X\\xd1\\x88\\x10\\xb1\\x019\\x91+\\x06K\\x18\\x115\\x89\\xcf\\xa8\\x02\\t\\x99\\x97:\\x18\\x00\\x9b\\x82\\x12\\xc2\\x90.J\\x89(\\xcaS\\n\\x8b\\t\\x97\\xcaw\\x87\\x8c\\x08\\x08\\x08\\x08\\x00\\x88\\x80\\t\\x01\\x99\\x08;y\\xb2)\\x08\\xda\\x12[\\x8b+\\x83Z\\x18\\xa0\\x18\\x98\\x9a$@\\xab\\x1c1\\x0f\\x84\\xac\\'\\xb8:\\x00\\xd8\\xb2\\x004\\x99\\x8a\\xa21#\\xf3*\\x86u\\x00\\xcb\\x88\\t\\x01\\xa9\\xa1\\xc3\"\\xc9\\x83\\x02\\x1e\"\\xeaY\\xa9\\x02\\x91\\xa0\\x00\\x01X\\x9a9\\x9b\\xa5\\xa6\\x08\\xa1\\x1a^\\x00\\x8b\\x16\\x1c\\x89\\x80\\x08\\x8b\\x95 \\x18\\xa8\\xb0x\\x81\\xf9\\x12)9\\xcc\\x85\\x19\\x18x\\x07\\x8d\\x88\\x10\\x88\\x08\\x80\\x88\\x00\\x90\\x199\\xaa\\x02\\x12\\x80\\x99\\xf4X\\x99\\x19\\x1b\\x84J\\x0b\\x1d\\x03j\\x01\\xb9\\x12\\x01\\x8d\\xda1\\x1b\\xa4M\\xa3\\x90,\\t\\x15\\x9b\\x03T\\x01\\x89\\x89\\x9f\\x1a\\x11\\xb9Z\\xa2w\\xf2\\x88\\x00\\x88\\x00\\x88\\x90\\x00\\x80\\xa0\\x81\"\\xa0\\x10\\x88\\t\\xb1\\xf2R\\xc9\\x80\\x81\\x11J\\x0f\\x12\\x1a\\xa01-\\xa9\\x1a\\xb2p\\x00\\xf8\\x80\"\\xba\\x85(\\xa9\\x12\\x9b\\x84\\x81\\x0c\\x88\\x19\\x98W\\x84\\xa0\\xabzw\\x8d\\x80\\x80\\x80\\x00\\x19\\x90\\x08\\x89((\\x88\\x98\\xd1\\x00\\x95\\x03\\xb8\\x18\\xb0\\x00\\xc5\\x83\\xd3\\t\\x0c\\x01\\x07\\xc8\\x890\\xa3\\x18\\x02\\xf0a\\xa9\\x81\\x91\\x0b\\xb2\\x82\\xa2\\x8d\\xc1S,\\x0b\\x00\\x995\\xd9\\x92\\x0bw\\xc7\\x88\\x00\\t\\x08\\x80\\x01\\x8a\\x10\\x19*\\x90)\\x99\\xa5\\xb2=$\\x8f\\x11\\t\\xa1\\x10\\xb9\\x11: C\\x8b\\xde\\x12\\x1a\\x02\\xb9%\\x00M\\x99\\xb9#\\xb5\\x9e\\x11\\x00\\x95:\\xd0\\xa3\\x0b\\x02\\x99\\x05\\x19+|w\\xab\\x80\\x00\\x88\\x10\\t\\x89\\x03\\x1a\\xca2\\xaa\\xc2\\x10\\x98\\x06\\x0b!\\x89\\x90<\\xf0x\\xa19\\x8aB\\xb2\\xaak\\x8a\\xb1\\xa5\\x11\\xdc\\x12\\x01\\xc92\\x1a\\xa0\\xe0\"\\x1b\\xc3\\x82\\x1a \\xads\\x9a\\x19\"\\tx\\x07\\x9d\\x10\\x89\\x80\\x91\\x88\\x89D\\x9b\\xa0\\x12\\x81\\t\\x10\\xb3\\xbd\\xa1T\\x0b\\xa4\\xa2\\x08\\x94\\xae\\x96\\x91p\\xd2\\x90\\x08\\x92\\x08\\x99\\x93\\x82-\\xa1/\\x81\\t\\x92{\\x98\\x81\\t\\x98\\x00\\x03m\\n\\x92\\xc9\\x10\\xc2w\\x9b\\x00\\x08\\x80:\\xa0\\x83\\xbb\\x11\\x98@\\xc0K\\t)\\x03\\xb1p\\x12\\xaa\"\\xdf\\x13\\x99\\xa8\\x10%w\\x8d\\x80\\x80\\x88\\x91\\x80(\\x88\\x19\\x88\\x92\\t\\t\"\\x0bU\\xb1\\xb9\\x8c|\\x00\\xa0\\x10\\xa80\\x9fr\\x17\\x9d\\x10\\x88\\x19\\x08\\x08\\x92\\n\\x10\\x88*\\xbb\\x04\\x11\\x83\\r\\xc4\\x08\\xaa\\x15\\x82\\x1c\\xd1\\x85\\x88\\x8c\\x11\\x10\\xbb!\\x81B\\x8a\\xf2\\x08<\\x93\\x80\\x1e#,\\xb8\\x04\\x8b\\xb6\\x89\\x93[\\xb1L\\x01\\x0c\\x82\\x88w\\xd6\\x88\\x80\\x80\\x80\\x00\\x88\\x88 \\x81\\x90)\\t*\\xad\"\\xc1\\x98\\t\\x85\\x1d1\\x1b\\x91k\\x98\\xb2!\\x18\\x9f \\xd1r\\xd1\\x00\\xa8\\x01\\x18\\x90\\xb1\\x81\\x87\\x88z\\x13\\x90\\x9d\\x90\\xa0\\x08\\x1a\\xa4\\xc9\\x13zw\\x8c\\x08\\x80\\x08\\x88\\x80\\x00\\x80\\x08\\x88\\x89\\tX\\x98\\x90\\x93J\\x1a*\\x99\\x07\\xb90\\xe8@\\x00\\xa8\\x95\\xb0\\x11\\xda\\x03\\x00\\x98\\x02\\x9d\\x97\\x08\\x8b\\x15\\x80\\n\\t\\x92\\xd1\\xd8\\x06\\xa8\\x1a\\x83(\\xd1\\x91*w\\xa78\\x9a\\x90\\x8a\\x88\\x19\\t\\x08\\x1b\\np\\x989\\xd3J\\t\\t\\x02\\x08\\x1f\\x00\\x08*\"\\xf2\\xa0P\\x91\\x10\\xca\\x89\\x1a\\x86\\x881\\x8f\\x81\\x91\\x1c\\xa2)\\xa1\\x96\\xa8\\x14\\n\\x9a\\x870\\x90\\xa02&\\x0c\\x13\\xaf\\x08\\x19\\x0bQ\\x8b\\n<\\x02k\\xd0 \\xa8(\\x00\\x18\\xc0\\x81\\x80>\\xf2\\x02\\x90\\xa2(\\xc88\\xa4\\x8cH\\xc0Z\\x92\\t\\x80\\x92\\x8e\\x05\\xb0\\x83\\x0c\\x92\\xe2\\x00(#\\x90\\xa0y\\x9e\\x81\\x13\\x8d\\x82x\\x07\\x8d\\x80\\x90\\x00\\x80\\x08\\x18\\x8a\\x91\\x18\"\\xabH\\xc90\\x9a\\xb40y\\x02|w\\x00\\xc8\\x0b\\x08\\x08\\x88\\x80\\x08\\x91\\x00\\x88\\x00\\xa0\\xa1\\x13\\x85\\x1c\\x88* \\xa0\\x04\\xfb1:\\xaa\\x0c\\t(b\\xa8\\x98w\\xd6\\x08\\x08\\x98\\x81\\x00\\x89 \\xa9\\x11\\x10\\x89\\x99\\x12\\xd8i(\\x8d\\xa3\\x80\\x98\\x05;\\t\\x90p\\xc8\\x18*\\x00;\\x13\\xbd\\x83\\x90c]\\x10\\x89\\x0f\\x81\\x80\\x90=8\\xa8\\x0b\\x900\\x16),\\xb8\\xd8\\xa0w\\x8a\\x98\\x08\\x90\\x02\\x19\\x1d\\x10\\xb3l\\x90\\x89\\x90#\\x81\\naw\\xe8\\x80\\x00\\x88\\x88\\x08\\x90\\x01\\x88\\x80\\x1au\\x83\\xa9\\x0e\\x19\\x00\\x88\\x1a\\x18\\xb8\\x00\\x02\\x8b\\xa4y*\\x81\\x89\\xa0\\x19\\x11\\x8f\\x80H)Y\\xc2\\x91\\xb0(\\xd3(\\x19\\x99@\\xf9\\x10\\x18Y\\xa9\\x94\\t\\xb8\\x13\\xd3\\xa3\\xf4\\x10\\x01\\x1a\\x90x\\xa0i\\x99\\x80\\x84\\xbb\\x80\\t!H\\xa0\\x1c\\x9a\\xd2S\\x0f\\x00\\x11);\\x8aj\\xb2(\\xb9\\x193\\xf4;w\\xaa\\x88\\x18\\x80\\nH\\x90\\x18\\xdc!\\x12-\\x88\\x89\\x80 \\xb0:\\xf3\\x92\\x83\\n\\x86\\xa9\\xb3\\x86\\x1d\\x07\\x1b\\t\\x98\\x81\\x88\\\\\\x88)\\x88\\xb8\\x88\\x07\\x19\\x99s\\xb7\\x89\\x08\\x81\\t\\xa1\\x19\\xa0\\x00\\n\\x13pW\\x8e\\x00\\x98\\x00\\x88(\\t\\x80\\xa0\\x10\\xb2\\x08\\x91\\xf9\\x82B\\x81\\x88\\x18\\x8a\\na.\\x99K\\x98s\\xd7\\x00\\x19\\x98\\x81\\x981;\\xf0q\\xb7\\x89\\x81\\t\\x18\\x98\\x01\\x00\\x90\\xa9\\x01\\x01\\x89\\xb0\\x81@\\xbbw\\xa8\\x90\\x19\\x19\\x92\\x01\\xa3/\\x18\\xd2\\x88\\x80\\x08\\x18\\xd2\\x03\\xa2\\xe2\\x90\\x00\\xb9\\x9a\\x17\\x910\\xf3\\x1a\\x14\\x8c\\xb9\\x14\\x0b\\x88\\x01\\xe3!\\x90\\xd1\\t\\x10\\x94\\xa9\\x16\\xaa*K\\xb4P\\xe1\\x10\\x08\\x99\\x80\\x85i\\x87\\x8d\\x18\\x18\\x08\\x88\\x1a)\\x11\\x08\\xd8\\x11\\xb2X\\x198\\xeb\\x90\\xb2\\x02\\xb9\"\\x8e\\'\\xca\\x00r7\\x8f\\x80\\x88\\x08\\x80\\x08\\x80\\x00\\x08\\x08\\x08\\x0b2\\x0b\\x1d\\x18\\x00\\xa9B\\r\\x93@\\xca\\x83:\\x0b`w\\xe5\\x88\\x80\\x80\\x80\\x18\\x80\\x88\\x00\\x90\\x89\\x84\\x88H\\x9c\\x01q\\x99\\x98\\x08\\x10\\x19\\x90\\xa0\\xb4i\\x89U\\xac\\x18\\x80\\x01\\x8b\\x03\\x1c\\x81\\xa0\"\\x1c\\x9a0\\x19\\x9cy\\x00\\xcc\\xc5\\x01g\\x8c\\x80\\x88\\x01\\x08\\x88\\x08\\x008\\x88\\t\\n\\xba\\x920\\x8f\\x812\\x8e\\x93\\x84\\xa9\\x1b\\x98q\\x80\\x03\\xaf\\x02\\x89\\xa7\\x181\\x9b\\x97\\x89\\x08\\xa0\\xd1\\xa2h\\x90+\\xa4Z\\xd3\\x91\\x0b(\\xc2\\x84\\x99\\x91\\x84;\\xd3\\x18I\\x00a\\x80u\\xb7\\x0b\\x88\\x08\\t\\x08\\x00\\x80\\xa8\\x02)\\xb3\\x18+\\x90k\\xa8\\x84sw\\xba\\x88\\x00\\x88\\x18\\x89\\x00y\\x98\\x88\\x00\\t\\xb0\\x10\\x9a\\x13:\\xbab\\xb9\\x84\\x1b\\xb3k\\x92Y\\xb00\\x8b\\xcaq\\xa2\\xd0\\x00\\x19G\\xac\\x81\\x80\\x89\\xa0\"\\x1d\\x1a1\\x81\\xb0\\x1aO\\xb1\\x19Z\\xba\\x833\\x9b\\na\\xf2\\x08\\x91:\\xa0@\\x01\\xe0\\x91\\x10:\\xf18\\n\\rY(\\x00\\x19\\x91\\x0e\\x94\\x1a\\n\\xc0h\\x01\\x88\\x99\\x1b\\x93\\x1e\\x97\\x18\\x8a\\xa00\\x1a\\x19\\xe7\\x80\\x12\\x92*\\xb1\\x98#\\x8f\\xb3\\x80\\x88\\xb5\\xb4\\x19\\xcb\\xa7\\x02\\x8a\\x91D\\x18\\xd2\\x9b:\\x98\\xb4\\x13\\x90b\\xd8\\x19\\x98\\x84\\x13(\\xf8\\x89\\x14\\xab\\x00\\xf0(\\x19\"\\x08\\x8b~\\xb7\\x08\\x98\\x01\\x1a\\x81\\xc1\\x18\\x11\\xa9\\x02\\x1e\\x18\\x02\\x1d\\x92\\xb1\\r\\x19\\'\\xaa\\x81\\x0b\\x84\\x89\\x12\\n\\xaar\\x17\\x8d\\x00\\x98\\x18\\x92\\x90\\x19\\x92\\x9a{\\x81\\xb1[\\xb0\\xc0!\\x98;W\\x83\\xb3\\xaf\\x08\\x80\\xa0IU\\x07\\x8e\\x80\\x08\\x80\\x08\\x90\\x80\\x80\\x91\\x8aB\\x98)\\xb9 @\\t\\xa2J\\x9a\\x1f(\\x91\\xd0\\xb1\\xa8W\\xd2\\x08\\x90\\x02\\x10\\n\\x99\\xe3\\xf2\\x01\\x80\\xa0\\xc21\\xa1;\\x8093\\xe0\\x0b)\\xc3\\xaar\\x82:Qv\\xd7\\x88\\x08\\x80\\x88\\x18\\x00\\x88\\x19\\xa1(\\x98\\x80\\xb1\\x91&\\x1b\\x9a\\x8b\\x17\\x99\\x84\\xb9\\x12\\x0bA\\xa0\\x88\\x83+\\x0b\\xd4\\xc3J\\x88\\xe1\\x02\\xba\\x06\\x03\\xba\\x90\\xd0\\x80\\x86\\xc1\\x83\\x89\\x07\\xc0\\x08\\x90\\x90\\xa1w\\x8a\\t\\x08\\x19\\x88\\xa80\\x91\\x82\\xa9\\xa7\\x9b\\x93 \\xe4\\x188\\x1a\\x02\\xb91\\x94G\\xaa\\n\\xab\\x98G\\x91\\x9e:\\x98$\\xb2\\x8c\\x92\\x00w\\xba\\x00\\x08\\x08:\\xc8\\x11\\t\\x81\\x08\\x08L\\xb3;8\\xd9\\x7f\\x97\\x8a\\x88R\\xaa\\x00\\xa0\\x80\\x00\\t\\x81\\x08\\x88\\x982\\x91\\xe9S\\x1d\\x90\\x10\\tj\\xd0\\x19\\x03\\x0b#\\xb8\\xba\\x02s\\xabz\\xc01\\x98\\x9a0\\x81\\x980{\\x1b\\x0e\\x03\\xb0\\xbaz\\x82*\\r *\\x12w\\xf0\\x80\\x80\\x08\\x08\\x18\\x80\\x08\\xb0\\x18:\\xb2\\xc1\\x040{\\x87\\x8d\\x08\\x00\\x08\\t\\xc0\\x13(\\xca1\\x03\\xad\\xb2\\x04\\x1e\\x80\\x08\\x98\\x93\\x99\\x15\\x0e\\xb5\\x08\\x10\\xa0\\x90\\xa4\\xb8%\\x1d\\x82\\x91\\x8a\\x08\\xa1%pw\\x8c\\x88\\x08\\x80\\x08\\x81\\n\\x91\\x18\\xa0!\\x19\\x8c1\\xf8(\\x00\\x80\\x98\\xbb\\x97)\\x83\\x12\\x99\\x8b>\\x81\\x89\\xae\\x17\\x91\\x9a\\x02\\xa9\\xa0\\x08\\x87\\x1b\\t\\x02\\x19\\x0c\\x19\\xb4\\x18\\x1dC\\x9f\\x02Y\\x90\\x08\\x10w\\xc7\\x88\\x80\\x08\\x08\\x80\\x88\\x88\\x08\\x00\\x08\\x91\\x90\\x83\\n0\\xae2\\xb9[\\x82;\\xe4\\x89\\x95)\\x0bh\\t\\x18\\x8a\\xa09z\\x9c\\x82R\\x0b\\x98\\xba\\x81p-0\\xb9\\x93);.\\xa1\\x99\\xa5l\\x80x\\'\\x9d\\x08\\x90\\x90\\x00\\x08\\x00@\\xb7\\x0b\\x80\\x91\\x08\\x81\\x90\\x88Y\\xb0\\x92\\x00\\xb8j\\xb3\\x00\\xc1\\x02\\rH\\x99\\x84\\t\\xe0H\\x88\\x89\\x88(\\x94\\xb8\\xd1\\x15\\xb9@\\x9c\"9\\xb9\\x91\\xa2(\\xf2\\xc0\\x892u\\xb7\\x8a\\x00\\x98(\\xc1\\x11\\x1aw\\xf3\\t\\x08\\x80\\x80\\x08\\x80\\x08\\t\\x90\\x82\\x89\\x10\\x01-\\x92\\xd0\\x839\\x0f\\x11\\x1a(\\xcbA\\x93\\x9a\\xac\\x02\\x94\\x11\\x1a\\x89\\xa4\\xe0$\\x0e\\xa9!\\x89\\xa4\\xa1\\x03\\x81\\x10\\xafw\\xc8\\x88\\x81\\x88\\x01+ \\x01\\x89\\x1d!\\xe8\\x8a)\\x12\\xcc2\\tj\\xc9\\x01A\\x98\\x8b\\x08\\x89\\x83\\xf9(I\\t\\x80\\x93\\xaa#\\xcf\\x14\\x98\\xc1\\x13\\xb8\\xa0\\xc2 \\xd2\\x93\\xc0R\\x9d\\xc2Y\\x90\\x18\\x08j\\xa7\\x0c\\x00\\x19\\x18\\x89\\x80)\\x0b\\x01P\\x1d\\x89\\x19\\x93\\xca\\x89p\\x18\\x89-)0\\x1f\\x10\\xc0\\x8aQ\\xb8\\x91\\x98\\x17\\x1b\\n\\x19\\x10\\x0c\\xaaq\\xb2\\t)\\xa9\\xa9\\'\\x89<\\x99\\x87\\x8d\\x83\\x89(\\xf28\\x18\\xb0*\\x90\\x88\\x91c\\x1e\\x01\\xaa\\xb10\\x91\\x8dq\\xe1\\x80\\x98\\x11\\x19\\x08\\xb9\\xb4\\x118\\xb2@{w\\xba\\x899\\x08\\x89\\x80\\x10\\x1aK\\x9b\\x82\\x80{\\xa8 \\xac\\x80\\xa3\\x19\\x94[\\xe2\\x01\\xa0\\x08\\x90H\\x0c\\xca\\x022\\x1a\\xba\\x9f1j\\xc2\\x9b#\\x0f\\x88\\xa1\\t\\x03{\\x93\\xfb\\x82\\t:\\xc2\\x88Y \\x88\\x8a\\xf9\\x14\\x9b \\x98\\t\\xb1\\xf3\\x01\\x81\\x8c\\x82Z\\xc0\\x18\\xa1\\x17\\x8c\\t\\x80\\x11\\xa0\\xcb3\\xbaw\\xaa\\x80\\x00\\x88\\t\\x88\\x90\\x19\\x99?\\x84\\t@\\xf3\\t\\xc0(I\\n\\x90H\\xc0\\x1a\\x98\\x13\\x02\\x89\\xaf\\x10\\x92+\\xf5\\x909\\x93\\x98\\x92\\x82\\x9f\\xa9\\x07*\\x0bJ\\x08:=\\xa9\\x92\\xa3I\\xb2!p\\xa7\\x0b\\x99)\\x1b\\x19\\xbar\\x02\\xab\\x03\\\\\\x88+\\xdb\\x848\\xb4\\x19\\xb1\\x1d!\\xcb\\x83\\x90\\x92P\\xf3\\xa8\\x00\\xe2#\\n\\x08\\xb0\\x0f\\x03\\xbb\"\\xb1\\x95\\r\\x11\\xa84\\x88\\x9d\\x81\\x96\\xa0\\n\\x15\\x0c0\\xad\\x12\\x92\\x98\\xd0B\\xe10\\x8a\\x89\"*\\x11\\xfa\\x8a#\\xa2J\\x18{\\x9b\\x18\\x89h\\xc0\\x00\\x938/\\xa0\\xb3\\x11(\\xa8\\x93i\\xa9\\xf1j\\x80\\xa8\\x81;\\r\\xa7(\\xb3\\x99\\xb8\\x14\\x12\\x0f)\\x00\\x1a*\\xa2p\\x89Y\\x1d\\x80\\x80J,\\x91\\xd0\\x91!\\x88)\\x19@\\x8f\\x19\\xb1\\x17\\x89\\x1a\\x1b\\xb3\\x02\\xb4\\xb8\\x978\\x98.\\xc0!\\x80\\x00\\x98\\x18\\xf3\\x83\\xe0@+\\xa01\\x8b\\x00/\\xd3\\x82\\n\\x18\\x80\\xd0\\x01)\\x11\\x03\\xe0\\xf30\\x8b\\xd33\\x8a\\xa0p\\r\\x08\\x91\\x11\\xc1\\xa3\\x1c\\xa2\\xa3\\x82\\xc9\\x95\\xa0C\\xc7\\x89\\n\\x83*\\x01\\xc2\\x08?\\x00\\x01-\\x189\\x88\\x0c*/\\x81\\x00\\xf3(\\x19\\n\\x81\\xc8\\xa3p9\\x9d\\x02\\x02\\x0c\\xd2(\\x912\\xfb\\x10\\x00\\xe0\\x18\\x11\\x1c!\\x0cIs\\x17\\x9b\\x11+\\x05\\x8d\\x12\\xa2;P\\xa0Q\\xb9(\\xa2\\xfc\\t\\x01\\xab\\x88\\x80\\x81\\t\\x91\\x19\\xc1)\\xa2\\xa3\\xa0\\x0e\\x92\\x94h\\xe0\\x82\\t\\x11\\xab\\x84\\xb0\\x16\\x98',\n",
       " b'\\x01\\xff\\xff\\xff\\xff\\x0e\\x08\\x08\\x08\\x08\\x08\\x08\\x08\\x88\\x00\\x08\\x08\\x08\\x08\\x88\\x10\\x88\\x08\\xa09\\x19\\x19\\x11\\xbaM\\x00\\x18\\x1a\\x00qw\\x02\\xcb\\x8b \\xa2\\x18\\xba9\\x98\\x10\\x899\\x19\\x0f\\x84\\x88\\xd4\\x02\\xa8\\x00\\x18\\x0b\\x92\\x04\\xda!\\xa8\\x80\\x8a\\x05\\t|w\\x07\\xa8\\x8c\\x08\\x08\\x08\\x80\\x90\\x00\\x18\\x89\\x80 \\t[x7\\x08\\xf9\\x89\\x80\\x80\\x08\\x88\\x10\\x18\\x88\\x90\\x80)\\x08\\x98R\\x0b\\xb0\\xd13;\\xb9\\x1f\\x82\\t`\\x1a\\x94)\\x17\\xab\\xc0\\x81\\x94\\x8a\\x99\\x912\\x0f\\x80\\x91\\x10A\\x98\\xb8{\\n\\x18\\x0f!\\t;\\r\\x81\\x0c\\x86:\\x80\\xa9\\x00z\\x10\\x88\\xb0\\x08\\xb2\\x1a\\x87\\xc2+w\\x12\\xeb\\t\\x18\\x90\\x80\\x18\\x88\\x90\\x81\\n\\xb3\\xd4\\x04e\\xa1\\x1aH\\x93\\x1a\\x1e\\xb8\\x90\\x00y\\xc3:\\xb1\\xa1\\x98\\x17\\xab\\x89\\x89\\t\\x81\\x80\\x80*\\x0f\\x03<J\\x98\\xb90\\xa6\\xa0\\xb18h\\x92\\x9b\\x18\\xb3/\\x03\\x88K\\xf1\\x81\\x91\\x08\\xa9\\x15\\xb0\\xe2\\x01\\xa4J\\x15\\x9c)\\x19\\x8a\\x99\\xb4\\x85\\x88\\x18\\xd18\\x18\\x8d\\x82\\xd3\\x10\\x00)\\x0e\\xa2\\x05\\x8d\\x03\\xa1\\x18\\x11\\xa9\\xf3:8\\xa3+\\xaa\\xb7\"\\x1c+\\xb4\\x11\\xb0\\x13\\xbfP\\x80I\\xbb\\x83\\xc1\\x93\\x87{W\\x8e\\x00\\x08\\x08\\x88\\x00\\x08\\x80\\t\\x00\\t\\x90p\\xa0\\x08*)\\x19\\x1e\\x11,\\x81\\x99\\xd3\\x83\\x90\\xa3\\x00\\x82\\x1e\\x07\\x1a\\x1a\\x81\\x98\\x92)\\xcb\\x83\\x87P\\xab\\x81 \\x90\\x17x\\xa2j\\x00\\x18\\xb9\\x06\\x18\\xb1\\xe2\\x10\\xc9\\x90\\x88\\x18\\x99\\x02\\x98\\xbb\\x97\\t\\x05\\x08\\x9b$\\x98*\\x81;\\xd4\\x04\\x8c\\x03\\x97+\\x19\\xa0\\x82;\\x13\\xf82\\xe9y\\x97\\x8a\\x80\\x00\\x89\\x01\\x90\\x10\\x19\\x89\\xa5\\xa9\\x15\\x1c\\x08\\x81k\\x80\\x1b\\x15\\xa9(\\xa0J\\x1a\\x0c\\x83:\\x87\\xb9I\\x08\\x18\\xb2\\x0f\\x93\\x98A\\x89B\\x99\\xd0 D\\x03\\xb8\\x9f1\\xb9\\x01\\x8a\\x83\\x91#Y\\xf9q\\x18\\xb8\\x93\\x8d\\xa2\\x94\\xaa#\\x10\\x91X\\xfa\\x13\\xc8\\x00\\x91\\x11\\xc3\\x98\\x95(\\x01\\xe09\\x92\\x1d\\x02\\x19\\xf2 )\\x80\\xdbq\\xd0\\x00\\x81\\x81\\xa0\\x84\\xaa3\\xd3G\\x9c\\x00\\x90(\\x99\\x91\\x08\\x12\\x89\\xd2\\x04\\xbaa\\x98\\x1b\\xa2\\x08C\\x9b\\x89\\x8aw\\x89\\x8a\\x80\"2\\x0f\\x8a\\x83\\x10\\x89\\xc4\\x11*\\xb0\\x10n\\xa1\\x91\\xb1\\x93\\x19jx\\x01\\x01\\xbd\\x11\\n(\\xc0H\\x9a8\\xc2\\x89\"\\xf9\\x82\\x84\\xa9\\x89%,\\t\\x88\\x87\\xba\\xa4a\\x88\\x1a\\x19\\x19\\x10\\xc0j\\xa9p\\x88)\\t\\x88\\x93\\x11\\x0f\\x81\\xa8\\xa12\\x00J\\xf9\\x00A\\xc0\\x91\\x08\\x11-!\\x8e\\x10(\\x1c%\\x90\\x8f\\x11W\\x9c\\x08\\x88\\x91\\x00\\x00\\x1a\\x11\\t\\x08\\x80\\x8b\\x023\\x8f \\x8c\\x10\\xc0\\xd5\\x08\\x04*\\x92\\x19\\x1e\\x93\\x81\\xaa\\x16\\xa8\\xc38\\x1c\\x93\\x90\\x17\\x83\\xac\\x9a\\xc2\\x13\\x0c\\x88\\x18\\x95\\x08\\xb99\\xf3\\xa1\\x14\\xb2Ax\\x17\\x8f\\x80\\x08\\x80\\x18\\x88\\x91\\x00)\\x9ai\\x86\\x08\\x99\\x08\\x8a(<\\xa3\\r\\x02,\\x80\\x00\\xb8p\\xbb\\x84*\\x00+\\xc4\\xa3E\\xc8\\x82\\x0f\\x00\\x80\\t\\x02\\x10+\\xa0\\x91*\\xaf\\x16\\x1a)\\x88\\x90\\x04\\x1a/\\xd0\\x81\\xa0$\\x19\\t\\xa8\\xd40\\xda\\x11\\x03\\x8c\\x11\\n\\xa9\\x03\\x17w\\x8c\\t\\x18\\x90 \\x90\\n\\x92[A\\xb9\\x1a\\x8a\\xc8\\x12\\x91,\\xb2\\x83\\xa4\\xc9\\x132\\x8f9\\x12\\xf0\\x03\\x9bK)\\x1c\\t\\x14\\r\\x98\\x05\\x8d\\x10\\x80\\xc2\\x11\\xd9\\x03L\\x81\\xa0)8\\xf3\\x02\\xbb\\x85!\\x92\\x9d\\x00\\x82\\xc8\\x91\\x88\\x80w\\x86\\xc8\\x89\\x08\\x80\\x00\\xa1K\\xc1\\x03<\\x98;7\\x9c\\x00\\x998\\xb8\\x88\\x84r\\xc9\\x08\\xb3\\x1a\\x91\"y\\xb8\\x91\\xb2\\x98!\\xcb\\x10a(\\xc0K\\x19\\xb2\\xa23\\xcc\\x110|\\x15\\xda\\xa0 \\xb9!,(\\xa9\\x02\\xb2\\x1fS\\xca\\xa0\\x058I\\xb8\\x8c\\x11\\x9b0\\x80\\xa7\\xe8!\\xa2\\x90\\x98+\\x04\\x0b\\xa1\\x17\\x0bWy\\xf3\\x89\\x80\\x80\\x80\\x00\\x80\\x19\\x98\\x11\\x89\\x82\\x99 \\xda\\x05\\xa1\\x00\\t)\\'\\x8e\\x88\\x1a\\x81P\\x96\\x8b\\x19\\x00\\x80\\x90\\x9c\\x07\\n\\x80\\x19\\x00\\t\\x84[\\xf1\\x81\\x8a\\x12\\xb8Q\\x88\\x90\\xb4;\\x8b\\x85p\\xb7\\x89\\x88\\x01\\x82\\xb1\\t\\xa9\\xa2c \\xc1\\xb9\\x00\\xc4\\x9a\\xe1\\x14\\x19 \\xb0;\\xb9\\x13\\xf2\\x8a$\\x1c\\x82:\\xbeA\\x01\\x80\\x99\\x92\\xa9z\\xc3L\\x08\\x80\\xab\\xc5\\x83(Q\\xab\\xa2\\x88\\x90\\x88\\x13\\xcb\\x13{9\\x88\\x8a\\xe3)\\xb8\\xb3\\xf5A\\xaa\\x81\"\\xb0\\x88\\xa9\\xd6)\\x84\\xb0\\x99\\x87\\x00\\x18\\x90\\xa5\\xaba\\x07\\x8d\\x18\\x80\\t*\\x14\\x8am\\xa4\\x8a\\t\\x88\\x80\\x08\\x91\\xc0\\xa4\\x80\\x12L\\xa0\\x12\\x98\\n\\x1b\\xc2s7\\x8e\\x88\\x08\\x88\\x10\\x88))\\x889P\\n\\xda\\x08\\xa8s\\x93\\xfb\\x02\\t\\x08\\x98\\xa8\\x04\\x91s\\xd7\\x90\\x00\\x80\\x18\\x80\\x9a\\x11\\x00\\xc8\\x81\"\\x16\\x9e \\t\\xa8\\x11\\xa1y\\x90\\xc0\\x18\\x8b\\x14\\xa8;\\xc48\\x89\\x83z\\xc2\\x8a\\xc3\\x83\\x8a\\x84\\x89\\x90\\x08P:\\x98=\\xc6\\t!\\n\\xd9\\x94\\x10(\\xb4[\\x89T\\x8f\\x80\\x00\\x88\\x90\\x92\\x10\\xb0P\\xa2:\\x10\\xfb8\\x8a\\x15\\n\\xd8:U\\x91\\xac\\x88()\\x8a\\x14w\\x9c\\x10\\x98\\x80\\x08\\x18\\x80\\xa0\\x80\\x01\\xb9\\x12\\xb3:\\xd9\\x95+\\x81\\x90z\\xaa\\x06\\x08\\xa8\\x91\\xda\\x16\\xa7\\x18\\x9a\\x00\\xc0\\xa11\\x81\\x0c\\x93\\x91\\x1c\\x07\\x0b\\xc20\\xf8\\x12\\x9b!\\x98\\xa1I\\xb8\\x93\\x86\\x18L\\xc1\\x08\\x10\\x90\\xd1\\x18\\xa2\\x1f\\x80P\\x88\\x19\\x19\\xf10\\x8a\\xa0\\x81\\x01!\\xeaH\\nS\\r\\x01\\xb8\\xab7 \\x0c\\x89\\t\\x03\\xac\\x18D\\x0b\\x10\\x87\\x9c\\x81\\xa2\\x1c \\x0b\\x84\\x1c!\\xb4\\x8b\\xc4\\x98\\tTw\\xba\\x08\\x00\\x88\\x88\\x81\\x19\\x80\\x82\\xb0\\\\\\x9a\\x01\\xe0!\\n\\xa3\\xc8\\x82\\xb5\\x02\\x12\\x8d\"\\xf0\\x01\\xb0$\\x0e\\x08\\t0\\x91Z\\x89\\x12\\x9c\\x08\\x0b,C\\xa9\\x95\\x99\\x93\\xb7\\x88\\x88\\x83\\xf01\\xbap\\xbas\\xa7\\n\\t\\x91\\x10\\xa0\\x98\\x01\\x00\\x03\\x98\\xd9(\\xa8A\\xd1\\x19\\x91\\x95\\x81\\x80L\\xd4\\x80\\x99\\x18(x\\xd6\\x18\\x18\\x98\\x98\\x19\\x01\\x18\\x1a\\xa9\\x07\\xaa9\\x02\\xa9\\x93\\xd5;\\x03\\x1f\\xa1(\\x10\\x990=\\x81w\\xd7\\x88\\x91\\x00\\x08\\x90\\x01\\x88\\t\\x88\\x90\\x81\\x0804G\\xf2\\x08\\x18W\\x06\\xa9\\xab\\x08\\t\\x91\\x08\\x88\\x80\\x80\\x08\\x01+r\\x07\\x0e\\t\\x08\\x80\\x90\\x10\\x88\\xa2\\x96\\t\\t\\x80\\x00\\n\\x10\\xd1@**x\\x17\\x8d\\x80\\x81\\x00\\x18t\\x16\\x02\\x9ax\\x93\\x9d\\x08\\x82\\xd9\\x8a\\x80\\x00\\x89\\x80\\x00\\x88\\x89\\xa2\\x81\\x909\\xb2\\x17\\x0e\\x80\\x10x\\xe0\\x08\\x007\\x99\\x8d\\x88\\x00\\x08\\x80\\x80\\x08\\x90\\x13\\r\\x00\\x88\\x90\\x80\\x81\\x1aw\\xf3\\x88\\x80\\x08\\x00\\x91\\x88\\x89\\x01\\x18\\x18\\t\\xb0\\x90\\x10\\xb3\\x88\\x84\\x18\\xa7#\\x87F\\xc90\\x1a:w\\xb7\\x8a\\x80\\x82\\x19\\xb09\\xaa\\xa2\\n\\x10\\x98\\x888\\xa8\\x00\\xa3z\\xa1\\x80\\x90#wW(\\xc1{\\x83\\x8e\\x01\\x89\\x81\\xab\\x00\\x91\\x19\\x85\\x0c\\x00\\tF\\xc8\\x8a\\x81\\x88\\x08\\x08\\x88\\x80\\x00\\x80\\x98(\\xaa%\\xc2\\t\\x91\\x10\\x08\\x11w\\x1c7\\xdb\\x10\\x98\\x88\\x80\\x80\\x18\\x19w\\x98\\t\\x024\\x95\\x9c\\x8a\\x99%\\xd0\\x99\\x08\\x88\\x80\\x80\\x80\\x08\\x80\\x88\\x10\\x80\\x88\\x98\\x08H\\xc8H\\x90\\x8a(1\\xfa\\x10(\\xa1\\x1a\\xc5s\\xf2\\x08\\x08\\x08\\x80\\x05\\x0e\\x18\\x80\\x19\\x89\\x02X\\xe4\\t\\x80B\\x85(\\x1bv\\xa0\\x9a\\x80\\xa0\\xb9\\x887\\xaa\\x89\\x80\\x90\\x88\\x18\\x81\\n\\'\\x8e\\x00\\x88\\x81\\x00\\x98\\x18\\t\\x00h\\x8a\\x00:\\xc0(\\xd2k\\x1a1xw\\xba\\x88\\x90\\x81\\x80\\x80\\x91\\x00\\x08\\xa0\\x10\\xb2b\\xf1\\x10\\x1a\\n\\x81\\xc3\\x82\\xa2\\x10K\\x90p\\'\\x0f\\x08\\x80\\x18\\x19\\x08\\x00)\\x00q\\x89\\x00\\x11xW\\x18\\t\\x80W\\xc8\\t\\x08\\x80\\x99\\x8c\\x08\\x88\\x88\\x80\\x08\\t\\x98\"\\x9br\\x17M\\xc1\\x89\\x08\\x19\\'\\xda\\x80\\x80\\x08\\x80\\x08\\x80\\x80R\\xba\\x88(X\\xb9\\x90\\x81\\x10\\x89\\x80J*\\xb1r\\x17\\x8f\\x10\\x98\\x88\\x008\\x91\\x8c\\x80\\x08\\x00\\x19\\x88\\x00y\\x90S\\x8e\\x90\\x18\\t\\x80\\x00\\xa0\\x98\\x93\\x98\\xa0\\xa1\\x97\\x00Y\\x1aY\\x80\\r\\x00\\xd2\\x00\\x92\\x1c\\x85\\x89!\\xbb\\xa0J\\xc3@\\x80\\xaf\\x04\\x12\\x9b\\xe3\\x89\\x02\\x11X\\x19>\\xb9\\x11\\x18\\x1b\\x98\\x00\\xb9\\x96\\x02\\xa5\\xb1\\x97\\x1c8\\x88\\x90,\\x81\\x01\\x9f\\x02\\xb1pw\\xb3\\x8e\\x08\\x80\\x81\\x88\\x08\\x91\\x80(\\x90\\x91\\x9a\\x88w\\xb7\\nr\\x01\\x80\\xca\\x8b\\x00\\x88\\x00\\x08\\x80\\x08\\x10\\x89\\x88\\x800\\x9c\\x18\\x96\\x90)\\x1c\\xa2Z\\xc4P\\xa9\\t\\xa2:\\x8c\\x05\\x01\\x00\\x0b\\xc0\\xa2i\\x9a\\x91!\\xd1\\x11\\x19\\xb7\\x08(9\\x89/5t7\\x08\\x8a\\x90\\x03\\x1c\\xb0\\x11J\\xa8\\x85\\t\\xa9\\xb1\\x16(\\xb2\\xba\\xef\\xab\\x90\\x08\\x00\\x88\\x90\\x10\\x80\\xb9\\x11\\x17;\\xa0\\xa1\\x988\\xbb\\xb4\\xb1\\x11J\\x8f\\xa4\\x1a\\x80\\x07\\x98\\x88\\xc8P\\xb1*9\\xbar\\xa0\\x18P\\xf2\\x10\\x88\\xa0J\\x90\\xb0\\x02*+1\\x0e\\x81\\x1f\\xa3\\x80@\\xb5\\x91\\x88#\\x0b\\x9fP\\x8b\\xb3w\\xc9\\x90\\x01\\x88\\x18\\x1a0\\xa8\\x19*%\\x0e\\x00\\n\\xb0\\x81\\x92(q\\x9a\\x91\\x03\\x19\\x93\\x10\\xf4\\x1c\\xa0t\\xe5\\x80\\x00\\x1a\\x80\\x80\\xa8\\x01\\x890\\xd2\\x00\\t\\xa0\\x04\\x1c\\x819\\t\\x90\\xa4\\x1d\\x85\\x19\\x98\\xa4\\x90\\x95\\x0b\\x99y\\x90Y\\xa8\\xa2\\xa0{\\x99a\\xa9[\\xb0\\x12\\x99\\x81\\xb38\\xbb\\x9aw\\xd7\\x80\\x80\\x00\\x08\\xa3\\x1b\\x89\\xb3\\x90\\x01\\xe0!\\x117\\x0b\\xb9+w\\x07\\xc9\\x89\\x00\\x88\\x18\\x80\\x80\\x98\\x18\\x01\\x98k\\'\\x81\\xba\\x8b\\t\\x80\\x18\\t\\xb0)\\x00\\x04\\x18\\x8f\\xb3\\x12\\x8b\\xb2\\xc11\\x94\\xb0R\\x08\\xb0y\\x1f\\x80q\\xd6\\x08\\x19\\x08\\x88\\x00\\x88\\xa0\\x02X\\x88\\xa9 \\x881\\x0e\\x11\\x88*-\\x8bB\\r\\x011\\x8c\\x94\\x18\\x8e\\x91<\\x11\\x0e!\\x90\\x83\\x8f\\x11\\x89\\xa1\\x11\"\\xb8\\x8c2\\xac\\xfa\\x86 \\x99\\x88\\xb0\\x13\\xa8w7\\x9f\\x80\\x80\\x80\\x08\\x00\\x88\\x01\\x1a\\x89\\x00\\x99\\x91\\x07)\\xa8\\x89\\x18B\\x0c\\xa2 \\x0e\\xc1\\x81\\x10Y\\xa5\\x8c\\x11\\x88\\x80\\xb9R\\x8aK\"+0\\xe9+\\xa7+\\x88\\x91N\\x88*\\x01\\xd18\\t\\xc0)3\\xd5\\xc0\\x119\\x03\\xd8\\x01\\xad2\\x97\\xb0\\xa0\\x10\\xd8Q\\x18\\x89\\x08\\xa4\\x08\\xc9\\x83\\xb2\\x1f8\\xb0\\x00\\x81\\xe2\\x82\\x9ar\\x98y\\x98\\x11\\x81\\x88\\xa4\\x1e1\\x90\\n\\xc0\\x18\\xec\\x11\\x91\\t\\xa9\\x88b\\t\\xb0Q\\x91\\x0b\\x8b\\x01\\x89\\\\\\x99\\x93 \\xbb7/\\x88\\n:\\xa4\\xc2\\x90\\x14\\x1a\\x11\\xae\\x12\\x01\\xfaZ\\x89\\x13$\\x8d\\xa1\\xa0\\x80\\x819\\xd9\\x01\\xa0\\x92Q\\xc9p\\x98\\n\\x88#\\tQ\\x9d\\x80\\x82Y\\xfb8\\x08s\\xa7\\x8a\\x80\\t\\x18\\t\\x81\\x98*\\x94\\x9a\\x13\\x1f\\x10\\'\\xa0\\xb91\\x13\\xfa\\x0b\\t\\xa3\\x19\\x08w\\x00\\x9b\\xc0\\x18\\x08\\x88!\\x98\\x98(\\xf3@(sw\\x05\\x88\\xea\\t\\x08\\x08\\x08\\x88\\x80\\x80\\x80\\x80\\x08 r\\xe0\\x88\\x81\\x88\\x08\\x88\\x00\\x18\\x18\\x19\\n\\n\\x00\\xa0\\xd4X\\x92\\xaaB\\xa8\\xb1\\x18\":\\xde Z\\x18*\\xba-\\x03/\\x01\\xa9\\x85\\x08\\xa8\\x04@\\x9d\\x00!\\xf1 \\x9b\\x020\\xb9:\\x8bz \\x01n\\'\\x9e\\x08\\x80\\x08\\x08\\x80\\x00\\x90\\x80\\x11\\x98\\t!\\xa0\\x98\\xc3\\xba3\\x12\\xaf\\xe4(\\x83\\x18\\x94\\xa0-\\x85\\x87\\r\\x90\\x10\\x8a\\x83\\r\\x12\\x90\\x99\\x10\\x93\\x1d\\x02\\x98\\x97\\x1b\\x19\\x82\\xbd1=h\\xd8\\x10\\tx\\xe3\\x08\\x88HG\\x98\\xca\\x08\\x08\\x80\\x80\\x08\\x88\\x01\\x89\\x91\\x90\\xa2\\x19\\x94\\x91\\xc9a\\x88\\x1b\\x11\\xac\\x04\\xc08\\x99\\xb5S\\x9a\\n\\x04\\x899\\x9c\\x00\\x0f\\xa2\\x85\\xa9A\\x88\\x1b\\x19\\x83q\\xd4\\x08\\x98);3\\x1c3\\xab\\xfb8\\x98\\x99\\x01\\xc5\\x1aH\\n/\\x92\\xc00\\xc1\\x11\\x99\\x03\\x08\\x1e\\x1a\\x1a0\\x97\\tP\\x8d\\x91\\x91\\x00\\x8bx\\xb4A\\x0b\\x19\\xbb\\x924\\xcb\\x90*(*\\x14\\xafC\\xa0\\x019\\xb5\\xa1}\\xa8\\x982\\xad\\x82\\t\\xa3J\\x02\\xa5\\xcaI!\\xcb\\x81\\x0c\\x05\\xb2\\x03\\x85;\\xf1 \\xaa\\x89w\\x97\\x8c\\x00\\x08\\x19\\x88\\x08\\x80\\x01\\x98\\x08\\x98\\x12\\x90\\x19\\x94\\n\\xb0\\xd3\\x12\\x19\\xac )\\xe1%\\n\\xb1/C\\xdb1*\\x10q7\\xa2\\xaf\\x08\\t\\xa1\\x00\\x18\\x91\\xa18\\nq\\x17\\x15\\xdc\\x88\\x80\\x00\\x98\\x01\\x88\\x11\\t\\x89)\\x81\\x90\\x8a\\x83\\n\\xb3\\x8c\\'\\n\\t\\x90\\x81\\x07\\x07\\x0b\\xa2\\xeb0\\x08\\x19\\x999\\xa3)g\\x8c\\x80\\t\\x91;\\x98\\xa3\\xb0\\x1cW\\x1a\\x89\\x19\\xc2\\t\\x8a!\\x11\\x83\\xd9\\x19\\xe4\\t\\x01#\\xc4:\\xa7I\\x98\\x1b\\x88\\x8d\\x11\\x91\\x1b0\\xb8\\xc3O\\x91\\xa0 [\\xb3\\xc1\\x08\\n\\x00z\\x91[\\x8a*\\xa1\\xa0;\\xa7\\x06\\x0b\\n@-\\xb02\\xb9\\x18\\x11d\\x92\\x0b\\x0b\\x8d,\\x8b\\x11S\\x19\\x88\\x8f\\x92 J\\x00\\x01/\\x00\\x01\\xdb8\\xb3\\x1eI\\xa1\\x00\\x8b\\xb3\\xf2\\x10\\x85\\x8a\\xb0\\x9a\\x84\\x05*,\\xa1IF\\x11\\x9c\\x8a\\x8c!\\x91\\x89\\x08\\xa8\\x95\\xcb$\\x98\\xa9\\x14\\x19\\x9a\\x86\\x1f\\x10\\xb1\\x82\\xa9\\x84\\xb31w\\xb6\\xa8\\x99\\x10\\x08\\x91\\x00\\x9b\\x00Q0\\'\\x8b\\xc8\\x10\\x88\\xab\\x80\\xc8\\xa1\\x02\\x85\\r3\\x9d\\xb1\\x02\\x851\\xd7\\x08\\x01\\x08\\xd4\\xa0\\x82\\x88a\\x02\\x1c\\x906qW\\x80\\xd9\\x89\\t\\x88\\x08\\x90\\x00\\x00\\x80\\x88\\x80\\n\\x88\\x00\\x80\\xb1(\\tX\\x8c\\xb28\\xa4\\x08\\x99\\x98t\\xf0\\x08\\x02\\n\\x81\\x19\\xd1\\x10\\x18)\\t(w\\xc7\\x88\\x80\\t\\x80\\x00\\xa1\\x18b\\x88\\xaa\\x82\\x99\\r8\\xb1\\x08\\x04)\\xcc\\x04\\xa9\\x80\\x91k\\t\\x85G\\x8e\\x80\\x80)\\x18\\t\\x80\\x80\\xb8v\\xc7\\x88A\\x01\\x80\\x80\\x01\\x98\\x98\\x10\\x13\\xb9\\xfb\\xbd\\xa9\\x18x\\x94\\r\\x88\\x08\\x18\\x98\\x10\\x08\\t\\t\\x01\\x82\\xb9J\\x92\\xab\\xc50\\x90\\xd4\\x81\\x08(8\\x9b[\\x82\\x1a\\xf3\\x10\\x9a%5\\x12)\\x04\\xdb\\xcc\\n\\x18*\\xe3\\x80\\x01\\x01\\x99e\\x9c\\x00\\x82\\x918y\\x96\\x02i\\x99\\x89\\x01<\\x12\\x01\\x93\\x02\\xcd\\xe9(\\x9c\\x80\\x98\\x00\\x99(p\\xb1\\x00\\x1b\\t\\xc8\\x18h\\x88\\xb85r\\x11\\x80\\xbb\\xadS\\x12\\xb89\\x91:Y\\x81\\n\\xcb\\x15\\x81\\x10\\x04\\xfb*\\x13\\xaa\\x18\\xb1\\x9d\\x16\\x82\\xaa\\x01\\xb1\\xdf\\x8b\\xa1\\x99\\x92\\x19\\xc91\\xb8#\\tsw5\\xf9\\x89\\x08\\x88\\x80\\x08\\x10\\x88\\x88)\\xd2\\x01\\x88(\\xb2\\x99\\xa2\\xa1\\x08\\x97\\x0c\\x04\\x89\\xb0\\x928S\\xd09\\xb0\\x92\\xaa\\x12\\xcb#w\\x87\\\\\\xc0\\x88\\x08\\x80\\x08\\x90\\x00\\x91\\x08\\xb0\\x82\\x81\\x13\\xac\\x91\\xa9\\x15\\xa1\\x91\\x83sv\\x84\\x91q\\x97\\x9b\\x80\\x00\\x90(\\xb0\\xa0p\\'\\xbd\\x00\\x80\\x08\\x08\\x89\\x00\\x98\\x00\\x18\\x08\\t\\x18\\x89 \\x1b\\x88<K\\xc1wy\\x94\\x08\\x90!\\x17\\xd9\\x98\\x88!\\xb0\\x8f\\x00\\x082\\xe9\\x08\\x88\\x00\\x08\\x88\\x18\\x08\\x18\\x89\\x81\\xa1\\x82\\x88\\x98\\xd0\\xa2t\\xd6\\x80\\x00\\x98\\x01\\x88\\x88\\x18\\x88\\x18\\x89\\x81\\xa95\\x99\\x0c\\xa8\\x82\\xa6\\x00z\"\\xb7\\x9a\\x80\\x1a\\x03\\x0e\\x08\\x90\\x84\\x889\\xa9\\x02\\xf9)\\x10\\x11K*\\x98\\xfa\\x01\\x97\\x80\\xd8@\\xb0\\x00\\x88G\\x8c\\x10w\\xf3\\t\\x08\\x08\\x08\\x08\\x00\\x98\\x81\\x80\\x08\\x88\\x98\\x11\\x19\\x18\\x1aj\\xa0\\t\\xc3\\x91w\\xc9\\x80\\x00\\x90\\x00\\x19\\x90\\x01\\x8a9(,\\xa0\\x94\\x8c\\x95\\x00\\xa0\\x89\\x90\\x17-\\xb6)\\x80\\x80\\x89\\x06\\x1f\\x08\\x08\\x88\\x91\\x00 \\xb9!\\x8d\\x02\\x98*|\\xc2\\x91L\\x00\\xa9\\x18\\x80\\x04-\\x10*x\\xd7\\x08\\x81\\x88\\x98\\x01\\x11\\x9aw\\x97\\x8b\\x08\\x88\\x08\\x08\\x80\\x08\\x90\\x80\\x91\\x88\\x00\\x10\\x1a\\x00\\xa1\\xa9\\x17z\\xe3\\x89\\x10\\x88\\x80\\x16\\x9d\\x01\\x89\\x11\\x89\\x08\\x91\\x04\\xab \\xf0\\x80\\x10\\x88?\\x10\\xa2\\x82\\'\\xa8\\x14y\\xc3!0\\x01\\x02\\x11\\x08\\xff\\x8f\\x00\\x88\\x80\\x80\\x81\\x88!!\\xd0\\x99\\x01\\xb8\\x90\\xa1\\x08\\x05\\xa0\\x98w\\xa9\\x19\\xa0\\x01\\x08\\x08BQ\\x80k\\xd8\\x80(\\xa2\\x08\\x08\\xc8!\\xe8\\x89\\x0c\\xb1\\x81\\x90#\\xaa\\x17W\\x9d\\x10\\x98\\x88\\x01\\x88\\x18\\x11\\xba)\\x01\\x82\\x0f\\xa2\\xb8b\\n`\\xd2\\x80\\t\\x80:)\\xa1L9\\x17\\x9e\\x91\\x81\\x08\\x11\\x80\\x19\\x8a\\xb2,3\\xccr\\x98:\\x8b\\x91w\\x8d\\x00\\x88\\x91\\x00\\x88\\x90\\x01s\\xb7\\n\\x88\\x08\\x10\\x88\\x08\\xa0\\x99S\\x18\\x8c\\x19\\t\\x11\\x05\\x9c\\x10\\xf82\\x9b\\x84*\\x96\\xa8\\x88\\x00\\x08<\\x02\\xd2\\x08\\xaa\\x17\\xa0\\x88\\t\\xc4&\\xa0wW\\x1b\\xd9\\x08\\x08\\x80\\x88\\x80\\x80\\x08\\x18\\x88\\x90\\x10W:\\xea\\x08\\x08\\x08\\x08\\x88\\x80\\x10\\xb0\\x01\\x81\\xa9\\x02\\xa1\\x05:\\r\\t\\x1a\\x96\\t\\x08\\x80\\x98\\x10\\xb33\\x04\\xa2\\x7f\\x0b\\x91A\\xcc\\x12\\t\\x99:\\x94\\n\\x11\\x1aJ\\x8bN\\x93\\x80\\xc2\\x08\\xc9\\x10\\x120}w\\x8c\\x88\\x00\\x88\\x08\\x80\\x80\\x00+\\x88\\x10\\x93\\x9e!\\x1a\\x84\\xc8\\x90\\t\\x94s\\xe3\\t\\x88\\x18\\xa0T\\xf2\\x08\\x90\\x01\\n\\x80\\n\\x94\\x192\\xc0;\\x8c\\x04\\x0b\\xe0\\x05\\nZ\\x10\\x96\\x89\\xb9\\x82\\x18(\\xdaw\\xf3\\x88\\x08\\x08\\x80\\x80\\x80\\x80\\x10\\x80\\x89\\x00\\x00\\xa8\\x18\\x18w\\xb7\\n\\x08\\x80\\x98\\xa1H\\xa0\\x00\\x90\\x01\\x08\\x0b\\x94\\x1a\\xa2y\\xb7\\xa8\\x90\\x02)\\xd3\\x80\\x95\\xb0\\x01\\x00\\x0cI\\x106\\x9b\\x8d\\n\\x03\\x82|7\\x8f\\x88\\x00\\x08\\x88\\x10\\x99\\x81\\x11\\xb9\\x02\\x19\\x83\\x98\\x1b\\xc2\\x89\\xa0\\x8bg\\xc9\\x83\\x08 \\x0c\\x96\\x98\\xa09\\x99\\x05\\x1c\\x98\\x1a8\\x84/\\xb1\\x83\\xe0\\x11\\xb2+c\\x99\\xb0\\x81\\x8e\\x95\\x19\\x89A\\x9b!w\\xc6\\x89\\x80\\x80\\x80\\x08\\x90\\x01\\xa8#\\x99\\x82\\xd2\\xa1Y\\xa9\\x08\\xa5\\x00\\x8a:)y\\x81\\x8b\\x05\\xf8 \\x899\\x10\\xb0\\x91\\x89\\xc50\\xc4\\x9bP\\x81;\\xd8\\x92\\x80\\x90M\\xc4\\x18)4u\\x07\\xa9\\x8c\\x88\"\\xab\\x00\\x08\\xa3\\x893\\x92\\n\\xdb9\\x90\\x10\\xd1\\x97\\x89\\x88\\t\\x18\\x98\\xc3Z\\x00\\xa0\\x18\\n\\xfb\\x86*\\x91\\x18\\xb1 N(\\x99\\x19\\xca3\\x1f ;\\n\\x88\\n\\x81\\xd3\\xa3Q\\x1d\\xb1\\x83\\xfb2\\x9ar\\xa7\\x8a\\x08\\x88\\x11\\x8b\\x11\\xb0\\x0b\\x07\\x8a\\x02\\x0b\\x91 \\x807\\x00\\x9f\\x01\\xa0\\x08\\xb3\\xb2,\\x11\\xfbx\\xc2\\x10\\x08\\x92\\x0c \\t*\\xad\\x10\\x96\\x18\\x81\\x988\\x8bI\\xcd\\x87\\x19\\x89\\x00\\x80\\x82+\\x00\\xeaw\\xb8\\x88\\x89\\x11\\xa1\\x81\\x81\\r\\x91\\xa1\\x94\\xa2K\\x10\\x08\\xf1\\x85\\x9a\\x80\\x02\\xba\\x91u8\\x91\\x8d+\\x00\\x99\\x81\\x13\\xaf\"\\x891\\x9c\\x91I!\\xe09)\\xb5/)\\x81\\xb9\\x9a\\x17\\x90\\x88\\x80h\\x190\\'\\x9f\\x00\\x08\\x81\\x88\\x18\\x82\\x8b\\x86\\x00\\t(1E2\\x14eD\\xa2\\xac\\x9a\\x9a\\x98\\xa9\\xa0\\x9a\\x91\\x9b\\x05\\x91\\xa0\\rH\\x8b\\x90x\\x9a\\x801-C\\xe8\\x98\\x10\\x01\\xa1\\x9c\\x83\\x98\\x80\\xdcQ\\t *\\x18\\x8f`\\xaa\\x00\\x13\\xb0\\x1d1\\x08\\xa8\\x0c\\x958\\x89\\x00\\x8a\\xa03\\xcc\\t\\' \\xbf\\x00\"\\xf8 *K\\xa0\\x1a9\\xc1\\x99\\x96\\x8bp\\x19\\x93)\\x99-\\xa1\\x95\\x9b%\\x9a\\x91<\\xb28\\xa0)Pw\\x9b\\x88\\x88\\x80*\\x00\\x892z\\xbb\\xb4y\\x81\\n,\\x91\\x88\\x01*\\x06\\xa2\\xcc\\x00J8\\xf8!\\xb1\\x8b\\xa4\\x11<\\xc2\\x1c\\x04\\x11\\x8a\\xab\\xa6\\xb1#\\xd8w\\xb9\\x08\\x80\\x80*\\x08\\x81\\x99 +*z\\x97\\x8b\\xa0(\\x98\\x12\\x92\\x8c\\x87\\x8a\\xa3\\t)\\x810\\xf00\\x91\\x9a\\xd18\\x11\\xaf#=\\x80\\x89\\x85\\x99\\x91\\x08<\\xa8\\x12\\x00@\\xb8_\\xb8\\xb0\\x17\\x99:\\x82\\x1a\\xfa0\\x01)\\x8c\\x18\\n\\x13\\x1a\\xf2w\\xb8\\x08\\x19\\xa1\\x10\\xb0:\\x8b\\x18\\xb3\\xa7\\xc0H\\xe1\\x02\\xa9\\x11\\x88\\xa1\\x12\\xd1\\x18\\x80\\xa7\\x11\\x18\\xb8s\\x99\\xb1\\xf8\\x10q\\xd1\\x88\\x00\\x01+\\xc1\\x80\\x03\\x89*\\xf8\\x93\\x81\\x01\\x8c\\xa3\\x85\\x8b\\x92I\\x90q\\x87\\r\\x08\\t\\x80\\x00\\x00\\xc9\\x11\\t\\t\\x88\\x113\\xbe!\\t\\x02\\xca\\'\\xa9\\x13\\xc9\\xa8<\\x11\\x1e\\x82\\xf1\\x92\\x10hw\\xab\\x08\\x08\\x10\\x80\\x80\\x89\\t\\x10\\x88\\xc8\\x81\\x81\\x80\\xc5I(2\\xd3\\xdb\\x08\\x81s\\xf3\\x88\\x00\\x98\\x08\\x10\\x90\\x088\\xe9\\x81\\x10\\x8e\\x12\\x88\\x80\\x00\\x14\\x02\\x90\\xf0:\\xf2\\x99\\x84\\x890\\x0b0\\xa0\\xc0z\\xb9\\x80\\x07\\x990\\xa80\\x9a,\\x19\\x90y\\x9a\\x11\\xc0\\xb3rg\\x8e\\x00\\x08\\x88\\x01\\x07\\x8b\\x88\\x88\\x91\\x80\\x88(\\x18\\xa1\\xc1\"\\x1b\\xa0\\xb3=\\x1c\\xa1\\x96\\x13\\x8c\\x00*\\xb9N:\\xc0@!\\xa8i\\xc0\\xa8\\x08s\\xa9\\x11\\xa9\\x12\\x92k\\x18\\x12\\xfa\\xd8\\x01\\x18\\xa0\\x10\\x12\\xd0\\x02\\xc2K\\xa1s\\xf2\\t\\x10\\x18\\xa8\\x80\\t\\x95\\t\\xa0\\t\\r\\xa5\\x00\\x01\\t\\x02\\x80\\xb0\\x8e(\\xb0X,\\xc9\\x86)a\\xda \\t\\x08\\xb1\\x08\\xb3K\\x11\\x93\\xf0\\x90\\x92\\xe1X\\x08\\xa0\\x19\\x98\\x02\\xb1\\x02\\x1fD\\xc1\\x9b\\x04r\\xac\\x01\\x88\\x80\\xa0\\x89\\x13\\xb0x\\x80\\x01\\x99)\\x03\\x8b\\xb93\\xfc\\x11P\\xf2\\x91\\x19\\x8d\\x03\\x00\\x182\\x8d\\x81t\\x12x2\\x8a\\x88!\\x91\\x06\\x1f\\xa1\\xc8\\x8f\\x80\\x80\\x08\\x00\\x88\\x90\\x88!+\\x99\\x82u\\xd4\\n\\x18\\x88\\x80\\x80\\t\\x810\\x80\\x8b\\x81\\t\\x1f\\x90\\x97\\t(\\x98\\x82[\\xb0\\x01K\\x18P\\x8e\\x00\\x81\\x1d\\x98\\x83(\\x91\\xf91\\t\\x91 \\xd1{\\x1b9\\t;Z8\\xdc\\x11\\x00w\\x9b\\x80\\x19\\x88g\\xb9\\x90\\x80\\x08\\x1a\\x19\\x91\\x19\\x12\\xb0:\\t\\x98i\\x0b!\\xb0A\\r\\x02\\x80\\tz\\x15\\xc0\\x88\\x01\\xc1\\xaa\\xe0B\\xaa\\x89h\\x01\\xa9X\\x80\\x991\\x0f\\x80\\xa8A\\x90\\x10\\x1a\\x82\\x1f\\x91(-\\xa0\\x18X\\x10\\x0cK\\xa0\\xf4\\x00\\x90 \\x80\\x89>\\x11\\x08\\xcb\\x00\\xc7\\x00\\x91\\x03\\xc9\\x10\\x08\\x93\\x1f\\x81\\x96\\n\\xb3\\xa3\\x88*\\x1d\\x08j\\xc09*\\x80/\\x810\\x8d@\\t\\x93\\x0b\\x81=\\x19;\\t\\xb7\\x1c\\x94+u\\xc0\\x80\\x98\\x88!\\x80;\\x16\\xc4\\x98w\\x01\\x1a\\xe8r\\x83\\x9e\\x00\\x18\\x80\\xb9\\x80\\x80\\x08\\x88\\x00\\x90\\x11\\x99\\x08\\x08\\x01\\xa9\\x98\"\\xf8\\x90X\\x19\\x80\\x88\\x18\\xa8\\x14\\xe0*\\x800\\xb2\\x12\\x0f\\x92\\x1b\\x94pw\\xab\\x88\\x08\\x81\\x11\\x99\\x88\\x92\\x82\\xa9\\x180\\x0c\\x12\\x10\\x88)\\xf0\\x9b\\x07\\xb9\\xa0\\x17\\x8b\\x81\\xb3\\x97\\xa4\\x0b\\x10;\\xc2\\x92\\xb4\\x02)\\t(\\x0f\\x92\\x19\\x98O\\x19\\x19\\x10C\\x8aQ\\x8b\\xb3&\\xa4\\x83wG\\t\\xa2}\\x84\\xbb\\x02\\t\\x80\\xc8\\x89\\x08\\x08\\x18\\x88\\x91\\x82w\\x82\\x19\\x83\\x1bG\\xea\\x10\\x98\\x81\\xa8\\x8c\\x88\\x80\\x08\\x88\\x80\\x88\\x80\\x00\\x08\\t\\nq\\x8a\\x89\\x80\\x00\\x88\\n\\xa2\\xc1\\xa1\\x94\\x98\\x91\\xa2(w\\xf3\\x89\\x11\\t\\x19\\x08)\\xa9\\x19\\x02\\xf9Y\\x89\\x92\\x10\\xe9\\x91\\x13\\xc0 \\x02\\x9f\\x10\\xa1\\x02I9\\xf1\\x10\\x8b\\x14\\xab\\x91\"\\x9c[I\\xb8\\x02\\x05\\xb8\\x9b\\x12\\xb9\\r\\x043,\\xc1{\\x98\\x94\\x06\\x1cy\\xa6\\x8b\\x90\\x81\\x80\\x91y\\xa5\\x0c\\x00\\x08\\x88\\x08\\x00\\x98\\x08\\x13\\xaa\\x80\\x19(\\xaaI\\x8b&\\x05\\xb2R\\xdap\\xe5\\x88\\x00\\x08\\x80\\x08\\x08\\x90\\x80\\x08\\x10\\x89\\x82\\n-\\xb2\\x94 \\x9b:\\xf3!\\xc8\\x11is\\xf8\\x88\\x81\\x80\\x80\\x80\\x90 \\xd0\\x11\\x19\\x99!L\\xaaH\\xc0\\xa1#\\xd4:\\x11\\x99\\xaa\\xb3\\xa5\\x08W\\x1a\\xe3\\x89\\x91\\x1b\\x88\\x03\\x88:\\xc2\\x18\\xf0\\x14\\x10\\x19\\x02\\xc3\\xfd\\x01\\x18\\x91\\x81\\x18M\\x90\\xb8\\x11\\x82\\xbc\\x03\\x82\\xa1<\\x1a\\x9bqx\\xc1\\x19h\\n\\x8c\\x00\\x12\\xa2\\x0b\\xa8#\\x0e\\xd3\\x01\\x82\\xc0\\x18s\\x87\\x0e\\x88\\x80\\x00\\x80\\x91\\xa2\\x00)X\\x06\\xa8\\xb9\\xa8\\x92\\x91\\x19\\xa4Jk\\x9b\\x82I\\xa9 \\x90]\\xc1\\x811\\xa8\\x1a[\\x1d\\xb2\"\\x01\\xb9\\x1fA\\x0b\\x8aY9\\xa8\\xb9r\\xba\\x04\\x01\\x1e\\xa1\\x02\\xaa\\x13\\x1a\\xf5 \\x08\\x00K\\x02\\x8a/\\x908\\xcb\\x90\\x83\\x01\\t:\\x04\\xf3I\\x9d \\x98X \\x8e\\x00w\\xaa\\x80\\x08\\x90\\x00\\xa0(\\x02\\x90\\xb9\\xc39 \\t\\xf4!\\xa9\\x19\\xc1B\\x1bs$\\xbe\\x92\\x19\\t\\xb2\\x19\\x04\\x19J\\xb0\\xb2\\x01\\xfb0\\xb0\\x11\\x90\\x9f\\x82\\xc4\"\\r\\x88\\x89\\x13:\\xd1\\xa5\\xa0X\\nr\\x07\\x9d\\x00\\x18\\x88\\x88\\t\\x02)\\xba\\x83\\x84\\x08\\x08\\xaa.\\xa2r\\x8a\\xb3*\\x00\\xe18*9\\xa7x\\xd6\\t\\x00\\x88\\x10\\x90\\x88\\x809\\x00\\x91\\x8c\\x11\\x85\\xaa \\xabL\\xb4\\xd2A\\t\\x98\\xa3\\xc1\\x11\\x18w\\xf3\\x89\\x00\\x88\\x80\\x08\\x10\\x99\\x91\\x84;\\xc1!\\x1a7\\xf1\\x89X\\x99\\x88\\x18\\x11\\xba\\x12\\x89\\xb2\\xa9w\\xca\\x01\\x80\\x18\\x88\\x01\\xc1\\x80\\x15\\x1b\\x80\\x98I\\xd8j\\xb0+\\x01\\x81Z\\t\\x00\\x92\\x8d\\x12\\xab\\'7\\x9f\\x00\\x80\\x80\\xa8\\x01\\xa8\\x01\\x13\\x0e\\xa0\\x10\\x02(\\x1b\\x97\\xa5\\x89\\x8a\\x01\\xb1\\xb1H\\x11/\\x88{\\xa4\\xb9\\x00\\x908 \\xc8Q\\xb4\\x82\\xf9\\x80\\x1a\\x91q\\xb8\\x18\\x10\\x19\\x80\\xb5yw\\xab\\x08\\x18\\x98Q\\xb8\\t\\x00\\x08\\x08\\x08\\t\\x08\\x81*\\x89-\\xc1\\x14\\x9aV\\x07\\xe8\\x88\\x81\\x88\\x90\\x01\\t\\x10\\xa9:\\x10\\xb8S\\x90\\xa1\\xf3\\x01\\x80\\xa2J(\\x19\\xfb\\x03\\x88\\x00\\x80\\x88\\xf4\\x94*\\x88\\x10\\xa1\\x1f\\xb4\\x91xw\\xab\\x08\\x18\\x08\\x88\\x08\\x00\\x18\\x01\\xa8\\x03\\x8b\\xaa\\xa9\\x01\\x16\\tx\\x89\\x99\\x01\\xb8\\x1a\\x9a\\x05\\xcb\\x04\\xc9\\x83\\x19B\\xbbx\\x19\\xaa!\\xbb\\x87\\x18\\x91\\xf8\\x04+),\\x19\\x1a\\x11\\xf9i\\t\\x1a0\\x9bt\\'\\x8f\\x08\\x80\\x08\\x00\\x88\\x80\\t\\x10\\xa8\\x80\\x03\\xc0\\x00\\x90Y\\x89\\x91\\x082\\xdb\\xe91\\x91\\x98\\x10((\\x17\\x99*\\xbd3\\xc1\\xf8\\xb0%(\\x8a\\x98\\x94\\xa0?\\x90\\x891\\x8c\\xb7\\x00\\x01\\xa2/\\x11U\\x19\\xca\\x89\\x99\\xa3\\x19\\x03\\x99;\\x01\\x9a\\xb8r\\xb0\\x83\\x99[Y\\xc2\\xb0R\\x899\\xd8\\x02\\x0c\\x18`\\xb2\\x00\\xb2\\x1d\\n\\x01\\x97\\x1b\\x85\\x1c\\x8aX\\x89\\xb2\\x92(\\xe3\\x8a\"\\x18\\xb4\\x9a%\\xcc\\x04\\x10\\x19q\\x17\\x8f\\x88\\x01\\x98\\x80\\x80\\x08\\x81\\xb2\\x18\\x00\\x10\\xe8H\\xa8\\x00\\xb1s\\x89\\x8d\\x13\\xaa!\\xd0\\x18\\x93\\x99Q\\r@\\x92.\\xb0\"\\xaa\\xd49\\x92\\x9b\\x86\\x88\\x911\\x1b\\x051\\x93\\xdf\\x01\\xb9\\x11\\x88\\x81\\x0bw\\xd7\\x90\\x81\\t\\x00\\x88\\x01\\x08\\x08\\x08\\x19\\x19\\x9a\\xc3\\xa2A\\x1a\\x8b\\x11\\x84\\xb5\\x0b\\x80\\x1f\\x10\\x02\\x98\\x1f\\xa4\\x82\\x1a\\x1a\\x13\\xfa\\x02\\x8b\\x85\\xb1_\\xa8\\x11\\x91\\x18\\x90\\x900\\xd8J\\x10\\xd0\\x00\\x15\\xda\\x00q7\\x9f\\x00\\x88\\x90\\x81\\x80\\x18\\x08\\x18\\x08\\x1b\\x81\\x00\\x8a\\x98Q\\xda\\x00\"\\x9a\"\\xd39\\xa0;+-\\x17\\xb0\\n\\xbc&\\x90\\xf0!)\\xc0\\x94\\x19\\x92\\x1a\\x8c\\x81\\x81/\\x88\\x81\\x80\\x1a\"1\\xfd\\x82\\xa8w\\xd6\\x08\\x80\\x08\\x88\\x80\\x81\\x80\\x88\\x81\\x98\\x10\\x89\\x00(\\\\\\x89\\xa6\\x8b! \\xac\\x13\\x9c\\x96\\x19\\xd0#\\x99\\x18\\x0b\\xa4\\x90\"\\x81\\r,j\\xb0\\x01\\xe8\\x92\\x15\\xc9\\x00\\\\\\xb1(\\x90\\x0b \\n\\x17\\xa9ig\\xab\\x80\\x80\\t\\x00\\x08\\x98\\x00\\x88*1H\\x99)\\r\\xb5\\x18\\xaa\\xc1\\x95\\x109,\\x18\\xa00\\xa6\\x87\\x8a\\x08\\x99\\x80\\xa2*\\x1b\\xf3\\x15\\xcb\\x00\\x94.\\x11\\xa9\\x11\\xa8B-\\t\\xb8\\xb3\\x93),\\xa7p\\x87\\x8c\\x08\\x88\\x01\\xa0:\\xa8\\x12\\x89\\x08\\x01\\x19\\x1f\"\\xe1(\\n\";\\xe0\\x90I\\xd8y\\x00\\x0bq\\xb1\\x99\\x80\\xa1\\x02\\x88\\x88\\xb1ZJ\\xb8x\\x98\\xa0I\\x10\\xa92\\x9f\\x92z\\x80)\\x80\\x0c\\x18\\x91s\\xf8\\x80\\x00\\x00\\xa8\\x11\\xba#\\x9a\\x1a!!\\xf2)\\x103\\xf3\\x1a\"\\x97\\xab\\x18\\x00\\xfb\\t\\x06\\x087\\x8f\\x08\\x81\\x88\\x80\\x08\\xb8\\x84\\x88\\x02\\xba\\x84\\x11\\x890\\xa4\\x89\\xe9\\xb2\\x01\\x18y\\x98\\x18\\x0f\\xa2p\\x17\\x8e\\x00\\x08\\x88)\\x88\\x11\\x89\\t\\x18\\x90\\x10\\xe9#\\x89(\\xda\\x03;\\x1cI\\t\\x19\\xa3\\x0fA\\x9a\\x92\\xa8\\x82|\\x91\\xa9\\x19\\xba9E\\xa8\\xa3\\x88\\x12:\\x1fx\\xa2\\x8a\\x91\\x08\\x19?\\xb0\\x81%\\x99w\\xd6\\x88\\x08\\x08\\x80\\x08\\x08\\x08\\x92 \\x90\\xb0<\\x18\\n\\x8a2\\xfb\\x10\\x19\\xd3\\x12\\x1b\\x99\\xf5\\x10\\x80)\\x9a\\xb2\\x86\\x8a\\'\\xa8\\xb0\\x98\\x85*\\x19\\x91\\x1b\\t\\xa7\\x99TD\\x88\\xca\\xa9)\\x10\\n\\xd18yw\\x8c\\x88\\x00\\x88\\x80\\x81\\x08\\x19\\x08\\xa0\\x82\\x98\\x11,\\x81\\x0f)\\x93\\xa0\\xb08H\\x1a\\x81\\x1f\\x00\\x19\\xa7\\x10\\x0b+b\\xbb@\\x08\\x9c\\x95\\t\\x01\\xa2\\xc8\\x06,\\x88\\x91\\t\\x900\\xbcp\\x90\\x00\\x81\\xd2w\\xc5 \\xa9\\x88\\t\\t\\x80\\x91\\t(\\x90\\x0b\\x92N)\\x99\\x02<\\x98\"\\x8f\\x92\\x88\\x18s\\xa8\\x03]\\xb1\\xc0\\x88\\x00!\\xf8\\x18\\x11\\n\\n\\x18\\x12\\xb0\\x81\\xc6;\\x1a\\x94J\\xa1\\x1cH\\xa4\\x18I\\x86%\\n\\xaf)\\x80\\tX\\x99\\x90*9\\xa8)\\xda\\x15\\x98!\\x0b\\x00\\xacAl9\\xb0\\x00\\xe1\\t\\x86\\x989\\xc5\\x88\\x90\\x82\\x01\\x1d\\x88Z\\x08\\x90\\t\\x95\\x8b\\xe2P\\x88\\x80\\xa3H!\\xe0\\x8a\\x90X\\xc8\\x90s\\x07\\x8d\\x80\\x88\\x18\\x80\\x18\\x08\\x9a\\x02(\\x1d\\x91Y\\x98\\x00\\x1a\\x82\\xc18\\x88}w\\x04\\xcb\\x89\\x08\\x08\\x80\\x00\\x88\\x88\\x10\\x80)\\x98\\x00\\x98\\x86\\x88\\x8a1K\\x80\\x88\\xab\\x87\\r\\x81\\n\\xa2\\x18\\x10\\x05\\x9ew\\xe1\\x08\\x80\\x08\\x08\\x18\\x80\\x89\\xa1\\x88\\x14\\xa9\\t\\x11\\x91\\xac\\x12\\x84\\xb1\\x98\\x0c\\x14\\xb1$\\xfa\\x12\\x9a\\x14.\\xa8\\xb24\\xa2\\xad\\x12(,8y:\\x8b\\x0b\\xf0I\\x88* \\xa9\\x11\\x00\\x05\\xc2=\\xaa\\x04W\\x0f\\x08\\x90\\x00\\x80\\x18\\n\\x10\\x19\\x99\\xa2\\x94+\")\\xf2<w\\xd0\\x08\\x80\\x08\\t\\x88\\x818\\x0c\\xa2\\x00t\\x84\\xa8\\x0e\\x08\\x88\\x80\\x00\\x90\\x19\\x94\\x19\\x8c\\x88\\x12\\xa01\\x0c0\\x89\\xa0\\x86\\xea\\x02\\x00y\\xe2\\x881\\xba\\x00\\x19\\x83\\xa4\\xa8\\x08\\xa9\\x07\\n\\xc8\\x02\\x12\\x0b\\xca\\x13\\x1f\\xa2\\xe2\\x12`\\x88\\xa0\\x0bc\\x91\\x08\\xa9\\x88:\\x8f\\xc2Z\\x08\\xa0)\\x00\\x8c\\x15\\x99\\x9c#\\x8a\\x86\\xb8b\\x8b\\x87\\x99\\x10\\x81\\x81w\\xbb\\x01\\x88\\x90\\x19\\x19\\x89\\x18\\x82Y\\x98\\x9bB\\xb6\\t\\x18\\x1a\\x85.\\x81\\x91\\x90:\\xa0\\x91\\x00K7\\x9f\\x10\\x89\\x80\\x90\\x981\\xd2\\x81\\xcc1\\x93{\\xa9s\\xb7\\x89\\x08\\x10\\x80\\xa9\\xa2\\t9\\x14\\x0cr\\x87\\x8d\\x08\\x08\\x08\\x08\\x10\\x98\\x88\\x01*\\xa3\\x91\\x11K\\xba\\x87\\x08\\x00?\\x10\\t\\x89\\xe0\\x80\\x94\\x8bs\\xc4\\x89\\x80\\xa1\\x11\\x99\\x03=\\x9bq\\xb7\\x89\\x01\\xa9 \\x08\\n\\x02 \\xa0\\x9a?#\\x9e\\x19\\xb1\\x13w\\xc9\\x80\\x18\\x88\\x00\\xa1\\x92[\\n\\xa1;\\x80\\x828\\xb1\\xdbr\\xb1\\x10\\n{\\x89\\xa0\"\\xf3\\xa8\\x10\\x86\\n\\x00*\\n;\\xd2\\x98\\x07\\xa8\\x1e\\x01(\\x80\\xb8E\\x0c\\xa0X\\xa8+\\x90\\x13\\x9a{\\x99\\\\B\\x97\\r\\x08\\x19\\x90\\x80\\x08\\x90\\x81\\x03\\x0b\\x82\\x10\\xe1\\x89a\\x8c\\x81K\\x19\\xb0\\xa2(h\\x91\\x1aqw\\x8d\\x00\\x88\\x08\\x80\\x08\\x99\\x83\\x80\\x80\\x91\\x99*)\\xc7\\x10\\x88\\x08\\x820\\t\\xf2\\xb0\\x84\\x90\\x90\\x83w\\xc7\\x88\\x08\\x08\\x80\\x08\\x80\\x80\\x81\\xb8\\nA\\x88\\x00q\\x8c9\\x88\\xb3R\\x9c\\t\\x01\\x1a\\xf2!\\x0bU\\xac\\x80\\x81\\x00\\x80\\xa3\\x1a\\xb1\\r\\x01@\\x8a\\xa7\\x08\\xc81\\x10\\x8d\\xa5;w\\x8c\\x80\\x80\\x10\\xa8\\x10\\x00\\x88\\x009\\xb1\\xca\\x08D\\xba\\xe0 \\xb22\\x0b\\xb8\\xa6\\x98\\xa0&\\xab\\xb1\\xb0\\xb0s\\xc9p\\x90 \\xa5\\x0c\\x82\\x0b\\xb1\\x84\\x88\\xb9A\\xb8q\\xb7\\t\\x19\\x18\\x90\\xa2\\x8a\\x12\\x0cD\\xca!\\x91\\x1a\\x90Dw\\xa7\\x8a\\t\\x88\\x90\\x08\\x82\\t\\x10\\xb89\\x13\\x0c**\\x02\\x1f\\x07\\nw\\xba\\x00\\x88\\x00\\x88\\x88\\x81Q\\xaa\\x88\\x818\\x8d\\x10\\xa0)\\x88\\x1b\\xe31\\x9a\\x11\\xd3Y\\t*\\x80\\x82\\x05\\n\\x18\\xc2\\x1e\\n)w\\x9c\\x18\\x18\\x90\\x88\\x99\\x13\\x1d\\x82\\x94\\x8c\\x01\"\\x8e\\x91\\x1a\\xb4:\\x84\\xa9\\x83\\xe4\\x92,\\x00\\xc01\\xa00\\x811\\xbf\\x01\\x96\\x9b\\x02\\x8a\\x8b\\x07\\x19\\x19\\xa2\\x19\\\\\\xb6\\x18\\x88*/\\xb2\\xb2\\x83\\x88{\\n\\xc2:\\x88\\x03\\xc0\\xa6\\x90\\x8b\\x05)\\x1a\\x1aj\\xb0\\xaa$\\x1a\\x89\\xb0\\x902s\\xa3\\xab\\xc9y\\x03l\\xb8\\x91\\t@\\xf1\\x08 \\x80\\x8b!\\x08\\x16\\x0e \\x18\\x9a\\xc8\\x80\\x93\\xc8H\\x8c\\x95\\x02\\xa0|\\xb7\\x19\\x89\\x10\\t\\x80(\\x9c\\x02\\t\\x90X+\\x91\\xa2\\x04\\xe9\\x83\\xc0\\x05\\x88\\x0b9\\xf01\\x1b\\xb8I9\\'\\x8f\\x10\\x99\\x02(\\x89\\xb2\\t*\\xa6\\x99J\\xb4\\r@\\x99\\xa3\\x18\\x15\\x16\\xd1\\x1c\\x98\\xb10\\xa1q7\\x8f\\x08\\x08\\x08\\x08\\x89\\x00\\x90\\x11\\x08\\x98\\x19\\x88\\xb2\\xe3 \\x1b\\xa2\\xc0B\\x0e\\x92\\x11\\xb1\\xd12z\\xe4\\x08\\x880\\x89\\x90\\x08\\x089\\x1b|\\x90\\xb8)+1\\xaap\\x19\\xb2\\x8c2\\x0b\\x8cD\\xb3*ct\\xd7\\t\\x80\\x08\\x88\\x91\\x18\\x80\\t\\x02\\x08\\x98\\t\\xe8\\x02)\\xcb\\x01#\\x81=2\\xbf\\x11\\xb4\\x19\\x12\\x8d\\x00*z\\x8c\"\\xc1\\x80\\t\\x819\\xe8\\xd2\\x12\\x81\\xd2\\x99\\x05\\x13\\x0e\\x01\\xa9\\x81<\\xa2j\\xa0w\\x8c\\x18\\x08\\x19\\x98\\x18\\x98I\\x80\\t\\x82\\x8b\\x08\\x0f\\x84\\x01\\x89\\x92\\x08*\\t\\x81x\\x97\\x99\\xb90\\x82\\xd1I\\x1c\\xa2\\x98y\\xc2\\x889w\\xab\\x00\\x90\\x91\\x18\\x18\\x99\\x90\\x02\\t\\xa1\\xa2(X\\xb0Jp\\x87\\x8d\\x80U\\xab\\x08\\x80\\t\\x88\\x82\\x18\\x89H\\xb9\\x96\\x08\\x08\\x10\\x18\\x99D\\x9d\\x18\\xa888\\x19_\\x98\\xa1\\x89\\xb8\\x82\\x17\\x9a\\x9a\\x04\\xc83\\xdbb\\xb0\\x89\\x10\\xe81\\xa2+\\x92\\x1a9\\xdbY(\\x92w\\xf2\\x08\\x88\\x00\\x88\\x80\\x90\\x81\\x82\\xa0\\t\"i\\x8a)|\\xa7\\x8a\\x01\\x88\\x80\\x88)\\x08:\\x92\\xd9T\\r\\xa1\\x98\\x02\\x901\\xaa/\\x92\\x81\\x8d1\\n,\\x081\\xfb\\x02\\x18\\xe8\"\\xc3\\x1b\\x84\\x1c\\x83qw\\x9c\\x08\\x80\\x80\\x08\\x00\\x19\\x19\\x89\\x90\\x02\\x18\\x8d\\x10\\xa2)\\xb8\\x01\\xf0#+\\x1e\\x02\\xa4;\\xe3\\x80\\xa3(\\x1e\\x18\\x1a\\x819h\\xcb\\x80\\x10\\x9a\\x16\\x80\\xa0\\xa8H\\x9aZ\\xd3\\x9a3\\xa0\\x9b%\\x8c\\x97w\\xf3\\x88\\x80\\x80\\x80\\x08\\x19\\x88\\x00\\x80\\xa1\\x80\\x19\\x0c\\x01\\xb3\\x00\\x08\\x94\\x89i\\xd5\\x91\\xa0(\\x80<\\x10,\\xa9X\\x02\\x0ez\\xa8\\x19)\\x89\\x11\\xd4\\x11\\x1c\\x12\\x89\\x10\\x9a@\\xfb8\\x08\\xb3\\x9a!\\x10~g\\x9c\\x80\\x00\\x88\\x88\\x80\\x910\\xb7\\x88\\xb8\\x83(\\xa9(\\n\\x98\\x04\\t\\x1a\\nLb\\xa9)\\x11\\xfa(\\xa1\\x1c\\xb6\\x81\\x11\\x9b#\\n\\xd3\\xa8h\\x89\\xe2\\x90#\\xb8\\x89\\x14\\xcc@\\xa0\"\\x9b\\x07\\n\\xbaw\\xd3\\x89\\x08\\x80\\x18\\x81\\x99\\x08w\\xf2\\x08\\x88\\x00\\x08\\x88\\x08\\x80\\t\\x91!\\x89*\\x81\\x8b\\xb3\\x12k\\xabC\\xe98\\x18\\x1a\\x82\\x9dY\\xaa1\\x93\\x8b\\x1b\\x08{\\xf0\\x91\\x02\\xc8\"\\x00\\x9f\\x12\\xa8{\\x908g\\xca\\x80\\x00\\x88\\x98(\\x91!\\x1a\\xa8(\\xf2\\x88\\x00+\\x19\\xb0\\x03*Y\\x98\\xaf\\x93\\x05\\x1a\\xc28\\xa2\\xfa\\x90\\x88\\x10\\x04\\x80\\xb0\\xd4\\x02\\xb8\\xc9\\x95\\x92\\x98\\x1f\\x91\\x11!\\xdbK8{\\xaa!\\x8a\\xa0p\\xa7\\x9a\\x00 \\xb8\\xa3\\x0c\\x11 \\x80\\x0f\\xb0\\x10\\x11\\xc9\\xb3\\xc2F\\n\\xba\\x80\\x02\\x19\\x9b!\\xd3\\xadd\\xa8\\x00(\\xca\\xa13\\x8c\\xb0i\\x82\\xa9\\x87\\x0b\\x8a\\x02Z\\xdb\\x03\\x92\\x1e\\x19\\x82\\xb1<\\x81\\x1f\\x08\\x82\\xb8\\x02\\xa9\\x95\\xc0\\x81\\x1cB>\\x0c\\x81\\x88@p\\xaa\\x88\\xa8\\xa0Q\\x88\\x90\\x00\\x08\\x8eP\\x9aaw\\xab\\x08\\x08\\x08\\x88\\x18\\x80\\t\\t\\x90I\\x81\\x98\\xb0 \\xe4\\x909\\x92\\r\\x081\\x89[\\x0c\\xb5\\x1b\\x93\\xfc\\x11\\x909\\xb1M\\x81\\x99\\x82\\xba\\xa3\\x97\\x89\\x00A\\xe89\\xd2\\x18\\x98\\x8a\\x04\\x02.\\xa8\\xb0!\\xc1\\x19 >\\xe1\\x00\\xc0\"\\x89\\x80\\xb1.9\\xc8\\x81\\xc0\\x83\\x17\\r\\x1a\\x91\\x19\\x91\\x90\\xb3\\xb8w\\x9b\\xb9\\x12Y\\x08\\x89\\xa2\\x89\\xc3\\x90\\t3O\\xc3\\x8a8\\x89\\x0bQ\\x1d\\x88\\xb3\\x08\\xc8\\xf3 \\x19\\x90\\xa1\\xec$\\xa0\\x19\\x1b`\\xb8*\\x99\\x96;\\n\\xba(3\\x85\\xf1\\xa0 \\xb0\\xc1\\x07\\t\\ns\\xb7\\x8a\\x80\\x08\\x98\\x93\\x19\\xaa\\x05\\x98*:\\xb8{\\x00\\x90\\r\\x83\\xaa\\x03`\\xa8\\x19 /\\xb0\\xa4\\x95\\x18\\x9b\"\\xc8[\\xf1 \\t\\xc1\\x00\\x00\\x90\\x13\\x999\\xf3\\x82\\x90]\\xb1\\x80L\\x08\\x1a\\x98P\\xb8:\\xb2\\xb1K\\xa2\\x92\\xfa\\x13y\\xa2\\x0c(\\xc08\\x89\\xba\\x05\\xb3m\\x91\\xa8\\x0b\\x04\\x10 \\x8f\\x91\\x08\\x84+(\\xa1\\xe1\\x89\\x85\\x1a\\xa8\\xb6#\\x19\\x9a \\x9f\\x93X\\xb6\\x88\\xb1\\x83\\xb1\\x0c)\\x92\\xd3Y\\n\\x89\\xa3K8\\tk\\xa1x\\xc0\\xa8\\x94\\xb189:\\x89\\xb6\\x98@\\xab\\xa5\\x06\\xa8\\x81\\xc2)0\\xcc\\x01\\x88\\xb3z\\x00\\x10\\x98\\x9d\\x84)9\\xd8\\x11\\xbct\\x99@\\xa8\\x89\\x90\\x12\\x19\\x1a\\xf1\\x93\\xb1\\xd3\\x10-\\xa1\"0\\xbc\\x80\\xa3\\x97\\x992\\x89?=\\xa0!\\xaa1\\xf0\\x908\\xa1A\\xfa@\\xa7\\n\\x900\\x0c\\xa4\\x08\\x99\\x91\\x92\\x18j\\x01\\x98;\\x98\\xcb\\x87\\xb0i\\xa0\\x12\\x0c\\xa2\\x91\\xa2\\xaa\\x06\\t)\\x80\\x92\\xf9\\x14\\x92\\x1f\\xb3\\x1b;\\xc5)<\\x18\\x83\\xc2\\x8a@sW\\x8a\\x18\\x1a\\x03\\x0e\\x83\\x91,A\\x980\\xb9l\\x93\\xcd\\x08\\x11\\x9d\\x90\\x00\\x88\\x08\\x80\\x80\\xa2\\x92\\x91(\\x08\\xc8\\x93\\x82L\\x08\\xf3\\x00\\x83\\x08\\x8d\\x83\\xa2|']"
      ]
     },
     "execution_count": 30,
     "metadata": {},
     "output_type": "execute_result"
    }
   ],
   "source": [
    "messages"
   ]
  },
  {
   "cell_type": "markdown",
   "metadata": {},
   "source": [
    "Great scott! its really quite fast... we get a bunch more metadata like the the position of the receiver, some dial frequencies, bands etc.. Then we get a bunch of binary data! cool... but what is it? \n",
    "```\n",
    "b'\\x01\\xff\\xff\\xff\\xff\\x0e\\x08\\x08\\x08\\x08\\x88\\x00\\x08\\x08...\n",
    "```\n",
    "\n",
    "well, we did get a hint in the config dictionary that came before the data: \n",
    "```\n",
    "\"waterfall_scheme\": \"TeejeezWaterfall\", \"tuning_precision\": 2, \"fft_size\": 16384, \"audio_compression\": \"adpcm\", \"waterfall_auto_levels\": {\"min\": 3.0, \"max\": 10.0}\n",
    "```"
   ]
  },
  {
   "cell_type": "code",
   "execution_count": 31,
   "metadata": {
    "scrolled": true
   },
   "outputs": [
    {
     "data": {
      "text/plain": [
       "'{\"type\": \"cpuusage\", \"value\": 0.5292420973634778}'"
      ]
     },
     "execution_count": 31,
     "metadata": {},
     "output_type": "execute_result"
    }
   ],
   "source": [
    "# Select a binary string to proceed with\n",
    "message = messages[14]\n",
    "message"
   ]
  },
  {
   "cell_type": "code",
   "execution_count": 32,
   "metadata": {},
   "outputs": [
    {
     "name": "stdout",
     "output_type": "stream",
     "text": [
      "14074000 - 1052000 - 15126000\n"
     ]
    }
   ],
   "source": [
    "# Load the config and get the start frequency\n",
    "config = json.loads(messages[6])\n",
    "center_freq = config[\"value\"][\"center_freq\"]\n",
    "start_freq = config[\"value\"][\"start_freq\"]\n",
    "bandwidth = 2*(center_freq - start_freq)\n",
    "stop_freq = start_freq + bandwidth\n",
    "print(f\"{start_freq} - {bandwidth} - {stop_freq}\")"
   ]
  },
  {
   "cell_type": "code",
   "execution_count": 33,
   "metadata": {},
   "outputs": [
    {
     "data": {
      "text/plain": [
       "{'sdr_id': 'rtl_sdr_a',\n",
       " 'waterfall_levels': {'min': -72.0, 'max': -7.0},\n",
       " 'center_freq': 14600000,\n",
       " 'start_freq': 14074000,\n",
       " 'profile_id': '20m_a',\n",
       " 'tuning_step': 50,\n",
       " 'samp_rate': 9000000,\n",
       " 'start_mod': 'usb',\n",
       " 'start_offset_freq': -526000}"
      ]
     },
     "execution_count": 33,
     "metadata": {},
     "output_type": "execute_result"
    }
   ],
   "source": [
    "# We want to get some data from this \n",
    "info = json.loads(messages[2])\n",
    "fft_compression = info[\"value\"][\"fft_compression\"]\n",
    "fft_size = info[\"value\"][\"fft_size\"]\n",
    "position = info[\"value\"][\"receiver_gps\"]\n",
    "info_profile = json.loads(messages[6])\n",
    "profile = info_profile[\"value\"]\n",
    "profile"
   ]
  },
  {
   "cell_type": "code",
   "execution_count": 34,
   "metadata": {},
   "outputs": [
    {
     "ename": "TypeError",
     "evalue": "a bytes-like object is required, not 'str'",
     "output_type": "error",
     "traceback": [
      "\u001b[31m---------------------------------------------------------------------------\u001b[39m",
      "\u001b[31mTypeError\u001b[39m                                 Traceback (most recent call last)",
      "\u001b[36mCell\u001b[39m\u001b[36m \u001b[39m\u001b[32mIn[34]\u001b[39m\u001b[32m, line 3\u001b[39m\n\u001b[32m      1\u001b[39m \u001b[38;5;66;03m# select one of the data rows for processing and load it into an array\u001b[39;00m\n\u001b[32m      2\u001b[39m \u001b[38;5;28;01mimport\u001b[39;00m\u001b[38;5;250m \u001b[39m\u001b[34;01mnumpy\u001b[39;00m\u001b[38;5;250m \u001b[39m\u001b[38;5;28;01mas\u001b[39;00m\u001b[38;5;250m \u001b[39m\u001b[34;01mnp\u001b[39;00m\n\u001b[32m----> \u001b[39m\u001b[32m3\u001b[39m data_array = \u001b[43mnp\u001b[49m\u001b[43m.\u001b[49m\u001b[43mfrombuffer\u001b[49m\u001b[43m(\u001b[49m\u001b[43mmessage\u001b[49m\u001b[43m[\u001b[49m\u001b[32;43m1\u001b[39;49m\u001b[43m:\u001b[49m\u001b[43m]\u001b[49m\u001b[43m,\u001b[49m\u001b[43m \u001b[49m\u001b[43mdtype\u001b[49m\u001b[43m=\u001b[49m\u001b[43mnp\u001b[49m\u001b[43m.\u001b[49m\u001b[43muint8\u001b[49m\u001b[43m)\u001b[49m\n\u001b[32m      4\u001b[39m data_array[\u001b[32m25\u001b[39m:\u001b[32m50\u001b[39m]\n",
      "\u001b[31mTypeError\u001b[39m: a bytes-like object is required, not 'str'"
     ]
    }
   ],
   "source": [
    "# select one of the data rows for processing and load it into an array\n",
    "import numpy as np\n",
    "data_array = np.frombuffer(message[1:], dtype=np.uint8)\n",
    "data_array[25:50]\n"
   ]
  },
  {
   "cell_type": "markdown",
   "metadata": {},
   "source": [
    "What the... what on earth is this? \n",
    "8, 129, 136,  13, 116, 233,   1,  24, 128,  26,  17, 169,   3,   122,  48, 159,   0, 136, 128,   8, 128,   2, 136, 184,  44\n",
    "\n",
    "Exciting! But the hint came in the metadata before: \"audio_compression\": \"adpcm\"\n",
    "This is an adaptive differential pulse-code modulation. A very effivient supposedly lossless compression for a digital signal.\n",
    "Well thats cool! Right?!... just me? okaaay... whatever, you're the one reading this. lets parse it.  "
   ]
  },
  {
   "cell_type": "code",
   "execution_count": null,
   "metadata": {},
   "outputs": [],
   "source": [
    "# right about now is a goot time to start timing how long it takes to process the data.\n",
    "from time import perf_counter_ns"
   ]
  },
  {
   "cell_type": "code",
   "execution_count": null,
   "metadata": {},
   "outputs": [
    {
     "name": "stdout",
     "output_type": "stream",
     "text": [
      "Split nibbles took 248.1 microseconds\n"
     ]
    }
   ],
   "source": [
    "# The bitstream is a split-band ADPCM stream. So we have to split the bytes into 4 bit nibbles. \n",
    "def split_nibbles(byte_array):\n",
    "    high_nibbles = np.bitwise_and(byte_array, 0xF0) >> 4\n",
    "    low_nibbles = np.bitwise_and(byte_array, 0x0F)\n",
    "    return high_nibbles, low_nibbles\n",
    "\n",
    "tic = perf_counter_ns()\n",
    "higher, lower = split_nibbles(data_array)\n",
    "toc = perf_counter_ns()\n",
    "print(f\"Split nibbles took {(toc - tic)/1000} microseconds\")"
   ]
  },
  {
   "cell_type": "code",
   "execution_count": null,
   "metadata": {},
   "outputs": [
    {
     "name": "stdout",
     "output_type": "stream",
     "text": [
      "interleaving took 4353.9 microseconds\n"
     ]
    },
    {
     "data": {
      "text/plain": [
       "array([15, 15, 15, ...,  2,  8,  0], shape=(16394,), dtype=uint8)"
      ]
     },
     "execution_count": 13,
     "metadata": {},
     "output_type": "execute_result"
    }
   ],
   "source": [
    "tic = perf_counter_ns()\n",
    "interleaved = np.array([val for pair in zip(lower, higher) for val in pair], dtype=np.uint8)\n",
    "toc = perf_counter_ns()\n",
    "print(f\"interleaving took {(toc - tic)/1000} microseconds\")\n",
    "interleaved"
   ]
  },
  {
   "cell_type": "code",
   "execution_count": null,
   "metadata": {},
   "outputs": [
    {
     "data": {
      "image/png": "[encoded data removed]",
      "text/plain": [
       "<Figure size 640x480 with 1 Axes>"
      ]
     },
     "metadata": {},
     "output_type": "display_data"
    }
   ],
   "source": [
    "import matplotlib.pyplot as plt \n",
    "plt.figure()\n",
    "plt.hist(interleaved, bins=255)\n",
    "plt.show()"
   ]
  },
  {
   "cell_type": "code",
   "execution_count": null,
   "metadata": {},
   "outputs": [
    {
     "name": "stdout",
     "output_type": "stream",
     "text": [
      "16384 [-107.69 -101.61 -107.14 ... -105.09 -105.15 -105.09]\n"
     ]
    }
   ],
   "source": [
    "# I found a python library that can decode ADPCM data, but its not packaged.\n",
    "# I've downloaded the adpcm.py file and added it to the root of this project, which is the one i'll be using here now.\n",
    "# The adpcm library is from https://github.com/karnwatcharasupat/pyADPCM\n",
    "from adpcm import ADPCM\n",
    "\n",
    "# perform an adpmc decode operation on the interleaved data...add()\n",
    "# Remove the first 10 numbers from the list and devide every number by 100\n",
    "\n",
    "adpcm = ADPCM()\n",
    "#fft = adpcm.decode(interleaved)[10:]/100\n",
    "\n",
    "\n",
    "fft = np.array(adpcm.decode(interleaved), dtype=np.float32)[10:]/100\n",
    "print(len(fft), fft)"
   ]
  },
  {
   "cell_type": "code",
   "execution_count": null,
   "metadata": {},
   "outputs": [],
   "source": [
    "frequency_range = np.linspace(start_freq, stop_freq, fft_size)/1000000"
   ]
  },
  {
   "cell_type": "code",
   "execution_count": null,
   "metadata": {},
   "outputs": [
    {
     "data": {
      "image/png": "[encoded data removed]",
      "text/plain": [
       "<Figure size 1600x400 with 1 Axes>"
      ]
     },
     "metadata": {},
     "output_type": "display_data"
    }
   ],
   "source": [
    "# Now plot the completed data array and you should see a spectral plot\n",
    "import matplotlib.pyplot as plt\n",
    "from matplotlib.ticker import FormatStrFormatter\n",
    "%matplotlib inline\n",
    "\n",
    "fig, ax = plt.subplots(figsize=(16,4))\n",
    "plt.ylabel(\"dBm\")\n",
    "line1, =ax.plot(frequency_range, fft)\n",
    "plt.gca().xaxis.set_major_formatter(FormatStrFormatter(\"%f MHz\"))\n",
    "plt.show()  "
   ]
  },
  {
   "cell_type": "code",
   "execution_count": null,
   "metadata": {},
   "outputs": [
    {
     "name": "stdout",
     "output_type": "stream",
     "text": [
      "0.05582289999438217\n"
     ]
    }
   ],
   "source": [
    "# All togheter now...add()\n",
    "import time\n",
    "\n",
    "tic = time.perf_counter()\n",
    "data_array = np.frombuffer(message[1:], dtype=np.uint8)\n",
    "higher, lower = split_nibbles(data_array)\n",
    "interleaved = np.array([val for pair in zip(lower, higher) for val in pair], dtype=np.uint8)\n",
    "fft = np.array(adpcm.decode(interleaved), dtype=np.float32)[10:]/100\n",
    "toc = time.perf_counter()\n",
    "print(toc - tic)"
   ]
  },
  {
   "cell_type": "markdown",
   "metadata": {},
   "source": [
    "So thats... fairly fast now that i started using uv. (before it was like 0.12 ish seconds)\n",
    "But not fast enough to graph in real time with python so i decided to write the modules for nibbling and adpcm in rust to speed things up a bit. \n",
    "\n",
    "(you might have to add the extra modules)\n",
    "\n",
    "```\n",
    "uv pip install -e nibbler\n",
    "uv pip install -e radpcm\n",
    "```"
   ]
  },
  {
   "cell_type": "code",
   "execution_count": null,
   "metadata": {},
   "outputs": [
    {
     "name": "stdout",
     "output_type": "stream",
     "text": [
      "0.0007321000011870638\n"
     ]
    }
   ],
   "source": [
    "import numpy as np\n",
    "import time\n",
    "import nibbler\n",
    "import radpcm\n",
    "def decode_fft_bitstream(message: bytes) -> np.ndarray[np.int16]: \n",
    "    # strip the first character and load into array\n",
    "    interleaved = nibbler.split_and_interleave_nibbles(message)\n",
    "    fft = radpcm.decode(interleaved)[10:]/100\n",
    "    return fft\n",
    "tic = time.perf_counter()\n",
    "rfft = decode_fft_bitstream(message[1:])\n",
    "toc = time.perf_counter()\n",
    "print(toc - tic)"
   ]
  },
  {
   "cell_type": "markdown",
   "metadata": {},
   "source": [
    "So that is a performance boost of two orders of magninutde. which i believe would suffice for most use cases i can come up with right now. \n"
   ]
  },
  {
   "cell_type": "markdown",
   "metadata": {},
   "source": [
    "# Realtime processing\n",
    "Okay that was all mostly theoretical stuff, lets look at some graphs."
   ]
  },
  {
   "cell_type": "code",
   "execution_count": 28,
   "metadata": {},
   "outputs": [],
   "source": [
    "# Re-import just so we dont have to run the whole script again\n",
    "import numpy as np\n",
    "import nibbler\n",
    "import radpcm\n",
    "\n",
    "import matplotlib.pyplot as plt\n",
    "import httpx\n",
    "import websockets"
   ]
  },
  {
   "cell_type": "code",
   "execution_count": null,
   "metadata": {},
   "outputs": [],
   "source": [
    "import json\n",
    "def handle_info(message: str, receiver: dict) -> dict:\n",
    "    info = json.loads(message)\n",
    "    info_type = info[\"type\"]\n",
    "    match info_type:\n",
    "        case \"config\" | \"receiver_details\":\n",
    "            for key, value in info[\"value\"]: \n",
    "                receiver[key] = value\n",
    "            return receiver\n",
    "        case \"cpuusage\" | \"temp\":\n",
    "            receiver[info_type] = info[\"value\"]\n",
    "            return receiver\n",
    "        case _:\n",
    "            return receiver"
   ]
  },
  {
   "cell_type": "code",
   "execution_count": null,
   "metadata": {},
   "outputs": [
    {
     "data": {
      "text/plain": [
       "{'name': 'SR4DON OLSZTYN/POLAND 17m-160m',\n",
       " 'admin': 'sdr@jestok.com',\n",
       " 'gps': {'lat': 53.7832485938901, 'lon': 20.4547299031047},\n",
       " 'asl': 160,\n",
       " 'location': 'Olsztyn, Poland'}"
      ]
     },
     "execution_count": 19,
     "metadata": {},
     "output_type": "execute_result"
    }
   ],
   "source": [
    "# Configure site url from dashboard. \n",
    "# Get receiver info on demand. \n",
    "\n",
    "site = \"2.websdr.jestok.com\"\n",
    "result = httpx.get(\"https://\" + site + \"/status.json\")\n",
    "result.raise_for_status()\n",
    "status = result.json()\n",
    "receiver = status[\"receiver\"]\n",
    "receiver"
   ]
  },
  {
   "cell_type": "code",
   "execution_count": null,
   "metadata": {},
   "outputs": [
    {
     "ename": "ValueError",
     "evalue": "",
     "output_type": "error",
     "traceback": [
      "\u001b[0;31m---------------------------------------------------------------------------\u001b[0m",
      "\u001b[0;31mValueError\u001b[0m                                Traceback (most recent call last)",
      "Cell \u001b[0;32mIn[9], line 2\u001b[0m\n\u001b[1;32m      1\u001b[0m \u001b[38;5;66;03m# Make this toggleable from the dashboard.\u001b[39;00m\n\u001b[0;32m----> 2\u001b[0m \u001b[38;5;28;01mraise\u001b[39;00m \u001b[38;5;167;01mValueError\u001b[39;00m\n\u001b[1;32m      4\u001b[0m ws \u001b[38;5;241m=\u001b[39m websocket\u001b[38;5;241m.\u001b[39mcreate_connection(\u001b[38;5;124m\"\u001b[39m\u001b[38;5;124mwss://\u001b[39m\u001b[38;5;124m\"\u001b[39m \u001b[38;5;241m+\u001b[39m site \u001b[38;5;241m+\u001b[39m \u001b[38;5;124m\"\u001b[39m\u001b[38;5;124m/ws/\u001b[39m\u001b[38;5;124m\"\u001b[39m)\n\u001b[1;32m      5\u001b[0m \u001b[38;5;28;01mtry\u001b[39;00m: \n",
      "\u001b[0;31mValueError\u001b[0m: "
     ]
    }
   ],
   "source": [
    "\n",
    "# Make this toggleable from the dashboard.\n",
    "raise ValueError\n",
    "\n",
    "ws = websocket.create_connection(\"wss://\" + site + \"/ws/\")\n",
    "try: \n",
    "    ws.send(\"SERVER DE CLIENT client=lib/FrequencyDisplay.js type=receiver\")\n",
    "    while True:\n",
    "        msg = ws.recv()    \n",
    "        match message[0]:\n",
    "            case 1:\n",
    "                fft = decode_fft_bitstream(message[1:])\n",
    "                # What to do with the decoded fft...\n",
    "                # Send it to a function that updates the plot in a dashboard. \n",
    "                # Plotly seems like a good option.\n",
    "            case \"{\":\n",
    "                # Update receiver information.\n",
    "                receiver = handle_info(message, receiver)\n",
    "            case \"C\":\n",
    "                print(message)\n",
    "            case _:\n",
    "                print(\"Message not handled: \", message)\n",
    "except Exception as err:\n",
    "    raise err\n",
    "finally: \n",
    "    ws.close()\n"
   ]
  },
  {
   "cell_type": "code",
   "execution_count": null,
   "metadata": {},
   "outputs": [],
   "source": [
    "# Now plot the completed data array and you should see a spectral plot\n",
    "import matplotlib.pyplot as plt\n",
    "from matplotlib.ticker import FormatStrFormatter\n",
    "import numpy as np\n",
    "\n",
    "MEASUREMENT_TIME = 50\n",
    "INTERVAL_SEC = 0.1\n",
    "x = np.linspace(0, 6*np.pi, 100)\n",
    "y = np.sin(x)\n",
    "\n",
    "# You probably won't need this if you're embedding things in a tkinter plot...\n",
    "plt.ion()\n",
    "\n",
    "fig = plt.figure()\n",
    "ax = fig.add_subplot(111)\n",
    "line1, = ax.plot(x, y, 'r-') # Returns a tuple of line objects, thus the comma\n",
    "\n",
    "for i in range(MEASUREMENT_TIME):\n",
    "    data = np.random.rand(100)\n",
    "\n",
    "    plt.plot(data)\n",
    "\n",
    "    # figure appearence adjustments\n",
    "    plt.ylim(-0.2, 1.2)\n",
    "    plt.title(f'FRAME {i+1}')\n",
    "\n",
    "    # to avoid clearing last plot\n",
    "    if (i != MEASUREMENT_TIME-1):\n",
    "        plt.draw()\n",
    "        plt.pause(INTERVAL_SEC)\n",
    "        plt.cla()\n",
    "    else:\n",
    "        plt.show()\n"
   ]
  },
  {
   "cell_type": "code",
   "execution_count": null,
   "metadata": {},
   "outputs": [],
   "source": [
    "# importing libraries\n",
    "import numpy as np\n",
    "import time\n",
    "import matplotlib.pyplot as plt\n",
    " \n",
    "# creating initial data values\n",
    "# of x and y\n",
    "x = np.linspace(0, 10, 100)\n",
    "y = np.sin(x)\n",
    " \n",
    "# to run GUI event loop\n",
    "plt.ion()\n",
    " \n",
    "# here we are creating sub plots\n",
    "figure, ax = plt.subplots(figsize=(10, 8))\n",
    "line1, = ax.plot(x, y)\n",
    " \n",
    "# setting title\n",
    "plt.title(\"Geeks For Geeks\", fontsize=20)\n",
    " \n",
    "# setting x-axis label and y-axis label\n",
    "plt.xlabel(\"X-axis\")\n",
    "plt.ylabel(\"Y-axis\")\n",
    " \n",
    "# Loop\n",
    "for n in range(50):\n",
    "    # creating new Y values\n",
    "    new_y = np.sin(x-0.5*n)\n",
    " \n",
    "    # updating data values\n",
    "    line1.set_xdata(x)\n",
    "    line1.set_ydata(new_y)\n",
    " \n",
    "    # drawing updated values\n",
    "    figure.canvas.draw()\n",
    " \n",
    "    # This will run the GUI event\n",
    "    # loop until all UI events\n",
    "    # currently waiting have been processed\n",
    "    figure.canvas.flush_events()\n",
    " \n",
    "    time.sleep(0.1)"
   ]
  },
  {
   "cell_type": "markdown",
   "metadata": {},
   "source": [
    "## TODO\n",
    "\n",
    "- Find a way to create a dashboard\n",
    "- make the dashboard interactive to enter, start and stop a websocket connection.\n",
    "- make a realtime spectrogram\n",
    "- create a self updating waterfall plot (fixed window)\n",
    "\n",
    "and once thats done. \n",
    "- Create a database to keep the data in.\n",
    "- Create an ingest tool that loads into the database\n",
    "- Create a way for the dashboard to query the waterfall database and produce an image.\n",
    "- Join that new waterfall viz with the updating one using a subscription to the waterfall stream. "
   ]
  },
  {
   "cell_type": "code",
   "execution_count": null,
   "metadata": {},
   "outputs": [
    {
     "data": {
      "application/vnd.plotly.v1+json": {
       "config": {
        "plotlyServerURL": "https://plot.ly"
       },
       "data": [
        {
         "hovertemplate": "x=%{x}<br>y=%{y}<extra></extra>",
         "legendgroup": "",
         "line": {
          "color": "#636efa",
          "dash": "solid"
         },
         "marker": {
          "symbol": "circle"
         },
         "mode": "lines",
         "name": "",
         "orientation": "v",
         "showlegend": false,
         "type": "scatter",
         "x": [
          0,
          1,
          2,
          3,
          4,
          5,
          6,
          7,
          8,
          9,
          10,
          11,
          12,
          13,
          14,
          15,
          16,
          17,
          18,
          19,
          20,
          21,
          22,
          23,
          24,
          25,
          26,
          27,
          28,
          29,
          30,
          31,
          32,
          33,
          34,
          35,
          36,
          37,
          38,
          39,
          40,
          41,
          42,
          43,
          44,
          45,
          46,
          47,
          48,
          49,
          50,
          51,
          52,
          53,
          54,
          55,
          56,
          57,
          58,
          59,
          60,
          61,
          62,
          63,
          64,
          65,
          66,
          67,
          68,
          69,
          70,
          71,
          72,
          73,
          74,
          75,
          76,
          77,
          78,
          79,
          80,
          81,
          82,
          83,
          84,
          85,
          86,
          87,
          88,
          89,
          90,
          91,
          92,
          93,
          94,
          95,
          96,
          97,
          98,
          99,
          100,
          101,
          102,
          103,
          104,
          105,
          106,
          107,
          108,
          109,
          110,
          111,
          112,
          113,
          114,
          115,
          116,
          117,
          118,
          119,
          120,
          121,
          122,
          123,
          124,
          125,
          126,
          127,
          128,
          129,
          130,
          131,
          132,
          133,
          134,
          135,
          136,
          137,
          138,
          139,
          140,
          141,
          142,
          143,
          144,
          145,
          146,
          147,
          148,
          149,
          150,
          151,
          152,
          153,
          154,
          155,
          156,
          157,
          158,
          159,
          160,
          161,
          162,
          163,
          164,
          165,
          166,
          167,
          168,
          169,
          170,
          171,
          172,
          173,
          174,
          175,
          176,
          177,
          178,
          179,
          180,
          181,
          182,
          183,
          184,
          185,
          186,
          187,
          188,
          189,
          190,
          191,
          192,
          193,
          194,
          195,
          196,
          197,
          198,
          199,
          200,
          201,
          202,
          203,
          204,
          205,
          206,
          207,
          208,
          209,
          210,
          211,
          212,
          213,
          214,
          215,
          216,
          217,
          218,
          219,
          220,
          221,
          222,
          223,
          224,
          225,
          226,
          227,
          228,
          229,
          230,
          231,
          232,
          233,
          234,
          235,
          236,
          237,
          238,
          239,
          240,
          241,
          242,
          243,
          244,
          245,
          246,
          247,
          248,
          249,
          250,
          251,
          252,
          253,
          254,
          255,
          256,
          257,
          258,
          259,
          260,
          261,
          262,
          263,
          264,
          265,
          266,
          267,
          268,
          269,
          270,
          271,
          272,
          273,
          274,
          275,
          276,
          277,
          278,
          279,
          280,
          281,
          282,
          283,
          284,
          285,
          286,
          287,
          288,
          289,
          290,
          291,
          292,
          293,
          294,
          295,
          296,
          297,
          298,
          299,
          300,
          301,
          302,
          303,
          304,
          305,
          306,
          307,
          308,
          309,
          310,
          311,
          312,
          313,
          314,
          315,
          316,
          317,
          318,
          319,
          320,
          321,
          322,
          323,
          324,
          325,
          326,
          327,
          328,
          329,
          330,
          331,
          332,
          333,
          334,
          335,
          336,
          337,
          338,
          339,
          340,
          341,
          342,
          343,
          344,
          345,
          346,
          347,
          348,
          349,
          350,
          351,
          352,
          353,
          354,
          355,
          356,
          357,
          358,
          359,
          360,
          361,
          362,
          363,
          364,
          365,
          366,
          367,
          368,
          369,
          370,
          371,
          372,
          373,
          374,
          375,
          376,
          377,
          378,
          379,
          380,
          381,
          382,
          383,
          384,
          385,
          386,
          387,
          388,
          389,
          390,
          391,
          392,
          393,
          394,
          395,
          396,
          397,
          398,
          399,
          400,
          401,
          402,
          403,
          404,
          405,
          406,
          407,
          408
         ],
         "xaxis": "x",
         "y": [
          -101.61000061035156,
          -94.97000122070312,
          -103.94000244140625,
          -103.66000366210938,
          -103.88999938964844,
          -103.87999725341797,
          -104.06999969482422,
          -104.5199966430664,
          -102.55999755859375,
          -104.52999877929688,
          -104.4800033569336,
          -103.97000122070312,
          -104.45999908447266,
          -96.93000030517578,
          -101.51000213623047,
          -100.81999969482422,
          -93.58999633789062,
          -91.87999725341797,
          -98.88999938964844,
          -94.77999877929688,
          -87.5,
          -83.19000244140625,
          -94.33999633789062,
          -93.05000305175781,
          -86.95999908447266,
          -91.9800033569336,
          -87.33000183105469,
          -87.38999938964844,
          -89.30000305175781,
          -76.16000366210938,
          -78.22000122070312,
          -85.87999725341797,
          -86.47000122070312,
          -86.41000366210938,
          -86.44999694824219,
          -85.66000366210938,
          -83.44000244140625,
          -86.01000213623047,
          -85.80999755859375,
          -85.48999786376953,
          -85.55999755859375,
          -81.3499984741211,
          -85.08999633789062,
          -85.91999816894531,
          -81.37999725341797,
          -82.16999816894531,
          -85.26000213623047,
          -85.20999908447266,
          -83.77999877929688,
          -85.56999969482422,
          -85.06999969482422,
          -85.26000213623047,
          -85.3499984741211,
          -71.66999816894531,
          -85.37999725341797,
          -55.709999084472656,
          -78.23999786376953,
          -77.7300033569336,
          -81.93000030517578,
          -84.56999969482422,
          -84.66000366210938,
          -84.6500015258789,
          -83.56999969482422,
          -83.72000122070312,
          -84.87000274658203,
          -75.41000366210938,
          -85.25,
          -84.33000183105469,
          -84.70999908447266,
          -79.72000122070312,
          -83.33999633789062,
          -84.27999877929688,
          -83.20999908447266,
          -84.66000366210938,
          -46.060001373291016,
          -84.45999908447266,
          -56.900001525878906,
          -64.18000030517578,
          -55.56999969482422,
          -83.48999786376953,
          -63.68000030517578,
          -77.31999969482422,
          -75.56999969482422,
          -71.69000244140625,
          -78.5,
          -77.16999816894531,
          -63.56999969482422,
          -71.93000030517578,
          -75.02999877929688,
          -73.73999786376953,
          -74.97000122070312,
          -77.69000244140625,
          -73.87999725341797,
          -74.43000030517578,
          -72.52999877929688,
          -82.4800033569336,
          -72.44999694824219,
          -83.52999877929688,
          -83.11000061035156,
          -39.20000076293945,
          -84.05000305175781,
          -69.69999694824219,
          -80.19999694824219,
          -84.04000091552734,
          -77.26000213623047,
          -74.77999877929688,
          -71.56999969482422,
          -72.63999938964844,
          -74.36000061035156,
          -80.11000061035156,
          -82.41999816894531,
          -82.95999908447266,
          -82.7699966430664,
          -69.8499984741211,
          -80.51000213623047,
          -83.08000183105469,
          -81.1500015258789,
          -80.4000015258789,
          -77.61000061035156,
          -78.45999908447266,
          -82.66999816894531,
          -76.5999984741211,
          -81.08999633789062,
          -82.30999755859375,
          -67.58999633789062,
          -75.63999938964844,
          -74.55000305175781,
          -81.66000366210938,
          -73.77999877929688,
          -72.26000213623047,
          -81.80000305175781,
          -73.47000122070312,
          -74.02999877929688,
          -82.37999725341797,
          -83.9800033569336,
          -77.30000305175781,
          -81.94000244140625,
          -84.01000213623047,
          -65.02999877929688,
          -76.80000305175781,
          -75.16999816894531,
          -68.88999938964844,
          -66.12999725341797,
          -83.44000244140625,
          -80.19999694824219,
          -81.56999969482422,
          -79.83000183105469,
          -82.19999694824219,
          -83.69999694824219,
          -83.95999908447266,
          -82.19000244140625,
          -76.7300033569336,
          -79.63999938964844,
          -78.72000122070312,
          -83.48999786376953,
          -82.04000091552734,
          -80.56999969482422,
          -76.8499984741211,
          -75.20999908447266,
          -78.16999816894531,
          -73.54000091552734,
          -80.05000305175781,
          -57.5099983215332,
          -73.12999725341797,
          -81.11000061035156,
          -64.1500015258789,
          -65.23999786376953,
          -78.08000183105469,
          -62.41999816894531,
          -64.81999969482422,
          -69.2699966430664,
          -73.05000305175781,
          -50.59000015258789,
          -76.05000305175781,
          -65.81999969482422,
          -66.62999725341797,
          -78.38999938964844,
          -78.3499984741211,
          -63.650001525878906,
          -75.9000015258789,
          -60.22999954223633,
          -81.7699966430664,
          -36.66999816894531,
          -75.68000030517578,
          -77.33000183105469,
          -65.45999908447266,
          -36.619998931884766,
          -74.43000030517578,
          -81.30000305175781,
          -65.0999984741211,
          -66.55000305175781,
          -77.38999938964844,
          -80.33999633789062,
          -70.5199966430664,
          -81.4000015258789,
          -67.91000366210938,
          -70.37000274658203,
          -48.779998779296875,
          -60.279998779296875,
          -69.9800033569336,
          -67.66999816894531,
          -60.0099983215332,
          -79.02999877929688,
          -81.93000030517578,
          -62.7400016784668,
          -78.16000366210938,
          -79.30000305175781,
          -77.08999633789062,
          -82.54000091552734,
          -81.62000274658203,
          -81.5999984741211,
          -82.61000061035156,
          -81.5199966430664,
          -73.88999938964844,
          -82.02999877929688,
          -81.33000183105469,
          -71.16999816894531,
          -82.58000183105469,
          -82.9000015258789,
          -76.4000015258789,
          -78.33999633789062,
          -59.380001068115234,
          -81.61000061035156,
          -78.52999877929688,
          -79.16000366210938,
          -65.51000213623047,
          -80.38999938964844,
          -83.08000183105469,
          -81.30000305175781,
          -82.19000244140625,
          -74.16000366210938,
          -50.9900016784668,
          -53.45000076293945,
          -71.81999969482422,
          -77.06999969482422,
          -82.70999908447266,
          -82.7300033569336,
          -79.95999908447266,
          -50.439998626708984,
          -49.459999084472656,
          -79.66999816894531,
          -82.41999816894531,
          -55.58000183105469,
          -58.119998931884766,
          -73.04000091552734,
          -43.54999923706055,
          -45.88999938964844,
          -80.25,
          -75.83999633789062,
          -42.91999816894531,
          -72.58000183105469,
          -81.68000030517578,
          -63.25,
          -72.33999633789062,
          -80.33999633789062,
          -77.4000015258789,
          -56.56999969482422,
          -83.2300033569336,
          -83.75,
          -78.37000274658203,
          -83.75,
          -73.7300033569336,
          -83.29000091552734,
          -70.83000183105469,
          -61.689998626708984,
          -52.38999938964844,
          -68.31999969482422,
          -80.41999816894531,
          -63.959999084472656,
          -83.61000061035156,
          -71.23999786376953,
          -79.13999938964844,
          -80.18000030517578,
          -84.51000213623047,
          -85.27999877929688,
          -72.33000183105469,
          -74.91999816894531,
          -82.5,
          -78.8499984741211,
          -80.70999908447266,
          -83.7300033569336,
          -79.47000122070312,
          -83.61000061035156,
          -81.26000213623047,
          -85.12999725341797,
          -84.8499984741211,
          -72,
          -84.48999786376953,
          -71.2699966430664,
          -58.470001220703125,
          -83.41000366210938,
          -77.66000366210938,
          -83.02999877929688,
          -84.7300033569336,
          -77.19000244140625,
          -80.38999938964844,
          -83.12999725341797,
          -78.58999633789062,
          -84.08000183105469,
          -84.05000305175781,
          -75.2300033569336,
          -83.06999969482422,
          -82.52999877929688,
          -78.69999694824219,
          -83.76000213623047,
          -63.220001220703125,
          -69.12000274658203,
          -84.04000091552734,
          -78.79000091552734,
          -82.56999969482422,
          -82.9800033569336,
          -82.69999694824219,
          -80.31999969482422,
          -83.83000183105469,
          -69.11000061035156,
          -51.58000183105469,
          -76.88999938964844,
          -82.7300033569336,
          -83.29000091552734,
          -77.81999969482422,
          -82.94999694824219,
          -83.37999725341797,
          -62.2599983215332,
          -83.12999725341797,
          -82.44000244140625,
          -82.38999938964844,
          -82.77999877929688,
          -47.54999923706055,
          -48.7400016784668,
          -63.150001525878906,
          -79.56999969482422,
          -83.2300033569336,
          -83.29000091552734,
          -81.27999877929688,
          -83.31999969482422,
          -83.12999725341797,
          -83.2699966430664,
          -82.66000366210938,
          -79.33000183105469,
          -83.29000091552734,
          -82.69999694824219,
          -78.56999969482422,
          -64.16000366210938,
          -80.88999938964844,
          -81.62000274658203,
          -56.45000076293945,
          -37.119998931884766,
          -73.4000015258789,
          -71.91000366210938,
          -61.849998474121094,
          -64.12000274658203,
          -67.20999908447266,
          -25.40999984741211,
          -29.18000030517578,
          -72.58000183105469,
          -72.3499984741211,
          -82.76000213623047,
          -83.30000305175781,
          -82.44999694824219,
          -84.08999633789062,
          -83.69000244140625,
          -81.37999725341797,
          -83.7699966430664,
          -71.25,
          -83.44999694824219,
          -78.58999633789062,
          -77.55999755859375,
          -78.86000061035156,
          -85.02999877929688,
          -84.52999877929688,
          -84.62000274658203,
          -82.69999694824219,
          -67.68000030517578,
          -85.5,
          -71.38999938964844,
          -73.9800033569336,
          -86.13999938964844,
          -81.45999908447266,
          -78.12000274658203,
          -87.19000244140625,
          -76.72000122070312,
          -88.77999877929688,
          -82.36000061035156,
          -90.55999755859375,
          -82.62999725341797,
          -84.29000091552734,
          -92.72000122070312,
          -94.7300033569336,
          -90.06999969482422,
          -95.52999877929688,
          -98.05000305175781,
          -95.26000213623047,
          -100.02999877929688,
          -101.04000091552734,
          -102.51000213623047,
          -102.83999633789062,
          -103.83000183105469,
          -103.9000015258789,
          -104.4000015258789,
          -104.19000244140625,
          -103.79000091552734,
          -104.12999725341797,
          -103.83000183105469,
          -103.97000122070312,
          -103.8499984741211,
          -103.44000244140625,
          -104.13999938964844,
          -103.91000366210938,
          -103.75
         ],
         "yaxis": "y"
        }
       ],
       "layout": {
        "autosize": true,
        "legend": {
         "tracegroupgap": 0
        },
        "margin": {
         "t": 60
        },
        "template": {
         "data": {
          "bar": [
           {
            "error_x": {
             "color": "#2a3f5f"
            },
            "error_y": {
             "color": "#2a3f5f"
            },
            "marker": {
             "line": {
              "color": "#E5ECF6",
              "width": 0.5
             },
             "pattern": {
              "fillmode": "overlay",
              "size": 10,
              "solidity": 0.2
             }
            },
            "type": "bar"
           }
          ],
          "barpolar": [
           {
            "marker": {
             "line": {
              "color": "#E5ECF6",
              "width": 0.5
             },
             "pattern": {
              "fillmode": "overlay",
              "size": 10,
              "solidity": 0.2
             }
            },
            "type": "barpolar"
           }
          ],
          "carpet": [
           {
            "aaxis": {
             "endlinecolor": "#2a3f5f",
             "gridcolor": "white",
             "linecolor": "white",
             "minorgridcolor": "white",
             "startlinecolor": "#2a3f5f"
            },
            "baxis": {
             "endlinecolor": "#2a3f5f",
             "gridcolor": "white",
             "linecolor": "white",
             "minorgridcolor": "white",
             "startlinecolor": "#2a3f5f"
            },
            "type": "carpet"
           }
          ],
          "choropleth": [
           {
            "colorbar": {
             "outlinewidth": 0,
             "ticks": ""
            },
            "type": "choropleth"
           }
          ],
          "contour": [
           {
            "colorbar": {
             "outlinewidth": 0,
             "ticks": ""
            },
            "colorscale": [
             [
              0,
              "#0d0887"
             ],
             [
              0.1111111111111111,
              "#46039f"
             ],
             [
              0.2222222222222222,
              "#7201a8"
             ],
             [
              0.3333333333333333,
              "#9c179e"
             ],
             [
              0.4444444444444444,
              "#bd3786"
             ],
             [
              0.5555555555555556,
              "#d8576b"
             ],
             [
              0.6666666666666666,
              "#ed7953"
             ],
             [
              0.7777777777777778,
              "#fb9f3a"
             ],
             [
              0.8888888888888888,
              "#fdca26"
             ],
             [
              1,
              "#f0f921"
             ]
            ],
            "type": "contour"
           }
          ],
          "contourcarpet": [
           {
            "colorbar": {
             "outlinewidth": 0,
             "ticks": ""
            },
            "type": "contourcarpet"
           }
          ],
          "heatmap": [
           {
            "colorbar": {
             "outlinewidth": 0,
             "ticks": ""
            },
            "colorscale": [
             [
              0,
              "#0d0887"
             ],
             [
              0.1111111111111111,
              "#46039f"
             ],
             [
              0.2222222222222222,
              "#7201a8"
             ],
             [
              0.3333333333333333,
              "#9c179e"
             ],
             [
              0.4444444444444444,
              "#bd3786"
             ],
             [
              0.5555555555555556,
              "#d8576b"
             ],
             [
              0.6666666666666666,
              "#ed7953"
             ],
             [
              0.7777777777777778,
              "#fb9f3a"
             ],
             [
              0.8888888888888888,
              "#fdca26"
             ],
             [
              1,
              "#f0f921"
             ]
            ],
            "type": "heatmap"
           }
          ],
          "heatmapgl": [
           {
            "colorbar": {
             "outlinewidth": 0,
             "ticks": ""
            },
            "colorscale": [
             [
              0,
              "#0d0887"
             ],
             [
              0.1111111111111111,
              "#46039f"
             ],
             [
              0.2222222222222222,
              "#7201a8"
             ],
             [
              0.3333333333333333,
              "#9c179e"
             ],
             [
              0.4444444444444444,
              "#bd3786"
             ],
             [
              0.5555555555555556,
              "#d8576b"
             ],
             [
              0.6666666666666666,
              "#ed7953"
             ],
             [
              0.7777777777777778,
              "#fb9f3a"
             ],
             [
              0.8888888888888888,
              "#fdca26"
             ],
             [
              1,
              "#f0f921"
             ]
            ],
            "type": "heatmapgl"
           }
          ],
          "histogram": [
           {
            "marker": {
             "pattern": {
              "fillmode": "overlay",
              "size": 10,
              "solidity": 0.2
             }
            },
            "type": "histogram"
           }
          ],
          "histogram2d": [
           {
            "colorbar": {
             "outlinewidth": 0,
             "ticks": ""
            },
            "colorscale": [
             [
              0,
              "#0d0887"
             ],
             [
              0.1111111111111111,
              "#46039f"
             ],
             [
              0.2222222222222222,
              "#7201a8"
             ],
             [
              0.3333333333333333,
              "#9c179e"
             ],
             [
              0.4444444444444444,
              "#bd3786"
             ],
             [
              0.5555555555555556,
              "#d8576b"
             ],
             [
              0.6666666666666666,
              "#ed7953"
             ],
             [
              0.7777777777777778,
              "#fb9f3a"
             ],
             [
              0.8888888888888888,
              "#fdca26"
             ],
             [
              1,
              "#f0f921"
             ]
            ],
            "type": "histogram2d"
           }
          ],
          "histogram2dcontour": [
           {
            "colorbar": {
             "outlinewidth": 0,
             "ticks": ""
            },
            "colorscale": [
             [
              0,
              "#0d0887"
             ],
             [
              0.1111111111111111,
              "#46039f"
             ],
             [
              0.2222222222222222,
              "#7201a8"
             ],
             [
              0.3333333333333333,
              "#9c179e"
             ],
             [
              0.4444444444444444,
              "#bd3786"
             ],
             [
              0.5555555555555556,
              "#d8576b"
             ],
             [
              0.6666666666666666,
              "#ed7953"
             ],
             [
              0.7777777777777778,
              "#fb9f3a"
             ],
             [
              0.8888888888888888,
              "#fdca26"
             ],
             [
              1,
              "#f0f921"
             ]
            ],
            "type": "histogram2dcontour"
           }
          ],
          "mesh3d": [
           {
            "colorbar": {
             "outlinewidth": 0,
             "ticks": ""
            },
            "type": "mesh3d"
           }
          ],
          "parcoords": [
           {
            "line": {
             "colorbar": {
              "outlinewidth": 0,
              "ticks": ""
             }
            },
            "type": "parcoords"
           }
          ],
          "pie": [
           {
            "automargin": true,
            "type": "pie"
           }
          ],
          "scatter": [
           {
            "fillpattern": {
             "fillmode": "overlay",
             "size": 10,
             "solidity": 0.2
            },
            "type": "scatter"
           }
          ],
          "scatter3d": [
           {
            "line": {
             "colorbar": {
              "outlinewidth": 0,
              "ticks": ""
             }
            },
            "marker": {
             "colorbar": {
              "outlinewidth": 0,
              "ticks": ""
             }
            },
            "type": "scatter3d"
           }
          ],
          "scattercarpet": [
           {
            "marker": {
             "colorbar": {
              "outlinewidth": 0,
              "ticks": ""
             }
            },
            "type": "scattercarpet"
           }
          ],
          "scattergeo": [
           {
            "marker": {
             "colorbar": {
              "outlinewidth": 0,
              "ticks": ""
             }
            },
            "type": "scattergeo"
           }
          ],
          "scattergl": [
           {
            "marker": {
             "colorbar": {
              "outlinewidth": 0,
              "ticks": ""
             }
            },
            "type": "scattergl"
           }
          ],
          "scattermapbox": [
           {
            "marker": {
             "colorbar": {
              "outlinewidth": 0,
              "ticks": ""
             }
            },
            "type": "scattermapbox"
           }
          ],
          "scatterpolar": [
           {
            "marker": {
             "colorbar": {
              "outlinewidth": 0,
              "ticks": ""
             }
            },
            "type": "scatterpolar"
           }
          ],
          "scatterpolargl": [
           {
            "marker": {
             "colorbar": {
              "outlinewidth": 0,
              "ticks": ""
             }
            },
            "type": "scatterpolargl"
           }
          ],
          "scatterternary": [
           {
            "marker": {
             "colorbar": {
              "outlinewidth": 0,
              "ticks": ""
             }
            },
            "type": "scatterternary"
           }
          ],
          "surface": [
           {
            "colorbar": {
             "outlinewidth": 0,
             "ticks": ""
            },
            "colorscale": [
             [
              0,
              "#0d0887"
             ],
             [
              0.1111111111111111,
              "#46039f"
             ],
             [
              0.2222222222222222,
              "#7201a8"
             ],
             [
              0.3333333333333333,
              "#9c179e"
             ],
             [
              0.4444444444444444,
              "#bd3786"
             ],
             [
              0.5555555555555556,
              "#d8576b"
             ],
             [
              0.6666666666666666,
              "#ed7953"
             ],
             [
              0.7777777777777778,
              "#fb9f3a"
             ],
             [
              0.8888888888888888,
              "#fdca26"
             ],
             [
              1,
              "#f0f921"
             ]
            ],
            "type": "surface"
           }
          ],
          "table": [
           {
            "cells": {
             "fill": {
              "color": "#EBF0F8"
             },
             "line": {
              "color": "white"
             }
            },
            "header": {
             "fill": {
              "color": "#C8D4E3"
             },
             "line": {
              "color": "white"
             }
            },
            "type": "table"
           }
          ]
         },
         "layout": {
          "annotationdefaults": {
           "arrowcolor": "#2a3f5f",
           "arrowhead": 0,
           "arrowwidth": 1
          },
          "autotypenumbers": "strict",
          "coloraxis": {
           "colorbar": {
            "outlinewidth": 0,
            "ticks": ""
           }
          },
          "colorscale": {
           "diverging": [
            [
             0,
             "#8e0152"
            ],
            [
             0.1,
             "#c51b7d"
            ],
            [
             0.2,
             "#de77ae"
            ],
            [
             0.3,
             "#f1b6da"
            ],
            [
             0.4,
             "#fde0ef"
            ],
            [
             0.5,
             "#f7f7f7"
            ],
            [
             0.6,
             "#e6f5d0"
            ],
            [
             0.7,
             "#b8e186"
            ],
            [
             0.8,
             "#7fbc41"
            ],
            [
             0.9,
             "#4d9221"
            ],
            [
             1,
             "#276419"
            ]
           ],
           "sequential": [
            [
             0,
             "#0d0887"
            ],
            [
             0.1111111111111111,
             "#46039f"
            ],
            [
             0.2222222222222222,
             "#7201a8"
            ],
            [
             0.3333333333333333,
             "#9c179e"
            ],
            [
             0.4444444444444444,
             "#bd3786"
            ],
            [
             0.5555555555555556,
             "#d8576b"
            ],
            [
             0.6666666666666666,
             "#ed7953"
            ],
            [
             0.7777777777777778,
             "#fb9f3a"
            ],
            [
             0.8888888888888888,
             "#fdca26"
            ],
            [
             1,
             "#f0f921"
            ]
           ],
           "sequentialminus": [
            [
             0,
             "#0d0887"
            ],
            [
             0.1111111111111111,
             "#46039f"
            ],
            [
             0.2222222222222222,
             "#7201a8"
            ],
            [
             0.3333333333333333,
             "#9c179e"
            ],
            [
             0.4444444444444444,
             "#bd3786"
            ],
            [
             0.5555555555555556,
             "#d8576b"
            ],
            [
             0.6666666666666666,
             "#ed7953"
            ],
            [
             0.7777777777777778,
             "#fb9f3a"
            ],
            [
             0.8888888888888888,
             "#fdca26"
            ],
            [
             1,
             "#f0f921"
            ]
           ]
          },
          "colorway": [
           "#636efa",
           "#EF553B",
           "#00cc96",
           "#ab63fa",
           "#FFA15A",
           "#19d3f3",
           "#FF6692",
           "#B6E880",
           "#FF97FF",
           "#FECB52"
          ],
          "font": {
           "color": "#2a3f5f"
          },
          "geo": {
           "bgcolor": "white",
           "lakecolor": "white",
           "landcolor": "#E5ECF6",
           "showlakes": true,
           "showland": true,
           "subunitcolor": "white"
          },
          "hoverlabel": {
           "align": "left"
          },
          "hovermode": "closest",
          "mapbox": {
           "style": "light"
          },
          "paper_bgcolor": "white",
          "plot_bgcolor": "#E5ECF6",
          "polar": {
           "angularaxis": {
            "gridcolor": "white",
            "linecolor": "white",
            "ticks": ""
           },
           "bgcolor": "#E5ECF6",
           "radialaxis": {
            "gridcolor": "white",
            "linecolor": "white",
            "ticks": ""
           }
          },
          "scene": {
           "xaxis": {
            "backgroundcolor": "#E5ECF6",
            "gridcolor": "white",
            "gridwidth": 2,
            "linecolor": "white",
            "showbackground": true,
            "ticks": "",
            "zerolinecolor": "white"
           },
           "yaxis": {
            "backgroundcolor": "#E5ECF6",
            "gridcolor": "white",
            "gridwidth": 2,
            "linecolor": "white",
            "showbackground": true,
            "ticks": "",
            "zerolinecolor": "white"
           },
           "zaxis": {
            "backgroundcolor": "#E5ECF6",
            "gridcolor": "white",
            "gridwidth": 2,
            "linecolor": "white",
            "showbackground": true,
            "ticks": "",
            "zerolinecolor": "white"
           }
          },
          "shapedefaults": {
           "line": {
            "color": "#2a3f5f"
           }
          },
          "ternary": {
           "aaxis": {
            "gridcolor": "white",
            "linecolor": "white",
            "ticks": ""
           },
           "baxis": {
            "gridcolor": "white",
            "linecolor": "white",
            "ticks": ""
           },
           "bgcolor": "#E5ECF6",
           "caxis": {
            "gridcolor": "white",
            "linecolor": "white",
            "ticks": ""
           }
          },
          "title": {
           "x": 0.05
          },
          "xaxis": {
           "automargin": true,
           "gridcolor": "white",
           "linecolor": "white",
           "ticks": "",
           "title": {
            "standoff": 15
           },
           "zerolinecolor": "white",
           "zerolinewidth": 2
          },
          "yaxis": {
           "automargin": true,
           "gridcolor": "white",
           "linecolor": "white",
           "ticks": "",
           "title": {
            "standoff": 15
           },
           "zerolinecolor": "white",
           "zerolinewidth": 2
          }
         }
        },
        "xaxis": {
         "anchor": "y",
         "autorange": true,
         "domain": [
          0,
          1
         ],
         "range": [
          0,
          408
         ],
         "title": {
          "text": "x"
         },
         "type": "linear"
        },
        "yaxis": {
         "anchor": "x",
         "autorange": true,
         "domain": [
          0,
          1
         ],
         "range": [
          -108.9255542755127,
          -21.01444435119629
         ],
         "title": {
          "text": "y"
         },
         "type": "linear"
        }
       }
      },
      "image/png": "[encoded data removed]",
      "text/html": [
       "<div>                            <div id=\"296c539d-574a-4b5e-99da-b02fb5ae54f3\" class=\"plotly-graph-div\" style=\"height:525px; width:100%;\"></div>            <script type=\"text/javascript\">                require([\"plotly\"], function(Plotly) {                    window.PLOTLYENV=window.PLOTLYENV || {};                                    if (document.getElementById(\"296c539d-574a-4b5e-99da-b02fb5ae54f3\")) {                    Plotly.newPlot(                        \"296c539d-574a-4b5e-99da-b02fb5ae54f3\",                        [{\"hovertemplate\":\"x=%{x}\\u003cbr\\u003ey=%{y}\\u003cextra\\u003e\\u003c\\u002fextra\\u003e\",\"legendgroup\":\"\",\"line\":{\"color\":\"#636efa\",\"dash\":\"solid\"},\"marker\":{\"symbol\":\"circle\"},\"mode\":\"lines\",\"name\":\"\",\"orientation\":\"v\",\"showlegend\":false,\"x\":[0,1,2,3,4,5,6,7,8,9,10,11,12,13,14,15,16,17,18,19,20,21,22,23,24,25,26,27,28,29,30,31,32,33,34,35,36,37,38,39,40,41,42,43,44,45,46,47,48,49,50,51,52,53,54,55,56,57,58,59,60,61,62,63,64,65,66,67,68,69,70,71,72,73,74,75,76,77,78,79,80,81,82,83,84,85,86,87,88,89,90,91,92,93,94,95,96,97,98,99,100,101,102,103,104,105,106,107,108,109,110,111,112,113,114,115,116,117,118,119,120,121,122,123,124,125,126,127,128,129,130,131,132,133,134,135,136,137,138,139,140,141,142,143,144,145,146,147,148,149,150,151,152,153,154,155,156,157,158,159,160,161,162,163,164,165,166,167,168,169,170,171,172,173,174,175,176,177,178,179,180,181,182,183,184,185,186,187,188,189,190,191,192,193,194,195,196,197,198,199,200,201,202,203,204,205,206,207,208,209,210,211,212,213,214,215,216,217,218,219,220,221,222,223,224,225,226,227,228,229,230,231,232,233,234,235,236,237,238,239,240,241,242,243,244,245,246,247,248,249,250,251,252,253,254,255,256,257,258,259,260,261,262,263,264,265,266,267,268,269,270,271,272,273,274,275,276,277,278,279,280,281,282,283,284,285,286,287,288,289,290,291,292,293,294,295,296,297,298,299,300,301,302,303,304,305,306,307,308,309,310,311,312,313,314,315,316,317,318,319,320,321,322,323,324,325,326,327,328,329,330,331,332,333,334,335,336,337,338,339,340,341,342,343,344,345,346,347,348,349,350,351,352,353,354,355,356,357,358,359,360,361,362,363,364,365,366,367,368,369,370,371,372,373,374,375,376,377,378,379,380,381,382,383,384,385,386,387,388,389,390,391,392,393,394,395,396,397,398,399,400,401,402,403,404,405,406,407,408],\"xaxis\":\"x\",\"y\":[-101.61000061035156,-94.97000122070312,-103.94000244140625,-103.66000366210938,-103.88999938964844,-103.87999725341797,-104.06999969482422,-104.5199966430664,-102.55999755859375,-104.52999877929688,-104.4800033569336,-103.97000122070312,-104.45999908447266,-96.93000030517578,-101.51000213623047,-100.81999969482422,-93.58999633789062,-91.87999725341797,-98.88999938964844,-94.77999877929688,-87.5,-83.19000244140625,-94.33999633789062,-93.05000305175781,-86.95999908447266,-91.9800033569336,-87.33000183105469,-87.38999938964844,-89.30000305175781,-76.16000366210938,-78.22000122070312,-85.87999725341797,-86.47000122070312,-86.41000366210938,-86.44999694824219,-85.66000366210938,-83.44000244140625,-86.01000213623047,-85.80999755859375,-85.48999786376953,-85.55999755859375,-81.3499984741211,-85.08999633789062,-85.91999816894531,-81.37999725341797,-82.16999816894531,-85.26000213623047,-85.20999908447266,-83.77999877929688,-85.56999969482422,-85.06999969482422,-85.26000213623047,-85.3499984741211,-71.66999816894531,-85.37999725341797,-55.709999084472656,-78.23999786376953,-77.7300033569336,-81.93000030517578,-84.56999969482422,-84.66000366210938,-84.6500015258789,-83.56999969482422,-83.72000122070312,-84.87000274658203,-75.41000366210938,-85.25,-84.33000183105469,-84.70999908447266,-79.72000122070312,-83.33999633789062,-84.27999877929688,-83.20999908447266,-84.66000366210938,-46.060001373291016,-84.45999908447266,-56.900001525878906,-64.18000030517578,-55.56999969482422,-83.48999786376953,-63.68000030517578,-77.31999969482422,-75.56999969482422,-71.69000244140625,-78.5,-77.16999816894531,-63.56999969482422,-71.93000030517578,-75.02999877929688,-73.73999786376953,-74.97000122070312,-77.69000244140625,-73.87999725341797,-74.43000030517578,-72.52999877929688,-82.4800033569336,-72.44999694824219,-83.52999877929688,-83.11000061035156,-39.20000076293945,-84.05000305175781,-69.69999694824219,-80.19999694824219,-84.04000091552734,-77.26000213623047,-74.77999877929688,-71.56999969482422,-72.63999938964844,-74.36000061035156,-80.11000061035156,-82.41999816894531,-82.95999908447266,-82.7699966430664,-69.8499984741211,-80.51000213623047,-83.08000183105469,-81.1500015258789,-80.4000015258789,-77.61000061035156,-78.45999908447266,-82.66999816894531,-76.5999984741211,-81.08999633789062,-82.30999755859375,-67.58999633789062,-75.63999938964844,-74.55000305175781,-81.66000366210938,-73.77999877929688,-72.26000213623047,-81.80000305175781,-73.47000122070312,-74.02999877929688,-82.37999725341797,-83.9800033569336,-77.30000305175781,-81.94000244140625,-84.01000213623047,-65.02999877929688,-76.80000305175781,-75.16999816894531,-68.88999938964844,-66.12999725341797,-83.44000244140625,-80.19999694824219,-81.56999969482422,-79.83000183105469,-82.19999694824219,-83.69999694824219,-83.95999908447266,-82.19000244140625,-76.7300033569336,-79.63999938964844,-78.72000122070312,-83.48999786376953,-82.04000091552734,-80.56999969482422,-76.8499984741211,-75.20999908447266,-78.16999816894531,-73.54000091552734,-80.05000305175781,-57.5099983215332,-73.12999725341797,-81.11000061035156,-64.1500015258789,-65.23999786376953,-78.08000183105469,-62.41999816894531,-64.81999969482422,-69.2699966430664,-73.05000305175781,-50.59000015258789,-76.05000305175781,-65.81999969482422,-66.62999725341797,-78.38999938964844,-78.3499984741211,-63.650001525878906,-75.9000015258789,-60.22999954223633,-81.7699966430664,-36.66999816894531,-75.68000030517578,-77.33000183105469,-65.45999908447266,-36.619998931884766,-74.43000030517578,-81.30000305175781,-65.0999984741211,-66.55000305175781,-77.38999938964844,-80.33999633789062,-70.5199966430664,-81.4000015258789,-67.91000366210938,-70.37000274658203,-48.779998779296875,-60.279998779296875,-69.9800033569336,-67.66999816894531,-60.0099983215332,-79.02999877929688,-81.93000030517578,-62.7400016784668,-78.16000366210938,-79.30000305175781,-77.08999633789062,-82.54000091552734,-81.62000274658203,-81.5999984741211,-82.61000061035156,-81.5199966430664,-73.88999938964844,-82.02999877929688,-81.33000183105469,-71.16999816894531,-82.58000183105469,-82.9000015258789,-76.4000015258789,-78.33999633789062,-59.380001068115234,-81.61000061035156,-78.52999877929688,-79.16000366210938,-65.51000213623047,-80.38999938964844,-83.08000183105469,-81.30000305175781,-82.19000244140625,-74.16000366210938,-50.9900016784668,-53.45000076293945,-71.81999969482422,-77.06999969482422,-82.70999908447266,-82.7300033569336,-79.95999908447266,-50.439998626708984,-49.459999084472656,-79.66999816894531,-82.41999816894531,-55.58000183105469,-58.119998931884766,-73.04000091552734,-43.54999923706055,-45.88999938964844,-80.25,-75.83999633789062,-42.91999816894531,-72.58000183105469,-81.68000030517578,-63.25,-72.33999633789062,-80.33999633789062,-77.4000015258789,-56.56999969482422,-83.2300033569336,-83.75,-78.37000274658203,-83.75,-73.7300033569336,-83.29000091552734,-70.83000183105469,-61.689998626708984,-52.38999938964844,-68.31999969482422,-80.41999816894531,-63.959999084472656,-83.61000061035156,-71.23999786376953,-79.13999938964844,-80.18000030517578,-84.51000213623047,-85.27999877929688,-72.33000183105469,-74.91999816894531,-82.5,-78.8499984741211,-80.70999908447266,-83.7300033569336,-79.47000122070312,-83.61000061035156,-81.26000213623047,-85.12999725341797,-84.8499984741211,-72.0,-84.48999786376953,-71.2699966430664,-58.470001220703125,-83.41000366210938,-77.66000366210938,-83.02999877929688,-84.7300033569336,-77.19000244140625,-80.38999938964844,-83.12999725341797,-78.58999633789062,-84.08000183105469,-84.05000305175781,-75.2300033569336,-83.06999969482422,-82.52999877929688,-78.69999694824219,-83.76000213623047,-63.220001220703125,-69.12000274658203,-84.04000091552734,-78.79000091552734,-82.56999969482422,-82.9800033569336,-82.69999694824219,-80.31999969482422,-83.83000183105469,-69.11000061035156,-51.58000183105469,-76.88999938964844,-82.7300033569336,-83.29000091552734,-77.81999969482422,-82.94999694824219,-83.37999725341797,-62.2599983215332,-83.12999725341797,-82.44000244140625,-82.38999938964844,-82.77999877929688,-47.54999923706055,-48.7400016784668,-63.150001525878906,-79.56999969482422,-83.2300033569336,-83.29000091552734,-81.27999877929688,-83.31999969482422,-83.12999725341797,-83.2699966430664,-82.66000366210938,-79.33000183105469,-83.29000091552734,-82.69999694824219,-78.56999969482422,-64.16000366210938,-80.88999938964844,-81.62000274658203,-56.45000076293945,-37.119998931884766,-73.4000015258789,-71.91000366210938,-61.849998474121094,-64.12000274658203,-67.20999908447266,-25.40999984741211,-29.18000030517578,-72.58000183105469,-72.3499984741211,-82.76000213623047,-83.30000305175781,-82.44999694824219,-84.08999633789062,-83.69000244140625,-81.37999725341797,-83.7699966430664,-71.25,-83.44999694824219,-78.58999633789062,-77.55999755859375,-78.86000061035156,-85.02999877929688,-84.52999877929688,-84.62000274658203,-82.69999694824219,-67.68000030517578,-85.5,-71.38999938964844,-73.9800033569336,-86.13999938964844,-81.45999908447266,-78.12000274658203,-87.19000244140625,-76.72000122070312,-88.77999877929688,-82.36000061035156,-90.55999755859375,-82.62999725341797,-84.29000091552734,-92.72000122070312,-94.7300033569336,-90.06999969482422,-95.52999877929688,-98.05000305175781,-95.26000213623047,-100.02999877929688,-101.04000091552734,-102.51000213623047,-102.83999633789062,-103.83000183105469,-103.9000015258789,-104.4000015258789,-104.19000244140625,-103.79000091552734,-104.12999725341797,-103.83000183105469,-103.97000122070312,-103.8499984741211,-103.44000244140625,-104.13999938964844,-103.91000366210938,-103.75],\"yaxis\":\"y\",\"type\":\"scatter\"}],                        {\"template\":{\"data\":{\"histogram2dcontour\":[{\"type\":\"histogram2dcontour\",\"colorbar\":{\"outlinewidth\":0,\"ticks\":\"\"},\"colorscale\":[[0.0,\"#0d0887\"],[0.1111111111111111,\"#46039f\"],[0.2222222222222222,\"#7201a8\"],[0.3333333333333333,\"#9c179e\"],[0.4444444444444444,\"#bd3786\"],[0.5555555555555556,\"#d8576b\"],[0.6666666666666666,\"#ed7953\"],[0.7777777777777778,\"#fb9f3a\"],[0.8888888888888888,\"#fdca26\"],[1.0,\"#f0f921\"]]}],\"choropleth\":[{\"type\":\"choropleth\",\"colorbar\":{\"outlinewidth\":0,\"ticks\":\"\"}}],\"histogram2d\":[{\"type\":\"histogram2d\",\"colorbar\":{\"outlinewidth\":0,\"ticks\":\"\"},\"colorscale\":[[0.0,\"#0d0887\"],[0.1111111111111111,\"#46039f\"],[0.2222222222222222,\"#7201a8\"],[0.3333333333333333,\"#9c179e\"],[0.4444444444444444,\"#bd3786\"],[0.5555555555555556,\"#d8576b\"],[0.6666666666666666,\"#ed7953\"],[0.7777777777777778,\"#fb9f3a\"],[0.8888888888888888,\"#fdca26\"],[1.0,\"#f0f921\"]]}],\"heatmap\":[{\"type\":\"heatmap\",\"colorbar\":{\"outlinewidth\":0,\"ticks\":\"\"},\"colorscale\":[[0.0,\"#0d0887\"],[0.1111111111111111,\"#46039f\"],[0.2222222222222222,\"#7201a8\"],[0.3333333333333333,\"#9c179e\"],[0.4444444444444444,\"#bd3786\"],[0.5555555555555556,\"#d8576b\"],[0.6666666666666666,\"#ed7953\"],[0.7777777777777778,\"#fb9f3a\"],[0.8888888888888888,\"#fdca26\"],[1.0,\"#f0f921\"]]}],\"heatmapgl\":[{\"type\":\"heatmapgl\",\"colorbar\":{\"outlinewidth\":0,\"ticks\":\"\"},\"colorscale\":[[0.0,\"#0d0887\"],[0.1111111111111111,\"#46039f\"],[0.2222222222222222,\"#7201a8\"],[0.3333333333333333,\"#9c179e\"],[0.4444444444444444,\"#bd3786\"],[0.5555555555555556,\"#d8576b\"],[0.6666666666666666,\"#ed7953\"],[0.7777777777777778,\"#fb9f3a\"],[0.8888888888888888,\"#fdca26\"],[1.0,\"#f0f921\"]]}],\"contourcarpet\":[{\"type\":\"contourcarpet\",\"colorbar\":{\"outlinewidth\":0,\"ticks\":\"\"}}],\"contour\":[{\"type\":\"contour\",\"colorbar\":{\"outlinewidth\":0,\"ticks\":\"\"},\"colorscale\":[[0.0,\"#0d0887\"],[0.1111111111111111,\"#46039f\"],[0.2222222222222222,\"#7201a8\"],[0.3333333333333333,\"#9c179e\"],[0.4444444444444444,\"#bd3786\"],[0.5555555555555556,\"#d8576b\"],[0.6666666666666666,\"#ed7953\"],[0.7777777777777778,\"#fb9f3a\"],[0.8888888888888888,\"#fdca26\"],[1.0,\"#f0f921\"]]}],\"surface\":[{\"type\":\"surface\",\"colorbar\":{\"outlinewidth\":0,\"ticks\":\"\"},\"colorscale\":[[0.0,\"#0d0887\"],[0.1111111111111111,\"#46039f\"],[0.2222222222222222,\"#7201a8\"],[0.3333333333333333,\"#9c179e\"],[0.4444444444444444,\"#bd3786\"],[0.5555555555555556,\"#d8576b\"],[0.6666666666666666,\"#ed7953\"],[0.7777777777777778,\"#fb9f3a\"],[0.8888888888888888,\"#fdca26\"],[1.0,\"#f0f921\"]]}],\"mesh3d\":[{\"type\":\"mesh3d\",\"colorbar\":{\"outlinewidth\":0,\"ticks\":\"\"}}],\"scatter\":[{\"fillpattern\":{\"fillmode\":\"overlay\",\"size\":10,\"solidity\":0.2},\"type\":\"scatter\"}],\"parcoords\":[{\"type\":\"parcoords\",\"line\":{\"colorbar\":{\"outlinewidth\":0,\"ticks\":\"\"}}}],\"scatterpolargl\":[{\"type\":\"scatterpolargl\",\"marker\":{\"colorbar\":{\"outlinewidth\":0,\"ticks\":\"\"}}}],\"bar\":[{\"error_x\":{\"color\":\"#2a3f5f\"},\"error_y\":{\"color\":\"#2a3f5f\"},\"marker\":{\"line\":{\"color\":\"#E5ECF6\",\"width\":0.5},\"pattern\":{\"fillmode\":\"overlay\",\"size\":10,\"solidity\":0.2}},\"type\":\"bar\"}],\"scattergeo\":[{\"type\":\"scattergeo\",\"marker\":{\"colorbar\":{\"outlinewidth\":0,\"ticks\":\"\"}}}],\"scatterpolar\":[{\"type\":\"scatterpolar\",\"marker\":{\"colorbar\":{\"outlinewidth\":0,\"ticks\":\"\"}}}],\"histogram\":[{\"marker\":{\"pattern\":{\"fillmode\":\"overlay\",\"size\":10,\"solidity\":0.2}},\"type\":\"histogram\"}],\"scattergl\":[{\"type\":\"scattergl\",\"marker\":{\"colorbar\":{\"outlinewidth\":0,\"ticks\":\"\"}}}],\"scatter3d\":[{\"type\":\"scatter3d\",\"line\":{\"colorbar\":{\"outlinewidth\":0,\"ticks\":\"\"}},\"marker\":{\"colorbar\":{\"outlinewidth\":0,\"ticks\":\"\"}}}],\"scattermapbox\":[{\"type\":\"scattermapbox\",\"marker\":{\"colorbar\":{\"outlinewidth\":0,\"ticks\":\"\"}}}],\"scatterternary\":[{\"type\":\"scatterternary\",\"marker\":{\"colorbar\":{\"outlinewidth\":0,\"ticks\":\"\"}}}],\"scattercarpet\":[{\"type\":\"scattercarpet\",\"marker\":{\"colorbar\":{\"outlinewidth\":0,\"ticks\":\"\"}}}],\"carpet\":[{\"aaxis\":{\"endlinecolor\":\"#2a3f5f\",\"gridcolor\":\"white\",\"linecolor\":\"white\",\"minorgridcolor\":\"white\",\"startlinecolor\":\"#2a3f5f\"},\"baxis\":{\"endlinecolor\":\"#2a3f5f\",\"gridcolor\":\"white\",\"linecolor\":\"white\",\"minorgridcolor\":\"white\",\"startlinecolor\":\"#2a3f5f\"},\"type\":\"carpet\"}],\"table\":[{\"cells\":{\"fill\":{\"color\":\"#EBF0F8\"},\"line\":{\"color\":\"white\"}},\"header\":{\"fill\":{\"color\":\"#C8D4E3\"},\"line\":{\"color\":\"white\"}},\"type\":\"table\"}],\"barpolar\":[{\"marker\":{\"line\":{\"color\":\"#E5ECF6\",\"width\":0.5},\"pattern\":{\"fillmode\":\"overlay\",\"size\":10,\"solidity\":0.2}},\"type\":\"barpolar\"}],\"pie\":[{\"automargin\":true,\"type\":\"pie\"}]},\"layout\":{\"autotypenumbers\":\"strict\",\"colorway\":[\"#636efa\",\"#EF553B\",\"#00cc96\",\"#ab63fa\",\"#FFA15A\",\"#19d3f3\",\"#FF6692\",\"#B6E880\",\"#FF97FF\",\"#FECB52\"],\"font\":{\"color\":\"#2a3f5f\"},\"hovermode\":\"closest\",\"hoverlabel\":{\"align\":\"left\"},\"paper_bgcolor\":\"white\",\"plot_bgcolor\":\"#E5ECF6\",\"polar\":{\"bgcolor\":\"#E5ECF6\",\"angularaxis\":{\"gridcolor\":\"white\",\"linecolor\":\"white\",\"ticks\":\"\"},\"radialaxis\":{\"gridcolor\":\"white\",\"linecolor\":\"white\",\"ticks\":\"\"}},\"ternary\":{\"bgcolor\":\"#E5ECF6\",\"aaxis\":{\"gridcolor\":\"white\",\"linecolor\":\"white\",\"ticks\":\"\"},\"baxis\":{\"gridcolor\":\"white\",\"linecolor\":\"white\",\"ticks\":\"\"},\"caxis\":{\"gridcolor\":\"white\",\"linecolor\":\"white\",\"ticks\":\"\"}},\"coloraxis\":{\"colorbar\":{\"outlinewidth\":0,\"ticks\":\"\"}},\"colorscale\":{\"sequential\":[[0.0,\"#0d0887\"],[0.1111111111111111,\"#46039f\"],[0.2222222222222222,\"#7201a8\"],[0.3333333333333333,\"#9c179e\"],[0.4444444444444444,\"#bd3786\"],[0.5555555555555556,\"#d8576b\"],[0.6666666666666666,\"#ed7953\"],[0.7777777777777778,\"#fb9f3a\"],[0.8888888888888888,\"#fdca26\"],[1.0,\"#f0f921\"]],\"sequentialminus\":[[0.0,\"#0d0887\"],[0.1111111111111111,\"#46039f\"],[0.2222222222222222,\"#7201a8\"],[0.3333333333333333,\"#9c179e\"],[0.4444444444444444,\"#bd3786\"],[0.5555555555555556,\"#d8576b\"],[0.6666666666666666,\"#ed7953\"],[0.7777777777777778,\"#fb9f3a\"],[0.8888888888888888,\"#fdca26\"],[1.0,\"#f0f921\"]],\"diverging\":[[0,\"#8e0152\"],[0.1,\"#c51b7d\"],[0.2,\"#de77ae\"],[0.3,\"#f1b6da\"],[0.4,\"#fde0ef\"],[0.5,\"#f7f7f7\"],[0.6,\"#e6f5d0\"],[0.7,\"#b8e186\"],[0.8,\"#7fbc41\"],[0.9,\"#4d9221\"],[1,\"#276419\"]]},\"xaxis\":{\"gridcolor\":\"white\",\"linecolor\":\"white\",\"ticks\":\"\",\"title\":{\"standoff\":15},\"zerolinecolor\":\"white\",\"automargin\":true,\"zerolinewidth\":2},\"yaxis\":{\"gridcolor\":\"white\",\"linecolor\":\"white\",\"ticks\":\"\",\"title\":{\"standoff\":15},\"zerolinecolor\":\"white\",\"automargin\":true,\"zerolinewidth\":2},\"scene\":{\"xaxis\":{\"backgroundcolor\":\"#E5ECF6\",\"gridcolor\":\"white\",\"linecolor\":\"white\",\"showbackground\":true,\"ticks\":\"\",\"zerolinecolor\":\"white\",\"gridwidth\":2},\"yaxis\":{\"backgroundcolor\":\"#E5ECF6\",\"gridcolor\":\"white\",\"linecolor\":\"white\",\"showbackground\":true,\"ticks\":\"\",\"zerolinecolor\":\"white\",\"gridwidth\":2},\"zaxis\":{\"backgroundcolor\":\"#E5ECF6\",\"gridcolor\":\"white\",\"linecolor\":\"white\",\"showbackground\":true,\"ticks\":\"\",\"zerolinecolor\":\"white\",\"gridwidth\":2}},\"shapedefaults\":{\"line\":{\"color\":\"#2a3f5f\"}},\"annotationdefaults\":{\"arrowcolor\":\"#2a3f5f\",\"arrowhead\":0,\"arrowwidth\":1},\"geo\":{\"bgcolor\":\"white\",\"landcolor\":\"#E5ECF6\",\"subunitcolor\":\"white\",\"showland\":true,\"showlakes\":true,\"lakecolor\":\"white\"},\"title\":{\"x\":0.05},\"mapbox\":{\"style\":\"light\"}}},\"xaxis\":{\"anchor\":\"y\",\"domain\":[0.0,1.0],\"title\":{\"text\":\"x\"}},\"yaxis\":{\"anchor\":\"x\",\"domain\":[0.0,1.0],\"title\":{\"text\":\"y\"}},\"legend\":{\"tracegroupgap\":0},\"margin\":{\"t\":60}},                        {\"responsive\": true}                    ).then(function(){\n",
       "                            \n",
       "var gd = document.getElementById('296c539d-574a-4b5e-99da-b02fb5ae54f3');\n",
       "var x = new MutationObserver(function (mutations, observer) {{\n",
       "        var display = window.getComputedStyle(gd).display;\n",
       "        if (!display || display === 'none') {{\n",
       "            console.log([gd, 'removed!']);\n",
       "            Plotly.purge(gd);\n",
       "            observer.disconnect();\n",
       "        }}\n",
       "}});\n",
       "\n",
       "// Listen for the removal of the full notebook cells\n",
       "var notebookContainer = gd.closest('#notebook-container');\n",
       "if (notebookContainer) {{\n",
       "    x.observe(notebookContainer, {childList: true});\n",
       "}}\n",
       "\n",
       "// Listen for the clearing of the current output cell\n",
       "var outputEl = gd.closest('.output');\n",
       "if (outputEl) {{\n",
       "    x.observe(outputEl, {childList: true});\n",
       "}}\n",
       "\n",
       "                        })                };                });            </script>        </div>"
      ]
     },
     "metadata": {},
     "output_type": "display_data"
    }
   ],
   "source": [
    "# plotly\n",
    "import plotly.express as px\n",
    "# Resample size (e.g., take max of every 100 points)\n",
    "chunk_size = 40\n",
    "data = fft\n",
    "# Reshape and take the max\n",
    "reduced_data_max = data[:len(data) // chunk_size * chunk_size].reshape(-1, chunk_size).max(axis=1)\n",
    "px.line(y=reduced_data_max)\n"
   ]
  },
  {
   "cell_type": "code",
   "execution_count": null,
   "metadata": {},
   "outputs": [
    {
     "data": {
      "text/plain": [
       "16384"
      ]
     },
     "execution_count": 47,
     "metadata": {},
     "output_type": "execute_result"
    }
   ],
   "source": [
    "len(fft)"
   ]
  }
 ],
 "metadata": {
  "kernelspec": {
   "display_name": ".venv",
   "language": "python",
   "name": "python3"
  },
  "language_info": {
   "codemirror_mode": {
    "name": "ipython",
    "version": 3
   },
   "file_extension": ".py",
   "mimetype": "text/x-python",
   "name": "python",
   "nbconvert_exporter": "python",
   "pygments_lexer": "ipython3",
   "version": "3.13.4"
  }
 },
 "nbformat": 4,
 "nbformat_minor": 4
}
