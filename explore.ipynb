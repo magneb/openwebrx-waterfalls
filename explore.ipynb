{
 "cells": [
  {
   "cell_type": "markdown",
   "metadata": {},
   "source": [
    "# Exploring Open Web RX waterfall data\n",
    "An exercise in data aquisition and signals processing.\n",
    "\n",
    "## Metadata collection\n",
    "\n",
    "First off we will select a site and get some metadata to assess if we can use it."
   ]
  },
  {
   "cell_type": "code",
   "execution_count": null,
   "metadata": {},
   "outputs": [],
   "source": [
    "# Lets explore some open web rx data.\n",
    "# we could visit and scrape https://www.receiverbook.de/?type=openwebrx for links... \n",
    "# but lets leave that for later and go straight to a single source. \n",
    "\n",
    "import json\n",
    "import httpx\n",
    "\n",
    "# \"randomly\" chosen openwebrx site\n",
    "site = \"https://2.websdr.jestok.com\"\n",
    "\n",
    "# Let's fetch the features of the site first\n",
    "result = httpx.get(site + \"/api/features\")\n",
    "result.raise_for_status()\n",
    "features = result.json()"
   ]
  },
  {
   "cell_type": "code",
   "execution_count": null,
   "metadata": {},
   "outputs": [],
   "source": [
    "# Now lets get some metrics from the openwebrx device to see how its doing.\n",
    "result = httpx.get(site + \"/metrics.json\")\n",
    "result.raise_for_status()\n",
    "metrics = result.json()\n",
    "# Note that if the user count is high, we might want to consider a different site."
   ]
  },
  {
   "cell_type": "code",
   "execution_count": null,
   "metadata": {},
   "outputs": [],
   "source": [
    "# Lets get some metadata to see where the receiver is located. (asl = above sea level)\n",
    "result = httpx.get(site + \"/status.json\")\n",
    "result.raise_for_status()\n",
    "status = result.json()\n",
    "status[\"receiver\"]"
   ]
  },
  {
   "cell_type": "markdown",
   "metadata": {},
   "source": [
    "Okay, the status json should look something line this:\n",
    "```\n",
    "{'name': 'SR4DON OLSZTYN/POLAND 17m-160m',\n",
    " 'admin': 'sdr@jestok.com',\n",
    " 'gps': {'lat': 53.7832485938901, 'lon': 20.4547299031047},\n",
    " 'asl': 134,\n",
    " 'location': 'Olsztyn, Poland'}\n",
    "```\n",
    "So it looks like this particular receiver is located in Poland so lets move on with that.\n",
    "\n",
    "## Waterfall data\n",
    "\n",
    "Lets have a look at what the web viewer is getting when opening up the site. \n",
    "When you visit an openwebrx page you are greeted by this wonderfull (near) real-time waterfall.\n",
    "So lets have a look at that datastream, shall we "
   ]
  },
  {
   "cell_type": "code",
   "execution_count": null,
   "metadata": {},
   "outputs": [],
   "source": [
    "# Get 20 items from the websocket stream\n",
    "from websockets.asyncio.client import connect\n",
    "\n",
    "messages = []\n",
    "async with connect(\"wss://2.websdr.jestok.com/ws/\") as ws:\n",
    "    await ws.send(\"SERVER DE CLIENT client=lib/FrequencyDisplay.js type=receiver\")\n",
    "    for _ in range(20):\n",
    "        msg = await ws.recv()\n",
    "        messages.append(msg)\n",
    "\n",
    "print(len(messages))"
   ]
  },
  {
   "cell_type": "code",
   "execution_count": null,
   "metadata": {
    "scrolled": true
   },
   "outputs": [],
   "source": [
    "messages"
   ]
  },
  {
   "cell_type": "markdown",
   "metadata": {},
   "source": [
    "Great scott! its really quite fast... we get a bunch more metadata like the the position of the receiver, some dial frequencies, bands etc.. Then we get a bunch of binary data! cool... but what is it? \n",
    "```\n",
    "b'\\x01\\xff\\xff\\xff\\xff\\x0e\\x08\\x08\\x08\\x08\\x88\\x00\\x08\\x08...\n",
    "```\n",
    "\n",
    "well, we did get a hint in the config dictionary that came before the data: \n",
    "```\n",
    "\"waterfall_scheme\": \"TeejeezWaterfall\", \"tuning_precision\": 2, \"fft_size\": 16384, \"audio_compression\": \"adpcm\", \"waterfall_auto_levels\": {\"min\": 3.0, \"max\": 10.0}\n",
    "```"
   ]
  },
  {
   "cell_type": "code",
   "execution_count": null,
   "metadata": {
    "scrolled": true
   },
   "outputs": [],
   "source": [
    "# Select a binary string to proceed with\n",
    "message = messages[18]\n",
    "message"
   ]
  },
  {
   "cell_type": "code",
   "execution_count": null,
   "metadata": {},
   "outputs": [],
   "source": [
    "# Load the config and get the start frequency\n",
    "config = json.loads(messages[6])\n",
    "center_freq = config[\"value\"][\"center_freq\"]\n",
    "start_freq = config[\"value\"][\"start_freq\"]\n",
    "bandwidth = 2*(center_freq - start_freq)\n",
    "stop_freq = start_freq + bandwidth\n",
    "print(f\"{start_freq} - {bandwidth} - {stop_freq}\")"
   ]
  },
  {
   "cell_type": "code",
   "execution_count": null,
   "metadata": {},
   "outputs": [],
   "source": [
    "# We want to get some data from this \n",
    "info = json.loads(messages[2])\n",
    "fft_compression = info[\"value\"][\"fft_compression\"]\n",
    "fft_size = info[\"value\"][\"fft_size\"]\n",
    "position = info[\"value\"][\"receiver_gps\"]\n",
    "info_profile = json.loads(messages[6])\n",
    "profile = info_profile[\"value\"]\n",
    "profile"
   ]
  },
  {
   "cell_type": "code",
   "execution_count": null,
   "metadata": {},
   "outputs": [],
   "source": [
    "# select one of the data rows for processing and load it into an array\n",
    "import numpy as np\n",
    "data_array = np.frombuffer(message[1:], dtype=np.uint8)\n",
    "data_array[25:50]\n",
    "# (Psst: the first byte is the type of message, the second byte is the length of the data, and the rest is the actual data)"
   ]
  },
  {
   "cell_type": "markdown",
   "metadata": {},
   "source": [
    "What the... what on earth is this? \n",
    "8, 129, 136,  13, 116, 233,   1,  24, 128,  26,  17, 169,   3,   122,  48, 159,   0, 136, 128,   8, 128,   2, 136, 184,  44\n",
    "\n",
    "Exciting! But the hint came in the metadata before: \"audio_compression\": \"adpcm\"\n",
    "This is an adaptive differential pulse-code modulation. A very effivient supposedly lossless compression for a digital signal.\n",
    "Well thats cool! Right?!... just me? okaaay... whatever, you're the one reading this. lets parse it.  "
   ]
  },
  {
   "cell_type": "code",
   "execution_count": null,
   "metadata": {},
   "outputs": [],
   "source": [
    "# right about now is a goot time to start timing how long it takes to process the data.\n",
    "from time import perf_counter_ns"
   ]
  },
  {
   "cell_type": "code",
   "execution_count": null,
   "metadata": {},
   "outputs": [],
   "source": [
    "# The bitstream is a split-band ADPCM stream. So we have to split the bytes into 4 bit nibbles. \n",
    "def split_nibbles(byte_array):\n",
    "    high_nibbles = np.bitwise_and(byte_array, 0xF0) >> 4\n",
    "    low_nibbles = np.bitwise_and(byte_array, 0x0F)\n",
    "    return high_nibbles, low_nibbles\n",
    "\n",
    "tic = perf_counter_ns()\n",
    "higher, lower = split_nibbles(data_array)\n",
    "toc = perf_counter_ns()\n",
    "print(f\"Split nibbles took {(toc - tic)/1000} microseconds\")"
   ]
  },
  {
   "cell_type": "code",
   "execution_count": null,
   "metadata": {},
   "outputs": [],
   "source": [
    "# So now that the bytes have been separated into high and low nibbles, we can interleave them.\n",
    "tic = perf_counter_ns()\n",
    "interleaved = np.array([val for pair in zip(lower, higher) for val in pair], dtype=np.uint8)\n",
    "toc = perf_counter_ns()\n",
    "print(f\"interleaving took {(toc - tic)/1000} microseconds\")\n",
    "interleaved"
   ]
  },
  {
   "cell_type": "code",
   "execution_count": null,
   "metadata": {},
   "outputs": [],
   "source": [
    "# So thats the raw ADPCM data in the array, its a bunch of integer numbers ofcourse but lets plot a histogram to get a sense of what kind of numbers there are in there.\n",
    "import matplotlib.pyplot as plt \n",
    "plt.figure()\n",
    "plt.hist(interleaved, bins=255)\n",
    "plt.show()"
   ]
  },
  {
   "cell_type": "markdown",
   "metadata": {},
   "source": [
    "So this is neat, we can see we have an interesting distriubtion of values no higher than 15 which makes sense for a 4 bit byte. \n",
    "PCM, LPCM and ADPCM is commonly used in audio encoding because it is space efficient and very computationally fast to decode.\n",
    "In short, ADPCM uses two internal lookup tables to get a step size, and then applies the difference between the step size and the previously decoded value to obtain a new value. "
   ]
  },
  {
   "cell_type": "code",
   "execution_count": null,
   "metadata": {},
   "outputs": [],
   "source": [
    "# I found a python library that can decode ADPCM data, but its not packaged.\n",
    "# I've downloaded the adpcm.py file and added it to the root of this project, which is what i'll be using here now.\n",
    "# The adpcm library is from https://github.com/karnwatcharasupat/pyADPCM\n",
    "from adpcm import ADPCM\n",
    "\n",
    "# perform an adpmc decode operation on the interleaved data...add()\n",
    "# Remove the first 10 numbers from the list and devide every number by 100\n",
    "\n",
    "adpcm = ADPCM()\n",
    "\n",
    "fft = np.array(adpcm.decode(interleaved), dtype=np.float32)[10:]/100\n",
    "print(len(fft), fft)\n",
    "\n",
    "# If you reference the above metadata from the websocket stream you can see that the fft size is supposed to be 16384, which is why we remove the first 10 numbers as they are essentially an encoding artifact.\n",
    "# The value is "
   ]
  },
  {
   "cell_type": "code",
   "execution_count": null,
   "metadata": {},
   "outputs": [],
   "source": [
    "frequency_range = np.linspace(start_freq, stop_freq, fft_size)/1000000"
   ]
  },
  {
   "cell_type": "code",
   "execution_count": null,
   "metadata": {},
   "outputs": [],
   "source": [
    "# Now plot the completed data array and you should see a spectral plot\n",
    "import matplotlib.pyplot as plt\n",
    "from matplotlib.ticker import FormatStrFormatter\n",
    "%matplotlib inline\n",
    "\n",
    "fig, ax = plt.subplots(figsize=(16,4))\n",
    "plt.ylabel(\"dBm\")\n",
    "line1, =ax.plot(frequency_range, fft)\n",
    "plt.gca().xaxis.set_major_formatter(FormatStrFormatter(\"%f MHz\"))\n",
    "plt.show()  "
   ]
  },
  {
   "cell_type": "code",
   "execution_count": null,
   "metadata": {},
   "outputs": [],
   "source": [
    "# All togheter now...add()\n",
    "import time\n",
    "\n",
    "tic = time.perf_counter()\n",
    "data_array = np.frombuffer(message[1:], dtype=np.uint8)\n",
    "higher, lower = split_nibbles(data_array)\n",
    "interleaved = np.array([val for pair in zip(lower, higher) for val in pair], dtype=np.uint8)\n",
    "fft = np.array(adpcm.decode(interleaved), dtype=np.float32)[10:]/100\n",
    "toc = time.perf_counter()\n",
    "print(toc - tic)"
   ]
  },
  {
   "cell_type": "markdown",
   "metadata": {},
   "source": [
    "So thats... fairly fast now that i started using uv. (before it was like 0.12 ish seconds)\n",
    "But not fast enough to graph in real time with python so i decided to write the modules for nibbling and adpcm in rust to speed things up a bit. \n",
    "\n",
    "(you might have to add the extra modules)\n",
    "\n",
    "```\n",
    "uv pip install -e nibbler\n",
    "uv pip install -e radpcm\n",
    "```"
   ]
  },
  {
   "cell_type": "code",
   "execution_count": null,
   "metadata": {},
   "outputs": [],
   "source": [
    "import numpy as np\n",
    "import time\n",
    "import nibbler\n",
    "import radpcm\n",
    "def decode_fft_bitstream(message: bytes) -> np.ndarray[np.int16]: \n",
    "    # strip the first character and load into array\n",
    "    interleaved = nibbler.split_and_interleave_nibbles(message)\n",
    "    fft = radpcm.decode(interleaved)[10:]/100\n",
    "    return fft\n",
    "tic = time.perf_counter()\n",
    "rfft = decode_fft_bitstream(message[1:])\n",
    "toc = time.perf_counter()\n",
    "print(toc - tic)"
   ]
  },
  {
   "cell_type": "markdown",
   "metadata": {},
   "source": [
    "So that is a performance boost of two orders of magninutde. which i believe would suffice for most use cases i can come up with right now. \n"
   ]
  },
  {
   "cell_type": "markdown",
   "metadata": {},
   "source": [
    "# Realtime processing\n",
    "Okay that was all mostly theoretical stuff, lets look at some graphs."
   ]
  },
  {
   "cell_type": "code",
   "execution_count": null,
   "metadata": {},
   "outputs": [],
   "source": [
    "# Re-import just so we dont have to run the whole script again\n",
    "import numpy as np\n",
    "import nibbler\n",
    "import radpcm\n",
    "\n",
    "import matplotlib.pyplot as plt\n",
    "import httpx\n",
    "import websockets"
   ]
  },
  {
   "cell_type": "code",
   "execution_count": null,
   "metadata": {},
   "outputs": [],
   "source": [
    "import json\n",
    "def handle_info(message: str, receiver: dict) -> dict:\n",
    "    info = json.loads(message)\n",
    "    info_type = info[\"type\"]\n",
    "    match info_type:\n",
    "        case \"config\" | \"receiver_details\":\n",
    "            for key, value in info[\"value\"]: \n",
    "                receiver[key] = value\n",
    "            return receiver\n",
    "        case \"cpuusage\" | \"temp\":\n",
    "            receiver[info_type] = info[\"value\"]\n",
    "            return receiver\n",
    "        case _:\n",
    "            return receiver"
   ]
  },
  {
   "cell_type": "code",
   "execution_count": null,
   "metadata": {},
   "outputs": [],
   "source": [
    "# Configure site url from dashboard. \n",
    "# Get receiver info on demand. \n",
    "\n",
    "site = \"2.websdr.jestok.com\"\n",
    "result = httpx.get(\"https://\" + site + \"/status.json\")\n",
    "result.raise_for_status()\n",
    "status = result.json()\n",
    "receiver = status[\"receiver\"]\n",
    "receiver"
   ]
  },
  {
   "cell_type": "code",
   "execution_count": null,
   "metadata": {},
   "outputs": [],
   "source": [
    "# Connect to the websocket stream and listen for messages.\n",
    "from websockets.asyncio.client import connect\n",
    "n = 1000  # Number of messages to receive\n",
    "fft_data = []\n",
    "\n",
    "async with connect(\"wss://\" + site + \"/ws/\", open_timeout=None, ping_timeout=None) as ws:\n",
    "    await ws.send(\"SERVER DE CLIENT client=lib/FrequencyDisplay.js type=receiver\")\n",
    "    await ws.send('{\"type\":\"connectionproperties\",\"params\":{\"nr_enabled\":false,\"nr_threshold\":0}}')\n",
    "    # await ws.send('{\"type\":\"dspcontrol\",\"params\":{\"low_cut\":150,\"high_cut\":2750,\"offset_freq\":1859450,\"mod\":\"usb\",\"dmr_filter\":3,\"audio_service_id\":0,\"squelch_level\":-150,\"secondary_mod\":false}}')\n",
    "    # await ws.send('{\"type\":\"dspcontrol\",\"action\":\"start\"}')\n",
    "    for _ in range(n):\n",
    "        message = await ws.recv()\n",
    "        match message[0]:\n",
    "            case 1:\n",
    "                fft = decode_fft_bitstream(message[1:])\n",
    "                fft_data.append(fft)\n",
    "                # What to do with the decoded fft...\n",
    "                # Send it to a function that updates the plot in a dashboard. \n",
    "                # Plotly seems like a good option.\n",
    "            # case \"{\":\n",
    "            #     # Update receiver information.\n",
    "            #     receiver = handle_info(message, receiver)\n",
    "            # case \"C\":\n",
    "            #     print(message)\n",
    "            case _:\n",
    "                # print(\"Message not handled: \", message)\n",
    "                pass\n",
    "\n",
    "    \n",
    "print(f\"Received {len(fft_data)} messages with FFT data.\")\n",
    "\n",
    "# Fair warning: With 2000 samples its gonna take 4 minutes to collect."
   ]
  },
  {
   "cell_type": "code",
   "execution_count": null,
   "metadata": {},
   "outputs": [],
   "source": [
    "np.array(fft_data)"
   ]
  },
  {
   "cell_type": "code",
   "execution_count": null,
   "metadata": {},
   "outputs": [],
   "source": [
    "# So now lets finally have a look at the waterfall plot of the data we collected.\n",
    "\n",
    "import plotly.express as px\n",
    "fig = px.imshow(\n",
    "    np.array(fft_data), \n",
    "    aspect=\"auto\", \n",
    "    origin=\"lower\", \n",
    "    labels={\n",
    "        \"x\": \"Frequency (MHz)\",\n",
    "        \"y\": \"Sample\",\n",
    "        \"color\": \"dBm\",\n",
    "    }, \n",
    "    title=f\"Waterfall plot of {site} FFT data\"\n",
    ")\n",
    "x_tics = np.arange(np.array(fft_data).shape[1]) + start_freq/1000000  # Convert to MHz\n",
    "fig.update_xaxes(tickvals=x_tics, ticktext=[f\"{x:.2f} MHz\" for x in x_tics])\n",
    "\n",
    "fig.show()"
   ]
  },
  {
   "cell_type": "markdown",
   "metadata": {},
   "source": [
    "## TODO\n",
    "\n",
    "- Find a way to create a dashboard\n",
    "- make the dashboard interactive to enter, start and stop a websocket connection.\n",
    "- make a realtime spectrogram\n",
    "- create a self updating waterfall plot (fixed window)\n",
    "\n",
    "and once thats done. \n",
    "- Create a database to keep the data in.\n",
    "- Create an ingest tool that loads into the database\n",
    "- Create a way for the dashboard to query the waterfall database and produce an image.\n",
    "- Join that new waterfall viz with the updating one using a subscription to the waterfall stream. "
   ]
  },
  {
   "cell_type": "code",
   "execution_count": null,
   "metadata": {},
   "outputs": [],
   "source": [
    "# plotly\n",
    "import plotly.express as px\n",
    "# Resample size (e.g., take max of every 100 points)\n",
    "chunk_size = 40\n",
    "data = fft\n",
    "# Reshape and take the max\n",
    "reduced_data_max = data[:len(data) // chunk_size * chunk_size].reshape(-1, chunk_size).max(axis=1)\n",
    "px.line(y=reduced_data_max)\n"
   ]
  }
 ],
 "metadata": {
  "kernelspec": {
   "display_name": ".venv",
   "language": "python",
   "name": "python3"
  },
  "language_info": {
   "codemirror_mode": {
    "name": "ipython",
    "version": 3
   },
   "file_extension": ".py",
   "mimetype": "text/x-python",
   "name": "python",
   "nbconvert_exporter": "python",
   "pygments_lexer": "ipython3",
   "version": "3.13.4"
  }
 },
 "nbformat": 4,
 "nbformat_minor": 4
}
